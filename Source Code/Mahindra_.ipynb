{
  "nbformat": 4,
  "nbformat_minor": 0,
  "metadata": {
    "colab": {
      "name": "Mahindra:.ipynb",
      "provenance": [],
      "collapsed_sections": []
    },
    "kernelspec": {
      "name": "python3",
      "display_name": "Python 3"
    },
    "language_info": {
      "name": "python"
    }
  },
  "cells": [
    {
      "cell_type": "code",
      "metadata": {
        "colab": {
          "base_uri": "https://localhost:8080/"
        },
        "id": "nR34pB3lsVC8",
        "outputId": "b98086ae-0432-4b25-e9d2-6bffd16d68f7"
      },
      "source": [
        "import os\n",
        "os.getcwd()\n",
        "from google.colab import drive\n",
        "drive.mount('/content/gdrive')\n",
        "os.chdir('/content/gdrive/My Drive')"
      ],
      "execution_count": null,
      "outputs": [
        {
          "output_type": "stream",
          "name": "stdout",
          "text": [
            "Mounted at /content/gdrive\n"
          ]
        }
      ]
    },
    {
      "cell_type": "code",
      "metadata": {
        "id": "j7NsICtPsY25"
      },
      "source": [
        "import pandas as pd\n",
        "import numpy as np\n",
        "import matplotlib.pyplot as plt\n",
        "import seaborn as sns\n",
        "import warnings\n",
        "warnings.filterwarnings(\"ignore\")\n",
        "\n",
        "FileName = 'M&M.NS.csv'\n",
        "Mahindra=pd.read_csv(FileName)"
      ],
      "execution_count": null,
      "outputs": []
    },
    {
      "cell_type": "code",
      "metadata": {
        "colab": {
          "base_uri": "https://localhost:8080/",
          "height": 204
        },
        "id": "VHqN5qxmsdtL",
        "outputId": "32483565-5a87-4f76-8378-3b67d2701288"
      },
      "source": [
        "Mahindra.head()"
      ],
      "execution_count": null,
      "outputs": [
        {
          "output_type": "execute_result",
          "data": {
            "text/html": [
              "<div>\n",
              "<style scoped>\n",
              "    .dataframe tbody tr th:only-of-type {\n",
              "        vertical-align: middle;\n",
              "    }\n",
              "\n",
              "    .dataframe tbody tr th {\n",
              "        vertical-align: top;\n",
              "    }\n",
              "\n",
              "    .dataframe thead th {\n",
              "        text-align: right;\n",
              "    }\n",
              "</style>\n",
              "<table border=\"1\" class=\"dataframe\">\n",
              "  <thead>\n",
              "    <tr style=\"text-align: right;\">\n",
              "      <th></th>\n",
              "      <th>Date</th>\n",
              "      <th>Open</th>\n",
              "      <th>High</th>\n",
              "      <th>Low</th>\n",
              "      <th>Close</th>\n",
              "      <th>Adj Close</th>\n",
              "      <th>Volume</th>\n",
              "    </tr>\n",
              "  </thead>\n",
              "  <tbody>\n",
              "    <tr>\n",
              "      <th>0</th>\n",
              "      <td>01/01/1996</td>\n",
              "      <td>41.431252</td>\n",
              "      <td>41.4375</td>\n",
              "      <td>40.768749</td>\n",
              "      <td>40.768749</td>\n",
              "      <td>27.105186</td>\n",
              "      <td>3600</td>\n",
              "    </tr>\n",
              "    <tr>\n",
              "      <th>1</th>\n",
              "      <td>02/01/1996</td>\n",
              "      <td>40.768749</td>\n",
              "      <td>40.6875</td>\n",
              "      <td>40.006248</td>\n",
              "      <td>40.187500</td>\n",
              "      <td>26.718735</td>\n",
              "      <td>15600</td>\n",
              "    </tr>\n",
              "    <tr>\n",
              "      <th>2</th>\n",
              "      <td>03/01/1996</td>\n",
              "      <td>24.112499</td>\n",
              "      <td>26.2500</td>\n",
              "      <td>25.500000</td>\n",
              "      <td>25.631250</td>\n",
              "      <td>17.040983</td>\n",
              "      <td>17600</td>\n",
              "    </tr>\n",
              "    <tr>\n",
              "      <th>3</th>\n",
              "      <td>04/01/1996</td>\n",
              "      <td>25.631250</td>\n",
              "      <td>25.7500</td>\n",
              "      <td>25.250000</td>\n",
              "      <td>25.500000</td>\n",
              "      <td>16.953726</td>\n",
              "      <td>8800</td>\n",
              "    </tr>\n",
              "    <tr>\n",
              "      <th>4</th>\n",
              "      <td>05/01/1996</td>\n",
              "      <td>25.500000</td>\n",
              "      <td>25.7500</td>\n",
              "      <td>25.250000</td>\n",
              "      <td>25.631250</td>\n",
              "      <td>17.040983</td>\n",
              "      <td>15200</td>\n",
              "    </tr>\n",
              "  </tbody>\n",
              "</table>\n",
              "</div>"
            ],
            "text/plain": [
              "         Date       Open     High        Low      Close  Adj Close  Volume\n",
              "0  01/01/1996  41.431252  41.4375  40.768749  40.768749  27.105186    3600\n",
              "1  02/01/1996  40.768749  40.6875  40.006248  40.187500  26.718735   15600\n",
              "2  03/01/1996  24.112499  26.2500  25.500000  25.631250  17.040983   17600\n",
              "3  04/01/1996  25.631250  25.7500  25.250000  25.500000  16.953726    8800\n",
              "4  05/01/1996  25.500000  25.7500  25.250000  25.631250  17.040983   15200"
            ]
          },
          "metadata": {},
          "execution_count": 3
        }
      ]
    },
    {
      "cell_type": "code",
      "metadata": {
        "colab": {
          "base_uri": "https://localhost:8080/",
          "height": 204
        },
        "id": "8RFQUgbQsliu",
        "outputId": "f7ab2d8e-72c2-4bf3-e442-469905a6d331"
      },
      "source": [
        "Mahindra.tail()"
      ],
      "execution_count": null,
      "outputs": [
        {
          "output_type": "execute_result",
          "data": {
            "text/html": [
              "<div>\n",
              "<style scoped>\n",
              "    .dataframe tbody tr th:only-of-type {\n",
              "        vertical-align: middle;\n",
              "    }\n",
              "\n",
              "    .dataframe tbody tr th {\n",
              "        vertical-align: top;\n",
              "    }\n",
              "\n",
              "    .dataframe thead th {\n",
              "        text-align: right;\n",
              "    }\n",
              "</style>\n",
              "<table border=\"1\" class=\"dataframe\">\n",
              "  <thead>\n",
              "    <tr style=\"text-align: right;\">\n",
              "      <th></th>\n",
              "      <th>Date</th>\n",
              "      <th>Open</th>\n",
              "      <th>High</th>\n",
              "      <th>Low</th>\n",
              "      <th>Close</th>\n",
              "      <th>Adj Close</th>\n",
              "      <th>Volume</th>\n",
              "    </tr>\n",
              "  </thead>\n",
              "  <tbody>\n",
              "    <tr>\n",
              "      <th>6445</th>\n",
              "      <td>23/08/2021</td>\n",
              "      <td>790.000000</td>\n",
              "      <td>793.450012</td>\n",
              "      <td>763.650024</td>\n",
              "      <td>765.900024</td>\n",
              "      <td>765.900024</td>\n",
              "      <td>2512960</td>\n",
              "    </tr>\n",
              "    <tr>\n",
              "      <th>6446</th>\n",
              "      <td>24/08/2021</td>\n",
              "      <td>767.000000</td>\n",
              "      <td>779.900024</td>\n",
              "      <td>761.599976</td>\n",
              "      <td>778.150024</td>\n",
              "      <td>778.150024</td>\n",
              "      <td>1662376</td>\n",
              "    </tr>\n",
              "    <tr>\n",
              "      <th>6447</th>\n",
              "      <td>25/08/2021</td>\n",
              "      <td>780.950012</td>\n",
              "      <td>783.000000</td>\n",
              "      <td>770.549988</td>\n",
              "      <td>772.049988</td>\n",
              "      <td>772.049988</td>\n",
              "      <td>1693443</td>\n",
              "    </tr>\n",
              "    <tr>\n",
              "      <th>6448</th>\n",
              "      <td>26/08/2021</td>\n",
              "      <td>771.000000</td>\n",
              "      <td>782.900024</td>\n",
              "      <td>767.250000</td>\n",
              "      <td>781.400024</td>\n",
              "      <td>781.400024</td>\n",
              "      <td>2576883</td>\n",
              "    </tr>\n",
              "    <tr>\n",
              "      <th>6449</th>\n",
              "      <td>27/08/2021</td>\n",
              "      <td>779.900024</td>\n",
              "      <td>785.000000</td>\n",
              "      <td>765.000000</td>\n",
              "      <td>775.150024</td>\n",
              "      <td>775.150024</td>\n",
              "      <td>2907125</td>\n",
              "    </tr>\n",
              "  </tbody>\n",
              "</table>\n",
              "</div>"
            ],
            "text/plain": [
              "            Date        Open        High  ...       Close   Adj Close   Volume\n",
              "6445  23/08/2021  790.000000  793.450012  ...  765.900024  765.900024  2512960\n",
              "6446  24/08/2021  767.000000  779.900024  ...  778.150024  778.150024  1662376\n",
              "6447  25/08/2021  780.950012  783.000000  ...  772.049988  772.049988  1693443\n",
              "6448  26/08/2021  771.000000  782.900024  ...  781.400024  781.400024  2576883\n",
              "6449  27/08/2021  779.900024  785.000000  ...  775.150024  775.150024  2907125\n",
              "\n",
              "[5 rows x 7 columns]"
            ]
          },
          "metadata": {},
          "execution_count": 4
        }
      ]
    },
    {
      "cell_type": "code",
      "metadata": {
        "id": "rEZ7LUoQstCX"
      },
      "source": [
        "df1=Mahindra.reset_index()['Close']"
      ],
      "execution_count": null,
      "outputs": []
    },
    {
      "cell_type": "code",
      "metadata": {
        "colab": {
          "base_uri": "https://localhost:8080/"
        },
        "id": "6QiqnOOIs_9e",
        "outputId": "b4fddc93-e328-476d-907b-a88ffe0c0728"
      },
      "source": [
        "df1.shape"
      ],
      "execution_count": null,
      "outputs": [
        {
          "output_type": "execute_result",
          "data": {
            "text/plain": [
              "(6450,)"
            ]
          },
          "metadata": {},
          "execution_count": 6
        }
      ]
    },
    {
      "cell_type": "code",
      "metadata": {
        "colab": {
          "base_uri": "https://localhost:8080/"
        },
        "id": "bGBroGQVtHM8",
        "outputId": "848b8885-52d5-4bb1-d109-38167be65ad4"
      },
      "source": [
        "df1"
      ],
      "execution_count": null,
      "outputs": [
        {
          "output_type": "execute_result",
          "data": {
            "text/plain": [
              "0        40.768749\n",
              "1        40.187500\n",
              "2        25.631250\n",
              "3        25.500000\n",
              "4        25.631250\n",
              "           ...    \n",
              "6445    765.900024\n",
              "6446    778.150024\n",
              "6447    772.049988\n",
              "6448    781.400024\n",
              "6449    775.150024\n",
              "Name: Close, Length: 6450, dtype: float64"
            ]
          },
          "metadata": {},
          "execution_count": 7
        }
      ]
    },
    {
      "cell_type": "code",
      "metadata": {
        "colab": {
          "base_uri": "https://localhost:8080/",
          "height": 407
        },
        "id": "86bXNskKtJcq",
        "outputId": "bcdb5091-6d22-4907-cb85-3d5be23d41c8"
      },
      "source": [
        "import matplotlib.pyplot as plt\n",
        "plt.figure(figsize=(20,6))\n",
        "plt.title('M&M Share Price of 2002 - 2021')\n",
        "plt.plot(df1)"
      ],
      "execution_count": null,
      "outputs": [
        {
          "output_type": "execute_result",
          "data": {
            "text/plain": [
              "[<matplotlib.lines.Line2D at 0x7f13fd9d5790>]"
            ]
          },
          "metadata": {},
          "execution_count": 8
        },
        {
          "output_type": "display_data",
          "data": {
            "image/png": "[encoded data removed]",
            "text/plain": [
              "<Figure size 1440x432 with 1 Axes>"
            ]
          },
          "metadata": {
            "needs_background": "light"
          }
        }
      ]
    },
    {
      "cell_type": "code",
      "metadata": {
        "colab": {
          "base_uri": "https://localhost:8080/"
        },
        "id": "a16ARnPztqvZ",
        "outputId": "c89d1362-9e40-43c8-ff23-1207fc569cbe"
      },
      "source": [
        "Mahindra.Date = pd.to_datetime(Mahindra.Date)\n",
        "Mahindra.info()"
      ],
      "execution_count": null,
      "outputs": [
        {
          "output_type": "stream",
          "name": "stdout",
          "text": [
            "<class 'pandas.core.frame.DataFrame'>\n",
            "RangeIndex: 6450 entries, 0 to 6449\n",
            "Data columns (total 7 columns):\n",
            " #   Column     Non-Null Count  Dtype         \n",
            "---  ------     --------------  -----         \n",
            " 0   Date       6450 non-null   datetime64[ns]\n",
            " 1   Open       6450 non-null   float64       \n",
            " 2   High       6450 non-null   float64       \n",
            " 3   Low        6450 non-null   float64       \n",
            " 4   Close      6450 non-null   float64       \n",
            " 5   Adj Close  6450 non-null   float64       \n",
            " 6   Volume     6450 non-null   int64         \n",
            "dtypes: datetime64[ns](1), float64(5), int64(1)\n",
            "memory usage: 352.9 KB\n"
          ]
        }
      ]
    },
    {
      "cell_type": "code",
      "metadata": {
        "id": "hDEhVWCitq9N"
      },
      "source": [
        "Mahindra = Mahindra.set_index('Date')"
      ],
      "execution_count": null,
      "outputs": []
    },
    {
      "cell_type": "code",
      "metadata": {
        "colab": {
          "base_uri": "https://localhost:8080/"
        },
        "id": "DJN8wZXOtrGU",
        "outputId": "2239e9e9-f301-4dac-d110-ac1d3e877d72"
      },
      "source": [
        "pip install https://github.com/matplotlib/mpl_finance/archive/master.zip"
      ],
      "execution_count": null,
      "outputs": [
        {
          "output_type": "stream",
          "name": "stdout",
          "text": [
            "Collecting https://github.com/matplotlib/mpl_finance/archive/master.zip\n",
            "  Downloading https://github.com/matplotlib/mpl_finance/archive/master.zip\n",
            "\u001b[K     \\ 306 kB 2.2 MB/s\n",
            "\u001b[?25hRequirement already satisfied: matplotlib in /usr/local/lib/python3.7/dist-packages (from mpl-finance==0.10.1) (3.2.2)\n",
            "Requirement already satisfied: python-dateutil>=2.1 in /usr/local/lib/python3.7/dist-packages (from matplotlib->mpl-finance==0.10.1) (2.8.2)\n",
            "Requirement already satisfied: pyparsing!=2.0.4,!=2.1.2,!=2.1.6,>=2.0.1 in /usr/local/lib/python3.7/dist-packages (from matplotlib->mpl-finance==0.10.1) (2.4.7)\n",
            "Requirement already satisfied: kiwisolver>=1.0.1 in /usr/local/lib/python3.7/dist-packages (from matplotlib->mpl-finance==0.10.1) (1.3.1)\n",
            "Requirement already satisfied: numpy>=1.11 in /usr/local/lib/python3.7/dist-packages (from matplotlib->mpl-finance==0.10.1) (1.19.5)\n",
            "Requirement already satisfied: cycler>=0.10 in /usr/local/lib/python3.7/dist-packages (from matplotlib->mpl-finance==0.10.1) (0.10.0)\n",
            "Requirement already satisfied: six in /usr/local/lib/python3.7/dist-packages (from cycler>=0.10->matplotlib->mpl-finance==0.10.1) (1.15.0)\n",
            "Building wheels for collected packages: mpl-finance\n",
            "  Building wheel for mpl-finance (setup.py) ... \u001b[?25l\u001b[?25hdone\n",
            "  Created wheel for mpl-finance: filename=mpl_finance-0.10.1-py3-none-any.whl size=8435 sha256=a1fba5e26a94191835ca85458afb679fd188a6853ed4264c08ff8b4aeef84679\n",
            "  Stored in directory: /tmp/pip-ephem-wheel-cache-vl0284tu/wheels/eb/17/99/0f3929e635912eb25fc346aaf43b4ee3da4a80dee8ce3d2e4f\n",
            "Successfully built mpl-finance\n",
            "Installing collected packages: mpl-finance\n",
            "Successfully installed mpl-finance-0.10.1\n"
          ]
        }
      ]
    },
    {
      "cell_type": "code",
      "metadata": {
        "colab": {
          "base_uri": "https://localhost:8080/"
        },
        "id": "h6I5bESDtrPB",
        "outputId": "62676a5f-c784-450d-a696-4d19458a5826"
      },
      "source": [
        "pip install --upgrade mplfinance"
      ],
      "execution_count": null,
      "outputs": [
        {
          "output_type": "stream",
          "name": "stdout",
          "text": [
            "Collecting mplfinance\n",
            "  Downloading mplfinance-0.12.7a17-py3-none-any.whl (62 kB)\n",
            "\u001b[?25l\r\u001b[K     |█████▎                          | 10 kB 26.5 MB/s eta 0:00:01\r\u001b[K     |██████████▌                     | 20 kB 10.0 MB/s eta 0:00:01\r\u001b[K     |███████████████▊                | 30 kB 6.3 MB/s eta 0:00:01\r\u001b[K     |█████████████████████           | 40 kB 5.9 MB/s eta 0:00:01\r\u001b[K     |██████████████████████████▎     | 51 kB 3.1 MB/s eta 0:00:01\r\u001b[K     |███████████████████████████████▌| 61 kB 3.3 MB/s eta 0:00:01\r\u001b[K     |████████████████████████████████| 62 kB 651 kB/s \n",
            "\u001b[?25hRequirement already satisfied: pandas in /usr/local/lib/python3.7/dist-packages (from mplfinance) (1.1.5)\n",
            "Requirement already satisfied: matplotlib in /usr/local/lib/python3.7/dist-packages (from mplfinance) (3.2.2)\n",
            "Requirement already satisfied: kiwisolver>=1.0.1 in /usr/local/lib/python3.7/dist-packages (from matplotlib->mplfinance) (1.3.1)\n",
            "Requirement already satisfied: python-dateutil>=2.1 in /usr/local/lib/python3.7/dist-packages (from matplotlib->mplfinance) (2.8.2)\n",
            "Requirement already satisfied: numpy>=1.11 in /usr/local/lib/python3.7/dist-packages (from matplotlib->mplfinance) (1.19.5)\n",
            "Requirement already satisfied: cycler>=0.10 in /usr/local/lib/python3.7/dist-packages (from matplotlib->mplfinance) (0.10.0)\n",
            "Requirement already satisfied: pyparsing!=2.0.4,!=2.1.2,!=2.1.6,>=2.0.1 in /usr/local/lib/python3.7/dist-packages (from matplotlib->mplfinance) (2.4.7)\n",
            "Requirement already satisfied: six in /usr/local/lib/python3.7/dist-packages (from cycler>=0.10->matplotlib->mplfinance) (1.15.0)\n",
            "Requirement already satisfied: pytz>=2017.2 in /usr/local/lib/python3.7/dist-packages (from pandas->mplfinance) (2018.9)\n",
            "Installing collected packages: mplfinance\n",
            "Successfully installed mplfinance-0.12.7a17\n"
          ]
        }
      ]
    },
    {
      "cell_type": "code",
      "metadata": {
        "colab": {
          "base_uri": "https://localhost:8080/",
          "height": 427
        },
        "id": "7n2DVpSYtz0j",
        "outputId": "641d5371-fa56-4f8b-a099-abcf0125d3d9"
      },
      "source": [
        "import mplfinance as mpf\n",
        "mpf.plot(Mahindra['2020'], \n",
        "         type='candle', mav=(20), \n",
        "         volume=True, \n",
        "         title = 'Mahindra Share Price of 2020', \n",
        "         figratio=(20,6), tight_layout = True, \n",
        "         style = 'yahoo')"
      ],
      "execution_count": null,
      "outputs": [
        {
          "output_type": "display_data",
          "data": {
            "image/png": "[encoded data removed]",
            "text/plain": [
              "<Figure size 1916.67x575 with 4 Axes>"
            ]
          },
          "metadata": {}
        }
      ]
    },
    {
      "cell_type": "code",
      "metadata": {
        "id": "KhmzK0wQtjLc"
      },
      "source": [
        "import numpy as np"
      ],
      "execution_count": null,
      "outputs": []
    },
    {
      "cell_type": "code",
      "metadata": {
        "id": "11F8IoZWtpSq"
      },
      "source": [
        "from sklearn.preprocessing import MinMaxScaler\n",
        "scaler = MinMaxScaler(feature_range=(0,1))\n",
        "df1=scaler.fit_transform(np.array(df1).reshape(-1,1))"
      ],
      "execution_count": null,
      "outputs": []
    },
    {
      "cell_type": "code",
      "metadata": {
        "colab": {
          "base_uri": "https://localhost:8080/"
        },
        "id": "yZaN017SuDfy",
        "outputId": "c6b45b8d-b5e8-45eb-840f-5df6f2c4569d"
      },
      "source": [
        "df1"
      ],
      "execution_count": null,
      "outputs": [
        {
          "output_type": "execute_result",
          "data": {
            "text/plain": [
              "array([[0.03508761],\n",
              "       [0.0344929 ],\n",
              "       [0.01959969],\n",
              "       ...,\n",
              "       [0.7832971 ],\n",
              "       [0.79286358],\n",
              "       [0.7864689 ]])"
            ]
          },
          "metadata": {},
          "execution_count": 16
        }
      ]
    },
    {
      "cell_type": "code",
      "metadata": {
        "id": "v8nlDnRtuIUJ"
      },
      "source": [
        "training_size=int(len(df1)*0.75)\n",
        "test_size=len(df1)-training_size\n",
        "train_data,test_data=df1[0:training_size,:],df1[training_size:len(df1),:1]"
      ],
      "execution_count": null,
      "outputs": []
    },
    {
      "cell_type": "code",
      "metadata": {
        "colab": {
          "base_uri": "https://localhost:8080/"
        },
        "id": "7BE7WAuPuhZB",
        "outputId": "d5734334-cfb7-4211-e601-1b2f2c595137"
      },
      "source": [
        "training_size, test_size"
      ],
      "execution_count": null,
      "outputs": [
        {
          "output_type": "execute_result",
          "data": {
            "text/plain": [
              "(4837, 1613)"
            ]
          },
          "metadata": {},
          "execution_count": 18
        }
      ]
    },
    {
      "cell_type": "code",
      "metadata": {
        "colab": {
          "base_uri": "https://localhost:8080/"
        },
        "id": "l22HaDOrvDlY",
        "outputId": "3b0903fc-ae1e-44d6-a33e-433c17e4073b"
      },
      "source": [
        "len(train_data), len(test_data)"
      ],
      "execution_count": null,
      "outputs": [
        {
          "output_type": "execute_result",
          "data": {
            "text/plain": [
              "(4837, 1613)"
            ]
          },
          "metadata": {},
          "execution_count": 19
        }
      ]
    },
    {
      "cell_type": "code",
      "metadata": {
        "id": "Wfb3iGg8vNYX"
      },
      "source": [
        "import numpy \n",
        "def create_dataset(dataset, time_step=1):\n",
        "  dataX, dataY = [], []\n",
        "  for i in range (len(dataset)-time_step-1):\n",
        "    a = dataset[i:(i+time_step), 0]\n",
        "    dataX.append(a)\n",
        "    dataY.append(dataset[i + time_step, 0])\n",
        "  return numpy.array(dataX), numpy.array(dataY)"
      ],
      "execution_count": null,
      "outputs": []
    },
    {
      "cell_type": "code",
      "metadata": {
        "id": "HbGS_OF4wMHh"
      },
      "source": [
        "time_step = 100\n",
        "X_train, y_train = create_dataset(train_data, time_step)\n",
        "X_test, y_test = create_dataset(test_data, time_step)"
      ],
      "execution_count": null,
      "outputs": []
    },
    {
      "cell_type": "code",
      "metadata": {
        "colab": {
          "base_uri": "https://localhost:8080/"
        },
        "id": "iKr4-5H0we3U",
        "outputId": "7029b33e-88d6-4b4c-d248-964f7dc20dda"
      },
      "source": [
        "print(X_train)"
      ],
      "execution_count": null,
      "outputs": [
        {
          "output_type": "stream",
          "name": "stdout",
          "text": [
            "[[0.03508761 0.0344929  0.01959969 ... 0.03080957 0.03271518 0.03218443]\n",
            " [0.0344929  0.01959969 0.01946541 ... 0.03271518 0.03218443 0.03068168]\n",
            " [0.01959969 0.01946541 0.01959969 ... 0.03218443 0.03068168 0.0306433 ]\n",
            " ...\n",
            " [0.71507867 0.71377413 0.70699577 ... 0.64056785 0.62834121 0.60685509]\n",
            " [0.71377413 0.70699577 0.71162555 ... 0.62834121 0.60685509 0.61286609]\n",
            " [0.70699577 0.71162555 0.70185449 ... 0.60685509 0.61286609 0.59687939]]\n"
          ]
        }
      ]
    },
    {
      "cell_type": "code",
      "metadata": {
        "colab": {
          "base_uri": "https://localhost:8080/"
        },
        "id": "BKBYRqekw6pj",
        "outputId": "288f6aec-9b9e-42e1-85c1-ed051fde4ea4"
      },
      "source": [
        "print(X_train.shape), print(y_train.shape)"
      ],
      "execution_count": null,
      "outputs": [
        {
          "output_type": "stream",
          "name": "stdout",
          "text": [
            "(4736, 100)\n",
            "(4736,)\n"
          ]
        },
        {
          "output_type": "execute_result",
          "data": {
            "text/plain": [
              "(None, None)"
            ]
          },
          "metadata": {},
          "execution_count": 23
        }
      ]
    },
    {
      "cell_type": "code",
      "metadata": {
        "colab": {
          "base_uri": "https://localhost:8080/"
        },
        "id": "_sIswsCTwiMV",
        "outputId": "5fe050db-c4a1-448d-b871-3f6f291e224d"
      },
      "source": [
        "print(X_test.shape), print(y_test.shape)"
      ],
      "execution_count": null,
      "outputs": [
        {
          "output_type": "stream",
          "name": "stdout",
          "text": [
            "(1512, 100)\n",
            "(1512,)\n"
          ]
        },
        {
          "output_type": "execute_result",
          "data": {
            "text/plain": [
              "(None, None)"
            ]
          },
          "metadata": {},
          "execution_count": 24
        }
      ]
    },
    {
      "cell_type": "code",
      "metadata": {
        "id": "2QsJz9xPw92t"
      },
      "source": [
        "X_train =X_train.reshape(X_train.shape[0],X_train.shape[1] , 1)\n",
        "X_test = X_test.reshape(X_test.shape[0],X_test.shape[1] , 1)"
      ],
      "execution_count": null,
      "outputs": []
    },
    {
      "cell_type": "code",
      "metadata": {
        "id": "YY-0K12vytcx"
      },
      "source": [
        "from tensorflow.keras.models import Sequential\n",
        "from tensorflow.keras.layers import Dense\n",
        "from tensorflow.keras.layers import LSTM"
      ],
      "execution_count": null,
      "outputs": []
    },
    {
      "cell_type": "code",
      "metadata": {
        "id": "_V5wKTh7yzKN"
      },
      "source": [
        "model=Sequential()\n",
        "model.add(LSTM(50,return_sequences=True,input_shape=(100,1)))\n",
        "model.add(LSTM(50,return_sequences=True))\n",
        "model.add(LSTM(50))\n",
        "model.add(Dense(1))\n",
        "model.compile(loss='mean_squared_error', optimizer='adam')"
      ],
      "execution_count": null,
      "outputs": []
    },
    {
      "cell_type": "code",
      "metadata": {
        "colab": {
          "base_uri": "https://localhost:8080/"
        },
        "id": "qBPJ3FOXy_H_",
        "outputId": "0b10d301-6f6a-4b4b-e984-406ac784c647"
      },
      "source": [
        "model.summary()"
      ],
      "execution_count": null,
      "outputs": [
        {
          "output_type": "stream",
          "name": "stdout",
          "text": [
            "Model: \"sequential\"\n",
            "_________________________________________________________________\n",
            "Layer (type)                 Output Shape              Param #   \n",
            "=================================================================\n",
            "lstm (LSTM)                  (None, 100, 50)           10400     \n",
            "_________________________________________________________________\n",
            "lstm_1 (LSTM)                (None, 100, 50)           20200     \n",
            "_________________________________________________________________\n",
            "lstm_2 (LSTM)                (None, 50)                20200     \n",
            "_________________________________________________________________\n",
            "dense (Dense)                (None, 1)                 51        \n",
            "=================================================================\n",
            "Total params: 50,851\n",
            "Trainable params: 50,851\n",
            "Non-trainable params: 0\n",
            "_________________________________________________________________\n"
          ]
        }
      ]
    },
    {
      "cell_type": "code",
      "metadata": {
        "colab": {
          "base_uri": "https://localhost:8080/"
        },
        "id": "nVPrvBSvziFh",
        "outputId": "106921d8-039f-43cd-ae53-12036889b47c"
      },
      "source": [
        "model.fit(X_train, y_train, validation_data=(X_test, y_test), epochs=100, batch_size=64, verbose=1)"
      ],
      "execution_count": null,
      "outputs": [
        {
          "output_type": "stream",
          "name": "stdout",
          "text": [
            "Epoch 1/100\n",
            "74/74 [==============================] - 19s 191ms/step - loss: 0.0038 - val_loss: 0.0023\n",
            "Epoch 2/100\n",
            "74/74 [==============================] - 12s 165ms/step - loss: 1.9316e-04 - val_loss: 0.0018\n",
            "Epoch 3/100\n",
            "74/74 [==============================] - 12s 163ms/step - loss: 1.8861e-04 - val_loss: 0.0014\n",
            "Epoch 4/100\n",
            "74/74 [==============================] - 12s 165ms/step - loss: 1.8988e-04 - val_loss: 0.0013\n",
            "Epoch 5/100\n",
            "74/74 [==============================] - 12s 166ms/step - loss: 1.6744e-04 - val_loss: 0.0014\n",
            "Epoch 6/100\n",
            "74/74 [==============================] - 12s 169ms/step - loss: 1.6339e-04 - val_loss: 0.0014\n",
            "Epoch 7/100\n",
            "74/74 [==============================] - 13s 172ms/step - loss: 1.8278e-04 - val_loss: 0.0023\n",
            "Epoch 8/100\n",
            "74/74 [==============================] - 12s 166ms/step - loss: 1.6724e-04 - val_loss: 9.6567e-04\n",
            "Epoch 9/100\n",
            "74/74 [==============================] - 12s 163ms/step - loss: 1.3934e-04 - val_loss: 9.8071e-04\n",
            "Epoch 10/100\n",
            "74/74 [==============================] - 12s 165ms/step - loss: 1.4053e-04 - val_loss: 9.0752e-04\n",
            "Epoch 11/100\n",
            "74/74 [==============================] - 12s 163ms/step - loss: 1.2601e-04 - val_loss: 0.0011\n",
            "Epoch 12/100\n",
            "74/74 [==============================] - 12s 164ms/step - loss: 1.2108e-04 - val_loss: 7.9110e-04\n",
            "Epoch 13/100\n",
            "74/74 [==============================] - 12s 162ms/step - loss: 1.2317e-04 - val_loss: 8.5973e-04\n",
            "Epoch 14/100\n",
            "74/74 [==============================] - 12s 161ms/step - loss: 1.1604e-04 - val_loss: 8.9735e-04\n",
            "Epoch 15/100\n",
            "74/74 [==============================] - 12s 163ms/step - loss: 1.2723e-04 - val_loss: 0.0011\n",
            "Epoch 16/100\n",
            "74/74 [==============================] - 12s 163ms/step - loss: 1.2935e-04 - val_loss: 6.9919e-04\n",
            "Epoch 17/100\n",
            "74/74 [==============================] - 12s 165ms/step - loss: 1.1338e-04 - val_loss: 6.9009e-04\n",
            "Epoch 18/100\n",
            "74/74 [==============================] - 12s 163ms/step - loss: 1.0423e-04 - val_loss: 8.6888e-04\n",
            "Epoch 19/100\n",
            "74/74 [==============================] - 12s 163ms/step - loss: 9.7750e-05 - val_loss: 7.5276e-04\n",
            "Epoch 20/100\n",
            "74/74 [==============================] - 12s 163ms/step - loss: 1.0584e-04 - val_loss: 5.2968e-04\n",
            "Epoch 21/100\n",
            "74/74 [==============================] - 12s 165ms/step - loss: 1.0551e-04 - val_loss: 5.1538e-04\n",
            "Epoch 22/100\n",
            "74/74 [==============================] - 12s 163ms/step - loss: 9.1784e-05 - val_loss: 5.3819e-04\n",
            "Epoch 23/100\n",
            "74/74 [==============================] - 12s 166ms/step - loss: 9.6009e-05 - val_loss: 5.8732e-04\n",
            "Epoch 24/100\n",
            "74/74 [==============================] - 12s 164ms/step - loss: 9.5404e-05 - val_loss: 4.3973e-04\n",
            "Epoch 25/100\n",
            "74/74 [==============================] - 12s 164ms/step - loss: 9.5293e-05 - val_loss: 5.0799e-04\n",
            "Epoch 26/100\n",
            "74/74 [==============================] - 12s 169ms/step - loss: 8.3503e-05 - val_loss: 8.6465e-04\n",
            "Epoch 27/100\n",
            "74/74 [==============================] - 12s 166ms/step - loss: 8.1251e-05 - val_loss: 6.7660e-04\n",
            "Epoch 28/100\n",
            "74/74 [==============================] - 12s 163ms/step - loss: 8.1655e-05 - val_loss: 5.5260e-04\n",
            "Epoch 29/100\n",
            "74/74 [==============================] - 12s 164ms/step - loss: 8.4444e-05 - val_loss: 4.1854e-04\n",
            "Epoch 30/100\n",
            "74/74 [==============================] - 12s 162ms/step - loss: 8.3092e-05 - val_loss: 3.5453e-04\n",
            "Epoch 31/100\n",
            "74/74 [==============================] - 12s 163ms/step - loss: 7.3846e-05 - val_loss: 3.2636e-04\n",
            "Epoch 32/100\n",
            "74/74 [==============================] - 12s 164ms/step - loss: 7.0954e-05 - val_loss: 4.0620e-04\n",
            "Epoch 33/100\n",
            "74/74 [==============================] - 12s 162ms/step - loss: 6.9873e-05 - val_loss: 3.4081e-04\n",
            "Epoch 34/100\n",
            "74/74 [==============================] - 12s 163ms/step - loss: 6.4405e-05 - val_loss: 4.8191e-04\n",
            "Epoch 35/100\n",
            "74/74 [==============================] - 12s 162ms/step - loss: 7.0241e-05 - val_loss: 3.0985e-04\n",
            "Epoch 36/100\n",
            "74/74 [==============================] - 12s 163ms/step - loss: 7.1676e-05 - val_loss: 3.1192e-04\n",
            "Epoch 37/100\n",
            "74/74 [==============================] - 12s 163ms/step - loss: 5.9477e-05 - val_loss: 4.2813e-04\n",
            "Epoch 38/100\n",
            "74/74 [==============================] - 12s 162ms/step - loss: 7.8611e-05 - val_loss: 3.6775e-04\n",
            "Epoch 39/100\n",
            "74/74 [==============================] - 12s 161ms/step - loss: 5.8876e-05 - val_loss: 2.7528e-04\n",
            "Epoch 40/100\n",
            "74/74 [==============================] - 12s 164ms/step - loss: 6.0426e-05 - val_loss: 2.7741e-04\n",
            "Epoch 41/100\n",
            "74/74 [==============================] - 12s 164ms/step - loss: 5.5951e-05 - val_loss: 3.4220e-04\n",
            "Epoch 42/100\n",
            "74/74 [==============================] - 12s 163ms/step - loss: 8.1227e-05 - val_loss: 4.9364e-04\n",
            "Epoch 43/100\n",
            "74/74 [==============================] - 12s 163ms/step - loss: 5.8412e-05 - val_loss: 3.5891e-04\n",
            "Epoch 44/100\n",
            "74/74 [==============================] - 12s 164ms/step - loss: 6.1542e-05 - val_loss: 2.7560e-04\n",
            "Epoch 45/100\n",
            "74/74 [==============================] - 12s 163ms/step - loss: 5.1496e-05 - val_loss: 2.5505e-04\n",
            "Epoch 46/100\n",
            "74/74 [==============================] - 12s 162ms/step - loss: 5.9304e-05 - val_loss: 2.6988e-04\n",
            "Epoch 47/100\n",
            "74/74 [==============================] - 12s 163ms/step - loss: 4.8744e-05 - val_loss: 2.1223e-04\n",
            "Epoch 48/100\n",
            "74/74 [==============================] - 12s 162ms/step - loss: 5.4684e-05 - val_loss: 2.0730e-04\n",
            "Epoch 49/100\n",
            "74/74 [==============================] - 12s 161ms/step - loss: 5.4690e-05 - val_loss: 8.6881e-04\n",
            "Epoch 50/100\n",
            "74/74 [==============================] - 12s 161ms/step - loss: 7.8804e-05 - val_loss: 5.1425e-04\n",
            "Epoch 51/100\n",
            "74/74 [==============================] - 12s 162ms/step - loss: 6.1247e-05 - val_loss: 2.1779e-04\n",
            "Epoch 52/100\n",
            "74/74 [==============================] - 12s 162ms/step - loss: 4.7357e-05 - val_loss: 2.2705e-04\n",
            "Epoch 53/100\n",
            "74/74 [==============================] - 12s 163ms/step - loss: 4.6283e-05 - val_loss: 1.9072e-04\n",
            "Epoch 54/100\n",
            "74/74 [==============================] - 12s 161ms/step - loss: 4.7295e-05 - val_loss: 1.8086e-04\n",
            "Epoch 55/100\n",
            "74/74 [==============================] - 12s 163ms/step - loss: 4.5558e-05 - val_loss: 2.0104e-04\n",
            "Epoch 56/100\n",
            "74/74 [==============================] - 13s 180ms/step - loss: 4.4958e-05 - val_loss: 2.9918e-04\n",
            "Epoch 57/100\n",
            "74/74 [==============================] - 14s 186ms/step - loss: 4.2351e-05 - val_loss: 2.2230e-04\n",
            "Epoch 58/100\n",
            "74/74 [==============================] - 13s 176ms/step - loss: 4.0656e-05 - val_loss: 1.8527e-04\n",
            "Epoch 59/100\n",
            "74/74 [==============================] - 14s 190ms/step - loss: 4.6575e-05 - val_loss: 1.7090e-04\n",
            "Epoch 60/100\n",
            "74/74 [==============================] - 12s 168ms/step - loss: 5.6445e-05 - val_loss: 1.8434e-04\n",
            "Epoch 61/100\n",
            "74/74 [==============================] - 12s 165ms/step - loss: 4.0242e-05 - val_loss: 1.7752e-04\n",
            "Epoch 62/100\n",
            "74/74 [==============================] - 12s 167ms/step - loss: 4.0384e-05 - val_loss: 2.0185e-04\n",
            "Epoch 63/100\n",
            "74/74 [==============================] - 12s 166ms/step - loss: 3.9933e-05 - val_loss: 1.7709e-04\n",
            "Epoch 64/100\n",
            "74/74 [==============================] - 12s 164ms/step - loss: 3.6848e-05 - val_loss: 2.1934e-04\n",
            "Epoch 65/100\n",
            "74/74 [==============================] - 12s 163ms/step - loss: 3.6482e-05 - val_loss: 1.7531e-04\n",
            "Epoch 66/100\n",
            "74/74 [==============================] - 12s 164ms/step - loss: 3.9286e-05 - val_loss: 1.8400e-04\n",
            "Epoch 67/100\n",
            "74/74 [==============================] - 12s 165ms/step - loss: 3.7627e-05 - val_loss: 1.8158e-04\n",
            "Epoch 68/100\n",
            "74/74 [==============================] - 12s 164ms/step - loss: 4.1039e-05 - val_loss: 1.9085e-04\n",
            "Epoch 69/100\n",
            "74/74 [==============================] - 12s 168ms/step - loss: 4.2827e-05 - val_loss: 6.6973e-04\n",
            "Epoch 70/100\n",
            "74/74 [==============================] - 12s 164ms/step - loss: 4.1128e-05 - val_loss: 1.8219e-04\n",
            "Epoch 71/100\n",
            "74/74 [==============================] - 12s 164ms/step - loss: 4.5684e-05 - val_loss: 1.8918e-04\n",
            "Epoch 72/100\n",
            "74/74 [==============================] - 12s 163ms/step - loss: 4.2206e-05 - val_loss: 5.3468e-04\n",
            "Epoch 73/100\n",
            "74/74 [==============================] - 12s 164ms/step - loss: 4.5577e-05 - val_loss: 1.9883e-04\n",
            "Epoch 74/100\n",
            "74/74 [==============================] - 12s 163ms/step - loss: 3.5831e-05 - val_loss: 2.4479e-04\n",
            "Epoch 75/100\n",
            "74/74 [==============================] - 12s 165ms/step - loss: 3.7314e-05 - val_loss: 2.6428e-04\n",
            "Epoch 76/100\n",
            "74/74 [==============================] - 12s 166ms/step - loss: 3.9513e-05 - val_loss: 1.9161e-04\n",
            "Epoch 77/100\n",
            "74/74 [==============================] - 12s 165ms/step - loss: 3.8645e-05 - val_loss: 1.9348e-04\n",
            "Epoch 78/100\n",
            "74/74 [==============================] - 12s 165ms/step - loss: 3.4897e-05 - val_loss: 1.9389e-04\n",
            "Epoch 79/100\n",
            "74/74 [==============================] - 12s 164ms/step - loss: 3.8390e-05 - val_loss: 3.1477e-04\n",
            "Epoch 80/100\n",
            "74/74 [==============================] - 12s 165ms/step - loss: 4.1927e-05 - val_loss: 1.9556e-04\n",
            "Epoch 81/100\n",
            "74/74 [==============================] - 12s 169ms/step - loss: 3.6404e-05 - val_loss: 2.1196e-04\n",
            "Epoch 82/100\n",
            "74/74 [==============================] - 12s 166ms/step - loss: 3.8355e-05 - val_loss: 2.0264e-04\n",
            "Epoch 83/100\n",
            "74/74 [==============================] - 12s 165ms/step - loss: 4.2204e-05 - val_loss: 1.9928e-04\n",
            "Epoch 84/100\n",
            "74/74 [==============================] - 12s 166ms/step - loss: 3.9455e-05 - val_loss: 2.0007e-04\n",
            "Epoch 85/100\n",
            "74/74 [==============================] - 12s 165ms/step - loss: 3.8245e-05 - val_loss: 1.9339e-04\n",
            "Epoch 86/100\n",
            "74/74 [==============================] - 12s 167ms/step - loss: 3.7342e-05 - val_loss: 1.9574e-04\n",
            "Epoch 87/100\n",
            "74/74 [==============================] - 12s 162ms/step - loss: 5.0505e-05 - val_loss: 2.9312e-04\n",
            "Epoch 88/100\n",
            "74/74 [==============================] - 12s 165ms/step - loss: 4.2880e-05 - val_loss: 2.2332e-04\n",
            "Epoch 89/100\n",
            "74/74 [==============================] - 12s 163ms/step - loss: 4.1738e-05 - val_loss: 2.3116e-04\n",
            "Epoch 90/100\n",
            "74/74 [==============================] - 12s 163ms/step - loss: 3.5164e-05 - val_loss: 2.0734e-04\n",
            "Epoch 91/100\n",
            "74/74 [==============================] - 12s 163ms/step - loss: 3.7279e-05 - val_loss: 2.0043e-04\n",
            "Epoch 92/100\n",
            "74/74 [==============================] - 12s 162ms/step - loss: 3.5990e-05 - val_loss: 1.9453e-04\n",
            "Epoch 93/100\n",
            "74/74 [==============================] - 12s 161ms/step - loss: 4.5967e-05 - val_loss: 3.2414e-04\n",
            "Epoch 94/100\n",
            "74/74 [==============================] - 12s 165ms/step - loss: 4.2308e-05 - val_loss: 2.5999e-04\n",
            "Epoch 95/100\n",
            "74/74 [==============================] - 12s 164ms/step - loss: 3.4786e-05 - val_loss: 2.0758e-04\n",
            "Epoch 96/100\n",
            "74/74 [==============================] - 12s 163ms/step - loss: 3.5207e-05 - val_loss: 1.9199e-04\n",
            "Epoch 97/100\n",
            "74/74 [==============================] - 12s 163ms/step - loss: 3.9426e-05 - val_loss: 2.3292e-04\n",
            "Epoch 98/100\n",
            "74/74 [==============================] - 12s 162ms/step - loss: 3.6253e-05 - val_loss: 4.1190e-04\n",
            "Epoch 99/100\n",
            "74/74 [==============================] - 12s 163ms/step - loss: 4.0799e-05 - val_loss: 2.1887e-04\n",
            "Epoch 100/100\n",
            "74/74 [==============================] - 12s 164ms/step - loss: 3.7621e-05 - val_loss: 2.0244e-04\n"
          ]
        },
        {
          "output_type": "execute_result",
          "data": {
            "text/plain": [
              "<keras.callbacks.History at 0x7f13ac6d8890>"
            ]
          },
          "metadata": {},
          "execution_count": 29
        }
      ]
    },
    {
      "cell_type": "code",
      "metadata": {
        "id": "u82EsQ4a0c-2"
      },
      "source": [
        "import tensorflow as tf"
      ],
      "execution_count": null,
      "outputs": []
    },
    {
      "cell_type": "code",
      "metadata": {
        "colab": {
          "base_uri": "https://localhost:8080/",
          "height": 37
        },
        "id": "xZH6Ysln0llD",
        "outputId": "5dda358e-db26-470d-d652-00be41041ec0"
      },
      "source": [
        "tf.__version__"
      ],
      "execution_count": null,
      "outputs": [
        {
          "output_type": "execute_result",
          "data": {
            "application/vnd.google.colaboratory.intrinsic+json": {
              "type": "string"
            },
            "text/plain": [
              "'2.6.0'"
            ]
          },
          "metadata": {},
          "execution_count": 31
        }
      ]
    },
    {
      "cell_type": "code",
      "metadata": {
        "id": "fjDIwcMH0ngp"
      },
      "source": [
        "### Lets Do the prediction and check performance metrics\n",
        "train_predict=model.predict(X_train)\n",
        "test_predict=model.predict(X_test)"
      ],
      "execution_count": null,
      "outputs": []
    },
    {
      "cell_type": "code",
      "metadata": {
        "id": "pnW1sUZW0pbC"
      },
      "source": [
        "##Transformback to original form\n",
        "train_predict=scaler.inverse_transform(train_predict)\n",
        "test_predict=scaler.inverse_transform(test_predict)"
      ],
      "execution_count": null,
      "outputs": []
    },
    {
      "cell_type": "code",
      "metadata": {
        "colab": {
          "base_uri": "https://localhost:8080/"
        },
        "id": "oewqwI3j0rJj",
        "outputId": "45c9b8fb-01cb-4962-9360-3dd91d210e20"
      },
      "source": [
        "### Calculate RMSE performance metrics\n",
        "import math\n",
        "from sklearn.metrics import mean_squared_error\n",
        "math.sqrt(mean_squared_error(y_train,train_predict))"
      ],
      "execution_count": null,
      "outputs": [
        {
          "output_type": "execute_result",
          "data": {
            "text/plain": [
              "238.98977224555608"
            ]
          },
          "metadata": {},
          "execution_count": 34
        }
      ]
    },
    {
      "cell_type": "code",
      "metadata": {
        "id": "yV7wtOxU0thE",
        "colab": {
          "base_uri": "https://localhost:8080/"
        },
        "outputId": "18791795-2b22-4fb5-ad93-401e45d08581"
      },
      "source": [
        "### Test Data RMSE\n",
        "math.sqrt(mean_squared_error(y_test,test_predict))"
      ],
      "execution_count": null,
      "outputs": [
        {
          "output_type": "execute_result",
          "data": {
            "text/plain": [
              "680.9154617352846"
            ]
          },
          "metadata": {},
          "execution_count": 35
        }
      ]
    },
    {
      "cell_type": "code",
      "metadata": {
        "id": "b2O9FdYN03ec",
        "colab": {
          "base_uri": "https://localhost:8080/",
          "height": 452
        },
        "outputId": "4760127a-c9eb-4000-c553-6d9d886431c9"
      },
      "source": [
        "### Plotting \n",
        "# shift train predictions for plotting\n",
        "look_back=100\n",
        "trainPredictPlot = numpy.empty_like(df1)\n",
        "trainPredictPlot[:, :] = np.nan\n",
        "trainPredictPlot[look_back:len(train_predict)+look_back, :] = train_predict\n",
        "# shift test predictions for plotting\n",
        "testPredictPlot = numpy.empty_like(df1)\n",
        "testPredictPlot[:, :] = numpy.nan\n",
        "testPredictPlot[len(train_predict)+(look_back*2)+1:len(df1)-1, :] = test_predict\n",
        "# plot baseline and predictions\n",
        "plt.plot(scaler.inverse_transform(df1))\n",
        "plt.plot(trainPredictPlot)\n",
        "plt.plot(testPredictPlot)\n",
        "plt.title('M&M Train Test Split')\n",
        "plt.show()"
      ],
      "execution_count": null,
      "outputs": [
        {
          "output_type": "display_data",
          "data": {
            "image/png": "[encoded data removed]",
            "text/plain": [
              "<Figure size 640x480 with 1 Axes>"
            ]
          },
          "metadata": {}
        }
      ]
    },
    {
      "cell_type": "code",
      "metadata": {
        "id": "XJDVfIMk05WN",
        "colab": {
          "base_uri": "https://localhost:8080/"
        },
        "outputId": "fb0d912f-9910-482c-e5e1-f5219acf650c"
      },
      "source": [
        "len(test_data)"
      ],
      "execution_count": null,
      "outputs": [
        {
          "output_type": "execute_result",
          "data": {
            "text/plain": [
              "1613"
            ]
          },
          "metadata": {},
          "execution_count": 37
        }
      ]
    },
    {
      "cell_type": "code",
      "metadata": {
        "id": "faLcUIDr08mi",
        "colab": {
          "base_uri": "https://localhost:8080/"
        },
        "outputId": "2633d02e-d4b6-444b-a644-d93d75c05133"
      },
      "source": [
        "x_input=test_data[1513:].reshape(1,-1)\n",
        "x_input.shape"
      ],
      "execution_count": null,
      "outputs": [
        {
          "output_type": "execute_result",
          "data": {
            "text/plain": [
              "(1, 100)"
            ]
          },
          "metadata": {},
          "execution_count": 41
        }
      ]
    },
    {
      "cell_type": "code",
      "metadata": {
        "id": "7oKtWwxZ09IM"
      },
      "source": [
        "temp_input=list(x_input)\n",
        "temp_input=temp_input[0].tolist()"
      ],
      "execution_count": null,
      "outputs": []
    },
    {
      "cell_type": "code",
      "metadata": {
        "id": "Nm8nnIo809lO",
        "colab": {
          "base_uri": "https://localhost:8080/"
        },
        "outputId": "7709e651-efd0-40a6-9d16-c92262726574"
      },
      "source": [
        "# demonstrate prediction for next 30 days\n",
        "from numpy import array\n",
        "\n",
        "lst_output=[]\n",
        "n_steps=100\n",
        "i=0\n",
        "while(i<30):\n",
        "    \n",
        "    if(len(temp_input)>100):\n",
        "        #print(temp_input)\n",
        "        x_input=np.array(temp_input[1:])\n",
        "        print(\"{} day input {}\".format(i,x_input))\n",
        "        x_input=x_input.reshape(1,-1)\n",
        "        x_input = x_input.reshape((1, n_steps, 1))\n",
        "        #print(x_input)\n",
        "        yhat = model.predict(x_input, verbose=0)\n",
        "        print(\"{} day output {}\".format(i,yhat))\n",
        "        temp_input.extend(yhat[0].tolist())\n",
        "        temp_input=temp_input[1:]\n",
        "        #print(temp_input)\n",
        "        lst_output.extend(yhat.tolist())\n",
        "        i=i+1\n",
        "    else:\n",
        "        x_input = x_input.reshape((1, n_steps,1))\n",
        "        yhat = model.predict(x_input, verbose=0)\n",
        "        print(yhat[0])\n",
        "        temp_input.extend(yhat[0].tolist())\n",
        "        print(len(temp_input))\n",
        "        lst_output.extend(yhat.tolist())\n",
        "        i=i+1\n",
        "    \n",
        "\n",
        "print(lst_output)"
      ],
      "execution_count": null,
      "outputs": [
        {
          "output_type": "stream",
          "name": "stdout",
          "text": [
            "[0.7773676]\n",
            "101\n",
            "1 day input [0.79255659 0.80810846 0.80693188 0.80283928 0.76227141 0.82340455\n",
            " 0.81711216 0.83404532 0.80672724 0.82330226 0.81158719 0.78928256\n",
            " 0.79194272 0.78979414 0.79357974 0.78590612 0.7633457  0.76375499\n",
            " 0.75168184 0.75822996 0.75807652 0.7785395  0.79189158 0.78733855\n",
            " 0.77066124 0.75203992 0.76436885 0.80954089 0.79634225 0.81521936\n",
            " 0.83128281 0.82212561 0.82340455 0.83358489 0.84115615 0.85880547\n",
            " 0.82002817 0.81833995 0.81823766 0.81399157 0.81660058 0.81583322\n",
            " 0.81992582 0.81644715 0.81900502 0.82110246 0.81951659 0.82069318\n",
            " 0.81818651 0.81772608 0.79301702 0.78820821 0.78652005 0.7934263\n",
            " 0.80350429 0.80601102 0.80524366 0.79306816 0.78907792 0.79086843\n",
            " 0.79409131 0.80345315 0.79337516 0.79030571 0.78759434 0.78278553\n",
            " 0.78411561 0.79260779 0.79772354 0.79132886 0.79122651 0.78713391\n",
            " 0.77117282 0.76938231 0.77526541 0.76513621 0.75618366 0.73894363\n",
            " 0.74175729 0.75367693 0.76861494 0.78206931 0.77736285 0.7703031\n",
            " 0.76917766 0.78626426 0.79787697 0.79010107 0.7875432  0.79004992\n",
            " 0.81117791 0.80232771 0.80304386 0.79721196 0.77700478 0.78953835\n",
            " 0.7832971  0.79286358 0.7864689  0.77736759]\n",
            "1 day output [[0.77148503]]\n",
            "2 day input [0.80810846 0.80693188 0.80283928 0.76227141 0.82340455 0.81711216\n",
            " 0.83404532 0.80672724 0.82330226 0.81158719 0.78928256 0.79194272\n",
            " 0.78979414 0.79357974 0.78590612 0.7633457  0.76375499 0.75168184\n",
            " 0.75822996 0.75807652 0.7785395  0.79189158 0.78733855 0.77066124\n",
            " 0.75203992 0.76436885 0.80954089 0.79634225 0.81521936 0.83128281\n",
            " 0.82212561 0.82340455 0.83358489 0.84115615 0.85880547 0.82002817\n",
            " 0.81833995 0.81823766 0.81399157 0.81660058 0.81583322 0.81992582\n",
            " 0.81644715 0.81900502 0.82110246 0.81951659 0.82069318 0.81818651\n",
            " 0.81772608 0.79301702 0.78820821 0.78652005 0.7934263  0.80350429\n",
            " 0.80601102 0.80524366 0.79306816 0.78907792 0.79086843 0.79409131\n",
            " 0.80345315 0.79337516 0.79030571 0.78759434 0.78278553 0.78411561\n",
            " 0.79260779 0.79772354 0.79132886 0.79122651 0.78713391 0.77117282\n",
            " 0.76938231 0.77526541 0.76513621 0.75618366 0.73894363 0.74175729\n",
            " 0.75367693 0.76861494 0.78206931 0.77736285 0.7703031  0.76917766\n",
            " 0.78626426 0.79787697 0.79010107 0.7875432  0.79004992 0.81117791\n",
            " 0.80232771 0.80304386 0.79721196 0.77700478 0.78953835 0.7832971\n",
            " 0.79286358 0.7864689  0.77736759 0.77148503]\n",
            "2 day output [[0.76670057]]\n",
            "3 day input [0.80693188 0.80283928 0.76227141 0.82340455 0.81711216 0.83404532\n",
            " 0.80672724 0.82330226 0.81158719 0.78928256 0.79194272 0.78979414\n",
            " 0.79357974 0.78590612 0.7633457  0.76375499 0.75168184 0.75822996\n",
            " 0.75807652 0.7785395  0.79189158 0.78733855 0.77066124 0.75203992\n",
            " 0.76436885 0.80954089 0.79634225 0.81521936 0.83128281 0.82212561\n",
            " 0.82340455 0.83358489 0.84115615 0.85880547 0.82002817 0.81833995\n",
            " 0.81823766 0.81399157 0.81660058 0.81583322 0.81992582 0.81644715\n",
            " 0.81900502 0.82110246 0.81951659 0.82069318 0.81818651 0.81772608\n",
            " 0.79301702 0.78820821 0.78652005 0.7934263  0.80350429 0.80601102\n",
            " 0.80524366 0.79306816 0.78907792 0.79086843 0.79409131 0.80345315\n",
            " 0.79337516 0.79030571 0.78759434 0.78278553 0.78411561 0.79260779\n",
            " 0.79772354 0.79132886 0.79122651 0.78713391 0.77117282 0.76938231\n",
            " 0.77526541 0.76513621 0.75618366 0.73894363 0.74175729 0.75367693\n",
            " 0.76861494 0.78206931 0.77736285 0.7703031  0.76917766 0.78626426\n",
            " 0.79787697 0.79010107 0.7875432  0.79004992 0.81117791 0.80232771\n",
            " 0.80304386 0.79721196 0.77700478 0.78953835 0.7832971  0.79286358\n",
            " 0.7864689  0.77736759 0.77148503 0.76670057]\n",
            "3 day output [[0.7624423]]\n",
            "4 day input [0.80283928 0.76227141 0.82340455 0.81711216 0.83404532 0.80672724\n",
            " 0.82330226 0.81158719 0.78928256 0.79194272 0.78979414 0.79357974\n",
            " 0.78590612 0.7633457  0.76375499 0.75168184 0.75822996 0.75807652\n",
            " 0.7785395  0.79189158 0.78733855 0.77066124 0.75203992 0.76436885\n",
            " 0.80954089 0.79634225 0.81521936 0.83128281 0.82212561 0.82340455\n",
            " 0.83358489 0.84115615 0.85880547 0.82002817 0.81833995 0.81823766\n",
            " 0.81399157 0.81660058 0.81583322 0.81992582 0.81644715 0.81900502\n",
            " 0.82110246 0.81951659 0.82069318 0.81818651 0.81772608 0.79301702\n",
            " 0.78820821 0.78652005 0.7934263  0.80350429 0.80601102 0.80524366\n",
            " 0.79306816 0.78907792 0.79086843 0.79409131 0.80345315 0.79337516\n",
            " 0.79030571 0.78759434 0.78278553 0.78411561 0.79260779 0.79772354\n",
            " 0.79132886 0.79122651 0.78713391 0.77117282 0.76938231 0.77526541\n",
            " 0.76513621 0.75618366 0.73894363 0.74175729 0.75367693 0.76861494\n",
            " 0.78206931 0.77736285 0.7703031  0.76917766 0.78626426 0.79787697\n",
            " 0.79010107 0.7875432  0.79004992 0.81117791 0.80232771 0.80304386\n",
            " 0.79721196 0.77700478 0.78953835 0.7832971  0.79286358 0.7864689\n",
            " 0.77736759 0.77148503 0.76670057 0.76244229]\n",
            "4 day output [[0.7583761]]\n",
            "5 day input [0.76227141 0.82340455 0.81711216 0.83404532 0.80672724 0.82330226\n",
            " 0.81158719 0.78928256 0.79194272 0.78979414 0.79357974 0.78590612\n",
            " 0.7633457  0.76375499 0.75168184 0.75822996 0.75807652 0.7785395\n",
            " 0.79189158 0.78733855 0.77066124 0.75203992 0.76436885 0.80954089\n",
            " 0.79634225 0.81521936 0.83128281 0.82212561 0.82340455 0.83358489\n",
            " 0.84115615 0.85880547 0.82002817 0.81833995 0.81823766 0.81399157\n",
            " 0.81660058 0.81583322 0.81992582 0.81644715 0.81900502 0.82110246\n",
            " 0.81951659 0.82069318 0.81818651 0.81772608 0.79301702 0.78820821\n",
            " 0.78652005 0.7934263  0.80350429 0.80601102 0.80524366 0.79306816\n",
            " 0.78907792 0.79086843 0.79409131 0.80345315 0.79337516 0.79030571\n",
            " 0.78759434 0.78278553 0.78411561 0.79260779 0.79772354 0.79132886\n",
            " 0.79122651 0.78713391 0.77117282 0.76938231 0.77526541 0.76513621\n",
            " 0.75618366 0.73894363 0.74175729 0.75367693 0.76861494 0.78206931\n",
            " 0.77736285 0.7703031  0.76917766 0.78626426 0.79787697 0.79010107\n",
            " 0.7875432  0.79004992 0.81117791 0.80232771 0.80304386 0.79721196\n",
            " 0.77700478 0.78953835 0.7832971  0.79286358 0.7864689  0.77736759\n",
            " 0.77148503 0.76670057 0.76244229 0.75837612]\n",
            "5 day output [[0.75448483]]\n",
            "6 day input [0.82340455 0.81711216 0.83404532 0.80672724 0.82330226 0.81158719\n",
            " 0.78928256 0.79194272 0.78979414 0.79357974 0.78590612 0.7633457\n",
            " 0.76375499 0.75168184 0.75822996 0.75807652 0.7785395  0.79189158\n",
            " 0.78733855 0.77066124 0.75203992 0.76436885 0.80954089 0.79634225\n",
            " 0.81521936 0.83128281 0.82212561 0.82340455 0.83358489 0.84115615\n",
            " 0.85880547 0.82002817 0.81833995 0.81823766 0.81399157 0.81660058\n",
            " 0.81583322 0.81992582 0.81644715 0.81900502 0.82110246 0.81951659\n",
            " 0.82069318 0.81818651 0.81772608 0.79301702 0.78820821 0.78652005\n",
            " 0.7934263  0.80350429 0.80601102 0.80524366 0.79306816 0.78907792\n",
            " 0.79086843 0.79409131 0.80345315 0.79337516 0.79030571 0.78759434\n",
            " 0.78278553 0.78411561 0.79260779 0.79772354 0.79132886 0.79122651\n",
            " 0.78713391 0.77117282 0.76938231 0.77526541 0.76513621 0.75618366\n",
            " 0.73894363 0.74175729 0.75367693 0.76861494 0.78206931 0.77736285\n",
            " 0.7703031  0.76917766 0.78626426 0.79787697 0.79010107 0.7875432\n",
            " 0.79004992 0.81117791 0.80232771 0.80304386 0.79721196 0.77700478\n",
            " 0.78953835 0.7832971  0.79286358 0.7864689  0.77736759 0.77148503\n",
            " 0.76670057 0.76244229 0.75837612 0.75448483]\n",
            "6 day output [[0.7508192]]\n",
            "7 day input [0.81711216 0.83404532 0.80672724 0.82330226 0.81158719 0.78928256\n",
            " 0.79194272 0.78979414 0.79357974 0.78590612 0.7633457  0.76375499\n",
            " 0.75168184 0.75822996 0.75807652 0.7785395  0.79189158 0.78733855\n",
            " 0.77066124 0.75203992 0.76436885 0.80954089 0.79634225 0.81521936\n",
            " 0.83128281 0.82212561 0.82340455 0.83358489 0.84115615 0.85880547\n",
            " 0.82002817 0.81833995 0.81823766 0.81399157 0.81660058 0.81583322\n",
            " 0.81992582 0.81644715 0.81900502 0.82110246 0.81951659 0.82069318\n",
            " 0.81818651 0.81772608 0.79301702 0.78820821 0.78652005 0.7934263\n",
            " 0.80350429 0.80601102 0.80524366 0.79306816 0.78907792 0.79086843\n",
            " 0.79409131 0.80345315 0.79337516 0.79030571 0.78759434 0.78278553\n",
            " 0.78411561 0.79260779 0.79772354 0.79132886 0.79122651 0.78713391\n",
            " 0.77117282 0.76938231 0.77526541 0.76513621 0.75618366 0.73894363\n",
            " 0.74175729 0.75367693 0.76861494 0.78206931 0.77736285 0.7703031\n",
            " 0.76917766 0.78626426 0.79787697 0.79010107 0.7875432  0.79004992\n",
            " 0.81117791 0.80232771 0.80304386 0.79721196 0.77700478 0.78953835\n",
            " 0.7832971  0.79286358 0.7864689  0.77736759 0.77148503 0.76670057\n",
            " 0.76244229 0.75837612 0.75448483 0.75081921]\n",
            "7 day output [[0.7474043]]\n",
            "8 day input [0.83404532 0.80672724 0.82330226 0.81158719 0.78928256 0.79194272\n",
            " 0.78979414 0.79357974 0.78590612 0.7633457  0.76375499 0.75168184\n",
            " 0.75822996 0.75807652 0.7785395  0.79189158 0.78733855 0.77066124\n",
            " 0.75203992 0.76436885 0.80954089 0.79634225 0.81521936 0.83128281\n",
            " 0.82212561 0.82340455 0.83358489 0.84115615 0.85880547 0.82002817\n",
            " 0.81833995 0.81823766 0.81399157 0.81660058 0.81583322 0.81992582\n",
            " 0.81644715 0.81900502 0.82110246 0.81951659 0.82069318 0.81818651\n",
            " 0.81772608 0.79301702 0.78820821 0.78652005 0.7934263  0.80350429\n",
            " 0.80601102 0.80524366 0.79306816 0.78907792 0.79086843 0.79409131\n",
            " 0.80345315 0.79337516 0.79030571 0.78759434 0.78278553 0.78411561\n",
            " 0.79260779 0.79772354 0.79132886 0.79122651 0.78713391 0.77117282\n",
            " 0.76938231 0.77526541 0.76513621 0.75618366 0.73894363 0.74175729\n",
            " 0.75367693 0.76861494 0.78206931 0.77736285 0.7703031  0.76917766\n",
            " 0.78626426 0.79787697 0.79010107 0.7875432  0.79004992 0.81117791\n",
            " 0.80232771 0.80304386 0.79721196 0.77700478 0.78953835 0.7832971\n",
            " 0.79286358 0.7864689  0.77736759 0.77148503 0.76670057 0.76244229\n",
            " 0.75837612 0.75448483 0.75081921 0.74740428]\n",
            "8 day output [[0.7442297]]\n",
            "9 day input [0.80672724 0.82330226 0.81158719 0.78928256 0.79194272 0.78979414\n",
            " 0.79357974 0.78590612 0.7633457  0.76375499 0.75168184 0.75822996\n",
            " 0.75807652 0.7785395  0.79189158 0.78733855 0.77066124 0.75203992\n",
            " 0.76436885 0.80954089 0.79634225 0.81521936 0.83128281 0.82212561\n",
            " 0.82340455 0.83358489 0.84115615 0.85880547 0.82002817 0.81833995\n",
            " 0.81823766 0.81399157 0.81660058 0.81583322 0.81992582 0.81644715\n",
            " 0.81900502 0.82110246 0.81951659 0.82069318 0.81818651 0.81772608\n",
            " 0.79301702 0.78820821 0.78652005 0.7934263  0.80350429 0.80601102\n",
            " 0.80524366 0.79306816 0.78907792 0.79086843 0.79409131 0.80345315\n",
            " 0.79337516 0.79030571 0.78759434 0.78278553 0.78411561 0.79260779\n",
            " 0.79772354 0.79132886 0.79122651 0.78713391 0.77117282 0.76938231\n",
            " 0.77526541 0.76513621 0.75618366 0.73894363 0.74175729 0.75367693\n",
            " 0.76861494 0.78206931 0.77736285 0.7703031  0.76917766 0.78626426\n",
            " 0.79787697 0.79010107 0.7875432  0.79004992 0.81117791 0.80232771\n",
            " 0.80304386 0.79721196 0.77700478 0.78953835 0.7832971  0.79286358\n",
            " 0.7864689  0.77736759 0.77148503 0.76670057 0.76244229 0.75837612\n",
            " 0.75448483 0.75081921 0.74740428 0.74422967]\n",
            "9 day output [[0.74126714]]\n",
            "10 day input [0.82330226 0.81158719 0.78928256 0.79194272 0.78979414 0.79357974\n",
            " 0.78590612 0.7633457  0.76375499 0.75168184 0.75822996 0.75807652\n",
            " 0.7785395  0.79189158 0.78733855 0.77066124 0.75203992 0.76436885\n",
            " 0.80954089 0.79634225 0.81521936 0.83128281 0.82212561 0.82340455\n",
            " 0.83358489 0.84115615 0.85880547 0.82002817 0.81833995 0.81823766\n",
            " 0.81399157 0.81660058 0.81583322 0.81992582 0.81644715 0.81900502\n",
            " 0.82110246 0.81951659 0.82069318 0.81818651 0.81772608 0.79301702\n",
            " 0.78820821 0.78652005 0.7934263  0.80350429 0.80601102 0.80524366\n",
            " 0.79306816 0.78907792 0.79086843 0.79409131 0.80345315 0.79337516\n",
            " 0.79030571 0.78759434 0.78278553 0.78411561 0.79260779 0.79772354\n",
            " 0.79132886 0.79122651 0.78713391 0.77117282 0.76938231 0.77526541\n",
            " 0.76513621 0.75618366 0.73894363 0.74175729 0.75367693 0.76861494\n",
            " 0.78206931 0.77736285 0.7703031  0.76917766 0.78626426 0.79787697\n",
            " 0.79010107 0.7875432  0.79004992 0.81117791 0.80232771 0.80304386\n",
            " 0.79721196 0.77700478 0.78953835 0.7832971  0.79286358 0.7864689\n",
            " 0.77736759 0.77148503 0.76670057 0.76244229 0.75837612 0.75448483\n",
            " 0.75081921 0.74740428 0.74422967 0.74126714]\n",
            "10 day output [[0.7384836]]\n",
            "11 day input [0.81158719 0.78928256 0.79194272 0.78979414 0.79357974 0.78590612\n",
            " 0.7633457  0.76375499 0.75168184 0.75822996 0.75807652 0.7785395\n",
            " 0.79189158 0.78733855 0.77066124 0.75203992 0.76436885 0.80954089\n",
            " 0.79634225 0.81521936 0.83128281 0.82212561 0.82340455 0.83358489\n",
            " 0.84115615 0.85880547 0.82002817 0.81833995 0.81823766 0.81399157\n",
            " 0.81660058 0.81583322 0.81992582 0.81644715 0.81900502 0.82110246\n",
            " 0.81951659 0.82069318 0.81818651 0.81772608 0.79301702 0.78820821\n",
            " 0.78652005 0.7934263  0.80350429 0.80601102 0.80524366 0.79306816\n",
            " 0.78907792 0.79086843 0.79409131 0.80345315 0.79337516 0.79030571\n",
            " 0.78759434 0.78278553 0.78411561 0.79260779 0.79772354 0.79132886\n",
            " 0.79122651 0.78713391 0.77117282 0.76938231 0.77526541 0.76513621\n",
            " 0.75618366 0.73894363 0.74175729 0.75367693 0.76861494 0.78206931\n",
            " 0.77736285 0.7703031  0.76917766 0.78626426 0.79787697 0.79010107\n",
            " 0.7875432  0.79004992 0.81117791 0.80232771 0.80304386 0.79721196\n",
            " 0.77700478 0.78953835 0.7832971  0.79286358 0.7864689  0.77736759\n",
            " 0.77148503 0.76670057 0.76244229 0.75837612 0.75448483 0.75081921\n",
            " 0.74740428 0.74422967 0.74126714 0.73848361]\n",
            "11 day output [[0.7358492]]\n",
            "12 day input [0.78928256 0.79194272 0.78979414 0.79357974 0.78590612 0.7633457\n",
            " 0.76375499 0.75168184 0.75822996 0.75807652 0.7785395  0.79189158\n",
            " 0.78733855 0.77066124 0.75203992 0.76436885 0.80954089 0.79634225\n",
            " 0.81521936 0.83128281 0.82212561 0.82340455 0.83358489 0.84115615\n",
            " 0.85880547 0.82002817 0.81833995 0.81823766 0.81399157 0.81660058\n",
            " 0.81583322 0.81992582 0.81644715 0.81900502 0.82110246 0.81951659\n",
            " 0.82069318 0.81818651 0.81772608 0.79301702 0.78820821 0.78652005\n",
            " 0.7934263  0.80350429 0.80601102 0.80524366 0.79306816 0.78907792\n",
            " 0.79086843 0.79409131 0.80345315 0.79337516 0.79030571 0.78759434\n",
            " 0.78278553 0.78411561 0.79260779 0.79772354 0.79132886 0.79122651\n",
            " 0.78713391 0.77117282 0.76938231 0.77526541 0.76513621 0.75618366\n",
            " 0.73894363 0.74175729 0.75367693 0.76861494 0.78206931 0.77736285\n",
            " 0.7703031  0.76917766 0.78626426 0.79787697 0.79010107 0.7875432\n",
            " 0.79004992 0.81117791 0.80232771 0.80304386 0.79721196 0.77700478\n",
            " 0.78953835 0.7832971  0.79286358 0.7864689  0.77736759 0.77148503\n",
            " 0.76670057 0.76244229 0.75837612 0.75448483 0.75081921 0.74740428\n",
            " 0.74422967 0.74126714 0.73848361 0.7358492 ]\n",
            "12 day output [[0.73333824]]\n",
            "13 day input [0.79194272 0.78979414 0.79357974 0.78590612 0.7633457  0.76375499\n",
            " 0.75168184 0.75822996 0.75807652 0.7785395  0.79189158 0.78733855\n",
            " 0.77066124 0.75203992 0.76436885 0.80954089 0.79634225 0.81521936\n",
            " 0.83128281 0.82212561 0.82340455 0.83358489 0.84115615 0.85880547\n",
            " 0.82002817 0.81833995 0.81823766 0.81399157 0.81660058 0.81583322\n",
            " 0.81992582 0.81644715 0.81900502 0.82110246 0.81951659 0.82069318\n",
            " 0.81818651 0.81772608 0.79301702 0.78820821 0.78652005 0.7934263\n",
            " 0.80350429 0.80601102 0.80524366 0.79306816 0.78907792 0.79086843\n",
            " 0.79409131 0.80345315 0.79337516 0.79030571 0.78759434 0.78278553\n",
            " 0.78411561 0.79260779 0.79772354 0.79132886 0.79122651 0.78713391\n",
            " 0.77117282 0.76938231 0.77526541 0.76513621 0.75618366 0.73894363\n",
            " 0.74175729 0.75367693 0.76861494 0.78206931 0.77736285 0.7703031\n",
            " 0.76917766 0.78626426 0.79787697 0.79010107 0.7875432  0.79004992\n",
            " 0.81117791 0.80232771 0.80304386 0.79721196 0.77700478 0.78953835\n",
            " 0.7832971  0.79286358 0.7864689  0.77736759 0.77148503 0.76670057\n",
            " 0.76244229 0.75837612 0.75448483 0.75081921 0.74740428 0.74422967\n",
            " 0.74126714 0.73848361 0.7358492  0.73333824]\n",
            "13 day output [[0.7309309]]\n",
            "14 day input [0.78979414 0.79357974 0.78590612 0.7633457  0.76375499 0.75168184\n",
            " 0.75822996 0.75807652 0.7785395  0.79189158 0.78733855 0.77066124\n",
            " 0.75203992 0.76436885 0.80954089 0.79634225 0.81521936 0.83128281\n",
            " 0.82212561 0.82340455 0.83358489 0.84115615 0.85880547 0.82002817\n",
            " 0.81833995 0.81823766 0.81399157 0.81660058 0.81583322 0.81992582\n",
            " 0.81644715 0.81900502 0.82110246 0.81951659 0.82069318 0.81818651\n",
            " 0.81772608 0.79301702 0.78820821 0.78652005 0.7934263  0.80350429\n",
            " 0.80601102 0.80524366 0.79306816 0.78907792 0.79086843 0.79409131\n",
            " 0.80345315 0.79337516 0.79030571 0.78759434 0.78278553 0.78411561\n",
            " 0.79260779 0.79772354 0.79132886 0.79122651 0.78713391 0.77117282\n",
            " 0.76938231 0.77526541 0.76513621 0.75618366 0.73894363 0.74175729\n",
            " 0.75367693 0.76861494 0.78206931 0.77736285 0.7703031  0.76917766\n",
            " 0.78626426 0.79787697 0.79010107 0.7875432  0.79004992 0.81117791\n",
            " 0.80232771 0.80304386 0.79721196 0.77700478 0.78953835 0.7832971\n",
            " 0.79286358 0.7864689  0.77736759 0.77148503 0.76670057 0.76244229\n",
            " 0.75837612 0.75448483 0.75081921 0.74740428 0.74422967 0.74126714\n",
            " 0.73848361 0.7358492  0.73333824 0.73093092]\n",
            "14 day output [[0.72861207]]\n",
            "15 day input [0.79357974 0.78590612 0.7633457  0.76375499 0.75168184 0.75822996\n",
            " 0.75807652 0.7785395  0.79189158 0.78733855 0.77066124 0.75203992\n",
            " 0.76436885 0.80954089 0.79634225 0.81521936 0.83128281 0.82212561\n",
            " 0.82340455 0.83358489 0.84115615 0.85880547 0.82002817 0.81833995\n",
            " 0.81823766 0.81399157 0.81660058 0.81583322 0.81992582 0.81644715\n",
            " 0.81900502 0.82110246 0.81951659 0.82069318 0.81818651 0.81772608\n",
            " 0.79301702 0.78820821 0.78652005 0.7934263  0.80350429 0.80601102\n",
            " 0.80524366 0.79306816 0.78907792 0.79086843 0.79409131 0.80345315\n",
            " 0.79337516 0.79030571 0.78759434 0.78278553 0.78411561 0.79260779\n",
            " 0.79772354 0.79132886 0.79122651 0.78713391 0.77117282 0.76938231\n",
            " 0.77526541 0.76513621 0.75618366 0.73894363 0.74175729 0.75367693\n",
            " 0.76861494 0.78206931 0.77736285 0.7703031  0.76917766 0.78626426\n",
            " 0.79787697 0.79010107 0.7875432  0.79004992 0.81117791 0.80232771\n",
            " 0.80304386 0.79721196 0.77700478 0.78953835 0.7832971  0.79286358\n",
            " 0.7864689  0.77736759 0.77148503 0.76670057 0.76244229 0.75837612\n",
            " 0.75448483 0.75081921 0.74740428 0.74422967 0.74126714 0.73848361\n",
            " 0.7358492  0.73333824 0.73093092 0.72861207]\n",
            "15 day output [[0.7263702]]\n",
            "16 day input [0.78590612 0.7633457  0.76375499 0.75168184 0.75822996 0.75807652\n",
            " 0.7785395  0.79189158 0.78733855 0.77066124 0.75203992 0.76436885\n",
            " 0.80954089 0.79634225 0.81521936 0.83128281 0.82212561 0.82340455\n",
            " 0.83358489 0.84115615 0.85880547 0.82002817 0.81833995 0.81823766\n",
            " 0.81399157 0.81660058 0.81583322 0.81992582 0.81644715 0.81900502\n",
            " 0.82110246 0.81951659 0.82069318 0.81818651 0.81772608 0.79301702\n",
            " 0.78820821 0.78652005 0.7934263  0.80350429 0.80601102 0.80524366\n",
            " 0.79306816 0.78907792 0.79086843 0.79409131 0.80345315 0.79337516\n",
            " 0.79030571 0.78759434 0.78278553 0.78411561 0.79260779 0.79772354\n",
            " 0.79132886 0.79122651 0.78713391 0.77117282 0.76938231 0.77526541\n",
            " 0.76513621 0.75618366 0.73894363 0.74175729 0.75367693 0.76861494\n",
            " 0.78206931 0.77736285 0.7703031  0.76917766 0.78626426 0.79787697\n",
            " 0.79010107 0.7875432  0.79004992 0.81117791 0.80232771 0.80304386\n",
            " 0.79721196 0.77700478 0.78953835 0.7832971  0.79286358 0.7864689\n",
            " 0.77736759 0.77148503 0.76670057 0.76244229 0.75837612 0.75448483\n",
            " 0.75081921 0.74740428 0.74422967 0.74126714 0.73848361 0.7358492\n",
            " 0.73333824 0.73093092 0.72861207 0.72637022]\n",
            "16 day output [[0.72419745]]\n",
            "17 day input [0.7633457  0.76375499 0.75168184 0.75822996 0.75807652 0.7785395\n",
            " 0.79189158 0.78733855 0.77066124 0.75203992 0.76436885 0.80954089\n",
            " 0.79634225 0.81521936 0.83128281 0.82212561 0.82340455 0.83358489\n",
            " 0.84115615 0.85880547 0.82002817 0.81833995 0.81823766 0.81399157\n",
            " 0.81660058 0.81583322 0.81992582 0.81644715 0.81900502 0.82110246\n",
            " 0.81951659 0.82069318 0.81818651 0.81772608 0.79301702 0.78820821\n",
            " 0.78652005 0.7934263  0.80350429 0.80601102 0.80524366 0.79306816\n",
            " 0.78907792 0.79086843 0.79409131 0.80345315 0.79337516 0.79030571\n",
            " 0.78759434 0.78278553 0.78411561 0.79260779 0.79772354 0.79132886\n",
            " 0.79122651 0.78713391 0.77117282 0.76938231 0.77526541 0.76513621\n",
            " 0.75618366 0.73894363 0.74175729 0.75367693 0.76861494 0.78206931\n",
            " 0.77736285 0.7703031  0.76917766 0.78626426 0.79787697 0.79010107\n",
            " 0.7875432  0.79004992 0.81117791 0.80232771 0.80304386 0.79721196\n",
            " 0.77700478 0.78953835 0.7832971  0.79286358 0.7864689  0.77736759\n",
            " 0.77148503 0.76670057 0.76244229 0.75837612 0.75448483 0.75081921\n",
            " 0.74740428 0.74422967 0.74126714 0.73848361 0.7358492  0.73333824\n",
            " 0.73093092 0.72861207 0.72637022 0.72419745]\n",
            "17 day output [[0.72208834]]\n",
            "18 day input [0.76375499 0.75168184 0.75822996 0.75807652 0.7785395  0.79189158\n",
            " 0.78733855 0.77066124 0.75203992 0.76436885 0.80954089 0.79634225\n",
            " 0.81521936 0.83128281 0.82212561 0.82340455 0.83358489 0.84115615\n",
            " 0.85880547 0.82002817 0.81833995 0.81823766 0.81399157 0.81660058\n",
            " 0.81583322 0.81992582 0.81644715 0.81900502 0.82110246 0.81951659\n",
            " 0.82069318 0.81818651 0.81772608 0.79301702 0.78820821 0.78652005\n",
            " 0.7934263  0.80350429 0.80601102 0.80524366 0.79306816 0.78907792\n",
            " 0.79086843 0.79409131 0.80345315 0.79337516 0.79030571 0.78759434\n",
            " 0.78278553 0.78411561 0.79260779 0.79772354 0.79132886 0.79122651\n",
            " 0.78713391 0.77117282 0.76938231 0.77526541 0.76513621 0.75618366\n",
            " 0.73894363 0.74175729 0.75367693 0.76861494 0.78206931 0.77736285\n",
            " 0.7703031  0.76917766 0.78626426 0.79787697 0.79010107 0.7875432\n",
            " 0.79004992 0.81117791 0.80232771 0.80304386 0.79721196 0.77700478\n",
            " 0.78953835 0.7832971  0.79286358 0.7864689  0.77736759 0.77148503\n",
            " 0.76670057 0.76244229 0.75837612 0.75448483 0.75081921 0.74740428\n",
            " 0.74422967 0.74126714 0.73848361 0.7358492  0.73333824 0.73093092\n",
            " 0.72861207 0.72637022 0.72419745 0.72208834]\n",
            "18 day output [[0.72003967]]\n",
            "19 day input [0.75168184 0.75822996 0.75807652 0.7785395  0.79189158 0.78733855\n",
            " 0.77066124 0.75203992 0.76436885 0.80954089 0.79634225 0.81521936\n",
            " 0.83128281 0.82212561 0.82340455 0.83358489 0.84115615 0.85880547\n",
            " 0.82002817 0.81833995 0.81823766 0.81399157 0.81660058 0.81583322\n",
            " 0.81992582 0.81644715 0.81900502 0.82110246 0.81951659 0.82069318\n",
            " 0.81818651 0.81772608 0.79301702 0.78820821 0.78652005 0.7934263\n",
            " 0.80350429 0.80601102 0.80524366 0.79306816 0.78907792 0.79086843\n",
            " 0.79409131 0.80345315 0.79337516 0.79030571 0.78759434 0.78278553\n",
            " 0.78411561 0.79260779 0.79772354 0.79132886 0.79122651 0.78713391\n",
            " 0.77117282 0.76938231 0.77526541 0.76513621 0.75618366 0.73894363\n",
            " 0.74175729 0.75367693 0.76861494 0.78206931 0.77736285 0.7703031\n",
            " 0.76917766 0.78626426 0.79787697 0.79010107 0.7875432  0.79004992\n",
            " 0.81117791 0.80232771 0.80304386 0.79721196 0.77700478 0.78953835\n",
            " 0.7832971  0.79286358 0.7864689  0.77736759 0.77148503 0.76670057\n",
            " 0.76244229 0.75837612 0.75448483 0.75081921 0.74740428 0.74422967\n",
            " 0.74126714 0.73848361 0.7358492  0.73333824 0.73093092 0.72861207\n",
            " 0.72637022 0.72419745 0.72208834 0.72003967]\n",
            "19 day output [[0.71804965]]\n",
            "20 day input [0.75822996 0.75807652 0.7785395  0.79189158 0.78733855 0.77066124\n",
            " 0.75203992 0.76436885 0.80954089 0.79634225 0.81521936 0.83128281\n",
            " 0.82212561 0.82340455 0.83358489 0.84115615 0.85880547 0.82002817\n",
            " 0.81833995 0.81823766 0.81399157 0.81660058 0.81583322 0.81992582\n",
            " 0.81644715 0.81900502 0.82110246 0.81951659 0.82069318 0.81818651\n",
            " 0.81772608 0.79301702 0.78820821 0.78652005 0.7934263  0.80350429\n",
            " 0.80601102 0.80524366 0.79306816 0.78907792 0.79086843 0.79409131\n",
            " 0.80345315 0.79337516 0.79030571 0.78759434 0.78278553 0.78411561\n",
            " 0.79260779 0.79772354 0.79132886 0.79122651 0.78713391 0.77117282\n",
            " 0.76938231 0.77526541 0.76513621 0.75618366 0.73894363 0.74175729\n",
            " 0.75367693 0.76861494 0.78206931 0.77736285 0.7703031  0.76917766\n",
            " 0.78626426 0.79787697 0.79010107 0.7875432  0.79004992 0.81117791\n",
            " 0.80232771 0.80304386 0.79721196 0.77700478 0.78953835 0.7832971\n",
            " 0.79286358 0.7864689  0.77736759 0.77148503 0.76670057 0.76244229\n",
            " 0.75837612 0.75448483 0.75081921 0.74740428 0.74422967 0.74126714\n",
            " 0.73848361 0.7358492  0.73333824 0.73093092 0.72861207 0.72637022\n",
            " 0.72419745 0.72208834 0.72003967 0.71804965]\n",
            "20 day output [[0.71611667]]\n",
            "21 day input [0.75807652 0.7785395  0.79189158 0.78733855 0.77066124 0.75203992\n",
            " 0.76436885 0.80954089 0.79634225 0.81521936 0.83128281 0.82212561\n",
            " 0.82340455 0.83358489 0.84115615 0.85880547 0.82002817 0.81833995\n",
            " 0.81823766 0.81399157 0.81660058 0.81583322 0.81992582 0.81644715\n",
            " 0.81900502 0.82110246 0.81951659 0.82069318 0.81818651 0.81772608\n",
            " 0.79301702 0.78820821 0.78652005 0.7934263  0.80350429 0.80601102\n",
            " 0.80524366 0.79306816 0.78907792 0.79086843 0.79409131 0.80345315\n",
            " 0.79337516 0.79030571 0.78759434 0.78278553 0.78411561 0.79260779\n",
            " 0.79772354 0.79132886 0.79122651 0.78713391 0.77117282 0.76938231\n",
            " 0.77526541 0.76513621 0.75618366 0.73894363 0.74175729 0.75367693\n",
            " 0.76861494 0.78206931 0.77736285 0.7703031  0.76917766 0.78626426\n",
            " 0.79787697 0.79010107 0.7875432  0.79004992 0.81117791 0.80232771\n",
            " 0.80304386 0.79721196 0.77700478 0.78953835 0.7832971  0.79286358\n",
            " 0.7864689  0.77736759 0.77148503 0.76670057 0.76244229 0.75837612\n",
            " 0.75448483 0.75081921 0.74740428 0.74422967 0.74126714 0.73848361\n",
            " 0.7358492  0.73333824 0.73093092 0.72861207 0.72637022 0.72419745\n",
            " 0.72208834 0.72003967 0.71804965 0.71611667]\n",
            "21 day output [[0.7142404]]\n",
            "22 day input [0.7785395  0.79189158 0.78733855 0.77066124 0.75203992 0.76436885\n",
            " 0.80954089 0.79634225 0.81521936 0.83128281 0.82212561 0.82340455\n",
            " 0.83358489 0.84115615 0.85880547 0.82002817 0.81833995 0.81823766\n",
            " 0.81399157 0.81660058 0.81583322 0.81992582 0.81644715 0.81900502\n",
            " 0.82110246 0.81951659 0.82069318 0.81818651 0.81772608 0.79301702\n",
            " 0.78820821 0.78652005 0.7934263  0.80350429 0.80601102 0.80524366\n",
            " 0.79306816 0.78907792 0.79086843 0.79409131 0.80345315 0.79337516\n",
            " 0.79030571 0.78759434 0.78278553 0.78411561 0.79260779 0.79772354\n",
            " 0.79132886 0.79122651 0.78713391 0.77117282 0.76938231 0.77526541\n",
            " 0.76513621 0.75618366 0.73894363 0.74175729 0.75367693 0.76861494\n",
            " 0.78206931 0.77736285 0.7703031  0.76917766 0.78626426 0.79787697\n",
            " 0.79010107 0.7875432  0.79004992 0.81117791 0.80232771 0.80304386\n",
            " 0.79721196 0.77700478 0.78953835 0.7832971  0.79286358 0.7864689\n",
            " 0.77736759 0.77148503 0.76670057 0.76244229 0.75837612 0.75448483\n",
            " 0.75081921 0.74740428 0.74422967 0.74126714 0.73848361 0.7358492\n",
            " 0.73333824 0.73093092 0.72861207 0.72637022 0.72419745 0.72208834\n",
            " 0.72003967 0.71804965 0.71611667 0.71424037]\n",
            "22 day output [[0.71242034]]\n",
            "23 day input [0.79189158 0.78733855 0.77066124 0.75203992 0.76436885 0.80954089\n",
            " 0.79634225 0.81521936 0.83128281 0.82212561 0.82340455 0.83358489\n",
            " 0.84115615 0.85880547 0.82002817 0.81833995 0.81823766 0.81399157\n",
            " 0.81660058 0.81583322 0.81992582 0.81644715 0.81900502 0.82110246\n",
            " 0.81951659 0.82069318 0.81818651 0.81772608 0.79301702 0.78820821\n",
            " 0.78652005 0.7934263  0.80350429 0.80601102 0.80524366 0.79306816\n",
            " 0.78907792 0.79086843 0.79409131 0.80345315 0.79337516 0.79030571\n",
            " 0.78759434 0.78278553 0.78411561 0.79260779 0.79772354 0.79132886\n",
            " 0.79122651 0.78713391 0.77117282 0.76938231 0.77526541 0.76513621\n",
            " 0.75618366 0.73894363 0.74175729 0.75367693 0.76861494 0.78206931\n",
            " 0.77736285 0.7703031  0.76917766 0.78626426 0.79787697 0.79010107\n",
            " 0.7875432  0.79004992 0.81117791 0.80232771 0.80304386 0.79721196\n",
            " 0.77700478 0.78953835 0.7832971  0.79286358 0.7864689  0.77736759\n",
            " 0.77148503 0.76670057 0.76244229 0.75837612 0.75448483 0.75081921\n",
            " 0.74740428 0.74422967 0.74126714 0.73848361 0.7358492  0.73333824\n",
            " 0.73093092 0.72861207 0.72637022 0.72419745 0.72208834 0.72003967\n",
            " 0.71804965 0.71611667 0.71424037 0.71242034]\n",
            "23 day output [[0.71065587]]\n",
            "24 day input [0.78733855 0.77066124 0.75203992 0.76436885 0.80954089 0.79634225\n",
            " 0.81521936 0.83128281 0.82212561 0.82340455 0.83358489 0.84115615\n",
            " 0.85880547 0.82002817 0.81833995 0.81823766 0.81399157 0.81660058\n",
            " 0.81583322 0.81992582 0.81644715 0.81900502 0.82110246 0.81951659\n",
            " 0.82069318 0.81818651 0.81772608 0.79301702 0.78820821 0.78652005\n",
            " 0.7934263  0.80350429 0.80601102 0.80524366 0.79306816 0.78907792\n",
            " 0.79086843 0.79409131 0.80345315 0.79337516 0.79030571 0.78759434\n",
            " 0.78278553 0.78411561 0.79260779 0.79772354 0.79132886 0.79122651\n",
            " 0.78713391 0.77117282 0.76938231 0.77526541 0.76513621 0.75618366\n",
            " 0.73894363 0.74175729 0.75367693 0.76861494 0.78206931 0.77736285\n",
            " 0.7703031  0.76917766 0.78626426 0.79787697 0.79010107 0.7875432\n",
            " 0.79004992 0.81117791 0.80232771 0.80304386 0.79721196 0.77700478\n",
            " 0.78953835 0.7832971  0.79286358 0.7864689  0.77736759 0.77148503\n",
            " 0.76670057 0.76244229 0.75837612 0.75448483 0.75081921 0.74740428\n",
            " 0.74422967 0.74126714 0.73848361 0.7358492  0.73333824 0.73093092\n",
            " 0.72861207 0.72637022 0.72419745 0.72208834 0.72003967 0.71804965\n",
            " 0.71611667 0.71424037 0.71242034 0.71065587]\n",
            "24 day output [[0.7089459]]\n",
            "25 day input [0.77066124 0.75203992 0.76436885 0.80954089 0.79634225 0.81521936\n",
            " 0.83128281 0.82212561 0.82340455 0.83358489 0.84115615 0.85880547\n",
            " 0.82002817 0.81833995 0.81823766 0.81399157 0.81660058 0.81583322\n",
            " 0.81992582 0.81644715 0.81900502 0.82110246 0.81951659 0.82069318\n",
            " 0.81818651 0.81772608 0.79301702 0.78820821 0.78652005 0.7934263\n",
            " 0.80350429 0.80601102 0.80524366 0.79306816 0.78907792 0.79086843\n",
            " 0.79409131 0.80345315 0.79337516 0.79030571 0.78759434 0.78278553\n",
            " 0.78411561 0.79260779 0.79772354 0.79132886 0.79122651 0.78713391\n",
            " 0.77117282 0.76938231 0.77526541 0.76513621 0.75618366 0.73894363\n",
            " 0.74175729 0.75367693 0.76861494 0.78206931 0.77736285 0.7703031\n",
            " 0.76917766 0.78626426 0.79787697 0.79010107 0.7875432  0.79004992\n",
            " 0.81117791 0.80232771 0.80304386 0.79721196 0.77700478 0.78953835\n",
            " 0.7832971  0.79286358 0.7864689  0.77736759 0.77148503 0.76670057\n",
            " 0.76244229 0.75837612 0.75448483 0.75081921 0.74740428 0.74422967\n",
            " 0.74126714 0.73848361 0.7358492  0.73333824 0.73093092 0.72861207\n",
            " 0.72637022 0.72419745 0.72208834 0.72003967 0.71804965 0.71611667\n",
            " 0.71424037 0.71242034 0.71065587 0.70894587]\n",
            "25 day output [[0.7072896]]\n",
            "26 day input [0.75203992 0.76436885 0.80954089 0.79634225 0.81521936 0.83128281\n",
            " 0.82212561 0.82340455 0.83358489 0.84115615 0.85880547 0.82002817\n",
            " 0.81833995 0.81823766 0.81399157 0.81660058 0.81583322 0.81992582\n",
            " 0.81644715 0.81900502 0.82110246 0.81951659 0.82069318 0.81818651\n",
            " 0.81772608 0.79301702 0.78820821 0.78652005 0.7934263  0.80350429\n",
            " 0.80601102 0.80524366 0.79306816 0.78907792 0.79086843 0.79409131\n",
            " 0.80345315 0.79337516 0.79030571 0.78759434 0.78278553 0.78411561\n",
            " 0.79260779 0.79772354 0.79132886 0.79122651 0.78713391 0.77117282\n",
            " 0.76938231 0.77526541 0.76513621 0.75618366 0.73894363 0.74175729\n",
            " 0.75367693 0.76861494 0.78206931 0.77736285 0.7703031  0.76917766\n",
            " 0.78626426 0.79787697 0.79010107 0.7875432  0.79004992 0.81117791\n",
            " 0.80232771 0.80304386 0.79721196 0.77700478 0.78953835 0.7832971\n",
            " 0.79286358 0.7864689  0.77736759 0.77148503 0.76670057 0.76244229\n",
            " 0.75837612 0.75448483 0.75081921 0.74740428 0.74422967 0.74126714\n",
            " 0.73848361 0.7358492  0.73333824 0.73093092 0.72861207 0.72637022\n",
            " 0.72419745 0.72208834 0.72003967 0.71804965 0.71611667 0.71424037\n",
            " 0.71242034 0.71065587 0.70894587 0.70728958]\n",
            "26 day output [[0.70568544]]\n",
            "27 day input [0.76436885 0.80954089 0.79634225 0.81521936 0.83128281 0.82212561\n",
            " 0.82340455 0.83358489 0.84115615 0.85880547 0.82002817 0.81833995\n",
            " 0.81823766 0.81399157 0.81660058 0.81583322 0.81992582 0.81644715\n",
            " 0.81900502 0.82110246 0.81951659 0.82069318 0.81818651 0.81772608\n",
            " 0.79301702 0.78820821 0.78652005 0.7934263  0.80350429 0.80601102\n",
            " 0.80524366 0.79306816 0.78907792 0.79086843 0.79409131 0.80345315\n",
            " 0.79337516 0.79030571 0.78759434 0.78278553 0.78411561 0.79260779\n",
            " 0.79772354 0.79132886 0.79122651 0.78713391 0.77117282 0.76938231\n",
            " 0.77526541 0.76513621 0.75618366 0.73894363 0.74175729 0.75367693\n",
            " 0.76861494 0.78206931 0.77736285 0.7703031  0.76917766 0.78626426\n",
            " 0.79787697 0.79010107 0.7875432  0.79004992 0.81117791 0.80232771\n",
            " 0.80304386 0.79721196 0.77700478 0.78953835 0.7832971  0.79286358\n",
            " 0.7864689  0.77736759 0.77148503 0.76670057 0.76244229 0.75837612\n",
            " 0.75448483 0.75081921 0.74740428 0.74422967 0.74126714 0.73848361\n",
            " 0.7358492  0.73333824 0.73093092 0.72861207 0.72637022 0.72419745\n",
            " 0.72208834 0.72003967 0.71804965 0.71611667 0.71424037 0.71242034\n",
            " 0.71065587 0.70894587 0.70728958 0.70568544]\n",
            "27 day output [[0.704132]]\n",
            "28 day input [0.80954089 0.79634225 0.81521936 0.83128281 0.82212561 0.82340455\n",
            " 0.83358489 0.84115615 0.85880547 0.82002817 0.81833995 0.81823766\n",
            " 0.81399157 0.81660058 0.81583322 0.81992582 0.81644715 0.81900502\n",
            " 0.82110246 0.81951659 0.82069318 0.81818651 0.81772608 0.79301702\n",
            " 0.78820821 0.78652005 0.7934263  0.80350429 0.80601102 0.80524366\n",
            " 0.79306816 0.78907792 0.79086843 0.79409131 0.80345315 0.79337516\n",
            " 0.79030571 0.78759434 0.78278553 0.78411561 0.79260779 0.79772354\n",
            " 0.79132886 0.79122651 0.78713391 0.77117282 0.76938231 0.77526541\n",
            " 0.76513621 0.75618366 0.73894363 0.74175729 0.75367693 0.76861494\n",
            " 0.78206931 0.77736285 0.7703031  0.76917766 0.78626426 0.79787697\n",
            " 0.79010107 0.7875432  0.79004992 0.81117791 0.80232771 0.80304386\n",
            " 0.79721196 0.77700478 0.78953835 0.7832971  0.79286358 0.7864689\n",
            " 0.77736759 0.77148503 0.76670057 0.76244229 0.75837612 0.75448483\n",
            " 0.75081921 0.74740428 0.74422967 0.74126714 0.73848361 0.7358492\n",
            " 0.73333824 0.73093092 0.72861207 0.72637022 0.72419745 0.72208834\n",
            " 0.72003967 0.71804965 0.71611667 0.71424037 0.71242034 0.71065587\n",
            " 0.70894587 0.70728958 0.70568544 0.70413202]\n",
            "28 day output [[0.70262766]]\n",
            "29 day input [0.79634225 0.81521936 0.83128281 0.82212561 0.82340455 0.83358489\n",
            " 0.84115615 0.85880547 0.82002817 0.81833995 0.81823766 0.81399157\n",
            " 0.81660058 0.81583322 0.81992582 0.81644715 0.81900502 0.82110246\n",
            " 0.81951659 0.82069318 0.81818651 0.81772608 0.79301702 0.78820821\n",
            " 0.78652005 0.7934263  0.80350429 0.80601102 0.80524366 0.79306816\n",
            " 0.78907792 0.79086843 0.79409131 0.80345315 0.79337516 0.79030571\n",
            " 0.78759434 0.78278553 0.78411561 0.79260779 0.79772354 0.79132886\n",
            " 0.79122651 0.78713391 0.77117282 0.76938231 0.77526541 0.76513621\n",
            " 0.75618366 0.73894363 0.74175729 0.75367693 0.76861494 0.78206931\n",
            " 0.77736285 0.7703031  0.76917766 0.78626426 0.79787697 0.79010107\n",
            " 0.7875432  0.79004992 0.81117791 0.80232771 0.80304386 0.79721196\n",
            " 0.77700478 0.78953835 0.7832971  0.79286358 0.7864689  0.77736759\n",
            " 0.77148503 0.76670057 0.76244229 0.75837612 0.75448483 0.75081921\n",
            " 0.74740428 0.74422967 0.74126714 0.73848361 0.7358492  0.73333824\n",
            " 0.73093092 0.72861207 0.72637022 0.72419745 0.72208834 0.72003967\n",
            " 0.71804965 0.71611667 0.71424037 0.71242034 0.71065587 0.70894587\n",
            " 0.70728958 0.70568544 0.70413202 0.70262766]\n",
            "29 day output [[0.7011705]]\n",
            "[[0.7773675918579102], [0.7714850306510925], [0.7667005658149719], [0.7624422907829285], [0.7583761215209961], [0.7544848322868347], [0.750819206237793], [0.7474042773246765], [0.7442296743392944], [0.7412671446800232], [0.7384836077690125], [0.7358492016792297], [0.7333382368087769], [0.7309309244155884], [0.7286120653152466], [0.7263702154159546], [0.7241974472999573], [0.7220883369445801], [0.7200396656990051], [0.7180496454238892], [0.7161166667938232], [0.7142403721809387], [0.7124203443527222], [0.7106558680534363], [0.7089458703994751], [0.7072895765304565], [0.7056854367256165], [0.7041320204734802], [0.7026276588439941], [0.7011705040931702]]\n"
          ]
        }
      ]
    },
    {
      "cell_type": "code",
      "metadata": {
        "id": "IlnftgYC09yG"
      },
      "source": [
        "day_new=np.arange(1,101)\n",
        "day_pred=np.arange(101,131)"
      ],
      "execution_count": null,
      "outputs": []
    },
    {
      "cell_type": "code",
      "metadata": {
        "id": "bze8nU5i097V"
      },
      "source": [
        "import matplotlib.pyplot as plt"
      ],
      "execution_count": null,
      "outputs": []
    },
    {
      "cell_type": "code",
      "metadata": {
        "id": "VRcB21k71G4L",
        "colab": {
          "base_uri": "https://localhost:8080/"
        },
        "outputId": "1a3d7d16-14a7-4049-bfcb-043053207086"
      },
      "source": [
        "len(df1)"
      ],
      "execution_count": null,
      "outputs": [
        {
          "output_type": "execute_result",
          "data": {
            "text/plain": [
              "6450"
            ]
          },
          "metadata": {},
          "execution_count": 46
        }
      ]
    },
    {
      "cell_type": "code",
      "metadata": {
        "id": "TEVjz_Qy1Jec",
        "colab": {
          "base_uri": "https://localhost:8080/",
          "height": 469
        },
        "outputId": "3c91ac70-570b-4704-f9c4-1fbd810c38a1"
      },
      "source": [
        "plt.plot(day_new,scaler.inverse_transform(df1[6350:]))\n",
        "plt.plot(day_pred,scaler.inverse_transform(lst_output))\n",
        "plt.title('M&M Prediction of Next 30 Days')"
      ],
      "execution_count": null,
      "outputs": [
        {
          "output_type": "execute_result",
          "data": {
            "text/plain": [
              "Text(0.5, 1.0, 'M&M Prediction of Next 30 Days')"
            ]
          },
          "metadata": {},
          "execution_count": 47
        },
        {
          "output_type": "display_data",
          "data": {
            "image/png": "[encoded data removed]",
            "text/plain": [
              "<Figure size 640x480 with 1 Axes>"
            ]
          },
          "metadata": {}
        }
      ]
    },
    {
      "cell_type": "code",
      "metadata": {
        "id": "ESp1lp3R1LfH",
        "colab": {
          "base_uri": "https://localhost:8080/",
          "height": 447
        },
        "outputId": "2e8afb0e-117b-4895-c383-fb2b4ebbc550"
      },
      "source": [
        "df3=df1.tolist()\n",
        "df3.extend(lst_output)\n",
        "plt.plot(df3[6000:])"
      ],
      "execution_count": null,
      "outputs": [
        {
          "output_type": "execute_result",
          "data": {
            "text/plain": [
              "[<matplotlib.lines.Line2D at 0x7f13a7d04ad0>]"
            ]
          },
          "metadata": {},
          "execution_count": 48
        },
        {
          "output_type": "display_data",
          "data": {
            "image/png": "[encoded data removed]",
            "text/plain": [
              "<Figure size 640x480 with 1 Axes>"
            ]
          },
          "metadata": {}
        }
      ]
    },
    {
      "cell_type": "code",
      "metadata": {
        "id": "OQK_oXwD1Lxv"
      },
      "source": [
        "df3=scaler.inverse_transform(df3).tolist()"
      ],
      "execution_count": null,
      "outputs": []
    },
    {
      "cell_type": "code",
      "metadata": {
        "id": "X3DpOmIs1MCQ",
        "colab": {
          "base_uri": "https://localhost:8080/",
          "height": 447
        },
        "outputId": "e6fa3afb-af34-4324-da49-8ca67a98ef38"
      },
      "source": [
        "plt.plot(df3)"
      ],
      "execution_count": null,
      "outputs": [
        {
          "output_type": "execute_result",
          "data": {
            "text/plain": [
              "[<matplotlib.lines.Line2D at 0x7f13a7ce4690>]"
            ]
          },
          "metadata": {},
          "execution_count": 50
        },
        {
          "output_type": "display_data",
          "data": {
            "image/png": "[encoded data removed]",
            "text/plain": [
              "<Figure size 640x480 with 1 Axes>"
            ]
          },
          "metadata": {}
        }
      ]
    }
  ]
}