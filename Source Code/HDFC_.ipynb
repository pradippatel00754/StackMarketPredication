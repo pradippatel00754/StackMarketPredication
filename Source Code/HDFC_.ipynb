{
  "nbformat": 4,
  "nbformat_minor": 0,
  "metadata": {
    "colab": {
      "name": "HDFC:.ipynb",
      "provenance": [],
      "collapsed_sections": []
    },
    "kernelspec": {
      "name": "python3",
      "display_name": "Python 3"
    },
    "language_info": {
      "name": "python"
    }
  },
  "cells": [
    {
      "cell_type": "code",
      "metadata": {
        "colab": {
          "base_uri": "https://localhost:8080/"
        },
        "id": "nR34pB3lsVC8",
        "outputId": "a576603a-ccdf-4ba4-84c5-069b6e2f30c4"
      },
      "source": [
        "import os\n",
        "os.getcwd()\n",
        "from google.colab import drive\n",
        "drive.mount('/content/gdrive')\n",
        "os.chdir('/content/gdrive/My Drive')"
      ],
      "execution_count": 1,
      "outputs": [
        {
          "output_type": "stream",
          "name": "stdout",
          "text": [
            "Mounted at /content/gdrive\n"
          ]
        }
      ]
    },
    {
      "cell_type": "code",
      "metadata": {
        "id": "j7NsICtPsY25"
      },
      "source": [
        "import pandas as pd\n",
        "import numpy as np\n",
        "import matplotlib.pyplot as plt\n",
        "import seaborn as sns\n",
        "import warnings\n",
        "warnings.filterwarnings(\"ignore\")\n",
        "\n",
        "FileName = 'HDFCBANK.NS.csv'\n",
        "HDFC=pd.read_csv(FileName)"
      ],
      "execution_count": 2,
      "outputs": []
    },
    {
      "cell_type": "code",
      "metadata": {
        "colab": {
          "base_uri": "https://localhost:8080/",
          "height": 204
        },
        "id": "VHqN5qxmsdtL",
        "outputId": "451cf04d-246d-4d51-97fa-28fcd8feb1a4"
      },
      "source": [
        "HDFC.head()"
      ],
      "execution_count": 3,
      "outputs": [
        {
          "output_type": "execute_result",
          "data": {
            "text/html": [
              "<div>\n",
              "<style scoped>\n",
              "    .dataframe tbody tr th:only-of-type {\n",
              "        vertical-align: middle;\n",
              "    }\n",
              "\n",
              "    .dataframe tbody tr th {\n",
              "        vertical-align: top;\n",
              "    }\n",
              "\n",
              "    .dataframe thead th {\n",
              "        text-align: right;\n",
              "    }\n",
              "</style>\n",
              "<table border=\"1\" class=\"dataframe\">\n",
              "  <thead>\n",
              "    <tr style=\"text-align: right;\">\n",
              "      <th></th>\n",
              "      <th>Date</th>\n",
              "      <th>Open</th>\n",
              "      <th>High</th>\n",
              "      <th>Low</th>\n",
              "      <th>Close</th>\n",
              "      <th>Adj Close</th>\n",
              "      <th>Volume</th>\n",
              "    </tr>\n",
              "  </thead>\n",
              "  <tbody>\n",
              "    <tr>\n",
              "      <th>0</th>\n",
              "      <td>01/01/1996</td>\n",
              "      <td>3.030</td>\n",
              "      <td>3.030</td>\n",
              "      <td>2.925</td>\n",
              "      <td>2.980</td>\n",
              "      <td>2.417746</td>\n",
              "      <td>350000</td>\n",
              "    </tr>\n",
              "    <tr>\n",
              "      <th>1</th>\n",
              "      <td>02/01/1996</td>\n",
              "      <td>2.980</td>\n",
              "      <td>3.025</td>\n",
              "      <td>2.950</td>\n",
              "      <td>2.975</td>\n",
              "      <td>2.413689</td>\n",
              "      <td>412000</td>\n",
              "    </tr>\n",
              "    <tr>\n",
              "      <th>2</th>\n",
              "      <td>03/01/1996</td>\n",
              "      <td>2.975</td>\n",
              "      <td>2.995</td>\n",
              "      <td>2.950</td>\n",
              "      <td>2.985</td>\n",
              "      <td>2.421802</td>\n",
              "      <td>284000</td>\n",
              "    </tr>\n",
              "    <tr>\n",
              "      <th>3</th>\n",
              "      <td>04/01/1996</td>\n",
              "      <td>2.985</td>\n",
              "      <td>2.980</td>\n",
              "      <td>2.940</td>\n",
              "      <td>2.965</td>\n",
              "      <td>2.405576</td>\n",
              "      <td>282000</td>\n",
              "    </tr>\n",
              "    <tr>\n",
              "      <th>4</th>\n",
              "      <td>05/01/1996</td>\n",
              "      <td>2.965</td>\n",
              "      <td>2.980</td>\n",
              "      <td>2.950</td>\n",
              "      <td>2.960</td>\n",
              "      <td>2.401519</td>\n",
              "      <td>189000</td>\n",
              "    </tr>\n",
              "  </tbody>\n",
              "</table>\n",
              "</div>"
            ],
            "text/plain": [
              "         Date   Open   High    Low  Close  Adj Close  Volume\n",
              "0  01/01/1996  3.030  3.030  2.925  2.980   2.417746  350000\n",
              "1  02/01/1996  2.980  3.025  2.950  2.975   2.413689  412000\n",
              "2  03/01/1996  2.975  2.995  2.950  2.985   2.421802  284000\n",
              "3  04/01/1996  2.985  2.980  2.940  2.965   2.405576  282000\n",
              "4  05/01/1996  2.965  2.980  2.950  2.960   2.401519  189000"
            ]
          },
          "metadata": {},
          "execution_count": 3
        }
      ]
    },
    {
      "cell_type": "code",
      "metadata": {
        "colab": {
          "base_uri": "https://localhost:8080/",
          "height": 204
        },
        "id": "8RFQUgbQsliu",
        "outputId": "23cd8422-2577-438c-ae04-477799a34aa1"
      },
      "source": [
        "HDFC.tail()"
      ],
      "execution_count": 4,
      "outputs": [
        {
          "output_type": "execute_result",
          "data": {
            "text/html": [
              "<div>\n",
              "<style scoped>\n",
              "    .dataframe tbody tr th:only-of-type {\n",
              "        vertical-align: middle;\n",
              "    }\n",
              "\n",
              "    .dataframe tbody tr th {\n",
              "        vertical-align: top;\n",
              "    }\n",
              "\n",
              "    .dataframe thead th {\n",
              "        text-align: right;\n",
              "    }\n",
              "</style>\n",
              "<table border=\"1\" class=\"dataframe\">\n",
              "  <thead>\n",
              "    <tr style=\"text-align: right;\">\n",
              "      <th></th>\n",
              "      <th>Date</th>\n",
              "      <th>Open</th>\n",
              "      <th>High</th>\n",
              "      <th>Low</th>\n",
              "      <th>Close</th>\n",
              "      <th>Adj Close</th>\n",
              "      <th>Volume</th>\n",
              "    </tr>\n",
              "  </thead>\n",
              "  <tbody>\n",
              "    <tr>\n",
              "      <th>6447</th>\n",
              "      <td>23/08/2021</td>\n",
              "      <td>1529.849976</td>\n",
              "      <td>1533.150024</td>\n",
              "      <td>1508.650024</td>\n",
              "      <td>1524.599976</td>\n",
              "      <td>1524.599976</td>\n",
              "      <td>5421527</td>\n",
              "    </tr>\n",
              "    <tr>\n",
              "      <th>6448</th>\n",
              "      <td>24/08/2021</td>\n",
              "      <td>1530.000000</td>\n",
              "      <td>1564.500000</td>\n",
              "      <td>1527.449951</td>\n",
              "      <td>1558.849976</td>\n",
              "      <td>1558.849976</td>\n",
              "      <td>9190657</td>\n",
              "    </tr>\n",
              "    <tr>\n",
              "      <th>6449</th>\n",
              "      <td>25/08/2021</td>\n",
              "      <td>1552.099976</td>\n",
              "      <td>1564.800049</td>\n",
              "      <td>1548.000000</td>\n",
              "      <td>1557.400024</td>\n",
              "      <td>1557.400024</td>\n",
              "      <td>3863987</td>\n",
              "    </tr>\n",
              "    <tr>\n",
              "      <th>6450</th>\n",
              "      <td>26/08/2021</td>\n",
              "      <td>1550.000000</td>\n",
              "      <td>1571.000000</td>\n",
              "      <td>1543.449951</td>\n",
              "      <td>1554.800049</td>\n",
              "      <td>1554.800049</td>\n",
              "      <td>5559501</td>\n",
              "    </tr>\n",
              "    <tr>\n",
              "      <th>6451</th>\n",
              "      <td>27/08/2021</td>\n",
              "      <td>1552.000000</td>\n",
              "      <td>1558.650024</td>\n",
              "      <td>1545.250000</td>\n",
              "      <td>1548.449951</td>\n",
              "      <td>1548.449951</td>\n",
              "      <td>3191069</td>\n",
              "    </tr>\n",
              "  </tbody>\n",
              "</table>\n",
              "</div>"
            ],
            "text/plain": [
              "            Date         Open         High  ...        Close    Adj Close   Volume\n",
              "6447  23/08/2021  1529.849976  1533.150024  ...  1524.599976  1524.599976  5421527\n",
              "6448  24/08/2021  1530.000000  1564.500000  ...  1558.849976  1558.849976  9190657\n",
              "6449  25/08/2021  1552.099976  1564.800049  ...  1557.400024  1557.400024  3863987\n",
              "6450  26/08/2021  1550.000000  1571.000000  ...  1554.800049  1554.800049  5559501\n",
              "6451  27/08/2021  1552.000000  1558.650024  ...  1548.449951  1548.449951  3191069\n",
              "\n",
              "[5 rows x 7 columns]"
            ]
          },
          "metadata": {},
          "execution_count": 4
        }
      ]
    },
    {
      "cell_type": "code",
      "metadata": {
        "id": "rEZ7LUoQstCX"
      },
      "source": [
        "df1=HDFC.reset_index()['Close']"
      ],
      "execution_count": 5,
      "outputs": []
    },
    {
      "cell_type": "code",
      "metadata": {
        "colab": {
          "base_uri": "https://localhost:8080/"
        },
        "id": "6QiqnOOIs_9e",
        "outputId": "2176feb8-9ec3-4945-d890-834e2f9ed2c1"
      },
      "source": [
        "df1.shape"
      ],
      "execution_count": 6,
      "outputs": [
        {
          "output_type": "execute_result",
          "data": {
            "text/plain": [
              "(6452,)"
            ]
          },
          "metadata": {},
          "execution_count": 6
        }
      ]
    },
    {
      "cell_type": "code",
      "metadata": {
        "colab": {
          "base_uri": "https://localhost:8080/"
        },
        "id": "bGBroGQVtHM8",
        "outputId": "9c5f3d1c-1edb-4959-fed2-c8a55185b26a"
      },
      "source": [
        "df1"
      ],
      "execution_count": 7,
      "outputs": [
        {
          "output_type": "execute_result",
          "data": {
            "text/plain": [
              "0          2.980000\n",
              "1          2.975000\n",
              "2          2.985000\n",
              "3          2.965000\n",
              "4          2.960000\n",
              "           ...     \n",
              "6447    1524.599976\n",
              "6448    1558.849976\n",
              "6449    1557.400024\n",
              "6450    1554.800049\n",
              "6451    1548.449951\n",
              "Name: Close, Length: 6452, dtype: float64"
            ]
          },
          "metadata": {},
          "execution_count": 7
        }
      ]
    },
    {
      "cell_type": "code",
      "metadata": {
        "colab": {
          "base_uri": "https://localhost:8080/",
          "height": 407
        },
        "id": "86bXNskKtJcq",
        "outputId": "d998b2be-8cca-433b-802f-30aabb51a815"
      },
      "source": [
        "import matplotlib.pyplot as plt\n",
        "plt.figure(figsize=(20,6))\n",
        "plt.title('HDFC Share Price of 2002 - 2021')\n",
        "plt.plot(df1)"
      ],
      "execution_count": 8,
      "outputs": [
        {
          "output_type": "execute_result",
          "data": {
            "text/plain": [
              "[<matplotlib.lines.Line2D at 0x7f738636e910>]"
            ]
          },
          "metadata": {},
          "execution_count": 8
        },
        {
          "output_type": "display_data",
          "data": {
            "image/png": "[encoded data removed]",
            "text/plain": [
              "<Figure size 1440x432 with 1 Axes>"
            ]
          },
          "metadata": {
            "needs_background": "light"
          }
        }
      ]
    },
    {
      "cell_type": "code",
      "metadata": {
        "colab": {
          "base_uri": "https://localhost:8080/"
        },
        "id": "El1Gg8brpFbj",
        "outputId": "a8831279-3838-465b-fc25-b5dcb375f229"
      },
      "source": [
        "HDFC.Date = pd.to_datetime(HDFC.Date)\n",
        "HDFC.info()"
      ],
      "execution_count": 9,
      "outputs": [
        {
          "output_type": "stream",
          "name": "stdout",
          "text": [
            "<class 'pandas.core.frame.DataFrame'>\n",
            "RangeIndex: 6452 entries, 0 to 6451\n",
            "Data columns (total 7 columns):\n",
            " #   Column     Non-Null Count  Dtype         \n",
            "---  ------     --------------  -----         \n",
            " 0   Date       6452 non-null   datetime64[ns]\n",
            " 1   Open       6452 non-null   float64       \n",
            " 2   High       6452 non-null   float64       \n",
            " 3   Low        6452 non-null   float64       \n",
            " 4   Close      6452 non-null   float64       \n",
            " 5   Adj Close  6452 non-null   float64       \n",
            " 6   Volume     6452 non-null   int64         \n",
            "dtypes: datetime64[ns](1), float64(5), int64(1)\n",
            "memory usage: 353.0 KB\n"
          ]
        }
      ]
    },
    {
      "cell_type": "code",
      "metadata": {
        "id": "VFDFuJ_VpFmK"
      },
      "source": [
        "HDFC = HDFC.set_index('Date')"
      ],
      "execution_count": 10,
      "outputs": []
    },
    {
      "cell_type": "code",
      "metadata": {
        "colab": {
          "base_uri": "https://localhost:8080/"
        },
        "id": "7Qc7802MpFt6",
        "outputId": "0f4f8e1e-60a3-422c-c744-416044ed393b"
      },
      "source": [
        "pip install https://github.com/matplotlib/mpl_finance/archive/master.zip"
      ],
      "execution_count": 11,
      "outputs": [
        {
          "output_type": "stream",
          "name": "stdout",
          "text": [
            "Collecting https://github.com/matplotlib/mpl_finance/archive/master.zip\n",
            "  Downloading https://github.com/matplotlib/mpl_finance/archive/master.zip\n",
            "\u001b[K     / 306 kB 925 kB/s\n",
            "\u001b[?25hRequirement already satisfied: matplotlib in /usr/local/lib/python3.7/dist-packages (from mpl-finance==0.10.1) (3.2.2)\n",
            "Requirement already satisfied: kiwisolver>=1.0.1 in /usr/local/lib/python3.7/dist-packages (from matplotlib->mpl-finance==0.10.1) (1.3.1)\n",
            "Requirement already satisfied: cycler>=0.10 in /usr/local/lib/python3.7/dist-packages (from matplotlib->mpl-finance==0.10.1) (0.10.0)\n",
            "Requirement already satisfied: numpy>=1.11 in /usr/local/lib/python3.7/dist-packages (from matplotlib->mpl-finance==0.10.1) (1.19.5)\n",
            "Requirement already satisfied: python-dateutil>=2.1 in /usr/local/lib/python3.7/dist-packages (from matplotlib->mpl-finance==0.10.1) (2.8.2)\n",
            "Requirement already satisfied: pyparsing!=2.0.4,!=2.1.2,!=2.1.6,>=2.0.1 in /usr/local/lib/python3.7/dist-packages (from matplotlib->mpl-finance==0.10.1) (2.4.7)\n",
            "Requirement already satisfied: six in /usr/local/lib/python3.7/dist-packages (from cycler>=0.10->matplotlib->mpl-finance==0.10.1) (1.15.0)\n",
            "Building wheels for collected packages: mpl-finance\n",
            "  Building wheel for mpl-finance (setup.py) ... \u001b[?25l\u001b[?25hdone\n",
            "  Created wheel for mpl-finance: filename=mpl_finance-0.10.1-py3-none-any.whl size=8435 sha256=57022c760fd212cafcb3d914bd1e635c51d91a82e06dacd69dbeda0749744cc9\n",
            "  Stored in directory: /tmp/pip-ephem-wheel-cache-njqyn5uo/wheels/eb/17/99/0f3929e635912eb25fc346aaf43b4ee3da4a80dee8ce3d2e4f\n",
            "Successfully built mpl-finance\n",
            "Installing collected packages: mpl-finance\n",
            "Successfully installed mpl-finance-0.10.1\n"
          ]
        }
      ]
    },
    {
      "cell_type": "code",
      "metadata": {
        "colab": {
          "base_uri": "https://localhost:8080/"
        },
        "id": "OlxPSR9YpF1l",
        "outputId": "42ccd632-d447-4517-eb6c-70b79557387f"
      },
      "source": [
        "pip install --upgrade mplfinance"
      ],
      "execution_count": 12,
      "outputs": [
        {
          "output_type": "stream",
          "name": "stdout",
          "text": [
            "Collecting mplfinance\n",
            "  Downloading mplfinance-0.12.7a17-py3-none-any.whl (62 kB)\n",
            "\u001b[K     |████████████████████████████████| 62 kB 111 kB/s \n",
            "\u001b[?25hRequirement already satisfied: matplotlib in /usr/local/lib/python3.7/dist-packages (from mplfinance) (3.2.2)\n",
            "Requirement already satisfied: pandas in /usr/local/lib/python3.7/dist-packages (from mplfinance) (1.1.5)\n",
            "Requirement already satisfied: numpy>=1.11 in /usr/local/lib/python3.7/dist-packages (from matplotlib->mplfinance) (1.19.5)\n",
            "Requirement already satisfied: pyparsing!=2.0.4,!=2.1.2,!=2.1.6,>=2.0.1 in /usr/local/lib/python3.7/dist-packages (from matplotlib->mplfinance) (2.4.7)\n",
            "Requirement already satisfied: python-dateutil>=2.1 in /usr/local/lib/python3.7/dist-packages (from matplotlib->mplfinance) (2.8.2)\n",
            "Requirement already satisfied: cycler>=0.10 in /usr/local/lib/python3.7/dist-packages (from matplotlib->mplfinance) (0.10.0)\n",
            "Requirement already satisfied: kiwisolver>=1.0.1 in /usr/local/lib/python3.7/dist-packages (from matplotlib->mplfinance) (1.3.1)\n",
            "Requirement already satisfied: six in /usr/local/lib/python3.7/dist-packages (from cycler>=0.10->matplotlib->mplfinance) (1.15.0)\n",
            "Requirement already satisfied: pytz>=2017.2 in /usr/local/lib/python3.7/dist-packages (from pandas->mplfinance) (2018.9)\n",
            "Installing collected packages: mplfinance\n",
            "Successfully installed mplfinance-0.12.7a17\n"
          ]
        }
      ]
    },
    {
      "cell_type": "code",
      "metadata": {
        "colab": {
          "base_uri": "https://localhost:8080/",
          "height": 425
        },
        "id": "Wqfde-ffpGAB",
        "outputId": "6d57643d-d0b6-460d-835c-e59a3ff41533"
      },
      "source": [
        "import mplfinance as mpf\n",
        "mpf.plot(HDFC['2020'], \n",
        "         type='candle', mav=(20), \n",
        "         volume=True, \n",
        "         title = 'HDFC Share Price of 2020', \n",
        "         figratio=(20,6), tight_layout = True, \n",
        "         style = 'yahoo')"
      ],
      "execution_count": 13,
      "outputs": [
        {
          "output_type": "display_data",
          "data": {
            "image/png": "[encoded data removed]",
            "text/plain": [
              "<Figure size 1916.67x575 with 4 Axes>"
            ]
          },
          "metadata": {}
        }
      ]
    },
    {
      "cell_type": "code",
      "metadata": {
        "id": "KhmzK0wQtjLc"
      },
      "source": [
        "import numpy as np"
      ],
      "execution_count": 14,
      "outputs": []
    },
    {
      "cell_type": "code",
      "metadata": {
        "id": "11F8IoZWtpSq"
      },
      "source": [
        "from sklearn.preprocessing import MinMaxScaler\n",
        "scaler = MinMaxScaler(feature_range=(0,1))\n",
        "df1=scaler.fit_transform(np.array(df1).reshape(-1,1))"
      ],
      "execution_count": 15,
      "outputs": []
    },
    {
      "cell_type": "code",
      "metadata": {
        "colab": {
          "base_uri": "https://localhost:8080/"
        },
        "id": "yZaN017SuDfy",
        "outputId": "407a310d-a7f4-4c6d-f537-b76f1f870ecd"
      },
      "source": [
        "df1"
      ],
      "execution_count": 16,
      "outputs": [
        {
          "output_type": "execute_result",
          "data": {
            "text/plain": [
              "array([[3.35546705e-04],\n",
              "       [3.32468295e-04],\n",
              "       [3.38625115e-04],\n",
              "       ...,\n",
              "       [9.57364020e-01],\n",
              "       [9.55763262e-01],\n",
              "       [9.51853620e-01]])"
            ]
          },
          "metadata": {},
          "execution_count": 16
        }
      ]
    },
    {
      "cell_type": "code",
      "metadata": {
        "id": "v8nlDnRtuIUJ"
      },
      "source": [
        "training_size=int(len(df1)*0.75)\n",
        "test_size=len(df1)-training_size\n",
        "train_data,test_data=df1[0:training_size,:],df1[training_size:len(df1),:1]"
      ],
      "execution_count": 17,
      "outputs": []
    },
    {
      "cell_type": "code",
      "metadata": {
        "colab": {
          "base_uri": "https://localhost:8080/"
        },
        "id": "7BE7WAuPuhZB",
        "outputId": "c4ad5052-0594-45ea-e8a8-481c5a3b9e19"
      },
      "source": [
        "training_size, test_size"
      ],
      "execution_count": 18,
      "outputs": [
        {
          "output_type": "execute_result",
          "data": {
            "text/plain": [
              "(4839, 1613)"
            ]
          },
          "metadata": {},
          "execution_count": 18
        }
      ]
    },
    {
      "cell_type": "code",
      "metadata": {
        "colab": {
          "base_uri": "https://localhost:8080/"
        },
        "id": "l22HaDOrvDlY",
        "outputId": "121b5826-a097-4a36-d3aa-3e0b6f3f5067"
      },
      "source": [
        "len(train_data), len(test_data)"
      ],
      "execution_count": 19,
      "outputs": [
        {
          "output_type": "execute_result",
          "data": {
            "text/plain": [
              "(4839, 1613)"
            ]
          },
          "metadata": {},
          "execution_count": 19
        }
      ]
    },
    {
      "cell_type": "code",
      "metadata": {
        "id": "Wfb3iGg8vNYX"
      },
      "source": [
        "import numpy \n",
        "def create_dataset(dataset, time_step=1):\n",
        "  dataX, dataY = [], []\n",
        "  for i in range (len(dataset)-time_step-1):\n",
        "    a = dataset[i:(i+time_step), 0]\n",
        "    dataX.append(a)\n",
        "    dataY.append(dataset[i + time_step, 0])\n",
        "  return numpy.array(dataX), numpy.array(dataY)"
      ],
      "execution_count": 20,
      "outputs": []
    },
    {
      "cell_type": "code",
      "metadata": {
        "id": "HbGS_OF4wMHh"
      },
      "source": [
        "time_step = 100\n",
        "X_train, y_train = create_dataset(train_data, time_step)\n",
        "X_test, y_test = create_dataset(test_data, time_step)"
      ],
      "execution_count": 21,
      "outputs": []
    },
    {
      "cell_type": "code",
      "metadata": {
        "colab": {
          "base_uri": "https://localhost:8080/"
        },
        "id": "iKr4-5H0we3U",
        "outputId": "0464c269-4093-493b-ce06-209beedeb0b5"
      },
      "source": [
        "print(X_train)"
      ],
      "execution_count": 22,
      "outputs": [
        {
          "output_type": "stream",
          "name": "stdout",
          "text": [
            "[[3.35546705e-04 3.32468295e-04 3.38625115e-04 ... 6.43387719e-04\n",
            "  7.01877512e-04 6.74171821e-04]\n",
            " [3.32468295e-04 3.38625115e-04 3.26311475e-04 ... 7.01877512e-04\n",
            "  6.74171821e-04 5.97211567e-04]\n",
            " [3.38625115e-04 3.26311475e-04 3.23233065e-04 ... 6.74171821e-04\n",
            "  5.97211567e-04 5.54113825e-04]\n",
            " ...\n",
            " [2.60735175e-01 2.59688526e-01 2.64706331e-01 ... 3.30153323e-01\n",
            "  3.31461648e-01 3.26074430e-01]\n",
            " [2.59688526e-01 2.64706331e-01 2.64967989e-01 ... 3.31461648e-01\n",
            "  3.26074430e-01 3.27182650e-01]\n",
            " [2.64706331e-01 2.64967989e-01 2.62412912e-01 ... 3.26074430e-01\n",
            "  3.27182650e-01 3.29891666e-01]]\n"
          ]
        }
      ]
    },
    {
      "cell_type": "code",
      "metadata": {
        "colab": {
          "base_uri": "https://localhost:8080/"
        },
        "id": "BKBYRqekw6pj",
        "outputId": "0a0f7fd3-af09-4cb4-ee48-85fd1f8f88be"
      },
      "source": [
        "print(X_train.shape), print(y_train.shape)"
      ],
      "execution_count": 23,
      "outputs": [
        {
          "output_type": "stream",
          "name": "stdout",
          "text": [
            "(4738, 100)\n",
            "(4738,)\n"
          ]
        },
        {
          "output_type": "execute_result",
          "data": {
            "text/plain": [
              "(None, None)"
            ]
          },
          "metadata": {},
          "execution_count": 23
        }
      ]
    },
    {
      "cell_type": "code",
      "metadata": {
        "colab": {
          "base_uri": "https://localhost:8080/"
        },
        "id": "_sIswsCTwiMV",
        "outputId": "836d7a07-143b-44eb-9024-53f3cac3591d"
      },
      "source": [
        "print(X_test.shape), print(y_test.shape)"
      ],
      "execution_count": 24,
      "outputs": [
        {
          "output_type": "stream",
          "name": "stdout",
          "text": [
            "(1512, 100)\n",
            "(1512,)\n"
          ]
        },
        {
          "output_type": "execute_result",
          "data": {
            "text/plain": [
              "(None, None)"
            ]
          },
          "metadata": {},
          "execution_count": 24
        }
      ]
    },
    {
      "cell_type": "code",
      "metadata": {
        "id": "2QsJz9xPw92t"
      },
      "source": [
        "X_train =X_train.reshape(X_train.shape[0],X_train.shape[1] , 1)\n",
        "X_test = X_test.reshape(X_test.shape[0],X_test.shape[1] , 1)"
      ],
      "execution_count": 25,
      "outputs": []
    },
    {
      "cell_type": "code",
      "metadata": {
        "id": "YY-0K12vytcx"
      },
      "source": [
        "from tensorflow.keras.models import Sequential\n",
        "from tensorflow.keras.layers import Dense\n",
        "from tensorflow.keras.layers import LSTM"
      ],
      "execution_count": 26,
      "outputs": []
    },
    {
      "cell_type": "code",
      "metadata": {
        "id": "_V5wKTh7yzKN"
      },
      "source": [
        "model=Sequential()\n",
        "model.add(LSTM(50,return_sequences=True,input_shape=(100,1)))\n",
        "model.add(LSTM(50,return_sequences=True))\n",
        "model.add(LSTM(50))\n",
        "model.add(Dense(1))\n",
        "model.compile(loss='mean_squared_error', optimizer='adam')"
      ],
      "execution_count": 27,
      "outputs": []
    },
    {
      "cell_type": "code",
      "metadata": {
        "colab": {
          "base_uri": "https://localhost:8080/"
        },
        "id": "qBPJ3FOXy_H_",
        "outputId": "cdbf8e7e-eabd-4a75-8bf2-2c3161b543b4"
      },
      "source": [
        "model.summary()"
      ],
      "execution_count": 28,
      "outputs": [
        {
          "output_type": "stream",
          "name": "stdout",
          "text": [
            "Model: \"sequential\"\n",
            "_________________________________________________________________\n",
            "Layer (type)                 Output Shape              Param #   \n",
            "=================================================================\n",
            "lstm (LSTM)                  (None, 100, 50)           10400     \n",
            "_________________________________________________________________\n",
            "lstm_1 (LSTM)                (None, 100, 50)           20200     \n",
            "_________________________________________________________________\n",
            "lstm_2 (LSTM)                (None, 50)                20200     \n",
            "_________________________________________________________________\n",
            "dense (Dense)                (None, 1)                 51        \n",
            "=================================================================\n",
            "Total params: 50,851\n",
            "Trainable params: 50,851\n",
            "Non-trainable params: 0\n",
            "_________________________________________________________________\n"
          ]
        }
      ]
    },
    {
      "cell_type": "code",
      "metadata": {
        "colab": {
          "base_uri": "https://localhost:8080/"
        },
        "id": "nVPrvBSvziFh",
        "outputId": "a01e7bb6-0a9e-459d-8ac0-08095855574d"
      },
      "source": [
        "model.fit(X_train, y_train, validation_data=(X_test, y_test), epochs=100, batch_size=64, verbose=1)"
      ],
      "execution_count": 29,
      "outputs": [
        {
          "output_type": "stream",
          "name": "stdout",
          "text": [
            "Epoch 1/100\n",
            "75/75 [==============================] - 21s 207ms/step - loss: 5.6310e-04 - val_loss: 0.0020\n",
            "Epoch 2/100\n",
            "75/75 [==============================] - 14s 192ms/step - loss: 2.2862e-05 - val_loss: 0.0027\n",
            "Epoch 3/100\n",
            "75/75 [==============================] - 14s 190ms/step - loss: 2.2495e-05 - val_loss: 0.0024\n",
            "Epoch 4/100\n",
            "75/75 [==============================] - 14s 191ms/step - loss: 2.1212e-05 - val_loss: 0.0027\n",
            "Epoch 5/100\n",
            "75/75 [==============================] - 14s 192ms/step - loss: 2.5186e-05 - val_loss: 0.0037\n",
            "Epoch 6/100\n",
            "75/75 [==============================] - 14s 192ms/step - loss: 2.2715e-05 - val_loss: 0.0019\n",
            "Epoch 7/100\n",
            "75/75 [==============================] - 14s 192ms/step - loss: 2.1140e-05 - val_loss: 8.7191e-04\n",
            "Epoch 8/100\n",
            "75/75 [==============================] - 14s 191ms/step - loss: 1.9827e-05 - val_loss: 0.0031\n",
            "Epoch 9/100\n",
            "75/75 [==============================] - 14s 190ms/step - loss: 3.1919e-05 - val_loss: 7.3778e-04\n",
            "Epoch 10/100\n",
            "75/75 [==============================] - 14s 192ms/step - loss: 1.8560e-05 - val_loss: 9.5327e-04\n",
            "Epoch 11/100\n",
            "75/75 [==============================] - 14s 192ms/step - loss: 1.9482e-05 - val_loss: 0.0016\n",
            "Epoch 12/100\n",
            "75/75 [==============================] - 14s 190ms/step - loss: 2.4225e-05 - val_loss: 6.1159e-04\n",
            "Epoch 13/100\n",
            "75/75 [==============================] - 14s 192ms/step - loss: 1.9981e-05 - val_loss: 0.0010\n",
            "Epoch 14/100\n",
            "75/75 [==============================] - 14s 191ms/step - loss: 2.1924e-05 - val_loss: 6.0718e-04\n",
            "Epoch 15/100\n",
            "75/75 [==============================] - 14s 193ms/step - loss: 1.8291e-05 - val_loss: 5.8235e-04\n",
            "Epoch 16/100\n",
            "75/75 [==============================] - 14s 191ms/step - loss: 1.6968e-05 - val_loss: 0.0010\n",
            "Epoch 17/100\n",
            "75/75 [==============================] - 14s 191ms/step - loss: 1.6492e-05 - val_loss: 4.8889e-04\n",
            "Epoch 18/100\n",
            "75/75 [==============================] - 14s 190ms/step - loss: 1.5578e-05 - val_loss: 4.3285e-04\n",
            "Epoch 19/100\n",
            "75/75 [==============================] - 14s 190ms/step - loss: 1.3972e-05 - val_loss: 4.1387e-04\n",
            "Epoch 20/100\n",
            "75/75 [==============================] - 14s 190ms/step - loss: 1.4793e-05 - val_loss: 5.1106e-04\n",
            "Epoch 21/100\n",
            "75/75 [==============================] - 14s 191ms/step - loss: 1.7732e-05 - val_loss: 4.8891e-04\n",
            "Epoch 22/100\n",
            "75/75 [==============================] - 14s 191ms/step - loss: 1.3818e-05 - val_loss: 4.9550e-04\n",
            "Epoch 23/100\n",
            "75/75 [==============================] - 14s 192ms/step - loss: 1.2359e-05 - val_loss: 3.8962e-04\n",
            "Epoch 24/100\n",
            "75/75 [==============================] - 14s 193ms/step - loss: 1.2724e-05 - val_loss: 5.0770e-04\n",
            "Epoch 25/100\n",
            "75/75 [==============================] - 14s 190ms/step - loss: 1.4127e-05 - val_loss: 0.0014\n",
            "Epoch 26/100\n",
            "75/75 [==============================] - 14s 191ms/step - loss: 1.3928e-05 - val_loss: 3.4333e-04\n",
            "Epoch 27/100\n",
            "75/75 [==============================] - 14s 192ms/step - loss: 1.2919e-05 - val_loss: 3.8374e-04\n",
            "Epoch 28/100\n",
            "75/75 [==============================] - 14s 190ms/step - loss: 1.3250e-05 - val_loss: 3.2220e-04\n",
            "Epoch 29/100\n",
            "75/75 [==============================] - 14s 191ms/step - loss: 1.3687e-05 - val_loss: 7.3319e-04\n",
            "Epoch 30/100\n",
            "75/75 [==============================] - 14s 191ms/step - loss: 1.1367e-05 - val_loss: 9.9639e-04\n",
            "Epoch 31/100\n",
            "75/75 [==============================] - 14s 192ms/step - loss: 1.1515e-05 - val_loss: 3.0802e-04\n",
            "Epoch 32/100\n",
            "75/75 [==============================] - 14s 193ms/step - loss: 1.2838e-05 - val_loss: 3.7195e-04\n",
            "Epoch 33/100\n",
            "75/75 [==============================] - 14s 190ms/step - loss: 1.2313e-05 - val_loss: 0.0038\n",
            "Epoch 34/100\n",
            "75/75 [==============================] - 14s 191ms/step - loss: 2.1359e-05 - val_loss: 5.2863e-04\n",
            "Epoch 35/100\n",
            "75/75 [==============================] - 14s 191ms/step - loss: 1.1562e-05 - val_loss: 2.9661e-04\n",
            "Epoch 36/100\n",
            "75/75 [==============================] - 14s 191ms/step - loss: 9.6260e-06 - val_loss: 6.8449e-04\n",
            "Epoch 37/100\n",
            "75/75 [==============================] - 14s 190ms/step - loss: 1.1422e-05 - val_loss: 6.0815e-04\n",
            "Epoch 38/100\n",
            "75/75 [==============================] - 14s 192ms/step - loss: 1.3297e-05 - val_loss: 8.8142e-04\n",
            "Epoch 39/100\n",
            "75/75 [==============================] - 14s 191ms/step - loss: 1.3747e-05 - val_loss: 2.8859e-04\n",
            "Epoch 40/100\n",
            "75/75 [==============================] - 14s 192ms/step - loss: 9.4467e-06 - val_loss: 2.8247e-04\n",
            "Epoch 41/100\n",
            "75/75 [==============================] - 14s 191ms/step - loss: 1.0427e-05 - val_loss: 2.3754e-04\n",
            "Epoch 42/100\n",
            "75/75 [==============================] - 14s 191ms/step - loss: 8.5060e-06 - val_loss: 4.7966e-04\n",
            "Epoch 43/100\n",
            "75/75 [==============================] - 14s 191ms/step - loss: 8.9646e-06 - val_loss: 2.5964e-04\n",
            "Epoch 44/100\n",
            "75/75 [==============================] - 14s 192ms/step - loss: 8.9228e-06 - val_loss: 3.1319e-04\n",
            "Epoch 45/100\n",
            "75/75 [==============================] - 14s 192ms/step - loss: 1.0773e-05 - val_loss: 5.3932e-04\n",
            "Epoch 46/100\n",
            "75/75 [==============================] - 14s 192ms/step - loss: 9.3583e-06 - val_loss: 3.4779e-04\n",
            "Epoch 47/100\n",
            "75/75 [==============================] - 14s 192ms/step - loss: 8.4992e-06 - val_loss: 3.0164e-04\n",
            "Epoch 48/100\n",
            "75/75 [==============================] - 14s 192ms/step - loss: 9.7368e-06 - val_loss: 2.0710e-04\n",
            "Epoch 49/100\n",
            "75/75 [==============================] - 14s 191ms/step - loss: 1.0435e-05 - val_loss: 2.0387e-04\n",
            "Epoch 50/100\n",
            "75/75 [==============================] - 14s 192ms/step - loss: 9.9335e-06 - val_loss: 2.1405e-04\n",
            "Epoch 51/100\n",
            "75/75 [==============================] - 14s 193ms/step - loss: 8.3938e-06 - val_loss: 2.8051e-04\n",
            "Epoch 52/100\n",
            "75/75 [==============================] - 15s 195ms/step - loss: 8.0240e-06 - val_loss: 2.4978e-04\n",
            "Epoch 53/100\n",
            "75/75 [==============================] - 14s 191ms/step - loss: 7.6597e-06 - val_loss: 2.0143e-04\n",
            "Epoch 54/100\n",
            "75/75 [==============================] - 14s 191ms/step - loss: 8.8522e-06 - val_loss: 2.3225e-04\n",
            "Epoch 55/100\n",
            "75/75 [==============================] - 14s 193ms/step - loss: 7.8616e-06 - val_loss: 0.0031\n",
            "Epoch 56/100\n",
            "75/75 [==============================] - 14s 192ms/step - loss: 2.1050e-05 - val_loss: 2.1322e-04\n",
            "Epoch 57/100\n",
            "75/75 [==============================] - 14s 193ms/step - loss: 6.7297e-06 - val_loss: 3.6134e-04\n",
            "Epoch 58/100\n",
            "75/75 [==============================] - 14s 192ms/step - loss: 7.0520e-06 - val_loss: 2.4181e-04\n",
            "Epoch 59/100\n",
            "75/75 [==============================] - 14s 192ms/step - loss: 8.1774e-06 - val_loss: 3.1871e-04\n",
            "Epoch 60/100\n",
            "75/75 [==============================] - 14s 191ms/step - loss: 7.1172e-06 - val_loss: 3.6940e-04\n",
            "Epoch 61/100\n",
            "75/75 [==============================] - 14s 192ms/step - loss: 9.3065e-06 - val_loss: 2.5402e-04\n",
            "Epoch 62/100\n",
            "75/75 [==============================] - 15s 201ms/step - loss: 8.0052e-06 - val_loss: 1.7667e-04\n",
            "Epoch 63/100\n",
            "75/75 [==============================] - 15s 196ms/step - loss: 6.4064e-06 - val_loss: 6.1359e-04\n",
            "Epoch 64/100\n",
            "75/75 [==============================] - 15s 193ms/step - loss: 9.1234e-06 - val_loss: 1.8602e-04\n",
            "Epoch 65/100\n",
            "75/75 [==============================] - 15s 194ms/step - loss: 7.2931e-06 - val_loss: 2.1994e-04\n",
            "Epoch 66/100\n",
            "75/75 [==============================] - 14s 193ms/step - loss: 6.3175e-06 - val_loss: 1.6001e-04\n",
            "Epoch 67/100\n",
            "75/75 [==============================] - 15s 195ms/step - loss: 6.1421e-06 - val_loss: 2.0473e-04\n",
            "Epoch 68/100\n",
            "75/75 [==============================] - 15s 194ms/step - loss: 6.5891e-06 - val_loss: 1.5856e-04\n",
            "Epoch 69/100\n",
            "75/75 [==============================] - 15s 195ms/step - loss: 5.8766e-06 - val_loss: 2.8469e-04\n",
            "Epoch 70/100\n",
            "75/75 [==============================] - 14s 193ms/step - loss: 6.1075e-06 - val_loss: 0.0015\n",
            "Epoch 71/100\n",
            "75/75 [==============================] - 15s 194ms/step - loss: 8.9286e-06 - val_loss: 2.7271e-04\n",
            "Epoch 72/100\n",
            "75/75 [==============================] - 15s 193ms/step - loss: 6.7650e-06 - val_loss: 1.9288e-04\n",
            "Epoch 73/100\n",
            "75/75 [==============================] - 14s 192ms/step - loss: 5.9524e-06 - val_loss: 3.5397e-04\n",
            "Epoch 74/100\n",
            "75/75 [==============================] - 14s 192ms/step - loss: 7.2382e-06 - val_loss: 1.7939e-04\n",
            "Epoch 75/100\n",
            "75/75 [==============================] - 14s 191ms/step - loss: 6.0803e-06 - val_loss: 0.0011\n",
            "Epoch 76/100\n",
            "75/75 [==============================] - 14s 192ms/step - loss: 8.0906e-06 - val_loss: 0.0011\n",
            "Epoch 77/100\n",
            "75/75 [==============================] - 14s 193ms/step - loss: 8.0540e-06 - val_loss: 2.0098e-04\n",
            "Epoch 78/100\n",
            "75/75 [==============================] - 14s 192ms/step - loss: 5.6858e-06 - val_loss: 3.5170e-04\n",
            "Epoch 79/100\n",
            "75/75 [==============================] - 14s 192ms/step - loss: 5.3976e-06 - val_loss: 2.0663e-04\n",
            "Epoch 80/100\n",
            "75/75 [==============================] - 14s 193ms/step - loss: 7.0558e-06 - val_loss: 2.6716e-04\n",
            "Epoch 81/100\n",
            "75/75 [==============================] - 14s 192ms/step - loss: 5.7641e-06 - val_loss: 2.7016e-04\n",
            "Epoch 82/100\n",
            "75/75 [==============================] - 14s 192ms/step - loss: 6.0514e-06 - val_loss: 7.4477e-04\n",
            "Epoch 83/100\n",
            "75/75 [==============================] - 14s 192ms/step - loss: 7.4121e-06 - val_loss: 0.0018\n",
            "Epoch 84/100\n",
            "75/75 [==============================] - 14s 192ms/step - loss: 7.1278e-06 - val_loss: 2.4731e-04\n",
            "Epoch 85/100\n",
            "75/75 [==============================] - 14s 193ms/step - loss: 4.8313e-06 - val_loss: 3.3043e-04\n",
            "Epoch 86/100\n",
            "75/75 [==============================] - 14s 193ms/step - loss: 5.2315e-06 - val_loss: 1.5118e-04\n",
            "Epoch 87/100\n",
            "75/75 [==============================] - 14s 192ms/step - loss: 5.0230e-06 - val_loss: 1.6099e-04\n",
            "Epoch 88/100\n",
            "75/75 [==============================] - 14s 190ms/step - loss: 4.9850e-06 - val_loss: 1.5307e-04\n",
            "Epoch 89/100\n",
            "75/75 [==============================] - 14s 191ms/step - loss: 5.6166e-06 - val_loss: 3.9576e-04\n",
            "Epoch 90/100\n",
            "75/75 [==============================] - 14s 191ms/step - loss: 4.7436e-06 - val_loss: 4.0582e-04\n",
            "Epoch 91/100\n",
            "75/75 [==============================] - 14s 189ms/step - loss: 5.2148e-06 - val_loss: 8.0205e-04\n",
            "Epoch 92/100\n",
            "75/75 [==============================] - 14s 190ms/step - loss: 5.8408e-06 - val_loss: 3.3173e-04\n",
            "Epoch 93/100\n",
            "75/75 [==============================] - 14s 188ms/step - loss: 4.8669e-06 - val_loss: 3.1622e-04\n",
            "Epoch 94/100\n",
            "75/75 [==============================] - 14s 189ms/step - loss: 4.4605e-06 - val_loss: 5.7796e-04\n",
            "Epoch 95/100\n",
            "75/75 [==============================] - 14s 188ms/step - loss: 4.9600e-06 - val_loss: 1.8309e-04\n",
            "Epoch 96/100\n",
            "75/75 [==============================] - 14s 188ms/step - loss: 4.5660e-06 - val_loss: 3.9319e-04\n",
            "Epoch 97/100\n",
            "75/75 [==============================] - 14s 187ms/step - loss: 5.5709e-06 - val_loss: 0.0013\n",
            "Epoch 98/100\n",
            "75/75 [==============================] - 14s 190ms/step - loss: 5.8406e-06 - val_loss: 6.4094e-04\n",
            "Epoch 99/100\n",
            "75/75 [==============================] - 14s 192ms/step - loss: 4.4443e-06 - val_loss: 2.3562e-04\n",
            "Epoch 100/100\n",
            "75/75 [==============================] - 14s 193ms/step - loss: 5.4641e-06 - val_loss: 5.0586e-04\n"
          ]
        },
        {
          "output_type": "execute_result",
          "data": {
            "text/plain": [
              "<keras.callbacks.History at 0x7f733570d090>"
            ]
          },
          "metadata": {},
          "execution_count": 29
        }
      ]
    },
    {
      "cell_type": "code",
      "metadata": {
        "id": "u82EsQ4a0c-2"
      },
      "source": [
        "import tensorflow as tf"
      ],
      "execution_count": 30,
      "outputs": []
    },
    {
      "cell_type": "code",
      "metadata": {
        "colab": {
          "base_uri": "https://localhost:8080/",
          "height": 37
        },
        "id": "xZH6Ysln0llD",
        "outputId": "b3f8f95c-82b3-426e-ef3f-26b40ea475f8"
      },
      "source": [
        "tf.__version__"
      ],
      "execution_count": 31,
      "outputs": [
        {
          "output_type": "execute_result",
          "data": {
            "application/vnd.google.colaboratory.intrinsic+json": {
              "type": "string"
            },
            "text/plain": [
              "'2.6.0'"
            ]
          },
          "metadata": {},
          "execution_count": 31
        }
      ]
    },
    {
      "cell_type": "code",
      "metadata": {
        "id": "fjDIwcMH0ngp"
      },
      "source": [
        "### Lets Do the prediction and check performance metrics\n",
        "train_predict=model.predict(X_train)\n",
        "test_predict=model.predict(X_test)"
      ],
      "execution_count": 32,
      "outputs": []
    },
    {
      "cell_type": "code",
      "metadata": {
        "id": "pnW1sUZW0pbC"
      },
      "source": [
        "##Transformback to original form\n",
        "train_predict=scaler.inverse_transform(train_predict)\n",
        "test_predict=scaler.inverse_transform(test_predict)"
      ],
      "execution_count": 33,
      "outputs": []
    },
    {
      "cell_type": "code",
      "metadata": {
        "colab": {
          "base_uri": "https://localhost:8080/"
        },
        "id": "oewqwI3j0rJj",
        "outputId": "cf12cf10-348a-4726-deba-673e1debb181"
      },
      "source": [
        "### Calculate RMSE performance metrics\n",
        "import math\n",
        "from sklearn.metrics import mean_squared_error\n",
        "math.sqrt(mean_squared_error(y_train,train_predict))"
      ],
      "execution_count": 34,
      "outputs": [
        {
          "output_type": "execute_result",
          "data": {
            "text/plain": [
              "165.0443153572914"
            ]
          },
          "metadata": {},
          "execution_count": 34
        }
      ]
    },
    {
      "cell_type": "code",
      "metadata": {
        "colab": {
          "base_uri": "https://localhost:8080/"
        },
        "id": "yV7wtOxU0thE",
        "outputId": "6bedccea-acb8-4617-b224-08b3f5a8451e"
      },
      "source": [
        "### Test Data RMSE\n",
        "math.sqrt(mean_squared_error(y_test,test_predict))"
      ],
      "execution_count": 35,
      "outputs": [
        {
          "output_type": "execute_result",
          "data": {
            "text/plain": [
              "978.0909132398543"
            ]
          },
          "metadata": {},
          "execution_count": 35
        }
      ]
    },
    {
      "cell_type": "code",
      "metadata": {
        "colab": {
          "base_uri": "https://localhost:8080/",
          "height": 452
        },
        "id": "b2O9FdYN03ec",
        "outputId": "a3a7cb1d-f520-4400-e64d-b88605443616"
      },
      "source": [
        "### Plotting \n",
        "# shift train predictions for plotting\n",
        "look_back=100\n",
        "trainPredictPlot = numpy.empty_like(df1)\n",
        "trainPredictPlot[:, :] = np.nan\n",
        "trainPredictPlot[look_back:len(train_predict)+look_back, :] = train_predict\n",
        "# shift test predictions for plotting\n",
        "testPredictPlot = numpy.empty_like(df1)\n",
        "testPredictPlot[:, :] = numpy.nan\n",
        "testPredictPlot[len(train_predict)+(look_back*2)+1:len(df1)-1, :] = test_predict\n",
        "# plot baseline and predictions\n",
        "plt.plot(scaler.inverse_transform(df1))\n",
        "plt.plot(trainPredictPlot)\n",
        "plt.plot(testPredictPlot)\n",
        "plt.title('HDFC Train Test Split')\n",
        "plt.show()"
      ],
      "execution_count": 36,
      "outputs": [
        {
          "output_type": "display_data",
          "data": {
            "image/png": "[encoded data removed]",
            "text/plain": [
              "<Figure size 640x480 with 1 Axes>"
            ]
          },
          "metadata": {}
        }
      ]
    },
    {
      "cell_type": "code",
      "metadata": {
        "colab": {
          "base_uri": "https://localhost:8080/"
        },
        "id": "XJDVfIMk05WN",
        "outputId": "1f6686af-20f5-4da1-e81b-dd5d721a5768"
      },
      "source": [
        "len(test_data)"
      ],
      "execution_count": 37,
      "outputs": [
        {
          "output_type": "execute_result",
          "data": {
            "text/plain": [
              "1613"
            ]
          },
          "metadata": {},
          "execution_count": 37
        }
      ]
    },
    {
      "cell_type": "code",
      "metadata": {
        "colab": {
          "base_uri": "https://localhost:8080/"
        },
        "id": "faLcUIDr08mi",
        "outputId": "5664f140-c255-4832-dda9-acc0d286f06f"
      },
      "source": [
        "x_input=test_data[1513:].reshape(1,-1)\n",
        "x_input.shape"
      ],
      "execution_count": 41,
      "outputs": [
        {
          "output_type": "execute_result",
          "data": {
            "text/plain": [
              "(1, 100)"
            ]
          },
          "metadata": {},
          "execution_count": 41
        }
      ]
    },
    {
      "cell_type": "code",
      "metadata": {
        "id": "7oKtWwxZ09IM"
      },
      "source": [
        "temp_input=list(x_input)\n",
        "temp_input=temp_input[0].tolist()"
      ],
      "execution_count": 42,
      "outputs": []
    },
    {
      "cell_type": "code",
      "metadata": {
        "colab": {
          "base_uri": "https://localhost:8080/"
        },
        "id": "Nm8nnIo809lO",
        "outputId": "a5c29dd9-715b-4413-c991-ac663f60981b"
      },
      "source": [
        "# demonstrate prediction for next 30 days\n",
        "from numpy import array\n",
        "\n",
        "lst_output=[]\n",
        "n_steps=100\n",
        "i=0\n",
        "while(i<30):\n",
        "    \n",
        "    if(len(temp_input)>100):\n",
        "        #print(temp_input)\n",
        "        x_input=np.array(temp_input[1:])\n",
        "        print(\"{} day input {}\".format(i,x_input))\n",
        "        x_input=x_input.reshape(1,-1)\n",
        "        x_input = x_input.reshape((1, n_steps, 1))\n",
        "        #print(x_input)\n",
        "        yhat = model.predict(x_input, verbose=0)\n",
        "        print(\"{} day output {}\".format(i,yhat))\n",
        "        temp_input.extend(yhat[0].tolist())\n",
        "        temp_input=temp_input[1:]\n",
        "        #print(temp_input)\n",
        "        lst_output.extend(yhat.tolist())\n",
        "        i=i+1\n",
        "    else:\n",
        "        x_input = x_input.reshape((1, n_steps,1))\n",
        "        yhat = model.predict(x_input, verbose=0)\n",
        "        print(yhat[0])\n",
        "        temp_input.extend(yhat[0].tolist())\n",
        "        print(len(temp_input))\n",
        "        lst_output.extend(yhat.tolist())\n",
        "        i=i+1\n",
        "    \n",
        "\n",
        "print(lst_output)"
      ],
      "execution_count": 43,
      "outputs": [
        {
          "output_type": "stream",
          "name": "stdout",
          "text": [
            "[0.9017475]\n",
            "101\n",
            "1 day input [0.88523686 0.88951582 0.88065005 0.87384674 0.84016896 0.86067113\n",
            " 0.87898767 0.87809496 0.86809013 0.8551608  0.8743085  0.86916757\n",
            " 0.86341096 0.88428252 0.90774006 0.9050926  0.86802857 0.86935223\n",
            " 0.85328294 0.86205641 0.86100978 0.86953696 0.87267693 0.86264135\n",
            " 0.86014781 0.85235942 0.88523686 0.90767843 0.89628832 0.88065005\n",
            " 0.92036155 0.92814986 0.90906372 0.90789398 0.91134179 0.92414793\n",
            " 0.9317824  0.92922731 0.92448658 0.93467615 0.92260872 0.92193149\n",
            " 0.91158808 0.90989495 0.91035671 0.91361978 0.90937156 0.91602096\n",
            " 0.91254234 0.90115222 0.90958711 0.91506662 0.91204984 0.91309647\n",
            " 0.92587187 0.93132064 0.92716479 0.92328603 0.92073094 0.91386607\n",
            " 0.9099565  0.91922247 0.94338799 0.9463433  0.93461452 0.92325522\n",
            " 0.91401999 0.92316285 0.92150054 0.93476844 0.93578433 0.90416908\n",
            " 0.88702235 0.89043934 0.88677606 0.8817275  0.88492901 0.87110698\n",
            " 0.87169185 0.87674041 0.87440087 0.88181979 0.90065972 0.91269626\n",
            " 0.91749861 0.92442503 0.92673384 0.91891463 0.92288583 0.9381547\n",
            " 0.94086371 0.93104361 0.93002772 0.93110517 0.93716962 0.95825673\n",
            " 0.95736402 0.95576326 0.95185362 0.90174752]\n",
            "1 day output [[0.8601375]]\n",
            "2 day input [0.88951582 0.88065005 0.87384674 0.84016896 0.86067113 0.87898767\n",
            " 0.87809496 0.86809013 0.8551608  0.8743085  0.86916757 0.86341096\n",
            " 0.88428252 0.90774006 0.9050926  0.86802857 0.86935223 0.85328294\n",
            " 0.86205641 0.86100978 0.86953696 0.87267693 0.86264135 0.86014781\n",
            " 0.85235942 0.88523686 0.90767843 0.89628832 0.88065005 0.92036155\n",
            " 0.92814986 0.90906372 0.90789398 0.91134179 0.92414793 0.9317824\n",
            " 0.92922731 0.92448658 0.93467615 0.92260872 0.92193149 0.91158808\n",
            " 0.90989495 0.91035671 0.91361978 0.90937156 0.91602096 0.91254234\n",
            " 0.90115222 0.90958711 0.91506662 0.91204984 0.91309647 0.92587187\n",
            " 0.93132064 0.92716479 0.92328603 0.92073094 0.91386607 0.9099565\n",
            " 0.91922247 0.94338799 0.9463433  0.93461452 0.92325522 0.91401999\n",
            " 0.92316285 0.92150054 0.93476844 0.93578433 0.90416908 0.88702235\n",
            " 0.89043934 0.88677606 0.8817275  0.88492901 0.87110698 0.87169185\n",
            " 0.87674041 0.87440087 0.88181979 0.90065972 0.91269626 0.91749861\n",
            " 0.92442503 0.92673384 0.91891463 0.92288583 0.9381547  0.94086371\n",
            " 0.93104361 0.93002772 0.93110517 0.93716962 0.95825673 0.95736402\n",
            " 0.95576326 0.95185362 0.90174752 0.86013752]\n",
            "2 day output [[0.8174792]]\n",
            "3 day input [0.88065005 0.87384674 0.84016896 0.86067113 0.87898767 0.87809496\n",
            " 0.86809013 0.8551608  0.8743085  0.86916757 0.86341096 0.88428252\n",
            " 0.90774006 0.9050926  0.86802857 0.86935223 0.85328294 0.86205641\n",
            " 0.86100978 0.86953696 0.87267693 0.86264135 0.86014781 0.85235942\n",
            " 0.88523686 0.90767843 0.89628832 0.88065005 0.92036155 0.92814986\n",
            " 0.90906372 0.90789398 0.91134179 0.92414793 0.9317824  0.92922731\n",
            " 0.92448658 0.93467615 0.92260872 0.92193149 0.91158808 0.90989495\n",
            " 0.91035671 0.91361978 0.90937156 0.91602096 0.91254234 0.90115222\n",
            " 0.90958711 0.91506662 0.91204984 0.91309647 0.92587187 0.93132064\n",
            " 0.92716479 0.92328603 0.92073094 0.91386607 0.9099565  0.91922247\n",
            " 0.94338799 0.9463433  0.93461452 0.92325522 0.91401999 0.92316285\n",
            " 0.92150054 0.93476844 0.93578433 0.90416908 0.88702235 0.89043934\n",
            " 0.88677606 0.8817275  0.88492901 0.87110698 0.87169185 0.87674041\n",
            " 0.87440087 0.88181979 0.90065972 0.91269626 0.91749861 0.92442503\n",
            " 0.92673384 0.91891463 0.92288583 0.9381547  0.94086371 0.93104361\n",
            " 0.93002772 0.93110517 0.93716962 0.95825673 0.95736402 0.95576326\n",
            " 0.95185362 0.90174752 0.86013752 0.81747919]\n",
            "3 day output [[0.78071463]]\n",
            "4 day input [0.87384674 0.84016896 0.86067113 0.87898767 0.87809496 0.86809013\n",
            " 0.8551608  0.8743085  0.86916757 0.86341096 0.88428252 0.90774006\n",
            " 0.9050926  0.86802857 0.86935223 0.85328294 0.86205641 0.86100978\n",
            " 0.86953696 0.87267693 0.86264135 0.86014781 0.85235942 0.88523686\n",
            " 0.90767843 0.89628832 0.88065005 0.92036155 0.92814986 0.90906372\n",
            " 0.90789398 0.91134179 0.92414793 0.9317824  0.92922731 0.92448658\n",
            " 0.93467615 0.92260872 0.92193149 0.91158808 0.90989495 0.91035671\n",
            " 0.91361978 0.90937156 0.91602096 0.91254234 0.90115222 0.90958711\n",
            " 0.91506662 0.91204984 0.91309647 0.92587187 0.93132064 0.92716479\n",
            " 0.92328603 0.92073094 0.91386607 0.9099565  0.91922247 0.94338799\n",
            " 0.9463433  0.93461452 0.92325522 0.91401999 0.92316285 0.92150054\n",
            " 0.93476844 0.93578433 0.90416908 0.88702235 0.89043934 0.88677606\n",
            " 0.8817275  0.88492901 0.87110698 0.87169185 0.87674041 0.87440087\n",
            " 0.88181979 0.90065972 0.91269626 0.91749861 0.92442503 0.92673384\n",
            " 0.91891463 0.92288583 0.9381547  0.94086371 0.93104361 0.93002772\n",
            " 0.93110517 0.93716962 0.95825673 0.95736402 0.95576326 0.95185362\n",
            " 0.90174752 0.86013752 0.81747919 0.78071463]\n",
            "4 day output [[0.7509419]]\n",
            "5 day input [0.84016896 0.86067113 0.87898767 0.87809496 0.86809013 0.8551608\n",
            " 0.8743085  0.86916757 0.86341096 0.88428252 0.90774006 0.9050926\n",
            " 0.86802857 0.86935223 0.85328294 0.86205641 0.86100978 0.86953696\n",
            " 0.87267693 0.86264135 0.86014781 0.85235942 0.88523686 0.90767843\n",
            " 0.89628832 0.88065005 0.92036155 0.92814986 0.90906372 0.90789398\n",
            " 0.91134179 0.92414793 0.9317824  0.92922731 0.92448658 0.93467615\n",
            " 0.92260872 0.92193149 0.91158808 0.90989495 0.91035671 0.91361978\n",
            " 0.90937156 0.91602096 0.91254234 0.90115222 0.90958711 0.91506662\n",
            " 0.91204984 0.91309647 0.92587187 0.93132064 0.92716479 0.92328603\n",
            " 0.92073094 0.91386607 0.9099565  0.91922247 0.94338799 0.9463433\n",
            " 0.93461452 0.92325522 0.91401999 0.92316285 0.92150054 0.93476844\n",
            " 0.93578433 0.90416908 0.88702235 0.89043934 0.88677606 0.8817275\n",
            " 0.88492901 0.87110698 0.87169185 0.87674041 0.87440087 0.88181979\n",
            " 0.90065972 0.91269626 0.91749861 0.92442503 0.92673384 0.91891463\n",
            " 0.92288583 0.9381547  0.94086371 0.93104361 0.93002772 0.93110517\n",
            " 0.93716962 0.95825673 0.95736402 0.95576326 0.95185362 0.90174752\n",
            " 0.86013752 0.81747919 0.78071463 0.75094187]\n",
            "5 day output [[0.7274907]]\n",
            "6 day input [0.86067113 0.87898767 0.87809496 0.86809013 0.8551608  0.8743085\n",
            " 0.86916757 0.86341096 0.88428252 0.90774006 0.9050926  0.86802857\n",
            " 0.86935223 0.85328294 0.86205641 0.86100978 0.86953696 0.87267693\n",
            " 0.86264135 0.86014781 0.85235942 0.88523686 0.90767843 0.89628832\n",
            " 0.88065005 0.92036155 0.92814986 0.90906372 0.90789398 0.91134179\n",
            " 0.92414793 0.9317824  0.92922731 0.92448658 0.93467615 0.92260872\n",
            " 0.92193149 0.91158808 0.90989495 0.91035671 0.91361978 0.90937156\n",
            " 0.91602096 0.91254234 0.90115222 0.90958711 0.91506662 0.91204984\n",
            " 0.91309647 0.92587187 0.93132064 0.92716479 0.92328603 0.92073094\n",
            " 0.91386607 0.9099565  0.91922247 0.94338799 0.9463433  0.93461452\n",
            " 0.92325522 0.91401999 0.92316285 0.92150054 0.93476844 0.93578433\n",
            " 0.90416908 0.88702235 0.89043934 0.88677606 0.8817275  0.88492901\n",
            " 0.87110698 0.87169185 0.87674041 0.87440087 0.88181979 0.90065972\n",
            " 0.91269626 0.91749861 0.92442503 0.92673384 0.91891463 0.92288583\n",
            " 0.9381547  0.94086371 0.93104361 0.93002772 0.93110517 0.93716962\n",
            " 0.95825673 0.95736402 0.95576326 0.95185362 0.90174752 0.86013752\n",
            " 0.81747919 0.78071463 0.75094187 0.72749072]\n",
            "6 day output [[0.7087634]]\n",
            "7 day input [0.87898767 0.87809496 0.86809013 0.8551608  0.8743085  0.86916757\n",
            " 0.86341096 0.88428252 0.90774006 0.9050926  0.86802857 0.86935223\n",
            " 0.85328294 0.86205641 0.86100978 0.86953696 0.87267693 0.86264135\n",
            " 0.86014781 0.85235942 0.88523686 0.90767843 0.89628832 0.88065005\n",
            " 0.92036155 0.92814986 0.90906372 0.90789398 0.91134179 0.92414793\n",
            " 0.9317824  0.92922731 0.92448658 0.93467615 0.92260872 0.92193149\n",
            " 0.91158808 0.90989495 0.91035671 0.91361978 0.90937156 0.91602096\n",
            " 0.91254234 0.90115222 0.90958711 0.91506662 0.91204984 0.91309647\n",
            " 0.92587187 0.93132064 0.92716479 0.92328603 0.92073094 0.91386607\n",
            " 0.9099565  0.91922247 0.94338799 0.9463433  0.93461452 0.92325522\n",
            " 0.91401999 0.92316285 0.92150054 0.93476844 0.93578433 0.90416908\n",
            " 0.88702235 0.89043934 0.88677606 0.8817275  0.88492901 0.87110698\n",
            " 0.87169185 0.87674041 0.87440087 0.88181979 0.90065972 0.91269626\n",
            " 0.91749861 0.92442503 0.92673384 0.91891463 0.92288583 0.9381547\n",
            " 0.94086371 0.93104361 0.93002772 0.93110517 0.93716962 0.95825673\n",
            " 0.95736402 0.95576326 0.95185362 0.90174752 0.86013752 0.81747919\n",
            " 0.78071463 0.75094187 0.72749072 0.70876342]\n",
            "7 day output [[0.6929725]]\n",
            "8 day input [0.87809496 0.86809013 0.8551608  0.8743085  0.86916757 0.86341096\n",
            " 0.88428252 0.90774006 0.9050926  0.86802857 0.86935223 0.85328294\n",
            " 0.86205641 0.86100978 0.86953696 0.87267693 0.86264135 0.86014781\n",
            " 0.85235942 0.88523686 0.90767843 0.89628832 0.88065005 0.92036155\n",
            " 0.92814986 0.90906372 0.90789398 0.91134179 0.92414793 0.9317824\n",
            " 0.92922731 0.92448658 0.93467615 0.92260872 0.92193149 0.91158808\n",
            " 0.90989495 0.91035671 0.91361978 0.90937156 0.91602096 0.91254234\n",
            " 0.90115222 0.90958711 0.91506662 0.91204984 0.91309647 0.92587187\n",
            " 0.93132064 0.92716479 0.92328603 0.92073094 0.91386607 0.9099565\n",
            " 0.91922247 0.94338799 0.9463433  0.93461452 0.92325522 0.91401999\n",
            " 0.92316285 0.92150054 0.93476844 0.93578433 0.90416908 0.88702235\n",
            " 0.89043934 0.88677606 0.8817275  0.88492901 0.87110698 0.87169185\n",
            " 0.87674041 0.87440087 0.88181979 0.90065972 0.91269626 0.91749861\n",
            " 0.92442503 0.92673384 0.91891463 0.92288583 0.9381547  0.94086371\n",
            " 0.93104361 0.93002772 0.93110517 0.93716962 0.95825673 0.95736402\n",
            " 0.95576326 0.95185362 0.90174752 0.86013752 0.81747919 0.78071463\n",
            " 0.75094187 0.72749072 0.70876342 0.69297248]\n",
            "8 day output [[0.6786463]]\n",
            "9 day input [0.86809013 0.8551608  0.8743085  0.86916757 0.86341096 0.88428252\n",
            " 0.90774006 0.9050926  0.86802857 0.86935223 0.85328294 0.86205641\n",
            " 0.86100978 0.86953696 0.87267693 0.86264135 0.86014781 0.85235942\n",
            " 0.88523686 0.90767843 0.89628832 0.88065005 0.92036155 0.92814986\n",
            " 0.90906372 0.90789398 0.91134179 0.92414793 0.9317824  0.92922731\n",
            " 0.92448658 0.93467615 0.92260872 0.92193149 0.91158808 0.90989495\n",
            " 0.91035671 0.91361978 0.90937156 0.91602096 0.91254234 0.90115222\n",
            " 0.90958711 0.91506662 0.91204984 0.91309647 0.92587187 0.93132064\n",
            " 0.92716479 0.92328603 0.92073094 0.91386607 0.9099565  0.91922247\n",
            " 0.94338799 0.9463433  0.93461452 0.92325522 0.91401999 0.92316285\n",
            " 0.92150054 0.93476844 0.93578433 0.90416908 0.88702235 0.89043934\n",
            " 0.88677606 0.8817275  0.88492901 0.87110698 0.87169185 0.87674041\n",
            " 0.87440087 0.88181979 0.90065972 0.91269626 0.91749861 0.92442503\n",
            " 0.92673384 0.91891463 0.92288583 0.9381547  0.94086371 0.93104361\n",
            " 0.93002772 0.93110517 0.93716962 0.95825673 0.95736402 0.95576326\n",
            " 0.95185362 0.90174752 0.86013752 0.81747919 0.78071463 0.75094187\n",
            " 0.72749072 0.70876342 0.69297248 0.67864633]\n",
            "9 day output [[0.6648464]]\n",
            "10 day input [0.8551608  0.8743085  0.86916757 0.86341096 0.88428252 0.90774006\n",
            " 0.9050926  0.86802857 0.86935223 0.85328294 0.86205641 0.86100978\n",
            " 0.86953696 0.87267693 0.86264135 0.86014781 0.85235942 0.88523686\n",
            " 0.90767843 0.89628832 0.88065005 0.92036155 0.92814986 0.90906372\n",
            " 0.90789398 0.91134179 0.92414793 0.9317824  0.92922731 0.92448658\n",
            " 0.93467615 0.92260872 0.92193149 0.91158808 0.90989495 0.91035671\n",
            " 0.91361978 0.90937156 0.91602096 0.91254234 0.90115222 0.90958711\n",
            " 0.91506662 0.91204984 0.91309647 0.92587187 0.93132064 0.92716479\n",
            " 0.92328603 0.92073094 0.91386607 0.9099565  0.91922247 0.94338799\n",
            " 0.9463433  0.93461452 0.92325522 0.91401999 0.92316285 0.92150054\n",
            " 0.93476844 0.93578433 0.90416908 0.88702235 0.89043934 0.88677606\n",
            " 0.8817275  0.88492901 0.87110698 0.87169185 0.87674041 0.87440087\n",
            " 0.88181979 0.90065972 0.91269626 0.91749861 0.92442503 0.92673384\n",
            " 0.91891463 0.92288583 0.9381547  0.94086371 0.93104361 0.93002772\n",
            " 0.93110517 0.93716962 0.95825673 0.95736402 0.95576326 0.95185362\n",
            " 0.90174752 0.86013752 0.81747919 0.78071463 0.75094187 0.72749072\n",
            " 0.70876342 0.69297248 0.67864633 0.66484642]\n",
            "10 day output [[0.65115654]]\n",
            "11 day input [0.8743085  0.86916757 0.86341096 0.88428252 0.90774006 0.9050926\n",
            " 0.86802857 0.86935223 0.85328294 0.86205641 0.86100978 0.86953696\n",
            " 0.87267693 0.86264135 0.86014781 0.85235942 0.88523686 0.90767843\n",
            " 0.89628832 0.88065005 0.92036155 0.92814986 0.90906372 0.90789398\n",
            " 0.91134179 0.92414793 0.9317824  0.92922731 0.92448658 0.93467615\n",
            " 0.92260872 0.92193149 0.91158808 0.90989495 0.91035671 0.91361978\n",
            " 0.90937156 0.91602096 0.91254234 0.90115222 0.90958711 0.91506662\n",
            " 0.91204984 0.91309647 0.92587187 0.93132064 0.92716479 0.92328603\n",
            " 0.92073094 0.91386607 0.9099565  0.91922247 0.94338799 0.9463433\n",
            " 0.93461452 0.92325522 0.91401999 0.92316285 0.92150054 0.93476844\n",
            " 0.93578433 0.90416908 0.88702235 0.89043934 0.88677606 0.8817275\n",
            " 0.88492901 0.87110698 0.87169185 0.87674041 0.87440087 0.88181979\n",
            " 0.90065972 0.91269626 0.91749861 0.92442503 0.92673384 0.91891463\n",
            " 0.92288583 0.9381547  0.94086371 0.93104361 0.93002772 0.93110517\n",
            " 0.93716962 0.95825673 0.95736402 0.95576326 0.95185362 0.90174752\n",
            " 0.86013752 0.81747919 0.78071463 0.75094187 0.72749072 0.70876342\n",
            " 0.69297248 0.67864633 0.66484642 0.65115654]\n",
            "11 day output [[0.6375484]]\n",
            "12 day input [0.86916757 0.86341096 0.88428252 0.90774006 0.9050926  0.86802857\n",
            " 0.86935223 0.85328294 0.86205641 0.86100978 0.86953696 0.87267693\n",
            " 0.86264135 0.86014781 0.85235942 0.88523686 0.90767843 0.89628832\n",
            " 0.88065005 0.92036155 0.92814986 0.90906372 0.90789398 0.91134179\n",
            " 0.92414793 0.9317824  0.92922731 0.92448658 0.93467615 0.92260872\n",
            " 0.92193149 0.91158808 0.90989495 0.91035671 0.91361978 0.90937156\n",
            " 0.91602096 0.91254234 0.90115222 0.90958711 0.91506662 0.91204984\n",
            " 0.91309647 0.92587187 0.93132064 0.92716479 0.92328603 0.92073094\n",
            " 0.91386607 0.9099565  0.91922247 0.94338799 0.9463433  0.93461452\n",
            " 0.92325522 0.91401999 0.92316285 0.92150054 0.93476844 0.93578433\n",
            " 0.90416908 0.88702235 0.89043934 0.88677606 0.8817275  0.88492901\n",
            " 0.87110698 0.87169185 0.87674041 0.87440087 0.88181979 0.90065972\n",
            " 0.91269626 0.91749861 0.92442503 0.92673384 0.91891463 0.92288583\n",
            " 0.9381547  0.94086371 0.93104361 0.93002772 0.93110517 0.93716962\n",
            " 0.95825673 0.95736402 0.95576326 0.95185362 0.90174752 0.86013752\n",
            " 0.81747919 0.78071463 0.75094187 0.72749072 0.70876342 0.69297248\n",
            " 0.67864633 0.66484642 0.65115654 0.63754839]\n",
            "12 day output [[0.6242067]]\n",
            "13 day input [0.86341096 0.88428252 0.90774006 0.9050926  0.86802857 0.86935223\n",
            " 0.85328294 0.86205641 0.86100978 0.86953696 0.87267693 0.86264135\n",
            " 0.86014781 0.85235942 0.88523686 0.90767843 0.89628832 0.88065005\n",
            " 0.92036155 0.92814986 0.90906372 0.90789398 0.91134179 0.92414793\n",
            " 0.9317824  0.92922731 0.92448658 0.93467615 0.92260872 0.92193149\n",
            " 0.91158808 0.90989495 0.91035671 0.91361978 0.90937156 0.91602096\n",
            " 0.91254234 0.90115222 0.90958711 0.91506662 0.91204984 0.91309647\n",
            " 0.92587187 0.93132064 0.92716479 0.92328603 0.92073094 0.91386607\n",
            " 0.9099565  0.91922247 0.94338799 0.9463433  0.93461452 0.92325522\n",
            " 0.91401999 0.92316285 0.92150054 0.93476844 0.93578433 0.90416908\n",
            " 0.88702235 0.89043934 0.88677606 0.8817275  0.88492901 0.87110698\n",
            " 0.87169185 0.87674041 0.87440087 0.88181979 0.90065972 0.91269626\n",
            " 0.91749861 0.92442503 0.92673384 0.91891463 0.92288583 0.9381547\n",
            " 0.94086371 0.93104361 0.93002772 0.93110517 0.93716962 0.95825673\n",
            " 0.95736402 0.95576326 0.95185362 0.90174752 0.86013752 0.81747919\n",
            " 0.78071463 0.75094187 0.72749072 0.70876342 0.69297248 0.67864633\n",
            " 0.66484642 0.65115654 0.63754839 0.62420672]\n",
            "13 day output [[0.611379]]\n",
            "14 day input [0.88428252 0.90774006 0.9050926  0.86802857 0.86935223 0.85328294\n",
            " 0.86205641 0.86100978 0.86953696 0.87267693 0.86264135 0.86014781\n",
            " 0.85235942 0.88523686 0.90767843 0.89628832 0.88065005 0.92036155\n",
            " 0.92814986 0.90906372 0.90789398 0.91134179 0.92414793 0.9317824\n",
            " 0.92922731 0.92448658 0.93467615 0.92260872 0.92193149 0.91158808\n",
            " 0.90989495 0.91035671 0.91361978 0.90937156 0.91602096 0.91254234\n",
            " 0.90115222 0.90958711 0.91506662 0.91204984 0.91309647 0.92587187\n",
            " 0.93132064 0.92716479 0.92328603 0.92073094 0.91386607 0.9099565\n",
            " 0.91922247 0.94338799 0.9463433  0.93461452 0.92325522 0.91401999\n",
            " 0.92316285 0.92150054 0.93476844 0.93578433 0.90416908 0.88702235\n",
            " 0.89043934 0.88677606 0.8817275  0.88492901 0.87110698 0.87169185\n",
            " 0.87674041 0.87440087 0.88181979 0.90065972 0.91269626 0.91749861\n",
            " 0.92442503 0.92673384 0.91891463 0.92288583 0.9381547  0.94086371\n",
            " 0.93104361 0.93002772 0.93110517 0.93716962 0.95825673 0.95736402\n",
            " 0.95576326 0.95185362 0.90174752 0.86013752 0.81747919 0.78071463\n",
            " 0.75094187 0.72749072 0.70876342 0.69297248 0.67864633 0.66484642\n",
            " 0.65115654 0.63754839 0.62420672 0.61137903]\n",
            "14 day output [[0.5992734]]\n",
            "15 day input [0.90774006 0.9050926  0.86802857 0.86935223 0.85328294 0.86205641\n",
            " 0.86100978 0.86953696 0.87267693 0.86264135 0.86014781 0.85235942\n",
            " 0.88523686 0.90767843 0.89628832 0.88065005 0.92036155 0.92814986\n",
            " 0.90906372 0.90789398 0.91134179 0.92414793 0.9317824  0.92922731\n",
            " 0.92448658 0.93467615 0.92260872 0.92193149 0.91158808 0.90989495\n",
            " 0.91035671 0.91361978 0.90937156 0.91602096 0.91254234 0.90115222\n",
            " 0.90958711 0.91506662 0.91204984 0.91309647 0.92587187 0.93132064\n",
            " 0.92716479 0.92328603 0.92073094 0.91386607 0.9099565  0.91922247\n",
            " 0.94338799 0.9463433  0.93461452 0.92325522 0.91401999 0.92316285\n",
            " 0.92150054 0.93476844 0.93578433 0.90416908 0.88702235 0.89043934\n",
            " 0.88677606 0.8817275  0.88492901 0.87110698 0.87169185 0.87674041\n",
            " 0.87440087 0.88181979 0.90065972 0.91269626 0.91749861 0.92442503\n",
            " 0.92673384 0.91891463 0.92288583 0.9381547  0.94086371 0.93104361\n",
            " 0.93002772 0.93110517 0.93716962 0.95825673 0.95736402 0.95576326\n",
            " 0.95185362 0.90174752 0.86013752 0.81747919 0.78071463 0.75094187\n",
            " 0.72749072 0.70876342 0.69297248 0.67864633 0.66484642 0.65115654\n",
            " 0.63754839 0.62420672 0.61137903 0.59927338]\n",
            "15 day output [[0.58801067]]\n",
            "16 day input [0.9050926  0.86802857 0.86935223 0.85328294 0.86205641 0.86100978\n",
            " 0.86953696 0.87267693 0.86264135 0.86014781 0.85235942 0.88523686\n",
            " 0.90767843 0.89628832 0.88065005 0.92036155 0.92814986 0.90906372\n",
            " 0.90789398 0.91134179 0.92414793 0.9317824  0.92922731 0.92448658\n",
            " 0.93467615 0.92260872 0.92193149 0.91158808 0.90989495 0.91035671\n",
            " 0.91361978 0.90937156 0.91602096 0.91254234 0.90115222 0.90958711\n",
            " 0.91506662 0.91204984 0.91309647 0.92587187 0.93132064 0.92716479\n",
            " 0.92328603 0.92073094 0.91386607 0.9099565  0.91922247 0.94338799\n",
            " 0.9463433  0.93461452 0.92325522 0.91401999 0.92316285 0.92150054\n",
            " 0.93476844 0.93578433 0.90416908 0.88702235 0.89043934 0.88677606\n",
            " 0.8817275  0.88492901 0.87110698 0.87169185 0.87674041 0.87440087\n",
            " 0.88181979 0.90065972 0.91269626 0.91749861 0.92442503 0.92673384\n",
            " 0.91891463 0.92288583 0.9381547  0.94086371 0.93104361 0.93002772\n",
            " 0.93110517 0.93716962 0.95825673 0.95736402 0.95576326 0.95185362\n",
            " 0.90174752 0.86013752 0.81747919 0.78071463 0.75094187 0.72749072\n",
            " 0.70876342 0.69297248 0.67864633 0.66484642 0.65115654 0.63754839\n",
            " 0.62420672 0.61137903 0.59927338 0.58801067]\n",
            "16 day output [[0.5776188]]\n",
            "17 day input [0.86802857 0.86935223 0.85328294 0.86205641 0.86100978 0.86953696\n",
            " 0.87267693 0.86264135 0.86014781 0.85235942 0.88523686 0.90767843\n",
            " 0.89628832 0.88065005 0.92036155 0.92814986 0.90906372 0.90789398\n",
            " 0.91134179 0.92414793 0.9317824  0.92922731 0.92448658 0.93467615\n",
            " 0.92260872 0.92193149 0.91158808 0.90989495 0.91035671 0.91361978\n",
            " 0.90937156 0.91602096 0.91254234 0.90115222 0.90958711 0.91506662\n",
            " 0.91204984 0.91309647 0.92587187 0.93132064 0.92716479 0.92328603\n",
            " 0.92073094 0.91386607 0.9099565  0.91922247 0.94338799 0.9463433\n",
            " 0.93461452 0.92325522 0.91401999 0.92316285 0.92150054 0.93476844\n",
            " 0.93578433 0.90416908 0.88702235 0.89043934 0.88677606 0.8817275\n",
            " 0.88492901 0.87110698 0.87169185 0.87674041 0.87440087 0.88181979\n",
            " 0.90065972 0.91269626 0.91749861 0.92442503 0.92673384 0.91891463\n",
            " 0.92288583 0.9381547  0.94086371 0.93104361 0.93002772 0.93110517\n",
            " 0.93716962 0.95825673 0.95736402 0.95576326 0.95185362 0.90174752\n",
            " 0.86013752 0.81747919 0.78071463 0.75094187 0.72749072 0.70876342\n",
            " 0.69297248 0.67864633 0.66484642 0.65115654 0.63754839 0.62420672\n",
            " 0.61137903 0.59927338 0.58801067 0.57761878]\n",
            "17 day output [[0.5680515]]\n",
            "18 day input [0.86935223 0.85328294 0.86205641 0.86100978 0.86953696 0.87267693\n",
            " 0.86264135 0.86014781 0.85235942 0.88523686 0.90767843 0.89628832\n",
            " 0.88065005 0.92036155 0.92814986 0.90906372 0.90789398 0.91134179\n",
            " 0.92414793 0.9317824  0.92922731 0.92448658 0.93467615 0.92260872\n",
            " 0.92193149 0.91158808 0.90989495 0.91035671 0.91361978 0.90937156\n",
            " 0.91602096 0.91254234 0.90115222 0.90958711 0.91506662 0.91204984\n",
            " 0.91309647 0.92587187 0.93132064 0.92716479 0.92328603 0.92073094\n",
            " 0.91386607 0.9099565  0.91922247 0.94338799 0.9463433  0.93461452\n",
            " 0.92325522 0.91401999 0.92316285 0.92150054 0.93476844 0.93578433\n",
            " 0.90416908 0.88702235 0.89043934 0.88677606 0.8817275  0.88492901\n",
            " 0.87110698 0.87169185 0.87674041 0.87440087 0.88181979 0.90065972\n",
            " 0.91269626 0.91749861 0.92442503 0.92673384 0.91891463 0.92288583\n",
            " 0.9381547  0.94086371 0.93104361 0.93002772 0.93110517 0.93716962\n",
            " 0.95825673 0.95736402 0.95576326 0.95185362 0.90174752 0.86013752\n",
            " 0.81747919 0.78071463 0.75094187 0.72749072 0.70876342 0.69297248\n",
            " 0.67864633 0.66484642 0.65115654 0.63754839 0.62420672 0.61137903\n",
            " 0.59927338 0.58801067 0.57761878 0.56805152]\n",
            "18 day output [[0.55921793]]\n",
            "19 day input [0.85328294 0.86205641 0.86100978 0.86953696 0.87267693 0.86264135\n",
            " 0.86014781 0.85235942 0.88523686 0.90767843 0.89628832 0.88065005\n",
            " 0.92036155 0.92814986 0.90906372 0.90789398 0.91134179 0.92414793\n",
            " 0.9317824  0.92922731 0.92448658 0.93467615 0.92260872 0.92193149\n",
            " 0.91158808 0.90989495 0.91035671 0.91361978 0.90937156 0.91602096\n",
            " 0.91254234 0.90115222 0.90958711 0.91506662 0.91204984 0.91309647\n",
            " 0.92587187 0.93132064 0.92716479 0.92328603 0.92073094 0.91386607\n",
            " 0.9099565  0.91922247 0.94338799 0.9463433  0.93461452 0.92325522\n",
            " 0.91401999 0.92316285 0.92150054 0.93476844 0.93578433 0.90416908\n",
            " 0.88702235 0.89043934 0.88677606 0.8817275  0.88492901 0.87110698\n",
            " 0.87169185 0.87674041 0.87440087 0.88181979 0.90065972 0.91269626\n",
            " 0.91749861 0.92442503 0.92673384 0.91891463 0.92288583 0.9381547\n",
            " 0.94086371 0.93104361 0.93002772 0.93110517 0.93716962 0.95825673\n",
            " 0.95736402 0.95576326 0.95185362 0.90174752 0.86013752 0.81747919\n",
            " 0.78071463 0.75094187 0.72749072 0.70876342 0.69297248 0.67864633\n",
            " 0.66484642 0.65115654 0.63754839 0.62420672 0.61137903 0.59927338\n",
            " 0.58801067 0.57761878 0.56805152 0.55921793]\n",
            "19 day output [[0.5510112]]\n",
            "20 day input [0.86205641 0.86100978 0.86953696 0.87267693 0.86264135 0.86014781\n",
            " 0.85235942 0.88523686 0.90767843 0.89628832 0.88065005 0.92036155\n",
            " 0.92814986 0.90906372 0.90789398 0.91134179 0.92414793 0.9317824\n",
            " 0.92922731 0.92448658 0.93467615 0.92260872 0.92193149 0.91158808\n",
            " 0.90989495 0.91035671 0.91361978 0.90937156 0.91602096 0.91254234\n",
            " 0.90115222 0.90958711 0.91506662 0.91204984 0.91309647 0.92587187\n",
            " 0.93132064 0.92716479 0.92328603 0.92073094 0.91386607 0.9099565\n",
            " 0.91922247 0.94338799 0.9463433  0.93461452 0.92325522 0.91401999\n",
            " 0.92316285 0.92150054 0.93476844 0.93578433 0.90416908 0.88702235\n",
            " 0.89043934 0.88677606 0.8817275  0.88492901 0.87110698 0.87169185\n",
            " 0.87674041 0.87440087 0.88181979 0.90065972 0.91269626 0.91749861\n",
            " 0.92442503 0.92673384 0.91891463 0.92288583 0.9381547  0.94086371\n",
            " 0.93104361 0.93002772 0.93110517 0.93716962 0.95825673 0.95736402\n",
            " 0.95576326 0.95185362 0.90174752 0.86013752 0.81747919 0.78071463\n",
            " 0.75094187 0.72749072 0.70876342 0.69297248 0.67864633 0.66484642\n",
            " 0.65115654 0.63754839 0.62420672 0.61137903 0.59927338 0.58801067\n",
            " 0.57761878 0.56805152 0.55921793 0.5510112 ]\n",
            "20 day output [[0.54332733]]\n",
            "21 day input [0.86100978 0.86953696 0.87267693 0.86264135 0.86014781 0.85235942\n",
            " 0.88523686 0.90767843 0.89628832 0.88065005 0.92036155 0.92814986\n",
            " 0.90906372 0.90789398 0.91134179 0.92414793 0.9317824  0.92922731\n",
            " 0.92448658 0.93467615 0.92260872 0.92193149 0.91158808 0.90989495\n",
            " 0.91035671 0.91361978 0.90937156 0.91602096 0.91254234 0.90115222\n",
            " 0.90958711 0.91506662 0.91204984 0.91309647 0.92587187 0.93132064\n",
            " 0.92716479 0.92328603 0.92073094 0.91386607 0.9099565  0.91922247\n",
            " 0.94338799 0.9463433  0.93461452 0.92325522 0.91401999 0.92316285\n",
            " 0.92150054 0.93476844 0.93578433 0.90416908 0.88702235 0.89043934\n",
            " 0.88677606 0.8817275  0.88492901 0.87110698 0.87169185 0.87674041\n",
            " 0.87440087 0.88181979 0.90065972 0.91269626 0.91749861 0.92442503\n",
            " 0.92673384 0.91891463 0.92288583 0.9381547  0.94086371 0.93104361\n",
            " 0.93002772 0.93110517 0.93716962 0.95825673 0.95736402 0.95576326\n",
            " 0.95185362 0.90174752 0.86013752 0.81747919 0.78071463 0.75094187\n",
            " 0.72749072 0.70876342 0.69297248 0.67864633 0.66484642 0.65115654\n",
            " 0.63754839 0.62420672 0.61137903 0.59927338 0.58801067 0.57761878\n",
            " 0.56805152 0.55921793 0.5510112  0.54332733]\n",
            "21 day output [[0.53607863]]\n",
            "22 day input [0.86953696 0.87267693 0.86264135 0.86014781 0.85235942 0.88523686\n",
            " 0.90767843 0.89628832 0.88065005 0.92036155 0.92814986 0.90906372\n",
            " 0.90789398 0.91134179 0.92414793 0.9317824  0.92922731 0.92448658\n",
            " 0.93467615 0.92260872 0.92193149 0.91158808 0.90989495 0.91035671\n",
            " 0.91361978 0.90937156 0.91602096 0.91254234 0.90115222 0.90958711\n",
            " 0.91506662 0.91204984 0.91309647 0.92587187 0.93132064 0.92716479\n",
            " 0.92328603 0.92073094 0.91386607 0.9099565  0.91922247 0.94338799\n",
            " 0.9463433  0.93461452 0.92325522 0.91401999 0.92316285 0.92150054\n",
            " 0.93476844 0.93578433 0.90416908 0.88702235 0.89043934 0.88677606\n",
            " 0.8817275  0.88492901 0.87110698 0.87169185 0.87674041 0.87440087\n",
            " 0.88181979 0.90065972 0.91269626 0.91749861 0.92442503 0.92673384\n",
            " 0.91891463 0.92288583 0.9381547  0.94086371 0.93104361 0.93002772\n",
            " 0.93110517 0.93716962 0.95825673 0.95736402 0.95576326 0.95185362\n",
            " 0.90174752 0.86013752 0.81747919 0.78071463 0.75094187 0.72749072\n",
            " 0.70876342 0.69297248 0.67864633 0.66484642 0.65115654 0.63754839\n",
            " 0.62420672 0.61137903 0.59927338 0.58801067 0.57761878 0.56805152\n",
            " 0.55921793 0.5510112  0.54332733 0.53607863]\n",
            "22 day output [[0.52919674]]\n",
            "23 day input [0.87267693 0.86264135 0.86014781 0.85235942 0.88523686 0.90767843\n",
            " 0.89628832 0.88065005 0.92036155 0.92814986 0.90906372 0.90789398\n",
            " 0.91134179 0.92414793 0.9317824  0.92922731 0.92448658 0.93467615\n",
            " 0.92260872 0.92193149 0.91158808 0.90989495 0.91035671 0.91361978\n",
            " 0.90937156 0.91602096 0.91254234 0.90115222 0.90958711 0.91506662\n",
            " 0.91204984 0.91309647 0.92587187 0.93132064 0.92716479 0.92328603\n",
            " 0.92073094 0.91386607 0.9099565  0.91922247 0.94338799 0.9463433\n",
            " 0.93461452 0.92325522 0.91401999 0.92316285 0.92150054 0.93476844\n",
            " 0.93578433 0.90416908 0.88702235 0.89043934 0.88677606 0.8817275\n",
            " 0.88492901 0.87110698 0.87169185 0.87674041 0.87440087 0.88181979\n",
            " 0.90065972 0.91269626 0.91749861 0.92442503 0.92673384 0.91891463\n",
            " 0.92288583 0.9381547  0.94086371 0.93104361 0.93002772 0.93110517\n",
            " 0.93716962 0.95825673 0.95736402 0.95576326 0.95185362 0.90174752\n",
            " 0.86013752 0.81747919 0.78071463 0.75094187 0.72749072 0.70876342\n",
            " 0.69297248 0.67864633 0.66484642 0.65115654 0.63754839 0.62420672\n",
            " 0.61137903 0.59927338 0.58801067 0.57761878 0.56805152 0.55921793\n",
            " 0.5510112  0.54332733 0.53607863 0.52919674]\n",
            "23 day output [[0.52263165]]\n",
            "24 day input [0.86264135 0.86014781 0.85235942 0.88523686 0.90767843 0.89628832\n",
            " 0.88065005 0.92036155 0.92814986 0.90906372 0.90789398 0.91134179\n",
            " 0.92414793 0.9317824  0.92922731 0.92448658 0.93467615 0.92260872\n",
            " 0.92193149 0.91158808 0.90989495 0.91035671 0.91361978 0.90937156\n",
            " 0.91602096 0.91254234 0.90115222 0.90958711 0.91506662 0.91204984\n",
            " 0.91309647 0.92587187 0.93132064 0.92716479 0.92328603 0.92073094\n",
            " 0.91386607 0.9099565  0.91922247 0.94338799 0.9463433  0.93461452\n",
            " 0.92325522 0.91401999 0.92316285 0.92150054 0.93476844 0.93578433\n",
            " 0.90416908 0.88702235 0.89043934 0.88677606 0.8817275  0.88492901\n",
            " 0.87110698 0.87169185 0.87674041 0.87440087 0.88181979 0.90065972\n",
            " 0.91269626 0.91749861 0.92442503 0.92673384 0.91891463 0.92288583\n",
            " 0.9381547  0.94086371 0.93104361 0.93002772 0.93110517 0.93716962\n",
            " 0.95825673 0.95736402 0.95576326 0.95185362 0.90174752 0.86013752\n",
            " 0.81747919 0.78071463 0.75094187 0.72749072 0.70876342 0.69297248\n",
            " 0.67864633 0.66484642 0.65115654 0.63754839 0.62420672 0.61137903\n",
            " 0.59927338 0.58801067 0.57761878 0.56805152 0.55921793 0.5510112\n",
            " 0.54332733 0.53607863 0.52919674 0.52263165]\n",
            "24 day output [[0.5163479]]\n",
            "25 day input [0.86014781 0.85235942 0.88523686 0.90767843 0.89628832 0.88065005\n",
            " 0.92036155 0.92814986 0.90906372 0.90789398 0.91134179 0.92414793\n",
            " 0.9317824  0.92922731 0.92448658 0.93467615 0.92260872 0.92193149\n",
            " 0.91158808 0.90989495 0.91035671 0.91361978 0.90937156 0.91602096\n",
            " 0.91254234 0.90115222 0.90958711 0.91506662 0.91204984 0.91309647\n",
            " 0.92587187 0.93132064 0.92716479 0.92328603 0.92073094 0.91386607\n",
            " 0.9099565  0.91922247 0.94338799 0.9463433  0.93461452 0.92325522\n",
            " 0.91401999 0.92316285 0.92150054 0.93476844 0.93578433 0.90416908\n",
            " 0.88702235 0.89043934 0.88677606 0.8817275  0.88492901 0.87110698\n",
            " 0.87169185 0.87674041 0.87440087 0.88181979 0.90065972 0.91269626\n",
            " 0.91749861 0.92442503 0.92673384 0.91891463 0.92288583 0.9381547\n",
            " 0.94086371 0.93104361 0.93002772 0.93110517 0.93716962 0.95825673\n",
            " 0.95736402 0.95576326 0.95185362 0.90174752 0.86013752 0.81747919\n",
            " 0.78071463 0.75094187 0.72749072 0.70876342 0.69297248 0.67864633\n",
            " 0.66484642 0.65115654 0.63754839 0.62420672 0.61137903 0.59927338\n",
            " 0.58801067 0.57761878 0.56805152 0.55921793 0.5510112  0.54332733\n",
            " 0.53607863 0.52919674 0.52263165 0.51634789]\n",
            "25 day output [[0.5103189]]\n",
            "26 day input [0.85235942 0.88523686 0.90767843 0.89628832 0.88065005 0.92036155\n",
            " 0.92814986 0.90906372 0.90789398 0.91134179 0.92414793 0.9317824\n",
            " 0.92922731 0.92448658 0.93467615 0.92260872 0.92193149 0.91158808\n",
            " 0.90989495 0.91035671 0.91361978 0.90937156 0.91602096 0.91254234\n",
            " 0.90115222 0.90958711 0.91506662 0.91204984 0.91309647 0.92587187\n",
            " 0.93132064 0.92716479 0.92328603 0.92073094 0.91386607 0.9099565\n",
            " 0.91922247 0.94338799 0.9463433  0.93461452 0.92325522 0.91401999\n",
            " 0.92316285 0.92150054 0.93476844 0.93578433 0.90416908 0.88702235\n",
            " 0.89043934 0.88677606 0.8817275  0.88492901 0.87110698 0.87169185\n",
            " 0.87674041 0.87440087 0.88181979 0.90065972 0.91269626 0.91749861\n",
            " 0.92442503 0.92673384 0.91891463 0.92288583 0.9381547  0.94086371\n",
            " 0.93104361 0.93002772 0.93110517 0.93716962 0.95825673 0.95736402\n",
            " 0.95576326 0.95185362 0.90174752 0.86013752 0.81747919 0.78071463\n",
            " 0.75094187 0.72749072 0.70876342 0.69297248 0.67864633 0.66484642\n",
            " 0.65115654 0.63754839 0.62420672 0.61137903 0.59927338 0.58801067\n",
            " 0.57761878 0.56805152 0.55921793 0.5510112  0.54332733 0.53607863\n",
            " 0.52919674 0.52263165 0.51634789 0.51031888]\n",
            "26 day output [[0.50452375]]\n",
            "27 day input [0.88523686 0.90767843 0.89628832 0.88065005 0.92036155 0.92814986\n",
            " 0.90906372 0.90789398 0.91134179 0.92414793 0.9317824  0.92922731\n",
            " 0.92448658 0.93467615 0.92260872 0.92193149 0.91158808 0.90989495\n",
            " 0.91035671 0.91361978 0.90937156 0.91602096 0.91254234 0.90115222\n",
            " 0.90958711 0.91506662 0.91204984 0.91309647 0.92587187 0.93132064\n",
            " 0.92716479 0.92328603 0.92073094 0.91386607 0.9099565  0.91922247\n",
            " 0.94338799 0.9463433  0.93461452 0.92325522 0.91401999 0.92316285\n",
            " 0.92150054 0.93476844 0.93578433 0.90416908 0.88702235 0.89043934\n",
            " 0.88677606 0.8817275  0.88492901 0.87110698 0.87169185 0.87674041\n",
            " 0.87440087 0.88181979 0.90065972 0.91269626 0.91749861 0.92442503\n",
            " 0.92673384 0.91891463 0.92288583 0.9381547  0.94086371 0.93104361\n",
            " 0.93002772 0.93110517 0.93716962 0.95825673 0.95736402 0.95576326\n",
            " 0.95185362 0.90174752 0.86013752 0.81747919 0.78071463 0.75094187\n",
            " 0.72749072 0.70876342 0.69297248 0.67864633 0.66484642 0.65115654\n",
            " 0.63754839 0.62420672 0.61137903 0.59927338 0.58801067 0.57761878\n",
            " 0.56805152 0.55921793 0.5510112  0.54332733 0.53607863 0.52919674\n",
            " 0.52263165 0.51634789 0.51031888 0.50452375]\n",
            "27 day output [[0.49894428]]\n",
            "28 day input [0.90767843 0.89628832 0.88065005 0.92036155 0.92814986 0.90906372\n",
            " 0.90789398 0.91134179 0.92414793 0.9317824  0.92922731 0.92448658\n",
            " 0.93467615 0.92260872 0.92193149 0.91158808 0.90989495 0.91035671\n",
            " 0.91361978 0.90937156 0.91602096 0.91254234 0.90115222 0.90958711\n",
            " 0.91506662 0.91204984 0.91309647 0.92587187 0.93132064 0.92716479\n",
            " 0.92328603 0.92073094 0.91386607 0.9099565  0.91922247 0.94338799\n",
            " 0.9463433  0.93461452 0.92325522 0.91401999 0.92316285 0.92150054\n",
            " 0.93476844 0.93578433 0.90416908 0.88702235 0.89043934 0.88677606\n",
            " 0.8817275  0.88492901 0.87110698 0.87169185 0.87674041 0.87440087\n",
            " 0.88181979 0.90065972 0.91269626 0.91749861 0.92442503 0.92673384\n",
            " 0.91891463 0.92288583 0.9381547  0.94086371 0.93104361 0.93002772\n",
            " 0.93110517 0.93716962 0.95825673 0.95736402 0.95576326 0.95185362\n",
            " 0.90174752 0.86013752 0.81747919 0.78071463 0.75094187 0.72749072\n",
            " 0.70876342 0.69297248 0.67864633 0.66484642 0.65115654 0.63754839\n",
            " 0.62420672 0.61137903 0.59927338 0.58801067 0.57761878 0.56805152\n",
            " 0.55921793 0.5510112  0.54332733 0.53607863 0.52919674 0.52263165\n",
            " 0.51634789 0.51031888 0.50452375 0.49894428]\n",
            "28 day output [[0.49356315]]\n",
            "29 day input [0.89628832 0.88065005 0.92036155 0.92814986 0.90906372 0.90789398\n",
            " 0.91134179 0.92414793 0.9317824  0.92922731 0.92448658 0.93467615\n",
            " 0.92260872 0.92193149 0.91158808 0.90989495 0.91035671 0.91361978\n",
            " 0.90937156 0.91602096 0.91254234 0.90115222 0.90958711 0.91506662\n",
            " 0.91204984 0.91309647 0.92587187 0.93132064 0.92716479 0.92328603\n",
            " 0.92073094 0.91386607 0.9099565  0.91922247 0.94338799 0.9463433\n",
            " 0.93461452 0.92325522 0.91401999 0.92316285 0.92150054 0.93476844\n",
            " 0.93578433 0.90416908 0.88702235 0.89043934 0.88677606 0.8817275\n",
            " 0.88492901 0.87110698 0.87169185 0.87674041 0.87440087 0.88181979\n",
            " 0.90065972 0.91269626 0.91749861 0.92442503 0.92673384 0.91891463\n",
            " 0.92288583 0.9381547  0.94086371 0.93104361 0.93002772 0.93110517\n",
            " 0.93716962 0.95825673 0.95736402 0.95576326 0.95185362 0.90174752\n",
            " 0.86013752 0.81747919 0.78071463 0.75094187 0.72749072 0.70876342\n",
            " 0.69297248 0.67864633 0.66484642 0.65115654 0.63754839 0.62420672\n",
            " 0.61137903 0.59927338 0.58801067 0.57761878 0.56805152 0.55921793\n",
            " 0.5510112  0.54332733 0.53607863 0.52919674 0.52263165 0.51634789\n",
            " 0.51031888 0.50452375 0.49894428 0.49356315]\n",
            "29 day output [[0.48836365]]\n",
            "[[0.9017475247383118], [0.8601375222206116], [0.8174791932106018], [0.7807146310806274], [0.7509418725967407], [0.7274907231330872], [0.7087634205818176], [0.6929724812507629], [0.6786463260650635], [0.6648464202880859], [0.6511565446853638], [0.6375483870506287], [0.6242067217826843], [0.6113790273666382], [0.5992733836174011], [0.5880106687545776], [0.5776187777519226], [0.5680515170097351], [0.5592179298400879], [0.5510112047195435], [0.5433273315429688], [0.5360786318778992], [0.5291967391967773], [0.5226316452026367], [0.5163478851318359], [0.5103188753128052], [0.504523754119873], [0.4989442825317383], [0.49356314539909363], [0.488363653421402]]\n"
          ]
        }
      ]
    },
    {
      "cell_type": "code",
      "metadata": {
        "id": "IlnftgYC09yG"
      },
      "source": [
        "day_new=np.arange(1,101)\n",
        "day_pred=np.arange(101,131)"
      ],
      "execution_count": 44,
      "outputs": []
    },
    {
      "cell_type": "code",
      "metadata": {
        "id": "bze8nU5i097V"
      },
      "source": [
        "import matplotlib.pyplot as plt"
      ],
      "execution_count": 45,
      "outputs": []
    },
    {
      "cell_type": "code",
      "metadata": {
        "colab": {
          "base_uri": "https://localhost:8080/"
        },
        "id": "VRcB21k71G4L",
        "outputId": "dfc2cb5f-e832-4147-a247-b53383489319"
      },
      "source": [
        "len(df1)"
      ],
      "execution_count": 46,
      "outputs": [
        {
          "output_type": "execute_result",
          "data": {
            "text/plain": [
              "6452"
            ]
          },
          "metadata": {},
          "execution_count": 46
        }
      ]
    },
    {
      "cell_type": "code",
      "metadata": {
        "colab": {
          "base_uri": "https://localhost:8080/",
          "height": 469
        },
        "id": "TEVjz_Qy1Jec",
        "outputId": "f361351a-d67e-4621-d305-900503b6f7e8"
      },
      "source": [
        "plt.plot(day_new,scaler.inverse_transform(df1[6352:]))\n",
        "plt.plot(day_pred,scaler.inverse_transform(lst_output))\n",
        "plt.title('HDFC Prediction of Next 30 Days')"
      ],
      "execution_count": 47,
      "outputs": [
        {
          "output_type": "execute_result",
          "data": {
            "text/plain": [
              "Text(0.5, 1.0, 'HDFC Prediction of Next 30 Days')"
            ]
          },
          "metadata": {},
          "execution_count": 47
        },
        {
          "output_type": "display_data",
          "data": {
            "image/png": "[encoded data removed]",
            "text/plain": [
              "<Figure size 640x480 with 1 Axes>"
            ]
          },
          "metadata": {}
        }
      ]
    },
    {
      "cell_type": "code",
      "metadata": {
        "colab": {
          "base_uri": "https://localhost:8080/",
          "height": 447
        },
        "id": "ESp1lp3R1LfH",
        "outputId": "038dc448-add7-4037-ca5c-c04c01150ad9"
      },
      "source": [
        "df3=df1.tolist()\n",
        "df3.extend(lst_output)\n",
        "plt.plot(df3[6000:])"
      ],
      "execution_count": 48,
      "outputs": [
        {
          "output_type": "execute_result",
          "data": {
            "text/plain": [
              "[<matplotlib.lines.Line2D at 0x7f73322f4e10>]"
            ]
          },
          "metadata": {},
          "execution_count": 48
        },
        {
          "output_type": "display_data",
          "data": {
            "image/png": "[encoded data removed]",
            "text/plain": [
              "<Figure size 640x480 with 1 Axes>"
            ]
          },
          "metadata": {}
        }
      ]
    },
    {
      "cell_type": "code",
      "metadata": {
        "id": "OQK_oXwD1Lxv"
      },
      "source": [
        "df3=scaler.inverse_transform(df3).tolist()"
      ],
      "execution_count": 49,
      "outputs": []
    },
    {
      "cell_type": "code",
      "metadata": {
        "colab": {
          "base_uri": "https://localhost:8080/",
          "height": 447
        },
        "id": "X3DpOmIs1MCQ",
        "outputId": "8a4f6a69-2d76-420e-d14b-cd29f8d1b491"
      },
      "source": [
        "plt.plot(df3)"
      ],
      "execution_count": 50,
      "outputs": [
        {
          "output_type": "execute_result",
          "data": {
            "text/plain": [
              "[<matplotlib.lines.Line2D at 0x7f73322f9d10>]"
            ]
          },
          "metadata": {},
          "execution_count": 50
        },
        {
          "output_type": "display_data",
          "data": {
            "image/png": "[encoded data removed]",
            "text/plain": [
              "<Figure size 640x480 with 1 Axes>"
            ]
          },
          "metadata": {}
        }
      ]
    }
  ]
}