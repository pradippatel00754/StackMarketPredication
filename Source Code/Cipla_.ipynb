{
  "nbformat": 4,
  "nbformat_minor": 0,
  "metadata": {
    "colab": {
      "name": "Cipla:.ipynb",
      "provenance": [],
      "collapsed_sections": []
    },
    "kernelspec": {
      "name": "python3",
      "display_name": "Python 3"
    },
    "language_info": {
      "name": "python"
    }
  },
  "cells": [
    {
      "cell_type": "code",
      "metadata": {
        "colab": {
          "base_uri": "https://localhost:8080/"
        },
        "id": "nR34pB3lsVC8",
        "outputId": "2f2d9256-6f52-4be3-a17e-7c7565ea4296"
      },
      "source": [
        "import os\n",
        "os.getcwd()\n",
        "from google.colab import drive\n",
        "drive.mount('/content/gdrive')\n",
        "os.chdir('/content/gdrive/My Drive')"
      ],
      "execution_count": null,
      "outputs": [
        {
          "output_type": "stream",
          "name": "stdout",
          "text": [
            "Mounted at /content/gdrive\n"
          ]
        }
      ]
    },
    {
      "cell_type": "code",
      "metadata": {
        "id": "j7NsICtPsY25"
      },
      "source": [
        "import pandas as pd\n",
        "import numpy as np\n",
        "import matplotlib.pyplot as plt\n",
        "import seaborn as sns\n",
        "import warnings\n",
        "warnings.filterwarnings(\"ignore\")\n",
        "\n",
        "FileName = 'CIPLA.NS.csv'\n",
        "Cipla=pd.read_csv(FileName)"
      ],
      "execution_count": null,
      "outputs": []
    },
    {
      "cell_type": "code",
      "metadata": {
        "colab": {
          "base_uri": "https://localhost:8080/",
          "height": 204
        },
        "id": "VHqN5qxmsdtL",
        "outputId": "16a50897-5662-443f-9791-39106a7809d9"
      },
      "source": [
        "Cipla.head()"
      ],
      "execution_count": null,
      "outputs": [
        {
          "output_type": "execute_result",
          "data": {
            "text/html": [
              "<div>\n",
              "<style scoped>\n",
              "    .dataframe tbody tr th:only-of-type {\n",
              "        vertical-align: middle;\n",
              "    }\n",
              "\n",
              "    .dataframe tbody tr th {\n",
              "        vertical-align: top;\n",
              "    }\n",
              "\n",
              "    .dataframe thead th {\n",
              "        text-align: right;\n",
              "    }\n",
              "</style>\n",
              "<table border=\"1\" class=\"dataframe\">\n",
              "  <thead>\n",
              "    <tr style=\"text-align: right;\">\n",
              "      <th></th>\n",
              "      <th>Date</th>\n",
              "      <th>Open</th>\n",
              "      <th>High</th>\n",
              "      <th>Low</th>\n",
              "      <th>Close</th>\n",
              "      <th>Adj Close</th>\n",
              "      <th>Volume</th>\n",
              "    </tr>\n",
              "  </thead>\n",
              "  <tbody>\n",
              "    <tr>\n",
              "      <th>0</th>\n",
              "      <td>01/01/1996</td>\n",
              "      <td>8.778666</td>\n",
              "      <td>8.833333</td>\n",
              "      <td>8.773333</td>\n",
              "      <td>8.832000</td>\n",
              "      <td>7.521939</td>\n",
              "      <td>208125</td>\n",
              "    </tr>\n",
              "    <tr>\n",
              "      <th>1</th>\n",
              "      <td>02/01/1996</td>\n",
              "      <td>8.832000</td>\n",
              "      <td>9.013333</td>\n",
              "      <td>8.400000</td>\n",
              "      <td>8.720000</td>\n",
              "      <td>7.426554</td>\n",
              "      <td>1623750</td>\n",
              "    </tr>\n",
              "    <tr>\n",
              "      <th>2</th>\n",
              "      <td>03/01/1996</td>\n",
              "      <td>8.720000</td>\n",
              "      <td>8.880000</td>\n",
              "      <td>8.626666</td>\n",
              "      <td>8.658666</td>\n",
              "      <td>7.374316</td>\n",
              "      <td>721875</td>\n",
              "    </tr>\n",
              "    <tr>\n",
              "      <th>3</th>\n",
              "      <td>04/01/1996</td>\n",
              "      <td>8.658666</td>\n",
              "      <td>8.653333</td>\n",
              "      <td>8.400000</td>\n",
              "      <td>8.568000</td>\n",
              "      <td>7.297098</td>\n",
              "      <td>620625</td>\n",
              "    </tr>\n",
              "    <tr>\n",
              "      <th>4</th>\n",
              "      <td>05/01/1996</td>\n",
              "      <td>8.568000</td>\n",
              "      <td>8.640000</td>\n",
              "      <td>8.506666</td>\n",
              "      <td>8.546666</td>\n",
              "      <td>7.278929</td>\n",
              "      <td>350625</td>\n",
              "    </tr>\n",
              "  </tbody>\n",
              "</table>\n",
              "</div>"
            ],
            "text/plain": [
              "         Date      Open      High       Low     Close  Adj Close   Volume\n",
              "0  01/01/1996  8.778666  8.833333  8.773333  8.832000   7.521939   208125\n",
              "1  02/01/1996  8.832000  9.013333  8.400000  8.720000   7.426554  1623750\n",
              "2  03/01/1996  8.720000  8.880000  8.626666  8.658666   7.374316   721875\n",
              "3  04/01/1996  8.658666  8.653333  8.400000  8.568000   7.297098   620625\n",
              "4  05/01/1996  8.568000  8.640000  8.506666  8.546666   7.278929   350625"
            ]
          },
          "metadata": {},
          "execution_count": 3
        }
      ]
    },
    {
      "cell_type": "code",
      "metadata": {
        "colab": {
          "base_uri": "https://localhost:8080/",
          "height": 204
        },
        "id": "8RFQUgbQsliu",
        "outputId": "d6dd4819-082e-402f-c853-1698a4eeda5c"
      },
      "source": [
        "Cipla.tail()"
      ],
      "execution_count": null,
      "outputs": [
        {
          "output_type": "execute_result",
          "data": {
            "text/html": [
              "<div>\n",
              "<style scoped>\n",
              "    .dataframe tbody tr th:only-of-type {\n",
              "        vertical-align: middle;\n",
              "    }\n",
              "\n",
              "    .dataframe tbody tr th {\n",
              "        vertical-align: top;\n",
              "    }\n",
              "\n",
              "    .dataframe thead th {\n",
              "        text-align: right;\n",
              "    }\n",
              "</style>\n",
              "<table border=\"1\" class=\"dataframe\">\n",
              "  <thead>\n",
              "    <tr style=\"text-align: right;\">\n",
              "      <th></th>\n",
              "      <th>Date</th>\n",
              "      <th>Open</th>\n",
              "      <th>High</th>\n",
              "      <th>Low</th>\n",
              "      <th>Close</th>\n",
              "      <th>Adj Close</th>\n",
              "      <th>Volume</th>\n",
              "    </tr>\n",
              "  </thead>\n",
              "  <tbody>\n",
              "    <tr>\n",
              "      <th>6435</th>\n",
              "      <td>23/08/2021</td>\n",
              "      <td>898.000000</td>\n",
              "      <td>908.000000</td>\n",
              "      <td>888.650024</td>\n",
              "      <td>898.349976</td>\n",
              "      <td>898.349976</td>\n",
              "      <td>2081206</td>\n",
              "    </tr>\n",
              "    <tr>\n",
              "      <th>6436</th>\n",
              "      <td>24/08/2021</td>\n",
              "      <td>903.000000</td>\n",
              "      <td>919.549988</td>\n",
              "      <td>897.650024</td>\n",
              "      <td>917.650024</td>\n",
              "      <td>917.650024</td>\n",
              "      <td>2588128</td>\n",
              "    </tr>\n",
              "    <tr>\n",
              "      <th>6437</th>\n",
              "      <td>25/08/2021</td>\n",
              "      <td>917.000000</td>\n",
              "      <td>923.599976</td>\n",
              "      <td>905.950012</td>\n",
              "      <td>912.599976</td>\n",
              "      <td>912.599976</td>\n",
              "      <td>1697757</td>\n",
              "    </tr>\n",
              "    <tr>\n",
              "      <th>6438</th>\n",
              "      <td>26/08/2021</td>\n",
              "      <td>912.599976</td>\n",
              "      <td>916.750000</td>\n",
              "      <td>906.299988</td>\n",
              "      <td>911.299988</td>\n",
              "      <td>911.299988</td>\n",
              "      <td>1522032</td>\n",
              "    </tr>\n",
              "    <tr>\n",
              "      <th>6439</th>\n",
              "      <td>27/08/2021</td>\n",
              "      <td>913.799988</td>\n",
              "      <td>925.450012</td>\n",
              "      <td>907.500000</td>\n",
              "      <td>923.900024</td>\n",
              "      <td>923.900024</td>\n",
              "      <td>1878603</td>\n",
              "    </tr>\n",
              "  </tbody>\n",
              "</table>\n",
              "</div>"
            ],
            "text/plain": [
              "            Date        Open        High  ...       Close   Adj Close   Volume\n",
              "6435  23/08/2021  898.000000  908.000000  ...  898.349976  898.349976  2081206\n",
              "6436  24/08/2021  903.000000  919.549988  ...  917.650024  917.650024  2588128\n",
              "6437  25/08/2021  917.000000  923.599976  ...  912.599976  912.599976  1697757\n",
              "6438  26/08/2021  912.599976  916.750000  ...  911.299988  911.299988  1522032\n",
              "6439  27/08/2021  913.799988  925.450012  ...  923.900024  923.900024  1878603\n",
              "\n",
              "[5 rows x 7 columns]"
            ]
          },
          "metadata": {},
          "execution_count": 4
        }
      ]
    },
    {
      "cell_type": "code",
      "metadata": {
        "id": "rEZ7LUoQstCX"
      },
      "source": [
        "df1=Cipla.reset_index()['Close']"
      ],
      "execution_count": null,
      "outputs": []
    },
    {
      "cell_type": "code",
      "metadata": {
        "colab": {
          "base_uri": "https://localhost:8080/"
        },
        "id": "6QiqnOOIs_9e",
        "outputId": "ae10ffff-8af9-4415-ab84-5d9f9e87a99a"
      },
      "source": [
        "df1.shape"
      ],
      "execution_count": null,
      "outputs": [
        {
          "output_type": "execute_result",
          "data": {
            "text/plain": [
              "(6440,)"
            ]
          },
          "metadata": {},
          "execution_count": 6
        }
      ]
    },
    {
      "cell_type": "code",
      "metadata": {
        "colab": {
          "base_uri": "https://localhost:8080/"
        },
        "id": "bGBroGQVtHM8",
        "outputId": "2f0b0195-e933-4652-d26a-ee38f6f0d6d5"
      },
      "source": [
        "df1"
      ],
      "execution_count": null,
      "outputs": [
        {
          "output_type": "execute_result",
          "data": {
            "text/plain": [
              "0         8.832000\n",
              "1         8.720000\n",
              "2         8.658666\n",
              "3         8.568000\n",
              "4         8.546666\n",
              "           ...    \n",
              "6435    898.349976\n",
              "6436    917.650024\n",
              "6437    912.599976\n",
              "6438    911.299988\n",
              "6439    923.900024\n",
              "Name: Close, Length: 6440, dtype: float64"
            ]
          },
          "metadata": {},
          "execution_count": 7
        }
      ]
    },
    {
      "cell_type": "code",
      "metadata": {
        "colab": {
          "base_uri": "https://localhost:8080/",
          "height": 407
        },
        "id": "86bXNskKtJcq",
        "outputId": "d755f005-b379-4f05-b3bd-95939b19131f"
      },
      "source": [
        "import matplotlib.pyplot as plt\n",
        "plt.figure(figsize=(20,6))\n",
        "plt.title('Cipla Share Price of 2002 - 2021')\n",
        "plt.plot(df1)"
      ],
      "execution_count": null,
      "outputs": [
        {
          "output_type": "execute_result",
          "data": {
            "text/plain": [
              "[<matplotlib.lines.Line2D at 0x7fa4dc5480d0>]"
            ]
          },
          "metadata": {},
          "execution_count": 8
        },
        {
          "output_type": "display_data",
          "data": {
            "image/png": "[encoded data removed]",
            "text/plain": [
              "<Figure size 1440x432 with 1 Axes>"
            ]
          },
          "metadata": {
            "needs_background": "light"
          }
        }
      ]
    },
    {
      "cell_type": "code",
      "metadata": {
        "colab": {
          "base_uri": "https://localhost:8080/"
        },
        "id": "WBCePMaangSh",
        "outputId": "78b89156-e4f2-4da3-b74d-7ce41207fba6"
      },
      "source": [
        "Cipla.Date = pd.to_datetime(Cipla.Date)\n",
        "Cipla.info()"
      ],
      "execution_count": null,
      "outputs": [
        {
          "output_type": "stream",
          "name": "stdout",
          "text": [
            "<class 'pandas.core.frame.DataFrame'>\n",
            "RangeIndex: 6440 entries, 0 to 6439\n",
            "Data columns (total 7 columns):\n",
            " #   Column     Non-Null Count  Dtype         \n",
            "---  ------     --------------  -----         \n",
            " 0   Date       6440 non-null   datetime64[ns]\n",
            " 1   Open       6440 non-null   float64       \n",
            " 2   High       6440 non-null   float64       \n",
            " 3   Low        6440 non-null   float64       \n",
            " 4   Close      6440 non-null   float64       \n",
            " 5   Adj Close  6440 non-null   float64       \n",
            " 6   Volume     6440 non-null   int64         \n",
            "dtypes: datetime64[ns](1), float64(5), int64(1)\n",
            "memory usage: 352.3 KB\n"
          ]
        }
      ]
    },
    {
      "cell_type": "code",
      "metadata": {
        "id": "Eq1nXr6_ngft"
      },
      "source": [
        "Cipla = Cipla.set_index('Date')"
      ],
      "execution_count": null,
      "outputs": []
    },
    {
      "cell_type": "code",
      "metadata": {
        "colab": {
          "base_uri": "https://localhost:8080/"
        },
        "id": "V3UnP34Gngol",
        "outputId": "5a7ae0dc-e4df-48a8-a26f-10b9b6aa5711"
      },
      "source": [
        "pip install https://github.com/matplotlib/mpl_finance/archive/master.zip"
      ],
      "execution_count": null,
      "outputs": [
        {
          "output_type": "stream",
          "name": "stdout",
          "text": [
            "Collecting https://github.com/matplotlib/mpl_finance/archive/master.zip\n",
            "  Downloading https://github.com/matplotlib/mpl_finance/archive/master.zip\n",
            "\u001b[K     \\ 306 kB 1.3 MB/s\n",
            "\u001b[?25hRequirement already satisfied: matplotlib in /usr/local/lib/python3.7/dist-packages (from mpl-finance==0.10.1) (3.2.2)\n",
            "Requirement already satisfied: python-dateutil>=2.1 in /usr/local/lib/python3.7/dist-packages (from matplotlib->mpl-finance==0.10.1) (2.8.2)\n",
            "Requirement already satisfied: kiwisolver>=1.0.1 in /usr/local/lib/python3.7/dist-packages (from matplotlib->mpl-finance==0.10.1) (1.3.1)\n",
            "Requirement already satisfied: numpy>=1.11 in /usr/local/lib/python3.7/dist-packages (from matplotlib->mpl-finance==0.10.1) (1.19.5)\n",
            "Requirement already satisfied: cycler>=0.10 in /usr/local/lib/python3.7/dist-packages (from matplotlib->mpl-finance==0.10.1) (0.10.0)\n",
            "Requirement already satisfied: pyparsing!=2.0.4,!=2.1.2,!=2.1.6,>=2.0.1 in /usr/local/lib/python3.7/dist-packages (from matplotlib->mpl-finance==0.10.1) (2.4.7)\n",
            "Requirement already satisfied: six in /usr/local/lib/python3.7/dist-packages (from cycler>=0.10->matplotlib->mpl-finance==0.10.1) (1.15.0)\n",
            "Building wheels for collected packages: mpl-finance\n",
            "  Building wheel for mpl-finance (setup.py) ... \u001b[?25l\u001b[?25hdone\n",
            "  Created wheel for mpl-finance: filename=mpl_finance-0.10.1-py3-none-any.whl size=8435 sha256=e84b78b826a8d55bb4dc5c31f0a8a591c01ec4a4be49fd9c3db52fcb91f48112\n",
            "  Stored in directory: /tmp/pip-ephem-wheel-cache-4z13axkt/wheels/eb/17/99/0f3929e635912eb25fc346aaf43b4ee3da4a80dee8ce3d2e4f\n",
            "Successfully built mpl-finance\n",
            "Installing collected packages: mpl-finance\n",
            "Successfully installed mpl-finance-0.10.1\n"
          ]
        }
      ]
    },
    {
      "cell_type": "code",
      "metadata": {
        "colab": {
          "base_uri": "https://localhost:8080/"
        },
        "id": "Wbr7mfRnng1B",
        "outputId": "2933ee16-6df1-4a54-b748-24e91714f1fa"
      },
      "source": [
        "pip install --upgrade mplfinance"
      ],
      "execution_count": null,
      "outputs": [
        {
          "output_type": "stream",
          "name": "stdout",
          "text": [
            "Collecting mplfinance\n",
            "  Downloading mplfinance-0.12.7a17-py3-none-any.whl (62 kB)\n",
            "\u001b[?25l\r\u001b[K     |█████▎                          | 10 kB 30.6 MB/s eta 0:00:01\r\u001b[K     |██████████▌                     | 20 kB 36.7 MB/s eta 0:00:01\r\u001b[K     |███████████████▊                | 30 kB 39.2 MB/s eta 0:00:01\r\u001b[K     |█████████████████████           | 40 kB 24.3 MB/s eta 0:00:01\r\u001b[K     |██████████████████████████▎     | 51 kB 13.9 MB/s eta 0:00:01\r\u001b[K     |███████████████████████████████▌| 61 kB 15.4 MB/s eta 0:00:01\r\u001b[K     |████████████████████████████████| 62 kB 736 kB/s \n",
            "\u001b[?25hRequirement already satisfied: matplotlib in /usr/local/lib/python3.7/dist-packages (from mplfinance) (3.2.2)\n",
            "Requirement already satisfied: pandas in /usr/local/lib/python3.7/dist-packages (from mplfinance) (1.1.5)\n",
            "Requirement already satisfied: pyparsing!=2.0.4,!=2.1.2,!=2.1.6,>=2.0.1 in /usr/local/lib/python3.7/dist-packages (from matplotlib->mplfinance) (2.4.7)\n",
            "Requirement already satisfied: python-dateutil>=2.1 in /usr/local/lib/python3.7/dist-packages (from matplotlib->mplfinance) (2.8.2)\n",
            "Requirement already satisfied: cycler>=0.10 in /usr/local/lib/python3.7/dist-packages (from matplotlib->mplfinance) (0.10.0)\n",
            "Requirement already satisfied: kiwisolver>=1.0.1 in /usr/local/lib/python3.7/dist-packages (from matplotlib->mplfinance) (1.3.1)\n",
            "Requirement already satisfied: numpy>=1.11 in /usr/local/lib/python3.7/dist-packages (from matplotlib->mplfinance) (1.19.5)\n",
            "Requirement already satisfied: six in /usr/local/lib/python3.7/dist-packages (from cycler>=0.10->matplotlib->mplfinance) (1.15.0)\n",
            "Requirement already satisfied: pytz>=2017.2 in /usr/local/lib/python3.7/dist-packages (from pandas->mplfinance) (2018.9)\n",
            "Installing collected packages: mplfinance\n",
            "Successfully installed mplfinance-0.12.7a17\n"
          ]
        }
      ]
    },
    {
      "cell_type": "code",
      "metadata": {
        "colab": {
          "base_uri": "https://localhost:8080/",
          "height": 427
        },
        "id": "aUcSdzi8nhAK",
        "outputId": "6cd8bf45-d735-4678-b5eb-acc98111beda"
      },
      "source": [
        "import mplfinance as mpf\n",
        "mpf.plot(Cipla['2020'], \n",
        "         type='candle', mav=(20), \n",
        "         volume=True, \n",
        "         title = 'Cipla Share Price of 2020', \n",
        "         figratio=(20,6), tight_layout = True, \n",
        "         style = 'yahoo')"
      ],
      "execution_count": null,
      "outputs": [
        {
          "output_type": "display_data",
          "data": {
            "image/png": "[encoded data removed]",
            "text/plain": [
              "<Figure size 1916.67x575 with 4 Axes>"
            ]
          },
          "metadata": {}
        }
      ]
    },
    {
      "cell_type": "code",
      "metadata": {
        "id": "KhmzK0wQtjLc"
      },
      "source": [
        "import numpy as np"
      ],
      "execution_count": null,
      "outputs": []
    },
    {
      "cell_type": "code",
      "metadata": {
        "id": "11F8IoZWtpSq"
      },
      "source": [
        "from sklearn.preprocessing import MinMaxScaler\n",
        "scaler = MinMaxScaler(feature_range=(0,1))\n",
        "df1=scaler.fit_transform(np.array(df1).reshape(-1,1))"
      ],
      "execution_count": null,
      "outputs": []
    },
    {
      "cell_type": "code",
      "metadata": {
        "colab": {
          "base_uri": "https://localhost:8080/"
        },
        "id": "yZaN017SuDfy",
        "outputId": "0f0f5ab2-4fe2-4e1b-8675-01311fea0206"
      },
      "source": [
        "df1"
      ],
      "execution_count": null,
      "outputs": [
        {
          "output_type": "execute_result",
          "data": {
            "text/plain": [
              "array([[0.00422122],\n",
              "       [0.00410634],\n",
              "       [0.00404342],\n",
              "       ...,\n",
              "       [0.93127382],\n",
              "       [0.92994034],\n",
              "       [0.942865  ]])"
            ]
          },
          "metadata": {},
          "execution_count": 16
        }
      ]
    },
    {
      "cell_type": "code",
      "metadata": {
        "id": "v8nlDnRtuIUJ"
      },
      "source": [
        "training_size=int(len(df1)*0.75)\n",
        "test_size=len(df1)-training_size\n",
        "train_data,test_data=df1[0:training_size,:],df1[training_size:len(df1),:1]"
      ],
      "execution_count": null,
      "outputs": []
    },
    {
      "cell_type": "code",
      "metadata": {
        "colab": {
          "base_uri": "https://localhost:8080/"
        },
        "id": "7BE7WAuPuhZB",
        "outputId": "50e19984-d37b-4ef3-8536-d922cebfc17b"
      },
      "source": [
        "training_size, test_size"
      ],
      "execution_count": null,
      "outputs": [
        {
          "output_type": "execute_result",
          "data": {
            "text/plain": [
              "(4830, 1610)"
            ]
          },
          "metadata": {},
          "execution_count": 18
        }
      ]
    },
    {
      "cell_type": "code",
      "metadata": {
        "colab": {
          "base_uri": "https://localhost:8080/"
        },
        "id": "l22HaDOrvDlY",
        "outputId": "19a335f5-f330-49ea-a984-a53fc958828d"
      },
      "source": [
        "len(train_data), len(test_data)"
      ],
      "execution_count": null,
      "outputs": [
        {
          "output_type": "execute_result",
          "data": {
            "text/plain": [
              "(4830, 1610)"
            ]
          },
          "metadata": {},
          "execution_count": 19
        }
      ]
    },
    {
      "cell_type": "code",
      "metadata": {
        "id": "Wfb3iGg8vNYX"
      },
      "source": [
        "import numpy \n",
        "def create_dataset(dataset, time_step=1):\n",
        "  dataX, dataY = [], []\n",
        "  for i in range (len(dataset)-time_step-1):\n",
        "    a = dataset[i:(i+time_step), 0]\n",
        "    dataX.append(a)\n",
        "    dataY.append(dataset[i + time_step, 0])\n",
        "  return numpy.array(dataX), numpy.array(dataY)"
      ],
      "execution_count": null,
      "outputs": []
    },
    {
      "cell_type": "code",
      "metadata": {
        "id": "HbGS_OF4wMHh"
      },
      "source": [
        "time_step = 100\n",
        "X_train, y_train = create_dataset(train_data, time_step)\n",
        "X_test, y_test = create_dataset(test_data, time_step)"
      ],
      "execution_count": null,
      "outputs": []
    },
    {
      "cell_type": "code",
      "metadata": {
        "colab": {
          "base_uri": "https://localhost:8080/"
        },
        "id": "iKr4-5H0we3U",
        "outputId": "96b42366-0a8e-4503-c39c-f0a914137abb"
      },
      "source": [
        "print(X_train)"
      ],
      "execution_count": null,
      "outputs": [
        {
          "output_type": "stream",
          "name": "stdout",
          "text": [
            "[[0.00422122 0.00410634 0.00404342 ... 0.00593493 0.00600468 0.00598554]\n",
            " [0.00410634 0.00404342 0.00395042 ... 0.00600468 0.00598554 0.00591305]\n",
            " [0.00404342 0.00395042 0.00392854 ... 0.00598554 0.00591305 0.00549044]\n",
            " ...\n",
            " [0.58487339 0.58738646 0.5851811  ... 0.69062962 0.67462773 0.66708833]\n",
            " [0.58738646 0.5851811  0.62369853 ... 0.67462773 0.66708833 0.64103396]\n",
            " [0.5851811  0.62369853 0.64164939 ... 0.66708833 0.64103396 0.65180448]]\n"
          ]
        }
      ]
    },
    {
      "cell_type": "code",
      "metadata": {
        "colab": {
          "base_uri": "https://localhost:8080/"
        },
        "id": "BKBYRqekw6pj",
        "outputId": "d4f76d7e-5337-49d8-ccdb-a028b7ec1aea"
      },
      "source": [
        "print(X_train.shape), print(y_train.shape)"
      ],
      "execution_count": null,
      "outputs": [
        {
          "output_type": "stream",
          "name": "stdout",
          "text": [
            "(4729, 100)\n",
            "(4729,)\n"
          ]
        },
        {
          "output_type": "execute_result",
          "data": {
            "text/plain": [
              "(None, None)"
            ]
          },
          "metadata": {},
          "execution_count": 23
        }
      ]
    },
    {
      "cell_type": "code",
      "metadata": {
        "colab": {
          "base_uri": "https://localhost:8080/"
        },
        "id": "_sIswsCTwiMV",
        "outputId": "8d27c7a4-cc05-4ff1-e949-a1e45e180f69"
      },
      "source": [
        "print(X_test.shape), print(y_test.shape)"
      ],
      "execution_count": null,
      "outputs": [
        {
          "output_type": "stream",
          "name": "stdout",
          "text": [
            "(1509, 100)\n",
            "(1509,)\n"
          ]
        },
        {
          "output_type": "execute_result",
          "data": {
            "text/plain": [
              "(None, None)"
            ]
          },
          "metadata": {},
          "execution_count": 24
        }
      ]
    },
    {
      "cell_type": "code",
      "metadata": {
        "id": "2QsJz9xPw92t"
      },
      "source": [
        "X_train =X_train.reshape(X_train.shape[0],X_train.shape[1] , 1)\n",
        "X_test = X_test.reshape(X_test.shape[0],X_test.shape[1] , 1)"
      ],
      "execution_count": null,
      "outputs": []
    },
    {
      "cell_type": "code",
      "metadata": {
        "id": "YY-0K12vytcx"
      },
      "source": [
        "from tensorflow.keras.models import Sequential\n",
        "from tensorflow.keras.layers import Dense\n",
        "from tensorflow.keras.layers import LSTM"
      ],
      "execution_count": null,
      "outputs": []
    },
    {
      "cell_type": "code",
      "metadata": {
        "id": "_V5wKTh7yzKN"
      },
      "source": [
        "model=Sequential()\n",
        "model.add(LSTM(50,return_sequences=True,input_shape=(100,1)))\n",
        "model.add(LSTM(50,return_sequences=True))\n",
        "model.add(LSTM(50))\n",
        "model.add(Dense(1))\n",
        "model.compile(loss='mean_squared_error', optimizer='adam')"
      ],
      "execution_count": null,
      "outputs": []
    },
    {
      "cell_type": "code",
      "metadata": {
        "colab": {
          "base_uri": "https://localhost:8080/"
        },
        "id": "qBPJ3FOXy_H_",
        "outputId": "af5f2517-a1cc-4e6d-cab4-30487536bdf4"
      },
      "source": [
        "model.summary()"
      ],
      "execution_count": null,
      "outputs": [
        {
          "output_type": "stream",
          "name": "stdout",
          "text": [
            "Model: \"sequential\"\n",
            "_________________________________________________________________\n",
            "Layer (type)                 Output Shape              Param #   \n",
            "=================================================================\n",
            "lstm (LSTM)                  (None, 100, 50)           10400     \n",
            "_________________________________________________________________\n",
            "lstm_1 (LSTM)                (None, 100, 50)           20200     \n",
            "_________________________________________________________________\n",
            "lstm_2 (LSTM)                (None, 50)                20200     \n",
            "_________________________________________________________________\n",
            "dense (Dense)                (None, 1)                 51        \n",
            "=================================================================\n",
            "Total params: 50,851\n",
            "Trainable params: 50,851\n",
            "Non-trainable params: 0\n",
            "_________________________________________________________________\n"
          ]
        }
      ]
    },
    {
      "cell_type": "code",
      "metadata": {
        "colab": {
          "base_uri": "https://localhost:8080/"
        },
        "id": "nVPrvBSvziFh",
        "outputId": "a9b48dc4-1cd6-48c6-c5a7-fd0a7dd6a1d6"
      },
      "source": [
        "model.fit(X_train, y_train, validation_data=(X_test, y_test), epochs=100, batch_size=64, verbose=1)"
      ],
      "execution_count": null,
      "outputs": [
        {
          "output_type": "stream",
          "name": "stdout",
          "text": [
            "Epoch 1/100\n",
            "74/74 [==============================] - 16s 154ms/step - loss: 0.0021 - val_loss: 0.0011\n",
            "Epoch 2/100\n",
            "74/74 [==============================] - 10s 140ms/step - loss: 2.1103e-04 - val_loss: 0.0011\n",
            "Epoch 3/100\n",
            "74/74 [==============================] - 10s 139ms/step - loss: 2.0254e-04 - val_loss: 9.4750e-04\n",
            "Epoch 4/100\n",
            "74/74 [==============================] - 10s 139ms/step - loss: 1.9959e-04 - val_loss: 9.3412e-04\n",
            "Epoch 5/100\n",
            "74/74 [==============================] - 10s 138ms/step - loss: 1.9211e-04 - val_loss: 8.2176e-04\n",
            "Epoch 6/100\n",
            "74/74 [==============================] - 10s 139ms/step - loss: 1.8389e-04 - val_loss: 0.0010\n",
            "Epoch 7/100\n",
            "74/74 [==============================] - 10s 138ms/step - loss: 1.6861e-04 - val_loss: 6.9626e-04\n",
            "Epoch 8/100\n",
            "74/74 [==============================] - 10s 139ms/step - loss: 1.5981e-04 - val_loss: 6.0032e-04\n",
            "Epoch 9/100\n",
            "74/74 [==============================] - 10s 140ms/step - loss: 1.6883e-04 - val_loss: 6.9144e-04\n",
            "Epoch 10/100\n",
            "74/74 [==============================] - 10s 139ms/step - loss: 1.6989e-04 - val_loss: 5.3410e-04\n",
            "Epoch 11/100\n",
            "74/74 [==============================] - 10s 140ms/step - loss: 1.5565e-04 - val_loss: 7.8731e-04\n",
            "Epoch 12/100\n",
            "74/74 [==============================] - 10s 138ms/step - loss: 1.6508e-04 - val_loss: 4.9732e-04\n",
            "Epoch 13/100\n",
            "74/74 [==============================] - 10s 138ms/step - loss: 1.5474e-04 - val_loss: 4.5477e-04\n",
            "Epoch 14/100\n",
            "74/74 [==============================] - 10s 140ms/step - loss: 1.4522e-04 - val_loss: 4.5969e-04\n",
            "Epoch 15/100\n",
            "74/74 [==============================] - 10s 139ms/step - loss: 1.6542e-04 - val_loss: 9.1345e-04\n",
            "Epoch 16/100\n",
            "74/74 [==============================] - 10s 138ms/step - loss: 1.5572e-04 - val_loss: 6.9060e-04\n",
            "Epoch 17/100\n",
            "74/74 [==============================] - 10s 141ms/step - loss: 1.4707e-04 - val_loss: 4.5910e-04\n",
            "Epoch 18/100\n",
            "74/74 [==============================] - 10s 140ms/step - loss: 1.3761e-04 - val_loss: 3.5990e-04\n",
            "Epoch 19/100\n",
            "74/74 [==============================] - 10s 139ms/step - loss: 1.2754e-04 - val_loss: 3.2914e-04\n",
            "Epoch 20/100\n",
            "74/74 [==============================] - 11s 144ms/step - loss: 1.2676e-04 - val_loss: 3.4478e-04\n",
            "Epoch 21/100\n",
            "74/74 [==============================] - 10s 140ms/step - loss: 1.2688e-04 - val_loss: 3.7992e-04\n",
            "Epoch 22/100\n",
            "74/74 [==============================] - 10s 138ms/step - loss: 1.2371e-04 - val_loss: 6.1538e-04\n",
            "Epoch 23/100\n",
            "74/74 [==============================] - 10s 137ms/step - loss: 1.4130e-04 - val_loss: 3.8953e-04\n",
            "Epoch 24/100\n",
            "74/74 [==============================] - 10s 138ms/step - loss: 1.1319e-04 - val_loss: 2.6697e-04\n",
            "Epoch 25/100\n",
            "74/74 [==============================] - 10s 137ms/step - loss: 1.1552e-04 - val_loss: 4.7418e-04\n",
            "Epoch 26/100\n",
            "74/74 [==============================] - 10s 139ms/step - loss: 1.1949e-04 - val_loss: 2.4889e-04\n",
            "Epoch 27/100\n",
            "74/74 [==============================] - 10s 139ms/step - loss: 1.1124e-04 - val_loss: 2.3220e-04\n",
            "Epoch 28/100\n",
            "74/74 [==============================] - 10s 140ms/step - loss: 1.1701e-04 - val_loss: 8.2690e-04\n",
            "Epoch 29/100\n",
            "74/74 [==============================] - 10s 137ms/step - loss: 1.0715e-04 - val_loss: 2.3647e-04\n",
            "Epoch 30/100\n",
            "74/74 [==============================] - 10s 139ms/step - loss: 1.0477e-04 - val_loss: 3.1219e-04\n",
            "Epoch 31/100\n",
            "74/74 [==============================] - 10s 138ms/step - loss: 1.0333e-04 - val_loss: 2.9642e-04\n",
            "Epoch 32/100\n",
            "74/74 [==============================] - 10s 138ms/step - loss: 1.0038e-04 - val_loss: 2.9300e-04\n",
            "Epoch 33/100\n",
            "74/74 [==============================] - 10s 140ms/step - loss: 1.0171e-04 - val_loss: 2.6425e-04\n",
            "Epoch 34/100\n",
            "74/74 [==============================] - 10s 141ms/step - loss: 9.4322e-05 - val_loss: 1.8737e-04\n",
            "Epoch 35/100\n",
            "74/74 [==============================] - 10s 139ms/step - loss: 1.0339e-04 - val_loss: 3.3331e-04\n",
            "Epoch 36/100\n",
            "74/74 [==============================] - 10s 139ms/step - loss: 9.6114e-05 - val_loss: 1.8112e-04\n",
            "Epoch 37/100\n",
            "74/74 [==============================] - 10s 140ms/step - loss: 1.0203e-04 - val_loss: 3.7518e-04\n",
            "Epoch 38/100\n",
            "74/74 [==============================] - 10s 142ms/step - loss: 9.9620e-05 - val_loss: 4.1555e-04\n",
            "Epoch 39/100\n",
            "74/74 [==============================] - 10s 140ms/step - loss: 1.0889e-04 - val_loss: 1.7318e-04\n",
            "Epoch 40/100\n",
            "74/74 [==============================] - 11s 143ms/step - loss: 9.3914e-05 - val_loss: 1.9907e-04\n",
            "Epoch 41/100\n",
            "74/74 [==============================] - 10s 140ms/step - loss: 9.7587e-05 - val_loss: 3.3267e-04\n",
            "Epoch 42/100\n",
            "74/74 [==============================] - 10s 139ms/step - loss: 1.0406e-04 - val_loss: 1.6032e-04\n",
            "Epoch 43/100\n",
            "74/74 [==============================] - 10s 140ms/step - loss: 9.8437e-05 - val_loss: 2.0797e-04\n",
            "Epoch 44/100\n",
            "74/74 [==============================] - 10s 139ms/step - loss: 8.8938e-05 - val_loss: 1.6797e-04\n",
            "Epoch 45/100\n",
            "74/74 [==============================] - 10s 137ms/step - loss: 8.8393e-05 - val_loss: 2.2238e-04\n",
            "Epoch 46/100\n",
            "74/74 [==============================] - 10s 139ms/step - loss: 9.6762e-05 - val_loss: 7.4336e-04\n",
            "Epoch 47/100\n",
            "74/74 [==============================] - 10s 138ms/step - loss: 9.5033e-05 - val_loss: 4.7840e-04\n",
            "Epoch 48/100\n",
            "74/74 [==============================] - 10s 138ms/step - loss: 9.2786e-05 - val_loss: 1.4255e-04\n",
            "Epoch 49/100\n",
            "74/74 [==============================] - 10s 141ms/step - loss: 8.6225e-05 - val_loss: 1.4174e-04\n",
            "Epoch 50/100\n",
            "74/74 [==============================] - 11s 143ms/step - loss: 9.1136e-05 - val_loss: 1.6689e-04\n",
            "Epoch 51/100\n",
            "74/74 [==============================] - 10s 141ms/step - loss: 8.7678e-05 - val_loss: 1.9608e-04\n",
            "Epoch 52/100\n",
            "74/74 [==============================] - 10s 141ms/step - loss: 8.4025e-05 - val_loss: 1.5615e-04\n",
            "Epoch 53/100\n",
            "74/74 [==============================] - 10s 140ms/step - loss: 9.7723e-05 - val_loss: 1.5093e-04\n",
            "Epoch 54/100\n",
            "74/74 [==============================] - 10s 139ms/step - loss: 9.0994e-05 - val_loss: 1.4159e-04\n",
            "Epoch 55/100\n",
            "74/74 [==============================] - 10s 140ms/step - loss: 9.5171e-05 - val_loss: 1.5038e-04\n",
            "Epoch 56/100\n",
            "74/74 [==============================] - 11s 142ms/step - loss: 8.7221e-05 - val_loss: 1.3535e-04\n",
            "Epoch 57/100\n",
            "74/74 [==============================] - 10s 140ms/step - loss: 8.5823e-05 - val_loss: 2.6134e-04\n",
            "Epoch 58/100\n",
            "74/74 [==============================] - 10s 139ms/step - loss: 8.5455e-05 - val_loss: 2.6252e-04\n",
            "Epoch 59/100\n",
            "74/74 [==============================] - 10s 140ms/step - loss: 9.0267e-05 - val_loss: 1.6174e-04\n",
            "Epoch 60/100\n",
            "74/74 [==============================] - 10s 139ms/step - loss: 8.8555e-05 - val_loss: 1.3179e-04\n",
            "Epoch 61/100\n",
            "74/74 [==============================] - 10s 141ms/step - loss: 8.8880e-05 - val_loss: 1.5427e-04\n",
            "Epoch 62/100\n",
            "74/74 [==============================] - 10s 141ms/step - loss: 8.4878e-05 - val_loss: 1.3980e-04\n",
            "Epoch 63/100\n",
            "74/74 [==============================] - 10s 140ms/step - loss: 8.5803e-05 - val_loss: 1.4758e-04\n",
            "Epoch 64/100\n",
            "74/74 [==============================] - 10s 139ms/step - loss: 8.5919e-05 - val_loss: 1.3455e-04\n",
            "Epoch 65/100\n",
            "74/74 [==============================] - 10s 140ms/step - loss: 8.4254e-05 - val_loss: 5.3141e-04\n",
            "Epoch 66/100\n",
            "74/74 [==============================] - 10s 141ms/step - loss: 8.6288e-05 - val_loss: 1.9497e-04\n",
            "Epoch 67/100\n",
            "74/74 [==============================] - 11s 142ms/step - loss: 8.1828e-05 - val_loss: 5.4545e-04\n",
            "Epoch 68/100\n",
            "74/74 [==============================] - 10s 141ms/step - loss: 8.8865e-05 - val_loss: 2.4919e-04\n",
            "Epoch 69/100\n",
            "74/74 [==============================] - 11s 144ms/step - loss: 8.4534e-05 - val_loss: 1.3628e-04\n",
            "Epoch 70/100\n",
            "74/74 [==============================] - 10s 140ms/step - loss: 8.2044e-05 - val_loss: 1.5212e-04\n",
            "Epoch 71/100\n",
            "74/74 [==============================] - 10s 141ms/step - loss: 8.0517e-05 - val_loss: 1.3593e-04\n",
            "Epoch 72/100\n",
            "74/74 [==============================] - 10s 142ms/step - loss: 8.3234e-05 - val_loss: 1.6727e-04\n",
            "Epoch 73/100\n",
            "74/74 [==============================] - 11s 144ms/step - loss: 8.1488e-05 - val_loss: 1.3586e-04\n",
            "Epoch 74/100\n",
            "74/74 [==============================] - 10s 140ms/step - loss: 8.5744e-05 - val_loss: 1.9040e-04\n",
            "Epoch 75/100\n",
            "74/74 [==============================] - 10s 142ms/step - loss: 8.8718e-05 - val_loss: 1.8575e-04\n",
            "Epoch 76/100\n",
            "74/74 [==============================] - 10s 141ms/step - loss: 8.4574e-05 - val_loss: 1.9385e-04\n",
            "Epoch 77/100\n",
            "74/74 [==============================] - 10s 141ms/step - loss: 8.4281e-05 - val_loss: 1.7672e-04\n",
            "Epoch 78/100\n",
            "74/74 [==============================] - 11s 145ms/step - loss: 8.0882e-05 - val_loss: 1.8608e-04\n",
            "Epoch 79/100\n",
            "74/74 [==============================] - 11s 144ms/step - loss: 8.0587e-05 - val_loss: 1.4699e-04\n",
            "Epoch 80/100\n",
            "74/74 [==============================] - 11s 143ms/step - loss: 8.4009e-05 - val_loss: 2.1822e-04\n",
            "Epoch 81/100\n",
            "74/74 [==============================] - 10s 142ms/step - loss: 8.1095e-05 - val_loss: 1.5848e-04\n",
            "Epoch 82/100\n",
            "74/74 [==============================] - 11s 143ms/step - loss: 8.2922e-05 - val_loss: 1.5684e-04\n",
            "Epoch 83/100\n",
            "74/74 [==============================] - 10s 140ms/step - loss: 8.5441e-05 - val_loss: 3.1903e-04\n",
            "Epoch 84/100\n",
            "74/74 [==============================] - 10s 141ms/step - loss: 8.9121e-05 - val_loss: 2.6763e-04\n",
            "Epoch 85/100\n",
            "74/74 [==============================] - 10s 140ms/step - loss: 8.1700e-05 - val_loss: 1.8334e-04\n",
            "Epoch 86/100\n",
            "74/74 [==============================] - 10s 141ms/step - loss: 8.5500e-05 - val_loss: 1.8515e-04\n",
            "Epoch 87/100\n",
            "74/74 [==============================] - 10s 141ms/step - loss: 8.5509e-05 - val_loss: 1.7173e-04\n",
            "Epoch 88/100\n",
            "74/74 [==============================] - 10s 140ms/step - loss: 7.9699e-05 - val_loss: 1.6779e-04\n",
            "Epoch 89/100\n",
            "74/74 [==============================] - 10s 142ms/step - loss: 8.3362e-05 - val_loss: 1.8541e-04\n",
            "Epoch 90/100\n",
            "74/74 [==============================] - 11s 142ms/step - loss: 8.5276e-05 - val_loss: 1.7628e-04\n",
            "Epoch 91/100\n",
            "74/74 [==============================] - 10s 141ms/step - loss: 8.6068e-05 - val_loss: 2.2048e-04\n",
            "Epoch 92/100\n",
            "74/74 [==============================] - 10s 141ms/step - loss: 8.8905e-05 - val_loss: 3.2544e-04\n",
            "Epoch 93/100\n",
            "74/74 [==============================] - 10s 141ms/step - loss: 9.4659e-05 - val_loss: 1.8235e-04\n",
            "Epoch 94/100\n",
            "74/74 [==============================] - 10s 142ms/step - loss: 7.8587e-05 - val_loss: 2.0863e-04\n",
            "Epoch 95/100\n",
            "74/74 [==============================] - 11s 142ms/step - loss: 8.4212e-05 - val_loss: 1.8090e-04\n",
            "Epoch 96/100\n",
            "74/74 [==============================] - 11s 145ms/step - loss: 8.1901e-05 - val_loss: 1.8884e-04\n",
            "Epoch 97/100\n",
            "74/74 [==============================] - 11s 144ms/step - loss: 8.3253e-05 - val_loss: 1.8830e-04\n",
            "Epoch 98/100\n",
            "74/74 [==============================] - 11s 143ms/step - loss: 8.0593e-05 - val_loss: 1.9410e-04\n",
            "Epoch 99/100\n",
            "74/74 [==============================] - 11s 143ms/step - loss: 7.7885e-05 - val_loss: 2.3065e-04\n",
            "Epoch 100/100\n",
            "74/74 [==============================] - 11s 142ms/step - loss: 7.9908e-05 - val_loss: 1.8388e-04\n"
          ]
        },
        {
          "output_type": "execute_result",
          "data": {
            "text/plain": [
              "<keras.callbacks.History at 0x7fa48c0c5710>"
            ]
          },
          "metadata": {},
          "execution_count": 29
        }
      ]
    },
    {
      "cell_type": "code",
      "metadata": {
        "id": "u82EsQ4a0c-2"
      },
      "source": [
        "import tensorflow as tf"
      ],
      "execution_count": null,
      "outputs": []
    },
    {
      "cell_type": "code",
      "metadata": {
        "colab": {
          "base_uri": "https://localhost:8080/",
          "height": 37
        },
        "id": "xZH6Ysln0llD",
        "outputId": "e948035b-9124-45bb-d16d-4abb68ea06ee"
      },
      "source": [
        "tf.__version__"
      ],
      "execution_count": null,
      "outputs": [
        {
          "output_type": "execute_result",
          "data": {
            "application/vnd.google.colaboratory.intrinsic+json": {
              "type": "string"
            },
            "text/plain": [
              "'2.6.0'"
            ]
          },
          "metadata": {},
          "execution_count": 31
        }
      ]
    },
    {
      "cell_type": "code",
      "metadata": {
        "id": "fjDIwcMH0ngp"
      },
      "source": [
        "### Lets Do the prediction and check performance metrics\n",
        "train_predict=model.predict(X_train)\n",
        "test_predict=model.predict(X_test)"
      ],
      "execution_count": null,
      "outputs": []
    },
    {
      "cell_type": "code",
      "metadata": {
        "id": "pnW1sUZW0pbC"
      },
      "source": [
        "##Transformback to original form\n",
        "train_predict=scaler.inverse_transform(train_predict)\n",
        "test_predict=scaler.inverse_transform(test_predict)"
      ],
      "execution_count": null,
      "outputs": []
    },
    {
      "cell_type": "code",
      "metadata": {
        "colab": {
          "base_uri": "https://localhost:8080/"
        },
        "id": "oewqwI3j0rJj",
        "outputId": "20215cc4-f2fb-4752-c7f7-c072712d4468"
      },
      "source": [
        "### Calculate RMSE performance metrics\n",
        "import math\n",
        "from sklearn.metrics import mean_squared_error\n",
        "math.sqrt(mean_squared_error(y_train,train_predict))"
      ],
      "execution_count": null,
      "outputs": [
        {
          "output_type": "execute_result",
          "data": {
            "text/plain": [
              "233.85153537911654"
            ]
          },
          "metadata": {},
          "execution_count": 34
        }
      ]
    },
    {
      "cell_type": "code",
      "metadata": {
        "colab": {
          "base_uri": "https://localhost:8080/"
        },
        "id": "yV7wtOxU0thE",
        "outputId": "6c6dc6e0-efe5-40fb-f52e-65b660822077"
      },
      "source": [
        "### Test Data RMSE\n",
        "math.sqrt(mean_squared_error(y_test,test_predict))"
      ],
      "execution_count": null,
      "outputs": [
        {
          "output_type": "execute_result",
          "data": {
            "text/plain": [
              "623.0279074550269"
            ]
          },
          "metadata": {},
          "execution_count": 35
        }
      ]
    },
    {
      "cell_type": "code",
      "metadata": {
        "colab": {
          "base_uri": "https://localhost:8080/",
          "height": 452
        },
        "id": "b2O9FdYN03ec",
        "outputId": "b2c480eb-4263-4358-fe5d-2e7759f4af84"
      },
      "source": [
        "### Plotting \n",
        "# shift train predictions for plotting\n",
        "look_back=100\n",
        "trainPredictPlot = numpy.empty_like(df1)\n",
        "trainPredictPlot[:, :] = np.nan\n",
        "trainPredictPlot[look_back:len(train_predict)+look_back, :] = train_predict\n",
        "# shift test predictions for plotting\n",
        "testPredictPlot = numpy.empty_like(df1)\n",
        "testPredictPlot[:, :] = numpy.nan\n",
        "testPredictPlot[len(train_predict)+(look_back*2)+1:len(df1)-1, :] = test_predict\n",
        "# plot baseline and predictions\n",
        "plt.plot(scaler.inverse_transform(df1))\n",
        "plt.plot(trainPredictPlot)\n",
        "plt.plot(testPredictPlot)\n",
        "plt.title('Cipla Train Test Split')\n",
        "plt.show()"
      ],
      "execution_count": null,
      "outputs": [
        {
          "output_type": "display_data",
          "data": {
            "image/png": "[encoded data removed]",
            "text/plain": [
              "<Figure size 640x480 with 1 Axes>"
            ]
          },
          "metadata": {}
        }
      ]
    },
    {
      "cell_type": "code",
      "metadata": {
        "colab": {
          "base_uri": "https://localhost:8080/"
        },
        "id": "XJDVfIMk05WN",
        "outputId": "c5a6e0fa-6f0e-49a8-c0c7-eab32789a560"
      },
      "source": [
        "len(test_data)"
      ],
      "execution_count": null,
      "outputs": [
        {
          "output_type": "execute_result",
          "data": {
            "text/plain": [
              "1610"
            ]
          },
          "metadata": {},
          "execution_count": 37
        }
      ]
    },
    {
      "cell_type": "code",
      "metadata": {
        "colab": {
          "base_uri": "https://localhost:8080/"
        },
        "id": "faLcUIDr08mi",
        "outputId": "421a466d-f2f1-45e5-fa35-edeb261eb6f4"
      },
      "source": [
        "x_input=test_data[1510:].reshape(1,-1)\n",
        "x_input.shape"
      ],
      "execution_count": null,
      "outputs": [
        {
          "output_type": "execute_result",
          "data": {
            "text/plain": [
              "(1, 100)"
            ]
          },
          "metadata": {},
          "execution_count": 41
        }
      ]
    },
    {
      "cell_type": "code",
      "metadata": {
        "id": "7oKtWwxZ09IM"
      },
      "source": [
        "temp_input=list(x_input)\n",
        "temp_input=temp_input[0].tolist()"
      ],
      "execution_count": null,
      "outputs": []
    },
    {
      "cell_type": "code",
      "metadata": {
        "colab": {
          "base_uri": "https://localhost:8080/"
        },
        "id": "Nm8nnIo809lO",
        "outputId": "9bf0096b-0fdd-42cb-f77a-7b766ed82b7f"
      },
      "source": [
        "# demonstrate prediction for next 30 days\n",
        "from numpy import array\n",
        "\n",
        "lst_output=[]\n",
        "n_steps=100\n",
        "i=0\n",
        "while(i<30):\n",
        "    \n",
        "    if(len(temp_input)>100):\n",
        "        #print(temp_input)\n",
        "        x_input=np.array(temp_input[1:])\n",
        "        print(\"{} day input {}\".format(i,x_input))\n",
        "        x_input=x_input.reshape(1,-1)\n",
        "        x_input = x_input.reshape((1, n_steps, 1))\n",
        "        #print(x_input)\n",
        "        yhat = model.predict(x_input, verbose=0)\n",
        "        print(\"{} day output {}\".format(i,yhat))\n",
        "        temp_input.extend(yhat[0].tolist())\n",
        "        temp_input=temp_input[1:]\n",
        "        #print(temp_input)\n",
        "        lst_output.extend(yhat.tolist())\n",
        "        i=i+1\n",
        "    else:\n",
        "        x_input = x_input.reshape((1, n_steps,1))\n",
        "        yhat = model.predict(x_input, verbose=0)\n",
        "        print(yhat[0])\n",
        "        temp_input.extend(yhat[0].tolist())\n",
        "        print(len(temp_input))\n",
        "        lst_output.extend(yhat.tolist())\n",
        "        i=i+1\n",
        "    \n",
        "\n",
        "print(lst_output)"
      ],
      "execution_count": null,
      "outputs": [
        {
          "output_type": "stream",
          "name": "stdout",
          "text": [
            "[0.92444223]\n",
            "101\n",
            "1 day input [0.85285421 0.85767525 0.85885491 0.9009625  0.92081107 0.90316792\n",
            " 0.93291508 0.95737952 0.96584207 0.96891937 0.96384182 0.95486639\n",
            " 0.92388837 0.93106871 0.92881202 0.92501668 0.92896585 0.92881202\n",
            " 0.89624402 0.90670682 0.90224471 0.90080868 0.91860566 0.90901479\n",
            " 0.91691312 0.92250355 0.89906487 0.90234732 0.922401   0.94317272\n",
            " 0.94594229 0.95040434 0.95486639 0.96466248 0.96179029 0.95358418\n",
            " 0.96897064 0.96599596 0.97445852 0.96784233 0.96594469 0.95917461\n",
            " 0.97348403 0.97851029 0.99446091 0.98794727 0.99646116 0.98984497\n",
            " 0.97656132 0.9706119  0.98081826 0.98004894 0.97563811 0.97758708\n",
            " 0.97056062 0.97692031 0.98302362 1.         0.99210167 0.99846135\n",
            " 0.99958973 0.99497379 0.98922948 0.98522904 0.97030418 0.97968989\n",
            " 0.97974116 0.98569064 0.99748693 0.99384542 0.99748693 0.99425575\n",
            " 0.97492012 0.96953486 0.96758588 0.97020157 0.9317867  0.90798902\n",
            " 0.90101378 0.93891577 0.93994153 0.94722449 0.95902078 0.96491892\n",
            " 0.92994034 0.93747974 0.93127382 0.92845297 0.92378575 0.91260496\n",
            " 0.90629649 0.92311904 0.9274272  0.90896345 0.91665668 0.93645397\n",
            " 0.93127382 0.92994034 0.942865   0.92444223]\n",
            "1 day output [[0.8941592]]\n",
            "2 day input [0.85767525 0.85885491 0.9009625  0.92081107 0.90316792 0.93291508\n",
            " 0.95737952 0.96584207 0.96891937 0.96384182 0.95486639 0.92388837\n",
            " 0.93106871 0.92881202 0.92501668 0.92896585 0.92881202 0.89624402\n",
            " 0.90670682 0.90224471 0.90080868 0.91860566 0.90901479 0.91691312\n",
            " 0.92250355 0.89906487 0.90234732 0.922401   0.94317272 0.94594229\n",
            " 0.95040434 0.95486639 0.96466248 0.96179029 0.95358418 0.96897064\n",
            " 0.96599596 0.97445852 0.96784233 0.96594469 0.95917461 0.97348403\n",
            " 0.97851029 0.99446091 0.98794727 0.99646116 0.98984497 0.97656132\n",
            " 0.9706119  0.98081826 0.98004894 0.97563811 0.97758708 0.97056062\n",
            " 0.97692031 0.98302362 1.         0.99210167 0.99846135 0.99958973\n",
            " 0.99497379 0.98922948 0.98522904 0.97030418 0.97968989 0.97974116\n",
            " 0.98569064 0.99748693 0.99384542 0.99748693 0.99425575 0.97492012\n",
            " 0.96953486 0.96758588 0.97020157 0.9317867  0.90798902 0.90101378\n",
            " 0.93891577 0.93994153 0.94722449 0.95902078 0.96491892 0.92994034\n",
            " 0.93747974 0.93127382 0.92845297 0.92378575 0.91260496 0.90629649\n",
            " 0.92311904 0.9274272  0.90896345 0.91665668 0.93645397 0.93127382\n",
            " 0.92994034 0.942865   0.92444223 0.8941592 ]\n",
            "2 day output [[0.8694793]]\n",
            "3 day input [0.85885491 0.9009625  0.92081107 0.90316792 0.93291508 0.95737952\n",
            " 0.96584207 0.96891937 0.96384182 0.95486639 0.92388837 0.93106871\n",
            " 0.92881202 0.92501668 0.92896585 0.92881202 0.89624402 0.90670682\n",
            " 0.90224471 0.90080868 0.91860566 0.90901479 0.91691312 0.92250355\n",
            " 0.89906487 0.90234732 0.922401   0.94317272 0.94594229 0.95040434\n",
            " 0.95486639 0.96466248 0.96179029 0.95358418 0.96897064 0.96599596\n",
            " 0.97445852 0.96784233 0.96594469 0.95917461 0.97348403 0.97851029\n",
            " 0.99446091 0.98794727 0.99646116 0.98984497 0.97656132 0.9706119\n",
            " 0.98081826 0.98004894 0.97563811 0.97758708 0.97056062 0.97692031\n",
            " 0.98302362 1.         0.99210167 0.99846135 0.99958973 0.99497379\n",
            " 0.98922948 0.98522904 0.97030418 0.97968989 0.97974116 0.98569064\n",
            " 0.99748693 0.99384542 0.99748693 0.99425575 0.97492012 0.96953486\n",
            " 0.96758588 0.97020157 0.9317867  0.90798902 0.90101378 0.93891577\n",
            " 0.93994153 0.94722449 0.95902078 0.96491892 0.92994034 0.93747974\n",
            " 0.93127382 0.92845297 0.92378575 0.91260496 0.90629649 0.92311904\n",
            " 0.9274272  0.90896345 0.91665668 0.93645397 0.93127382 0.92994034\n",
            " 0.942865   0.92444223 0.8941592  0.8694793 ]\n",
            "3 day output [[0.84919363]]\n",
            "4 day input [0.9009625  0.92081107 0.90316792 0.93291508 0.95737952 0.96584207\n",
            " 0.96891937 0.96384182 0.95486639 0.92388837 0.93106871 0.92881202\n",
            " 0.92501668 0.92896585 0.92881202 0.89624402 0.90670682 0.90224471\n",
            " 0.90080868 0.91860566 0.90901479 0.91691312 0.92250355 0.89906487\n",
            " 0.90234732 0.922401   0.94317272 0.94594229 0.95040434 0.95486639\n",
            " 0.96466248 0.96179029 0.95358418 0.96897064 0.96599596 0.97445852\n",
            " 0.96784233 0.96594469 0.95917461 0.97348403 0.97851029 0.99446091\n",
            " 0.98794727 0.99646116 0.98984497 0.97656132 0.9706119  0.98081826\n",
            " 0.98004894 0.97563811 0.97758708 0.97056062 0.97692031 0.98302362\n",
            " 1.         0.99210167 0.99846135 0.99958973 0.99497379 0.98922948\n",
            " 0.98522904 0.97030418 0.97968989 0.97974116 0.98569064 0.99748693\n",
            " 0.99384542 0.99748693 0.99425575 0.97492012 0.96953486 0.96758588\n",
            " 0.97020157 0.9317867  0.90798902 0.90101378 0.93891577 0.93994153\n",
            " 0.94722449 0.95902078 0.96491892 0.92994034 0.93747974 0.93127382\n",
            " 0.92845297 0.92378575 0.91260496 0.90629649 0.92311904 0.9274272\n",
            " 0.90896345 0.91665668 0.93645397 0.93127382 0.92994034 0.942865\n",
            " 0.92444223 0.8941592  0.8694793  0.84919363]\n",
            "4 day output [[0.8309109]]\n",
            "5 day input [0.92081107 0.90316792 0.93291508 0.95737952 0.96584207 0.96891937\n",
            " 0.96384182 0.95486639 0.92388837 0.93106871 0.92881202 0.92501668\n",
            " 0.92896585 0.92881202 0.89624402 0.90670682 0.90224471 0.90080868\n",
            " 0.91860566 0.90901479 0.91691312 0.92250355 0.89906487 0.90234732\n",
            " 0.922401   0.94317272 0.94594229 0.95040434 0.95486639 0.96466248\n",
            " 0.96179029 0.95358418 0.96897064 0.96599596 0.97445852 0.96784233\n",
            " 0.96594469 0.95917461 0.97348403 0.97851029 0.99446091 0.98794727\n",
            " 0.99646116 0.98984497 0.97656132 0.9706119  0.98081826 0.98004894\n",
            " 0.97563811 0.97758708 0.97056062 0.97692031 0.98302362 1.\n",
            " 0.99210167 0.99846135 0.99958973 0.99497379 0.98922948 0.98522904\n",
            " 0.97030418 0.97968989 0.97974116 0.98569064 0.99748693 0.99384542\n",
            " 0.99748693 0.99425575 0.97492012 0.96953486 0.96758588 0.97020157\n",
            " 0.9317867  0.90798902 0.90101378 0.93891577 0.93994153 0.94722449\n",
            " 0.95902078 0.96491892 0.92994034 0.93747974 0.93127382 0.92845297\n",
            " 0.92378575 0.91260496 0.90629649 0.92311904 0.9274272  0.90896345\n",
            " 0.91665668 0.93645397 0.93127382 0.92994034 0.942865   0.92444223\n",
            " 0.8941592  0.8694793  0.84919363 0.83091092]\n",
            "5 day output [[0.8149125]]\n",
            "6 day input [0.90316792 0.93291508 0.95737952 0.96584207 0.96891937 0.96384182\n",
            " 0.95486639 0.92388837 0.93106871 0.92881202 0.92501668 0.92896585\n",
            " 0.92881202 0.89624402 0.90670682 0.90224471 0.90080868 0.91860566\n",
            " 0.90901479 0.91691312 0.92250355 0.89906487 0.90234732 0.922401\n",
            " 0.94317272 0.94594229 0.95040434 0.95486639 0.96466248 0.96179029\n",
            " 0.95358418 0.96897064 0.96599596 0.97445852 0.96784233 0.96594469\n",
            " 0.95917461 0.97348403 0.97851029 0.99446091 0.98794727 0.99646116\n",
            " 0.98984497 0.97656132 0.9706119  0.98081826 0.98004894 0.97563811\n",
            " 0.97758708 0.97056062 0.97692031 0.98302362 1.         0.99210167\n",
            " 0.99846135 0.99958973 0.99497379 0.98922948 0.98522904 0.97030418\n",
            " 0.97968989 0.97974116 0.98569064 0.99748693 0.99384542 0.99748693\n",
            " 0.99425575 0.97492012 0.96953486 0.96758588 0.97020157 0.9317867\n",
            " 0.90798902 0.90101378 0.93891577 0.93994153 0.94722449 0.95902078\n",
            " 0.96491892 0.92994034 0.93747974 0.93127382 0.92845297 0.92378575\n",
            " 0.91260496 0.90629649 0.92311904 0.9274272  0.90896345 0.91665668\n",
            " 0.93645397 0.93127382 0.92994034 0.942865   0.92444223 0.8941592\n",
            " 0.8694793  0.84919363 0.83091092 0.8149125 ]\n",
            "6 day output [[0.80202055]]\n",
            "7 day input [0.93291508 0.95737952 0.96584207 0.96891937 0.96384182 0.95486639\n",
            " 0.92388837 0.93106871 0.92881202 0.92501668 0.92896585 0.92881202\n",
            " 0.89624402 0.90670682 0.90224471 0.90080868 0.91860566 0.90901479\n",
            " 0.91691312 0.92250355 0.89906487 0.90234732 0.922401   0.94317272\n",
            " 0.94594229 0.95040434 0.95486639 0.96466248 0.96179029 0.95358418\n",
            " 0.96897064 0.96599596 0.97445852 0.96784233 0.96594469 0.95917461\n",
            " 0.97348403 0.97851029 0.99446091 0.98794727 0.99646116 0.98984497\n",
            " 0.97656132 0.9706119  0.98081826 0.98004894 0.97563811 0.97758708\n",
            " 0.97056062 0.97692031 0.98302362 1.         0.99210167 0.99846135\n",
            " 0.99958973 0.99497379 0.98922948 0.98522904 0.97030418 0.97968989\n",
            " 0.97974116 0.98569064 0.99748693 0.99384542 0.99748693 0.99425575\n",
            " 0.97492012 0.96953486 0.96758588 0.97020157 0.9317867  0.90798902\n",
            " 0.90101378 0.93891577 0.93994153 0.94722449 0.95902078 0.96491892\n",
            " 0.92994034 0.93747974 0.93127382 0.92845297 0.92378575 0.91260496\n",
            " 0.90629649 0.92311904 0.9274272  0.90896345 0.91665668 0.93645397\n",
            " 0.93127382 0.92994034 0.942865   0.92444223 0.8941592  0.8694793\n",
            " 0.84919363 0.83091092 0.8149125  0.80202055]\n",
            "7 day output [[0.792537]]\n",
            "8 day input [0.95737952 0.96584207 0.96891937 0.96384182 0.95486639 0.92388837\n",
            " 0.93106871 0.92881202 0.92501668 0.92896585 0.92881202 0.89624402\n",
            " 0.90670682 0.90224471 0.90080868 0.91860566 0.90901479 0.91691312\n",
            " 0.92250355 0.89906487 0.90234732 0.922401   0.94317272 0.94594229\n",
            " 0.95040434 0.95486639 0.96466248 0.96179029 0.95358418 0.96897064\n",
            " 0.96599596 0.97445852 0.96784233 0.96594469 0.95917461 0.97348403\n",
            " 0.97851029 0.99446091 0.98794727 0.99646116 0.98984497 0.97656132\n",
            " 0.9706119  0.98081826 0.98004894 0.97563811 0.97758708 0.97056062\n",
            " 0.97692031 0.98302362 1.         0.99210167 0.99846135 0.99958973\n",
            " 0.99497379 0.98922948 0.98522904 0.97030418 0.97968989 0.97974116\n",
            " 0.98569064 0.99748693 0.99384542 0.99748693 0.99425575 0.97492012\n",
            " 0.96953486 0.96758588 0.97020157 0.9317867  0.90798902 0.90101378\n",
            " 0.93891577 0.93994153 0.94722449 0.95902078 0.96491892 0.92994034\n",
            " 0.93747974 0.93127382 0.92845297 0.92378575 0.91260496 0.90629649\n",
            " 0.92311904 0.9274272  0.90896345 0.91665668 0.93645397 0.93127382\n",
            " 0.92994034 0.942865   0.92444223 0.8941592  0.8694793  0.84919363\n",
            " 0.83091092 0.8149125  0.80202055 0.79253697]\n",
            "8 day output [[0.7862566]]\n",
            "9 day input [0.96584207 0.96891937 0.96384182 0.95486639 0.92388837 0.93106871\n",
            " 0.92881202 0.92501668 0.92896585 0.92881202 0.89624402 0.90670682\n",
            " 0.90224471 0.90080868 0.91860566 0.90901479 0.91691312 0.92250355\n",
            " 0.89906487 0.90234732 0.922401   0.94317272 0.94594229 0.95040434\n",
            " 0.95486639 0.96466248 0.96179029 0.95358418 0.96897064 0.96599596\n",
            " 0.97445852 0.96784233 0.96594469 0.95917461 0.97348403 0.97851029\n",
            " 0.99446091 0.98794727 0.99646116 0.98984497 0.97656132 0.9706119\n",
            " 0.98081826 0.98004894 0.97563811 0.97758708 0.97056062 0.97692031\n",
            " 0.98302362 1.         0.99210167 0.99846135 0.99958973 0.99497379\n",
            " 0.98922948 0.98522904 0.97030418 0.97968989 0.97974116 0.98569064\n",
            " 0.99748693 0.99384542 0.99748693 0.99425575 0.97492012 0.96953486\n",
            " 0.96758588 0.97020157 0.9317867  0.90798902 0.90101378 0.93891577\n",
            " 0.93994153 0.94722449 0.95902078 0.96491892 0.92994034 0.93747974\n",
            " 0.93127382 0.92845297 0.92378575 0.91260496 0.90629649 0.92311904\n",
            " 0.9274272  0.90896345 0.91665668 0.93645397 0.93127382 0.92994034\n",
            " 0.942865   0.92444223 0.8941592  0.8694793  0.84919363 0.83091092\n",
            " 0.8149125  0.80202055 0.79253697 0.78625661]\n",
            "9 day output [[0.7826784]]\n",
            "10 day input [0.96891937 0.96384182 0.95486639 0.92388837 0.93106871 0.92881202\n",
            " 0.92501668 0.92896585 0.92881202 0.89624402 0.90670682 0.90224471\n",
            " 0.90080868 0.91860566 0.90901479 0.91691312 0.92250355 0.89906487\n",
            " 0.90234732 0.922401   0.94317272 0.94594229 0.95040434 0.95486639\n",
            " 0.96466248 0.96179029 0.95358418 0.96897064 0.96599596 0.97445852\n",
            " 0.96784233 0.96594469 0.95917461 0.97348403 0.97851029 0.99446091\n",
            " 0.98794727 0.99646116 0.98984497 0.97656132 0.9706119  0.98081826\n",
            " 0.98004894 0.97563811 0.97758708 0.97056062 0.97692031 0.98302362\n",
            " 1.         0.99210167 0.99846135 0.99958973 0.99497379 0.98922948\n",
            " 0.98522904 0.97030418 0.97968989 0.97974116 0.98569064 0.99748693\n",
            " 0.99384542 0.99748693 0.99425575 0.97492012 0.96953486 0.96758588\n",
            " 0.97020157 0.9317867  0.90798902 0.90101378 0.93891577 0.93994153\n",
            " 0.94722449 0.95902078 0.96491892 0.92994034 0.93747974 0.93127382\n",
            " 0.92845297 0.92378575 0.91260496 0.90629649 0.92311904 0.9274272\n",
            " 0.90896345 0.91665668 0.93645397 0.93127382 0.92994034 0.942865\n",
            " 0.92444223 0.8941592  0.8694793  0.84919363 0.83091092 0.8149125\n",
            " 0.80202055 0.79253697 0.78625661 0.78267843]\n",
            "10 day output [[0.7811537]]\n",
            "11 day input [0.96384182 0.95486639 0.92388837 0.93106871 0.92881202 0.92501668\n",
            " 0.92896585 0.92881202 0.89624402 0.90670682 0.90224471 0.90080868\n",
            " 0.91860566 0.90901479 0.91691312 0.92250355 0.89906487 0.90234732\n",
            " 0.922401   0.94317272 0.94594229 0.95040434 0.95486639 0.96466248\n",
            " 0.96179029 0.95358418 0.96897064 0.96599596 0.97445852 0.96784233\n",
            " 0.96594469 0.95917461 0.97348403 0.97851029 0.99446091 0.98794727\n",
            " 0.99646116 0.98984497 0.97656132 0.9706119  0.98081826 0.98004894\n",
            " 0.97563811 0.97758708 0.97056062 0.97692031 0.98302362 1.\n",
            " 0.99210167 0.99846135 0.99958973 0.99497379 0.98922948 0.98522904\n",
            " 0.97030418 0.97968989 0.97974116 0.98569064 0.99748693 0.99384542\n",
            " 0.99748693 0.99425575 0.97492012 0.96953486 0.96758588 0.97020157\n",
            " 0.9317867  0.90798902 0.90101378 0.93891577 0.93994153 0.94722449\n",
            " 0.95902078 0.96491892 0.92994034 0.93747974 0.93127382 0.92845297\n",
            " 0.92378575 0.91260496 0.90629649 0.92311904 0.9274272  0.90896345\n",
            " 0.91665668 0.93645397 0.93127382 0.92994034 0.942865   0.92444223\n",
            " 0.8941592  0.8694793  0.84919363 0.83091092 0.8149125  0.80202055\n",
            " 0.79253697 0.78625661 0.78267843 0.78115368]\n",
            "11 day output [[0.7809878]]\n",
            "12 day input [0.95486639 0.92388837 0.93106871 0.92881202 0.92501668 0.92896585\n",
            " 0.92881202 0.89624402 0.90670682 0.90224471 0.90080868 0.91860566\n",
            " 0.90901479 0.91691312 0.92250355 0.89906487 0.90234732 0.922401\n",
            " 0.94317272 0.94594229 0.95040434 0.95486639 0.96466248 0.96179029\n",
            " 0.95358418 0.96897064 0.96599596 0.97445852 0.96784233 0.96594469\n",
            " 0.95917461 0.97348403 0.97851029 0.99446091 0.98794727 0.99646116\n",
            " 0.98984497 0.97656132 0.9706119  0.98081826 0.98004894 0.97563811\n",
            " 0.97758708 0.97056062 0.97692031 0.98302362 1.         0.99210167\n",
            " 0.99846135 0.99958973 0.99497379 0.98922948 0.98522904 0.97030418\n",
            " 0.97968989 0.97974116 0.98569064 0.99748693 0.99384542 0.99748693\n",
            " 0.99425575 0.97492012 0.96953486 0.96758588 0.97020157 0.9317867\n",
            " 0.90798902 0.90101378 0.93891577 0.93994153 0.94722449 0.95902078\n",
            " 0.96491892 0.92994034 0.93747974 0.93127382 0.92845297 0.92378575\n",
            " 0.91260496 0.90629649 0.92311904 0.9274272  0.90896345 0.91665668\n",
            " 0.93645397 0.93127382 0.92994034 0.942865   0.92444223 0.8941592\n",
            " 0.8694793  0.84919363 0.83091092 0.8149125  0.80202055 0.79253697\n",
            " 0.78625661 0.78267843 0.78115368 0.7809878 ]\n",
            "12 day output [[0.78151613]]\n",
            "13 day input [0.92388837 0.93106871 0.92881202 0.92501668 0.92896585 0.92881202\n",
            " 0.89624402 0.90670682 0.90224471 0.90080868 0.91860566 0.90901479\n",
            " 0.91691312 0.92250355 0.89906487 0.90234732 0.922401   0.94317272\n",
            " 0.94594229 0.95040434 0.95486639 0.96466248 0.96179029 0.95358418\n",
            " 0.96897064 0.96599596 0.97445852 0.96784233 0.96594469 0.95917461\n",
            " 0.97348403 0.97851029 0.99446091 0.98794727 0.99646116 0.98984497\n",
            " 0.97656132 0.9706119  0.98081826 0.98004894 0.97563811 0.97758708\n",
            " 0.97056062 0.97692031 0.98302362 1.         0.99210167 0.99846135\n",
            " 0.99958973 0.99497379 0.98922948 0.98522904 0.97030418 0.97968989\n",
            " 0.97974116 0.98569064 0.99748693 0.99384542 0.99748693 0.99425575\n",
            " 0.97492012 0.96953486 0.96758588 0.97020157 0.9317867  0.90798902\n",
            " 0.90101378 0.93891577 0.93994153 0.94722449 0.95902078 0.96491892\n",
            " 0.92994034 0.93747974 0.93127382 0.92845297 0.92378575 0.91260496\n",
            " 0.90629649 0.92311904 0.9274272  0.90896345 0.91665668 0.93645397\n",
            " 0.93127382 0.92994034 0.942865   0.92444223 0.8941592  0.8694793\n",
            " 0.84919363 0.83091092 0.8149125  0.80202055 0.79253697 0.78625661\n",
            " 0.78267843 0.78115368 0.7809878  0.78151613]\n",
            "13 day output [[0.78216267]]\n",
            "14 day input [0.93106871 0.92881202 0.92501668 0.92896585 0.92881202 0.89624402\n",
            " 0.90670682 0.90224471 0.90080868 0.91860566 0.90901479 0.91691312\n",
            " 0.92250355 0.89906487 0.90234732 0.922401   0.94317272 0.94594229\n",
            " 0.95040434 0.95486639 0.96466248 0.96179029 0.95358418 0.96897064\n",
            " 0.96599596 0.97445852 0.96784233 0.96594469 0.95917461 0.97348403\n",
            " 0.97851029 0.99446091 0.98794727 0.99646116 0.98984497 0.97656132\n",
            " 0.9706119  0.98081826 0.98004894 0.97563811 0.97758708 0.97056062\n",
            " 0.97692031 0.98302362 1.         0.99210167 0.99846135 0.99958973\n",
            " 0.99497379 0.98922948 0.98522904 0.97030418 0.97968989 0.97974116\n",
            " 0.98569064 0.99748693 0.99384542 0.99748693 0.99425575 0.97492012\n",
            " 0.96953486 0.96758588 0.97020157 0.9317867  0.90798902 0.90101378\n",
            " 0.93891577 0.93994153 0.94722449 0.95902078 0.96491892 0.92994034\n",
            " 0.93747974 0.93127382 0.92845297 0.92378575 0.91260496 0.90629649\n",
            " 0.92311904 0.9274272  0.90896345 0.91665668 0.93645397 0.93127382\n",
            " 0.92994034 0.942865   0.92444223 0.8941592  0.8694793  0.84919363\n",
            " 0.83091092 0.8149125  0.80202055 0.79253697 0.78625661 0.78267843\n",
            " 0.78115368 0.7809878  0.78151613 0.78216267]\n",
            "14 day output [[0.7824787]]\n",
            "15 day input [0.92881202 0.92501668 0.92896585 0.92881202 0.89624402 0.90670682\n",
            " 0.90224471 0.90080868 0.91860566 0.90901479 0.91691312 0.92250355\n",
            " 0.89906487 0.90234732 0.922401   0.94317272 0.94594229 0.95040434\n",
            " 0.95486639 0.96466248 0.96179029 0.95358418 0.96897064 0.96599596\n",
            " 0.97445852 0.96784233 0.96594469 0.95917461 0.97348403 0.97851029\n",
            " 0.99446091 0.98794727 0.99646116 0.98984497 0.97656132 0.9706119\n",
            " 0.98081826 0.98004894 0.97563811 0.97758708 0.97056062 0.97692031\n",
            " 0.98302362 1.         0.99210167 0.99846135 0.99958973 0.99497379\n",
            " 0.98922948 0.98522904 0.97030418 0.97968989 0.97974116 0.98569064\n",
            " 0.99748693 0.99384542 0.99748693 0.99425575 0.97492012 0.96953486\n",
            " 0.96758588 0.97020157 0.9317867  0.90798902 0.90101378 0.93891577\n",
            " 0.93994153 0.94722449 0.95902078 0.96491892 0.92994034 0.93747974\n",
            " 0.93127382 0.92845297 0.92378575 0.91260496 0.90629649 0.92311904\n",
            " 0.9274272  0.90896345 0.91665668 0.93645397 0.93127382 0.92994034\n",
            " 0.942865   0.92444223 0.8941592  0.8694793  0.84919363 0.83091092\n",
            " 0.8149125  0.80202055 0.79253697 0.78625661 0.78267843 0.78115368\n",
            " 0.7809878  0.78151613 0.78216267 0.78247869]\n",
            "15 day output [[0.7821566]]\n",
            "16 day input [0.92501668 0.92896585 0.92881202 0.89624402 0.90670682 0.90224471\n",
            " 0.90080868 0.91860566 0.90901479 0.91691312 0.92250355 0.89906487\n",
            " 0.90234732 0.922401   0.94317272 0.94594229 0.95040434 0.95486639\n",
            " 0.96466248 0.96179029 0.95358418 0.96897064 0.96599596 0.97445852\n",
            " 0.96784233 0.96594469 0.95917461 0.97348403 0.97851029 0.99446091\n",
            " 0.98794727 0.99646116 0.98984497 0.97656132 0.9706119  0.98081826\n",
            " 0.98004894 0.97563811 0.97758708 0.97056062 0.97692031 0.98302362\n",
            " 1.         0.99210167 0.99846135 0.99958973 0.99497379 0.98922948\n",
            " 0.98522904 0.97030418 0.97968989 0.97974116 0.98569064 0.99748693\n",
            " 0.99384542 0.99748693 0.99425575 0.97492012 0.96953486 0.96758588\n",
            " 0.97020157 0.9317867  0.90798902 0.90101378 0.93891577 0.93994153\n",
            " 0.94722449 0.95902078 0.96491892 0.92994034 0.93747974 0.93127382\n",
            " 0.92845297 0.92378575 0.91260496 0.90629649 0.92311904 0.9274272\n",
            " 0.90896345 0.91665668 0.93645397 0.93127382 0.92994034 0.942865\n",
            " 0.92444223 0.8941592  0.8694793  0.84919363 0.83091092 0.8149125\n",
            " 0.80202055 0.79253697 0.78625661 0.78267843 0.78115368 0.7809878\n",
            " 0.78151613 0.78216267 0.78247869 0.78215659]\n",
            "16 day output [[0.7810316]]\n",
            "17 day input [0.92896585 0.92881202 0.89624402 0.90670682 0.90224471 0.90080868\n",
            " 0.91860566 0.90901479 0.91691312 0.92250355 0.89906487 0.90234732\n",
            " 0.922401   0.94317272 0.94594229 0.95040434 0.95486639 0.96466248\n",
            " 0.96179029 0.95358418 0.96897064 0.96599596 0.97445852 0.96784233\n",
            " 0.96594469 0.95917461 0.97348403 0.97851029 0.99446091 0.98794727\n",
            " 0.99646116 0.98984497 0.97656132 0.9706119  0.98081826 0.98004894\n",
            " 0.97563811 0.97758708 0.97056062 0.97692031 0.98302362 1.\n",
            " 0.99210167 0.99846135 0.99958973 0.99497379 0.98922948 0.98522904\n",
            " 0.97030418 0.97968989 0.97974116 0.98569064 0.99748693 0.99384542\n",
            " 0.99748693 0.99425575 0.97492012 0.96953486 0.96758588 0.97020157\n",
            " 0.9317867  0.90798902 0.90101378 0.93891577 0.93994153 0.94722449\n",
            " 0.95902078 0.96491892 0.92994034 0.93747974 0.93127382 0.92845297\n",
            " 0.92378575 0.91260496 0.90629649 0.92311904 0.9274272  0.90896345\n",
            " 0.91665668 0.93645397 0.93127382 0.92994034 0.942865   0.92444223\n",
            " 0.8941592  0.8694793  0.84919363 0.83091092 0.8149125  0.80202055\n",
            " 0.79253697 0.78625661 0.78267843 0.78115368 0.7809878  0.78151613\n",
            " 0.78216267 0.78247869 0.78215659 0.78103161]\n",
            "17 day output [[0.77906793]]\n",
            "18 day input [0.92881202 0.89624402 0.90670682 0.90224471 0.90080868 0.91860566\n",
            " 0.90901479 0.91691312 0.92250355 0.89906487 0.90234732 0.922401\n",
            " 0.94317272 0.94594229 0.95040434 0.95486639 0.96466248 0.96179029\n",
            " 0.95358418 0.96897064 0.96599596 0.97445852 0.96784233 0.96594469\n",
            " 0.95917461 0.97348403 0.97851029 0.99446091 0.98794727 0.99646116\n",
            " 0.98984497 0.97656132 0.9706119  0.98081826 0.98004894 0.97563811\n",
            " 0.97758708 0.97056062 0.97692031 0.98302362 1.         0.99210167\n",
            " 0.99846135 0.99958973 0.99497379 0.98922948 0.98522904 0.97030418\n",
            " 0.97968989 0.97974116 0.98569064 0.99748693 0.99384542 0.99748693\n",
            " 0.99425575 0.97492012 0.96953486 0.96758588 0.97020157 0.9317867\n",
            " 0.90798902 0.90101378 0.93891577 0.93994153 0.94722449 0.95902078\n",
            " 0.96491892 0.92994034 0.93747974 0.93127382 0.92845297 0.92378575\n",
            " 0.91260496 0.90629649 0.92311904 0.9274272  0.90896345 0.91665668\n",
            " 0.93645397 0.93127382 0.92994034 0.942865   0.92444223 0.8941592\n",
            " 0.8694793  0.84919363 0.83091092 0.8149125  0.80202055 0.79253697\n",
            " 0.78625661 0.78267843 0.78115368 0.7809878  0.78151613 0.78216267\n",
            " 0.78247869 0.78215659 0.78103161 0.77906793]\n",
            "18 day output [[0.77633727]]\n",
            "19 day input [0.89624402 0.90670682 0.90224471 0.90080868 0.91860566 0.90901479\n",
            " 0.91691312 0.92250355 0.89906487 0.90234732 0.922401   0.94317272\n",
            " 0.94594229 0.95040434 0.95486639 0.96466248 0.96179029 0.95358418\n",
            " 0.96897064 0.96599596 0.97445852 0.96784233 0.96594469 0.95917461\n",
            " 0.97348403 0.97851029 0.99446091 0.98794727 0.99646116 0.98984497\n",
            " 0.97656132 0.9706119  0.98081826 0.98004894 0.97563811 0.97758708\n",
            " 0.97056062 0.97692031 0.98302362 1.         0.99210167 0.99846135\n",
            " 0.99958973 0.99497379 0.98922948 0.98522904 0.97030418 0.97968989\n",
            " 0.97974116 0.98569064 0.99748693 0.99384542 0.99748693 0.99425575\n",
            " 0.97492012 0.96953486 0.96758588 0.97020157 0.9317867  0.90798902\n",
            " 0.90101378 0.93891577 0.93994153 0.94722449 0.95902078 0.96491892\n",
            " 0.92994034 0.93747974 0.93127382 0.92845297 0.92378575 0.91260496\n",
            " 0.90629649 0.92311904 0.9274272  0.90896345 0.91665668 0.93645397\n",
            " 0.93127382 0.92994034 0.942865   0.92444223 0.8941592  0.8694793\n",
            " 0.84919363 0.83091092 0.8149125  0.80202055 0.79253697 0.78625661\n",
            " 0.78267843 0.78115368 0.7809878  0.78151613 0.78216267 0.78247869\n",
            " 0.78215659 0.78103161 0.77906793 0.77633727]\n",
            "19 day output [[0.77299064]]\n",
            "20 day input [0.90670682 0.90224471 0.90080868 0.91860566 0.90901479 0.91691312\n",
            " 0.92250355 0.89906487 0.90234732 0.922401   0.94317272 0.94594229\n",
            " 0.95040434 0.95486639 0.96466248 0.96179029 0.95358418 0.96897064\n",
            " 0.96599596 0.97445852 0.96784233 0.96594469 0.95917461 0.97348403\n",
            " 0.97851029 0.99446091 0.98794727 0.99646116 0.98984497 0.97656132\n",
            " 0.9706119  0.98081826 0.98004894 0.97563811 0.97758708 0.97056062\n",
            " 0.97692031 0.98302362 1.         0.99210167 0.99846135 0.99958973\n",
            " 0.99497379 0.98922948 0.98522904 0.97030418 0.97968989 0.97974116\n",
            " 0.98569064 0.99748693 0.99384542 0.99748693 0.99425575 0.97492012\n",
            " 0.96953486 0.96758588 0.97020157 0.9317867  0.90798902 0.90101378\n",
            " 0.93891577 0.93994153 0.94722449 0.95902078 0.96491892 0.92994034\n",
            " 0.93747974 0.93127382 0.92845297 0.92378575 0.91260496 0.90629649\n",
            " 0.92311904 0.9274272  0.90896345 0.91665668 0.93645397 0.93127382\n",
            " 0.92994034 0.942865   0.92444223 0.8941592  0.8694793  0.84919363\n",
            " 0.83091092 0.8149125  0.80202055 0.79253697 0.78625661 0.78267843\n",
            " 0.78115368 0.7809878  0.78151613 0.78216267 0.78247869 0.78215659\n",
            " 0.78103161 0.77906793 0.77633727 0.77299064]\n",
            "20 day output [[0.769228]]\n",
            "21 day input [0.90224471 0.90080868 0.91860566 0.90901479 0.91691312 0.92250355\n",
            " 0.89906487 0.90234732 0.922401   0.94317272 0.94594229 0.95040434\n",
            " 0.95486639 0.96466248 0.96179029 0.95358418 0.96897064 0.96599596\n",
            " 0.97445852 0.96784233 0.96594469 0.95917461 0.97348403 0.97851029\n",
            " 0.99446091 0.98794727 0.99646116 0.98984497 0.97656132 0.9706119\n",
            " 0.98081826 0.98004894 0.97563811 0.97758708 0.97056062 0.97692031\n",
            " 0.98302362 1.         0.99210167 0.99846135 0.99958973 0.99497379\n",
            " 0.98922948 0.98522904 0.97030418 0.97968989 0.97974116 0.98569064\n",
            " 0.99748693 0.99384542 0.99748693 0.99425575 0.97492012 0.96953486\n",
            " 0.96758588 0.97020157 0.9317867  0.90798902 0.90101378 0.93891577\n",
            " 0.93994153 0.94722449 0.95902078 0.96491892 0.92994034 0.93747974\n",
            " 0.93127382 0.92845297 0.92378575 0.91260496 0.90629649 0.92311904\n",
            " 0.9274272  0.90896345 0.91665668 0.93645397 0.93127382 0.92994034\n",
            " 0.942865   0.92444223 0.8941592  0.8694793  0.84919363 0.83091092\n",
            " 0.8149125  0.80202055 0.79253697 0.78625661 0.78267843 0.78115368\n",
            " 0.7809878  0.78151613 0.78216267 0.78247869 0.78215659 0.78103161\n",
            " 0.77906793 0.77633727 0.77299064 0.76922798]\n",
            "21 day output [[0.76526856]]\n",
            "22 day input [0.90080868 0.91860566 0.90901479 0.91691312 0.92250355 0.89906487\n",
            " 0.90234732 0.922401   0.94317272 0.94594229 0.95040434 0.95486639\n",
            " 0.96466248 0.96179029 0.95358418 0.96897064 0.96599596 0.97445852\n",
            " 0.96784233 0.96594469 0.95917461 0.97348403 0.97851029 0.99446091\n",
            " 0.98794727 0.99646116 0.98984497 0.97656132 0.9706119  0.98081826\n",
            " 0.98004894 0.97563811 0.97758708 0.97056062 0.97692031 0.98302362\n",
            " 1.         0.99210167 0.99846135 0.99958973 0.99497379 0.98922948\n",
            " 0.98522904 0.97030418 0.97968989 0.97974116 0.98569064 0.99748693\n",
            " 0.99384542 0.99748693 0.99425575 0.97492012 0.96953486 0.96758588\n",
            " 0.97020157 0.9317867  0.90798902 0.90101378 0.93891577 0.93994153\n",
            " 0.94722449 0.95902078 0.96491892 0.92994034 0.93747974 0.93127382\n",
            " 0.92845297 0.92378575 0.91260496 0.90629649 0.92311904 0.9274272\n",
            " 0.90896345 0.91665668 0.93645397 0.93127382 0.92994034 0.942865\n",
            " 0.92444223 0.8941592  0.8694793  0.84919363 0.83091092 0.8149125\n",
            " 0.80202055 0.79253697 0.78625661 0.78267843 0.78115368 0.7809878\n",
            " 0.78151613 0.78216267 0.78247869 0.78215659 0.78103161 0.77906793\n",
            " 0.77633727 0.77299064 0.76922798 0.76526856]\n",
            "22 day output [[0.7613252]]\n",
            "23 day input [0.91860566 0.90901479 0.91691312 0.92250355 0.89906487 0.90234732\n",
            " 0.922401   0.94317272 0.94594229 0.95040434 0.95486639 0.96466248\n",
            " 0.96179029 0.95358418 0.96897064 0.96599596 0.97445852 0.96784233\n",
            " 0.96594469 0.95917461 0.97348403 0.97851029 0.99446091 0.98794727\n",
            " 0.99646116 0.98984497 0.97656132 0.9706119  0.98081826 0.98004894\n",
            " 0.97563811 0.97758708 0.97056062 0.97692031 0.98302362 1.\n",
            " 0.99210167 0.99846135 0.99958973 0.99497379 0.98922948 0.98522904\n",
            " 0.97030418 0.97968989 0.97974116 0.98569064 0.99748693 0.99384542\n",
            " 0.99748693 0.99425575 0.97492012 0.96953486 0.96758588 0.97020157\n",
            " 0.9317867  0.90798902 0.90101378 0.93891577 0.93994153 0.94722449\n",
            " 0.95902078 0.96491892 0.92994034 0.93747974 0.93127382 0.92845297\n",
            " 0.92378575 0.91260496 0.90629649 0.92311904 0.9274272  0.90896345\n",
            " 0.91665668 0.93645397 0.93127382 0.92994034 0.942865   0.92444223\n",
            " 0.8941592  0.8694793  0.84919363 0.83091092 0.8149125  0.80202055\n",
            " 0.79253697 0.78625661 0.78267843 0.78115368 0.7809878  0.78151613\n",
            " 0.78216267 0.78247869 0.78215659 0.78103161 0.77906793 0.77633727\n",
            " 0.77299064 0.76922798 0.76526856 0.76132518]\n",
            "23 day output [[0.7575835]]\n",
            "24 day input [0.90901479 0.91691312 0.92250355 0.89906487 0.90234732 0.922401\n",
            " 0.94317272 0.94594229 0.95040434 0.95486639 0.96466248 0.96179029\n",
            " 0.95358418 0.96897064 0.96599596 0.97445852 0.96784233 0.96594469\n",
            " 0.95917461 0.97348403 0.97851029 0.99446091 0.98794727 0.99646116\n",
            " 0.98984497 0.97656132 0.9706119  0.98081826 0.98004894 0.97563811\n",
            " 0.97758708 0.97056062 0.97692031 0.98302362 1.         0.99210167\n",
            " 0.99846135 0.99958973 0.99497379 0.98922948 0.98522904 0.97030418\n",
            " 0.97968989 0.97974116 0.98569064 0.99748693 0.99384542 0.99748693\n",
            " 0.99425575 0.97492012 0.96953486 0.96758588 0.97020157 0.9317867\n",
            " 0.90798902 0.90101378 0.93891577 0.93994153 0.94722449 0.95902078\n",
            " 0.96491892 0.92994034 0.93747974 0.93127382 0.92845297 0.92378575\n",
            " 0.91260496 0.90629649 0.92311904 0.9274272  0.90896345 0.91665668\n",
            " 0.93645397 0.93127382 0.92994034 0.942865   0.92444223 0.8941592\n",
            " 0.8694793  0.84919363 0.83091092 0.8149125  0.80202055 0.79253697\n",
            " 0.78625661 0.78267843 0.78115368 0.7809878  0.78151613 0.78216267\n",
            " 0.78247869 0.78215659 0.78103161 0.77906793 0.77633727 0.77299064\n",
            " 0.76922798 0.76526856 0.76132518 0.7575835 ]\n",
            "24 day output [[0.7541876]]\n",
            "25 day input [0.91691312 0.92250355 0.89906487 0.90234732 0.922401   0.94317272\n",
            " 0.94594229 0.95040434 0.95486639 0.96466248 0.96179029 0.95358418\n",
            " 0.96897064 0.96599596 0.97445852 0.96784233 0.96594469 0.95917461\n",
            " 0.97348403 0.97851029 0.99446091 0.98794727 0.99646116 0.98984497\n",
            " 0.97656132 0.9706119  0.98081826 0.98004894 0.97563811 0.97758708\n",
            " 0.97056062 0.97692031 0.98302362 1.         0.99210167 0.99846135\n",
            " 0.99958973 0.99497379 0.98922948 0.98522904 0.97030418 0.97968989\n",
            " 0.97974116 0.98569064 0.99748693 0.99384542 0.99748693 0.99425575\n",
            " 0.97492012 0.96953486 0.96758588 0.97020157 0.9317867  0.90798902\n",
            " 0.90101378 0.93891577 0.93994153 0.94722449 0.95902078 0.96491892\n",
            " 0.92994034 0.93747974 0.93127382 0.92845297 0.92378575 0.91260496\n",
            " 0.90629649 0.92311904 0.9274272  0.90896345 0.91665668 0.93645397\n",
            " 0.93127382 0.92994034 0.942865   0.92444223 0.8941592  0.8694793\n",
            " 0.84919363 0.83091092 0.8149125  0.80202055 0.79253697 0.78625661\n",
            " 0.78267843 0.78115368 0.7809878  0.78151613 0.78216267 0.78247869\n",
            " 0.78215659 0.78103161 0.77906793 0.77633727 0.77299064 0.76922798\n",
            " 0.76526856 0.76132518 0.7575835  0.75418758]\n",
            "25 day output [[0.7512322]]\n",
            "26 day input [0.92250355 0.89906487 0.90234732 0.922401   0.94317272 0.94594229\n",
            " 0.95040434 0.95486639 0.96466248 0.96179029 0.95358418 0.96897064\n",
            " 0.96599596 0.97445852 0.96784233 0.96594469 0.95917461 0.97348403\n",
            " 0.97851029 0.99446091 0.98794727 0.99646116 0.98984497 0.97656132\n",
            " 0.9706119  0.98081826 0.98004894 0.97563811 0.97758708 0.97056062\n",
            " 0.97692031 0.98302362 1.         0.99210167 0.99846135 0.99958973\n",
            " 0.99497379 0.98922948 0.98522904 0.97030418 0.97968989 0.97974116\n",
            " 0.98569064 0.99748693 0.99384542 0.99748693 0.99425575 0.97492012\n",
            " 0.96953486 0.96758588 0.97020157 0.9317867  0.90798902 0.90101378\n",
            " 0.93891577 0.93994153 0.94722449 0.95902078 0.96491892 0.92994034\n",
            " 0.93747974 0.93127382 0.92845297 0.92378575 0.91260496 0.90629649\n",
            " 0.92311904 0.9274272  0.90896345 0.91665668 0.93645397 0.93127382\n",
            " 0.92994034 0.942865   0.92444223 0.8941592  0.8694793  0.84919363\n",
            " 0.83091092 0.8149125  0.80202055 0.79253697 0.78625661 0.78267843\n",
            " 0.78115368 0.7809878  0.78151613 0.78216267 0.78247869 0.78215659\n",
            " 0.78103161 0.77906793 0.77633727 0.77299064 0.76922798 0.76526856\n",
            " 0.76132518 0.7575835  0.75418758 0.75123221]\n",
            "26 day output [[0.7487617]]\n",
            "27 day input [0.89906487 0.90234732 0.922401   0.94317272 0.94594229 0.95040434\n",
            " 0.95486639 0.96466248 0.96179029 0.95358418 0.96897064 0.96599596\n",
            " 0.97445852 0.96784233 0.96594469 0.95917461 0.97348403 0.97851029\n",
            " 0.99446091 0.98794727 0.99646116 0.98984497 0.97656132 0.9706119\n",
            " 0.98081826 0.98004894 0.97563811 0.97758708 0.97056062 0.97692031\n",
            " 0.98302362 1.         0.99210167 0.99846135 0.99958973 0.99497379\n",
            " 0.98922948 0.98522904 0.97030418 0.97968989 0.97974116 0.98569064\n",
            " 0.99748693 0.99384542 0.99748693 0.99425575 0.97492012 0.96953486\n",
            " 0.96758588 0.97020157 0.9317867  0.90798902 0.90101378 0.93891577\n",
            " 0.93994153 0.94722449 0.95902078 0.96491892 0.92994034 0.93747974\n",
            " 0.93127382 0.92845297 0.92378575 0.91260496 0.90629649 0.92311904\n",
            " 0.9274272  0.90896345 0.91665668 0.93645397 0.93127382 0.92994034\n",
            " 0.942865   0.92444223 0.8941592  0.8694793  0.84919363 0.83091092\n",
            " 0.8149125  0.80202055 0.79253697 0.78625661 0.78267843 0.78115368\n",
            " 0.7809878  0.78151613 0.78216267 0.78247869 0.78215659 0.78103161\n",
            " 0.77906793 0.77633727 0.77299064 0.76922798 0.76526856 0.76132518\n",
            " 0.7575835  0.75418758 0.75123221 0.74876171]\n",
            "27 day output [[0.7467749]]\n",
            "28 day input [0.90234732 0.922401   0.94317272 0.94594229 0.95040434 0.95486639\n",
            " 0.96466248 0.96179029 0.95358418 0.96897064 0.96599596 0.97445852\n",
            " 0.96784233 0.96594469 0.95917461 0.97348403 0.97851029 0.99446091\n",
            " 0.98794727 0.99646116 0.98984497 0.97656132 0.9706119  0.98081826\n",
            " 0.98004894 0.97563811 0.97758708 0.97056062 0.97692031 0.98302362\n",
            " 1.         0.99210167 0.99846135 0.99958973 0.99497379 0.98922948\n",
            " 0.98522904 0.97030418 0.97968989 0.97974116 0.98569064 0.99748693\n",
            " 0.99384542 0.99748693 0.99425575 0.97492012 0.96953486 0.96758588\n",
            " 0.97020157 0.9317867  0.90798902 0.90101378 0.93891577 0.93994153\n",
            " 0.94722449 0.95902078 0.96491892 0.92994034 0.93747974 0.93127382\n",
            " 0.92845297 0.92378575 0.91260496 0.90629649 0.92311904 0.9274272\n",
            " 0.90896345 0.91665668 0.93645397 0.93127382 0.92994034 0.942865\n",
            " 0.92444223 0.8941592  0.8694793  0.84919363 0.83091092 0.8149125\n",
            " 0.80202055 0.79253697 0.78625661 0.78267843 0.78115368 0.7809878\n",
            " 0.78151613 0.78216267 0.78247869 0.78215659 0.78103161 0.77906793\n",
            " 0.77633727 0.77299064 0.76922798 0.76526856 0.76132518 0.7575835\n",
            " 0.75418758 0.75123221 0.74876171 0.74677491]\n",
            "28 day output [[0.74523246]]\n",
            "29 day input [0.922401   0.94317272 0.94594229 0.95040434 0.95486639 0.96466248\n",
            " 0.96179029 0.95358418 0.96897064 0.96599596 0.97445852 0.96784233\n",
            " 0.96594469 0.95917461 0.97348403 0.97851029 0.99446091 0.98794727\n",
            " 0.99646116 0.98984497 0.97656132 0.9706119  0.98081826 0.98004894\n",
            " 0.97563811 0.97758708 0.97056062 0.97692031 0.98302362 1.\n",
            " 0.99210167 0.99846135 0.99958973 0.99497379 0.98922948 0.98522904\n",
            " 0.97030418 0.97968989 0.97974116 0.98569064 0.99748693 0.99384542\n",
            " 0.99748693 0.99425575 0.97492012 0.96953486 0.96758588 0.97020157\n",
            " 0.9317867  0.90798902 0.90101378 0.93891577 0.93994153 0.94722449\n",
            " 0.95902078 0.96491892 0.92994034 0.93747974 0.93127382 0.92845297\n",
            " 0.92378575 0.91260496 0.90629649 0.92311904 0.9274272  0.90896345\n",
            " 0.91665668 0.93645397 0.93127382 0.92994034 0.942865   0.92444223\n",
            " 0.8941592  0.8694793  0.84919363 0.83091092 0.8149125  0.80202055\n",
            " 0.79253697 0.78625661 0.78267843 0.78115368 0.7809878  0.78151613\n",
            " 0.78216267 0.78247869 0.78215659 0.78103161 0.77906793 0.77633727\n",
            " 0.77299064 0.76922798 0.76526856 0.76132518 0.7575835  0.75418758\n",
            " 0.75123221 0.74876171 0.74677491 0.74523246]\n",
            "29 day output [[0.7440682]]\n",
            "[[0.9244422316551208], [0.894159197807312], [0.8694792985916138], [0.8491936326026917], [0.8309109210968018], [0.8149124979972839], [0.8020205497741699], [0.7925369739532471], [0.7862566113471985], [0.7826784253120422], [0.781153678894043], [0.7809877991676331], [0.7815161347389221], [0.7821626663208008], [0.7824786901473999], [0.7821565866470337], [0.781031608581543], [0.7790679335594177], [0.7763372659683228], [0.7729906439781189], [0.7692279815673828], [0.7652685642242432], [0.7613251805305481], [0.757583498954773], [0.7541875839233398], [0.7512322068214417], [0.7487617135047913], [0.7467749118804932], [0.7452324628829956], [0.7440682053565979]]\n"
          ]
        }
      ]
    },
    {
      "cell_type": "code",
      "metadata": {
        "id": "IlnftgYC09yG"
      },
      "source": [
        "day_new=np.arange(1,101)\n",
        "day_pred=np.arange(101,131)"
      ],
      "execution_count": null,
      "outputs": []
    },
    {
      "cell_type": "code",
      "metadata": {
        "id": "bze8nU5i097V"
      },
      "source": [
        "import matplotlib.pyplot as plt"
      ],
      "execution_count": null,
      "outputs": []
    },
    {
      "cell_type": "code",
      "metadata": {
        "colab": {
          "base_uri": "https://localhost:8080/"
        },
        "id": "VRcB21k71G4L",
        "outputId": "6f8f228d-eb0e-4581-f879-8b842f370a60"
      },
      "source": [
        "len(df1)"
      ],
      "execution_count": null,
      "outputs": [
        {
          "output_type": "execute_result",
          "data": {
            "text/plain": [
              "6440"
            ]
          },
          "metadata": {},
          "execution_count": 46
        }
      ]
    },
    {
      "cell_type": "code",
      "metadata": {
        "colab": {
          "base_uri": "https://localhost:8080/",
          "height": 469
        },
        "id": "TEVjz_Qy1Jec",
        "outputId": "3860837f-61f9-470d-a892-676d87362683"
      },
      "source": [
        "plt.plot(day_new,scaler.inverse_transform(df1[6340:]))\n",
        "plt.plot(day_pred,scaler.inverse_transform(lst_output))\n",
        "plt.title('Cipla Prediction of Next 30 Days')"
      ],
      "execution_count": null,
      "outputs": [
        {
          "output_type": "execute_result",
          "data": {
            "text/plain": [
              "Text(0.5, 1.0, 'Cipla Prediction of Next 30 Days')"
            ]
          },
          "metadata": {},
          "execution_count": 47
        },
        {
          "output_type": "display_data",
          "data": {
            "image/png": "[encoded data removed]",
            "text/plain": [
              "<Figure size 640x480 with 1 Axes>"
            ]
          },
          "metadata": {}
        }
      ]
    },
    {
      "cell_type": "code",
      "metadata": {
        "colab": {
          "base_uri": "https://localhost:8080/",
          "height": 447
        },
        "id": "ESp1lp3R1LfH",
        "outputId": "f33715fd-aa2d-4193-cd62-5dcd832d3cf7"
      },
      "source": [
        "df3=df1.tolist()\n",
        "df3.extend(lst_output)\n",
        "plt.plot(df3[6000:])"
      ],
      "execution_count": null,
      "outputs": [
        {
          "output_type": "execute_result",
          "data": {
            "text/plain": [
              "[<matplotlib.lines.Line2D at 0x7fa48c02d590>]"
            ]
          },
          "metadata": {},
          "execution_count": 48
        },
        {
          "output_type": "display_data",
          "data": {
            "image/png": "[encoded data removed]",
            "text/plain": [
              "<Figure size 640x480 with 1 Axes>"
            ]
          },
          "metadata": {}
        }
      ]
    },
    {
      "cell_type": "code",
      "metadata": {
        "id": "OQK_oXwD1Lxv"
      },
      "source": [
        "df3=scaler.inverse_transform(df3).tolist()"
      ],
      "execution_count": null,
      "outputs": []
    },
    {
      "cell_type": "code",
      "metadata": {
        "colab": {
          "base_uri": "https://localhost:8080/",
          "height": 447
        },
        "id": "X3DpOmIs1MCQ",
        "outputId": "7f93eb8a-a288-4cfb-c490-35fd10ee7476"
      },
      "source": [
        "plt.plot(df3)"
      ],
      "execution_count": null,
      "outputs": [
        {
          "output_type": "execute_result",
          "data": {
            "text/plain": [
              "[<matplotlib.lines.Line2D at 0x7fa4876c9650>]"
            ]
          },
          "metadata": {},
          "execution_count": 50
        },
        {
          "output_type": "display_data",
          "data": {
            "image/png": "[encoded data removed]",
            "text/plain": [
              "<Figure size 640x480 with 1 Axes>"
            ]
          },
          "metadata": {}
        }
      ]
    },
    {
      "cell_type": "code",
      "metadata": {
        "id": "CCmRoi9r1MQG"
      },
      "source": [
        ""
      ],
      "execution_count": null,
      "outputs": []
    }
  ]
}