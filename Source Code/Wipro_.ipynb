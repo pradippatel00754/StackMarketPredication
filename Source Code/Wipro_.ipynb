{
  "nbformat": 4,
  "nbformat_minor": 0,
  "metadata": {
    "colab": {
      "name": "Wipro:.ipynb",
      "provenance": [],
      "collapsed_sections": []
    },
    "kernelspec": {
      "name": "python3",
      "display_name": "Python 3"
    },
    "language_info": {
      "name": "python"
    }
  },
  "cells": [
    {
      "cell_type": "code",
      "metadata": {
        "colab": {
          "base_uri": "https://localhost:8080/"
        },
        "id": "nR34pB3lsVC8",
        "outputId": "6f0be8de-21b5-4cc4-846b-7db7dfe12df1"
      },
      "source": [
        "import os\n",
        "os.getcwd()\n",
        "from google.colab import drive\n",
        "drive.mount('/content/gdrive')\n",
        "os.chdir('/content/gdrive/My Drive')"
      ],
      "execution_count": null,
      "outputs": [
        {
          "output_type": "stream",
          "name": "stdout",
          "text": [
            "Mounted at /content/gdrive\n"
          ]
        }
      ]
    },
    {
      "cell_type": "code",
      "metadata": {
        "id": "j7NsICtPsY25"
      },
      "source": [
        "import pandas as pd\n",
        "import numpy as np\n",
        "import matplotlib.pyplot as plt\n",
        "import seaborn as sns\n",
        "import warnings\n",
        "warnings.filterwarnings(\"ignore\")\n",
        "\n",
        "FileName = 'WIPRO.NS.csv'\n",
        "Wipro=pd.read_csv(FileName)"
      ],
      "execution_count": null,
      "outputs": []
    },
    {
      "cell_type": "code",
      "metadata": {
        "colab": {
          "base_uri": "https://localhost:8080/",
          "height": 204
        },
        "id": "VHqN5qxmsdtL",
        "outputId": "d13b965c-cdba-43fd-dbf9-9072eabfc255"
      },
      "source": [
        "Wipro.head()"
      ],
      "execution_count": null,
      "outputs": [
        {
          "output_type": "execute_result",
          "data": {
            "text/html": [
              "<div>\n",
              "<style scoped>\n",
              "    .dataframe tbody tr th:only-of-type {\n",
              "        vertical-align: middle;\n",
              "    }\n",
              "\n",
              "    .dataframe tbody tr th {\n",
              "        vertical-align: top;\n",
              "    }\n",
              "\n",
              "    .dataframe thead th {\n",
              "        text-align: right;\n",
              "    }\n",
              "</style>\n",
              "<table border=\"1\" class=\"dataframe\">\n",
              "  <thead>\n",
              "    <tr style=\"text-align: right;\">\n",
              "      <th></th>\n",
              "      <th>Date</th>\n",
              "      <th>Open</th>\n",
              "      <th>High</th>\n",
              "      <th>Low</th>\n",
              "      <th>Close</th>\n",
              "      <th>Adj Close</th>\n",
              "      <th>Volume</th>\n",
              "    </tr>\n",
              "  </thead>\n",
              "  <tbody>\n",
              "    <tr>\n",
              "      <th>0</th>\n",
              "      <td>01/01/1996</td>\n",
              "      <td>1.1250</td>\n",
              "      <td>1.1250</td>\n",
              "      <td>1.1250</td>\n",
              "      <td>1.1250</td>\n",
              "      <td>0.921463</td>\n",
              "      <td>19999</td>\n",
              "    </tr>\n",
              "    <tr>\n",
              "      <th>1</th>\n",
              "      <td>02/01/1996</td>\n",
              "      <td>1.0375</td>\n",
              "      <td>1.0375</td>\n",
              "      <td>1.0375</td>\n",
              "      <td>1.0375</td>\n",
              "      <td>0.849793</td>\n",
              "      <td>39999</td>\n",
              "    </tr>\n",
              "    <tr>\n",
              "      <th>2</th>\n",
              "      <td>03/01/1996</td>\n",
              "      <td>1.0750</td>\n",
              "      <td>1.0750</td>\n",
              "      <td>1.0750</td>\n",
              "      <td>1.0750</td>\n",
              "      <td>0.880509</td>\n",
              "      <td>19999</td>\n",
              "    </tr>\n",
              "    <tr>\n",
              "      <th>3</th>\n",
              "      <td>04/01/1996</td>\n",
              "      <td>1.0750</td>\n",
              "      <td>1.0750</td>\n",
              "      <td>1.0750</td>\n",
              "      <td>1.0750</td>\n",
              "      <td>0.880509</td>\n",
              "      <td>119999</td>\n",
              "    </tr>\n",
              "    <tr>\n",
              "      <th>4</th>\n",
              "      <td>05/01/1996</td>\n",
              "      <td>1.0750</td>\n",
              "      <td>1.0750</td>\n",
              "      <td>1.0750</td>\n",
              "      <td>1.0750</td>\n",
              "      <td>0.880509</td>\n",
              "      <td>0</td>\n",
              "    </tr>\n",
              "  </tbody>\n",
              "</table>\n",
              "</div>"
            ],
            "text/plain": [
              "         Date    Open    High     Low   Close  Adj Close  Volume\n",
              "0  01/01/1996  1.1250  1.1250  1.1250  1.1250   0.921463   19999\n",
              "1  02/01/1996  1.0375  1.0375  1.0375  1.0375   0.849793   39999\n",
              "2  03/01/1996  1.0750  1.0750  1.0750  1.0750   0.880509   19999\n",
              "3  04/01/1996  1.0750  1.0750  1.0750  1.0750   0.880509  119999\n",
              "4  05/01/1996  1.0750  1.0750  1.0750  1.0750   0.880509       0"
            ]
          },
          "metadata": {},
          "execution_count": 3
        }
      ]
    },
    {
      "cell_type": "code",
      "metadata": {
        "colab": {
          "base_uri": "https://localhost:8080/",
          "height": 204
        },
        "id": "8RFQUgbQsliu",
        "outputId": "2fa6f956-6a15-43fd-cada-476c3a9c268f"
      },
      "source": [
        "Wipro.tail()"
      ],
      "execution_count": null,
      "outputs": [
        {
          "output_type": "execute_result",
          "data": {
            "text/html": [
              "<div>\n",
              "<style scoped>\n",
              "    .dataframe tbody tr th:only-of-type {\n",
              "        vertical-align: middle;\n",
              "    }\n",
              "\n",
              "    .dataframe tbody tr th {\n",
              "        vertical-align: top;\n",
              "    }\n",
              "\n",
              "    .dataframe thead th {\n",
              "        text-align: right;\n",
              "    }\n",
              "</style>\n",
              "<table border=\"1\" class=\"dataframe\">\n",
              "  <thead>\n",
              "    <tr style=\"text-align: right;\">\n",
              "      <th></th>\n",
              "      <th>Date</th>\n",
              "      <th>Open</th>\n",
              "      <th>High</th>\n",
              "      <th>Low</th>\n",
              "      <th>Close</th>\n",
              "      <th>Adj Close</th>\n",
              "      <th>Volume</th>\n",
              "    </tr>\n",
              "  </thead>\n",
              "  <tbody>\n",
              "    <tr>\n",
              "      <th>6447</th>\n",
              "      <td>23/08/2021</td>\n",
              "      <td>626.000000</td>\n",
              "      <td>636.950012</td>\n",
              "      <td>623.500000</td>\n",
              "      <td>628.849976</td>\n",
              "      <td>628.849976</td>\n",
              "      <td>7036375</td>\n",
              "    </tr>\n",
              "    <tr>\n",
              "      <th>6448</th>\n",
              "      <td>24/08/2021</td>\n",
              "      <td>636.000000</td>\n",
              "      <td>636.000000</td>\n",
              "      <td>624.099976</td>\n",
              "      <td>633.549988</td>\n",
              "      <td>633.549988</td>\n",
              "      <td>4483718</td>\n",
              "    </tr>\n",
              "    <tr>\n",
              "      <th>6449</th>\n",
              "      <td>25/08/2021</td>\n",
              "      <td>635.000000</td>\n",
              "      <td>642.799988</td>\n",
              "      <td>629.549988</td>\n",
              "      <td>631.650024</td>\n",
              "      <td>631.650024</td>\n",
              "      <td>6407718</td>\n",
              "    </tr>\n",
              "    <tr>\n",
              "      <th>6450</th>\n",
              "      <td>26/08/2021</td>\n",
              "      <td>632.200012</td>\n",
              "      <td>638.500000</td>\n",
              "      <td>626.000000</td>\n",
              "      <td>628.950012</td>\n",
              "      <td>628.950012</td>\n",
              "      <td>4208351</td>\n",
              "    </tr>\n",
              "    <tr>\n",
              "      <th>6451</th>\n",
              "      <td>27/08/2021</td>\n",
              "      <td>629.500000</td>\n",
              "      <td>636.000000</td>\n",
              "      <td>625.299988</td>\n",
              "      <td>634.950012</td>\n",
              "      <td>634.950012</td>\n",
              "      <td>4371554</td>\n",
              "    </tr>\n",
              "  </tbody>\n",
              "</table>\n",
              "</div>"
            ],
            "text/plain": [
              "            Date        Open        High  ...       Close   Adj Close   Volume\n",
              "6447  23/08/2021  626.000000  636.950012  ...  628.849976  628.849976  7036375\n",
              "6448  24/08/2021  636.000000  636.000000  ...  633.549988  633.549988  4483718\n",
              "6449  25/08/2021  635.000000  642.799988  ...  631.650024  631.650024  6407718\n",
              "6450  26/08/2021  632.200012  638.500000  ...  628.950012  628.950012  4208351\n",
              "6451  27/08/2021  629.500000  636.000000  ...  634.950012  634.950012  4371554\n",
              "\n",
              "[5 rows x 7 columns]"
            ]
          },
          "metadata": {},
          "execution_count": 4
        }
      ]
    },
    {
      "cell_type": "code",
      "metadata": {
        "id": "rEZ7LUoQstCX"
      },
      "source": [
        "df1=Wipro.reset_index()['Close']"
      ],
      "execution_count": null,
      "outputs": []
    },
    {
      "cell_type": "code",
      "metadata": {
        "colab": {
          "base_uri": "https://localhost:8080/"
        },
        "id": "6QiqnOOIs_9e",
        "outputId": "5bf8b59e-44e6-47d0-9b13-58359df90c3a"
      },
      "source": [
        "df1.shape"
      ],
      "execution_count": null,
      "outputs": [
        {
          "output_type": "execute_result",
          "data": {
            "text/plain": [
              "(6452,)"
            ]
          },
          "metadata": {},
          "execution_count": 6
        }
      ]
    },
    {
      "cell_type": "code",
      "metadata": {
        "colab": {
          "base_uri": "https://localhost:8080/"
        },
        "id": "bGBroGQVtHM8",
        "outputId": "0c687acf-98e8-4dd0-bc25-af7f628e75b3"
      },
      "source": [
        "df1"
      ],
      "execution_count": null,
      "outputs": [
        {
          "output_type": "execute_result",
          "data": {
            "text/plain": [
              "0         1.125000\n",
              "1         1.037500\n",
              "2         1.075000\n",
              "3         1.075000\n",
              "4         1.075000\n",
              "           ...    \n",
              "6447    628.849976\n",
              "6448    633.549988\n",
              "6449    631.650024\n",
              "6450    628.950012\n",
              "6451    634.950012\n",
              "Name: Close, Length: 6452, dtype: float64"
            ]
          },
          "metadata": {},
          "execution_count": 7
        }
      ]
    },
    {
      "cell_type": "code",
      "metadata": {
        "colab": {
          "base_uri": "https://localhost:8080/",
          "height": 407
        },
        "id": "86bXNskKtJcq",
        "outputId": "9ce8addc-04ab-4a7e-91a7-1b4c73cdea5f"
      },
      "source": [
        "import matplotlib.pyplot as plt\n",
        "plt.figure(figsize=(20,6))\n",
        "plt.plot(df1)\n",
        "plt.title('Wipro Share Price 2002-2021')"
      ],
      "execution_count": null,
      "outputs": [
        {
          "output_type": "execute_result",
          "data": {
            "text/plain": [
              "Text(0.5, 1.0, 'Wipro Share Price 2002-2021')"
            ]
          },
          "metadata": {},
          "execution_count": 8
        },
        {
          "output_type": "display_data",
          "data": {
            "image/png": "[encoded data removed]",
            "text/plain": [
              "<Figure size 1440x432 with 1 Axes>"
            ]
          },
          "metadata": {
            "needs_background": "light"
          }
        }
      ]
    },
    {
      "cell_type": "code",
      "metadata": {
        "colab": {
          "base_uri": "https://localhost:8080/"
        },
        "id": "hOumu7Oz37iZ",
        "outputId": "dccb12cf-c355-482e-cda8-6d39782a1ff9"
      },
      "source": [
        "Wipro.Date = pd.to_datetime(Wipro.Date)\n",
        "Wipro.info()"
      ],
      "execution_count": null,
      "outputs": [
        {
          "output_type": "stream",
          "name": "stdout",
          "text": [
            "<class 'pandas.core.frame.DataFrame'>\n",
            "RangeIndex: 6452 entries, 0 to 6451\n",
            "Data columns (total 7 columns):\n",
            " #   Column     Non-Null Count  Dtype         \n",
            "---  ------     --------------  -----         \n",
            " 0   Date       6452 non-null   datetime64[ns]\n",
            " 1   Open       6452 non-null   float64       \n",
            " 2   High       6452 non-null   float64       \n",
            " 3   Low        6452 non-null   float64       \n",
            " 4   Close      6452 non-null   float64       \n",
            " 5   Adj Close  6452 non-null   float64       \n",
            " 6   Volume     6452 non-null   int64         \n",
            "dtypes: datetime64[ns](1), float64(5), int64(1)\n",
            "memory usage: 353.0 KB\n"
          ]
        }
      ]
    },
    {
      "cell_type": "code",
      "metadata": {
        "id": "b6Ui2TYT37y_"
      },
      "source": [
        "Wipro = Wipro.set_index('Date')"
      ],
      "execution_count": null,
      "outputs": []
    },
    {
      "cell_type": "code",
      "metadata": {
        "colab": {
          "base_uri": "https://localhost:8080/"
        },
        "id": "RNMASWpy38bU",
        "outputId": "9e0df1d3-6330-438d-f8e1-bd388582571c"
      },
      "source": [
        "pip install https://github.com/matplotlib/mpl_finance/archive/master.zip"
      ],
      "execution_count": null,
      "outputs": [
        {
          "output_type": "stream",
          "name": "stdout",
          "text": [
            "Collecting https://github.com/matplotlib/mpl_finance/archive/master.zip\n",
            "  Downloading https://github.com/matplotlib/mpl_finance/archive/master.zip\n",
            "\u001b[K     / 306 kB 701 kB/s\n",
            "\u001b[?25hRequirement already satisfied: matplotlib in /usr/local/lib/python3.7/dist-packages (from mpl-finance==0.10.1) (3.2.2)\n",
            "Requirement already satisfied: python-dateutil>=2.1 in /usr/local/lib/python3.7/dist-packages (from matplotlib->mpl-finance==0.10.1) (2.8.2)\n",
            "Requirement already satisfied: pyparsing!=2.0.4,!=2.1.2,!=2.1.6,>=2.0.1 in /usr/local/lib/python3.7/dist-packages (from matplotlib->mpl-finance==0.10.1) (2.4.7)\n",
            "Requirement already satisfied: kiwisolver>=1.0.1 in /usr/local/lib/python3.7/dist-packages (from matplotlib->mpl-finance==0.10.1) (1.3.1)\n",
            "Requirement already satisfied: cycler>=0.10 in /usr/local/lib/python3.7/dist-packages (from matplotlib->mpl-finance==0.10.1) (0.10.0)\n",
            "Requirement already satisfied: numpy>=1.11 in /usr/local/lib/python3.7/dist-packages (from matplotlib->mpl-finance==0.10.1) (1.19.5)\n",
            "Requirement already satisfied: six in /usr/local/lib/python3.7/dist-packages (from cycler>=0.10->matplotlib->mpl-finance==0.10.1) (1.15.0)\n",
            "Building wheels for collected packages: mpl-finance\n",
            "  Building wheel for mpl-finance (setup.py) ... \u001b[?25l\u001b[?25hdone\n",
            "  Created wheel for mpl-finance: filename=mpl_finance-0.10.1-py3-none-any.whl size=8435 sha256=4795661e359fe31659f961ca60980a54dc6140f1cc2cea978bf4c41b8e69ca8f\n",
            "  Stored in directory: /tmp/pip-ephem-wheel-cache-wnmhqhzf/wheels/eb/17/99/0f3929e635912eb25fc346aaf43b4ee3da4a80dee8ce3d2e4f\n",
            "Successfully built mpl-finance\n",
            "Installing collected packages: mpl-finance\n",
            "Successfully installed mpl-finance-0.10.1\n"
          ]
        }
      ]
    },
    {
      "cell_type": "code",
      "metadata": {
        "colab": {
          "base_uri": "https://localhost:8080/"
        },
        "id": "iyPINHg138sU",
        "outputId": "91ea360d-f2dc-401c-c33a-3df965db36f7"
      },
      "source": [
        "pip install --upgrade mplfinance"
      ],
      "execution_count": null,
      "outputs": [
        {
          "output_type": "stream",
          "name": "stdout",
          "text": [
            "Collecting mplfinance\n",
            "  Downloading mplfinance-0.12.7a17-py3-none-any.whl (62 kB)\n",
            "\u001b[?25l\r\u001b[K     |█████▎                          | 10 kB 19.9 MB/s eta 0:00:01\r\u001b[K     |██████████▌                     | 20 kB 24.9 MB/s eta 0:00:01\r\u001b[K     |███████████████▊                | 30 kB 30.8 MB/s eta 0:00:01\r\u001b[K     |█████████████████████           | 40 kB 34.1 MB/s eta 0:00:01\r\u001b[K     |██████████████████████████▎     | 51 kB 18.3 MB/s eta 0:00:01\r\u001b[K     |███████████████████████████████▌| 61 kB 17.8 MB/s eta 0:00:01\r\u001b[K     |████████████████████████████████| 62 kB 942 kB/s \n",
            "\u001b[?25hRequirement already satisfied: pandas in /usr/local/lib/python3.7/dist-packages (from mplfinance) (1.1.5)\n",
            "Requirement already satisfied: matplotlib in /usr/local/lib/python3.7/dist-packages (from mplfinance) (3.2.2)\n",
            "Requirement already satisfied: numpy>=1.11 in /usr/local/lib/python3.7/dist-packages (from matplotlib->mplfinance) (1.19.5)\n",
            "Requirement already satisfied: python-dateutil>=2.1 in /usr/local/lib/python3.7/dist-packages (from matplotlib->mplfinance) (2.8.2)\n",
            "Requirement already satisfied: cycler>=0.10 in /usr/local/lib/python3.7/dist-packages (from matplotlib->mplfinance) (0.10.0)\n",
            "Requirement already satisfied: pyparsing!=2.0.4,!=2.1.2,!=2.1.6,>=2.0.1 in /usr/local/lib/python3.7/dist-packages (from matplotlib->mplfinance) (2.4.7)\n",
            "Requirement already satisfied: kiwisolver>=1.0.1 in /usr/local/lib/python3.7/dist-packages (from matplotlib->mplfinance) (1.3.1)\n",
            "Requirement already satisfied: six in /usr/local/lib/python3.7/dist-packages (from cycler>=0.10->matplotlib->mplfinance) (1.15.0)\n",
            "Requirement already satisfied: pytz>=2017.2 in /usr/local/lib/python3.7/dist-packages (from pandas->mplfinance) (2018.9)\n",
            "Installing collected packages: mplfinance\n",
            "Successfully installed mplfinance-0.12.7a17\n"
          ]
        }
      ]
    },
    {
      "cell_type": "code",
      "metadata": {
        "colab": {
          "base_uri": "https://localhost:8080/",
          "height": 426
        },
        "id": "WCPLCLIa39Bj",
        "outputId": "59238d63-b3f6-45d6-a6f0-ebced6bea5cd"
      },
      "source": [
        "import mplfinance as mpf\n",
        "mpf.plot(Wipro['2020'], \n",
        "         type='candle', mav=(20), \n",
        "         volume=True, \n",
        "         title = 'Wipro Share Price of 2020', \n",
        "         figratio=(20,6), tight_layout = True, \n",
        "         style = 'yahoo')"
      ],
      "execution_count": null,
      "outputs": [
        {
          "output_type": "display_data",
          "data": {
            "image/png": "[encoded data removed]",
            "text/plain": [
              "<Figure size 1916.67x575 with 4 Axes>"
            ]
          },
          "metadata": {}
        }
      ]
    },
    {
      "cell_type": "code",
      "metadata": {
        "id": "KhmzK0wQtjLc"
      },
      "source": [
        "import numpy as np"
      ],
      "execution_count": null,
      "outputs": []
    },
    {
      "cell_type": "code",
      "metadata": {
        "id": "11F8IoZWtpSq"
      },
      "source": [
        "from sklearn.preprocessing import MinMaxScaler\n",
        "scaler = MinMaxScaler(feature_range=(0,1))\n",
        "df1=scaler.fit_transform(np.array(df1).reshape(-1,1))"
      ],
      "execution_count": null,
      "outputs": []
    },
    {
      "cell_type": "code",
      "metadata": {
        "colab": {
          "base_uri": "https://localhost:8080/"
        },
        "id": "yZaN017SuDfy",
        "outputId": "74ef392a-9884-468d-ebe8-a6f6a72ee87e"
      },
      "source": [
        "df1"
      ],
      "execution_count": null,
      "outputs": [
        {
          "output_type": "execute_result",
          "data": {
            "text/plain": [
              "array([[5.63717847e-04],\n",
              "       [4.25744947e-04],\n",
              "       [4.84876190e-04],\n",
              "       ...,\n",
              "       [9.94796470e-01],\n",
              "       [9.90539001e-01],\n",
              "       [1.00000000e+00]])"
            ]
          },
          "metadata": {},
          "execution_count": 16
        }
      ]
    },
    {
      "cell_type": "code",
      "metadata": {
        "id": "v8nlDnRtuIUJ"
      },
      "source": [
        "training_size=int(len(df1)*0.75)\n",
        "test_size=len(df1)-training_size\n",
        "train_data,test_data=df1[0:training_size,:],df1[training_size:len(df1),:1]"
      ],
      "execution_count": null,
      "outputs": []
    },
    {
      "cell_type": "code",
      "metadata": {
        "colab": {
          "base_uri": "https://localhost:8080/"
        },
        "id": "7BE7WAuPuhZB",
        "outputId": "f13b2209-d5a6-4c19-8e8d-3e1c2360e0ed"
      },
      "source": [
        "training_size, test_size"
      ],
      "execution_count": null,
      "outputs": [
        {
          "output_type": "execute_result",
          "data": {
            "text/plain": [
              "(4839, 1613)"
            ]
          },
          "metadata": {},
          "execution_count": 18
        }
      ]
    },
    {
      "cell_type": "code",
      "metadata": {
        "colab": {
          "base_uri": "https://localhost:8080/"
        },
        "id": "l22HaDOrvDlY",
        "outputId": "1b5119e5-7145-4aee-fe0e-f9005a3dd783"
      },
      "source": [
        "len(train_data), len(test_data)"
      ],
      "execution_count": null,
      "outputs": [
        {
          "output_type": "execute_result",
          "data": {
            "text/plain": [
              "(4839, 1613)"
            ]
          },
          "metadata": {},
          "execution_count": 19
        }
      ]
    },
    {
      "cell_type": "code",
      "metadata": {
        "id": "Wfb3iGg8vNYX"
      },
      "source": [
        "import numpy \n",
        "def create_dataset(dataset, time_step=1):\n",
        "  dataX, dataY = [], []\n",
        "  for i in range (len(dataset)-time_step-1):\n",
        "    a = dataset[i:(i+time_step), 0]\n",
        "    dataX.append(a)\n",
        "    dataY.append(dataset[i + time_step, 0])\n",
        "  return numpy.array(dataX), numpy.array(dataY)"
      ],
      "execution_count": null,
      "outputs": []
    },
    {
      "cell_type": "code",
      "metadata": {
        "id": "HbGS_OF4wMHh"
      },
      "source": [
        "time_step = 100\n",
        "X_train, y_train = create_dataset(train_data, time_step)\n",
        "X_test, y_test = create_dataset(test_data, time_step)"
      ],
      "execution_count": null,
      "outputs": []
    },
    {
      "cell_type": "code",
      "metadata": {
        "colab": {
          "base_uri": "https://localhost:8080/"
        },
        "id": "iKr4-5H0we3U",
        "outputId": "55f79d50-8876-4920-9194-97642fd89363"
      },
      "source": [
        "print(X_train)"
      ],
      "execution_count": null,
      "outputs": [
        {
          "output_type": "stream",
          "name": "stdout",
          "text": [
            "[[0.00056372 0.00042574 0.00048488 ... 0.00075294 0.00085937 0.00083966]\n",
            " [0.00042574 0.00048488 0.00048488 ... 0.00085937 0.00083966 0.00083966]\n",
            " [0.00048488 0.00048488 0.00048488 ... 0.00083966 0.00083966 0.00083375]\n",
            " ...\n",
            " [0.34006583 0.34287457 0.34926075 ... 0.35745041 0.36841926 0.36632012]\n",
            " [0.34287457 0.34926075 0.34648158 ... 0.36841926 0.36632012 0.36493053]\n",
            " [0.34926075 0.34648158 0.34272674 ... 0.36632012 0.36493053 0.37619503]]\n"
          ]
        }
      ]
    },
    {
      "cell_type": "code",
      "metadata": {
        "colab": {
          "base_uri": "https://localhost:8080/"
        },
        "id": "BKBYRqekw6pj",
        "outputId": "0d23aac8-fd31-49d9-bc01-ed8386b17fcc"
      },
      "source": [
        "print(X_train.shape), print(y_train.shape)"
      ],
      "execution_count": null,
      "outputs": [
        {
          "output_type": "stream",
          "name": "stdout",
          "text": [
            "(4738, 100)\n",
            "(4738,)\n"
          ]
        },
        {
          "output_type": "execute_result",
          "data": {
            "text/plain": [
              "(None, None)"
            ]
          },
          "metadata": {},
          "execution_count": 23
        }
      ]
    },
    {
      "cell_type": "code",
      "metadata": {
        "colab": {
          "base_uri": "https://localhost:8080/"
        },
        "id": "_sIswsCTwiMV",
        "outputId": "201b3beb-a2ad-443b-9af5-296677241a51"
      },
      "source": [
        "print(X_test.shape), print(y_test.shape)"
      ],
      "execution_count": null,
      "outputs": [
        {
          "output_type": "stream",
          "name": "stdout",
          "text": [
            "(1512, 100)\n",
            "(1512,)\n"
          ]
        },
        {
          "output_type": "execute_result",
          "data": {
            "text/plain": [
              "(None, None)"
            ]
          },
          "metadata": {},
          "execution_count": 24
        }
      ]
    },
    {
      "cell_type": "code",
      "metadata": {
        "id": "2QsJz9xPw92t"
      },
      "source": [
        "X_train =X_train.reshape(X_train.shape[0],X_train.shape[1] , 1)\n",
        "X_test = X_test.reshape(X_test.shape[0],X_test.shape[1] , 1)"
      ],
      "execution_count": null,
      "outputs": []
    },
    {
      "cell_type": "code",
      "metadata": {
        "id": "YY-0K12vytcx"
      },
      "source": [
        "from tensorflow.keras.models import Sequential\n",
        "from tensorflow.keras.layers import Dense\n",
        "from tensorflow.keras.layers import LSTM"
      ],
      "execution_count": null,
      "outputs": []
    },
    {
      "cell_type": "code",
      "metadata": {
        "id": "_V5wKTh7yzKN"
      },
      "source": [
        "model=Sequential()\n",
        "model.add(LSTM(50,return_sequences=True,input_shape=(100,1)))\n",
        "model.add(LSTM(50,return_sequences=True))\n",
        "model.add(LSTM(50))\n",
        "model.add(Dense(1))\n",
        "model.compile(loss='mean_squared_error', optimizer='adam')"
      ],
      "execution_count": null,
      "outputs": []
    },
    {
      "cell_type": "code",
      "metadata": {
        "colab": {
          "base_uri": "https://localhost:8080/"
        },
        "id": "qBPJ3FOXy_H_",
        "outputId": "687be80e-ab93-4839-eb65-1707a090b770"
      },
      "source": [
        "model.summary()"
      ],
      "execution_count": null,
      "outputs": [
        {
          "output_type": "stream",
          "name": "stdout",
          "text": [
            "Model: \"sequential\"\n",
            "_________________________________________________________________\n",
            "Layer (type)                 Output Shape              Param #   \n",
            "=================================================================\n",
            "lstm (LSTM)                  (None, 100, 50)           10400     \n",
            "_________________________________________________________________\n",
            "lstm_1 (LSTM)                (None, 100, 50)           20200     \n",
            "_________________________________________________________________\n",
            "lstm_2 (LSTM)                (None, 50)                20200     \n",
            "_________________________________________________________________\n",
            "dense (Dense)                (None, 1)                 51        \n",
            "=================================================================\n",
            "Total params: 50,851\n",
            "Trainable params: 50,851\n",
            "Non-trainable params: 0\n",
            "_________________________________________________________________\n"
          ]
        }
      ]
    },
    {
      "cell_type": "code",
      "metadata": {
        "colab": {
          "base_uri": "https://localhost:8080/"
        },
        "id": "nVPrvBSvziFh",
        "outputId": "974f6594-8321-4e1a-862b-94bde3fc6f5a"
      },
      "source": [
        "model.fit(X_train, y_train, validation_data=(X_test, y_test), epochs=100, batch_size=64, verbose=1)"
      ],
      "execution_count": null,
      "outputs": [
        {
          "output_type": "stream",
          "name": "stdout",
          "text": [
            "Epoch 1/100\n",
            "75/75 [==============================] - 21s 211ms/step - loss: 0.0020 - val_loss: 0.0017\n",
            "Epoch 2/100\n",
            "75/75 [==============================] - 14s 192ms/step - loss: 2.9779e-04 - val_loss: 0.0018\n",
            "Epoch 3/100\n",
            "75/75 [==============================] - 15s 195ms/step - loss: 2.4133e-04 - val_loss: 0.0014\n",
            "Epoch 4/100\n",
            "75/75 [==============================] - 15s 195ms/step - loss: 2.0061e-04 - val_loss: 0.0011\n",
            "Epoch 5/100\n",
            "75/75 [==============================] - 15s 194ms/step - loss: 1.7961e-04 - val_loss: 0.0020\n",
            "Epoch 6/100\n",
            "75/75 [==============================] - 15s 195ms/step - loss: 1.6147e-04 - val_loss: 0.0019\n",
            "Epoch 7/100\n",
            "75/75 [==============================] - 15s 194ms/step - loss: 1.4622e-04 - val_loss: 0.0012\n",
            "Epoch 8/100\n",
            "75/75 [==============================] - 15s 195ms/step - loss: 1.5554e-04 - val_loss: 0.0013\n",
            "Epoch 9/100\n",
            "75/75 [==============================] - 14s 193ms/step - loss: 1.2480e-04 - val_loss: 8.8274e-04\n",
            "Epoch 10/100\n",
            "75/75 [==============================] - 15s 195ms/step - loss: 1.2126e-04 - val_loss: 0.0014\n",
            "Epoch 11/100\n",
            "75/75 [==============================] - 15s 194ms/step - loss: 1.1859e-04 - val_loss: 5.6171e-04\n",
            "Epoch 12/100\n",
            "75/75 [==============================] - 15s 193ms/step - loss: 1.1503e-04 - val_loss: 0.0035\n",
            "Epoch 13/100\n",
            "75/75 [==============================] - 14s 193ms/step - loss: 1.2661e-04 - val_loss: 5.6939e-04\n",
            "Epoch 14/100\n",
            "75/75 [==============================] - 15s 195ms/step - loss: 1.2031e-04 - val_loss: 0.0011\n",
            "Epoch 15/100\n",
            "75/75 [==============================] - 14s 191ms/step - loss: 1.0809e-04 - val_loss: 6.6347e-04\n",
            "Epoch 16/100\n",
            "75/75 [==============================] - 14s 192ms/step - loss: 1.0144e-04 - val_loss: 8.4392e-04\n",
            "Epoch 17/100\n",
            "75/75 [==============================] - 15s 195ms/step - loss: 1.0028e-04 - val_loss: 7.8047e-04\n",
            "Epoch 18/100\n",
            "75/75 [==============================] - 14s 192ms/step - loss: 9.8573e-05 - val_loss: 0.0018\n",
            "Epoch 19/100\n",
            "75/75 [==============================] - 15s 197ms/step - loss: 1.2231e-04 - val_loss: 4.4646e-04\n",
            "Epoch 20/100\n",
            "75/75 [==============================] - 14s 193ms/step - loss: 9.2337e-05 - val_loss: 5.2671e-04\n",
            "Epoch 21/100\n",
            "75/75 [==============================] - 14s 189ms/step - loss: 9.0286e-05 - val_loss: 0.0012\n",
            "Epoch 22/100\n",
            "75/75 [==============================] - 14s 187ms/step - loss: 8.9263e-05 - val_loss: 0.0021\n",
            "Epoch 23/100\n",
            "75/75 [==============================] - 14s 190ms/step - loss: 1.2854e-04 - val_loss: 0.0013\n",
            "Epoch 24/100\n",
            "75/75 [==============================] - 15s 196ms/step - loss: 7.4947e-05 - val_loss: 9.0929e-04\n",
            "Epoch 25/100\n",
            "75/75 [==============================] - 15s 194ms/step - loss: 7.3565e-05 - val_loss: 7.4573e-04\n",
            "Epoch 26/100\n",
            "75/75 [==============================] - 15s 194ms/step - loss: 7.0239e-05 - val_loss: 7.0041e-04\n",
            "Epoch 27/100\n",
            "75/75 [==============================] - 15s 194ms/step - loss: 6.1591e-05 - val_loss: 5.6078e-04\n",
            "Epoch 28/100\n",
            "75/75 [==============================] - 15s 193ms/step - loss: 5.7148e-05 - val_loss: 4.3670e-04\n",
            "Epoch 29/100\n",
            "75/75 [==============================] - 14s 191ms/step - loss: 5.5129e-05 - val_loss: 6.3988e-04\n",
            "Epoch 30/100\n",
            "75/75 [==============================] - 15s 197ms/step - loss: 5.0364e-05 - val_loss: 6.8051e-04\n",
            "Epoch 31/100\n",
            "75/75 [==============================] - 15s 197ms/step - loss: 4.8753e-05 - val_loss: 6.2991e-04\n",
            "Epoch 32/100\n",
            "75/75 [==============================] - 15s 197ms/step - loss: 4.2855e-05 - val_loss: 7.0416e-04\n",
            "Epoch 33/100\n",
            "75/75 [==============================] - 15s 195ms/step - loss: 3.8528e-05 - val_loss: 5.0573e-04\n",
            "Epoch 34/100\n",
            "75/75 [==============================] - 15s 195ms/step - loss: 3.5976e-05 - val_loss: 5.8510e-04\n",
            "Epoch 35/100\n",
            "75/75 [==============================] - 15s 195ms/step - loss: 3.4685e-05 - val_loss: 4.3825e-04\n",
            "Epoch 36/100\n",
            "75/75 [==============================] - 14s 193ms/step - loss: 3.4102e-05 - val_loss: 5.8955e-04\n",
            "Epoch 37/100\n",
            "75/75 [==============================] - 15s 194ms/step - loss: 3.6556e-05 - val_loss: 0.0010\n",
            "Epoch 38/100\n",
            "75/75 [==============================] - 15s 194ms/step - loss: 3.2934e-05 - val_loss: 7.4319e-04\n",
            "Epoch 39/100\n",
            "75/75 [==============================] - 15s 195ms/step - loss: 3.1098e-05 - val_loss: 3.9126e-04\n",
            "Epoch 40/100\n",
            "75/75 [==============================] - 15s 195ms/step - loss: 4.1440e-05 - val_loss: 3.2084e-04\n",
            "Epoch 41/100\n",
            "75/75 [==============================] - 15s 194ms/step - loss: 3.0414e-05 - val_loss: 8.6255e-04\n",
            "Epoch 42/100\n",
            "75/75 [==============================] - 14s 193ms/step - loss: 2.9340e-05 - val_loss: 3.3704e-04\n",
            "Epoch 43/100\n",
            "75/75 [==============================] - 15s 194ms/step - loss: 3.2442e-05 - val_loss: 4.3725e-04\n",
            "Epoch 44/100\n",
            "75/75 [==============================] - 15s 193ms/step - loss: 2.9323e-05 - val_loss: 6.3075e-04\n",
            "Epoch 45/100\n",
            "75/75 [==============================] - 15s 196ms/step - loss: 3.0480e-05 - val_loss: 4.2882e-04\n",
            "Epoch 46/100\n",
            "75/75 [==============================] - 15s 194ms/step - loss: 2.8507e-05 - val_loss: 2.6770e-04\n",
            "Epoch 47/100\n",
            "75/75 [==============================] - 15s 194ms/step - loss: 3.0079e-05 - val_loss: 3.9737e-04\n",
            "Epoch 48/100\n",
            "75/75 [==============================] - 15s 194ms/step - loss: 2.7767e-05 - val_loss: 2.4674e-04\n",
            "Epoch 49/100\n",
            "75/75 [==============================] - 14s 193ms/step - loss: 2.7875e-05 - val_loss: 4.8593e-04\n",
            "Epoch 50/100\n",
            "75/75 [==============================] - 15s 194ms/step - loss: 2.8379e-05 - val_loss: 3.5193e-04\n",
            "Epoch 51/100\n",
            "75/75 [==============================] - 15s 195ms/step - loss: 2.8093e-05 - val_loss: 3.9042e-04\n",
            "Epoch 52/100\n",
            "75/75 [==============================] - 15s 199ms/step - loss: 2.9519e-05 - val_loss: 3.1422e-04\n",
            "Epoch 53/100\n",
            "75/75 [==============================] - 15s 197ms/step - loss: 2.9504e-05 - val_loss: 2.9753e-04\n",
            "Epoch 54/100\n",
            "75/75 [==============================] - 15s 197ms/step - loss: 2.6084e-05 - val_loss: 3.9632e-04\n",
            "Epoch 55/100\n",
            "75/75 [==============================] - 15s 194ms/step - loss: 3.1791e-05 - val_loss: 2.3730e-04\n",
            "Epoch 56/100\n",
            "75/75 [==============================] - 15s 195ms/step - loss: 2.8958e-05 - val_loss: 3.7875e-04\n",
            "Epoch 57/100\n",
            "75/75 [==============================] - 15s 194ms/step - loss: 2.7437e-05 - val_loss: 3.1470e-04\n",
            "Epoch 58/100\n",
            "75/75 [==============================] - 15s 194ms/step - loss: 2.9699e-05 - val_loss: 5.3750e-04\n",
            "Epoch 59/100\n",
            "75/75 [==============================] - 15s 194ms/step - loss: 2.6046e-05 - val_loss: 2.7272e-04\n",
            "Epoch 60/100\n",
            "75/75 [==============================] - 15s 195ms/step - loss: 3.2042e-05 - val_loss: 3.5295e-04\n",
            "Epoch 61/100\n",
            "75/75 [==============================] - 14s 193ms/step - loss: 2.6347e-05 - val_loss: 4.7532e-04\n",
            "Epoch 62/100\n",
            "75/75 [==============================] - 15s 193ms/step - loss: 2.5278e-05 - val_loss: 2.5033e-04\n",
            "Epoch 63/100\n",
            "75/75 [==============================] - 14s 193ms/step - loss: 2.8396e-05 - val_loss: 4.1500e-04\n",
            "Epoch 64/100\n",
            "75/75 [==============================] - 14s 193ms/step - loss: 2.5454e-05 - val_loss: 3.7742e-04\n",
            "Epoch 65/100\n",
            "75/75 [==============================] - 15s 194ms/step - loss: 2.6565e-05 - val_loss: 4.2980e-04\n",
            "Epoch 66/100\n",
            "75/75 [==============================] - 15s 194ms/step - loss: 2.7188e-05 - val_loss: 3.4383e-04\n",
            "Epoch 67/100\n",
            "75/75 [==============================] - 15s 196ms/step - loss: 2.9928e-05 - val_loss: 8.7296e-04\n",
            "Epoch 68/100\n",
            "75/75 [==============================] - 15s 194ms/step - loss: 3.2858e-05 - val_loss: 4.4593e-04\n",
            "Epoch 69/100\n",
            "75/75 [==============================] - 14s 193ms/step - loss: 2.5529e-05 - val_loss: 2.4851e-04\n",
            "Epoch 70/100\n",
            "75/75 [==============================] - 15s 195ms/step - loss: 2.7222e-05 - val_loss: 4.8529e-04\n",
            "Epoch 71/100\n",
            "75/75 [==============================] - 15s 194ms/step - loss: 2.7664e-05 - val_loss: 3.0085e-04\n",
            "Epoch 72/100\n",
            "75/75 [==============================] - 15s 195ms/step - loss: 2.7298e-05 - val_loss: 6.0576e-04\n",
            "Epoch 73/100\n",
            "75/75 [==============================] - 15s 196ms/step - loss: 2.6498e-05 - val_loss: 5.7741e-04\n",
            "Epoch 74/100\n",
            "75/75 [==============================] - 15s 196ms/step - loss: 2.7697e-05 - val_loss: 2.3306e-04\n",
            "Epoch 75/100\n",
            "75/75 [==============================] - 15s 199ms/step - loss: 2.6634e-05 - val_loss: 4.5016e-04\n",
            "Epoch 76/100\n",
            "75/75 [==============================] - 15s 194ms/step - loss: 2.6595e-05 - val_loss: 2.9316e-04\n",
            "Epoch 77/100\n",
            "75/75 [==============================] - 14s 193ms/step - loss: 2.7556e-05 - val_loss: 2.4235e-04\n",
            "Epoch 78/100\n",
            "75/75 [==============================] - 14s 193ms/step - loss: 2.8337e-05 - val_loss: 4.3671e-04\n",
            "Epoch 79/100\n",
            "75/75 [==============================] - 15s 194ms/step - loss: 2.6162e-05 - val_loss: 3.6988e-04\n",
            "Epoch 80/100\n",
            "75/75 [==============================] - 15s 195ms/step - loss: 3.8795e-05 - val_loss: 5.9054e-04\n",
            "Epoch 81/100\n",
            "75/75 [==============================] - 15s 198ms/step - loss: 2.6062e-05 - val_loss: 7.2772e-04\n",
            "Epoch 82/100\n",
            "75/75 [==============================] - 14s 193ms/step - loss: 2.6121e-05 - val_loss: 2.9700e-04\n",
            "Epoch 83/100\n",
            "75/75 [==============================] - 15s 195ms/step - loss: 2.6260e-05 - val_loss: 4.4401e-04\n",
            "Epoch 84/100\n",
            "75/75 [==============================] - 14s 193ms/step - loss: 2.7712e-05 - val_loss: 7.1837e-04\n",
            "Epoch 85/100\n",
            "75/75 [==============================] - 14s 193ms/step - loss: 3.3409e-05 - val_loss: 6.3104e-04\n",
            "Epoch 86/100\n",
            "75/75 [==============================] - 15s 194ms/step - loss: 2.6502e-05 - val_loss: 4.5844e-04\n",
            "Epoch 87/100\n",
            "75/75 [==============================] - 14s 193ms/step - loss: 2.4850e-05 - val_loss: 2.9606e-04\n",
            "Epoch 88/100\n",
            "75/75 [==============================] - 15s 196ms/step - loss: 2.5644e-05 - val_loss: 7.5524e-04\n",
            "Epoch 89/100\n",
            "75/75 [==============================] - 15s 195ms/step - loss: 2.5919e-05 - val_loss: 3.8646e-04\n",
            "Epoch 90/100\n",
            "75/75 [==============================] - 15s 194ms/step - loss: 2.6116e-05 - val_loss: 3.3438e-04\n",
            "Epoch 91/100\n",
            "75/75 [==============================] - 14s 193ms/step - loss: 2.9648e-05 - val_loss: 3.7598e-04\n",
            "Epoch 92/100\n",
            "75/75 [==============================] - 15s 194ms/step - loss: 3.1895e-05 - val_loss: 5.2372e-04\n",
            "Epoch 93/100\n",
            "75/75 [==============================] - 15s 196ms/step - loss: 2.5180e-05 - val_loss: 3.2961e-04\n",
            "Epoch 94/100\n",
            "75/75 [==============================] - 15s 194ms/step - loss: 2.9195e-05 - val_loss: 4.4786e-04\n",
            "Epoch 95/100\n",
            "75/75 [==============================] - 15s 195ms/step - loss: 2.5711e-05 - val_loss: 4.0030e-04\n",
            "Epoch 96/100\n",
            "75/75 [==============================] - 15s 198ms/step - loss: 2.6986e-05 - val_loss: 5.8584e-04\n",
            "Epoch 97/100\n",
            "75/75 [==============================] - 15s 199ms/step - loss: 2.3640e-05 - val_loss: 5.1340e-04\n",
            "Epoch 98/100\n",
            "75/75 [==============================] - 15s 195ms/step - loss: 2.6032e-05 - val_loss: 4.0402e-04\n",
            "Epoch 99/100\n",
            "75/75 [==============================] - 15s 194ms/step - loss: 2.5205e-05 - val_loss: 4.8752e-04\n",
            "Epoch 100/100\n",
            "75/75 [==============================] - 15s 196ms/step - loss: 2.4465e-05 - val_loss: 5.4825e-04\n"
          ]
        },
        {
          "output_type": "execute_result",
          "data": {
            "text/plain": [
              "<keras.callbacks.History at 0x7fd87d804650>"
            ]
          },
          "metadata": {},
          "execution_count": 29
        }
      ]
    },
    {
      "cell_type": "code",
      "metadata": {
        "id": "u82EsQ4a0c-2"
      },
      "source": [
        "import tensorflow as tf"
      ],
      "execution_count": null,
      "outputs": []
    },
    {
      "cell_type": "code",
      "metadata": {
        "colab": {
          "base_uri": "https://localhost:8080/",
          "height": 37
        },
        "id": "xZH6Ysln0llD",
        "outputId": "073193bb-2be4-46e5-e664-9999bc05e7e2"
      },
      "source": [
        "tf.__version__"
      ],
      "execution_count": null,
      "outputs": [
        {
          "output_type": "execute_result",
          "data": {
            "application/vnd.google.colaboratory.intrinsic+json": {
              "type": "string"
            },
            "text/plain": [
              "'2.6.0'"
            ]
          },
          "metadata": {},
          "execution_count": 31
        }
      ]
    },
    {
      "cell_type": "code",
      "metadata": {
        "id": "fjDIwcMH0ngp"
      },
      "source": [
        "### Lets Do the prediction and check performance metrics\n",
        "train_predict=model.predict(X_train)\n",
        "test_predict=model.predict(X_test)"
      ],
      "execution_count": null,
      "outputs": []
    },
    {
      "cell_type": "code",
      "metadata": {
        "id": "pnW1sUZW0pbC"
      },
      "source": [
        "##Transformback to original form\n",
        "train_predict=scaler.inverse_transform(train_predict)\n",
        "test_predict=scaler.inverse_transform(test_predict)"
      ],
      "execution_count": null,
      "outputs": []
    },
    {
      "cell_type": "code",
      "metadata": {
        "colab": {
          "base_uri": "https://localhost:8080/"
        },
        "id": "oewqwI3j0rJj",
        "outputId": "001df8c1-1280-4eb8-ed88-6f4ad4177a48"
      },
      "source": [
        "### Calculate RMSE performance metrics\n",
        "import math\n",
        "from sklearn.metrics import mean_squared_error\n",
        "math.sqrt(mean_squared_error(y_train,train_predict))"
      ],
      "execution_count": null,
      "outputs": [
        {
          "output_type": "execute_result",
          "data": {
            "text/plain": [
              "109.0233041201508"
            ]
          },
          "metadata": {},
          "execution_count": 34
        }
      ]
    },
    {
      "cell_type": "code",
      "metadata": {
        "colab": {
          "base_uri": "https://localhost:8080/"
        },
        "id": "yV7wtOxU0thE",
        "outputId": "9db390ab-890c-48ad-80c3-23cc609d8dcd"
      },
      "source": [
        "### Test Data RMSE\n",
        "math.sqrt(mean_squared_error(y_test,test_predict))"
      ],
      "execution_count": null,
      "outputs": [
        {
          "output_type": "execute_result",
          "data": {
            "text/plain": [
              "262.48558026750237"
            ]
          },
          "metadata": {},
          "execution_count": 35
        }
      ]
    },
    {
      "cell_type": "code",
      "metadata": {
        "colab": {
          "base_uri": "https://localhost:8080/",
          "height": 452
        },
        "id": "b2O9FdYN03ec",
        "outputId": "22e60a71-5240-4c6a-8d43-fa1dec7161c7"
      },
      "source": [
        "### Plotting \n",
        "# shift train predictions for plotting\n",
        "look_back=100\n",
        "trainPredictPlot = numpy.empty_like(df1)\n",
        "trainPredictPlot[:, :] = np.nan\n",
        "trainPredictPlot[look_back:len(train_predict)+look_back, :] = train_predict\n",
        "# shift test predictions for plotting\n",
        "testPredictPlot = numpy.empty_like(df1)\n",
        "testPredictPlot[:, :] = numpy.nan\n",
        "testPredictPlot[len(train_predict)+(look_back*2)+1:len(df1)-1, :] = test_predict\n",
        "# plot baseline and predictions\n",
        "plt.plot(scaler.inverse_transform(df1))\n",
        "plt.plot(trainPredictPlot)\n",
        "plt.plot(testPredictPlot)\n",
        "plt.title('Wipro Train Test Split')\n",
        "plt.show()"
      ],
      "execution_count": null,
      "outputs": [
        {
          "output_type": "display_data",
          "data": {
            "image/png": "[encoded data removed]",
            "text/plain": [
              "<Figure size 640x480 with 1 Axes>"
            ]
          },
          "metadata": {}
        }
      ]
    },
    {
      "cell_type": "code",
      "metadata": {
        "colab": {
          "base_uri": "https://localhost:8080/"
        },
        "id": "XJDVfIMk05WN",
        "outputId": "c4297117-3157-41aa-f2d3-1f0efe94a1a0"
      },
      "source": [
        "len(test_data)"
      ],
      "execution_count": null,
      "outputs": [
        {
          "output_type": "execute_result",
          "data": {
            "text/plain": [
              "1613"
            ]
          },
          "metadata": {},
          "execution_count": 37
        }
      ]
    },
    {
      "cell_type": "code",
      "metadata": {
        "colab": {
          "base_uri": "https://localhost:8080/"
        },
        "id": "faLcUIDr08mi",
        "outputId": "c82504da-6290-4adf-a65a-c0b75e53475b"
      },
      "source": [
        "x_input=test_data[1513:].reshape(1,-1)\n",
        "x_input.shape"
      ],
      "execution_count": null,
      "outputs": [
        {
          "output_type": "execute_result",
          "data": {
            "text/plain": [
              "(1, 100)"
            ]
          },
          "metadata": {},
          "execution_count": 41
        }
      ]
    },
    {
      "cell_type": "code",
      "metadata": {
        "id": "7oKtWwxZ09IM"
      },
      "source": [
        "temp_input=list(x_input)\n",
        "temp_input=temp_input[0].tolist()"
      ],
      "execution_count": null,
      "outputs": []
    },
    {
      "cell_type": "code",
      "metadata": {
        "colab": {
          "base_uri": "https://localhost:8080/"
        },
        "id": "Nm8nnIo809lO",
        "outputId": "9b42537e-984e-4b84-d92a-2ba3fc273021"
      },
      "source": [
        "# demonstrate prediction for next 30 days\n",
        "from numpy import array\n",
        "\n",
        "lst_output=[]\n",
        "n_steps=100\n",
        "i=0\n",
        "while(i<30):\n",
        "    \n",
        "    if(len(temp_input)>100):\n",
        "        #print(temp_input)\n",
        "        x_input=np.array(temp_input[1:])\n",
        "        print(\"{} day input {}\".format(i,x_input))\n",
        "        x_input=x_input.reshape(1,-1)\n",
        "        x_input = x_input.reshape((1, n_steps, 1))\n",
        "        #print(x_input)\n",
        "        yhat = model.predict(x_input, verbose=0)\n",
        "        print(\"{} day output {}\".format(i,yhat))\n",
        "        temp_input.extend(yhat[0].tolist())\n",
        "        temp_input=temp_input[1:]\n",
        "        #print(temp_input)\n",
        "        lst_output.extend(yhat.tolist())\n",
        "        i=i+1\n",
        "    else:\n",
        "        x_input = x_input.reshape((1, n_steps,1))\n",
        "        yhat = model.predict(x_input, verbose=0)\n",
        "        print(yhat[0])\n",
        "        temp_input.extend(yhat[0].tolist())\n",
        "        print(len(temp_input))\n",
        "        lst_output.extend(yhat.tolist())\n",
        "        i=i+1\n",
        "    \n",
        "\n",
        "print(lst_output)"
      ],
      "execution_count": null,
      "outputs": [
        {
          "output_type": "stream",
          "name": "stdout",
          "text": [
            "[0.8919939]\n",
            "101\n",
            "1 day input [0.67233405 0.68944269 0.69590772 0.70852239 0.68092781 0.65940404\n",
            " 0.67793183 0.73863991 0.74423765 0.74005905 0.76615562 0.74888932\n",
            " 0.75614272 0.76363267 0.77033422 0.7712015  0.77577431 0.76725942\n",
            " 0.75874453 0.77238413 0.80660138 0.81125305 0.82812519 0.81622012\n",
            " 0.79919029 0.78476228 0.78689096 0.79989984 0.80557645 0.80021522\n",
            " 0.80723215 0.8107012  0.81487975 0.83017505 0.85169886 0.84822981\n",
            " 0.84878166 0.85469479 0.85501017 0.84878166 0.85217189 0.86328855\n",
            " 0.86699407 0.85690239 0.87274955 0.87282837 0.88433923 0.87850503\n",
            " 0.87432638 0.87976647 0.86573262 0.8536699  0.87637624 0.85051624\n",
            " 0.86455    0.86210592 0.86194828 0.8543794  0.85918882 0.8492547\n",
            " 0.84807207 0.8445242  0.83861107 0.83790157 0.83608818 0.82788863\n",
            " 0.82796745 0.82639061 0.88449697 0.90688802 0.90980513 0.90357662\n",
            " 0.89458865 0.91997572 0.94354939 0.92983093 0.93140776 0.93219618\n",
            " 0.92983093 0.92462739 0.93266921 0.9439436  0.93984378 0.94630885\n",
            " 0.941736   0.93984378 0.95096043 0.9468607  0.9541141  0.96933058\n",
            " 0.96704415 0.99992118 0.9912486  0.97650515 0.99038126 0.9977924\n",
            " 0.99479647 0.990539   1.         0.89199388]\n",
            "1 day output [[0.72597194]]\n",
            "2 day input [0.68944269 0.69590772 0.70852239 0.68092781 0.65940404 0.67793183\n",
            " 0.73863991 0.74423765 0.74005905 0.76615562 0.74888932 0.75614272\n",
            " 0.76363267 0.77033422 0.7712015  0.77577431 0.76725942 0.75874453\n",
            " 0.77238413 0.80660138 0.81125305 0.82812519 0.81622012 0.79919029\n",
            " 0.78476228 0.78689096 0.79989984 0.80557645 0.80021522 0.80723215\n",
            " 0.8107012  0.81487975 0.83017505 0.85169886 0.84822981 0.84878166\n",
            " 0.85469479 0.85501017 0.84878166 0.85217189 0.86328855 0.86699407\n",
            " 0.85690239 0.87274955 0.87282837 0.88433923 0.87850503 0.87432638\n",
            " 0.87976647 0.86573262 0.8536699  0.87637624 0.85051624 0.86455\n",
            " 0.86210592 0.86194828 0.8543794  0.85918882 0.8492547  0.84807207\n",
            " 0.8445242  0.83861107 0.83790157 0.83608818 0.82788863 0.82796745\n",
            " 0.82639061 0.88449697 0.90688802 0.90980513 0.90357662 0.89458865\n",
            " 0.91997572 0.94354939 0.92983093 0.93140776 0.93219618 0.92983093\n",
            " 0.92462739 0.93266921 0.9439436  0.93984378 0.94630885 0.941736\n",
            " 0.93984378 0.95096043 0.9468607  0.9541141  0.96933058 0.96704415\n",
            " 0.99992118 0.9912486  0.97650515 0.99038126 0.9977924  0.99479647\n",
            " 0.990539   1.         0.89199388 0.72597194]\n",
            "2 day output [[0.56683266]]\n",
            "3 day input [0.69590772 0.70852239 0.68092781 0.65940404 0.67793183 0.73863991\n",
            " 0.74423765 0.74005905 0.76615562 0.74888932 0.75614272 0.76363267\n",
            " 0.77033422 0.7712015  0.77577431 0.76725942 0.75874453 0.77238413\n",
            " 0.80660138 0.81125305 0.82812519 0.81622012 0.79919029 0.78476228\n",
            " 0.78689096 0.79989984 0.80557645 0.80021522 0.80723215 0.8107012\n",
            " 0.81487975 0.83017505 0.85169886 0.84822981 0.84878166 0.85469479\n",
            " 0.85501017 0.84878166 0.85217189 0.86328855 0.86699407 0.85690239\n",
            " 0.87274955 0.87282837 0.88433923 0.87850503 0.87432638 0.87976647\n",
            " 0.86573262 0.8536699  0.87637624 0.85051624 0.86455    0.86210592\n",
            " 0.86194828 0.8543794  0.85918882 0.8492547  0.84807207 0.8445242\n",
            " 0.83861107 0.83790157 0.83608818 0.82788863 0.82796745 0.82639061\n",
            " 0.88449697 0.90688802 0.90980513 0.90357662 0.89458865 0.91997572\n",
            " 0.94354939 0.92983093 0.93140776 0.93219618 0.92983093 0.92462739\n",
            " 0.93266921 0.9439436  0.93984378 0.94630885 0.941736   0.93984378\n",
            " 0.95096043 0.9468607  0.9541141  0.96933058 0.96704415 0.99992118\n",
            " 0.9912486  0.97650515 0.99038126 0.9977924  0.99479647 0.990539\n",
            " 1.         0.89199388 0.72597194 0.56683266]\n",
            "3 day output [[0.46518558]]\n",
            "4 day input [0.70852239 0.68092781 0.65940404 0.67793183 0.73863991 0.74423765\n",
            " 0.74005905 0.76615562 0.74888932 0.75614272 0.76363267 0.77033422\n",
            " 0.7712015  0.77577431 0.76725942 0.75874453 0.77238413 0.80660138\n",
            " 0.81125305 0.82812519 0.81622012 0.79919029 0.78476228 0.78689096\n",
            " 0.79989984 0.80557645 0.80021522 0.80723215 0.8107012  0.81487975\n",
            " 0.83017505 0.85169886 0.84822981 0.84878166 0.85469479 0.85501017\n",
            " 0.84878166 0.85217189 0.86328855 0.86699407 0.85690239 0.87274955\n",
            " 0.87282837 0.88433923 0.87850503 0.87432638 0.87976647 0.86573262\n",
            " 0.8536699  0.87637624 0.85051624 0.86455    0.86210592 0.86194828\n",
            " 0.8543794  0.85918882 0.8492547  0.84807207 0.8445242  0.83861107\n",
            " 0.83790157 0.83608818 0.82788863 0.82796745 0.82639061 0.88449697\n",
            " 0.90688802 0.90980513 0.90357662 0.89458865 0.91997572 0.94354939\n",
            " 0.92983093 0.93140776 0.93219618 0.92983093 0.92462739 0.93266921\n",
            " 0.9439436  0.93984378 0.94630885 0.941736   0.93984378 0.95096043\n",
            " 0.9468607  0.9541141  0.96933058 0.96704415 0.99992118 0.9912486\n",
            " 0.97650515 0.99038126 0.9977924  0.99479647 0.990539   1.\n",
            " 0.89199388 0.72597194 0.56683266 0.46518558]\n",
            "4 day output [[0.42810854]]\n",
            "5 day input [0.68092781 0.65940404 0.67793183 0.73863991 0.74423765 0.74005905\n",
            " 0.76615562 0.74888932 0.75614272 0.76363267 0.77033422 0.7712015\n",
            " 0.77577431 0.76725942 0.75874453 0.77238413 0.80660138 0.81125305\n",
            " 0.82812519 0.81622012 0.79919029 0.78476228 0.78689096 0.79989984\n",
            " 0.80557645 0.80021522 0.80723215 0.8107012  0.81487975 0.83017505\n",
            " 0.85169886 0.84822981 0.84878166 0.85469479 0.85501017 0.84878166\n",
            " 0.85217189 0.86328855 0.86699407 0.85690239 0.87274955 0.87282837\n",
            " 0.88433923 0.87850503 0.87432638 0.87976647 0.86573262 0.8536699\n",
            " 0.87637624 0.85051624 0.86455    0.86210592 0.86194828 0.8543794\n",
            " 0.85918882 0.8492547  0.84807207 0.8445242  0.83861107 0.83790157\n",
            " 0.83608818 0.82788863 0.82796745 0.82639061 0.88449697 0.90688802\n",
            " 0.90980513 0.90357662 0.89458865 0.91997572 0.94354939 0.92983093\n",
            " 0.93140776 0.93219618 0.92983093 0.92462739 0.93266921 0.9439436\n",
            " 0.93984378 0.94630885 0.941736   0.93984378 0.95096043 0.9468607\n",
            " 0.9541141  0.96933058 0.96704415 0.99992118 0.9912486  0.97650515\n",
            " 0.99038126 0.9977924  0.99479647 0.990539   1.         0.89199388\n",
            " 0.72597194 0.56683266 0.46518558 0.42810854]\n",
            "5 day output [[0.42914575]]\n",
            "6 day input [0.65940404 0.67793183 0.73863991 0.74423765 0.74005905 0.76615562\n",
            " 0.74888932 0.75614272 0.76363267 0.77033422 0.7712015  0.77577431\n",
            " 0.76725942 0.75874453 0.77238413 0.80660138 0.81125305 0.82812519\n",
            " 0.81622012 0.79919029 0.78476228 0.78689096 0.79989984 0.80557645\n",
            " 0.80021522 0.80723215 0.8107012  0.81487975 0.83017505 0.85169886\n",
            " 0.84822981 0.84878166 0.85469479 0.85501017 0.84878166 0.85217189\n",
            " 0.86328855 0.86699407 0.85690239 0.87274955 0.87282837 0.88433923\n",
            " 0.87850503 0.87432638 0.87976647 0.86573262 0.8536699  0.87637624\n",
            " 0.85051624 0.86455    0.86210592 0.86194828 0.8543794  0.85918882\n",
            " 0.8492547  0.84807207 0.8445242  0.83861107 0.83790157 0.83608818\n",
            " 0.82788863 0.82796745 0.82639061 0.88449697 0.90688802 0.90980513\n",
            " 0.90357662 0.89458865 0.91997572 0.94354939 0.92983093 0.93140776\n",
            " 0.93219618 0.92983093 0.92462739 0.93266921 0.9439436  0.93984378\n",
            " 0.94630885 0.941736   0.93984378 0.95096043 0.9468607  0.9541141\n",
            " 0.96933058 0.96704415 0.99992118 0.9912486  0.97650515 0.99038126\n",
            " 0.9977924  0.99479647 0.990539   1.         0.89199388 0.72597194\n",
            " 0.56683266 0.46518558 0.42810854 0.42914575]\n",
            "6 day output [[0.4419193]]\n",
            "7 day input [0.67793183 0.73863991 0.74423765 0.74005905 0.76615562 0.74888932\n",
            " 0.75614272 0.76363267 0.77033422 0.7712015  0.77577431 0.76725942\n",
            " 0.75874453 0.77238413 0.80660138 0.81125305 0.82812519 0.81622012\n",
            " 0.79919029 0.78476228 0.78689096 0.79989984 0.80557645 0.80021522\n",
            " 0.80723215 0.8107012  0.81487975 0.83017505 0.85169886 0.84822981\n",
            " 0.84878166 0.85469479 0.85501017 0.84878166 0.85217189 0.86328855\n",
            " 0.86699407 0.85690239 0.87274955 0.87282837 0.88433923 0.87850503\n",
            " 0.87432638 0.87976647 0.86573262 0.8536699  0.87637624 0.85051624\n",
            " 0.86455    0.86210592 0.86194828 0.8543794  0.85918882 0.8492547\n",
            " 0.84807207 0.8445242  0.83861107 0.83790157 0.83608818 0.82788863\n",
            " 0.82796745 0.82639061 0.88449697 0.90688802 0.90980513 0.90357662\n",
            " 0.89458865 0.91997572 0.94354939 0.92983093 0.93140776 0.93219618\n",
            " 0.92983093 0.92462739 0.93266921 0.9439436  0.93984378 0.94630885\n",
            " 0.941736   0.93984378 0.95096043 0.9468607  0.9541141  0.96933058\n",
            " 0.96704415 0.99992118 0.9912486  0.97650515 0.99038126 0.9977924\n",
            " 0.99479647 0.990539   1.         0.89199388 0.72597194 0.56683266\n",
            " 0.46518558 0.42810854 0.42914575 0.4419193 ]\n",
            "7 day output [[0.45174193]]\n",
            "8 day input [0.73863991 0.74423765 0.74005905 0.76615562 0.74888932 0.75614272\n",
            " 0.76363267 0.77033422 0.7712015  0.77577431 0.76725942 0.75874453\n",
            " 0.77238413 0.80660138 0.81125305 0.82812519 0.81622012 0.79919029\n",
            " 0.78476228 0.78689096 0.79989984 0.80557645 0.80021522 0.80723215\n",
            " 0.8107012  0.81487975 0.83017505 0.85169886 0.84822981 0.84878166\n",
            " 0.85469479 0.85501017 0.84878166 0.85217189 0.86328855 0.86699407\n",
            " 0.85690239 0.87274955 0.87282837 0.88433923 0.87850503 0.87432638\n",
            " 0.87976647 0.86573262 0.8536699  0.87637624 0.85051624 0.86455\n",
            " 0.86210592 0.86194828 0.8543794  0.85918882 0.8492547  0.84807207\n",
            " 0.8445242  0.83861107 0.83790157 0.83608818 0.82788863 0.82796745\n",
            " 0.82639061 0.88449697 0.90688802 0.90980513 0.90357662 0.89458865\n",
            " 0.91997572 0.94354939 0.92983093 0.93140776 0.93219618 0.92983093\n",
            " 0.92462739 0.93266921 0.9439436  0.93984378 0.94630885 0.941736\n",
            " 0.93984378 0.95096043 0.9468607  0.9541141  0.96933058 0.96704415\n",
            " 0.99992118 0.9912486  0.97650515 0.99038126 0.9977924  0.99479647\n",
            " 0.990539   1.         0.89199388 0.72597194 0.56683266 0.46518558\n",
            " 0.42810854 0.42914575 0.4419193  0.45174193]\n",
            "8 day output [[0.4524043]]\n",
            "9 day input [0.74423765 0.74005905 0.76615562 0.74888932 0.75614272 0.76363267\n",
            " 0.77033422 0.7712015  0.77577431 0.76725942 0.75874453 0.77238413\n",
            " 0.80660138 0.81125305 0.82812519 0.81622012 0.79919029 0.78476228\n",
            " 0.78689096 0.79989984 0.80557645 0.80021522 0.80723215 0.8107012\n",
            " 0.81487975 0.83017505 0.85169886 0.84822981 0.84878166 0.85469479\n",
            " 0.85501017 0.84878166 0.85217189 0.86328855 0.86699407 0.85690239\n",
            " 0.87274955 0.87282837 0.88433923 0.87850503 0.87432638 0.87976647\n",
            " 0.86573262 0.8536699  0.87637624 0.85051624 0.86455    0.86210592\n",
            " 0.86194828 0.8543794  0.85918882 0.8492547  0.84807207 0.8445242\n",
            " 0.83861107 0.83790157 0.83608818 0.82788863 0.82796745 0.82639061\n",
            " 0.88449697 0.90688802 0.90980513 0.90357662 0.89458865 0.91997572\n",
            " 0.94354939 0.92983093 0.93140776 0.93219618 0.92983093 0.92462739\n",
            " 0.93266921 0.9439436  0.93984378 0.94630885 0.941736   0.93984378\n",
            " 0.95096043 0.9468607  0.9541141  0.96933058 0.96704415 0.99992118\n",
            " 0.9912486  0.97650515 0.99038126 0.9977924  0.99479647 0.990539\n",
            " 1.         0.89199388 0.72597194 0.56683266 0.46518558 0.42810854\n",
            " 0.42914575 0.4419193  0.45174193 0.45240429]\n",
            "9 day output [[0.44262275]]\n",
            "10 day input [0.74005905 0.76615562 0.74888932 0.75614272 0.76363267 0.77033422\n",
            " 0.7712015  0.77577431 0.76725942 0.75874453 0.77238413 0.80660138\n",
            " 0.81125305 0.82812519 0.81622012 0.79919029 0.78476228 0.78689096\n",
            " 0.79989984 0.80557645 0.80021522 0.80723215 0.8107012  0.81487975\n",
            " 0.83017505 0.85169886 0.84822981 0.84878166 0.85469479 0.85501017\n",
            " 0.84878166 0.85217189 0.86328855 0.86699407 0.85690239 0.87274955\n",
            " 0.87282837 0.88433923 0.87850503 0.87432638 0.87976647 0.86573262\n",
            " 0.8536699  0.87637624 0.85051624 0.86455    0.86210592 0.86194828\n",
            " 0.8543794  0.85918882 0.8492547  0.84807207 0.8445242  0.83861107\n",
            " 0.83790157 0.83608818 0.82788863 0.82796745 0.82639061 0.88449697\n",
            " 0.90688802 0.90980513 0.90357662 0.89458865 0.91997572 0.94354939\n",
            " 0.92983093 0.93140776 0.93219618 0.92983093 0.92462739 0.93266921\n",
            " 0.9439436  0.93984378 0.94630885 0.941736   0.93984378 0.95096043\n",
            " 0.9468607  0.9541141  0.96933058 0.96704415 0.99992118 0.9912486\n",
            " 0.97650515 0.99038126 0.9977924  0.99479647 0.990539   1.\n",
            " 0.89199388 0.72597194 0.56683266 0.46518558 0.42810854 0.42914575\n",
            " 0.4419193  0.45174193 0.45240429 0.44262275]\n",
            "10 day output [[0.4242723]]\n",
            "11 day input [0.76615562 0.74888932 0.75614272 0.76363267 0.77033422 0.7712015\n",
            " 0.77577431 0.76725942 0.75874453 0.77238413 0.80660138 0.81125305\n",
            " 0.82812519 0.81622012 0.79919029 0.78476228 0.78689096 0.79989984\n",
            " 0.80557645 0.80021522 0.80723215 0.8107012  0.81487975 0.83017505\n",
            " 0.85169886 0.84822981 0.84878166 0.85469479 0.85501017 0.84878166\n",
            " 0.85217189 0.86328855 0.86699407 0.85690239 0.87274955 0.87282837\n",
            " 0.88433923 0.87850503 0.87432638 0.87976647 0.86573262 0.8536699\n",
            " 0.87637624 0.85051624 0.86455    0.86210592 0.86194828 0.8543794\n",
            " 0.85918882 0.8492547  0.84807207 0.8445242  0.83861107 0.83790157\n",
            " 0.83608818 0.82788863 0.82796745 0.82639061 0.88449697 0.90688802\n",
            " 0.90980513 0.90357662 0.89458865 0.91997572 0.94354939 0.92983093\n",
            " 0.93140776 0.93219618 0.92983093 0.92462739 0.93266921 0.9439436\n",
            " 0.93984378 0.94630885 0.941736   0.93984378 0.95096043 0.9468607\n",
            " 0.9541141  0.96933058 0.96704415 0.99992118 0.9912486  0.97650515\n",
            " 0.99038126 0.9977924  0.99479647 0.990539   1.         0.89199388\n",
            " 0.72597194 0.56683266 0.46518558 0.42810854 0.42914575 0.4419193\n",
            " 0.45174193 0.45240429 0.44262275 0.4242723 ]\n",
            "11 day output [[0.4011949]]\n",
            "12 day input [0.74888932 0.75614272 0.76363267 0.77033422 0.7712015  0.77577431\n",
            " 0.76725942 0.75874453 0.77238413 0.80660138 0.81125305 0.82812519\n",
            " 0.81622012 0.79919029 0.78476228 0.78689096 0.79989984 0.80557645\n",
            " 0.80021522 0.80723215 0.8107012  0.81487975 0.83017505 0.85169886\n",
            " 0.84822981 0.84878166 0.85469479 0.85501017 0.84878166 0.85217189\n",
            " 0.86328855 0.86699407 0.85690239 0.87274955 0.87282837 0.88433923\n",
            " 0.87850503 0.87432638 0.87976647 0.86573262 0.8536699  0.87637624\n",
            " 0.85051624 0.86455    0.86210592 0.86194828 0.8543794  0.85918882\n",
            " 0.8492547  0.84807207 0.8445242  0.83861107 0.83790157 0.83608818\n",
            " 0.82788863 0.82796745 0.82639061 0.88449697 0.90688802 0.90980513\n",
            " 0.90357662 0.89458865 0.91997572 0.94354939 0.92983093 0.93140776\n",
            " 0.93219618 0.92983093 0.92462739 0.93266921 0.9439436  0.93984378\n",
            " 0.94630885 0.941736   0.93984378 0.95096043 0.9468607  0.9541141\n",
            " 0.96933058 0.96704415 0.99992118 0.9912486  0.97650515 0.99038126\n",
            " 0.9977924  0.99479647 0.990539   1.         0.89199388 0.72597194\n",
            " 0.56683266 0.46518558 0.42810854 0.42914575 0.4419193  0.45174193\n",
            " 0.45240429 0.44262275 0.4242723  0.4011949 ]\n",
            "12 day output [[0.37786245]]\n",
            "13 day input [0.75614272 0.76363267 0.77033422 0.7712015  0.77577431 0.76725942\n",
            " 0.75874453 0.77238413 0.80660138 0.81125305 0.82812519 0.81622012\n",
            " 0.79919029 0.78476228 0.78689096 0.79989984 0.80557645 0.80021522\n",
            " 0.80723215 0.8107012  0.81487975 0.83017505 0.85169886 0.84822981\n",
            " 0.84878166 0.85469479 0.85501017 0.84878166 0.85217189 0.86328855\n",
            " 0.86699407 0.85690239 0.87274955 0.87282837 0.88433923 0.87850503\n",
            " 0.87432638 0.87976647 0.86573262 0.8536699  0.87637624 0.85051624\n",
            " 0.86455    0.86210592 0.86194828 0.8543794  0.85918882 0.8492547\n",
            " 0.84807207 0.8445242  0.83861107 0.83790157 0.83608818 0.82788863\n",
            " 0.82796745 0.82639061 0.88449697 0.90688802 0.90980513 0.90357662\n",
            " 0.89458865 0.91997572 0.94354939 0.92983093 0.93140776 0.93219618\n",
            " 0.92983093 0.92462739 0.93266921 0.9439436  0.93984378 0.94630885\n",
            " 0.941736   0.93984378 0.95096043 0.9468607  0.9541141  0.96933058\n",
            " 0.96704415 0.99992118 0.9912486  0.97650515 0.99038126 0.9977924\n",
            " 0.99479647 0.990539   1.         0.89199388 0.72597194 0.56683266\n",
            " 0.46518558 0.42810854 0.42914575 0.4419193  0.45174193 0.45240429\n",
            " 0.44262275 0.4242723  0.4011949  0.37786245]\n",
            "13 day output [[0.3579623]]\n",
            "14 day input [0.76363267 0.77033422 0.7712015  0.77577431 0.76725942 0.75874453\n",
            " 0.77238413 0.80660138 0.81125305 0.82812519 0.81622012 0.79919029\n",
            " 0.78476228 0.78689096 0.79989984 0.80557645 0.80021522 0.80723215\n",
            " 0.8107012  0.81487975 0.83017505 0.85169886 0.84822981 0.84878166\n",
            " 0.85469479 0.85501017 0.84878166 0.85217189 0.86328855 0.86699407\n",
            " 0.85690239 0.87274955 0.87282837 0.88433923 0.87850503 0.87432638\n",
            " 0.87976647 0.86573262 0.8536699  0.87637624 0.85051624 0.86455\n",
            " 0.86210592 0.86194828 0.8543794  0.85918882 0.8492547  0.84807207\n",
            " 0.8445242  0.83861107 0.83790157 0.83608818 0.82788863 0.82796745\n",
            " 0.82639061 0.88449697 0.90688802 0.90980513 0.90357662 0.89458865\n",
            " 0.91997572 0.94354939 0.92983093 0.93140776 0.93219618 0.92983093\n",
            " 0.92462739 0.93266921 0.9439436  0.93984378 0.94630885 0.941736\n",
            " 0.93984378 0.95096043 0.9468607  0.9541141  0.96933058 0.96704415\n",
            " 0.99992118 0.9912486  0.97650515 0.99038126 0.9977924  0.99479647\n",
            " 0.990539   1.         0.89199388 0.72597194 0.56683266 0.46518558\n",
            " 0.42810854 0.42914575 0.4419193  0.45174193 0.45240429 0.44262275\n",
            " 0.4242723  0.4011949  0.37786245 0.35796231]\n",
            "14 day output [[0.34344906]]\n",
            "15 day input [0.77033422 0.7712015  0.77577431 0.76725942 0.75874453 0.77238413\n",
            " 0.80660138 0.81125305 0.82812519 0.81622012 0.79919029 0.78476228\n",
            " 0.78689096 0.79989984 0.80557645 0.80021522 0.80723215 0.8107012\n",
            " 0.81487975 0.83017505 0.85169886 0.84822981 0.84878166 0.85469479\n",
            " 0.85501017 0.84878166 0.85217189 0.86328855 0.86699407 0.85690239\n",
            " 0.87274955 0.87282837 0.88433923 0.87850503 0.87432638 0.87976647\n",
            " 0.86573262 0.8536699  0.87637624 0.85051624 0.86455    0.86210592\n",
            " 0.86194828 0.8543794  0.85918882 0.8492547  0.84807207 0.8445242\n",
            " 0.83861107 0.83790157 0.83608818 0.82788863 0.82796745 0.82639061\n",
            " 0.88449697 0.90688802 0.90980513 0.90357662 0.89458865 0.91997572\n",
            " 0.94354939 0.92983093 0.93140776 0.93219618 0.92983093 0.92462739\n",
            " 0.93266921 0.9439436  0.93984378 0.94630885 0.941736   0.93984378\n",
            " 0.95096043 0.9468607  0.9541141  0.96933058 0.96704415 0.99992118\n",
            " 0.9912486  0.97650515 0.99038126 0.9977924  0.99479647 0.990539\n",
            " 1.         0.89199388 0.72597194 0.56683266 0.46518558 0.42810854\n",
            " 0.42914575 0.4419193  0.45174193 0.45240429 0.44262275 0.4242723\n",
            " 0.4011949  0.37786245 0.35796231 0.34344906]\n",
            "15 day output [[0.33445418]]\n",
            "16 day input [0.7712015  0.77577431 0.76725942 0.75874453 0.77238413 0.80660138\n",
            " 0.81125305 0.82812519 0.81622012 0.79919029 0.78476228 0.78689096\n",
            " 0.79989984 0.80557645 0.80021522 0.80723215 0.8107012  0.81487975\n",
            " 0.83017505 0.85169886 0.84822981 0.84878166 0.85469479 0.85501017\n",
            " 0.84878166 0.85217189 0.86328855 0.86699407 0.85690239 0.87274955\n",
            " 0.87282837 0.88433923 0.87850503 0.87432638 0.87976647 0.86573262\n",
            " 0.8536699  0.87637624 0.85051624 0.86455    0.86210592 0.86194828\n",
            " 0.8543794  0.85918882 0.8492547  0.84807207 0.8445242  0.83861107\n",
            " 0.83790157 0.83608818 0.82788863 0.82796745 0.82639061 0.88449697\n",
            " 0.90688802 0.90980513 0.90357662 0.89458865 0.91997572 0.94354939\n",
            " 0.92983093 0.93140776 0.93219618 0.92983093 0.92462739 0.93266921\n",
            " 0.9439436  0.93984378 0.94630885 0.941736   0.93984378 0.95096043\n",
            " 0.9468607  0.9541141  0.96933058 0.96704415 0.99992118 0.9912486\n",
            " 0.97650515 0.99038126 0.9977924  0.99479647 0.990539   1.\n",
            " 0.89199388 0.72597194 0.56683266 0.46518558 0.42810854 0.42914575\n",
            " 0.4419193  0.45174193 0.45240429 0.44262275 0.4242723  0.4011949\n",
            " 0.37786245 0.35796231 0.34344906 0.33445418]\n",
            "16 day output [[0.32987595]]\n",
            "17 day input [0.77577431 0.76725942 0.75874453 0.77238413 0.80660138 0.81125305\n",
            " 0.82812519 0.81622012 0.79919029 0.78476228 0.78689096 0.79989984\n",
            " 0.80557645 0.80021522 0.80723215 0.8107012  0.81487975 0.83017505\n",
            " 0.85169886 0.84822981 0.84878166 0.85469479 0.85501017 0.84878166\n",
            " 0.85217189 0.86328855 0.86699407 0.85690239 0.87274955 0.87282837\n",
            " 0.88433923 0.87850503 0.87432638 0.87976647 0.86573262 0.8536699\n",
            " 0.87637624 0.85051624 0.86455    0.86210592 0.86194828 0.8543794\n",
            " 0.85918882 0.8492547  0.84807207 0.8445242  0.83861107 0.83790157\n",
            " 0.83608818 0.82788863 0.82796745 0.82639061 0.88449697 0.90688802\n",
            " 0.90980513 0.90357662 0.89458865 0.91997572 0.94354939 0.92983093\n",
            " 0.93140776 0.93219618 0.92983093 0.92462739 0.93266921 0.9439436\n",
            " 0.93984378 0.94630885 0.941736   0.93984378 0.95096043 0.9468607\n",
            " 0.9541141  0.96933058 0.96704415 0.99992118 0.9912486  0.97650515\n",
            " 0.99038126 0.9977924  0.99479647 0.990539   1.         0.89199388\n",
            " 0.72597194 0.56683266 0.46518558 0.42810854 0.42914575 0.4419193\n",
            " 0.45174193 0.45240429 0.44262275 0.4242723  0.4011949  0.37786245\n",
            " 0.35796231 0.34344906 0.33445418 0.32987595]\n",
            "17 day output [[0.32813707]]\n",
            "18 day input [0.76725942 0.75874453 0.77238413 0.80660138 0.81125305 0.82812519\n",
            " 0.81622012 0.79919029 0.78476228 0.78689096 0.79989984 0.80557645\n",
            " 0.80021522 0.80723215 0.8107012  0.81487975 0.83017505 0.85169886\n",
            " 0.84822981 0.84878166 0.85469479 0.85501017 0.84878166 0.85217189\n",
            " 0.86328855 0.86699407 0.85690239 0.87274955 0.87282837 0.88433923\n",
            " 0.87850503 0.87432638 0.87976647 0.86573262 0.8536699  0.87637624\n",
            " 0.85051624 0.86455    0.86210592 0.86194828 0.8543794  0.85918882\n",
            " 0.8492547  0.84807207 0.8445242  0.83861107 0.83790157 0.83608818\n",
            " 0.82788863 0.82796745 0.82639061 0.88449697 0.90688802 0.90980513\n",
            " 0.90357662 0.89458865 0.91997572 0.94354939 0.92983093 0.93140776\n",
            " 0.93219618 0.92983093 0.92462739 0.93266921 0.9439436  0.93984378\n",
            " 0.94630885 0.941736   0.93984378 0.95096043 0.9468607  0.9541141\n",
            " 0.96933058 0.96704415 0.99992118 0.9912486  0.97650515 0.99038126\n",
            " 0.9977924  0.99479647 0.990539   1.         0.89199388 0.72597194\n",
            " 0.56683266 0.46518558 0.42810854 0.42914575 0.4419193  0.45174193\n",
            " 0.45240429 0.44262275 0.4242723  0.4011949  0.37786245 0.35796231\n",
            " 0.34344906 0.33445418 0.32987595 0.32813707]\n",
            "18 day output [[0.32774204]]\n",
            "19 day input [0.75874453 0.77238413 0.80660138 0.81125305 0.82812519 0.81622012\n",
            " 0.79919029 0.78476228 0.78689096 0.79989984 0.80557645 0.80021522\n",
            " 0.80723215 0.8107012  0.81487975 0.83017505 0.85169886 0.84822981\n",
            " 0.84878166 0.85469479 0.85501017 0.84878166 0.85217189 0.86328855\n",
            " 0.86699407 0.85690239 0.87274955 0.87282837 0.88433923 0.87850503\n",
            " 0.87432638 0.87976647 0.86573262 0.8536699  0.87637624 0.85051624\n",
            " 0.86455    0.86210592 0.86194828 0.8543794  0.85918882 0.8492547\n",
            " 0.84807207 0.8445242  0.83861107 0.83790157 0.83608818 0.82788863\n",
            " 0.82796745 0.82639061 0.88449697 0.90688802 0.90980513 0.90357662\n",
            " 0.89458865 0.91997572 0.94354939 0.92983093 0.93140776 0.93219618\n",
            " 0.92983093 0.92462739 0.93266921 0.9439436  0.93984378 0.94630885\n",
            " 0.941736   0.93984378 0.95096043 0.9468607  0.9541141  0.96933058\n",
            " 0.96704415 0.99992118 0.9912486  0.97650515 0.99038126 0.9977924\n",
            " 0.99479647 0.990539   1.         0.89199388 0.72597194 0.56683266\n",
            " 0.46518558 0.42810854 0.42914575 0.4419193  0.45174193 0.45240429\n",
            " 0.44262275 0.4242723  0.4011949  0.37786245 0.35796231 0.34344906\n",
            " 0.33445418 0.32987595 0.32813707 0.32774204]\n",
            "19 day output [[0.3275577]]\n",
            "20 day input [0.77238413 0.80660138 0.81125305 0.82812519 0.81622012 0.79919029\n",
            " 0.78476228 0.78689096 0.79989984 0.80557645 0.80021522 0.80723215\n",
            " 0.8107012  0.81487975 0.83017505 0.85169886 0.84822981 0.84878166\n",
            " 0.85469479 0.85501017 0.84878166 0.85217189 0.86328855 0.86699407\n",
            " 0.85690239 0.87274955 0.87282837 0.88433923 0.87850503 0.87432638\n",
            " 0.87976647 0.86573262 0.8536699  0.87637624 0.85051624 0.86455\n",
            " 0.86210592 0.86194828 0.8543794  0.85918882 0.8492547  0.84807207\n",
            " 0.8445242  0.83861107 0.83790157 0.83608818 0.82788863 0.82796745\n",
            " 0.82639061 0.88449697 0.90688802 0.90980513 0.90357662 0.89458865\n",
            " 0.91997572 0.94354939 0.92983093 0.93140776 0.93219618 0.92983093\n",
            " 0.92462739 0.93266921 0.9439436  0.93984378 0.94630885 0.941736\n",
            " 0.93984378 0.95096043 0.9468607  0.9541141  0.96933058 0.96704415\n",
            " 0.99992118 0.9912486  0.97650515 0.99038126 0.9977924  0.99479647\n",
            " 0.990539   1.         0.89199388 0.72597194 0.56683266 0.46518558\n",
            " 0.42810854 0.42914575 0.4419193  0.45174193 0.45240429 0.44262275\n",
            " 0.4242723  0.4011949  0.37786245 0.35796231 0.34344906 0.33445418\n",
            " 0.32987595 0.32813707 0.32774204 0.32755771]\n",
            "20 day output [[0.32689023]]\n",
            "21 day input [0.80660138 0.81125305 0.82812519 0.81622012 0.79919029 0.78476228\n",
            " 0.78689096 0.79989984 0.80557645 0.80021522 0.80723215 0.8107012\n",
            " 0.81487975 0.83017505 0.85169886 0.84822981 0.84878166 0.85469479\n",
            " 0.85501017 0.84878166 0.85217189 0.86328855 0.86699407 0.85690239\n",
            " 0.87274955 0.87282837 0.88433923 0.87850503 0.87432638 0.87976647\n",
            " 0.86573262 0.8536699  0.87637624 0.85051624 0.86455    0.86210592\n",
            " 0.86194828 0.8543794  0.85918882 0.8492547  0.84807207 0.8445242\n",
            " 0.83861107 0.83790157 0.83608818 0.82788863 0.82796745 0.82639061\n",
            " 0.88449697 0.90688802 0.90980513 0.90357662 0.89458865 0.91997572\n",
            " 0.94354939 0.92983093 0.93140776 0.93219618 0.92983093 0.92462739\n",
            " 0.93266921 0.9439436  0.93984378 0.94630885 0.941736   0.93984378\n",
            " 0.95096043 0.9468607  0.9541141  0.96933058 0.96704415 0.99992118\n",
            " 0.9912486  0.97650515 0.99038126 0.9977924  0.99479647 0.990539\n",
            " 1.         0.89199388 0.72597194 0.56683266 0.46518558 0.42810854\n",
            " 0.42914575 0.4419193  0.45174193 0.45240429 0.44262275 0.4242723\n",
            " 0.4011949  0.37786245 0.35796231 0.34344906 0.33445418 0.32987595\n",
            " 0.32813707 0.32774204 0.32755771 0.32689023]\n",
            "21 day output [[0.32544422]]\n",
            "22 day input [0.81125305 0.82812519 0.81622012 0.79919029 0.78476228 0.78689096\n",
            " 0.79989984 0.80557645 0.80021522 0.80723215 0.8107012  0.81487975\n",
            " 0.83017505 0.85169886 0.84822981 0.84878166 0.85469479 0.85501017\n",
            " 0.84878166 0.85217189 0.86328855 0.86699407 0.85690239 0.87274955\n",
            " 0.87282837 0.88433923 0.87850503 0.87432638 0.87976647 0.86573262\n",
            " 0.8536699  0.87637624 0.85051624 0.86455    0.86210592 0.86194828\n",
            " 0.8543794  0.85918882 0.8492547  0.84807207 0.8445242  0.83861107\n",
            " 0.83790157 0.83608818 0.82788863 0.82796745 0.82639061 0.88449697\n",
            " 0.90688802 0.90980513 0.90357662 0.89458865 0.91997572 0.94354939\n",
            " 0.92983093 0.93140776 0.93219618 0.92983093 0.92462739 0.93266921\n",
            " 0.9439436  0.93984378 0.94630885 0.941736   0.93984378 0.95096043\n",
            " 0.9468607  0.9541141  0.96933058 0.96704415 0.99992118 0.9912486\n",
            " 0.97650515 0.99038126 0.9977924  0.99479647 0.990539   1.\n",
            " 0.89199388 0.72597194 0.56683266 0.46518558 0.42810854 0.42914575\n",
            " 0.4419193  0.45174193 0.45240429 0.44262275 0.4242723  0.4011949\n",
            " 0.37786245 0.35796231 0.34344906 0.33445418 0.32987595 0.32813707\n",
            " 0.32774204 0.32755771 0.32689023 0.32544422]\n",
            "22 day output [[0.32322264]]\n",
            "23 day input [0.82812519 0.81622012 0.79919029 0.78476228 0.78689096 0.79989984\n",
            " 0.80557645 0.80021522 0.80723215 0.8107012  0.81487975 0.83017505\n",
            " 0.85169886 0.84822981 0.84878166 0.85469479 0.85501017 0.84878166\n",
            " 0.85217189 0.86328855 0.86699407 0.85690239 0.87274955 0.87282837\n",
            " 0.88433923 0.87850503 0.87432638 0.87976647 0.86573262 0.8536699\n",
            " 0.87637624 0.85051624 0.86455    0.86210592 0.86194828 0.8543794\n",
            " 0.85918882 0.8492547  0.84807207 0.8445242  0.83861107 0.83790157\n",
            " 0.83608818 0.82788863 0.82796745 0.82639061 0.88449697 0.90688802\n",
            " 0.90980513 0.90357662 0.89458865 0.91997572 0.94354939 0.92983093\n",
            " 0.93140776 0.93219618 0.92983093 0.92462739 0.93266921 0.9439436\n",
            " 0.93984378 0.94630885 0.941736   0.93984378 0.95096043 0.9468607\n",
            " 0.9541141  0.96933058 0.96704415 0.99992118 0.9912486  0.97650515\n",
            " 0.99038126 0.9977924  0.99479647 0.990539   1.         0.89199388\n",
            " 0.72597194 0.56683266 0.46518558 0.42810854 0.42914575 0.4419193\n",
            " 0.45174193 0.45240429 0.44262275 0.4242723  0.4011949  0.37786245\n",
            " 0.35796231 0.34344906 0.33445418 0.32987595 0.32813707 0.32774204\n",
            " 0.32755771 0.32689023 0.32544422 0.32322264]\n",
            "23 day output [[0.32040545]]\n",
            "24 day input [0.81622012 0.79919029 0.78476228 0.78689096 0.79989984 0.80557645\n",
            " 0.80021522 0.80723215 0.8107012  0.81487975 0.83017505 0.85169886\n",
            " 0.84822981 0.84878166 0.85469479 0.85501017 0.84878166 0.85217189\n",
            " 0.86328855 0.86699407 0.85690239 0.87274955 0.87282837 0.88433923\n",
            " 0.87850503 0.87432638 0.87976647 0.86573262 0.8536699  0.87637624\n",
            " 0.85051624 0.86455    0.86210592 0.86194828 0.8543794  0.85918882\n",
            " 0.8492547  0.84807207 0.8445242  0.83861107 0.83790157 0.83608818\n",
            " 0.82788863 0.82796745 0.82639061 0.88449697 0.90688802 0.90980513\n",
            " 0.90357662 0.89458865 0.91997572 0.94354939 0.92983093 0.93140776\n",
            " 0.93219618 0.92983093 0.92462739 0.93266921 0.9439436  0.93984378\n",
            " 0.94630885 0.941736   0.93984378 0.95096043 0.9468607  0.9541141\n",
            " 0.96933058 0.96704415 0.99992118 0.9912486  0.97650515 0.99038126\n",
            " 0.9977924  0.99479647 0.990539   1.         0.89199388 0.72597194\n",
            " 0.56683266 0.46518558 0.42810854 0.42914575 0.4419193  0.45174193\n",
            " 0.45240429 0.44262275 0.4242723  0.4011949  0.37786245 0.35796231\n",
            " 0.34344906 0.33445418 0.32987595 0.32813707 0.32774204 0.32755771\n",
            " 0.32689023 0.32544422 0.32322264 0.32040545]\n",
            "24 day output [[0.31723315]]\n",
            "25 day input [0.79919029 0.78476228 0.78689096 0.79989984 0.80557645 0.80021522\n",
            " 0.80723215 0.8107012  0.81487975 0.83017505 0.85169886 0.84822981\n",
            " 0.84878166 0.85469479 0.85501017 0.84878166 0.85217189 0.86328855\n",
            " 0.86699407 0.85690239 0.87274955 0.87282837 0.88433923 0.87850503\n",
            " 0.87432638 0.87976647 0.86573262 0.8536699  0.87637624 0.85051624\n",
            " 0.86455    0.86210592 0.86194828 0.8543794  0.85918882 0.8492547\n",
            " 0.84807207 0.8445242  0.83861107 0.83790157 0.83608818 0.82788863\n",
            " 0.82796745 0.82639061 0.88449697 0.90688802 0.90980513 0.90357662\n",
            " 0.89458865 0.91997572 0.94354939 0.92983093 0.93140776 0.93219618\n",
            " 0.92983093 0.92462739 0.93266921 0.9439436  0.93984378 0.94630885\n",
            " 0.941736   0.93984378 0.95096043 0.9468607  0.9541141  0.96933058\n",
            " 0.96704415 0.99992118 0.9912486  0.97650515 0.99038126 0.9977924\n",
            " 0.99479647 0.990539   1.         0.89199388 0.72597194 0.56683266\n",
            " 0.46518558 0.42810854 0.42914575 0.4419193  0.45174193 0.45240429\n",
            " 0.44262275 0.4242723  0.4011949  0.37786245 0.35796231 0.34344906\n",
            " 0.33445418 0.32987595 0.32813707 0.32774204 0.32755771 0.32689023\n",
            " 0.32544422 0.32322264 0.32040545 0.31723315]\n",
            "25 day output [[0.31391892]]\n",
            "26 day input [0.78476228 0.78689096 0.79989984 0.80557645 0.80021522 0.80723215\n",
            " 0.8107012  0.81487975 0.83017505 0.85169886 0.84822981 0.84878166\n",
            " 0.85469479 0.85501017 0.84878166 0.85217189 0.86328855 0.86699407\n",
            " 0.85690239 0.87274955 0.87282837 0.88433923 0.87850503 0.87432638\n",
            " 0.87976647 0.86573262 0.8536699  0.87637624 0.85051624 0.86455\n",
            " 0.86210592 0.86194828 0.8543794  0.85918882 0.8492547  0.84807207\n",
            " 0.8445242  0.83861107 0.83790157 0.83608818 0.82788863 0.82796745\n",
            " 0.82639061 0.88449697 0.90688802 0.90980513 0.90357662 0.89458865\n",
            " 0.91997572 0.94354939 0.92983093 0.93140776 0.93219618 0.92983093\n",
            " 0.92462739 0.93266921 0.9439436  0.93984378 0.94630885 0.941736\n",
            " 0.93984378 0.95096043 0.9468607  0.9541141  0.96933058 0.96704415\n",
            " 0.99992118 0.9912486  0.97650515 0.99038126 0.9977924  0.99479647\n",
            " 0.990539   1.         0.89199388 0.72597194 0.56683266 0.46518558\n",
            " 0.42810854 0.42914575 0.4419193  0.45174193 0.45240429 0.44262275\n",
            " 0.4242723  0.4011949  0.37786245 0.35796231 0.34344906 0.33445418\n",
            " 0.32987595 0.32813707 0.32774204 0.32755771 0.32689023 0.32544422\n",
            " 0.32322264 0.32040545 0.31723315 0.31391892]\n",
            "26 day output [[0.31059873]]\n",
            "27 day input [0.78689096 0.79989984 0.80557645 0.80021522 0.80723215 0.8107012\n",
            " 0.81487975 0.83017505 0.85169886 0.84822981 0.84878166 0.85469479\n",
            " 0.85501017 0.84878166 0.85217189 0.86328855 0.86699407 0.85690239\n",
            " 0.87274955 0.87282837 0.88433923 0.87850503 0.87432638 0.87976647\n",
            " 0.86573262 0.8536699  0.87637624 0.85051624 0.86455    0.86210592\n",
            " 0.86194828 0.8543794  0.85918882 0.8492547  0.84807207 0.8445242\n",
            " 0.83861107 0.83790157 0.83608818 0.82788863 0.82796745 0.82639061\n",
            " 0.88449697 0.90688802 0.90980513 0.90357662 0.89458865 0.91997572\n",
            " 0.94354939 0.92983093 0.93140776 0.93219618 0.92983093 0.92462739\n",
            " 0.93266921 0.9439436  0.93984378 0.94630885 0.941736   0.93984378\n",
            " 0.95096043 0.9468607  0.9541141  0.96933058 0.96704415 0.99992118\n",
            " 0.9912486  0.97650515 0.99038126 0.9977924  0.99479647 0.990539\n",
            " 1.         0.89199388 0.72597194 0.56683266 0.46518558 0.42810854\n",
            " 0.42914575 0.4419193  0.45174193 0.45240429 0.44262275 0.4242723\n",
            " 0.4011949  0.37786245 0.35796231 0.34344906 0.33445418 0.32987595\n",
            " 0.32813707 0.32774204 0.32755771 0.32689023 0.32544422 0.32322264\n",
            " 0.32040545 0.31723315 0.31391892 0.31059873]\n",
            "27 day output [[0.30732083]]\n",
            "28 day input [0.79989984 0.80557645 0.80021522 0.80723215 0.8107012  0.81487975\n",
            " 0.83017505 0.85169886 0.84822981 0.84878166 0.85469479 0.85501017\n",
            " 0.84878166 0.85217189 0.86328855 0.86699407 0.85690239 0.87274955\n",
            " 0.87282837 0.88433923 0.87850503 0.87432638 0.87976647 0.86573262\n",
            " 0.8536699  0.87637624 0.85051624 0.86455    0.86210592 0.86194828\n",
            " 0.8543794  0.85918882 0.8492547  0.84807207 0.8445242  0.83861107\n",
            " 0.83790157 0.83608818 0.82788863 0.82796745 0.82639061 0.88449697\n",
            " 0.90688802 0.90980513 0.90357662 0.89458865 0.91997572 0.94354939\n",
            " 0.92983093 0.93140776 0.93219618 0.92983093 0.92462739 0.93266921\n",
            " 0.9439436  0.93984378 0.94630885 0.941736   0.93984378 0.95096043\n",
            " 0.9468607  0.9541141  0.96933058 0.96704415 0.99992118 0.9912486\n",
            " 0.97650515 0.99038126 0.9977924  0.99479647 0.990539   1.\n",
            " 0.89199388 0.72597194 0.56683266 0.46518558 0.42810854 0.42914575\n",
            " 0.4419193  0.45174193 0.45240429 0.44262275 0.4242723  0.4011949\n",
            " 0.37786245 0.35796231 0.34344906 0.33445418 0.32987595 0.32813707\n",
            " 0.32774204 0.32755771 0.32689023 0.32544422 0.32322264 0.32040545\n",
            " 0.31723315 0.31391892 0.31059873 0.30732083]\n",
            "28 day output [[0.30406296]]\n",
            "29 day input [0.80557645 0.80021522 0.80723215 0.8107012  0.81487975 0.83017505\n",
            " 0.85169886 0.84822981 0.84878166 0.85469479 0.85501017 0.84878166\n",
            " 0.85217189 0.86328855 0.86699407 0.85690239 0.87274955 0.87282837\n",
            " 0.88433923 0.87850503 0.87432638 0.87976647 0.86573262 0.8536699\n",
            " 0.87637624 0.85051624 0.86455    0.86210592 0.86194828 0.8543794\n",
            " 0.85918882 0.8492547  0.84807207 0.8445242  0.83861107 0.83790157\n",
            " 0.83608818 0.82788863 0.82796745 0.82639061 0.88449697 0.90688802\n",
            " 0.90980513 0.90357662 0.89458865 0.91997572 0.94354939 0.92983093\n",
            " 0.93140776 0.93219618 0.92983093 0.92462739 0.93266921 0.9439436\n",
            " 0.93984378 0.94630885 0.941736   0.93984378 0.95096043 0.9468607\n",
            " 0.9541141  0.96933058 0.96704415 0.99992118 0.9912486  0.97650515\n",
            " 0.99038126 0.9977924  0.99479647 0.990539   1.         0.89199388\n",
            " 0.72597194 0.56683266 0.46518558 0.42810854 0.42914575 0.4419193\n",
            " 0.45174193 0.45240429 0.44262275 0.4242723  0.4011949  0.37786245\n",
            " 0.35796231 0.34344906 0.33445418 0.32987595 0.32813707 0.32774204\n",
            " 0.32755771 0.32689023 0.32544422 0.32322264 0.32040545 0.31723315\n",
            " 0.31391892 0.31059873 0.30732083 0.30406296]\n",
            "29 day output [[0.3007638]]\n",
            "[[0.8919938802719116], [0.7259719371795654], [0.5668326616287231], [0.46518558263778687], [0.4281085431575775], [0.4291457533836365], [0.4419192969799042], [0.45174193382263184], [0.45240429043769836], [0.44262275099754333], [0.4242722988128662], [0.40119490027427673], [0.37786245346069336], [0.35796231031417847], [0.34344905614852905], [0.33445417881011963], [0.3298759460449219], [0.328137069940567], [0.3277420401573181], [0.3275577127933502], [0.326890230178833], [0.32544422149658203], [0.32322263717651367], [0.3204054534435272], [0.317233145236969], [0.31391891837120056], [0.3105987310409546], [0.30732083320617676], [0.30406296253204346], [0.3007637858390808]]\n"
          ]
        }
      ]
    },
    {
      "cell_type": "code",
      "metadata": {
        "id": "IlnftgYC09yG"
      },
      "source": [
        "day_new=np.arange(1,101)\n",
        "day_pred=np.arange(101,131)"
      ],
      "execution_count": null,
      "outputs": []
    },
    {
      "cell_type": "code",
      "metadata": {
        "id": "bze8nU5i097V"
      },
      "source": [
        "import matplotlib.pyplot as plt"
      ],
      "execution_count": null,
      "outputs": []
    },
    {
      "cell_type": "code",
      "metadata": {
        "colab": {
          "base_uri": "https://localhost:8080/"
        },
        "id": "VRcB21k71G4L",
        "outputId": "309a93c8-2482-4084-e50a-997e38a1aa45"
      },
      "source": [
        "len(df1)"
      ],
      "execution_count": null,
      "outputs": [
        {
          "output_type": "execute_result",
          "data": {
            "text/plain": [
              "6452"
            ]
          },
          "metadata": {},
          "execution_count": 46
        }
      ]
    },
    {
      "cell_type": "code",
      "metadata": {
        "colab": {
          "base_uri": "https://localhost:8080/",
          "height": 469
        },
        "id": "TEVjz_Qy1Jec",
        "outputId": "e142a9b3-f7fe-42a6-f2ba-a8891cc37b51"
      },
      "source": [
        "plt.plot(day_new,scaler.inverse_transform(df1[6352:]))\n",
        "plt.plot(day_pred,scaler.inverse_transform(lst_output))\n",
        "plt.title('Wipro Prediction of Next 30 Days')"
      ],
      "execution_count": null,
      "outputs": [
        {
          "output_type": "execute_result",
          "data": {
            "text/plain": [
              "Text(0.5, 1.0, 'Wipro Prediction of Next 30 Days')"
            ]
          },
          "metadata": {},
          "execution_count": 47
        },
        {
          "output_type": "display_data",
          "data": {
            "image/png": "[encoded data removed]",
            "text/plain": [
              "<Figure size 640x480 with 1 Axes>"
            ]
          },
          "metadata": {}
        }
      ]
    },
    {
      "cell_type": "code",
      "metadata": {
        "colab": {
          "base_uri": "https://localhost:8080/",
          "height": 447
        },
        "id": "ESp1lp3R1LfH",
        "outputId": "32c9fecf-290b-4548-e965-6afc7f79658a"
      },
      "source": [
        "df3=df1.tolist()\n",
        "df3.extend(lst_output)\n",
        "plt.plot(df3[6000:])"
      ],
      "execution_count": null,
      "outputs": [
        {
          "output_type": "execute_result",
          "data": {
            "text/plain": [
              "[<matplotlib.lines.Line2D at 0x7fd87a507650>]"
            ]
          },
          "metadata": {},
          "execution_count": 48
        },
        {
          "output_type": "display_data",
          "data": {
            "image/png": "[encoded data removed]",
            "text/plain": [
              "<Figure size 640x480 with 1 Axes>"
            ]
          },
          "metadata": {}
        }
      ]
    },
    {
      "cell_type": "code",
      "metadata": {
        "id": "OQK_oXwD1Lxv"
      },
      "source": [
        "df3=scaler.inverse_transform(df3).tolist()"
      ],
      "execution_count": null,
      "outputs": []
    },
    {
      "cell_type": "code",
      "metadata": {
        "colab": {
          "base_uri": "https://localhost:8080/",
          "height": 447
        },
        "id": "X3DpOmIs1MCQ",
        "outputId": "86b054a4-08fc-4952-a7dc-504cacee8049"
      },
      "source": [
        "plt.plot(df3)"
      ],
      "execution_count": null,
      "outputs": [
        {
          "output_type": "execute_result",
          "data": {
            "text/plain": [
              "[<matplotlib.lines.Line2D at 0x7fd87a55c310>]"
            ]
          },
          "metadata": {},
          "execution_count": 50
        },
        {
          "output_type": "display_data",
          "data": {
            "image/png": "[encoded data removed]",
            "text/plain": [
              "<Figure size 640x480 with 1 Axes>"
            ]
          },
          "metadata": {}
        }
      ]
    }
  ]
}