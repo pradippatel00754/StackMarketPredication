{
  "nbformat": 4,
  "nbformat_minor": 0,
  "metadata": {
    "colab": {
      "name": "SunPharma:.ipynb",
      "provenance": [],
      "collapsed_sections": []
    },
    "kernelspec": {
      "name": "python3",
      "display_name": "Python 3"
    },
    "language_info": {
      "name": "python"
    }
  },
  "cells": [
    {
      "cell_type": "code",
      "metadata": {
        "colab": {
          "base_uri": "https://localhost:8080/"
        },
        "id": "nR34pB3lsVC8",
        "outputId": "98da2fc3-339a-4446-ec11-8246670a1b6d"
      },
      "source": [
        "import os\n",
        "os.getcwd()\n",
        "from google.colab import drive\n",
        "drive.mount('/content/gdrive')\n",
        "os.chdir('/content/gdrive/My Drive')"
      ],
      "execution_count": 1,
      "outputs": [
        {
          "output_type": "stream",
          "name": "stdout",
          "text": [
            "Mounted at /content/gdrive\n"
          ]
        }
      ]
    },
    {
      "cell_type": "code",
      "metadata": {
        "id": "j7NsICtPsY25"
      },
      "source": [
        "import pandas as pd\n",
        "import numpy as np\n",
        "import matplotlib.pyplot as plt\n",
        "import seaborn as sns\n",
        "import warnings\n",
        "warnings.filterwarnings(\"ignore\")\n",
        "\n",
        "FileName = 'SUNPHARMA.NS.csv'\n",
        "SunPharma=pd.read_csv(FileName)"
      ],
      "execution_count": 2,
      "outputs": []
    },
    {
      "cell_type": "code",
      "metadata": {
        "colab": {
          "base_uri": "https://localhost:8080/",
          "height": 204
        },
        "id": "VHqN5qxmsdtL",
        "outputId": "1cc89d95-4528-40bb-c6a3-4741cce00237"
      },
      "source": [
        "SunPharma.head()"
      ],
      "execution_count": 3,
      "outputs": [
        {
          "output_type": "execute_result",
          "data": {
            "text/html": [
              "<div>\n",
              "<style scoped>\n",
              "    .dataframe tbody tr th:only-of-type {\n",
              "        vertical-align: middle;\n",
              "    }\n",
              "\n",
              "    .dataframe tbody tr th {\n",
              "        vertical-align: top;\n",
              "    }\n",
              "\n",
              "    .dataframe thead th {\n",
              "        text-align: right;\n",
              "    }\n",
              "</style>\n",
              "<table border=\"1\" class=\"dataframe\">\n",
              "  <thead>\n",
              "    <tr style=\"text-align: right;\">\n",
              "      <th></th>\n",
              "      <th>Date</th>\n",
              "      <th>Open</th>\n",
              "      <th>High</th>\n",
              "      <th>Low</th>\n",
              "      <th>Close</th>\n",
              "      <th>Adj Close</th>\n",
              "      <th>Volume</th>\n",
              "    </tr>\n",
              "  </thead>\n",
              "  <tbody>\n",
              "    <tr>\n",
              "      <th>0</th>\n",
              "      <td>01/01/1996</td>\n",
              "      <td>1.812932</td>\n",
              "      <td>1.804799</td>\n",
              "      <td>1.803250</td>\n",
              "      <td>1.803250</td>\n",
              "      <td>1.454535</td>\n",
              "      <td>38730</td>\n",
              "    </tr>\n",
              "    <tr>\n",
              "      <th>1</th>\n",
              "      <td>02/01/1996</td>\n",
              "      <td>1.800926</td>\n",
              "      <td>1.800926</td>\n",
              "      <td>1.743219</td>\n",
              "      <td>1.743219</td>\n",
              "      <td>1.406113</td>\n",
              "      <td>77460</td>\n",
              "    </tr>\n",
              "    <tr>\n",
              "      <th>2</th>\n",
              "      <td>03/01/1996</td>\n",
              "      <td>1.743219</td>\n",
              "      <td>1.750578</td>\n",
              "      <td>1.750578</td>\n",
              "      <td>1.750578</td>\n",
              "      <td>1.412049</td>\n",
              "      <td>12910</td>\n",
              "    </tr>\n",
              "    <tr>\n",
              "      <th>3</th>\n",
              "      <td>04/01/1996</td>\n",
              "      <td>1.746705</td>\n",
              "      <td>1.758324</td>\n",
              "      <td>1.742832</td>\n",
              "      <td>1.742832</td>\n",
              "      <td>1.405801</td>\n",
              "      <td>64550</td>\n",
              "    </tr>\n",
              "    <tr>\n",
              "      <th>4</th>\n",
              "      <td>05/01/1996</td>\n",
              "      <td>1.738572</td>\n",
              "      <td>1.738572</td>\n",
              "      <td>1.738572</td>\n",
              "      <td>1.738572</td>\n",
              "      <td>1.402365</td>\n",
              "      <td>12910</td>\n",
              "    </tr>\n",
              "  </tbody>\n",
              "</table>\n",
              "</div>"
            ],
            "text/plain": [
              "         Date      Open      High       Low     Close  Adj Close  Volume\n",
              "0  01/01/1996  1.812932  1.804799  1.803250  1.803250   1.454535   38730\n",
              "1  02/01/1996  1.800926  1.800926  1.743219  1.743219   1.406113   77460\n",
              "2  03/01/1996  1.743219  1.750578  1.750578  1.750578   1.412049   12910\n",
              "3  04/01/1996  1.746705  1.758324  1.742832  1.742832   1.405801   64550\n",
              "4  05/01/1996  1.738572  1.738572  1.738572  1.738572   1.402365   12910"
            ]
          },
          "metadata": {},
          "execution_count": 3
        }
      ]
    },
    {
      "cell_type": "code",
      "metadata": {
        "colab": {
          "base_uri": "https://localhost:8080/",
          "height": 204
        },
        "id": "8RFQUgbQsliu",
        "outputId": "26a8d8b2-86eb-4ae3-961b-ce00dbbb44da"
      },
      "source": [
        "SunPharma.tail()"
      ],
      "execution_count": 4,
      "outputs": [
        {
          "output_type": "execute_result",
          "data": {
            "text/html": [
              "<div>\n",
              "<style scoped>\n",
              "    .dataframe tbody tr th:only-of-type {\n",
              "        vertical-align: middle;\n",
              "    }\n",
              "\n",
              "    .dataframe tbody tr th {\n",
              "        vertical-align: top;\n",
              "    }\n",
              "\n",
              "    .dataframe thead th {\n",
              "        text-align: right;\n",
              "    }\n",
              "</style>\n",
              "<table border=\"1\" class=\"dataframe\">\n",
              "  <thead>\n",
              "    <tr style=\"text-align: right;\">\n",
              "      <th></th>\n",
              "      <th>Date</th>\n",
              "      <th>Open</th>\n",
              "      <th>High</th>\n",
              "      <th>Low</th>\n",
              "      <th>Close</th>\n",
              "      <th>Adj Close</th>\n",
              "      <th>Volume</th>\n",
              "    </tr>\n",
              "  </thead>\n",
              "  <tbody>\n",
              "    <tr>\n",
              "      <th>6447</th>\n",
              "      <td>23/08/2021</td>\n",
              "      <td>765.000000</td>\n",
              "      <td>770.000000</td>\n",
              "      <td>750.799988</td>\n",
              "      <td>759.349976</td>\n",
              "      <td>759.349976</td>\n",
              "      <td>2375417</td>\n",
              "    </tr>\n",
              "    <tr>\n",
              "      <th>6448</th>\n",
              "      <td>24/08/2021</td>\n",
              "      <td>759.799988</td>\n",
              "      <td>777.950012</td>\n",
              "      <td>754.250000</td>\n",
              "      <td>771.349976</td>\n",
              "      <td>771.349976</td>\n",
              "      <td>2732537</td>\n",
              "    </tr>\n",
              "    <tr>\n",
              "      <th>6449</th>\n",
              "      <td>25/08/2021</td>\n",
              "      <td>770.000000</td>\n",
              "      <td>776.000000</td>\n",
              "      <td>759.599976</td>\n",
              "      <td>769.049988</td>\n",
              "      <td>769.049988</td>\n",
              "      <td>2254852</td>\n",
              "    </tr>\n",
              "    <tr>\n",
              "      <th>6450</th>\n",
              "      <td>26/08/2021</td>\n",
              "      <td>765.150024</td>\n",
              "      <td>771.099976</td>\n",
              "      <td>759.250000</td>\n",
              "      <td>760.549988</td>\n",
              "      <td>760.549988</td>\n",
              "      <td>1735864</td>\n",
              "    </tr>\n",
              "    <tr>\n",
              "      <th>6451</th>\n",
              "      <td>27/08/2021</td>\n",
              "      <td>760.750000</td>\n",
              "      <td>777.000000</td>\n",
              "      <td>758.099976</td>\n",
              "      <td>771.799988</td>\n",
              "      <td>771.799988</td>\n",
              "      <td>2432862</td>\n",
              "    </tr>\n",
              "  </tbody>\n",
              "</table>\n",
              "</div>"
            ],
            "text/plain": [
              "            Date        Open        High  ...       Close   Adj Close   Volume\n",
              "6447  23/08/2021  765.000000  770.000000  ...  759.349976  759.349976  2375417\n",
              "6448  24/08/2021  759.799988  777.950012  ...  771.349976  771.349976  2732537\n",
              "6449  25/08/2021  770.000000  776.000000  ...  769.049988  769.049988  2254852\n",
              "6450  26/08/2021  765.150024  771.099976  ...  760.549988  760.549988  1735864\n",
              "6451  27/08/2021  760.750000  777.000000  ...  771.799988  771.799988  2432862\n",
              "\n",
              "[5 rows x 7 columns]"
            ]
          },
          "metadata": {},
          "execution_count": 4
        }
      ]
    },
    {
      "cell_type": "code",
      "metadata": {
        "id": "rEZ7LUoQstCX"
      },
      "source": [
        "df1=SunPharma.reset_index()['Close']"
      ],
      "execution_count": 5,
      "outputs": []
    },
    {
      "cell_type": "code",
      "metadata": {
        "colab": {
          "base_uri": "https://localhost:8080/"
        },
        "id": "6QiqnOOIs_9e",
        "outputId": "9f111989-9541-4623-96c4-e90360fcc4a5"
      },
      "source": [
        "df1.shape"
      ],
      "execution_count": 6,
      "outputs": [
        {
          "output_type": "execute_result",
          "data": {
            "text/plain": [
              "(6452,)"
            ]
          },
          "metadata": {},
          "execution_count": 6
        }
      ]
    },
    {
      "cell_type": "code",
      "metadata": {
        "colab": {
          "base_uri": "https://localhost:8080/"
        },
        "id": "bGBroGQVtHM8",
        "outputId": "51d3cdaa-fdb0-4a6a-9d54-ed72f3ffbb26"
      },
      "source": [
        "df1"
      ],
      "execution_count": 7,
      "outputs": [
        {
          "output_type": "execute_result",
          "data": {
            "text/plain": [
              "0         1.803250\n",
              "1         1.743219\n",
              "2         1.750578\n",
              "3         1.742832\n",
              "4         1.738572\n",
              "           ...    \n",
              "6447    759.349976\n",
              "6448    771.349976\n",
              "6449    769.049988\n",
              "6450    760.549988\n",
              "6451    771.799988\n",
              "Name: Close, Length: 6452, dtype: float64"
            ]
          },
          "metadata": {},
          "execution_count": 7
        }
      ]
    },
    {
      "cell_type": "code",
      "metadata": {
        "colab": {
          "base_uri": "https://localhost:8080/",
          "height": 407
        },
        "id": "2VXPNKqY1CbG",
        "outputId": "03e0cb94-eb4a-4956-c598-ee9225f615c7"
      },
      "source": [
        "import matplotlib.pyplot as plt \n",
        "plt.figure(figsize=(20,6)) \n",
        "plt.title('Sun Pharma Share Price of 2002 - 2021')\n",
        "plt.plot(df1)"
      ],
      "execution_count": 8,
      "outputs": [
        {
          "output_type": "execute_result",
          "data": {
            "text/plain": [
              "[<matplotlib.lines.Line2D at 0x7fc47d592450>]"
            ]
          },
          "metadata": {},
          "execution_count": 8
        },
        {
          "output_type": "display_data",
          "data": {
            "image/png": "[encoded data removed]",
            "text/plain": [
              "<Figure size 1440x432 with 1 Axes>"
            ]
          },
          "metadata": {
            "needs_background": "light"
          }
        }
      ]
    },
    {
      "cell_type": "code",
      "metadata": {
        "colab": {
          "base_uri": "https://localhost:8080/"
        },
        "id": "ZQlymq9l1HhB",
        "outputId": "49f695f0-77a6-430f-8f2e-1344d5d5dcf1"
      },
      "source": [
        "SunPharma.Date = pd.to_datetime(SunPharma.Date)\n",
        "SunPharma.info()"
      ],
      "execution_count": 9,
      "outputs": [
        {
          "output_type": "stream",
          "name": "stdout",
          "text": [
            "<class 'pandas.core.frame.DataFrame'>\n",
            "RangeIndex: 6452 entries, 0 to 6451\n",
            "Data columns (total 7 columns):\n",
            " #   Column     Non-Null Count  Dtype         \n",
            "---  ------     --------------  -----         \n",
            " 0   Date       6452 non-null   datetime64[ns]\n",
            " 1   Open       6452 non-null   float64       \n",
            " 2   High       6452 non-null   float64       \n",
            " 3   Low        6452 non-null   float64       \n",
            " 4   Close      6452 non-null   float64       \n",
            " 5   Adj Close  6452 non-null   float64       \n",
            " 6   Volume     6452 non-null   int64         \n",
            "dtypes: datetime64[ns](1), float64(5), int64(1)\n",
            "memory usage: 353.0 KB\n"
          ]
        }
      ]
    },
    {
      "cell_type": "code",
      "metadata": {
        "id": "xCMWIPqJ1Hs9"
      },
      "source": [
        "SunPharma = SunPharma.set_index('Date')"
      ],
      "execution_count": 10,
      "outputs": []
    },
    {
      "cell_type": "code",
      "metadata": {
        "colab": {
          "base_uri": "https://localhost:8080/"
        },
        "id": "7l9Q8Jqf1H2b",
        "outputId": "fa320513-a4a0-4ad8-cf40-2ed263f5f9b0"
      },
      "source": [
        "pip install https://github.com/matplotlib/mpl_finance/archive/master.zip"
      ],
      "execution_count": 11,
      "outputs": [
        {
          "output_type": "stream",
          "name": "stdout",
          "text": [
            "Collecting https://github.com/matplotlib/mpl_finance/archive/master.zip\n",
            "  Downloading https://github.com/matplotlib/mpl_finance/archive/master.zip\n",
            "\u001b[K     | 306 kB 2.7 MB/s\n",
            "\u001b[?25hRequirement already satisfied: matplotlib in /usr/local/lib/python3.7/dist-packages (from mpl-finance==0.10.1) (3.2.2)\n",
            "Requirement already satisfied: numpy>=1.11 in /usr/local/lib/python3.7/dist-packages (from matplotlib->mpl-finance==0.10.1) (1.19.5)\n",
            "Requirement already satisfied: kiwisolver>=1.0.1 in /usr/local/lib/python3.7/dist-packages (from matplotlib->mpl-finance==0.10.1) (1.3.1)\n",
            "Requirement already satisfied: python-dateutil>=2.1 in /usr/local/lib/python3.7/dist-packages (from matplotlib->mpl-finance==0.10.1) (2.8.2)\n",
            "Requirement already satisfied: cycler>=0.10 in /usr/local/lib/python3.7/dist-packages (from matplotlib->mpl-finance==0.10.1) (0.10.0)\n",
            "Requirement already satisfied: pyparsing!=2.0.4,!=2.1.2,!=2.1.6,>=2.0.1 in /usr/local/lib/python3.7/dist-packages (from matplotlib->mpl-finance==0.10.1) (2.4.7)\n",
            "Requirement already satisfied: six in /usr/local/lib/python3.7/dist-packages (from cycler>=0.10->matplotlib->mpl-finance==0.10.1) (1.15.0)\n",
            "Building wheels for collected packages: mpl-finance\n",
            "  Building wheel for mpl-finance (setup.py) ... \u001b[?25l\u001b[?25hdone\n",
            "  Created wheel for mpl-finance: filename=mpl_finance-0.10.1-py3-none-any.whl size=8435 sha256=5a9acdcf0b92d2f79496e2eba40fe0e7356a7ac1123ac9d7a1ef0c4535be4ba0\n",
            "  Stored in directory: /tmp/pip-ephem-wheel-cache-fi6cov2p/wheels/eb/17/99/0f3929e635912eb25fc346aaf43b4ee3da4a80dee8ce3d2e4f\n",
            "Successfully built mpl-finance\n",
            "Installing collected packages: mpl-finance\n",
            "Successfully installed mpl-finance-0.10.1\n"
          ]
        }
      ]
    },
    {
      "cell_type": "code",
      "metadata": {
        "colab": {
          "base_uri": "https://localhost:8080/"
        },
        "id": "kSnoGSmB1IF5",
        "outputId": "883d0bdd-d2e1-4036-905d-3e1e3f0bf0b2"
      },
      "source": [
        "pip install --upgrade mplfinance"
      ],
      "execution_count": 12,
      "outputs": [
        {
          "output_type": "stream",
          "name": "stdout",
          "text": [
            "Collecting mplfinance\n",
            "  Downloading mplfinance-0.12.7a17-py3-none-any.whl (62 kB)\n",
            "\u001b[?25l\r\u001b[K     |█████▎                          | 10 kB 17.5 MB/s eta 0:00:01\r\u001b[K     |██████████▌                     | 20 kB 10.1 MB/s eta 0:00:01\r\u001b[K     |███████████████▊                | 30 kB 7.9 MB/s eta 0:00:01\r\u001b[K     |█████████████████████           | 40 kB 7.0 MB/s eta 0:00:01\r\u001b[K     |██████████████████████████▎     | 51 kB 2.8 MB/s eta 0:00:01\r\u001b[K     |███████████████████████████████▌| 61 kB 3.0 MB/s eta 0:00:01\r\u001b[K     |████████████████████████████████| 62 kB 693 kB/s \n",
            "\u001b[?25hRequirement already satisfied: pandas in /usr/local/lib/python3.7/dist-packages (from mplfinance) (1.1.5)\n",
            "Requirement already satisfied: matplotlib in /usr/local/lib/python3.7/dist-packages (from mplfinance) (3.2.2)\n",
            "Requirement already satisfied: kiwisolver>=1.0.1 in /usr/local/lib/python3.7/dist-packages (from matplotlib->mplfinance) (1.3.1)\n",
            "Requirement already satisfied: pyparsing!=2.0.4,!=2.1.2,!=2.1.6,>=2.0.1 in /usr/local/lib/python3.7/dist-packages (from matplotlib->mplfinance) (2.4.7)\n",
            "Requirement already satisfied: python-dateutil>=2.1 in /usr/local/lib/python3.7/dist-packages (from matplotlib->mplfinance) (2.8.2)\n",
            "Requirement already satisfied: cycler>=0.10 in /usr/local/lib/python3.7/dist-packages (from matplotlib->mplfinance) (0.10.0)\n",
            "Requirement already satisfied: numpy>=1.11 in /usr/local/lib/python3.7/dist-packages (from matplotlib->mplfinance) (1.19.5)\n",
            "Requirement already satisfied: six in /usr/local/lib/python3.7/dist-packages (from cycler>=0.10->matplotlib->mplfinance) (1.15.0)\n",
            "Requirement already satisfied: pytz>=2017.2 in /usr/local/lib/python3.7/dist-packages (from pandas->mplfinance) (2018.9)\n",
            "Installing collected packages: mplfinance\n",
            "Successfully installed mplfinance-0.12.7a17\n"
          ]
        }
      ]
    },
    {
      "cell_type": "code",
      "metadata": {
        "colab": {
          "base_uri": "https://localhost:8080/",
          "height": 428
        },
        "id": "dHrwRAie1IRz",
        "outputId": "b9f871db-7df1-46e0-e8be-35b1b6a3ac90"
      },
      "source": [
        "import mplfinance as mpf\n",
        "mpf.plot(SunPharma['2020'], \n",
        "         type='candle', mav=(20), \n",
        "         volume=True, \n",
        "         title = 'SunPharma Share Price of 2020', \n",
        "         figratio=(20,6), tight_layout = True, \n",
        "         style = 'yahoo')"
      ],
      "execution_count": 13,
      "outputs": [
        {
          "output_type": "display_data",
          "data": {
            "image/png": "[encoded data removed]",
            "text/plain": [
              "<Figure size 1916.67x575 with 4 Axes>"
            ]
          },
          "metadata": {}
        }
      ]
    },
    {
      "cell_type": "code",
      "metadata": {
        "id": "KhmzK0wQtjLc"
      },
      "source": [
        "import numpy as np"
      ],
      "execution_count": 14,
      "outputs": []
    },
    {
      "cell_type": "code",
      "metadata": {
        "id": "11F8IoZWtpSq"
      },
      "source": [
        "from sklearn.preprocessing import MinMaxScaler\n",
        "scaler = MinMaxScaler(feature_range=(0,1))\n",
        "df1=scaler.fit_transform(np.array(df1).reshape(-1,1))"
      ],
      "execution_count": 15,
      "outputs": []
    },
    {
      "cell_type": "code",
      "metadata": {
        "colab": {
          "base_uri": "https://localhost:8080/"
        },
        "id": "yZaN017SuDfy",
        "outputId": "2adafc15-d856-4b9b-d2f4-2aebeb40ecfb"
      },
      "source": [
        "df1"
      ],
      "execution_count": 16,
      "outputs": [
        {
          "output_type": "execute_result",
          "data": {
            "text/plain": [
              "array([[2.30832134e-04],\n",
              "       [1.79425446e-04],\n",
              "       [1.85727221e-04],\n",
              "       ...,\n",
              "       [6.57251591e-01],\n",
              "       [6.49972738e-01],\n",
              "       [6.59606514e-01]])"
            ]
          },
          "metadata": {},
          "execution_count": 16
        }
      ]
    },
    {
      "cell_type": "code",
      "metadata": {
        "id": "v8nlDnRtuIUJ"
      },
      "source": [
        "training_size=int(len(df1)*0.75)\n",
        "test_size=len(df1)-training_size\n",
        "train_data,test_data=df1[0:training_size,:],df1[training_size:len(df1),:1]"
      ],
      "execution_count": 17,
      "outputs": []
    },
    {
      "cell_type": "code",
      "metadata": {
        "colab": {
          "base_uri": "https://localhost:8080/"
        },
        "id": "7BE7WAuPuhZB",
        "outputId": "72d14d01-e1e3-4299-f2a6-38974e4f8769"
      },
      "source": [
        "training_size, test_size"
      ],
      "execution_count": 18,
      "outputs": [
        {
          "output_type": "execute_result",
          "data": {
            "text/plain": [
              "(4839, 1613)"
            ]
          },
          "metadata": {},
          "execution_count": 18
        }
      ]
    },
    {
      "cell_type": "code",
      "metadata": {
        "colab": {
          "base_uri": "https://localhost:8080/"
        },
        "id": "l22HaDOrvDlY",
        "outputId": "ba95ed1b-d797-4ec3-ff4e-7e843eccc27f"
      },
      "source": [
        "len(train_data), len(test_data)"
      ],
      "execution_count": 19,
      "outputs": [
        {
          "output_type": "execute_result",
          "data": {
            "text/plain": [
              "(4839, 1613)"
            ]
          },
          "metadata": {},
          "execution_count": 19
        }
      ]
    },
    {
      "cell_type": "code",
      "metadata": {
        "id": "Wfb3iGg8vNYX"
      },
      "source": [
        "import numpy \n",
        "def create_dataset(dataset, time_step=1):\n",
        "  dataX, dataY = [], []\n",
        "  for i in range (len(dataset)-time_step-1):\n",
        "    a = dataset[i:(i+time_step), 0]\n",
        "    dataX.append(a)\n",
        "    dataY.append(dataset[i + time_step, 0])\n",
        "  return numpy.array(dataX), numpy.array(dataY)"
      ],
      "execution_count": 20,
      "outputs": []
    },
    {
      "cell_type": "code",
      "metadata": {
        "id": "HbGS_OF4wMHh"
      },
      "source": [
        "time_step = 100\n",
        "X_train, y_train = create_dataset(train_data, time_step)\n",
        "X_test, y_test = create_dataset(test_data, time_step)"
      ],
      "execution_count": 21,
      "outputs": []
    },
    {
      "cell_type": "code",
      "metadata": {
        "colab": {
          "base_uri": "https://localhost:8080/"
        },
        "id": "iKr4-5H0we3U",
        "outputId": "1159ad13-6d4c-483a-f2dc-f36fcebf18b8"
      },
      "source": [
        "print(X_train)"
      ],
      "execution_count": 22,
      "outputs": [
        {
          "output_type": "stream",
          "name": "stdout",
          "text": [
            "[[2.30832134e-04 1.79425446e-04 1.85727221e-04 ... 5.72768684e-04\n",
            "  5.57180806e-04 5.40598722e-04]\n",
            " [1.79425446e-04 1.85727221e-04 1.79094045e-04 ... 5.57180806e-04\n",
            "  5.40598722e-04 4.77583548e-04]\n",
            " [1.85727221e-04 1.79094045e-04 1.75446055e-04 ... 5.40598722e-04\n",
            "  4.77583548e-04 4.35795223e-04]\n",
            " ...\n",
            " [7.38988842e-01 7.33294189e-01 7.41986017e-01 ... 7.84588717e-01\n",
            "  7.94308107e-01 8.04712606e-01]\n",
            " [7.33294189e-01 7.41986017e-01 7.35477886e-01 ... 7.94308107e-01\n",
            "  8.04712606e-01 8.19869758e-01]\n",
            " [7.41986017e-01 7.35477886e-01 7.34535886e-01 ... 8.04712606e-01\n",
            "  8.19869758e-01 8.20383538e-01]]\n"
          ]
        }
      ]
    },
    {
      "cell_type": "code",
      "metadata": {
        "colab": {
          "base_uri": "https://localhost:8080/"
        },
        "id": "BKBYRqekw6pj",
        "outputId": "86e66428-bb44-4e78-8a99-72a1e66d13ef"
      },
      "source": [
        "print(X_train.shape), print(y_train.shape)"
      ],
      "execution_count": 23,
      "outputs": [
        {
          "output_type": "stream",
          "name": "stdout",
          "text": [
            "(4738, 100)\n",
            "(4738,)\n"
          ]
        },
        {
          "output_type": "execute_result",
          "data": {
            "text/plain": [
              "(None, None)"
            ]
          },
          "metadata": {},
          "execution_count": 23
        }
      ]
    },
    {
      "cell_type": "code",
      "metadata": {
        "colab": {
          "base_uri": "https://localhost:8080/"
        },
        "id": "_sIswsCTwiMV",
        "outputId": "5df09a1d-46f1-4d40-a679-32210299a75c"
      },
      "source": [
        "print(X_test.shape), print(y_test.shape)"
      ],
      "execution_count": 24,
      "outputs": [
        {
          "output_type": "stream",
          "name": "stdout",
          "text": [
            "(1512, 100)\n",
            "(1512,)\n"
          ]
        },
        {
          "output_type": "execute_result",
          "data": {
            "text/plain": [
              "(None, None)"
            ]
          },
          "metadata": {},
          "execution_count": 24
        }
      ]
    },
    {
      "cell_type": "code",
      "metadata": {
        "id": "2QsJz9xPw92t"
      },
      "source": [
        "X_train =X_train.reshape(X_train.shape[0],X_train.shape[1] , 1)\n",
        "X_test = X_test.reshape(X_test.shape[0],X_test.shape[1] , 1)"
      ],
      "execution_count": 25,
      "outputs": []
    },
    {
      "cell_type": "code",
      "metadata": {
        "id": "YY-0K12vytcx"
      },
      "source": [
        "from tensorflow.keras.models import Sequential\n",
        "from tensorflow.keras.layers import Dense\n",
        "from tensorflow.keras.layers import LSTM"
      ],
      "execution_count": 26,
      "outputs": []
    },
    {
      "cell_type": "code",
      "metadata": {
        "id": "_V5wKTh7yzKN"
      },
      "source": [
        "model=Sequential()\n",
        "model.add(LSTM(50,return_sequences=True,input_shape=(100,1)))\n",
        "model.add(LSTM(50,return_sequences=True))\n",
        "model.add(LSTM(50))\n",
        "model.add(Dense(1))\n",
        "model.compile(loss='mean_squared_error', optimizer='adam')"
      ],
      "execution_count": 27,
      "outputs": []
    },
    {
      "cell_type": "code",
      "metadata": {
        "colab": {
          "base_uri": "https://localhost:8080/"
        },
        "id": "qBPJ3FOXy_H_",
        "outputId": "f6b52747-3c61-4397-bc3f-d1f14e1f9d25"
      },
      "source": [
        "model.summary()"
      ],
      "execution_count": 28,
      "outputs": [
        {
          "output_type": "stream",
          "name": "stdout",
          "text": [
            "Model: \"sequential\"\n",
            "_________________________________________________________________\n",
            "Layer (type)                 Output Shape              Param #   \n",
            "=================================================================\n",
            "lstm (LSTM)                  (None, 100, 50)           10400     \n",
            "_________________________________________________________________\n",
            "lstm_1 (LSTM)                (None, 100, 50)           20200     \n",
            "_________________________________________________________________\n",
            "lstm_2 (LSTM)                (None, 50)                20200     \n",
            "_________________________________________________________________\n",
            "dense (Dense)                (None, 1)                 51        \n",
            "=================================================================\n",
            "Total params: 50,851\n",
            "Trainable params: 50,851\n",
            "Non-trainable params: 0\n",
            "_________________________________________________________________\n"
          ]
        }
      ]
    },
    {
      "cell_type": "code",
      "metadata": {
        "colab": {
          "base_uri": "https://localhost:8080/"
        },
        "id": "nVPrvBSvziFh",
        "outputId": "59bc04e6-b496-42d8-b1fd-90a764f65a21"
      },
      "source": [
        "model.fit(X_train, y_train, validation_data=(X_test, y_test), epochs=100, batch_size=64, verbose=1)"
      ],
      "execution_count": 29,
      "outputs": [
        {
          "output_type": "stream",
          "name": "stdout",
          "text": [
            "Epoch 1/100\n",
            "75/75 [==============================] - 22s 218ms/step - loss: 0.0029 - val_loss: 0.0011\n",
            "Epoch 2/100\n",
            "75/75 [==============================] - 15s 198ms/step - loss: 1.2120e-04 - val_loss: 0.0015\n",
            "Epoch 3/100\n",
            "75/75 [==============================] - 15s 199ms/step - loss: 1.2638e-04 - val_loss: 0.0020\n",
            "Epoch 4/100\n",
            "75/75 [==============================] - 15s 198ms/step - loss: 1.2026e-04 - val_loss: 8.6345e-04\n",
            "Epoch 5/100\n",
            "75/75 [==============================] - 15s 201ms/step - loss: 1.1903e-04 - val_loss: 0.0012\n",
            "Epoch 6/100\n",
            "75/75 [==============================] - 15s 202ms/step - loss: 1.2473e-04 - val_loss: 0.0010\n",
            "Epoch 7/100\n",
            "75/75 [==============================] - 15s 203ms/step - loss: 1.2631e-04 - val_loss: 7.8476e-04\n",
            "Epoch 8/100\n",
            "75/75 [==============================] - 15s 200ms/step - loss: 1.1267e-04 - val_loss: 0.0012\n",
            "Epoch 9/100\n",
            "75/75 [==============================] - 15s 200ms/step - loss: 1.0364e-04 - val_loss: 8.0309e-04\n",
            "Epoch 10/100\n",
            "75/75 [==============================] - 15s 195ms/step - loss: 9.9142e-05 - val_loss: 8.8679e-04\n",
            "Epoch 11/100\n",
            "75/75 [==============================] - 15s 197ms/step - loss: 1.2885e-04 - val_loss: 6.7552e-04\n",
            "Epoch 12/100\n",
            "75/75 [==============================] - 15s 195ms/step - loss: 9.3672e-05 - val_loss: 7.7990e-04\n",
            "Epoch 13/100\n",
            "75/75 [==============================] - 14s 193ms/step - loss: 8.9571e-05 - val_loss: 5.7889e-04\n",
            "Epoch 14/100\n",
            "75/75 [==============================] - 15s 194ms/step - loss: 1.1244e-04 - val_loss: 9.7419e-04\n",
            "Epoch 15/100\n",
            "75/75 [==============================] - 15s 194ms/step - loss: 9.0934e-05 - val_loss: 5.3759e-04\n",
            "Epoch 16/100\n",
            "75/75 [==============================] - 15s 195ms/step - loss: 9.5021e-05 - val_loss: 4.9733e-04\n",
            "Epoch 17/100\n",
            "75/75 [==============================] - 14s 190ms/step - loss: 8.0521e-05 - val_loss: 0.0012\n",
            "Epoch 18/100\n",
            "75/75 [==============================] - 14s 193ms/step - loss: 8.0494e-05 - val_loss: 6.8994e-04\n",
            "Epoch 19/100\n",
            "75/75 [==============================] - 14s 189ms/step - loss: 8.3438e-05 - val_loss: 5.1085e-04\n",
            "Epoch 20/100\n",
            "75/75 [==============================] - 15s 195ms/step - loss: 1.0671e-04 - val_loss: 6.1481e-04\n",
            "Epoch 21/100\n",
            "75/75 [==============================] - 15s 197ms/step - loss: 6.5625e-05 - val_loss: 3.9593e-04\n",
            "Epoch 22/100\n",
            "75/75 [==============================] - 15s 198ms/step - loss: 6.1690e-05 - val_loss: 0.0010\n",
            "Epoch 23/100\n",
            "75/75 [==============================] - 15s 195ms/step - loss: 7.4343e-05 - val_loss: 3.6146e-04\n",
            "Epoch 24/100\n",
            "75/75 [==============================] - 15s 194ms/step - loss: 5.6965e-05 - val_loss: 5.0599e-04\n",
            "Epoch 25/100\n",
            "75/75 [==============================] - 15s 197ms/step - loss: 4.9175e-05 - val_loss: 5.9571e-04\n",
            "Epoch 26/100\n",
            "75/75 [==============================] - 15s 195ms/step - loss: 6.1404e-05 - val_loss: 6.8552e-04\n",
            "Epoch 27/100\n",
            "75/75 [==============================] - 15s 195ms/step - loss: 5.9602e-05 - val_loss: 3.2141e-04\n",
            "Epoch 28/100\n",
            "75/75 [==============================] - 14s 193ms/step - loss: 4.0360e-05 - val_loss: 3.1754e-04\n",
            "Epoch 29/100\n",
            "75/75 [==============================] - 15s 194ms/step - loss: 4.6902e-05 - val_loss: 2.9028e-04\n",
            "Epoch 30/100\n",
            "75/75 [==============================] - 15s 195ms/step - loss: 4.7481e-05 - val_loss: 5.7754e-04\n",
            "Epoch 31/100\n",
            "75/75 [==============================] - 15s 198ms/step - loss: 5.1533e-05 - val_loss: 6.4148e-04\n",
            "Epoch 32/100\n",
            "75/75 [==============================] - 15s 195ms/step - loss: 4.8792e-05 - val_loss: 2.7094e-04\n",
            "Epoch 33/100\n",
            "75/75 [==============================] - 14s 193ms/step - loss: 4.2747e-05 - val_loss: 3.9120e-04\n",
            "Epoch 34/100\n",
            "75/75 [==============================] - 15s 195ms/step - loss: 4.0149e-05 - val_loss: 2.5775e-04\n",
            "Epoch 35/100\n",
            "75/75 [==============================] - 15s 197ms/step - loss: 4.3926e-05 - val_loss: 4.9378e-04\n",
            "Epoch 36/100\n",
            "75/75 [==============================] - 15s 200ms/step - loss: 7.0290e-05 - val_loss: 5.7502e-04\n",
            "Epoch 37/100\n",
            "75/75 [==============================] - 15s 197ms/step - loss: 4.3404e-05 - val_loss: 3.0484e-04\n",
            "Epoch 38/100\n",
            "75/75 [==============================] - 15s 196ms/step - loss: 3.8391e-05 - val_loss: 2.4156e-04\n",
            "Epoch 39/100\n",
            "75/75 [==============================] - 15s 197ms/step - loss: 3.4251e-05 - val_loss: 2.6707e-04\n",
            "Epoch 40/100\n",
            "75/75 [==============================] - 15s 196ms/step - loss: 3.1669e-05 - val_loss: 4.3127e-04\n",
            "Epoch 41/100\n",
            "75/75 [==============================] - 15s 197ms/step - loss: 3.8390e-05 - val_loss: 4.3544e-04\n",
            "Epoch 42/100\n",
            "75/75 [==============================] - 15s 195ms/step - loss: 4.8145e-05 - val_loss: 8.2217e-04\n",
            "Epoch 43/100\n",
            "75/75 [==============================] - 15s 199ms/step - loss: 3.7349e-05 - val_loss: 2.0972e-04\n",
            "Epoch 44/100\n",
            "75/75 [==============================] - 15s 203ms/step - loss: 2.9168e-05 - val_loss: 2.1815e-04\n",
            "Epoch 45/100\n",
            "75/75 [==============================] - 15s 202ms/step - loss: 4.0554e-05 - val_loss: 3.1700e-04\n",
            "Epoch 46/100\n",
            "75/75 [==============================] - 15s 194ms/step - loss: 4.6051e-05 - val_loss: 1.9951e-04\n",
            "Epoch 47/100\n",
            "75/75 [==============================] - 15s 198ms/step - loss: 3.6017e-05 - val_loss: 8.5094e-04\n",
            "Epoch 48/100\n",
            "75/75 [==============================] - 15s 198ms/step - loss: 3.3346e-05 - val_loss: 3.8409e-04\n",
            "Epoch 49/100\n",
            "75/75 [==============================] - 15s 197ms/step - loss: 3.3468e-05 - val_loss: 9.6676e-04\n",
            "Epoch 50/100\n",
            "75/75 [==============================] - 15s 199ms/step - loss: 3.8598e-05 - val_loss: 1.7692e-04\n",
            "Epoch 51/100\n",
            "75/75 [==============================] - 15s 196ms/step - loss: 3.8698e-05 - val_loss: 1.8448e-04\n",
            "Epoch 52/100\n",
            "75/75 [==============================] - 15s 198ms/step - loss: 2.5652e-05 - val_loss: 3.4542e-04\n",
            "Epoch 53/100\n",
            "75/75 [==============================] - 15s 204ms/step - loss: 3.0753e-05 - val_loss: 2.9512e-04\n",
            "Epoch 54/100\n",
            "75/75 [==============================] - 16s 217ms/step - loss: 3.7573e-05 - val_loss: 8.9849e-04\n",
            "Epoch 55/100\n",
            "75/75 [==============================] - 16s 210ms/step - loss: 3.4117e-05 - val_loss: 1.6479e-04\n",
            "Epoch 56/100\n",
            "75/75 [==============================] - 17s 228ms/step - loss: 2.2069e-05 - val_loss: 1.7451e-04\n",
            "Epoch 57/100\n",
            "75/75 [==============================] - 16s 214ms/step - loss: 3.8708e-05 - val_loss: 6.3538e-04\n",
            "Epoch 58/100\n",
            "75/75 [==============================] - 15s 200ms/step - loss: 3.7536e-05 - val_loss: 1.5416e-04\n",
            "Epoch 59/100\n",
            "75/75 [==============================] - 15s 198ms/step - loss: 2.4292e-05 - val_loss: 2.3549e-04\n",
            "Epoch 60/100\n",
            "75/75 [==============================] - 15s 195ms/step - loss: 2.2799e-05 - val_loss: 1.4423e-04\n",
            "Epoch 61/100\n",
            "75/75 [==============================] - 15s 195ms/step - loss: 2.8635e-05 - val_loss: 1.4953e-04\n",
            "Epoch 62/100\n",
            "75/75 [==============================] - 15s 194ms/step - loss: 2.5432e-05 - val_loss: 1.7392e-04\n",
            "Epoch 63/100\n",
            "75/75 [==============================] - 15s 198ms/step - loss: 2.6549e-05 - val_loss: 1.6919e-04\n",
            "Epoch 64/100\n",
            "75/75 [==============================] - 15s 195ms/step - loss: 2.7192e-05 - val_loss: 1.3781e-04\n",
            "Epoch 65/100\n",
            "75/75 [==============================] - 15s 199ms/step - loss: 2.2621e-05 - val_loss: 2.1096e-04\n",
            "Epoch 66/100\n",
            "75/75 [==============================] - 15s 197ms/step - loss: 2.1032e-05 - val_loss: 3.3210e-04\n",
            "Epoch 67/100\n",
            "75/75 [==============================] - 15s 199ms/step - loss: 2.5448e-05 - val_loss: 1.5601e-04\n",
            "Epoch 68/100\n",
            "75/75 [==============================] - 15s 196ms/step - loss: 2.4874e-05 - val_loss: 1.4347e-04\n",
            "Epoch 69/100\n",
            "75/75 [==============================] - 15s 197ms/step - loss: 2.8792e-05 - val_loss: 1.5730e-04\n",
            "Epoch 70/100\n",
            "75/75 [==============================] - 15s 196ms/step - loss: 2.1858e-05 - val_loss: 2.1650e-04\n",
            "Epoch 71/100\n",
            "75/75 [==============================] - 15s 196ms/step - loss: 2.2792e-05 - val_loss: 3.0529e-04\n",
            "Epoch 72/100\n",
            "75/75 [==============================] - 15s 195ms/step - loss: 2.1956e-05 - val_loss: 4.7350e-04\n",
            "Epoch 73/100\n",
            "75/75 [==============================] - 15s 195ms/step - loss: 2.7198e-05 - val_loss: 2.2232e-04\n",
            "Epoch 74/100\n",
            "75/75 [==============================] - 15s 195ms/step - loss: 2.1157e-05 - val_loss: 1.5524e-04\n",
            "Epoch 75/100\n",
            "75/75 [==============================] - 15s 194ms/step - loss: 1.9911e-05 - val_loss: 1.5430e-04\n",
            "Epoch 76/100\n",
            "75/75 [==============================] - 15s 195ms/step - loss: 1.8200e-05 - val_loss: 2.7064e-04\n",
            "Epoch 77/100\n",
            "75/75 [==============================] - 15s 195ms/step - loss: 2.2023e-05 - val_loss: 2.1079e-04\n",
            "Epoch 78/100\n",
            "75/75 [==============================] - 15s 196ms/step - loss: 2.1168e-05 - val_loss: 1.5809e-04\n",
            "Epoch 79/100\n",
            "75/75 [==============================] - 15s 196ms/step - loss: 1.6822e-05 - val_loss: 1.4237e-04\n",
            "Epoch 80/100\n",
            "75/75 [==============================] - 15s 196ms/step - loss: 1.6418e-05 - val_loss: 1.7366e-04\n",
            "Epoch 81/100\n",
            "75/75 [==============================] - 15s 200ms/step - loss: 1.8133e-05 - val_loss: 1.7915e-04\n",
            "Epoch 82/100\n",
            "75/75 [==============================] - 15s 195ms/step - loss: 2.1086e-05 - val_loss: 1.1811e-04\n",
            "Epoch 83/100\n",
            "75/75 [==============================] - 15s 196ms/step - loss: 1.8528e-05 - val_loss: 2.1798e-04\n",
            "Epoch 84/100\n",
            "75/75 [==============================] - 15s 196ms/step - loss: 2.4657e-05 - val_loss: 5.4330e-04\n",
            "Epoch 85/100\n",
            "75/75 [==============================] - 15s 198ms/step - loss: 3.5325e-05 - val_loss: 2.4266e-04\n",
            "Epoch 86/100\n",
            "75/75 [==============================] - 15s 196ms/step - loss: 3.5199e-05 - val_loss: 1.1554e-04\n",
            "Epoch 87/100\n",
            "75/75 [==============================] - 16s 207ms/step - loss: 2.1778e-05 - val_loss: 1.5878e-04\n",
            "Epoch 88/100\n",
            "75/75 [==============================] - 15s 197ms/step - loss: 2.1866e-05 - val_loss: 1.2910e-04\n",
            "Epoch 89/100\n",
            "75/75 [==============================] - 15s 198ms/step - loss: 1.8104e-05 - val_loss: 2.4114e-04\n",
            "Epoch 90/100\n",
            "75/75 [==============================] - 15s 196ms/step - loss: 1.6845e-05 - val_loss: 1.7082e-04\n",
            "Epoch 91/100\n",
            "75/75 [==============================] - 15s 202ms/step - loss: 2.1586e-05 - val_loss: 1.5029e-04\n",
            "Epoch 92/100\n",
            "75/75 [==============================] - 15s 200ms/step - loss: 1.6724e-05 - val_loss: 1.8508e-04\n",
            "Epoch 93/100\n",
            "75/75 [==============================] - 15s 199ms/step - loss: 2.0266e-05 - val_loss: 6.4656e-04\n",
            "Epoch 94/100\n",
            "75/75 [==============================] - 15s 198ms/step - loss: 2.7967e-05 - val_loss: 1.1493e-04\n",
            "Epoch 95/100\n",
            "75/75 [==============================] - 15s 198ms/step - loss: 2.1731e-05 - val_loss: 6.5142e-04\n",
            "Epoch 96/100\n",
            "75/75 [==============================] - 16s 207ms/step - loss: 4.4810e-05 - val_loss: 1.2838e-04\n",
            "Epoch 97/100\n",
            "75/75 [==============================] - 15s 203ms/step - loss: 1.5591e-05 - val_loss: 1.2317e-04\n",
            "Epoch 98/100\n",
            "75/75 [==============================] - 15s 198ms/step - loss: 1.6395e-05 - val_loss: 1.2197e-04\n",
            "Epoch 99/100\n",
            "75/75 [==============================] - 15s 204ms/step - loss: 1.7947e-05 - val_loss: 1.1826e-04\n",
            "Epoch 100/100\n",
            "75/75 [==============================] - 15s 198ms/step - loss: 1.7112e-05 - val_loss: 1.3294e-04\n"
          ]
        },
        {
          "output_type": "execute_result",
          "data": {
            "text/plain": [
              "<keras.callbacks.History at 0x7fc42d11da10>"
            ]
          },
          "metadata": {},
          "execution_count": 29
        }
      ]
    },
    {
      "cell_type": "code",
      "metadata": {
        "id": "u82EsQ4a0c-2"
      },
      "source": [
        "import tensorflow as tf"
      ],
      "execution_count": 30,
      "outputs": []
    },
    {
      "cell_type": "code",
      "metadata": {
        "colab": {
          "base_uri": "https://localhost:8080/",
          "height": 37
        },
        "id": "xZH6Ysln0llD",
        "outputId": "6f8c7683-c62e-4ea7-d660-74bfda83a894"
      },
      "source": [
        "tf.__version__"
      ],
      "execution_count": 31,
      "outputs": [
        {
          "output_type": "execute_result",
          "data": {
            "application/vnd.google.colaboratory.intrinsic+json": {
              "type": "string"
            },
            "text/plain": [
              "'2.6.0'"
            ]
          },
          "metadata": {},
          "execution_count": 31
        }
      ]
    },
    {
      "cell_type": "code",
      "metadata": {
        "id": "fjDIwcMH0ngp"
      },
      "source": [
        "### Lets Do the prediction and check performance metrics\n",
        "train_predict=model.predict(X_train)\n",
        "test_predict=model.predict(X_test)"
      ],
      "execution_count": 32,
      "outputs": []
    },
    {
      "cell_type": "code",
      "metadata": {
        "id": "pnW1sUZW0pbC"
      },
      "source": [
        "##Transformback to original form\n",
        "train_predict=scaler.inverse_transform(train_predict)\n",
        "test_predict=scaler.inverse_transform(test_predict)"
      ],
      "execution_count": 33,
      "outputs": []
    },
    {
      "cell_type": "code",
      "metadata": {
        "colab": {
          "base_uri": "https://localhost:8080/"
        },
        "id": "oewqwI3j0rJj",
        "outputId": "21692be8-e402-4892-f630-6095a5415dd2"
      },
      "source": [
        "### Calculate RMSE performance metrics\n",
        "import math\n",
        "from sklearn.metrics import mean_squared_error\n",
        "math.sqrt(mean_squared_error(y_train,train_predict))"
      ],
      "execution_count": 34,
      "outputs": [
        {
          "output_type": "execute_result",
          "data": {
            "text/plain": [
              "234.89393075230325"
            ]
          },
          "metadata": {},
          "execution_count": 34
        }
      ]
    },
    {
      "cell_type": "code",
      "metadata": {
        "colab": {
          "base_uri": "https://localhost:8080/"
        },
        "id": "yV7wtOxU0thE",
        "outputId": "5943ecd6-9f90-412e-db09-a2032ae3ada1"
      },
      "source": [
        "### Test Data RMSE\n",
        "math.sqrt(mean_squared_error(y_test,test_predict))"
      ],
      "execution_count": 35,
      "outputs": [
        {
          "output_type": "execute_result",
          "data": {
            "text/plain": [
              "605.1051951298307"
            ]
          },
          "metadata": {},
          "execution_count": 35
        }
      ]
    },
    {
      "cell_type": "code",
      "metadata": {
        "colab": {
          "base_uri": "https://localhost:8080/",
          "height": 452
        },
        "id": "b2O9FdYN03ec",
        "outputId": "9ba1eca2-e34b-412f-e8ee-41263de28c29"
      },
      "source": [
        "### Plotting \n",
        "# shift train predictions for plotting\n",
        "look_back=100\n",
        "trainPredictPlot = numpy.empty_like(df1)\n",
        "trainPredictPlot[:, :] = np.nan\n",
        "trainPredictPlot[look_back:len(train_predict)+look_back, :] = train_predict\n",
        "# shift test predictions for plotting\n",
        "testPredictPlot = numpy.empty_like(df1)\n",
        "testPredictPlot[:, :] = numpy.nan\n",
        "testPredictPlot[len(train_predict)+(look_back*2)+1:len(df1)-1, :] = test_predict\n",
        "# plot baseline and predictions\n",
        "plt.plot(scaler.inverse_transform(df1))\n",
        "plt.plot(trainPredictPlot)\n",
        "plt.plot(testPredictPlot)\n",
        "plt.title('Sun Pharma Train Test Split')\n",
        "plt.show()"
      ],
      "execution_count": 36,
      "outputs": [
        {
          "output_type": "display_data",
          "data": {
            "image/png": "[encoded data removed]",
            "text/plain": [
              "<Figure size 640x480 with 1 Axes>"
            ]
          },
          "metadata": {}
        }
      ]
    },
    {
      "cell_type": "code",
      "metadata": {
        "colab": {
          "base_uri": "https://localhost:8080/"
        },
        "id": "XJDVfIMk05WN",
        "outputId": "59097682-633e-463d-e8a8-0c3924429a50"
      },
      "source": [
        "len(test_data)"
      ],
      "execution_count": 37,
      "outputs": [
        {
          "output_type": "execute_result",
          "data": {
            "text/plain": [
              "1613"
            ]
          },
          "metadata": {},
          "execution_count": 37
        }
      ]
    },
    {
      "cell_type": "code",
      "metadata": {
        "colab": {
          "base_uri": "https://localhost:8080/"
        },
        "id": "faLcUIDr08mi",
        "outputId": "87b8bdaa-1c97-4973-b136-fc30aa56425b"
      },
      "source": [
        "x_input=test_data[1513:].reshape(1,-1)\n",
        "x_input.shape"
      ],
      "execution_count": 41,
      "outputs": [
        {
          "output_type": "execute_result",
          "data": {
            "text/plain": [
              "(1, 100)"
            ]
          },
          "metadata": {},
          "execution_count": 41
        }
      ]
    },
    {
      "cell_type": "code",
      "metadata": {
        "id": "7oKtWwxZ09IM"
      },
      "source": [
        "temp_input=list(x_input)\n",
        "temp_input=temp_input[0].tolist()"
      ],
      "execution_count": 42,
      "outputs": []
    },
    {
      "cell_type": "code",
      "metadata": {
        "colab": {
          "base_uri": "https://localhost:8080/"
        },
        "id": "Nm8nnIo809lO",
        "outputId": "0169874b-f476-48b9-c886-c06bf33e1d01"
      },
      "source": [
        "# demonstrate prediction for next 30 days\n",
        "from numpy import array\n",
        "\n",
        "lst_output=[]\n",
        "n_steps=100\n",
        "i=0\n",
        "while(i<30):\n",
        "    \n",
        "    if(len(temp_input)>100):\n",
        "        #print(temp_input)\n",
        "        x_input=np.array(temp_input[1:])\n",
        "        print(\"{} day input {}\".format(i,x_input))\n",
        "        x_input=x_input.reshape(1,-1)\n",
        "        x_input = x_input.reshape((1, n_steps, 1))\n",
        "        #print(x_input)\n",
        "        yhat = model.predict(x_input, verbose=0)\n",
        "        print(\"{} day output {}\".format(i,yhat))\n",
        "        temp_input.extend(yhat[0].tolist())\n",
        "        temp_input=temp_input[1:]\n",
        "        #print(temp_input)\n",
        "        lst_output.extend(yhat.tolist())\n",
        "        i=i+1\n",
        "    else:\n",
        "        x_input = x_input.reshape((1, n_steps,1))\n",
        "        yhat = model.predict(x_input, verbose=0)\n",
        "        print(yhat[0])\n",
        "        temp_input.extend(yhat[0].tolist())\n",
        "        print(len(temp_input))\n",
        "        lst_output.extend(yhat.tolist())\n",
        "        i=i+1\n",
        "    \n",
        "\n",
        "print(lst_output)"
      ],
      "execution_count": 43,
      "outputs": [
        {
          "output_type": "stream",
          "name": "stdout",
          "text": [
            "[0.65531963]\n",
            "101\n",
            "1 day input [0.53000013 0.53051391 0.52469084 0.54395839 0.52905813 0.53590881\n",
            " 0.54096122 0.5519223  0.54729812 0.55115163 0.54669867 0.544986\n",
            " 0.54220291 0.54609923 0.54965304 0.55059499 0.55911554 0.56318314\n",
            " 0.55115163 0.58390647 0.58048113 0.58052393 0.59658023 0.60505792\n",
            " 0.60056216 0.59079996 0.58711773 0.59024332 0.60103318 0.58686079\n",
            " 0.58990082 0.59037179 0.59478189 0.60137569 0.59769345 0.57221747\n",
            " 0.57097577 0.57333069 0.57881126 0.5771414  0.57581409 0.57701293\n",
            " 0.57992449 0.57487209 0.57761237 0.58210813 0.57851151 0.57517184\n",
            " 0.57118985 0.56819268 0.57114705 0.57358758 0.56969127 0.56836396\n",
            " 0.5679786  0.57435831 0.57782646 0.57893968 0.57709859 0.58454872\n",
            " 0.58206533 0.58116619 0.57521464 0.58108052 0.56977693 0.57063327\n",
            " 0.57118985 0.58356392 0.58609012 0.58356392 0.58835938 0.58891601\n",
            " 0.57795493 0.58724615 0.59298361 0.60103318 0.58810248 0.58767432\n",
            " 0.60069063 0.66144766 0.6623468  0.67930223 0.67155241 0.67189496\n",
            " 0.67108143 0.67416422 0.67806054 0.66624312 0.66547244 0.6651727\n",
            " 0.66731354 0.67018229 0.66911187 0.65048657 0.64894512 0.65922115\n",
            " 0.65725159 0.64997274 0.65960651 0.65531963]\n",
            "1 day output [[0.64689976]]\n",
            "2 day input [0.53051391 0.52469084 0.54395839 0.52905813 0.53590881 0.54096122\n",
            " 0.5519223  0.54729812 0.55115163 0.54669867 0.544986   0.54220291\n",
            " 0.54609923 0.54965304 0.55059499 0.55911554 0.56318314 0.55115163\n",
            " 0.58390647 0.58048113 0.58052393 0.59658023 0.60505792 0.60056216\n",
            " 0.59079996 0.58711773 0.59024332 0.60103318 0.58686079 0.58990082\n",
            " 0.59037179 0.59478189 0.60137569 0.59769345 0.57221747 0.57097577\n",
            " 0.57333069 0.57881126 0.5771414  0.57581409 0.57701293 0.57992449\n",
            " 0.57487209 0.57761237 0.58210813 0.57851151 0.57517184 0.57118985\n",
            " 0.56819268 0.57114705 0.57358758 0.56969127 0.56836396 0.5679786\n",
            " 0.57435831 0.57782646 0.57893968 0.57709859 0.58454872 0.58206533\n",
            " 0.58116619 0.57521464 0.58108052 0.56977693 0.57063327 0.57118985\n",
            " 0.58356392 0.58609012 0.58356392 0.58835938 0.58891601 0.57795493\n",
            " 0.58724615 0.59298361 0.60103318 0.58810248 0.58767432 0.60069063\n",
            " 0.66144766 0.6623468  0.67930223 0.67155241 0.67189496 0.67108143\n",
            " 0.67416422 0.67806054 0.66624312 0.66547244 0.6651727  0.66731354\n",
            " 0.67018229 0.66911187 0.65048657 0.64894512 0.65922115 0.65725159\n",
            " 0.64997274 0.65960651 0.65531963 0.64689976]\n",
            "2 day output [[0.6383744]]\n",
            "3 day input [0.52469084 0.54395839 0.52905813 0.53590881 0.54096122 0.5519223\n",
            " 0.54729812 0.55115163 0.54669867 0.544986   0.54220291 0.54609923\n",
            " 0.54965304 0.55059499 0.55911554 0.56318314 0.55115163 0.58390647\n",
            " 0.58048113 0.58052393 0.59658023 0.60505792 0.60056216 0.59079996\n",
            " 0.58711773 0.59024332 0.60103318 0.58686079 0.58990082 0.59037179\n",
            " 0.59478189 0.60137569 0.59769345 0.57221747 0.57097577 0.57333069\n",
            " 0.57881126 0.5771414  0.57581409 0.57701293 0.57992449 0.57487209\n",
            " 0.57761237 0.58210813 0.57851151 0.57517184 0.57118985 0.56819268\n",
            " 0.57114705 0.57358758 0.56969127 0.56836396 0.5679786  0.57435831\n",
            " 0.57782646 0.57893968 0.57709859 0.58454872 0.58206533 0.58116619\n",
            " 0.57521464 0.58108052 0.56977693 0.57063327 0.57118985 0.58356392\n",
            " 0.58609012 0.58356392 0.58835938 0.58891601 0.57795493 0.58724615\n",
            " 0.59298361 0.60103318 0.58810248 0.58767432 0.60069063 0.66144766\n",
            " 0.6623468  0.67930223 0.67155241 0.67189496 0.67108143 0.67416422\n",
            " 0.67806054 0.66624312 0.66547244 0.6651727  0.66731354 0.67018229\n",
            " 0.66911187 0.65048657 0.64894512 0.65922115 0.65725159 0.64997274\n",
            " 0.65960651 0.65531963 0.64689976 0.63837439]\n",
            "3 day output [[0.63104534]]\n",
            "4 day input [0.54395839 0.52905813 0.53590881 0.54096122 0.5519223  0.54729812\n",
            " 0.55115163 0.54669867 0.544986   0.54220291 0.54609923 0.54965304\n",
            " 0.55059499 0.55911554 0.56318314 0.55115163 0.58390647 0.58048113\n",
            " 0.58052393 0.59658023 0.60505792 0.60056216 0.59079996 0.58711773\n",
            " 0.59024332 0.60103318 0.58686079 0.58990082 0.59037179 0.59478189\n",
            " 0.60137569 0.59769345 0.57221747 0.57097577 0.57333069 0.57881126\n",
            " 0.5771414  0.57581409 0.57701293 0.57992449 0.57487209 0.57761237\n",
            " 0.58210813 0.57851151 0.57517184 0.57118985 0.56819268 0.57114705\n",
            " 0.57358758 0.56969127 0.56836396 0.5679786  0.57435831 0.57782646\n",
            " 0.57893968 0.57709859 0.58454872 0.58206533 0.58116619 0.57521464\n",
            " 0.58108052 0.56977693 0.57063327 0.57118985 0.58356392 0.58609012\n",
            " 0.58356392 0.58835938 0.58891601 0.57795493 0.58724615 0.59298361\n",
            " 0.60103318 0.58810248 0.58767432 0.60069063 0.66144766 0.6623468\n",
            " 0.67930223 0.67155241 0.67189496 0.67108143 0.67416422 0.67806054\n",
            " 0.66624312 0.66547244 0.6651727  0.66731354 0.67018229 0.66911187\n",
            " 0.65048657 0.64894512 0.65922115 0.65725159 0.64997274 0.65960651\n",
            " 0.65531963 0.64689976 0.63837439 0.63104534]\n",
            "4 day output [[0.6244064]]\n",
            "5 day input [0.52905813 0.53590881 0.54096122 0.5519223  0.54729812 0.55115163\n",
            " 0.54669867 0.544986   0.54220291 0.54609923 0.54965304 0.55059499\n",
            " 0.55911554 0.56318314 0.55115163 0.58390647 0.58048113 0.58052393\n",
            " 0.59658023 0.60505792 0.60056216 0.59079996 0.58711773 0.59024332\n",
            " 0.60103318 0.58686079 0.58990082 0.59037179 0.59478189 0.60137569\n",
            " 0.59769345 0.57221747 0.57097577 0.57333069 0.57881126 0.5771414\n",
            " 0.57581409 0.57701293 0.57992449 0.57487209 0.57761237 0.58210813\n",
            " 0.57851151 0.57517184 0.57118985 0.56819268 0.57114705 0.57358758\n",
            " 0.56969127 0.56836396 0.5679786  0.57435831 0.57782646 0.57893968\n",
            " 0.57709859 0.58454872 0.58206533 0.58116619 0.57521464 0.58108052\n",
            " 0.56977693 0.57063327 0.57118985 0.58356392 0.58609012 0.58356392\n",
            " 0.58835938 0.58891601 0.57795493 0.58724615 0.59298361 0.60103318\n",
            " 0.58810248 0.58767432 0.60069063 0.66144766 0.6623468  0.67930223\n",
            " 0.67155241 0.67189496 0.67108143 0.67416422 0.67806054 0.66624312\n",
            " 0.66547244 0.6651727  0.66731354 0.67018229 0.66911187 0.65048657\n",
            " 0.64894512 0.65922115 0.65725159 0.64997274 0.65960651 0.65531963\n",
            " 0.64689976 0.63837439 0.63104534 0.6244064 ]\n",
            "5 day output [[0.61811125]]\n",
            "6 day input [0.53590881 0.54096122 0.5519223  0.54729812 0.55115163 0.54669867\n",
            " 0.544986   0.54220291 0.54609923 0.54965304 0.55059499 0.55911554\n",
            " 0.56318314 0.55115163 0.58390647 0.58048113 0.58052393 0.59658023\n",
            " 0.60505792 0.60056216 0.59079996 0.58711773 0.59024332 0.60103318\n",
            " 0.58686079 0.58990082 0.59037179 0.59478189 0.60137569 0.59769345\n",
            " 0.57221747 0.57097577 0.57333069 0.57881126 0.5771414  0.57581409\n",
            " 0.57701293 0.57992449 0.57487209 0.57761237 0.58210813 0.57851151\n",
            " 0.57517184 0.57118985 0.56819268 0.57114705 0.57358758 0.56969127\n",
            " 0.56836396 0.5679786  0.57435831 0.57782646 0.57893968 0.57709859\n",
            " 0.58454872 0.58206533 0.58116619 0.57521464 0.58108052 0.56977693\n",
            " 0.57063327 0.57118985 0.58356392 0.58609012 0.58356392 0.58835938\n",
            " 0.58891601 0.57795493 0.58724615 0.59298361 0.60103318 0.58810248\n",
            " 0.58767432 0.60069063 0.66144766 0.6623468  0.67930223 0.67155241\n",
            " 0.67189496 0.67108143 0.67416422 0.67806054 0.66624312 0.66547244\n",
            " 0.6651727  0.66731354 0.67018229 0.66911187 0.65048657 0.64894512\n",
            " 0.65922115 0.65725159 0.64997274 0.65960651 0.65531963 0.64689976\n",
            " 0.63837439 0.63104534 0.6244064  0.61811125]\n",
            "6 day output [[0.6119323]]\n",
            "7 day input [0.54096122 0.5519223  0.54729812 0.55115163 0.54669867 0.544986\n",
            " 0.54220291 0.54609923 0.54965304 0.55059499 0.55911554 0.56318314\n",
            " 0.55115163 0.58390647 0.58048113 0.58052393 0.59658023 0.60505792\n",
            " 0.60056216 0.59079996 0.58711773 0.59024332 0.60103318 0.58686079\n",
            " 0.58990082 0.59037179 0.59478189 0.60137569 0.59769345 0.57221747\n",
            " 0.57097577 0.57333069 0.57881126 0.5771414  0.57581409 0.57701293\n",
            " 0.57992449 0.57487209 0.57761237 0.58210813 0.57851151 0.57517184\n",
            " 0.57118985 0.56819268 0.57114705 0.57358758 0.56969127 0.56836396\n",
            " 0.5679786  0.57435831 0.57782646 0.57893968 0.57709859 0.58454872\n",
            " 0.58206533 0.58116619 0.57521464 0.58108052 0.56977693 0.57063327\n",
            " 0.57118985 0.58356392 0.58609012 0.58356392 0.58835938 0.58891601\n",
            " 0.57795493 0.58724615 0.59298361 0.60103318 0.58810248 0.58767432\n",
            " 0.60069063 0.66144766 0.6623468  0.67930223 0.67155241 0.67189496\n",
            " 0.67108143 0.67416422 0.67806054 0.66624312 0.66547244 0.6651727\n",
            " 0.66731354 0.67018229 0.66911187 0.65048657 0.64894512 0.65922115\n",
            " 0.65725159 0.64997274 0.65960651 0.65531963 0.64689976 0.63837439\n",
            " 0.63104534 0.6244064  0.61811125 0.61193228]\n",
            "7 day output [[0.6058125]]\n",
            "8 day input [0.5519223  0.54729812 0.55115163 0.54669867 0.544986   0.54220291\n",
            " 0.54609923 0.54965304 0.55059499 0.55911554 0.56318314 0.55115163\n",
            " 0.58390647 0.58048113 0.58052393 0.59658023 0.60505792 0.60056216\n",
            " 0.59079996 0.58711773 0.59024332 0.60103318 0.58686079 0.58990082\n",
            " 0.59037179 0.59478189 0.60137569 0.59769345 0.57221747 0.57097577\n",
            " 0.57333069 0.57881126 0.5771414  0.57581409 0.57701293 0.57992449\n",
            " 0.57487209 0.57761237 0.58210813 0.57851151 0.57517184 0.57118985\n",
            " 0.56819268 0.57114705 0.57358758 0.56969127 0.56836396 0.5679786\n",
            " 0.57435831 0.57782646 0.57893968 0.57709859 0.58454872 0.58206533\n",
            " 0.58116619 0.57521464 0.58108052 0.56977693 0.57063327 0.57118985\n",
            " 0.58356392 0.58609012 0.58356392 0.58835938 0.58891601 0.57795493\n",
            " 0.58724615 0.59298361 0.60103318 0.58810248 0.58767432 0.60069063\n",
            " 0.66144766 0.6623468  0.67930223 0.67155241 0.67189496 0.67108143\n",
            " 0.67416422 0.67806054 0.66624312 0.66547244 0.6651727  0.66731354\n",
            " 0.67018229 0.66911187 0.65048657 0.64894512 0.65922115 0.65725159\n",
            " 0.64997274 0.65960651 0.65531963 0.64689976 0.63837439 0.63104534\n",
            " 0.6244064  0.61811125 0.61193228 0.60581249]\n",
            "8 day output [[0.5997943]]\n",
            "9 day input [0.54729812 0.55115163 0.54669867 0.544986   0.54220291 0.54609923\n",
            " 0.54965304 0.55059499 0.55911554 0.56318314 0.55115163 0.58390647\n",
            " 0.58048113 0.58052393 0.59658023 0.60505792 0.60056216 0.59079996\n",
            " 0.58711773 0.59024332 0.60103318 0.58686079 0.58990082 0.59037179\n",
            " 0.59478189 0.60137569 0.59769345 0.57221747 0.57097577 0.57333069\n",
            " 0.57881126 0.5771414  0.57581409 0.57701293 0.57992449 0.57487209\n",
            " 0.57761237 0.58210813 0.57851151 0.57517184 0.57118985 0.56819268\n",
            " 0.57114705 0.57358758 0.56969127 0.56836396 0.5679786  0.57435831\n",
            " 0.57782646 0.57893968 0.57709859 0.58454872 0.58206533 0.58116619\n",
            " 0.57521464 0.58108052 0.56977693 0.57063327 0.57118985 0.58356392\n",
            " 0.58609012 0.58356392 0.58835938 0.58891601 0.57795493 0.58724615\n",
            " 0.59298361 0.60103318 0.58810248 0.58767432 0.60069063 0.66144766\n",
            " 0.6623468  0.67930223 0.67155241 0.67189496 0.67108143 0.67416422\n",
            " 0.67806054 0.66624312 0.66547244 0.6651727  0.66731354 0.67018229\n",
            " 0.66911187 0.65048657 0.64894512 0.65922115 0.65725159 0.64997274\n",
            " 0.65960651 0.65531963 0.64689976 0.63837439 0.63104534 0.6244064\n",
            " 0.61811125 0.61193228 0.60581249 0.59979433]\n",
            "9 day output [[0.5939449]]\n",
            "10 day input [0.55115163 0.54669867 0.544986   0.54220291 0.54609923 0.54965304\n",
            " 0.55059499 0.55911554 0.56318314 0.55115163 0.58390647 0.58048113\n",
            " 0.58052393 0.59658023 0.60505792 0.60056216 0.59079996 0.58711773\n",
            " 0.59024332 0.60103318 0.58686079 0.58990082 0.59037179 0.59478189\n",
            " 0.60137569 0.59769345 0.57221747 0.57097577 0.57333069 0.57881126\n",
            " 0.5771414  0.57581409 0.57701293 0.57992449 0.57487209 0.57761237\n",
            " 0.58210813 0.57851151 0.57517184 0.57118985 0.56819268 0.57114705\n",
            " 0.57358758 0.56969127 0.56836396 0.5679786  0.57435831 0.57782646\n",
            " 0.57893968 0.57709859 0.58454872 0.58206533 0.58116619 0.57521464\n",
            " 0.58108052 0.56977693 0.57063327 0.57118985 0.58356392 0.58609012\n",
            " 0.58356392 0.58835938 0.58891601 0.57795493 0.58724615 0.59298361\n",
            " 0.60103318 0.58810248 0.58767432 0.60069063 0.66144766 0.6623468\n",
            " 0.67930223 0.67155241 0.67189496 0.67108143 0.67416422 0.67806054\n",
            " 0.66624312 0.66547244 0.6651727  0.66731354 0.67018229 0.66911187\n",
            " 0.65048657 0.64894512 0.65922115 0.65725159 0.64997274 0.65960651\n",
            " 0.65531963 0.64689976 0.63837439 0.63104534 0.6244064  0.61811125\n",
            " 0.61193228 0.60581249 0.59979433 0.59394491]\n",
            "10 day output [[0.58831716]]\n",
            "11 day input [0.54669867 0.544986   0.54220291 0.54609923 0.54965304 0.55059499\n",
            " 0.55911554 0.56318314 0.55115163 0.58390647 0.58048113 0.58052393\n",
            " 0.59658023 0.60505792 0.60056216 0.59079996 0.58711773 0.59024332\n",
            " 0.60103318 0.58686079 0.58990082 0.59037179 0.59478189 0.60137569\n",
            " 0.59769345 0.57221747 0.57097577 0.57333069 0.57881126 0.5771414\n",
            " 0.57581409 0.57701293 0.57992449 0.57487209 0.57761237 0.58210813\n",
            " 0.57851151 0.57517184 0.57118985 0.56819268 0.57114705 0.57358758\n",
            " 0.56969127 0.56836396 0.5679786  0.57435831 0.57782646 0.57893968\n",
            " 0.57709859 0.58454872 0.58206533 0.58116619 0.57521464 0.58108052\n",
            " 0.56977693 0.57063327 0.57118985 0.58356392 0.58609012 0.58356392\n",
            " 0.58835938 0.58891601 0.57795493 0.58724615 0.59298361 0.60103318\n",
            " 0.58810248 0.58767432 0.60069063 0.66144766 0.6623468  0.67930223\n",
            " 0.67155241 0.67189496 0.67108143 0.67416422 0.67806054 0.66624312\n",
            " 0.66547244 0.6651727  0.66731354 0.67018229 0.66911187 0.65048657\n",
            " 0.64894512 0.65922115 0.65725159 0.64997274 0.65960651 0.65531963\n",
            " 0.64689976 0.63837439 0.63104534 0.6244064  0.61811125 0.61193228\n",
            " 0.60581249 0.59979433 0.59394491 0.58831716]\n",
            "11 day output [[0.58293974]]\n",
            "12 day input [0.544986   0.54220291 0.54609923 0.54965304 0.55059499 0.55911554\n",
            " 0.56318314 0.55115163 0.58390647 0.58048113 0.58052393 0.59658023\n",
            " 0.60505792 0.60056216 0.59079996 0.58711773 0.59024332 0.60103318\n",
            " 0.58686079 0.58990082 0.59037179 0.59478189 0.60137569 0.59769345\n",
            " 0.57221747 0.57097577 0.57333069 0.57881126 0.5771414  0.57581409\n",
            " 0.57701293 0.57992449 0.57487209 0.57761237 0.58210813 0.57851151\n",
            " 0.57517184 0.57118985 0.56819268 0.57114705 0.57358758 0.56969127\n",
            " 0.56836396 0.5679786  0.57435831 0.57782646 0.57893968 0.57709859\n",
            " 0.58454872 0.58206533 0.58116619 0.57521464 0.58108052 0.56977693\n",
            " 0.57063327 0.57118985 0.58356392 0.58609012 0.58356392 0.58835938\n",
            " 0.58891601 0.57795493 0.58724615 0.59298361 0.60103318 0.58810248\n",
            " 0.58767432 0.60069063 0.66144766 0.6623468  0.67930223 0.67155241\n",
            " 0.67189496 0.67108143 0.67416422 0.67806054 0.66624312 0.66547244\n",
            " 0.6651727  0.66731354 0.67018229 0.66911187 0.65048657 0.64894512\n",
            " 0.65922115 0.65725159 0.64997274 0.65960651 0.65531963 0.64689976\n",
            " 0.63837439 0.63104534 0.6244064  0.61811125 0.61193228 0.60581249\n",
            " 0.59979433 0.59394491 0.58831716 0.58293974]\n",
            "12 day output [[0.57782024]]\n",
            "13 day input [0.54220291 0.54609923 0.54965304 0.55059499 0.55911554 0.56318314\n",
            " 0.55115163 0.58390647 0.58048113 0.58052393 0.59658023 0.60505792\n",
            " 0.60056216 0.59079996 0.58711773 0.59024332 0.60103318 0.58686079\n",
            " 0.58990082 0.59037179 0.59478189 0.60137569 0.59769345 0.57221747\n",
            " 0.57097577 0.57333069 0.57881126 0.5771414  0.57581409 0.57701293\n",
            " 0.57992449 0.57487209 0.57761237 0.58210813 0.57851151 0.57517184\n",
            " 0.57118985 0.56819268 0.57114705 0.57358758 0.56969127 0.56836396\n",
            " 0.5679786  0.57435831 0.57782646 0.57893968 0.57709859 0.58454872\n",
            " 0.58206533 0.58116619 0.57521464 0.58108052 0.56977693 0.57063327\n",
            " 0.57118985 0.58356392 0.58609012 0.58356392 0.58835938 0.58891601\n",
            " 0.57795493 0.58724615 0.59298361 0.60103318 0.58810248 0.58767432\n",
            " 0.60069063 0.66144766 0.6623468  0.67930223 0.67155241 0.67189496\n",
            " 0.67108143 0.67416422 0.67806054 0.66624312 0.66547244 0.6651727\n",
            " 0.66731354 0.67018229 0.66911187 0.65048657 0.64894512 0.65922115\n",
            " 0.65725159 0.64997274 0.65960651 0.65531963 0.64689976 0.63837439\n",
            " 0.63104534 0.6244064  0.61811125 0.61193228 0.60581249 0.59979433\n",
            " 0.59394491 0.58831716 0.58293974 0.57782024]\n",
            "13 day output [[0.5729538]]\n",
            "14 day input [0.54609923 0.54965304 0.55059499 0.55911554 0.56318314 0.55115163\n",
            " 0.58390647 0.58048113 0.58052393 0.59658023 0.60505792 0.60056216\n",
            " 0.59079996 0.58711773 0.59024332 0.60103318 0.58686079 0.58990082\n",
            " 0.59037179 0.59478189 0.60137569 0.59769345 0.57221747 0.57097577\n",
            " 0.57333069 0.57881126 0.5771414  0.57581409 0.57701293 0.57992449\n",
            " 0.57487209 0.57761237 0.58210813 0.57851151 0.57517184 0.57118985\n",
            " 0.56819268 0.57114705 0.57358758 0.56969127 0.56836396 0.5679786\n",
            " 0.57435831 0.57782646 0.57893968 0.57709859 0.58454872 0.58206533\n",
            " 0.58116619 0.57521464 0.58108052 0.56977693 0.57063327 0.57118985\n",
            " 0.58356392 0.58609012 0.58356392 0.58835938 0.58891601 0.57795493\n",
            " 0.58724615 0.59298361 0.60103318 0.58810248 0.58767432 0.60069063\n",
            " 0.66144766 0.6623468  0.67930223 0.67155241 0.67189496 0.67108143\n",
            " 0.67416422 0.67806054 0.66624312 0.66547244 0.6651727  0.66731354\n",
            " 0.67018229 0.66911187 0.65048657 0.64894512 0.65922115 0.65725159\n",
            " 0.64997274 0.65960651 0.65531963 0.64689976 0.63837439 0.63104534\n",
            " 0.6244064  0.61811125 0.61193228 0.60581249 0.59979433 0.59394491\n",
            " 0.58831716 0.58293974 0.57782024 0.57295382]\n",
            "14 day output [[0.5683295]]\n",
            "15 day input [0.54965304 0.55059499 0.55911554 0.56318314 0.55115163 0.58390647\n",
            " 0.58048113 0.58052393 0.59658023 0.60505792 0.60056216 0.59079996\n",
            " 0.58711773 0.59024332 0.60103318 0.58686079 0.58990082 0.59037179\n",
            " 0.59478189 0.60137569 0.59769345 0.57221747 0.57097577 0.57333069\n",
            " 0.57881126 0.5771414  0.57581409 0.57701293 0.57992449 0.57487209\n",
            " 0.57761237 0.58210813 0.57851151 0.57517184 0.57118985 0.56819268\n",
            " 0.57114705 0.57358758 0.56969127 0.56836396 0.5679786  0.57435831\n",
            " 0.57782646 0.57893968 0.57709859 0.58454872 0.58206533 0.58116619\n",
            " 0.57521464 0.58108052 0.56977693 0.57063327 0.57118985 0.58356392\n",
            " 0.58609012 0.58356392 0.58835938 0.58891601 0.57795493 0.58724615\n",
            " 0.59298361 0.60103318 0.58810248 0.58767432 0.60069063 0.66144766\n",
            " 0.6623468  0.67930223 0.67155241 0.67189496 0.67108143 0.67416422\n",
            " 0.67806054 0.66624312 0.66547244 0.6651727  0.66731354 0.67018229\n",
            " 0.66911187 0.65048657 0.64894512 0.65922115 0.65725159 0.64997274\n",
            " 0.65960651 0.65531963 0.64689976 0.63837439 0.63104534 0.6244064\n",
            " 0.61811125 0.61193228 0.60581249 0.59979433 0.59394491 0.58831716\n",
            " 0.58293974 0.57782024 0.57295382 0.56832951]\n",
            "15 day output [[0.5639348]]\n",
            "16 day input [0.55059499 0.55911554 0.56318314 0.55115163 0.58390647 0.58048113\n",
            " 0.58052393 0.59658023 0.60505792 0.60056216 0.59079996 0.58711773\n",
            " 0.59024332 0.60103318 0.58686079 0.58990082 0.59037179 0.59478189\n",
            " 0.60137569 0.59769345 0.57221747 0.57097577 0.57333069 0.57881126\n",
            " 0.5771414  0.57581409 0.57701293 0.57992449 0.57487209 0.57761237\n",
            " 0.58210813 0.57851151 0.57517184 0.57118985 0.56819268 0.57114705\n",
            " 0.57358758 0.56969127 0.56836396 0.5679786  0.57435831 0.57782646\n",
            " 0.57893968 0.57709859 0.58454872 0.58206533 0.58116619 0.57521464\n",
            " 0.58108052 0.56977693 0.57063327 0.57118985 0.58356392 0.58609012\n",
            " 0.58356392 0.58835938 0.58891601 0.57795493 0.58724615 0.59298361\n",
            " 0.60103318 0.58810248 0.58767432 0.60069063 0.66144766 0.6623468\n",
            " 0.67930223 0.67155241 0.67189496 0.67108143 0.67416422 0.67806054\n",
            " 0.66624312 0.66547244 0.6651727  0.66731354 0.67018229 0.66911187\n",
            " 0.65048657 0.64894512 0.65922115 0.65725159 0.64997274 0.65960651\n",
            " 0.65531963 0.64689976 0.63837439 0.63104534 0.6244064  0.61811125\n",
            " 0.61193228 0.60581249 0.59979433 0.59394491 0.58831716 0.58293974\n",
            " 0.57782024 0.57295382 0.56832951 0.5639348 ]\n",
            "16 day output [[0.55975485]]\n",
            "17 day input [0.55911554 0.56318314 0.55115163 0.58390647 0.58048113 0.58052393\n",
            " 0.59658023 0.60505792 0.60056216 0.59079996 0.58711773 0.59024332\n",
            " 0.60103318 0.58686079 0.58990082 0.59037179 0.59478189 0.60137569\n",
            " 0.59769345 0.57221747 0.57097577 0.57333069 0.57881126 0.5771414\n",
            " 0.57581409 0.57701293 0.57992449 0.57487209 0.57761237 0.58210813\n",
            " 0.57851151 0.57517184 0.57118985 0.56819268 0.57114705 0.57358758\n",
            " 0.56969127 0.56836396 0.5679786  0.57435831 0.57782646 0.57893968\n",
            " 0.57709859 0.58454872 0.58206533 0.58116619 0.57521464 0.58108052\n",
            " 0.56977693 0.57063327 0.57118985 0.58356392 0.58609012 0.58356392\n",
            " 0.58835938 0.58891601 0.57795493 0.58724615 0.59298361 0.60103318\n",
            " 0.58810248 0.58767432 0.60069063 0.66144766 0.6623468  0.67930223\n",
            " 0.67155241 0.67189496 0.67108143 0.67416422 0.67806054 0.66624312\n",
            " 0.66547244 0.6651727  0.66731354 0.67018229 0.66911187 0.65048657\n",
            " 0.64894512 0.65922115 0.65725159 0.64997274 0.65960651 0.65531963\n",
            " 0.64689976 0.63837439 0.63104534 0.6244064  0.61811125 0.61193228\n",
            " 0.60581249 0.59979433 0.59394491 0.58831716 0.58293974 0.57782024\n",
            " 0.57295382 0.56832951 0.5639348  0.55975485]\n",
            "17 day output [[0.55577517]]\n",
            "18 day input [0.56318314 0.55115163 0.58390647 0.58048113 0.58052393 0.59658023\n",
            " 0.60505792 0.60056216 0.59079996 0.58711773 0.59024332 0.60103318\n",
            " 0.58686079 0.58990082 0.59037179 0.59478189 0.60137569 0.59769345\n",
            " 0.57221747 0.57097577 0.57333069 0.57881126 0.5771414  0.57581409\n",
            " 0.57701293 0.57992449 0.57487209 0.57761237 0.58210813 0.57851151\n",
            " 0.57517184 0.57118985 0.56819268 0.57114705 0.57358758 0.56969127\n",
            " 0.56836396 0.5679786  0.57435831 0.57782646 0.57893968 0.57709859\n",
            " 0.58454872 0.58206533 0.58116619 0.57521464 0.58108052 0.56977693\n",
            " 0.57063327 0.57118985 0.58356392 0.58609012 0.58356392 0.58835938\n",
            " 0.58891601 0.57795493 0.58724615 0.59298361 0.60103318 0.58810248\n",
            " 0.58767432 0.60069063 0.66144766 0.6623468  0.67930223 0.67155241\n",
            " 0.67189496 0.67108143 0.67416422 0.67806054 0.66624312 0.66547244\n",
            " 0.6651727  0.66731354 0.67018229 0.66911187 0.65048657 0.64894512\n",
            " 0.65922115 0.65725159 0.64997274 0.65960651 0.65531963 0.64689976\n",
            " 0.63837439 0.63104534 0.6244064  0.61811125 0.61193228 0.60581249\n",
            " 0.59979433 0.59394491 0.58831716 0.58293974 0.57782024 0.57295382\n",
            " 0.56832951 0.5639348  0.55975485 0.55577517]\n",
            "18 day output [[0.55197984]]\n",
            "19 day input [0.55115163 0.58390647 0.58048113 0.58052393 0.59658023 0.60505792\n",
            " 0.60056216 0.59079996 0.58711773 0.59024332 0.60103318 0.58686079\n",
            " 0.58990082 0.59037179 0.59478189 0.60137569 0.59769345 0.57221747\n",
            " 0.57097577 0.57333069 0.57881126 0.5771414  0.57581409 0.57701293\n",
            " 0.57992449 0.57487209 0.57761237 0.58210813 0.57851151 0.57517184\n",
            " 0.57118985 0.56819268 0.57114705 0.57358758 0.56969127 0.56836396\n",
            " 0.5679786  0.57435831 0.57782646 0.57893968 0.57709859 0.58454872\n",
            " 0.58206533 0.58116619 0.57521464 0.58108052 0.56977693 0.57063327\n",
            " 0.57118985 0.58356392 0.58609012 0.58356392 0.58835938 0.58891601\n",
            " 0.57795493 0.58724615 0.59298361 0.60103318 0.58810248 0.58767432\n",
            " 0.60069063 0.66144766 0.6623468  0.67930223 0.67155241 0.67189496\n",
            " 0.67108143 0.67416422 0.67806054 0.66624312 0.66547244 0.6651727\n",
            " 0.66731354 0.67018229 0.66911187 0.65048657 0.64894512 0.65922115\n",
            " 0.65725159 0.64997274 0.65960651 0.65531963 0.64689976 0.63837439\n",
            " 0.63104534 0.6244064  0.61811125 0.61193228 0.60581249 0.59979433\n",
            " 0.59394491 0.58831716 0.58293974 0.57782024 0.57295382 0.56832951\n",
            " 0.5639348  0.55975485 0.55577517 0.55197984]\n",
            "19 day output [[0.5483521]]\n",
            "20 day input [0.58390647 0.58048113 0.58052393 0.59658023 0.60505792 0.60056216\n",
            " 0.59079996 0.58711773 0.59024332 0.60103318 0.58686079 0.58990082\n",
            " 0.59037179 0.59478189 0.60137569 0.59769345 0.57221747 0.57097577\n",
            " 0.57333069 0.57881126 0.5771414  0.57581409 0.57701293 0.57992449\n",
            " 0.57487209 0.57761237 0.58210813 0.57851151 0.57517184 0.57118985\n",
            " 0.56819268 0.57114705 0.57358758 0.56969127 0.56836396 0.5679786\n",
            " 0.57435831 0.57782646 0.57893968 0.57709859 0.58454872 0.58206533\n",
            " 0.58116619 0.57521464 0.58108052 0.56977693 0.57063327 0.57118985\n",
            " 0.58356392 0.58609012 0.58356392 0.58835938 0.58891601 0.57795493\n",
            " 0.58724615 0.59298361 0.60103318 0.58810248 0.58767432 0.60069063\n",
            " 0.66144766 0.6623468  0.67930223 0.67155241 0.67189496 0.67108143\n",
            " 0.67416422 0.67806054 0.66624312 0.66547244 0.6651727  0.66731354\n",
            " 0.67018229 0.66911187 0.65048657 0.64894512 0.65922115 0.65725159\n",
            " 0.64997274 0.65960651 0.65531963 0.64689976 0.63837439 0.63104534\n",
            " 0.6244064  0.61811125 0.61193228 0.60581249 0.59979433 0.59394491\n",
            " 0.58831716 0.58293974 0.57782024 0.57295382 0.56832951 0.5639348\n",
            " 0.55975485 0.55577517 0.55197984 0.54835212]\n",
            "20 day output [[0.5448754]]\n",
            "21 day input [0.58048113 0.58052393 0.59658023 0.60505792 0.60056216 0.59079996\n",
            " 0.58711773 0.59024332 0.60103318 0.58686079 0.58990082 0.59037179\n",
            " 0.59478189 0.60137569 0.59769345 0.57221747 0.57097577 0.57333069\n",
            " 0.57881126 0.5771414  0.57581409 0.57701293 0.57992449 0.57487209\n",
            " 0.57761237 0.58210813 0.57851151 0.57517184 0.57118985 0.56819268\n",
            " 0.57114705 0.57358758 0.56969127 0.56836396 0.5679786  0.57435831\n",
            " 0.57782646 0.57893968 0.57709859 0.58454872 0.58206533 0.58116619\n",
            " 0.57521464 0.58108052 0.56977693 0.57063327 0.57118985 0.58356392\n",
            " 0.58609012 0.58356392 0.58835938 0.58891601 0.57795493 0.58724615\n",
            " 0.59298361 0.60103318 0.58810248 0.58767432 0.60069063 0.66144766\n",
            " 0.6623468  0.67930223 0.67155241 0.67189496 0.67108143 0.67416422\n",
            " 0.67806054 0.66624312 0.66547244 0.6651727  0.66731354 0.67018229\n",
            " 0.66911187 0.65048657 0.64894512 0.65922115 0.65725159 0.64997274\n",
            " 0.65960651 0.65531963 0.64689976 0.63837439 0.63104534 0.6244064\n",
            " 0.61811125 0.61193228 0.60581249 0.59979433 0.59394491 0.58831716\n",
            " 0.58293974 0.57782024 0.57295382 0.56832951 0.5639348  0.55975485\n",
            " 0.55577517 0.55197984 0.54835212 0.54487538]\n",
            "21 day output [[0.5415323]]\n",
            "22 day input [0.58052393 0.59658023 0.60505792 0.60056216 0.59079996 0.58711773\n",
            " 0.59024332 0.60103318 0.58686079 0.58990082 0.59037179 0.59478189\n",
            " 0.60137569 0.59769345 0.57221747 0.57097577 0.57333069 0.57881126\n",
            " 0.5771414  0.57581409 0.57701293 0.57992449 0.57487209 0.57761237\n",
            " 0.58210813 0.57851151 0.57517184 0.57118985 0.56819268 0.57114705\n",
            " 0.57358758 0.56969127 0.56836396 0.5679786  0.57435831 0.57782646\n",
            " 0.57893968 0.57709859 0.58454872 0.58206533 0.58116619 0.57521464\n",
            " 0.58108052 0.56977693 0.57063327 0.57118985 0.58356392 0.58609012\n",
            " 0.58356392 0.58835938 0.58891601 0.57795493 0.58724615 0.59298361\n",
            " 0.60103318 0.58810248 0.58767432 0.60069063 0.66144766 0.6623468\n",
            " 0.67930223 0.67155241 0.67189496 0.67108143 0.67416422 0.67806054\n",
            " 0.66624312 0.66547244 0.6651727  0.66731354 0.67018229 0.66911187\n",
            " 0.65048657 0.64894512 0.65922115 0.65725159 0.64997274 0.65960651\n",
            " 0.65531963 0.64689976 0.63837439 0.63104534 0.6244064  0.61811125\n",
            " 0.61193228 0.60581249 0.59979433 0.59394491 0.58831716 0.58293974\n",
            " 0.57782024 0.57295382 0.56832951 0.5639348  0.55975485 0.55577517\n",
            " 0.55197984 0.54835212 0.54487538 0.54153228]\n",
            "22 day output [[0.5383064]]\n",
            "23 day input [0.59658023 0.60505792 0.60056216 0.59079996 0.58711773 0.59024332\n",
            " 0.60103318 0.58686079 0.58990082 0.59037179 0.59478189 0.60137569\n",
            " 0.59769345 0.57221747 0.57097577 0.57333069 0.57881126 0.5771414\n",
            " 0.57581409 0.57701293 0.57992449 0.57487209 0.57761237 0.58210813\n",
            " 0.57851151 0.57517184 0.57118985 0.56819268 0.57114705 0.57358758\n",
            " 0.56969127 0.56836396 0.5679786  0.57435831 0.57782646 0.57893968\n",
            " 0.57709859 0.58454872 0.58206533 0.58116619 0.57521464 0.58108052\n",
            " 0.56977693 0.57063327 0.57118985 0.58356392 0.58609012 0.58356392\n",
            " 0.58835938 0.58891601 0.57795493 0.58724615 0.59298361 0.60103318\n",
            " 0.58810248 0.58767432 0.60069063 0.66144766 0.6623468  0.67930223\n",
            " 0.67155241 0.67189496 0.67108143 0.67416422 0.67806054 0.66624312\n",
            " 0.66547244 0.6651727  0.66731354 0.67018229 0.66911187 0.65048657\n",
            " 0.64894512 0.65922115 0.65725159 0.64997274 0.65960651 0.65531963\n",
            " 0.64689976 0.63837439 0.63104534 0.6244064  0.61811125 0.61193228\n",
            " 0.60581249 0.59979433 0.59394491 0.58831716 0.58293974 0.57782024\n",
            " 0.57295382 0.56832951 0.5639348  0.55975485 0.55577517 0.55197984\n",
            " 0.54835212 0.54487538 0.54153228 0.53830642]\n",
            "23 day output [[0.53518164]]\n",
            "24 day input [0.60505792 0.60056216 0.59079996 0.58711773 0.59024332 0.60103318\n",
            " 0.58686079 0.58990082 0.59037179 0.59478189 0.60137569 0.59769345\n",
            " 0.57221747 0.57097577 0.57333069 0.57881126 0.5771414  0.57581409\n",
            " 0.57701293 0.57992449 0.57487209 0.57761237 0.58210813 0.57851151\n",
            " 0.57517184 0.57118985 0.56819268 0.57114705 0.57358758 0.56969127\n",
            " 0.56836396 0.5679786  0.57435831 0.57782646 0.57893968 0.57709859\n",
            " 0.58454872 0.58206533 0.58116619 0.57521464 0.58108052 0.56977693\n",
            " 0.57063327 0.57118985 0.58356392 0.58609012 0.58356392 0.58835938\n",
            " 0.58891601 0.57795493 0.58724615 0.59298361 0.60103318 0.58810248\n",
            " 0.58767432 0.60069063 0.66144766 0.6623468  0.67930223 0.67155241\n",
            " 0.67189496 0.67108143 0.67416422 0.67806054 0.66624312 0.66547244\n",
            " 0.6651727  0.66731354 0.67018229 0.66911187 0.65048657 0.64894512\n",
            " 0.65922115 0.65725159 0.64997274 0.65960651 0.65531963 0.64689976\n",
            " 0.63837439 0.63104534 0.6244064  0.61811125 0.61193228 0.60581249\n",
            " 0.59979433 0.59394491 0.58831716 0.58293974 0.57782024 0.57295382\n",
            " 0.56832951 0.5639348  0.55975485 0.55577517 0.55197984 0.54835212\n",
            " 0.54487538 0.54153228 0.53830642 0.53518164]\n",
            "24 day output [[0.5321425]]\n",
            "25 day input [0.60056216 0.59079996 0.58711773 0.59024332 0.60103318 0.58686079\n",
            " 0.58990082 0.59037179 0.59478189 0.60137569 0.59769345 0.57221747\n",
            " 0.57097577 0.57333069 0.57881126 0.5771414  0.57581409 0.57701293\n",
            " 0.57992449 0.57487209 0.57761237 0.58210813 0.57851151 0.57517184\n",
            " 0.57118985 0.56819268 0.57114705 0.57358758 0.56969127 0.56836396\n",
            " 0.5679786  0.57435831 0.57782646 0.57893968 0.57709859 0.58454872\n",
            " 0.58206533 0.58116619 0.57521464 0.58108052 0.56977693 0.57063327\n",
            " 0.57118985 0.58356392 0.58609012 0.58356392 0.58835938 0.58891601\n",
            " 0.57795493 0.58724615 0.59298361 0.60103318 0.58810248 0.58767432\n",
            " 0.60069063 0.66144766 0.6623468  0.67930223 0.67155241 0.67189496\n",
            " 0.67108143 0.67416422 0.67806054 0.66624312 0.66547244 0.6651727\n",
            " 0.66731354 0.67018229 0.66911187 0.65048657 0.64894512 0.65922115\n",
            " 0.65725159 0.64997274 0.65960651 0.65531963 0.64689976 0.63837439\n",
            " 0.63104534 0.6244064  0.61811125 0.61193228 0.60581249 0.59979433\n",
            " 0.59394491 0.58831716 0.58293974 0.57782024 0.57295382 0.56832951\n",
            " 0.5639348  0.55975485 0.55577517 0.55197984 0.54835212 0.54487538\n",
            " 0.54153228 0.53830642 0.53518164 0.53214252]\n",
            "25 day output [[0.52917564]]\n",
            "26 day input [0.59079996 0.58711773 0.59024332 0.60103318 0.58686079 0.58990082\n",
            " 0.59037179 0.59478189 0.60137569 0.59769345 0.57221747 0.57097577\n",
            " 0.57333069 0.57881126 0.5771414  0.57581409 0.57701293 0.57992449\n",
            " 0.57487209 0.57761237 0.58210813 0.57851151 0.57517184 0.57118985\n",
            " 0.56819268 0.57114705 0.57358758 0.56969127 0.56836396 0.5679786\n",
            " 0.57435831 0.57782646 0.57893968 0.57709859 0.58454872 0.58206533\n",
            " 0.58116619 0.57521464 0.58108052 0.56977693 0.57063327 0.57118985\n",
            " 0.58356392 0.58609012 0.58356392 0.58835938 0.58891601 0.57795493\n",
            " 0.58724615 0.59298361 0.60103318 0.58810248 0.58767432 0.60069063\n",
            " 0.66144766 0.6623468  0.67930223 0.67155241 0.67189496 0.67108143\n",
            " 0.67416422 0.67806054 0.66624312 0.66547244 0.6651727  0.66731354\n",
            " 0.67018229 0.66911187 0.65048657 0.64894512 0.65922115 0.65725159\n",
            " 0.64997274 0.65960651 0.65531963 0.64689976 0.63837439 0.63104534\n",
            " 0.6244064  0.61811125 0.61193228 0.60581249 0.59979433 0.59394491\n",
            " 0.58831716 0.58293974 0.57782024 0.57295382 0.56832951 0.5639348\n",
            " 0.55975485 0.55577517 0.55197984 0.54835212 0.54487538 0.54153228\n",
            " 0.53830642 0.53518164 0.53214252 0.52917564]\n",
            "26 day output [[0.52626777]]\n",
            "27 day input [0.58711773 0.59024332 0.60103318 0.58686079 0.58990082 0.59037179\n",
            " 0.59478189 0.60137569 0.59769345 0.57221747 0.57097577 0.57333069\n",
            " 0.57881126 0.5771414  0.57581409 0.57701293 0.57992449 0.57487209\n",
            " 0.57761237 0.58210813 0.57851151 0.57517184 0.57118985 0.56819268\n",
            " 0.57114705 0.57358758 0.56969127 0.56836396 0.5679786  0.57435831\n",
            " 0.57782646 0.57893968 0.57709859 0.58454872 0.58206533 0.58116619\n",
            " 0.57521464 0.58108052 0.56977693 0.57063327 0.57118985 0.58356392\n",
            " 0.58609012 0.58356392 0.58835938 0.58891601 0.57795493 0.58724615\n",
            " 0.59298361 0.60103318 0.58810248 0.58767432 0.60069063 0.66144766\n",
            " 0.6623468  0.67930223 0.67155241 0.67189496 0.67108143 0.67416422\n",
            " 0.67806054 0.66624312 0.66547244 0.6651727  0.66731354 0.67018229\n",
            " 0.66911187 0.65048657 0.64894512 0.65922115 0.65725159 0.64997274\n",
            " 0.65960651 0.65531963 0.64689976 0.63837439 0.63104534 0.6244064\n",
            " 0.61811125 0.61193228 0.60581249 0.59979433 0.59394491 0.58831716\n",
            " 0.58293974 0.57782024 0.57295382 0.56832951 0.5639348  0.55975485\n",
            " 0.55577517 0.55197984 0.54835212 0.54487538 0.54153228 0.53830642\n",
            " 0.53518164 0.53214252 0.52917564 0.52626777]\n",
            "27 day output [[0.5234077]]\n",
            "28 day input [0.59024332 0.60103318 0.58686079 0.58990082 0.59037179 0.59478189\n",
            " 0.60137569 0.59769345 0.57221747 0.57097577 0.57333069 0.57881126\n",
            " 0.5771414  0.57581409 0.57701293 0.57992449 0.57487209 0.57761237\n",
            " 0.58210813 0.57851151 0.57517184 0.57118985 0.56819268 0.57114705\n",
            " 0.57358758 0.56969127 0.56836396 0.5679786  0.57435831 0.57782646\n",
            " 0.57893968 0.57709859 0.58454872 0.58206533 0.58116619 0.57521464\n",
            " 0.58108052 0.56977693 0.57063327 0.57118985 0.58356392 0.58609012\n",
            " 0.58356392 0.58835938 0.58891601 0.57795493 0.58724615 0.59298361\n",
            " 0.60103318 0.58810248 0.58767432 0.60069063 0.66144766 0.6623468\n",
            " 0.67930223 0.67155241 0.67189496 0.67108143 0.67416422 0.67806054\n",
            " 0.66624312 0.66547244 0.6651727  0.66731354 0.67018229 0.66911187\n",
            " 0.65048657 0.64894512 0.65922115 0.65725159 0.64997274 0.65960651\n",
            " 0.65531963 0.64689976 0.63837439 0.63104534 0.6244064  0.61811125\n",
            " 0.61193228 0.60581249 0.59979433 0.59394491 0.58831716 0.58293974\n",
            " 0.57782024 0.57295382 0.56832951 0.5639348  0.55975485 0.55577517\n",
            " 0.55197984 0.54835212 0.54487538 0.54153228 0.53830642 0.53518164\n",
            " 0.53214252 0.52917564 0.52626777 0.5234077 ]\n",
            "28 day output [[0.5205854]]\n",
            "29 day input [0.60103318 0.58686079 0.58990082 0.59037179 0.59478189 0.60137569\n",
            " 0.59769345 0.57221747 0.57097577 0.57333069 0.57881126 0.5771414\n",
            " 0.57581409 0.57701293 0.57992449 0.57487209 0.57761237 0.58210813\n",
            " 0.57851151 0.57517184 0.57118985 0.56819268 0.57114705 0.57358758\n",
            " 0.56969127 0.56836396 0.5679786  0.57435831 0.57782646 0.57893968\n",
            " 0.57709859 0.58454872 0.58206533 0.58116619 0.57521464 0.58108052\n",
            " 0.56977693 0.57063327 0.57118985 0.58356392 0.58609012 0.58356392\n",
            " 0.58835938 0.58891601 0.57795493 0.58724615 0.59298361 0.60103318\n",
            " 0.58810248 0.58767432 0.60069063 0.66144766 0.6623468  0.67930223\n",
            " 0.67155241 0.67189496 0.67108143 0.67416422 0.67806054 0.66624312\n",
            " 0.66547244 0.6651727  0.66731354 0.67018229 0.66911187 0.65048657\n",
            " 0.64894512 0.65922115 0.65725159 0.64997274 0.65960651 0.65531963\n",
            " 0.64689976 0.63837439 0.63104534 0.6244064  0.61811125 0.61193228\n",
            " 0.60581249 0.59979433 0.59394491 0.58831716 0.58293974 0.57782024\n",
            " 0.57295382 0.56832951 0.5639348  0.55975485 0.55577517 0.55197984\n",
            " 0.54835212 0.54487538 0.54153228 0.53830642 0.53518164 0.53214252\n",
            " 0.52917564 0.52626777 0.5234077  0.52058542]\n",
            "29 day output [[0.51779234]]\n",
            "[[0.6553196310997009], [0.6468997597694397], [0.638374388217926], [0.6310453414916992], [0.6244063973426819], [0.618111252784729], [0.6119322776794434], [0.6058124899864197], [0.599794328212738], [0.5939449071884155], [0.5883171558380127], [0.5829397439956665], [0.5778202414512634], [0.5729538202285767], [0.5683295130729675], [0.5639348030090332], [0.5597548484802246], [0.5557751655578613], [0.5519798398017883], [0.5483521223068237], [0.5448753833770752], [0.5415322780609131], [0.5383064150810242], [0.5351816415786743], [0.5321425199508667], [0.5291756391525269], [0.5262677669525146], [0.5234076976776123], [0.5205854177474976], [0.5177923440933228]]\n"
          ]
        }
      ]
    },
    {
      "cell_type": "code",
      "metadata": {
        "id": "IlnftgYC09yG"
      },
      "source": [
        "day_new=np.arange(1,101)\n",
        "day_pred=np.arange(101,131)"
      ],
      "execution_count": 44,
      "outputs": []
    },
    {
      "cell_type": "code",
      "metadata": {
        "id": "bze8nU5i097V"
      },
      "source": [
        "import matplotlib.pyplot as plt"
      ],
      "execution_count": 45,
      "outputs": []
    },
    {
      "cell_type": "code",
      "metadata": {
        "colab": {
          "base_uri": "https://localhost:8080/"
        },
        "id": "VRcB21k71G4L",
        "outputId": "2abb46e5-1a80-47d5-b708-497ce6744484"
      },
      "source": [
        "len(df1)"
      ],
      "execution_count": 46,
      "outputs": [
        {
          "output_type": "execute_result",
          "data": {
            "text/plain": [
              "6452"
            ]
          },
          "metadata": {},
          "execution_count": 46
        }
      ]
    },
    {
      "cell_type": "code",
      "metadata": {
        "colab": {
          "base_uri": "https://localhost:8080/",
          "height": 469
        },
        "id": "TEVjz_Qy1Jec",
        "outputId": "f8c53494-7ca2-4c80-c822-964a0f3cd937"
      },
      "source": [
        "plt.plot(day_new,scaler.inverse_transform(df1[6352:]))\n",
        "plt.plot(day_pred,scaler.inverse_transform(lst_output))\n",
        "plt.title('Sun Pharma Prediction of Next 30 Days')"
      ],
      "execution_count": 47,
      "outputs": [
        {
          "output_type": "execute_result",
          "data": {
            "text/plain": [
              "Text(0.5, 1.0, 'Sun Pharma Prediction of Next 30 Days')"
            ]
          },
          "metadata": {},
          "execution_count": 47
        },
        {
          "output_type": "display_data",
          "data": {
            "image/png": "[encoded data removed]",
            "text/plain": [
              "<Figure size 640x480 with 1 Axes>"
            ]
          },
          "metadata": {}
        }
      ]
    },
    {
      "cell_type": "code",
      "metadata": {
        "colab": {
          "base_uri": "https://localhost:8080/",
          "height": 447
        },
        "id": "ESp1lp3R1LfH",
        "outputId": "201f4f0a-5398-4680-f57d-a770a6320876"
      },
      "source": [
        "df3=df1.tolist()\n",
        "df3.extend(lst_output)\n",
        "plt.plot(df3[6000:])"
      ],
      "execution_count": 48,
      "outputs": [
        {
          "output_type": "execute_result",
          "data": {
            "text/plain": [
              "[<matplotlib.lines.Line2D at 0x7fc4287737d0>]"
            ]
          },
          "metadata": {},
          "execution_count": 48
        },
        {
          "output_type": "display_data",
          "data": {
            "image/png": "[encoded data removed]",
            "text/plain": [
              "<Figure size 640x480 with 1 Axes>"
            ]
          },
          "metadata": {}
        }
      ]
    },
    {
      "cell_type": "code",
      "metadata": {
        "id": "OQK_oXwD1Lxv"
      },
      "source": [
        "df3=scaler.inverse_transform(df3).tolist()"
      ],
      "execution_count": 49,
      "outputs": []
    },
    {
      "cell_type": "code",
      "metadata": {
        "colab": {
          "base_uri": "https://localhost:8080/",
          "height": 447
        },
        "id": "X3DpOmIs1MCQ",
        "outputId": "2dd5095d-e3f0-470c-908a-253e6ef48650"
      },
      "source": [
        "plt.plot(df3)"
      ],
      "execution_count": 50,
      "outputs": [
        {
          "output_type": "execute_result",
          "data": {
            "text/plain": [
              "[<matplotlib.lines.Line2D at 0x7fc429ca8090>]"
            ]
          },
          "metadata": {},
          "execution_count": 50
        },
        {
          "output_type": "display_data",
          "data": {
            "image/png": "[encoded data removed]",
            "text/plain": [
              "<Figure size 640x480 with 1 Axes>"
            ]
          },
          "metadata": {}
        }
      ]
    }
  ]
}