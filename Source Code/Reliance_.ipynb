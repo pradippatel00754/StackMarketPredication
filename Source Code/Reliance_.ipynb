{
  "nbformat": 4,
  "nbformat_minor": 0,
  "metadata": {
    "colab": {
      "name": "Reliance:.ipynb",
      "provenance": [],
      "collapsed_sections": []
    },
    "kernelspec": {
      "name": "python3",
      "display_name": "Python 3"
    },
    "language_info": {
      "name": "python"
    }
  },
  "cells": [
    {
      "cell_type": "code",
      "metadata": {
        "colab": {
          "base_uri": "https://localhost:8080/"
        },
        "id": "nR34pB3lsVC8",
        "outputId": "71066b4a-f7e3-4f76-930b-2d13ef5f5de6"
      },
      "source": [
        "import os\n",
        "os.getcwd()\n",
        "from google.colab import drive\n",
        "drive.mount('/content/gdrive')\n",
        "os.chdir('/content/gdrive/My Drive')"
      ],
      "execution_count": null,
      "outputs": [
        {
          "output_type": "stream",
          "name": "stdout",
          "text": [
            "Mounted at /content/gdrive\n"
          ]
        }
      ]
    },
    {
      "cell_type": "code",
      "metadata": {
        "id": "j7NsICtPsY25"
      },
      "source": [
        "import pandas as pd\n",
        "import numpy as np\n",
        "import matplotlib.pyplot as plt\n",
        "import seaborn as sns\n",
        "import warnings\n",
        "warnings.filterwarnings(\"ignore\")\n",
        "\n",
        "FileName = 'RELIANCE.NS.csv'\n",
        "Reliance=pd.read_csv(FileName)"
      ],
      "execution_count": null,
      "outputs": []
    },
    {
      "cell_type": "code",
      "metadata": {
        "colab": {
          "base_uri": "https://localhost:8080/",
          "height": 204
        },
        "id": "VHqN5qxmsdtL",
        "outputId": "16d99e0b-fb8a-485c-9149-c3103aea100f"
      },
      "source": [
        "Reliance.head()"
      ],
      "execution_count": null,
      "outputs": [
        {
          "output_type": "execute_result",
          "data": {
            "text/html": [
              "<div>\n",
              "<style scoped>\n",
              "    .dataframe tbody tr th:only-of-type {\n",
              "        vertical-align: middle;\n",
              "    }\n",
              "\n",
              "    .dataframe tbody tr th {\n",
              "        vertical-align: top;\n",
              "    }\n",
              "\n",
              "    .dataframe thead th {\n",
              "        text-align: right;\n",
              "    }\n",
              "</style>\n",
              "<table border=\"1\" class=\"dataframe\">\n",
              "  <thead>\n",
              "    <tr style=\"text-align: right;\">\n",
              "      <th></th>\n",
              "      <th>Date</th>\n",
              "      <th>Open</th>\n",
              "      <th>High</th>\n",
              "      <th>Low</th>\n",
              "      <th>Close</th>\n",
              "      <th>Adj Close</th>\n",
              "      <th>Volume</th>\n",
              "    </tr>\n",
              "  </thead>\n",
              "  <tbody>\n",
              "    <tr>\n",
              "      <th>0</th>\n",
              "      <td>01/01/1996</td>\n",
              "      <td>15.859429</td>\n",
              "      <td>15.944529</td>\n",
              "      <td>15.754989</td>\n",
              "      <td>15.917452</td>\n",
              "      <td>10.509538</td>\n",
              "      <td>48051995</td>\n",
              "    </tr>\n",
              "    <tr>\n",
              "      <th>1</th>\n",
              "      <td>02/01/1996</td>\n",
              "      <td>15.878770</td>\n",
              "      <td>15.956133</td>\n",
              "      <td>15.677626</td>\n",
              "      <td>15.793671</td>\n",
              "      <td>10.427812</td>\n",
              "      <td>77875009</td>\n",
              "    </tr>\n",
              "    <tr>\n",
              "      <th>2</th>\n",
              "      <td>03/01/1996</td>\n",
              "      <td>16.052837</td>\n",
              "      <td>16.783918</td>\n",
              "      <td>15.878770</td>\n",
              "      <td>15.913584</td>\n",
              "      <td>10.506985</td>\n",
              "      <td>96602936</td>\n",
              "    </tr>\n",
              "    <tr>\n",
              "      <th>3</th>\n",
              "      <td>04/01/1996</td>\n",
              "      <td>15.762726</td>\n",
              "      <td>15.813012</td>\n",
              "      <td>15.553845</td>\n",
              "      <td>15.766594</td>\n",
              "      <td>10.409933</td>\n",
              "      <td>100099436</td>\n",
              "    </tr>\n",
              "    <tr>\n",
              "      <th>4</th>\n",
              "      <td>05/01/1996</td>\n",
              "      <td>15.704703</td>\n",
              "      <td>15.704703</td>\n",
              "      <td>15.522900</td>\n",
              "      <td>15.658285</td>\n",
              "      <td>10.338421</td>\n",
              "      <td>76935930</td>\n",
              "    </tr>\n",
              "  </tbody>\n",
              "</table>\n",
              "</div>"
            ],
            "text/plain": [
              "         Date       Open       High        Low      Close  Adj Close     Volume\n",
              "0  01/01/1996  15.859429  15.944529  15.754989  15.917452  10.509538   48051995\n",
              "1  02/01/1996  15.878770  15.956133  15.677626  15.793671  10.427812   77875009\n",
              "2  03/01/1996  16.052837  16.783918  15.878770  15.913584  10.506985   96602936\n",
              "3  04/01/1996  15.762726  15.813012  15.553845  15.766594  10.409933  100099436\n",
              "4  05/01/1996  15.704703  15.704703  15.522900  15.658285  10.338421   76935930"
            ]
          },
          "metadata": {},
          "execution_count": 3
        }
      ]
    },
    {
      "cell_type": "code",
      "metadata": {
        "colab": {
          "base_uri": "https://localhost:8080/",
          "height": 204
        },
        "id": "8RFQUgbQsliu",
        "outputId": "15a00674-b649-4a59-8c39-f6281dd6f507"
      },
      "source": [
        "Reliance.tail()"
      ],
      "execution_count": null,
      "outputs": [
        {
          "output_type": "execute_result",
          "data": {
            "text/html": [
              "<div>\n",
              "<style scoped>\n",
              "    .dataframe tbody tr th:only-of-type {\n",
              "        vertical-align: middle;\n",
              "    }\n",
              "\n",
              "    .dataframe tbody tr th {\n",
              "        vertical-align: top;\n",
              "    }\n",
              "\n",
              "    .dataframe thead th {\n",
              "        text-align: right;\n",
              "    }\n",
              "</style>\n",
              "<table border=\"1\" class=\"dataframe\">\n",
              "  <thead>\n",
              "    <tr style=\"text-align: right;\">\n",
              "      <th></th>\n",
              "      <th>Date</th>\n",
              "      <th>Open</th>\n",
              "      <th>High</th>\n",
              "      <th>Low</th>\n",
              "      <th>Close</th>\n",
              "      <th>Adj Close</th>\n",
              "      <th>Volume</th>\n",
              "    </tr>\n",
              "  </thead>\n",
              "  <tbody>\n",
              "    <tr>\n",
              "      <th>6444</th>\n",
              "      <td>23/08/2021</td>\n",
              "      <td>2174.000000</td>\n",
              "      <td>2174.000000</td>\n",
              "      <td>2132.300049</td>\n",
              "      <td>2162.350098</td>\n",
              "      <td>2162.350098</td>\n",
              "      <td>4547802</td>\n",
              "    </tr>\n",
              "    <tr>\n",
              "      <th>6445</th>\n",
              "      <td>24/08/2021</td>\n",
              "      <td>2165.050049</td>\n",
              "      <td>2192.000000</td>\n",
              "      <td>2155.600098</td>\n",
              "      <td>2183.699951</td>\n",
              "      <td>2183.699951</td>\n",
              "      <td>5475452</td>\n",
              "    </tr>\n",
              "    <tr>\n",
              "      <th>6446</th>\n",
              "      <td>25/08/2021</td>\n",
              "      <td>2185.399902</td>\n",
              "      <td>2220.000000</td>\n",
              "      <td>2180.100098</td>\n",
              "      <td>2202.600098</td>\n",
              "      <td>2202.600098</td>\n",
              "      <td>6175126</td>\n",
              "    </tr>\n",
              "    <tr>\n",
              "      <th>6447</th>\n",
              "      <td>26/08/2021</td>\n",
              "      <td>2208.000000</td>\n",
              "      <td>2244.899902</td>\n",
              "      <td>2205.000000</td>\n",
              "      <td>2230.449951</td>\n",
              "      <td>2230.449951</td>\n",
              "      <td>8579105</td>\n",
              "    </tr>\n",
              "    <tr>\n",
              "      <th>6448</th>\n",
              "      <td>27/08/2021</td>\n",
              "      <td>2237.000000</td>\n",
              "      <td>2242.750000</td>\n",
              "      <td>2216.050049</td>\n",
              "      <td>2227.399902</td>\n",
              "      <td>2227.399902</td>\n",
              "      <td>4836812</td>\n",
              "    </tr>\n",
              "  </tbody>\n",
              "</table>\n",
              "</div>"
            ],
            "text/plain": [
              "            Date         Open         High  ...        Close    Adj Close   Volume\n",
              "6444  23/08/2021  2174.000000  2174.000000  ...  2162.350098  2162.350098  4547802\n",
              "6445  24/08/2021  2165.050049  2192.000000  ...  2183.699951  2183.699951  5475452\n",
              "6446  25/08/2021  2185.399902  2220.000000  ...  2202.600098  2202.600098  6175126\n",
              "6447  26/08/2021  2208.000000  2244.899902  ...  2230.449951  2230.449951  8579105\n",
              "6448  27/08/2021  2237.000000  2242.750000  ...  2227.399902  2227.399902  4836812\n",
              "\n",
              "[5 rows x 7 columns]"
            ]
          },
          "metadata": {},
          "execution_count": 4
        }
      ]
    },
    {
      "cell_type": "code",
      "metadata": {
        "id": "rEZ7LUoQstCX"
      },
      "source": [
        "df1=Reliance.reset_index()['Close']"
      ],
      "execution_count": null,
      "outputs": []
    },
    {
      "cell_type": "code",
      "metadata": {
        "colab": {
          "base_uri": "https://localhost:8080/"
        },
        "id": "6QiqnOOIs_9e",
        "outputId": "14dfcec2-5fe7-4cbe-8461-d2b81be952ac"
      },
      "source": [
        "df1.shape"
      ],
      "execution_count": null,
      "outputs": [
        {
          "output_type": "execute_result",
          "data": {
            "text/plain": [
              "(6449,)"
            ]
          },
          "metadata": {},
          "execution_count": 6
        }
      ]
    },
    {
      "cell_type": "code",
      "metadata": {
        "colab": {
          "base_uri": "https://localhost:8080/"
        },
        "id": "bGBroGQVtHM8",
        "outputId": "7e981c94-8d6f-4733-8ea6-8abbaa672279"
      },
      "source": [
        "df1"
      ],
      "execution_count": null,
      "outputs": [
        {
          "output_type": "execute_result",
          "data": {
            "text/plain": [
              "0         15.917452\n",
              "1         15.793671\n",
              "2         15.913584\n",
              "3         15.766594\n",
              "4         15.658285\n",
              "           ...     \n",
              "6444    2162.350098\n",
              "6445    2183.699951\n",
              "6446    2202.600098\n",
              "6447    2230.449951\n",
              "6448    2227.399902\n",
              "Name: Close, Length: 6449, dtype: float64"
            ]
          },
          "metadata": {},
          "execution_count": 7
        }
      ]
    },
    {
      "cell_type": "code",
      "metadata": {
        "colab": {
          "base_uri": "https://localhost:8080/",
          "height": 407
        },
        "id": "86bXNskKtJcq",
        "outputId": "0b6cdc65-1726-47d9-adaf-bdb67ad37d3f"
      },
      "source": [
        "import matplotlib.pyplot as plt\n",
        "plt.figure(figsize=(20,6))\n",
        "plt.title('Reliance Share Price of 2002 - 2021')\n",
        "plt.plot(df1)"
      ],
      "execution_count": null,
      "outputs": [
        {
          "output_type": "execute_result",
          "data": {
            "text/plain": [
              "[<matplotlib.lines.Line2D at 0x7ff2cd80e650>]"
            ]
          },
          "metadata": {},
          "execution_count": 8
        },
        {
          "output_type": "display_data",
          "data": {
            "image/png": "[encoded data removed]",
            "text/plain": [
              "<Figure size 1440x432 with 1 Axes>"
            ]
          },
          "metadata": {
            "needs_background": "light"
          }
        }
      ]
    },
    {
      "cell_type": "code",
      "metadata": {
        "colab": {
          "base_uri": "https://localhost:8080/"
        },
        "id": "7ihZFjQlxVcQ",
        "outputId": "707a86f9-166c-4dcb-b5cb-3cc05f04cad8"
      },
      "source": [
        "Reliance.Date = pd.to_datetime(Reliance.Date)\n",
        "Reliance.info()"
      ],
      "execution_count": null,
      "outputs": [
        {
          "output_type": "stream",
          "name": "stdout",
          "text": [
            "<class 'pandas.core.frame.DataFrame'>\n",
            "RangeIndex: 6449 entries, 0 to 6448\n",
            "Data columns (total 7 columns):\n",
            " #   Column     Non-Null Count  Dtype         \n",
            "---  ------     --------------  -----         \n",
            " 0   Date       6449 non-null   datetime64[ns]\n",
            " 1   Open       6449 non-null   float64       \n",
            " 2   High       6449 non-null   float64       \n",
            " 3   Low        6449 non-null   float64       \n",
            " 4   Close      6449 non-null   float64       \n",
            " 5   Adj Close  6449 non-null   float64       \n",
            " 6   Volume     6449 non-null   int64         \n",
            "dtypes: datetime64[ns](1), float64(5), int64(1)\n",
            "memory usage: 352.8 KB\n"
          ]
        }
      ]
    },
    {
      "cell_type": "code",
      "metadata": {
        "id": "oWjbFZuPxVmR"
      },
      "source": [
        "Reliance = Reliance.set_index('Date')"
      ],
      "execution_count": null,
      "outputs": []
    },
    {
      "cell_type": "code",
      "metadata": {
        "colab": {
          "base_uri": "https://localhost:8080/"
        },
        "id": "IVIYoW6BxXhc",
        "outputId": "3945c53f-6755-4354-8afa-06d6c1404a33"
      },
      "source": [
        "pip install https://github.com/matplotlib/mpl_finance/archive/master.zip"
      ],
      "execution_count": null,
      "outputs": [
        {
          "output_type": "stream",
          "name": "stdout",
          "text": [
            "Collecting https://github.com/matplotlib/mpl_finance/archive/master.zip\n",
            "  Downloading https://github.com/matplotlib/mpl_finance/archive/master.zip (306 kB)\n",
            "\u001b[K     |████████████████████████████████| 306 kB 23.9 MB/s \n",
            "\u001b[?25hRequirement already satisfied: matplotlib in /usr/local/lib/python3.7/dist-packages (from mpl-finance==0.10.1) (3.2.2)\n",
            "Requirement already satisfied: kiwisolver>=1.0.1 in /usr/local/lib/python3.7/dist-packages (from matplotlib->mpl-finance==0.10.1) (1.3.1)\n",
            "Requirement already satisfied: pyparsing!=2.0.4,!=2.1.2,!=2.1.6,>=2.0.1 in /usr/local/lib/python3.7/dist-packages (from matplotlib->mpl-finance==0.10.1) (2.4.7)\n",
            "Requirement already satisfied: python-dateutil>=2.1 in /usr/local/lib/python3.7/dist-packages (from matplotlib->mpl-finance==0.10.1) (2.8.2)\n",
            "Requirement already satisfied: cycler>=0.10 in /usr/local/lib/python3.7/dist-packages (from matplotlib->mpl-finance==0.10.1) (0.10.0)\n",
            "Requirement already satisfied: numpy>=1.11 in /usr/local/lib/python3.7/dist-packages (from matplotlib->mpl-finance==0.10.1) (1.19.5)\n",
            "Requirement already satisfied: six in /usr/local/lib/python3.7/dist-packages (from cycler>=0.10->matplotlib->mpl-finance==0.10.1) (1.15.0)\n",
            "Building wheels for collected packages: mpl-finance\n",
            "  Building wheel for mpl-finance (setup.py) ... \u001b[?25l\u001b[?25hdone\n",
            "  Created wheel for mpl-finance: filename=mpl_finance-0.10.1-py3-none-any.whl size=8435 sha256=7e21e3249e91cf210850387e5e796142c1cd05bb9eda013a0d9ad0dcf18be4c5\n",
            "  Stored in directory: /tmp/pip-ephem-wheel-cache-xueccar1/wheels/eb/17/99/0f3929e635912eb25fc346aaf43b4ee3da4a80dee8ce3d2e4f\n",
            "Successfully built mpl-finance\n",
            "Installing collected packages: mpl-finance\n",
            "Successfully installed mpl-finance-0.10.1\n"
          ]
        }
      ]
    },
    {
      "cell_type": "code",
      "metadata": {
        "colab": {
          "base_uri": "https://localhost:8080/"
        },
        "id": "EVT-kvFYxXp5",
        "outputId": "7d8844bf-18c6-40a2-c52a-4dc5b701282d"
      },
      "source": [
        "pip install --upgrade mplfinance"
      ],
      "execution_count": null,
      "outputs": [
        {
          "output_type": "stream",
          "name": "stdout",
          "text": [
            "Collecting mplfinance\n",
            "  Downloading mplfinance-0.12.7a17-py3-none-any.whl (62 kB)\n",
            "\u001b[?25l\r\u001b[K     |█████▎                          | 10 kB 25.2 MB/s eta 0:00:01\r\u001b[K     |██████████▌                     | 20 kB 30.7 MB/s eta 0:00:01\r\u001b[K     |███████████████▊                | 30 kB 32.6 MB/s eta 0:00:01\r\u001b[K     |█████████████████████           | 40 kB 32.9 MB/s eta 0:00:01\r\u001b[K     |██████████████████████████▎     | 51 kB 33.7 MB/s eta 0:00:01\r\u001b[K     |███████████████████████████████▌| 61 kB 35.6 MB/s eta 0:00:01\r\u001b[K     |████████████████████████████████| 62 kB 1.1 MB/s \n",
            "\u001b[?25hRequirement already satisfied: matplotlib in /usr/local/lib/python3.7/dist-packages (from mplfinance) (3.2.2)\n",
            "Requirement already satisfied: pandas in /usr/local/lib/python3.7/dist-packages (from mplfinance) (1.1.5)\n",
            "Requirement already satisfied: pyparsing!=2.0.4,!=2.1.2,!=2.1.6,>=2.0.1 in /usr/local/lib/python3.7/dist-packages (from matplotlib->mplfinance) (2.4.7)\n",
            "Requirement already satisfied: kiwisolver>=1.0.1 in /usr/local/lib/python3.7/dist-packages (from matplotlib->mplfinance) (1.3.1)\n",
            "Requirement already satisfied: cycler>=0.10 in /usr/local/lib/python3.7/dist-packages (from matplotlib->mplfinance) (0.10.0)\n",
            "Requirement already satisfied: python-dateutil>=2.1 in /usr/local/lib/python3.7/dist-packages (from matplotlib->mplfinance) (2.8.2)\n",
            "Requirement already satisfied: numpy>=1.11 in /usr/local/lib/python3.7/dist-packages (from matplotlib->mplfinance) (1.19.5)\n",
            "Requirement already satisfied: six in /usr/local/lib/python3.7/dist-packages (from cycler>=0.10->matplotlib->mplfinance) (1.15.0)\n",
            "Requirement already satisfied: pytz>=2017.2 in /usr/local/lib/python3.7/dist-packages (from pandas->mplfinance) (2018.9)\n",
            "Installing collected packages: mplfinance\n",
            "Successfully installed mplfinance-0.12.7a17\n"
          ]
        }
      ]
    },
    {
      "cell_type": "code",
      "metadata": {
        "colab": {
          "base_uri": "https://localhost:8080/",
          "height": 425
        },
        "id": "ACvD1veSxXyf",
        "outputId": "24ab0a9d-ec8b-47a6-ee29-c055491f7968"
      },
      "source": [
        "import mplfinance as mpf\n",
        "mpf.plot(Reliance['2020'], \n",
        "         type='candle', mav=(20), \n",
        "         volume=True, \n",
        "         title = 'Reliance Share Price of 2020', \n",
        "         figratio=(20,6), tight_layout = True, \n",
        "         style = 'yahoo')"
      ],
      "execution_count": null,
      "outputs": [
        {
          "output_type": "display_data",
          "data": {
            "image/png": "[encoded data removed]",
            "text/plain": [
              "<Figure size 1916.67x575 with 4 Axes>"
            ]
          },
          "metadata": {}
        }
      ]
    },
    {
      "cell_type": "code",
      "metadata": {
        "id": "KhmzK0wQtjLc"
      },
      "source": [
        "import numpy as np"
      ],
      "execution_count": null,
      "outputs": []
    },
    {
      "cell_type": "code",
      "metadata": {
        "id": "11F8IoZWtpSq"
      },
      "source": [
        "from sklearn.preprocessing import MinMaxScaler\n",
        "scaler = MinMaxScaler(feature_range=(0,1))\n",
        "df1=scaler.fit_transform(np.array(df1).reshape(-1,1))"
      ],
      "execution_count": null,
      "outputs": []
    },
    {
      "cell_type": "code",
      "metadata": {
        "colab": {
          "base_uri": "https://localhost:8080/"
        },
        "id": "yZaN017SuDfy",
        "outputId": "122d2a8b-7dfd-4635-f09f-9e17d043027d"
      },
      "source": [
        "df1"
      ],
      "execution_count": null,
      "outputs": [
        {
          "output_type": "execute_result",
          "data": {
            "text/plain": [
              "array([[0.00174118],\n",
              "       [0.00168765],\n",
              "       [0.0017395 ],\n",
              "       ...,\n",
              "       [0.94726852],\n",
              "       [0.95931087],\n",
              "       [0.95799202]])"
            ]
          },
          "metadata": {},
          "execution_count": 16
        }
      ]
    },
    {
      "cell_type": "code",
      "metadata": {
        "id": "v8nlDnRtuIUJ"
      },
      "source": [
        "training_size=int(len(df1)*0.75)\n",
        "test_size=len(df1)-training_size\n",
        "train_data,test_data=df1[0:training_size,:],df1[training_size:len(df1),:1]"
      ],
      "execution_count": null,
      "outputs": []
    },
    {
      "cell_type": "code",
      "metadata": {
        "colab": {
          "base_uri": "https://localhost:8080/"
        },
        "id": "7BE7WAuPuhZB",
        "outputId": "867b50ac-df1d-42f3-8faf-e1721e2a01af"
      },
      "source": [
        "training_size, test_size"
      ],
      "execution_count": null,
      "outputs": [
        {
          "output_type": "execute_result",
          "data": {
            "text/plain": [
              "(4836, 1613)"
            ]
          },
          "metadata": {},
          "execution_count": 18
        }
      ]
    },
    {
      "cell_type": "code",
      "metadata": {
        "colab": {
          "base_uri": "https://localhost:8080/"
        },
        "id": "l22HaDOrvDlY",
        "outputId": "79bd9f5b-b684-4a7e-942c-52a63518651f"
      },
      "source": [
        "len(train_data), len(test_data)"
      ],
      "execution_count": null,
      "outputs": [
        {
          "output_type": "execute_result",
          "data": {
            "text/plain": [
              "(4836, 1613)"
            ]
          },
          "metadata": {},
          "execution_count": 19
        }
      ]
    },
    {
      "cell_type": "code",
      "metadata": {
        "id": "Wfb3iGg8vNYX"
      },
      "source": [
        "import numpy \n",
        "def create_dataset(dataset, time_step=1):\n",
        "  dataX, dataY = [], []\n",
        "  for i in range (len(dataset)-time_step-1):\n",
        "    a = dataset[i:(i+time_step), 0]\n",
        "    dataX.append(a)\n",
        "    dataY.append(dataset[i + time_step, 0])\n",
        "  return numpy.array(dataX), numpy.array(dataY)"
      ],
      "execution_count": null,
      "outputs": []
    },
    {
      "cell_type": "code",
      "metadata": {
        "id": "HbGS_OF4wMHh"
      },
      "source": [
        "time_step = 100\n",
        "X_train, y_train = create_dataset(train_data, time_step)\n",
        "X_test, y_test = create_dataset(test_data, time_step)"
      ],
      "execution_count": null,
      "outputs": []
    },
    {
      "cell_type": "code",
      "metadata": {
        "colab": {
          "base_uri": "https://localhost:8080/"
        },
        "id": "iKr4-5H0we3U",
        "outputId": "dc9cadc5-936b-4aef-b6e8-b5b0a8a40ed0"
      },
      "source": [
        "print(X_train)"
      ],
      "execution_count": null,
      "outputs": [
        {
          "output_type": "stream",
          "name": "stdout",
          "text": [
            "[[0.00174118 0.00168765 0.0017395  ... 0.00334854 0.00339705 0.00322812]\n",
            " [0.00168765 0.0017395  0.00167595 ... 0.00339705 0.00322812 0.00296552]\n",
            " [0.0017395  0.00167595 0.00162911 ... 0.00322812 0.00296552 0.00293709]\n",
            " ...\n",
            " [0.21457665 0.21452311 0.21710388 ... 0.19087861 0.18933658 0.19566534]\n",
            " [0.21452311 0.21710388 0.21609726 ... 0.18933658 0.19566534 0.19378062]\n",
            " [0.21710388 0.21609726 0.21242423 ... 0.19566534 0.19378062 0.19268836]]\n"
          ]
        }
      ]
    },
    {
      "cell_type": "code",
      "metadata": {
        "colab": {
          "base_uri": "https://localhost:8080/"
        },
        "id": "BKBYRqekw6pj",
        "outputId": "3df19d90-f4c8-4d25-c598-8416a40dd4bc"
      },
      "source": [
        "print(X_train.shape), print(y_train.shape)"
      ],
      "execution_count": null,
      "outputs": [
        {
          "output_type": "stream",
          "name": "stdout",
          "text": [
            "(4735, 100)\n",
            "(4735,)\n"
          ]
        },
        {
          "output_type": "execute_result",
          "data": {
            "text/plain": [
              "(None, None)"
            ]
          },
          "metadata": {},
          "execution_count": 23
        }
      ]
    },
    {
      "cell_type": "code",
      "metadata": {
        "colab": {
          "base_uri": "https://localhost:8080/"
        },
        "id": "_sIswsCTwiMV",
        "outputId": "3fa63796-c8ff-4d40-8691-1365f013fab6"
      },
      "source": [
        "print(X_test.shape), print(y_test.shape)"
      ],
      "execution_count": null,
      "outputs": [
        {
          "output_type": "stream",
          "name": "stdout",
          "text": [
            "(1512, 100)\n",
            "(1512,)\n"
          ]
        },
        {
          "output_type": "execute_result",
          "data": {
            "text/plain": [
              "(None, None)"
            ]
          },
          "metadata": {},
          "execution_count": 24
        }
      ]
    },
    {
      "cell_type": "code",
      "metadata": {
        "id": "2QsJz9xPw92t"
      },
      "source": [
        "X_train =X_train.reshape(X_train.shape[0],X_train.shape[1] , 1)\n",
        "X_test = X_test.reshape(X_test.shape[0],X_test.shape[1] , 1)"
      ],
      "execution_count": null,
      "outputs": []
    },
    {
      "cell_type": "code",
      "metadata": {
        "id": "YY-0K12vytcx"
      },
      "source": [
        "from tensorflow.keras.models import Sequential\n",
        "from tensorflow.keras.layers import Dense\n",
        "from tensorflow.keras.layers import LSTM"
      ],
      "execution_count": null,
      "outputs": []
    },
    {
      "cell_type": "code",
      "metadata": {
        "id": "_V5wKTh7yzKN"
      },
      "source": [
        "model=Sequential()\n",
        "model.add(LSTM(50,return_sequences=True,input_shape=(100,1)))\n",
        "model.add(LSTM(50,return_sequences=True))\n",
        "model.add(LSTM(50))\n",
        "model.add(Dense(1))\n",
        "model.compile(loss='mean_squared_error', optimizer='adam')"
      ],
      "execution_count": null,
      "outputs": []
    },
    {
      "cell_type": "code",
      "metadata": {
        "colab": {
          "base_uri": "https://localhost:8080/"
        },
        "id": "qBPJ3FOXy_H_",
        "outputId": "fd4774ec-226e-4ccf-b450-23e0358bbda6"
      },
      "source": [
        "model.summary()"
      ],
      "execution_count": null,
      "outputs": [
        {
          "output_type": "stream",
          "name": "stdout",
          "text": [
            "Model: \"sequential\"\n",
            "_________________________________________________________________\n",
            "Layer (type)                 Output Shape              Param #   \n",
            "=================================================================\n",
            "lstm (LSTM)                  (None, 100, 50)           10400     \n",
            "_________________________________________________________________\n",
            "lstm_1 (LSTM)                (None, 100, 50)           20200     \n",
            "_________________________________________________________________\n",
            "lstm_2 (LSTM)                (None, 50)                20200     \n",
            "_________________________________________________________________\n",
            "dense (Dense)                (None, 1)                 51        \n",
            "=================================================================\n",
            "Total params: 50,851\n",
            "Trainable params: 50,851\n",
            "Non-trainable params: 0\n",
            "_________________________________________________________________\n"
          ]
        }
      ]
    },
    {
      "cell_type": "code",
      "metadata": {
        "colab": {
          "base_uri": "https://localhost:8080/"
        },
        "id": "nVPrvBSvziFh",
        "outputId": "612bfaa0-b222-472a-acab-afbe9cf9bc57"
      },
      "source": [
        "model.fit(X_train, y_train, validation_data=(X_test, y_test), epochs=100, batch_size=64, verbose=1)"
      ],
      "execution_count": null,
      "outputs": [
        {
          "output_type": "stream",
          "name": "stdout",
          "text": [
            "Epoch 1/100\n",
            "74/74 [==============================] - 19s 189ms/step - loss: 9.2760e-04 - val_loss: 0.0029\n",
            "Epoch 2/100\n",
            "74/74 [==============================] - 13s 171ms/step - loss: 8.0367e-05 - val_loss: 0.0057\n",
            "Epoch 3/100\n",
            "74/74 [==============================] - 13s 175ms/step - loss: 7.1884e-05 - val_loss: 0.0064\n",
            "Epoch 4/100\n",
            "74/74 [==============================] - 13s 174ms/step - loss: 6.8472e-05 - val_loss: 0.0061\n",
            "Epoch 5/100\n",
            "74/74 [==============================] - 13s 175ms/step - loss: 6.1742e-05 - val_loss: 0.0064\n",
            "Epoch 6/100\n",
            "74/74 [==============================] - 13s 175ms/step - loss: 5.9859e-05 - val_loss: 0.0064\n",
            "Epoch 7/100\n",
            "74/74 [==============================] - 13s 176ms/step - loss: 5.3124e-05 - val_loss: 0.0046\n",
            "Epoch 8/100\n",
            "74/74 [==============================] - 13s 175ms/step - loss: 5.6529e-05 - val_loss: 0.0063\n",
            "Epoch 9/100\n",
            "74/74 [==============================] - 13s 173ms/step - loss: 4.7970e-05 - val_loss: 0.0037\n",
            "Epoch 10/100\n",
            "74/74 [==============================] - 13s 172ms/step - loss: 4.8398e-05 - val_loss: 0.0040\n",
            "Epoch 11/100\n",
            "74/74 [==============================] - 13s 175ms/step - loss: 4.8282e-05 - val_loss: 0.0029\n",
            "Epoch 12/100\n",
            "74/74 [==============================] - 13s 174ms/step - loss: 4.3407e-05 - val_loss: 0.0038\n",
            "Epoch 13/100\n",
            "74/74 [==============================] - 13s 175ms/step - loss: 4.5527e-05 - val_loss: 0.0029\n",
            "Epoch 14/100\n",
            "74/74 [==============================] - 13s 174ms/step - loss: 4.0247e-05 - val_loss: 0.0025\n",
            "Epoch 15/100\n",
            "74/74 [==============================] - 13s 174ms/step - loss: 3.7933e-05 - val_loss: 0.0037\n",
            "Epoch 16/100\n",
            "74/74 [==============================] - 13s 170ms/step - loss: 4.1173e-05 - val_loss: 0.0022\n",
            "Epoch 17/100\n",
            "74/74 [==============================] - 12s 168ms/step - loss: 4.1073e-05 - val_loss: 0.0018\n",
            "Epoch 18/100\n",
            "74/74 [==============================] - 12s 169ms/step - loss: 3.8767e-05 - val_loss: 0.0011\n",
            "Epoch 19/100\n",
            "74/74 [==============================] - 13s 171ms/step - loss: 4.4861e-05 - val_loss: 0.0014\n",
            "Epoch 20/100\n",
            "74/74 [==============================] - 13s 175ms/step - loss: 3.5661e-05 - val_loss: 0.0013\n",
            "Epoch 21/100\n",
            "74/74 [==============================] - 13s 175ms/step - loss: 3.5177e-05 - val_loss: 0.0011\n",
            "Epoch 22/100\n",
            "74/74 [==============================] - 13s 176ms/step - loss: 3.2121e-05 - val_loss: 7.2324e-04\n",
            "Epoch 23/100\n",
            "74/74 [==============================] - 13s 174ms/step - loss: 3.5072e-05 - val_loss: 0.0013\n",
            "Epoch 24/100\n",
            "74/74 [==============================] - 13s 173ms/step - loss: 3.3885e-05 - val_loss: 5.5746e-04\n",
            "Epoch 25/100\n",
            "74/74 [==============================] - 13s 174ms/step - loss: 3.0299e-05 - val_loss: 5.1883e-04\n",
            "Epoch 26/100\n",
            "74/74 [==============================] - 13s 173ms/step - loss: 2.8489e-05 - val_loss: 5.9213e-04\n",
            "Epoch 27/100\n",
            "74/74 [==============================] - 13s 173ms/step - loss: 2.9017e-05 - val_loss: 3.8496e-04\n",
            "Epoch 28/100\n",
            "74/74 [==============================] - 13s 174ms/step - loss: 2.8632e-05 - val_loss: 6.7431e-04\n",
            "Epoch 29/100\n",
            "74/74 [==============================] - 13s 175ms/step - loss: 3.1248e-05 - val_loss: 6.6233e-04\n",
            "Epoch 30/100\n",
            "74/74 [==============================] - 13s 176ms/step - loss: 2.9530e-05 - val_loss: 4.7441e-04\n",
            "Epoch 31/100\n",
            "74/74 [==============================] - 13s 176ms/step - loss: 2.6648e-05 - val_loss: 5.6137e-04\n",
            "Epoch 32/100\n",
            "74/74 [==============================] - 13s 172ms/step - loss: 2.7988e-05 - val_loss: 8.3860e-04\n",
            "Epoch 33/100\n",
            "74/74 [==============================] - 13s 173ms/step - loss: 2.6454e-05 - val_loss: 5.3044e-04\n",
            "Epoch 34/100\n",
            "74/74 [==============================] - 13s 172ms/step - loss: 2.5144e-05 - val_loss: 5.9374e-04\n",
            "Epoch 35/100\n",
            "74/74 [==============================] - 13s 171ms/step - loss: 2.2992e-05 - val_loss: 4.4825e-04\n",
            "Epoch 36/100\n",
            "74/74 [==============================] - 13s 173ms/step - loss: 2.2832e-05 - val_loss: 8.2940e-04\n",
            "Epoch 37/100\n",
            "74/74 [==============================] - 13s 173ms/step - loss: 2.8206e-05 - val_loss: 8.3753e-04\n",
            "Epoch 38/100\n",
            "74/74 [==============================] - 13s 175ms/step - loss: 2.4533e-05 - val_loss: 2.1339e-04\n",
            "Epoch 39/100\n",
            "74/74 [==============================] - 13s 174ms/step - loss: 2.0965e-05 - val_loss: 2.2978e-04\n",
            "Epoch 40/100\n",
            "74/74 [==============================] - 13s 173ms/step - loss: 1.9433e-05 - val_loss: 2.0559e-04\n",
            "Epoch 41/100\n",
            "74/74 [==============================] - 13s 173ms/step - loss: 2.2599e-05 - val_loss: 4.9401e-04\n",
            "Epoch 42/100\n",
            "74/74 [==============================] - 13s 171ms/step - loss: 2.1499e-05 - val_loss: 4.4560e-04\n",
            "Epoch 43/100\n",
            "74/74 [==============================] - 13s 173ms/step - loss: 1.9261e-05 - val_loss: 1.5113e-04\n",
            "Epoch 44/100\n",
            "74/74 [==============================] - 13s 173ms/step - loss: 2.0517e-05 - val_loss: 3.0335e-04\n",
            "Epoch 45/100\n",
            "74/74 [==============================] - 13s 172ms/step - loss: 1.8733e-05 - val_loss: 4.5058e-04\n",
            "Epoch 46/100\n",
            "74/74 [==============================] - 13s 172ms/step - loss: 1.6236e-05 - val_loss: 1.3068e-04\n",
            "Epoch 47/100\n",
            "74/74 [==============================] - 13s 173ms/step - loss: 1.8115e-05 - val_loss: 1.4772e-04\n",
            "Epoch 48/100\n",
            "74/74 [==============================] - 13s 172ms/step - loss: 1.6385e-05 - val_loss: 2.1523e-04\n",
            "Epoch 49/100\n",
            "74/74 [==============================] - 13s 176ms/step - loss: 1.7065e-05 - val_loss: 2.0339e-04\n",
            "Epoch 50/100\n",
            "74/74 [==============================] - 13s 173ms/step - loss: 2.1341e-05 - val_loss: 8.1200e-04\n",
            "Epoch 51/100\n",
            "74/74 [==============================] - 13s 174ms/step - loss: 1.6231e-05 - val_loss: 1.3419e-04\n",
            "Epoch 52/100\n",
            "74/74 [==============================] - 13s 172ms/step - loss: 1.9723e-05 - val_loss: 1.3705e-04\n",
            "Epoch 53/100\n",
            "74/74 [==============================] - 13s 175ms/step - loss: 1.4543e-05 - val_loss: 3.1494e-04\n",
            "Epoch 54/100\n",
            "74/74 [==============================] - 13s 173ms/step - loss: 1.2881e-05 - val_loss: 5.4050e-04\n",
            "Epoch 55/100\n",
            "74/74 [==============================] - 13s 175ms/step - loss: 1.3019e-05 - val_loss: 4.0069e-04\n",
            "Epoch 56/100\n",
            "74/74 [==============================] - 13s 174ms/step - loss: 1.2910e-05 - val_loss: 1.9198e-04\n",
            "Epoch 57/100\n",
            "74/74 [==============================] - 13s 175ms/step - loss: 1.4254e-05 - val_loss: 2.5139e-04\n",
            "Epoch 58/100\n",
            "74/74 [==============================] - 13s 177ms/step - loss: 1.2536e-05 - val_loss: 3.6018e-04\n",
            "Epoch 59/100\n",
            "74/74 [==============================] - 13s 174ms/step - loss: 1.5159e-05 - val_loss: 2.0005e-04\n",
            "Epoch 60/100\n",
            "74/74 [==============================] - 13s 175ms/step - loss: 1.2596e-05 - val_loss: 2.3973e-04\n",
            "Epoch 61/100\n",
            "74/74 [==============================] - 13s 172ms/step - loss: 1.4547e-05 - val_loss: 5.6464e-04\n",
            "Epoch 62/100\n",
            "74/74 [==============================] - 13s 173ms/step - loss: 1.4632e-05 - val_loss: 1.8670e-04\n",
            "Epoch 63/100\n",
            "74/74 [==============================] - 13s 174ms/step - loss: 1.2608e-05 - val_loss: 3.4920e-04\n",
            "Epoch 64/100\n",
            "74/74 [==============================] - 13s 176ms/step - loss: 1.2072e-05 - val_loss: 4.2459e-04\n",
            "Epoch 65/100\n",
            "74/74 [==============================] - 13s 173ms/step - loss: 1.3297e-05 - val_loss: 4.0839e-04\n",
            "Epoch 66/100\n",
            "74/74 [==============================] - 13s 173ms/step - loss: 1.2491e-05 - val_loss: 4.9566e-04\n",
            "Epoch 67/100\n",
            "74/74 [==============================] - 13s 173ms/step - loss: 1.3616e-05 - val_loss: 2.5848e-04\n",
            "Epoch 68/100\n",
            "74/74 [==============================] - 13s 177ms/step - loss: 1.3097e-05 - val_loss: 3.7436e-04\n",
            "Epoch 69/100\n",
            "74/74 [==============================] - 13s 174ms/step - loss: 1.3727e-05 - val_loss: 3.4525e-04\n",
            "Epoch 70/100\n",
            "74/74 [==============================] - 13s 176ms/step - loss: 1.2030e-05 - val_loss: 5.0755e-04\n",
            "Epoch 71/100\n",
            "74/74 [==============================] - 13s 175ms/step - loss: 1.3287e-05 - val_loss: 2.9835e-04\n",
            "Epoch 72/100\n",
            "74/74 [==============================] - 13s 174ms/step - loss: 1.2569e-05 - val_loss: 3.0309e-04\n",
            "Epoch 73/100\n",
            "74/74 [==============================] - 13s 173ms/step - loss: 1.1607e-05 - val_loss: 5.0144e-04\n",
            "Epoch 74/100\n",
            "74/74 [==============================] - 13s 175ms/step - loss: 1.1524e-05 - val_loss: 3.2189e-04\n",
            "Epoch 75/100\n",
            "74/74 [==============================] - 13s 173ms/step - loss: 1.5005e-05 - val_loss: 6.3676e-04\n",
            "Epoch 76/100\n",
            "74/74 [==============================] - 13s 176ms/step - loss: 1.1685e-05 - val_loss: 3.2454e-04\n",
            "Epoch 77/100\n",
            "74/74 [==============================] - 13s 175ms/step - loss: 1.2556e-05 - val_loss: 5.5861e-04\n",
            "Epoch 78/100\n",
            "74/74 [==============================] - 13s 176ms/step - loss: 1.2847e-05 - val_loss: 5.4309e-04\n",
            "Epoch 79/100\n",
            "74/74 [==============================] - 13s 176ms/step - loss: 1.1384e-05 - val_loss: 6.7499e-04\n",
            "Epoch 80/100\n",
            "74/74 [==============================] - 13s 174ms/step - loss: 1.3703e-05 - val_loss: 4.5503e-04\n",
            "Epoch 81/100\n",
            "74/74 [==============================] - 13s 175ms/step - loss: 1.2221e-05 - val_loss: 8.6459e-04\n",
            "Epoch 82/100\n",
            "74/74 [==============================] - 13s 175ms/step - loss: 1.3332e-05 - val_loss: 5.7008e-04\n",
            "Epoch 83/100\n",
            "74/74 [==============================] - 13s 175ms/step - loss: 1.2479e-05 - val_loss: 5.0653e-04\n",
            "Epoch 84/100\n",
            "74/74 [==============================] - 13s 176ms/step - loss: 1.3589e-05 - val_loss: 7.6592e-04\n",
            "Epoch 85/100\n",
            "74/74 [==============================] - 13s 174ms/step - loss: 1.1894e-05 - val_loss: 5.4188e-04\n",
            "Epoch 86/100\n",
            "74/74 [==============================] - 13s 176ms/step - loss: 1.1933e-05 - val_loss: 6.1931e-04\n",
            "Epoch 87/100\n",
            "74/74 [==============================] - 13s 177ms/step - loss: 1.2765e-05 - val_loss: 0.0011\n",
            "Epoch 88/100\n",
            "74/74 [==============================] - 13s 175ms/step - loss: 1.1519e-05 - val_loss: 7.3737e-04\n",
            "Epoch 89/100\n",
            "74/74 [==============================] - 13s 172ms/step - loss: 1.1566e-05 - val_loss: 8.2619e-04\n",
            "Epoch 90/100\n",
            "74/74 [==============================] - 13s 173ms/step - loss: 1.2232e-05 - val_loss: 9.1544e-04\n",
            "Epoch 91/100\n",
            "74/74 [==============================] - 13s 174ms/step - loss: 1.3673e-05 - val_loss: 8.4860e-04\n",
            "Epoch 92/100\n",
            "74/74 [==============================] - 13s 175ms/step - loss: 1.2389e-05 - val_loss: 6.3864e-04\n",
            "Epoch 93/100\n",
            "74/74 [==============================] - 13s 173ms/step - loss: 1.2034e-05 - val_loss: 8.5550e-04\n",
            "Epoch 94/100\n",
            "74/74 [==============================] - 13s 172ms/step - loss: 1.2523e-05 - val_loss: 8.2934e-04\n",
            "Epoch 95/100\n",
            "74/74 [==============================] - 13s 174ms/step - loss: 1.1301e-05 - val_loss: 5.6298e-04\n",
            "Epoch 96/100\n",
            "74/74 [==============================] - 13s 175ms/step - loss: 1.1421e-05 - val_loss: 0.0010\n",
            "Epoch 97/100\n",
            "74/74 [==============================] - 13s 174ms/step - loss: 1.5134e-05 - val_loss: 0.0015\n",
            "Epoch 98/100\n",
            "74/74 [==============================] - 13s 176ms/step - loss: 1.1498e-05 - val_loss: 0.0014\n",
            "Epoch 99/100\n",
            "74/74 [==============================] - 13s 173ms/step - loss: 1.1759e-05 - val_loss: 0.0011\n",
            "Epoch 100/100\n",
            "74/74 [==============================] - 13s 173ms/step - loss: 1.2427e-05 - val_loss: 9.1768e-04\n"
          ]
        },
        {
          "output_type": "execute_result",
          "data": {
            "text/plain": [
              "<keras.callbacks.History at 0x7ff27d279890>"
            ]
          },
          "metadata": {},
          "execution_count": 29
        }
      ]
    },
    {
      "cell_type": "code",
      "metadata": {
        "id": "u82EsQ4a0c-2"
      },
      "source": [
        "import tensorflow as tf"
      ],
      "execution_count": null,
      "outputs": []
    },
    {
      "cell_type": "code",
      "metadata": {
        "colab": {
          "base_uri": "https://localhost:8080/",
          "height": 37
        },
        "id": "xZH6Ysln0llD",
        "outputId": "22b90972-461e-4d1d-bedd-29cc9da65d61"
      },
      "source": [
        "tf.__version__"
      ],
      "execution_count": null,
      "outputs": [
        {
          "output_type": "execute_result",
          "data": {
            "application/vnd.google.colaboratory.intrinsic+json": {
              "type": "string"
            },
            "text/plain": [
              "'2.6.0'"
            ]
          },
          "metadata": {},
          "execution_count": 31
        }
      ]
    },
    {
      "cell_type": "code",
      "metadata": {
        "id": "fjDIwcMH0ngp"
      },
      "source": [
        "### Lets Do the prediction and check performance metrics\n",
        "train_predict=model.predict(X_train)\n",
        "test_predict=model.predict(X_test)"
      ],
      "execution_count": null,
      "outputs": []
    },
    {
      "cell_type": "code",
      "metadata": {
        "id": "pnW1sUZW0pbC"
      },
      "source": [
        "##Transformback to original form\n",
        "train_predict=scaler.inverse_transform(train_predict)\n",
        "test_predict=scaler.inverse_transform(test_predict)"
      ],
      "execution_count": null,
      "outputs": []
    },
    {
      "cell_type": "code",
      "metadata": {
        "colab": {
          "base_uri": "https://localhost:8080/"
        },
        "id": "oewqwI3j0rJj",
        "outputId": "b1da7bc1-aa0d-408f-e309-8230a19f7e49"
      },
      "source": [
        "### Calculate RMSE performance metrics\n",
        "import math\n",
        "from sklearn.metrics import mean_squared_error\n",
        "math.sqrt(mean_squared_error(y_train,train_predict))"
      ],
      "execution_count": null,
      "outputs": [
        {
          "output_type": "execute_result",
          "data": {
            "text/plain": [
              "312.62151709514364"
            ]
          },
          "metadata": {},
          "execution_count": 34
        }
      ]
    },
    {
      "cell_type": "code",
      "metadata": {
        "colab": {
          "base_uri": "https://localhost:8080/"
        },
        "id": "yV7wtOxU0thE",
        "outputId": "18003c28-50fd-4525-e715-49e2af06f380"
      },
      "source": [
        "### Test Data RMSE\n",
        "math.sqrt(mean_squared_error(y_test,test_predict))"
      ],
      "execution_count": null,
      "outputs": [
        {
          "output_type": "execute_result",
          "data": {
            "text/plain": [
              "1197.6751263440667"
            ]
          },
          "metadata": {},
          "execution_count": 35
        }
      ]
    },
    {
      "cell_type": "code",
      "metadata": {
        "colab": {
          "base_uri": "https://localhost:8080/",
          "height": 452
        },
        "id": "b2O9FdYN03ec",
        "outputId": "f23a6b68-6762-463c-ebf0-473d77a71762"
      },
      "source": [
        "### Plotting \n",
        "# shift train predictions for plotting\n",
        "look_back=100\n",
        "trainPredictPlot = numpy.empty_like(df1)\n",
        "trainPredictPlot[:, :] = np.nan\n",
        "trainPredictPlot[look_back:len(train_predict)+look_back, :] = train_predict\n",
        "# shift test predictions for plotting\n",
        "testPredictPlot = numpy.empty_like(df1)\n",
        "testPredictPlot[:, :] = numpy.nan\n",
        "testPredictPlot[len(train_predict)+(look_back*2)+1:len(df1)-1, :] = test_predict\n",
        "# plot baseline and predictions\n",
        "plt.plot(scaler.inverse_transform(df1))\n",
        "plt.plot(trainPredictPlot)\n",
        "plt.plot(testPredictPlot)\n",
        "plt.title('Reliance Train Test Split')\n",
        "plt.show()"
      ],
      "execution_count": null,
      "outputs": [
        {
          "output_type": "display_data",
          "data": {
            "image/png": "[encoded data removed]",
            "text/plain": [
              "<Figure size 640x480 with 1 Axes>"
            ]
          },
          "metadata": {}
        }
      ]
    },
    {
      "cell_type": "code",
      "metadata": {
        "colab": {
          "base_uri": "https://localhost:8080/"
        },
        "id": "XJDVfIMk05WN",
        "outputId": "8a16061a-5f71-47c0-d3d3-54a9fe3f12f4"
      },
      "source": [
        "len(test_data)"
      ],
      "execution_count": null,
      "outputs": [
        {
          "output_type": "execute_result",
          "data": {
            "text/plain": [
              "1613"
            ]
          },
          "metadata": {},
          "execution_count": 37
        }
      ]
    },
    {
      "cell_type": "code",
      "metadata": {
        "colab": {
          "base_uri": "https://localhost:8080/"
        },
        "id": "faLcUIDr08mi",
        "outputId": "e5c00f86-86a5-45fe-db20-26892b726148"
      },
      "source": [
        "x_input=test_data[1513:].reshape(1,-1)\n",
        "x_input.shape"
      ],
      "execution_count": null,
      "outputs": [
        {
          "output_type": "execute_result",
          "data": {
            "text/plain": [
              "(1, 100)"
            ]
          },
          "metadata": {},
          "execution_count": 41
        }
      ]
    },
    {
      "cell_type": "code",
      "metadata": {
        "id": "7oKtWwxZ09IM"
      },
      "source": [
        "temp_input=list(x_input)\n",
        "temp_input=temp_input[0].tolist()"
      ],
      "execution_count": null,
      "outputs": []
    },
    {
      "cell_type": "code",
      "metadata": {
        "colab": {
          "base_uri": "https://localhost:8080/"
        },
        "id": "Nm8nnIo809lO",
        "outputId": "7af2b0de-f873-4684-c0d5-ecdc1d391712"
      },
      "source": [
        "# demonstrate prediction for next 30 days\n",
        "from numpy import array\n",
        "\n",
        "lst_output=[]\n",
        "n_steps=100\n",
        "i=0\n",
        "while(i<30):\n",
        "    \n",
        "    if(len(temp_input)>100):\n",
        "        #print(temp_input)\n",
        "        x_input=np.array(temp_input[1:])\n",
        "        print(\"{} day input {}\".format(i,x_input))\n",
        "        x_input=x_input.reshape(1,-1)\n",
        "        x_input = x_input.reshape((1, n_steps, 1))\n",
        "        #print(x_input)\n",
        "        yhat = model.predict(x_input, verbose=0)\n",
        "        print(\"{} day output {}\".format(i,yhat))\n",
        "        temp_input.extend(yhat[0].tolist())\n",
        "        temp_input=temp_input[1:]\n",
        "        #print(temp_input)\n",
        "        lst_output.extend(yhat.tolist())\n",
        "        i=i+1\n",
        "    else:\n",
        "        x_input = x_input.reshape((1, n_steps,1))\n",
        "        yhat = model.predict(x_input, verbose=0)\n",
        "        print(yhat[0])\n",
        "        temp_input.extend(yhat[0].tolist())\n",
        "        print(len(temp_input))\n",
        "        lst_output.extend(yhat.tolist())\n",
        "        i=i+1\n",
        "    \n",
        "\n",
        "print(lst_output)"
      ],
      "execution_count": null,
      "outputs": [
        {
          "output_type": "stream",
          "name": "stdout",
          "text": [
            "[0.8793807]\n",
            "101\n",
            "1 day input [0.852875   0.86089604 0.86197705 0.8519021  0.82124474 0.83017386\n",
            " 0.8355789  0.83030355 0.8171585  0.81692071 0.81919083 0.81830438\n",
            " 0.83278987 0.85475594 0.85849624 0.87006301 0.85728549 0.84195684\n",
            " 0.82360131 0.82511472 0.82982792 0.83015222 0.82775237 0.8307576\n",
            " 0.82210954 0.83255208 0.84251893 0.85445323 0.85838814 0.85335063\n",
            " 0.86076635 0.85345874 0.84372968 0.84671327 0.84932927 0.90065549\n",
            " 0.92897787 0.93269647 0.94668473 0.95031687 0.94203641 0.95799202\n",
            " 0.95245735 0.93533416 0.93879339 0.95183028 0.96555907 0.96776436\n",
            " 0.95116014 0.95291129 0.95723532 0.96225123 0.9572786  0.94845763\n",
            " 0.92603751 0.90482814 0.89685033 0.89762868 0.90750901 0.90201752\n",
            " 0.91546528 0.92461056 0.91362757 0.90724963 0.89970423 0.89045075\n",
            " 0.89602881 0.90277422 0.89685033 0.8952721  0.90826572 0.90244992\n",
            " 0.90022309 0.91185468 0.90536864 0.89289389 0.88344585 0.87581393\n",
            " 0.88268914 0.87492754 0.89101289 0.89760703 0.90452548 0.91771376\n",
            " 0.89816918 0.89302352 0.89773678 0.91038455 0.90744419 0.9226431\n",
            " 0.93468556 0.93068584 0.93431798 0.92376739 0.92986431 0.93909605\n",
            " 0.94726852 0.95931087 0.95799202 0.8793807 ]\n",
            "1 day output [[0.77480006]]\n",
            "2 day input [0.86089604 0.86197705 0.8519021  0.82124474 0.83017386 0.8355789\n",
            " 0.83030355 0.8171585  0.81692071 0.81919083 0.81830438 0.83278987\n",
            " 0.85475594 0.85849624 0.87006301 0.85728549 0.84195684 0.82360131\n",
            " 0.82511472 0.82982792 0.83015222 0.82775237 0.8307576  0.82210954\n",
            " 0.83255208 0.84251893 0.85445323 0.85838814 0.85335063 0.86076635\n",
            " 0.85345874 0.84372968 0.84671327 0.84932927 0.90065549 0.92897787\n",
            " 0.93269647 0.94668473 0.95031687 0.94203641 0.95799202 0.95245735\n",
            " 0.93533416 0.93879339 0.95183028 0.96555907 0.96776436 0.95116014\n",
            " 0.95291129 0.95723532 0.96225123 0.9572786  0.94845763 0.92603751\n",
            " 0.90482814 0.89685033 0.89762868 0.90750901 0.90201752 0.91546528\n",
            " 0.92461056 0.91362757 0.90724963 0.89970423 0.89045075 0.89602881\n",
            " 0.90277422 0.89685033 0.8952721  0.90826572 0.90244992 0.90022309\n",
            " 0.91185468 0.90536864 0.89289389 0.88344585 0.87581393 0.88268914\n",
            " 0.87492754 0.89101289 0.89760703 0.90452548 0.91771376 0.89816918\n",
            " 0.89302352 0.89773678 0.91038455 0.90744419 0.9226431  0.93468556\n",
            " 0.93068584 0.93431798 0.92376739 0.92986431 0.93909605 0.94726852\n",
            " 0.95931087 0.95799202 0.8793807  0.77480006]\n",
            "2 day output [[0.699839]]\n",
            "3 day input [0.86197705 0.8519021  0.82124474 0.83017386 0.8355789  0.83030355\n",
            " 0.8171585  0.81692071 0.81919083 0.81830438 0.83278987 0.85475594\n",
            " 0.85849624 0.87006301 0.85728549 0.84195684 0.82360131 0.82511472\n",
            " 0.82982792 0.83015222 0.82775237 0.8307576  0.82210954 0.83255208\n",
            " 0.84251893 0.85445323 0.85838814 0.85335063 0.86076635 0.85345874\n",
            " 0.84372968 0.84671327 0.84932927 0.90065549 0.92897787 0.93269647\n",
            " 0.94668473 0.95031687 0.94203641 0.95799202 0.95245735 0.93533416\n",
            " 0.93879339 0.95183028 0.96555907 0.96776436 0.95116014 0.95291129\n",
            " 0.95723532 0.96225123 0.9572786  0.94845763 0.92603751 0.90482814\n",
            " 0.89685033 0.89762868 0.90750901 0.90201752 0.91546528 0.92461056\n",
            " 0.91362757 0.90724963 0.89970423 0.89045075 0.89602881 0.90277422\n",
            " 0.89685033 0.8952721  0.90826572 0.90244992 0.90022309 0.91185468\n",
            " 0.90536864 0.89289389 0.88344585 0.87581393 0.88268914 0.87492754\n",
            " 0.89101289 0.89760703 0.90452548 0.91771376 0.89816918 0.89302352\n",
            " 0.89773678 0.91038455 0.90744419 0.9226431  0.93468556 0.93068584\n",
            " 0.93431798 0.92376739 0.92986431 0.93909605 0.94726852 0.95931087\n",
            " 0.95799202 0.8793807  0.77480006 0.699839  ]\n",
            "3 day output [[0.66848266]]\n",
            "4 day input [0.8519021  0.82124474 0.83017386 0.8355789  0.83030355 0.8171585\n",
            " 0.81692071 0.81919083 0.81830438 0.83278987 0.85475594 0.85849624\n",
            " 0.87006301 0.85728549 0.84195684 0.82360131 0.82511472 0.82982792\n",
            " 0.83015222 0.82775237 0.8307576  0.82210954 0.83255208 0.84251893\n",
            " 0.85445323 0.85838814 0.85335063 0.86076635 0.85345874 0.84372968\n",
            " 0.84671327 0.84932927 0.90065549 0.92897787 0.93269647 0.94668473\n",
            " 0.95031687 0.94203641 0.95799202 0.95245735 0.93533416 0.93879339\n",
            " 0.95183028 0.96555907 0.96776436 0.95116014 0.95291129 0.95723532\n",
            " 0.96225123 0.9572786  0.94845763 0.92603751 0.90482814 0.89685033\n",
            " 0.89762868 0.90750901 0.90201752 0.91546528 0.92461056 0.91362757\n",
            " 0.90724963 0.89970423 0.89045075 0.89602881 0.90277422 0.89685033\n",
            " 0.8952721  0.90826572 0.90244992 0.90022309 0.91185468 0.90536864\n",
            " 0.89289389 0.88344585 0.87581393 0.88268914 0.87492754 0.89101289\n",
            " 0.89760703 0.90452548 0.91771376 0.89816918 0.89302352 0.89773678\n",
            " 0.91038455 0.90744419 0.9226431  0.93468556 0.93068584 0.93431798\n",
            " 0.92376739 0.92986431 0.93909605 0.94726852 0.95931087 0.95799202\n",
            " 0.8793807  0.77480006 0.699839   0.66848266]\n",
            "4 day output [[0.6620227]]\n",
            "5 day input [0.82124474 0.83017386 0.8355789  0.83030355 0.8171585  0.81692071\n",
            " 0.81919083 0.81830438 0.83278987 0.85475594 0.85849624 0.87006301\n",
            " 0.85728549 0.84195684 0.82360131 0.82511472 0.82982792 0.83015222\n",
            " 0.82775237 0.8307576  0.82210954 0.83255208 0.84251893 0.85445323\n",
            " 0.85838814 0.85335063 0.86076635 0.85345874 0.84372968 0.84671327\n",
            " 0.84932927 0.90065549 0.92897787 0.93269647 0.94668473 0.95031687\n",
            " 0.94203641 0.95799202 0.95245735 0.93533416 0.93879339 0.95183028\n",
            " 0.96555907 0.96776436 0.95116014 0.95291129 0.95723532 0.96225123\n",
            " 0.9572786  0.94845763 0.92603751 0.90482814 0.89685033 0.89762868\n",
            " 0.90750901 0.90201752 0.91546528 0.92461056 0.91362757 0.90724963\n",
            " 0.89970423 0.89045075 0.89602881 0.90277422 0.89685033 0.8952721\n",
            " 0.90826572 0.90244992 0.90022309 0.91185468 0.90536864 0.89289389\n",
            " 0.88344585 0.87581393 0.88268914 0.87492754 0.89101289 0.89760703\n",
            " 0.90452548 0.91771376 0.89816918 0.89302352 0.89773678 0.91038455\n",
            " 0.90744419 0.9226431  0.93468556 0.93068584 0.93431798 0.92376739\n",
            " 0.92986431 0.93909605 0.94726852 0.95931087 0.95799202 0.8793807\n",
            " 0.77480006 0.699839   0.66848266 0.66202271]\n",
            "5 day output [[0.65612465]]\n",
            "6 day input [0.83017386 0.8355789  0.83030355 0.8171585  0.81692071 0.81919083\n",
            " 0.81830438 0.83278987 0.85475594 0.85849624 0.87006301 0.85728549\n",
            " 0.84195684 0.82360131 0.82511472 0.82982792 0.83015222 0.82775237\n",
            " 0.8307576  0.82210954 0.83255208 0.84251893 0.85445323 0.85838814\n",
            " 0.85335063 0.86076635 0.85345874 0.84372968 0.84671327 0.84932927\n",
            " 0.90065549 0.92897787 0.93269647 0.94668473 0.95031687 0.94203641\n",
            " 0.95799202 0.95245735 0.93533416 0.93879339 0.95183028 0.96555907\n",
            " 0.96776436 0.95116014 0.95291129 0.95723532 0.96225123 0.9572786\n",
            " 0.94845763 0.92603751 0.90482814 0.89685033 0.89762868 0.90750901\n",
            " 0.90201752 0.91546528 0.92461056 0.91362757 0.90724963 0.89970423\n",
            " 0.89045075 0.89602881 0.90277422 0.89685033 0.8952721  0.90826572\n",
            " 0.90244992 0.90022309 0.91185468 0.90536864 0.89289389 0.88344585\n",
            " 0.87581393 0.88268914 0.87492754 0.89101289 0.89760703 0.90452548\n",
            " 0.91771376 0.89816918 0.89302352 0.89773678 0.91038455 0.90744419\n",
            " 0.9226431  0.93468556 0.93068584 0.93431798 0.92376739 0.92986431\n",
            " 0.93909605 0.94726852 0.95931087 0.95799202 0.8793807  0.77480006\n",
            " 0.699839   0.66848266 0.66202271 0.65612465]\n",
            "6 day output [[0.6390383]]\n",
            "7 day input [0.8355789  0.83030355 0.8171585  0.81692071 0.81919083 0.81830438\n",
            " 0.83278987 0.85475594 0.85849624 0.87006301 0.85728549 0.84195684\n",
            " 0.82360131 0.82511472 0.82982792 0.83015222 0.82775237 0.8307576\n",
            " 0.82210954 0.83255208 0.84251893 0.85445323 0.85838814 0.85335063\n",
            " 0.86076635 0.85345874 0.84372968 0.84671327 0.84932927 0.90065549\n",
            " 0.92897787 0.93269647 0.94668473 0.95031687 0.94203641 0.95799202\n",
            " 0.95245735 0.93533416 0.93879339 0.95183028 0.96555907 0.96776436\n",
            " 0.95116014 0.95291129 0.95723532 0.96225123 0.9572786  0.94845763\n",
            " 0.92603751 0.90482814 0.89685033 0.89762868 0.90750901 0.90201752\n",
            " 0.91546528 0.92461056 0.91362757 0.90724963 0.89970423 0.89045075\n",
            " 0.89602881 0.90277422 0.89685033 0.8952721  0.90826572 0.90244992\n",
            " 0.90022309 0.91185468 0.90536864 0.89289389 0.88344585 0.87581393\n",
            " 0.88268914 0.87492754 0.89101289 0.89760703 0.90452548 0.91771376\n",
            " 0.89816918 0.89302352 0.89773678 0.91038455 0.90744419 0.9226431\n",
            " 0.93468556 0.93068584 0.93431798 0.92376739 0.92986431 0.93909605\n",
            " 0.94726852 0.95931087 0.95799202 0.8793807  0.77480006 0.699839\n",
            " 0.66848266 0.66202271 0.65612465 0.63903832]\n",
            "7 day output [[0.6120385]]\n",
            "8 day input [0.83030355 0.8171585  0.81692071 0.81919083 0.81830438 0.83278987\n",
            " 0.85475594 0.85849624 0.87006301 0.85728549 0.84195684 0.82360131\n",
            " 0.82511472 0.82982792 0.83015222 0.82775237 0.8307576  0.82210954\n",
            " 0.83255208 0.84251893 0.85445323 0.85838814 0.85335063 0.86076635\n",
            " 0.85345874 0.84372968 0.84671327 0.84932927 0.90065549 0.92897787\n",
            " 0.93269647 0.94668473 0.95031687 0.94203641 0.95799202 0.95245735\n",
            " 0.93533416 0.93879339 0.95183028 0.96555907 0.96776436 0.95116014\n",
            " 0.95291129 0.95723532 0.96225123 0.9572786  0.94845763 0.92603751\n",
            " 0.90482814 0.89685033 0.89762868 0.90750901 0.90201752 0.91546528\n",
            " 0.92461056 0.91362757 0.90724963 0.89970423 0.89045075 0.89602881\n",
            " 0.90277422 0.89685033 0.8952721  0.90826572 0.90244992 0.90022309\n",
            " 0.91185468 0.90536864 0.89289389 0.88344585 0.87581393 0.88268914\n",
            " 0.87492754 0.89101289 0.89760703 0.90452548 0.91771376 0.89816918\n",
            " 0.89302352 0.89773678 0.91038455 0.90744419 0.9226431  0.93468556\n",
            " 0.93068584 0.93431798 0.92376739 0.92986431 0.93909605 0.94726852\n",
            " 0.95931087 0.95799202 0.8793807  0.77480006 0.699839   0.66848266\n",
            " 0.66202271 0.65612465 0.63903832 0.61203849]\n",
            "8 day output [[0.5821241]]\n",
            "9 day input [0.8171585  0.81692071 0.81919083 0.81830438 0.83278987 0.85475594\n",
            " 0.85849624 0.87006301 0.85728549 0.84195684 0.82360131 0.82511472\n",
            " 0.82982792 0.83015222 0.82775237 0.8307576  0.82210954 0.83255208\n",
            " 0.84251893 0.85445323 0.85838814 0.85335063 0.86076635 0.85345874\n",
            " 0.84372968 0.84671327 0.84932927 0.90065549 0.92897787 0.93269647\n",
            " 0.94668473 0.95031687 0.94203641 0.95799202 0.95245735 0.93533416\n",
            " 0.93879339 0.95183028 0.96555907 0.96776436 0.95116014 0.95291129\n",
            " 0.95723532 0.96225123 0.9572786  0.94845763 0.92603751 0.90482814\n",
            " 0.89685033 0.89762868 0.90750901 0.90201752 0.91546528 0.92461056\n",
            " 0.91362757 0.90724963 0.89970423 0.89045075 0.89602881 0.90277422\n",
            " 0.89685033 0.8952721  0.90826572 0.90244992 0.90022309 0.91185468\n",
            " 0.90536864 0.89289389 0.88344585 0.87581393 0.88268914 0.87492754\n",
            " 0.89101289 0.89760703 0.90452548 0.91771376 0.89816918 0.89302352\n",
            " 0.89773678 0.91038455 0.90744419 0.9226431  0.93468556 0.93068584\n",
            " 0.93431798 0.92376739 0.92986431 0.93909605 0.94726852 0.95931087\n",
            " 0.95799202 0.8793807  0.77480006 0.699839   0.66848266 0.66202271\n",
            " 0.65612465 0.63903832 0.61203849 0.58212411]\n",
            "9 day output [[0.5555861]]\n",
            "10 day input [0.81692071 0.81919083 0.81830438 0.83278987 0.85475594 0.85849624\n",
            " 0.87006301 0.85728549 0.84195684 0.82360131 0.82511472 0.82982792\n",
            " 0.83015222 0.82775237 0.8307576  0.82210954 0.83255208 0.84251893\n",
            " 0.85445323 0.85838814 0.85335063 0.86076635 0.85345874 0.84372968\n",
            " 0.84671327 0.84932927 0.90065549 0.92897787 0.93269647 0.94668473\n",
            " 0.95031687 0.94203641 0.95799202 0.95245735 0.93533416 0.93879339\n",
            " 0.95183028 0.96555907 0.96776436 0.95116014 0.95291129 0.95723532\n",
            " 0.96225123 0.9572786  0.94845763 0.92603751 0.90482814 0.89685033\n",
            " 0.89762868 0.90750901 0.90201752 0.91546528 0.92461056 0.91362757\n",
            " 0.90724963 0.89970423 0.89045075 0.89602881 0.90277422 0.89685033\n",
            " 0.8952721  0.90826572 0.90244992 0.90022309 0.91185468 0.90536864\n",
            " 0.89289389 0.88344585 0.87581393 0.88268914 0.87492754 0.89101289\n",
            " 0.89760703 0.90452548 0.91771376 0.89816918 0.89302352 0.89773678\n",
            " 0.91038455 0.90744419 0.9226431  0.93468556 0.93068584 0.93431798\n",
            " 0.92376739 0.92986431 0.93909605 0.94726852 0.95931087 0.95799202\n",
            " 0.8793807  0.77480006 0.699839   0.66848266 0.66202271 0.65612465\n",
            " 0.63903832 0.61203849 0.58212411 0.5555861 ]\n",
            "10 day output [[0.53509295]]\n",
            "11 day input [0.81919083 0.81830438 0.83278987 0.85475594 0.85849624 0.87006301\n",
            " 0.85728549 0.84195684 0.82360131 0.82511472 0.82982792 0.83015222\n",
            " 0.82775237 0.8307576  0.82210954 0.83255208 0.84251893 0.85445323\n",
            " 0.85838814 0.85335063 0.86076635 0.85345874 0.84372968 0.84671327\n",
            " 0.84932927 0.90065549 0.92897787 0.93269647 0.94668473 0.95031687\n",
            " 0.94203641 0.95799202 0.95245735 0.93533416 0.93879339 0.95183028\n",
            " 0.96555907 0.96776436 0.95116014 0.95291129 0.95723532 0.96225123\n",
            " 0.9572786  0.94845763 0.92603751 0.90482814 0.89685033 0.89762868\n",
            " 0.90750901 0.90201752 0.91546528 0.92461056 0.91362757 0.90724963\n",
            " 0.89970423 0.89045075 0.89602881 0.90277422 0.89685033 0.8952721\n",
            " 0.90826572 0.90244992 0.90022309 0.91185468 0.90536864 0.89289389\n",
            " 0.88344585 0.87581393 0.88268914 0.87492754 0.89101289 0.89760703\n",
            " 0.90452548 0.91771376 0.89816918 0.89302352 0.89773678 0.91038455\n",
            " 0.90744419 0.9226431  0.93468556 0.93068584 0.93431798 0.92376739\n",
            " 0.92986431 0.93909605 0.94726852 0.95931087 0.95799202 0.8793807\n",
            " 0.77480006 0.699839   0.66848266 0.66202271 0.65612465 0.63903832\n",
            " 0.61203849 0.58212411 0.5555861  0.53509295]\n",
            "11 day output [[0.5199705]]\n",
            "12 day input [0.81830438 0.83278987 0.85475594 0.85849624 0.87006301 0.85728549\n",
            " 0.84195684 0.82360131 0.82511472 0.82982792 0.83015222 0.82775237\n",
            " 0.8307576  0.82210954 0.83255208 0.84251893 0.85445323 0.85838814\n",
            " 0.85335063 0.86076635 0.85345874 0.84372968 0.84671327 0.84932927\n",
            " 0.90065549 0.92897787 0.93269647 0.94668473 0.95031687 0.94203641\n",
            " 0.95799202 0.95245735 0.93533416 0.93879339 0.95183028 0.96555907\n",
            " 0.96776436 0.95116014 0.95291129 0.95723532 0.96225123 0.9572786\n",
            " 0.94845763 0.92603751 0.90482814 0.89685033 0.89762868 0.90750901\n",
            " 0.90201752 0.91546528 0.92461056 0.91362757 0.90724963 0.89970423\n",
            " 0.89045075 0.89602881 0.90277422 0.89685033 0.8952721  0.90826572\n",
            " 0.90244992 0.90022309 0.91185468 0.90536864 0.89289389 0.88344585\n",
            " 0.87581393 0.88268914 0.87492754 0.89101289 0.89760703 0.90452548\n",
            " 0.91771376 0.89816918 0.89302352 0.89773678 0.91038455 0.90744419\n",
            " 0.9226431  0.93468556 0.93068584 0.93431798 0.92376739 0.92986431\n",
            " 0.93909605 0.94726852 0.95931087 0.95799202 0.8793807  0.77480006\n",
            " 0.699839   0.66848266 0.66202271 0.65612465 0.63903832 0.61203849\n",
            " 0.58212411 0.5555861  0.53509295 0.51997048]\n",
            "12 day output [[0.5080502]]\n",
            "13 day input [0.83278987 0.85475594 0.85849624 0.87006301 0.85728549 0.84195684\n",
            " 0.82360131 0.82511472 0.82982792 0.83015222 0.82775237 0.8307576\n",
            " 0.82210954 0.83255208 0.84251893 0.85445323 0.85838814 0.85335063\n",
            " 0.86076635 0.85345874 0.84372968 0.84671327 0.84932927 0.90065549\n",
            " 0.92897787 0.93269647 0.94668473 0.95031687 0.94203641 0.95799202\n",
            " 0.95245735 0.93533416 0.93879339 0.95183028 0.96555907 0.96776436\n",
            " 0.95116014 0.95291129 0.95723532 0.96225123 0.9572786  0.94845763\n",
            " 0.92603751 0.90482814 0.89685033 0.89762868 0.90750901 0.90201752\n",
            " 0.91546528 0.92461056 0.91362757 0.90724963 0.89970423 0.89045075\n",
            " 0.89602881 0.90277422 0.89685033 0.8952721  0.90826572 0.90244992\n",
            " 0.90022309 0.91185468 0.90536864 0.89289389 0.88344585 0.87581393\n",
            " 0.88268914 0.87492754 0.89101289 0.89760703 0.90452548 0.91771376\n",
            " 0.89816918 0.89302352 0.89773678 0.91038455 0.90744419 0.9226431\n",
            " 0.93468556 0.93068584 0.93431798 0.92376739 0.92986431 0.93909605\n",
            " 0.94726852 0.95931087 0.95799202 0.8793807  0.77480006 0.699839\n",
            " 0.66848266 0.66202271 0.65612465 0.63903832 0.61203849 0.58212411\n",
            " 0.5555861  0.53509295 0.51997048 0.5080502 ]\n",
            "13 day output [[0.49735403]]\n",
            "14 day input [0.85475594 0.85849624 0.87006301 0.85728549 0.84195684 0.82360131\n",
            " 0.82511472 0.82982792 0.83015222 0.82775237 0.8307576  0.82210954\n",
            " 0.83255208 0.84251893 0.85445323 0.85838814 0.85335063 0.86076635\n",
            " 0.85345874 0.84372968 0.84671327 0.84932927 0.90065549 0.92897787\n",
            " 0.93269647 0.94668473 0.95031687 0.94203641 0.95799202 0.95245735\n",
            " 0.93533416 0.93879339 0.95183028 0.96555907 0.96776436 0.95116014\n",
            " 0.95291129 0.95723532 0.96225123 0.9572786  0.94845763 0.92603751\n",
            " 0.90482814 0.89685033 0.89762868 0.90750901 0.90201752 0.91546528\n",
            " 0.92461056 0.91362757 0.90724963 0.89970423 0.89045075 0.89602881\n",
            " 0.90277422 0.89685033 0.8952721  0.90826572 0.90244992 0.90022309\n",
            " 0.91185468 0.90536864 0.89289389 0.88344585 0.87581393 0.88268914\n",
            " 0.87492754 0.89101289 0.89760703 0.90452548 0.91771376 0.89816918\n",
            " 0.89302352 0.89773678 0.91038455 0.90744419 0.9226431  0.93468556\n",
            " 0.93068584 0.93431798 0.92376739 0.92986431 0.93909605 0.94726852\n",
            " 0.95931087 0.95799202 0.8793807  0.77480006 0.699839   0.66848266\n",
            " 0.66202271 0.65612465 0.63903832 0.61203849 0.58212411 0.5555861\n",
            " 0.53509295 0.51997048 0.5080502  0.49735403]\n",
            "14 day output [[0.48684356]]\n",
            "15 day input [0.85849624 0.87006301 0.85728549 0.84195684 0.82360131 0.82511472\n",
            " 0.82982792 0.83015222 0.82775237 0.8307576  0.82210954 0.83255208\n",
            " 0.84251893 0.85445323 0.85838814 0.85335063 0.86076635 0.85345874\n",
            " 0.84372968 0.84671327 0.84932927 0.90065549 0.92897787 0.93269647\n",
            " 0.94668473 0.95031687 0.94203641 0.95799202 0.95245735 0.93533416\n",
            " 0.93879339 0.95183028 0.96555907 0.96776436 0.95116014 0.95291129\n",
            " 0.95723532 0.96225123 0.9572786  0.94845763 0.92603751 0.90482814\n",
            " 0.89685033 0.89762868 0.90750901 0.90201752 0.91546528 0.92461056\n",
            " 0.91362757 0.90724963 0.89970423 0.89045075 0.89602881 0.90277422\n",
            " 0.89685033 0.8952721  0.90826572 0.90244992 0.90022309 0.91185468\n",
            " 0.90536864 0.89289389 0.88344585 0.87581393 0.88268914 0.87492754\n",
            " 0.89101289 0.89760703 0.90452548 0.91771376 0.89816918 0.89302352\n",
            " 0.89773678 0.91038455 0.90744419 0.9226431  0.93468556 0.93068584\n",
            " 0.93431798 0.92376739 0.92986431 0.93909605 0.94726852 0.95931087\n",
            " 0.95799202 0.8793807  0.77480006 0.699839   0.66848266 0.66202271\n",
            " 0.65612465 0.63903832 0.61203849 0.58212411 0.5555861  0.53509295\n",
            " 0.51997048 0.5080502  0.49735403 0.48684356]\n",
            "15 day output [[0.47636613]]\n",
            "16 day input [0.87006301 0.85728549 0.84195684 0.82360131 0.82511472 0.82982792\n",
            " 0.83015222 0.82775237 0.8307576  0.82210954 0.83255208 0.84251893\n",
            " 0.85445323 0.85838814 0.85335063 0.86076635 0.85345874 0.84372968\n",
            " 0.84671327 0.84932927 0.90065549 0.92897787 0.93269647 0.94668473\n",
            " 0.95031687 0.94203641 0.95799202 0.95245735 0.93533416 0.93879339\n",
            " 0.95183028 0.96555907 0.96776436 0.95116014 0.95291129 0.95723532\n",
            " 0.96225123 0.9572786  0.94845763 0.92603751 0.90482814 0.89685033\n",
            " 0.89762868 0.90750901 0.90201752 0.91546528 0.92461056 0.91362757\n",
            " 0.90724963 0.89970423 0.89045075 0.89602881 0.90277422 0.89685033\n",
            " 0.8952721  0.90826572 0.90244992 0.90022309 0.91185468 0.90536864\n",
            " 0.89289389 0.88344585 0.87581393 0.88268914 0.87492754 0.89101289\n",
            " 0.89760703 0.90452548 0.91771376 0.89816918 0.89302352 0.89773678\n",
            " 0.91038455 0.90744419 0.9226431  0.93468556 0.93068584 0.93431798\n",
            " 0.92376739 0.92986431 0.93909605 0.94726852 0.95931087 0.95799202\n",
            " 0.8793807  0.77480006 0.699839   0.66848266 0.66202271 0.65612465\n",
            " 0.63903832 0.61203849 0.58212411 0.5555861  0.53509295 0.51997048\n",
            " 0.5080502  0.49735403 0.48684356 0.47636613]\n",
            "16 day output [[0.46623698]]\n",
            "17 day input [0.85728549 0.84195684 0.82360131 0.82511472 0.82982792 0.83015222\n",
            " 0.82775237 0.8307576  0.82210954 0.83255208 0.84251893 0.85445323\n",
            " 0.85838814 0.85335063 0.86076635 0.85345874 0.84372968 0.84671327\n",
            " 0.84932927 0.90065549 0.92897787 0.93269647 0.94668473 0.95031687\n",
            " 0.94203641 0.95799202 0.95245735 0.93533416 0.93879339 0.95183028\n",
            " 0.96555907 0.96776436 0.95116014 0.95291129 0.95723532 0.96225123\n",
            " 0.9572786  0.94845763 0.92603751 0.90482814 0.89685033 0.89762868\n",
            " 0.90750901 0.90201752 0.91546528 0.92461056 0.91362757 0.90724963\n",
            " 0.89970423 0.89045075 0.89602881 0.90277422 0.89685033 0.8952721\n",
            " 0.90826572 0.90244992 0.90022309 0.91185468 0.90536864 0.89289389\n",
            " 0.88344585 0.87581393 0.88268914 0.87492754 0.89101289 0.89760703\n",
            " 0.90452548 0.91771376 0.89816918 0.89302352 0.89773678 0.91038455\n",
            " 0.90744419 0.9226431  0.93468556 0.93068584 0.93431798 0.92376739\n",
            " 0.92986431 0.93909605 0.94726852 0.95931087 0.95799202 0.8793807\n",
            " 0.77480006 0.699839   0.66848266 0.66202271 0.65612465 0.63903832\n",
            " 0.61203849 0.58212411 0.5555861  0.53509295 0.51997048 0.5080502\n",
            " 0.49735403 0.48684356 0.47636613 0.46623698]\n",
            "17 day output [[0.4568299]]\n",
            "18 day input [0.84195684 0.82360131 0.82511472 0.82982792 0.83015222 0.82775237\n",
            " 0.8307576  0.82210954 0.83255208 0.84251893 0.85445323 0.85838814\n",
            " 0.85335063 0.86076635 0.85345874 0.84372968 0.84671327 0.84932927\n",
            " 0.90065549 0.92897787 0.93269647 0.94668473 0.95031687 0.94203641\n",
            " 0.95799202 0.95245735 0.93533416 0.93879339 0.95183028 0.96555907\n",
            " 0.96776436 0.95116014 0.95291129 0.95723532 0.96225123 0.9572786\n",
            " 0.94845763 0.92603751 0.90482814 0.89685033 0.89762868 0.90750901\n",
            " 0.90201752 0.91546528 0.92461056 0.91362757 0.90724963 0.89970423\n",
            " 0.89045075 0.89602881 0.90277422 0.89685033 0.8952721  0.90826572\n",
            " 0.90244992 0.90022309 0.91185468 0.90536864 0.89289389 0.88344585\n",
            " 0.87581393 0.88268914 0.87492754 0.89101289 0.89760703 0.90452548\n",
            " 0.91771376 0.89816918 0.89302352 0.89773678 0.91038455 0.90744419\n",
            " 0.9226431  0.93468556 0.93068584 0.93431798 0.92376739 0.92986431\n",
            " 0.93909605 0.94726852 0.95931087 0.95799202 0.8793807  0.77480006\n",
            " 0.699839   0.66848266 0.66202271 0.65612465 0.63903832 0.61203849\n",
            " 0.58212411 0.5555861  0.53509295 0.51997048 0.5080502  0.49735403\n",
            " 0.48684356 0.47636613 0.46623698 0.45682991]\n",
            "18 day output [[0.448346]]\n",
            "19 day input [0.82360131 0.82511472 0.82982792 0.83015222 0.82775237 0.8307576\n",
            " 0.82210954 0.83255208 0.84251893 0.85445323 0.85838814 0.85335063\n",
            " 0.86076635 0.85345874 0.84372968 0.84671327 0.84932927 0.90065549\n",
            " 0.92897787 0.93269647 0.94668473 0.95031687 0.94203641 0.95799202\n",
            " 0.95245735 0.93533416 0.93879339 0.95183028 0.96555907 0.96776436\n",
            " 0.95116014 0.95291129 0.95723532 0.96225123 0.9572786  0.94845763\n",
            " 0.92603751 0.90482814 0.89685033 0.89762868 0.90750901 0.90201752\n",
            " 0.91546528 0.92461056 0.91362757 0.90724963 0.89970423 0.89045075\n",
            " 0.89602881 0.90277422 0.89685033 0.8952721  0.90826572 0.90244992\n",
            " 0.90022309 0.91185468 0.90536864 0.89289389 0.88344585 0.87581393\n",
            " 0.88268914 0.87492754 0.89101289 0.89760703 0.90452548 0.91771376\n",
            " 0.89816918 0.89302352 0.89773678 0.91038455 0.90744419 0.9226431\n",
            " 0.93468556 0.93068584 0.93431798 0.92376739 0.92986431 0.93909605\n",
            " 0.94726852 0.95931087 0.95799202 0.8793807  0.77480006 0.699839\n",
            " 0.66848266 0.66202271 0.65612465 0.63903832 0.61203849 0.58212411\n",
            " 0.5555861  0.53509295 0.51997048 0.5080502  0.49735403 0.48684356\n",
            " 0.47636613 0.46623698 0.45682991 0.44834599]\n",
            "19 day output [[0.44077384]]\n",
            "20 day input [0.82511472 0.82982792 0.83015222 0.82775237 0.8307576  0.82210954\n",
            " 0.83255208 0.84251893 0.85445323 0.85838814 0.85335063 0.86076635\n",
            " 0.85345874 0.84372968 0.84671327 0.84932927 0.90065549 0.92897787\n",
            " 0.93269647 0.94668473 0.95031687 0.94203641 0.95799202 0.95245735\n",
            " 0.93533416 0.93879339 0.95183028 0.96555907 0.96776436 0.95116014\n",
            " 0.95291129 0.95723532 0.96225123 0.9572786  0.94845763 0.92603751\n",
            " 0.90482814 0.89685033 0.89762868 0.90750901 0.90201752 0.91546528\n",
            " 0.92461056 0.91362757 0.90724963 0.89970423 0.89045075 0.89602881\n",
            " 0.90277422 0.89685033 0.8952721  0.90826572 0.90244992 0.90022309\n",
            " 0.91185468 0.90536864 0.89289389 0.88344585 0.87581393 0.88268914\n",
            " 0.87492754 0.89101289 0.89760703 0.90452548 0.91771376 0.89816918\n",
            " 0.89302352 0.89773678 0.91038455 0.90744419 0.9226431  0.93468556\n",
            " 0.93068584 0.93431798 0.92376739 0.92986431 0.93909605 0.94726852\n",
            " 0.95931087 0.95799202 0.8793807  0.77480006 0.699839   0.66848266\n",
            " 0.66202271 0.65612465 0.63903832 0.61203849 0.58212411 0.5555861\n",
            " 0.53509295 0.51997048 0.5080502  0.49735403 0.48684356 0.47636613\n",
            " 0.46623698 0.45682991 0.44834599 0.44077384]\n",
            "20 day output [[0.43396118]]\n",
            "21 day input [0.82982792 0.83015222 0.82775237 0.8307576  0.82210954 0.83255208\n",
            " 0.84251893 0.85445323 0.85838814 0.85335063 0.86076635 0.85345874\n",
            " 0.84372968 0.84671327 0.84932927 0.90065549 0.92897787 0.93269647\n",
            " 0.94668473 0.95031687 0.94203641 0.95799202 0.95245735 0.93533416\n",
            " 0.93879339 0.95183028 0.96555907 0.96776436 0.95116014 0.95291129\n",
            " 0.95723532 0.96225123 0.9572786  0.94845763 0.92603751 0.90482814\n",
            " 0.89685033 0.89762868 0.90750901 0.90201752 0.91546528 0.92461056\n",
            " 0.91362757 0.90724963 0.89970423 0.89045075 0.89602881 0.90277422\n",
            " 0.89685033 0.8952721  0.90826572 0.90244992 0.90022309 0.91185468\n",
            " 0.90536864 0.89289389 0.88344585 0.87581393 0.88268914 0.87492754\n",
            " 0.89101289 0.89760703 0.90452548 0.91771376 0.89816918 0.89302352\n",
            " 0.89773678 0.91038455 0.90744419 0.9226431  0.93468556 0.93068584\n",
            " 0.93431798 0.92376739 0.92986431 0.93909605 0.94726852 0.95931087\n",
            " 0.95799202 0.8793807  0.77480006 0.699839   0.66848266 0.66202271\n",
            " 0.65612465 0.63903832 0.61203849 0.58212411 0.5555861  0.53509295\n",
            " 0.51997048 0.5080502  0.49735403 0.48684356 0.47636613 0.46623698\n",
            " 0.45682991 0.44834599 0.44077384 0.43396118]\n",
            "21 day output [[0.4277153]]\n",
            "22 day input [0.83015222 0.82775237 0.8307576  0.82210954 0.83255208 0.84251893\n",
            " 0.85445323 0.85838814 0.85335063 0.86076635 0.85345874 0.84372968\n",
            " 0.84671327 0.84932927 0.90065549 0.92897787 0.93269647 0.94668473\n",
            " 0.95031687 0.94203641 0.95799202 0.95245735 0.93533416 0.93879339\n",
            " 0.95183028 0.96555907 0.96776436 0.95116014 0.95291129 0.95723532\n",
            " 0.96225123 0.9572786  0.94845763 0.92603751 0.90482814 0.89685033\n",
            " 0.89762868 0.90750901 0.90201752 0.91546528 0.92461056 0.91362757\n",
            " 0.90724963 0.89970423 0.89045075 0.89602881 0.90277422 0.89685033\n",
            " 0.8952721  0.90826572 0.90244992 0.90022309 0.91185468 0.90536864\n",
            " 0.89289389 0.88344585 0.87581393 0.88268914 0.87492754 0.89101289\n",
            " 0.89760703 0.90452548 0.91771376 0.89816918 0.89302352 0.89773678\n",
            " 0.91038455 0.90744419 0.9226431  0.93468556 0.93068584 0.93431798\n",
            " 0.92376739 0.92986431 0.93909605 0.94726852 0.95931087 0.95799202\n",
            " 0.8793807  0.77480006 0.699839   0.66848266 0.66202271 0.65612465\n",
            " 0.63903832 0.61203849 0.58212411 0.5555861  0.53509295 0.51997048\n",
            " 0.5080502  0.49735403 0.48684356 0.47636613 0.46623698 0.45682991\n",
            " 0.44834599 0.44077384 0.43396118 0.4277153 ]\n",
            "22 day output [[0.42187455]]\n",
            "23 day input [0.82775237 0.8307576  0.82210954 0.83255208 0.84251893 0.85445323\n",
            " 0.85838814 0.85335063 0.86076635 0.85345874 0.84372968 0.84671327\n",
            " 0.84932927 0.90065549 0.92897787 0.93269647 0.94668473 0.95031687\n",
            " 0.94203641 0.95799202 0.95245735 0.93533416 0.93879339 0.95183028\n",
            " 0.96555907 0.96776436 0.95116014 0.95291129 0.95723532 0.96225123\n",
            " 0.9572786  0.94845763 0.92603751 0.90482814 0.89685033 0.89762868\n",
            " 0.90750901 0.90201752 0.91546528 0.92461056 0.91362757 0.90724963\n",
            " 0.89970423 0.89045075 0.89602881 0.90277422 0.89685033 0.8952721\n",
            " 0.90826572 0.90244992 0.90022309 0.91185468 0.90536864 0.89289389\n",
            " 0.88344585 0.87581393 0.88268914 0.87492754 0.89101289 0.89760703\n",
            " 0.90452548 0.91771376 0.89816918 0.89302352 0.89773678 0.91038455\n",
            " 0.90744419 0.9226431  0.93468556 0.93068584 0.93431798 0.92376739\n",
            " 0.92986431 0.93909605 0.94726852 0.95931087 0.95799202 0.8793807\n",
            " 0.77480006 0.699839   0.66848266 0.66202271 0.65612465 0.63903832\n",
            " 0.61203849 0.58212411 0.5555861  0.53509295 0.51997048 0.5080502\n",
            " 0.49735403 0.48684356 0.47636613 0.46623698 0.45682991 0.44834599\n",
            " 0.44077384 0.43396118 0.4277153  0.42187455]\n",
            "23 day output [[0.41633788]]\n",
            "24 day input [0.8307576  0.82210954 0.83255208 0.84251893 0.85445323 0.85838814\n",
            " 0.85335063 0.86076635 0.85345874 0.84372968 0.84671327 0.84932927\n",
            " 0.90065549 0.92897787 0.93269647 0.94668473 0.95031687 0.94203641\n",
            " 0.95799202 0.95245735 0.93533416 0.93879339 0.95183028 0.96555907\n",
            " 0.96776436 0.95116014 0.95291129 0.95723532 0.96225123 0.9572786\n",
            " 0.94845763 0.92603751 0.90482814 0.89685033 0.89762868 0.90750901\n",
            " 0.90201752 0.91546528 0.92461056 0.91362757 0.90724963 0.89970423\n",
            " 0.89045075 0.89602881 0.90277422 0.89685033 0.8952721  0.90826572\n",
            " 0.90244992 0.90022309 0.91185468 0.90536864 0.89289389 0.88344585\n",
            " 0.87581393 0.88268914 0.87492754 0.89101289 0.89760703 0.90452548\n",
            " 0.91771376 0.89816918 0.89302352 0.89773678 0.91038455 0.90744419\n",
            " 0.9226431  0.93468556 0.93068584 0.93431798 0.92376739 0.92986431\n",
            " 0.93909605 0.94726852 0.95931087 0.95799202 0.8793807  0.77480006\n",
            " 0.699839   0.66848266 0.66202271 0.65612465 0.63903832 0.61203849\n",
            " 0.58212411 0.5555861  0.53509295 0.51997048 0.5080502  0.49735403\n",
            " 0.48684356 0.47636613 0.46623698 0.45682991 0.44834599 0.44077384\n",
            " 0.43396118 0.4277153  0.42187455 0.41633788]\n",
            "24 day output [[0.4110597]]\n",
            "25 day input [0.82210954 0.83255208 0.84251893 0.85445323 0.85838814 0.85335063\n",
            " 0.86076635 0.85345874 0.84372968 0.84671327 0.84932927 0.90065549\n",
            " 0.92897787 0.93269647 0.94668473 0.95031687 0.94203641 0.95799202\n",
            " 0.95245735 0.93533416 0.93879339 0.95183028 0.96555907 0.96776436\n",
            " 0.95116014 0.95291129 0.95723532 0.96225123 0.9572786  0.94845763\n",
            " 0.92603751 0.90482814 0.89685033 0.89762868 0.90750901 0.90201752\n",
            " 0.91546528 0.92461056 0.91362757 0.90724963 0.89970423 0.89045075\n",
            " 0.89602881 0.90277422 0.89685033 0.8952721  0.90826572 0.90244992\n",
            " 0.90022309 0.91185468 0.90536864 0.89289389 0.88344585 0.87581393\n",
            " 0.88268914 0.87492754 0.89101289 0.89760703 0.90452548 0.91771376\n",
            " 0.89816918 0.89302352 0.89773678 0.91038455 0.90744419 0.9226431\n",
            " 0.93468556 0.93068584 0.93431798 0.92376739 0.92986431 0.93909605\n",
            " 0.94726852 0.95931087 0.95799202 0.8793807  0.77480006 0.699839\n",
            " 0.66848266 0.66202271 0.65612465 0.63903832 0.61203849 0.58212411\n",
            " 0.5555861  0.53509295 0.51997048 0.5080502  0.49735403 0.48684356\n",
            " 0.47636613 0.46623698 0.45682991 0.44834599 0.44077384 0.43396118\n",
            " 0.4277153  0.42187455 0.41633788 0.41105971]\n",
            "25 day output [[0.40602812]]\n",
            "26 day input [0.83255208 0.84251893 0.85445323 0.85838814 0.85335063 0.86076635\n",
            " 0.85345874 0.84372968 0.84671327 0.84932927 0.90065549 0.92897787\n",
            " 0.93269647 0.94668473 0.95031687 0.94203641 0.95799202 0.95245735\n",
            " 0.93533416 0.93879339 0.95183028 0.96555907 0.96776436 0.95116014\n",
            " 0.95291129 0.95723532 0.96225123 0.9572786  0.94845763 0.92603751\n",
            " 0.90482814 0.89685033 0.89762868 0.90750901 0.90201752 0.91546528\n",
            " 0.92461056 0.91362757 0.90724963 0.89970423 0.89045075 0.89602881\n",
            " 0.90277422 0.89685033 0.8952721  0.90826572 0.90244992 0.90022309\n",
            " 0.91185468 0.90536864 0.89289389 0.88344585 0.87581393 0.88268914\n",
            " 0.87492754 0.89101289 0.89760703 0.90452548 0.91771376 0.89816918\n",
            " 0.89302352 0.89773678 0.91038455 0.90744419 0.9226431  0.93468556\n",
            " 0.93068584 0.93431798 0.92376739 0.92986431 0.93909605 0.94726852\n",
            " 0.95931087 0.95799202 0.8793807  0.77480006 0.699839   0.66848266\n",
            " 0.66202271 0.65612465 0.63903832 0.61203849 0.58212411 0.5555861\n",
            " 0.53509295 0.51997048 0.5080502  0.49735403 0.48684356 0.47636613\n",
            " 0.46623698 0.45682991 0.44834599 0.44077384 0.43396118 0.4277153\n",
            " 0.42187455 0.41633788 0.41105971 0.40602812]\n",
            "26 day output [[0.40124273]]\n",
            "27 day input [0.84251893 0.85445323 0.85838814 0.85335063 0.86076635 0.85345874\n",
            " 0.84372968 0.84671327 0.84932927 0.90065549 0.92897787 0.93269647\n",
            " 0.94668473 0.95031687 0.94203641 0.95799202 0.95245735 0.93533416\n",
            " 0.93879339 0.95183028 0.96555907 0.96776436 0.95116014 0.95291129\n",
            " 0.95723532 0.96225123 0.9572786  0.94845763 0.92603751 0.90482814\n",
            " 0.89685033 0.89762868 0.90750901 0.90201752 0.91546528 0.92461056\n",
            " 0.91362757 0.90724963 0.89970423 0.89045075 0.89602881 0.90277422\n",
            " 0.89685033 0.8952721  0.90826572 0.90244992 0.90022309 0.91185468\n",
            " 0.90536864 0.89289389 0.88344585 0.87581393 0.88268914 0.87492754\n",
            " 0.89101289 0.89760703 0.90452548 0.91771376 0.89816918 0.89302352\n",
            " 0.89773678 0.91038455 0.90744419 0.9226431  0.93468556 0.93068584\n",
            " 0.93431798 0.92376739 0.92986431 0.93909605 0.94726852 0.95931087\n",
            " 0.95799202 0.8793807  0.77480006 0.699839   0.66848266 0.66202271\n",
            " 0.65612465 0.63903832 0.61203849 0.58212411 0.5555861  0.53509295\n",
            " 0.51997048 0.5080502  0.49735403 0.48684356 0.47636613 0.46623698\n",
            " 0.45682991 0.44834599 0.44077384 0.43396118 0.4277153  0.42187455\n",
            " 0.41633788 0.41105971 0.40602812 0.40124273]\n",
            "27 day output [[0.3967008]]\n",
            "28 day input [0.85445323 0.85838814 0.85335063 0.86076635 0.85345874 0.84372968\n",
            " 0.84671327 0.84932927 0.90065549 0.92897787 0.93269647 0.94668473\n",
            " 0.95031687 0.94203641 0.95799202 0.95245735 0.93533416 0.93879339\n",
            " 0.95183028 0.96555907 0.96776436 0.95116014 0.95291129 0.95723532\n",
            " 0.96225123 0.9572786  0.94845763 0.92603751 0.90482814 0.89685033\n",
            " 0.89762868 0.90750901 0.90201752 0.91546528 0.92461056 0.91362757\n",
            " 0.90724963 0.89970423 0.89045075 0.89602881 0.90277422 0.89685033\n",
            " 0.8952721  0.90826572 0.90244992 0.90022309 0.91185468 0.90536864\n",
            " 0.89289389 0.88344585 0.87581393 0.88268914 0.87492754 0.89101289\n",
            " 0.89760703 0.90452548 0.91771376 0.89816918 0.89302352 0.89773678\n",
            " 0.91038455 0.90744419 0.9226431  0.93468556 0.93068584 0.93431798\n",
            " 0.92376739 0.92986431 0.93909605 0.94726852 0.95931087 0.95799202\n",
            " 0.8793807  0.77480006 0.699839   0.66848266 0.66202271 0.65612465\n",
            " 0.63903832 0.61203849 0.58212411 0.5555861  0.53509295 0.51997048\n",
            " 0.5080502  0.49735403 0.48684356 0.47636613 0.46623698 0.45682991\n",
            " 0.44834599 0.44077384 0.43396118 0.4277153  0.42187455 0.41633788\n",
            " 0.41105971 0.40602812 0.40124273 0.3967008 ]\n",
            "28 day output [[0.39239216]]\n",
            "29 day input [0.85838814 0.85335063 0.86076635 0.85345874 0.84372968 0.84671327\n",
            " 0.84932927 0.90065549 0.92897787 0.93269647 0.94668473 0.95031687\n",
            " 0.94203641 0.95799202 0.95245735 0.93533416 0.93879339 0.95183028\n",
            " 0.96555907 0.96776436 0.95116014 0.95291129 0.95723532 0.96225123\n",
            " 0.9572786  0.94845763 0.92603751 0.90482814 0.89685033 0.89762868\n",
            " 0.90750901 0.90201752 0.91546528 0.92461056 0.91362757 0.90724963\n",
            " 0.89970423 0.89045075 0.89602881 0.90277422 0.89685033 0.8952721\n",
            " 0.90826572 0.90244992 0.90022309 0.91185468 0.90536864 0.89289389\n",
            " 0.88344585 0.87581393 0.88268914 0.87492754 0.89101289 0.89760703\n",
            " 0.90452548 0.91771376 0.89816918 0.89302352 0.89773678 0.91038455\n",
            " 0.90744419 0.9226431  0.93468556 0.93068584 0.93431798 0.92376739\n",
            " 0.92986431 0.93909605 0.94726852 0.95931087 0.95799202 0.8793807\n",
            " 0.77480006 0.699839   0.66848266 0.66202271 0.65612465 0.63903832\n",
            " 0.61203849 0.58212411 0.5555861  0.53509295 0.51997048 0.5080502\n",
            " 0.49735403 0.48684356 0.47636613 0.46623698 0.45682991 0.44834599\n",
            " 0.44077384 0.43396118 0.4277153  0.42187455 0.41633788 0.41105971\n",
            " 0.40602812 0.40124273 0.3967008  0.39239216]\n",
            "29 day output [[0.38830018]]\n",
            "[[0.8793807029724121], [0.7748000621795654], [0.6998389959335327], [0.6684826612472534], [0.6620227098464966], [0.6561246514320374], [0.6390383243560791], [0.6120384931564331], [0.5821241140365601], [0.5555860996246338], [0.5350929498672485], [0.5199704766273499], [0.5080502033233643], [0.49735403060913086], [0.4868435561656952], [0.4763661324977875], [0.46623697876930237], [0.45682990550994873], [0.44834598898887634], [0.4407738447189331], [0.4339611828327179], [0.4277153015136719], [0.4218745529651642], [0.41633787751197815], [0.411059707403183], [0.4060281217098236], [0.401242733001709], [0.39670079946517944], [0.3923921585083008], [0.38830018043518066]]\n"
          ]
        }
      ]
    },
    {
      "cell_type": "code",
      "metadata": {
        "id": "IlnftgYC09yG"
      },
      "source": [
        "day_new=np.arange(1,101)\n",
        "day_pred=np.arange(101,131)"
      ],
      "execution_count": null,
      "outputs": []
    },
    {
      "cell_type": "code",
      "metadata": {
        "id": "bze8nU5i097V"
      },
      "source": [
        "import matplotlib.pyplot as plt"
      ],
      "execution_count": null,
      "outputs": []
    },
    {
      "cell_type": "code",
      "metadata": {
        "colab": {
          "base_uri": "https://localhost:8080/"
        },
        "id": "VRcB21k71G4L",
        "outputId": "f600977e-af7e-4e81-d082-a408f8a933aa"
      },
      "source": [
        "len(df1)"
      ],
      "execution_count": null,
      "outputs": [
        {
          "output_type": "execute_result",
          "data": {
            "text/plain": [
              "6449"
            ]
          },
          "metadata": {},
          "execution_count": 46
        }
      ]
    },
    {
      "cell_type": "code",
      "metadata": {
        "colab": {
          "base_uri": "https://localhost:8080/",
          "height": 469
        },
        "id": "TEVjz_Qy1Jec",
        "outputId": "42c5d37f-80fc-47f1-ca01-8cbc67ebcb2f"
      },
      "source": [
        "plt.plot(day_new,scaler.inverse_transform(df1[6349:]))\n",
        "plt.plot(day_pred,scaler.inverse_transform(lst_output))\n",
        "plt.title('Reliance Prediction of Next 30 Days')"
      ],
      "execution_count": null,
      "outputs": [
        {
          "output_type": "execute_result",
          "data": {
            "text/plain": [
              "Text(0.5, 1.0, 'Reliance Prediction of Next 30 Days')"
            ]
          },
          "metadata": {},
          "execution_count": 47
        },
        {
          "output_type": "display_data",
          "data": {
            "image/png": "[encoded data removed]",
            "text/plain": [
              "<Figure size 640x480 with 1 Axes>"
            ]
          },
          "metadata": {}
        }
      ]
    },
    {
      "cell_type": "code",
      "metadata": {
        "colab": {
          "base_uri": "https://localhost:8080/",
          "height": 447
        },
        "id": "ESp1lp3R1LfH",
        "outputId": "7e1c45de-946b-4424-e81e-13541ab949c4"
      },
      "source": [
        "df3=df1.tolist()\n",
        "df3.extend(lst_output)\n",
        "plt.plot(df3[6000:])"
      ],
      "execution_count": null,
      "outputs": [
        {
          "output_type": "execute_result",
          "data": {
            "text/plain": [
              "[<matplotlib.lines.Line2D at 0x7ff279f7bb90>]"
            ]
          },
          "metadata": {},
          "execution_count": 48
        },
        {
          "output_type": "display_data",
          "data": {
            "image/png": "[encoded data removed]",
            "text/plain": [
              "<Figure size 640x480 with 1 Axes>"
            ]
          },
          "metadata": {}
        }
      ]
    },
    {
      "cell_type": "code",
      "metadata": {
        "id": "OQK_oXwD1Lxv"
      },
      "source": [
        "df3=scaler.inverse_transform(df3).tolist()"
      ],
      "execution_count": null,
      "outputs": []
    },
    {
      "cell_type": "code",
      "metadata": {
        "colab": {
          "base_uri": "https://localhost:8080/",
          "height": 447
        },
        "id": "X3DpOmIs1MCQ",
        "outputId": "89e6806c-79c6-4c6a-b677-7bd02d12e3be"
      },
      "source": [
        "plt.plot(df3)"
      ],
      "execution_count": null,
      "outputs": [
        {
          "output_type": "execute_result",
          "data": {
            "text/plain": [
              "[<matplotlib.lines.Line2D at 0x7ff27893b250>]"
            ]
          },
          "metadata": {},
          "execution_count": 50
        },
        {
          "output_type": "display_data",
          "data": {
            "image/png": "[encoded data removed]",
            "text/plain": [
              "<Figure size 640x480 with 1 Axes>"
            ]
          },
          "metadata": {}
        }
      ]
    }
  ]
}