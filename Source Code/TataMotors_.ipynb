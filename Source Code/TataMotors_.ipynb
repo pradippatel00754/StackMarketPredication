{
  "nbformat": 4,
  "nbformat_minor": 0,
  "metadata": {
    "colab": {
      "name": "TataMotors:.ipynb",
      "provenance": [],
      "collapsed_sections": []
    },
    "kernelspec": {
      "name": "python3",
      "display_name": "Python 3"
    },
    "language_info": {
      "name": "python"
    }
  },
  "cells": [
    {
      "cell_type": "code",
      "metadata": {
        "colab": {
          "base_uri": "https://localhost:8080/"
        },
        "id": "nR34pB3lsVC8",
        "outputId": "fd1611b8-4a55-4c5e-df4d-eb7351d33239"
      },
      "source": [
        "import os\n",
        "os.getcwd()\n",
        "from google.colab import drive\n",
        "drive.mount('/content/gdrive')\n",
        "os.chdir('/content/gdrive/My Drive')"
      ],
      "execution_count": 1,
      "outputs": [
        {
          "output_type": "stream",
          "name": "stdout",
          "text": [
            "Mounted at /content/gdrive\n"
          ]
        }
      ]
    },
    {
      "cell_type": "code",
      "metadata": {
        "id": "j7NsICtPsY25"
      },
      "source": [
        "import pandas as pd\n",
        "import numpy as np\n",
        "import matplotlib.pyplot as plt\n",
        "import seaborn as sns\n",
        "import warnings\n",
        "warnings.filterwarnings(\"ignore\")\n",
        "\n",
        "FileName = 'TATAMOTORS.NS.csv'\n",
        "TataMotors=pd.read_csv(FileName)"
      ],
      "execution_count": 2,
      "outputs": []
    },
    {
      "cell_type": "code",
      "metadata": {
        "colab": {
          "base_uri": "https://localhost:8080/",
          "height": 204
        },
        "id": "VHqN5qxmsdtL",
        "outputId": "4fb6e64b-ab01-4ad3-c6c1-7153c30f2885"
      },
      "source": [
        "TataMotors.head()"
      ],
      "execution_count": 3,
      "outputs": [
        {
          "output_type": "execute_result",
          "data": {
            "text/html": [
              "<div>\n",
              "<style scoped>\n",
              "    .dataframe tbody tr th:only-of-type {\n",
              "        vertical-align: middle;\n",
              "    }\n",
              "\n",
              "    .dataframe tbody tr th {\n",
              "        vertical-align: top;\n",
              "    }\n",
              "\n",
              "    .dataframe thead th {\n",
              "        text-align: right;\n",
              "    }\n",
              "</style>\n",
              "<table border=\"1\" class=\"dataframe\">\n",
              "  <thead>\n",
              "    <tr style=\"text-align: right;\">\n",
              "      <th></th>\n",
              "      <th>Date</th>\n",
              "      <th>Open</th>\n",
              "      <th>High</th>\n",
              "      <th>Low</th>\n",
              "      <th>Close</th>\n",
              "      <th>Adj Close</th>\n",
              "      <th>Volume</th>\n",
              "    </tr>\n",
              "  </thead>\n",
              "  <tbody>\n",
              "    <tr>\n",
              "      <th>0</th>\n",
              "      <td>01/09/2016</td>\n",
              "      <td>540.500000</td>\n",
              "      <td>546.650024</td>\n",
              "      <td>540.000000</td>\n",
              "      <td>543.650024</td>\n",
              "      <td>543.650024</td>\n",
              "      <td>7571854</td>\n",
              "    </tr>\n",
              "    <tr>\n",
              "      <th>1</th>\n",
              "      <td>02/09/2016</td>\n",
              "      <td>552.000000</td>\n",
              "      <td>555.900024</td>\n",
              "      <td>549.099976</td>\n",
              "      <td>549.849976</td>\n",
              "      <td>549.849976</td>\n",
              "      <td>10097146</td>\n",
              "    </tr>\n",
              "    <tr>\n",
              "      <th>2</th>\n",
              "      <td>06/09/2016</td>\n",
              "      <td>556.349976</td>\n",
              "      <td>593.299988</td>\n",
              "      <td>556.349976</td>\n",
              "      <td>588.700012</td>\n",
              "      <td>588.700012</td>\n",
              "      <td>15813178</td>\n",
              "    </tr>\n",
              "    <tr>\n",
              "      <th>3</th>\n",
              "      <td>07/09/2016</td>\n",
              "      <td>590.000000</td>\n",
              "      <td>598.400024</td>\n",
              "      <td>584.000000</td>\n",
              "      <td>587.400024</td>\n",
              "      <td>587.400024</td>\n",
              "      <td>13408927</td>\n",
              "    </tr>\n",
              "    <tr>\n",
              "      <th>4</th>\n",
              "      <td>08/09/2016</td>\n",
              "      <td>590.750000</td>\n",
              "      <td>591.700012</td>\n",
              "      <td>577.750000</td>\n",
              "      <td>584.200012</td>\n",
              "      <td>584.200012</td>\n",
              "      <td>10456258</td>\n",
              "    </tr>\n",
              "  </tbody>\n",
              "</table>\n",
              "</div>"
            ],
            "text/plain": [
              "         Date        Open        High  ...       Close   Adj Close    Volume\n",
              "0  01/09/2016  540.500000  546.650024  ...  543.650024  543.650024   7571854\n",
              "1  02/09/2016  552.000000  555.900024  ...  549.849976  549.849976  10097146\n",
              "2  06/09/2016  556.349976  593.299988  ...  588.700012  588.700012  15813178\n",
              "3  07/09/2016  590.000000  598.400024  ...  587.400024  587.400024  13408927\n",
              "4  08/09/2016  590.750000  591.700012  ...  584.200012  584.200012  10456258\n",
              "\n",
              "[5 rows x 7 columns]"
            ]
          },
          "metadata": {},
          "execution_count": 3
        }
      ]
    },
    {
      "cell_type": "code",
      "metadata": {
        "colab": {
          "base_uri": "https://localhost:8080/",
          "height": 204
        },
        "id": "8RFQUgbQsliu",
        "outputId": "51a47b44-c130-465f-ee7c-26610a11f9c6"
      },
      "source": [
        "TataMotors.tail()"
      ],
      "execution_count": 4,
      "outputs": [
        {
          "output_type": "execute_result",
          "data": {
            "text/html": [
              "<div>\n",
              "<style scoped>\n",
              "    .dataframe tbody tr th:only-of-type {\n",
              "        vertical-align: middle;\n",
              "    }\n",
              "\n",
              "    .dataframe tbody tr th {\n",
              "        vertical-align: top;\n",
              "    }\n",
              "\n",
              "    .dataframe thead th {\n",
              "        text-align: right;\n",
              "    }\n",
              "</style>\n",
              "<table border=\"1\" class=\"dataframe\">\n",
              "  <thead>\n",
              "    <tr style=\"text-align: right;\">\n",
              "      <th></th>\n",
              "      <th>Date</th>\n",
              "      <th>Open</th>\n",
              "      <th>High</th>\n",
              "      <th>Low</th>\n",
              "      <th>Close</th>\n",
              "      <th>Adj Close</th>\n",
              "      <th>Volume</th>\n",
              "    </tr>\n",
              "  </thead>\n",
              "  <tbody>\n",
              "    <tr>\n",
              "      <th>1226</th>\n",
              "      <td>25/08/2021</td>\n",
              "      <td>282.799988</td>\n",
              "      <td>289.200012</td>\n",
              "      <td>282.450012</td>\n",
              "      <td>284.399994</td>\n",
              "      <td>284.399994</td>\n",
              "      <td>31538128</td>\n",
              "    </tr>\n",
              "    <tr>\n",
              "      <th>1227</th>\n",
              "      <td>26/08/2021</td>\n",
              "      <td>284.850006</td>\n",
              "      <td>287.350006</td>\n",
              "      <td>281.649994</td>\n",
              "      <td>284.299988</td>\n",
              "      <td>284.299988</td>\n",
              "      <td>17864053</td>\n",
              "    </tr>\n",
              "    <tr>\n",
              "      <th>1228</th>\n",
              "      <td>27/08/2021</td>\n",
              "      <td>282.899994</td>\n",
              "      <td>286.799988</td>\n",
              "      <td>281.700012</td>\n",
              "      <td>285.750000</td>\n",
              "      <td>285.750000</td>\n",
              "      <td>13477390</td>\n",
              "    </tr>\n",
              "    <tr>\n",
              "      <th>1229</th>\n",
              "      <td>30/08/2021</td>\n",
              "      <td>290.100006</td>\n",
              "      <td>293.500000</td>\n",
              "      <td>289.899994</td>\n",
              "      <td>291.950012</td>\n",
              "      <td>291.950012</td>\n",
              "      <td>17217097</td>\n",
              "    </tr>\n",
              "    <tr>\n",
              "      <th>1230</th>\n",
              "      <td>31/08/2021</td>\n",
              "      <td>291.750000</td>\n",
              "      <td>291.950012</td>\n",
              "      <td>286.100006</td>\n",
              "      <td>287.299988</td>\n",
              "      <td>287.299988</td>\n",
              "      <td>36951003</td>\n",
              "    </tr>\n",
              "  </tbody>\n",
              "</table>\n",
              "</div>"
            ],
            "text/plain": [
              "            Date        Open        High  ...       Close   Adj Close    Volume\n",
              "1226  25/08/2021  282.799988  289.200012  ...  284.399994  284.399994  31538128\n",
              "1227  26/08/2021  284.850006  287.350006  ...  284.299988  284.299988  17864053\n",
              "1228  27/08/2021  282.899994  286.799988  ...  285.750000  285.750000  13477390\n",
              "1229  30/08/2021  290.100006  293.500000  ...  291.950012  291.950012  17217097\n",
              "1230  31/08/2021  291.750000  291.950012  ...  287.299988  287.299988  36951003\n",
              "\n",
              "[5 rows x 7 columns]"
            ]
          },
          "metadata": {},
          "execution_count": 4
        }
      ]
    },
    {
      "cell_type": "code",
      "metadata": {
        "colab": {
          "base_uri": "https://localhost:8080/"
        },
        "id": "EG_aAWcltKXl",
        "outputId": "b32c9d99-d506-47f6-bcd7-156ab26395bb"
      },
      "source": [
        "TataMotors.info()"
      ],
      "execution_count": 5,
      "outputs": [
        {
          "output_type": "stream",
          "name": "stdout",
          "text": [
            "<class 'pandas.core.frame.DataFrame'>\n",
            "RangeIndex: 1231 entries, 0 to 1230\n",
            "Data columns (total 7 columns):\n",
            " #   Column     Non-Null Count  Dtype  \n",
            "---  ------     --------------  -----  \n",
            " 0   Date       1231 non-null   object \n",
            " 1   Open       1231 non-null   float64\n",
            " 2   High       1231 non-null   float64\n",
            " 3   Low        1231 non-null   float64\n",
            " 4   Close      1231 non-null   float64\n",
            " 5   Adj Close  1231 non-null   float64\n",
            " 6   Volume     1231 non-null   int64  \n",
            "dtypes: float64(5), int64(1), object(1)\n",
            "memory usage: 67.4+ KB\n"
          ]
        }
      ]
    },
    {
      "cell_type": "code",
      "metadata": {
        "colab": {
          "base_uri": "https://localhost:8080/"
        },
        "id": "26GwJSpW1qAl",
        "outputId": "5c01e871-fd81-4ee2-d349-c3759e8576f9"
      },
      "source": [
        "TataMotors.Date = pd.to_datetime(TataMotors.Date)\n",
        "TataMotors.info()"
      ],
      "execution_count": 6,
      "outputs": [
        {
          "output_type": "stream",
          "name": "stdout",
          "text": [
            "<class 'pandas.core.frame.DataFrame'>\n",
            "RangeIndex: 1231 entries, 0 to 1230\n",
            "Data columns (total 7 columns):\n",
            " #   Column     Non-Null Count  Dtype         \n",
            "---  ------     --------------  -----         \n",
            " 0   Date       1231 non-null   datetime64[ns]\n",
            " 1   Open       1231 non-null   float64       \n",
            " 2   High       1231 non-null   float64       \n",
            " 3   Low        1231 non-null   float64       \n",
            " 4   Close      1231 non-null   float64       \n",
            " 5   Adj Close  1231 non-null   float64       \n",
            " 6   Volume     1231 non-null   int64         \n",
            "dtypes: datetime64[ns](1), float64(5), int64(1)\n",
            "memory usage: 67.4 KB\n"
          ]
        }
      ]
    },
    {
      "cell_type": "code",
      "metadata": {
        "id": "LOQSlMVk1s2C"
      },
      "source": [
        "TataMotors = TataMotors.set_index('Date')"
      ],
      "execution_count": 7,
      "outputs": []
    },
    {
      "cell_type": "code",
      "metadata": {
        "colab": {
          "base_uri": "https://localhost:8080/",
          "height": 450
        },
        "id": "RKI_g9gj1157",
        "outputId": "4cc81e12-e0c7-4f54-9d4b-5b28b57b8068"
      },
      "source": [
        "TataMotors"
      ],
      "execution_count": 8,
      "outputs": [
        {
          "output_type": "execute_result",
          "data": {
            "text/html": [
              "<div>\n",
              "<style scoped>\n",
              "    .dataframe tbody tr th:only-of-type {\n",
              "        vertical-align: middle;\n",
              "    }\n",
              "\n",
              "    .dataframe tbody tr th {\n",
              "        vertical-align: top;\n",
              "    }\n",
              "\n",
              "    .dataframe thead th {\n",
              "        text-align: right;\n",
              "    }\n",
              "</style>\n",
              "<table border=\"1\" class=\"dataframe\">\n",
              "  <thead>\n",
              "    <tr style=\"text-align: right;\">\n",
              "      <th></th>\n",
              "      <th>Open</th>\n",
              "      <th>High</th>\n",
              "      <th>Low</th>\n",
              "      <th>Close</th>\n",
              "      <th>Adj Close</th>\n",
              "      <th>Volume</th>\n",
              "    </tr>\n",
              "    <tr>\n",
              "      <th>Date</th>\n",
              "      <th></th>\n",
              "      <th></th>\n",
              "      <th></th>\n",
              "      <th></th>\n",
              "      <th></th>\n",
              "      <th></th>\n",
              "    </tr>\n",
              "  </thead>\n",
              "  <tbody>\n",
              "    <tr>\n",
              "      <th>2016-01-09</th>\n",
              "      <td>540.500000</td>\n",
              "      <td>546.650024</td>\n",
              "      <td>540.000000</td>\n",
              "      <td>543.650024</td>\n",
              "      <td>543.650024</td>\n",
              "      <td>7571854</td>\n",
              "    </tr>\n",
              "    <tr>\n",
              "      <th>2016-02-09</th>\n",
              "      <td>552.000000</td>\n",
              "      <td>555.900024</td>\n",
              "      <td>549.099976</td>\n",
              "      <td>549.849976</td>\n",
              "      <td>549.849976</td>\n",
              "      <td>10097146</td>\n",
              "    </tr>\n",
              "    <tr>\n",
              "      <th>2016-06-09</th>\n",
              "      <td>556.349976</td>\n",
              "      <td>593.299988</td>\n",
              "      <td>556.349976</td>\n",
              "      <td>588.700012</td>\n",
              "      <td>588.700012</td>\n",
              "      <td>15813178</td>\n",
              "    </tr>\n",
              "    <tr>\n",
              "      <th>2016-07-09</th>\n",
              "      <td>590.000000</td>\n",
              "      <td>598.400024</td>\n",
              "      <td>584.000000</td>\n",
              "      <td>587.400024</td>\n",
              "      <td>587.400024</td>\n",
              "      <td>13408927</td>\n",
              "    </tr>\n",
              "    <tr>\n",
              "      <th>2016-08-09</th>\n",
              "      <td>590.750000</td>\n",
              "      <td>591.700012</td>\n",
              "      <td>577.750000</td>\n",
              "      <td>584.200012</td>\n",
              "      <td>584.200012</td>\n",
              "      <td>10456258</td>\n",
              "    </tr>\n",
              "    <tr>\n",
              "      <th>...</th>\n",
              "      <td>...</td>\n",
              "      <td>...</td>\n",
              "      <td>...</td>\n",
              "      <td>...</td>\n",
              "      <td>...</td>\n",
              "      <td>...</td>\n",
              "    </tr>\n",
              "    <tr>\n",
              "      <th>2021-08-25</th>\n",
              "      <td>282.799988</td>\n",
              "      <td>289.200012</td>\n",
              "      <td>282.450012</td>\n",
              "      <td>284.399994</td>\n",
              "      <td>284.399994</td>\n",
              "      <td>31538128</td>\n",
              "    </tr>\n",
              "    <tr>\n",
              "      <th>2021-08-26</th>\n",
              "      <td>284.850006</td>\n",
              "      <td>287.350006</td>\n",
              "      <td>281.649994</td>\n",
              "      <td>284.299988</td>\n",
              "      <td>284.299988</td>\n",
              "      <td>17864053</td>\n",
              "    </tr>\n",
              "    <tr>\n",
              "      <th>2021-08-27</th>\n",
              "      <td>282.899994</td>\n",
              "      <td>286.799988</td>\n",
              "      <td>281.700012</td>\n",
              "      <td>285.750000</td>\n",
              "      <td>285.750000</td>\n",
              "      <td>13477390</td>\n",
              "    </tr>\n",
              "    <tr>\n",
              "      <th>2021-08-30</th>\n",
              "      <td>290.100006</td>\n",
              "      <td>293.500000</td>\n",
              "      <td>289.899994</td>\n",
              "      <td>291.950012</td>\n",
              "      <td>291.950012</td>\n",
              "      <td>17217097</td>\n",
              "    </tr>\n",
              "    <tr>\n",
              "      <th>2021-08-31</th>\n",
              "      <td>291.750000</td>\n",
              "      <td>291.950012</td>\n",
              "      <td>286.100006</td>\n",
              "      <td>287.299988</td>\n",
              "      <td>287.299988</td>\n",
              "      <td>36951003</td>\n",
              "    </tr>\n",
              "  </tbody>\n",
              "</table>\n",
              "<p>1231 rows × 6 columns</p>\n",
              "</div>"
            ],
            "text/plain": [
              "                  Open        High  ...   Adj Close    Volume\n",
              "Date                                ...                      \n",
              "2016-01-09  540.500000  546.650024  ...  543.650024   7571854\n",
              "2016-02-09  552.000000  555.900024  ...  549.849976  10097146\n",
              "2016-06-09  556.349976  593.299988  ...  588.700012  15813178\n",
              "2016-07-09  590.000000  598.400024  ...  587.400024  13408927\n",
              "2016-08-09  590.750000  591.700012  ...  584.200012  10456258\n",
              "...                ...         ...  ...         ...       ...\n",
              "2021-08-25  282.799988  289.200012  ...  284.399994  31538128\n",
              "2021-08-26  284.850006  287.350006  ...  284.299988  17864053\n",
              "2021-08-27  282.899994  286.799988  ...  285.750000  13477390\n",
              "2021-08-30  290.100006  293.500000  ...  291.950012  17217097\n",
              "2021-08-31  291.750000  291.950012  ...  287.299988  36951003\n",
              "\n",
              "[1231 rows x 6 columns]"
            ]
          },
          "metadata": {},
          "execution_count": 8
        }
      ]
    },
    {
      "cell_type": "code",
      "metadata": {
        "id": "rEZ7LUoQstCX"
      },
      "source": [
        "df1=TataMotors.reset_index()['Close']"
      ],
      "execution_count": 9,
      "outputs": []
    },
    {
      "cell_type": "code",
      "metadata": {
        "colab": {
          "base_uri": "https://localhost:8080/"
        },
        "id": "6QiqnOOIs_9e",
        "outputId": "04e0cfcc-be39-4970-eecc-619b01659ca1"
      },
      "source": [
        "df1.shape"
      ],
      "execution_count": 10,
      "outputs": [
        {
          "output_type": "execute_result",
          "data": {
            "text/plain": [
              "(1231,)"
            ]
          },
          "metadata": {},
          "execution_count": 10
        }
      ]
    },
    {
      "cell_type": "code",
      "metadata": {
        "colab": {
          "base_uri": "https://localhost:8080/"
        },
        "id": "bGBroGQVtHM8",
        "outputId": "26730dd1-cf84-4289-913a-70a2732f25f1"
      },
      "source": [
        "df1"
      ],
      "execution_count": 11,
      "outputs": [
        {
          "output_type": "execute_result",
          "data": {
            "text/plain": [
              "0       543.650024\n",
              "1       549.849976\n",
              "2       588.700012\n",
              "3       587.400024\n",
              "4       584.200012\n",
              "           ...    \n",
              "1226    284.399994\n",
              "1227    284.299988\n",
              "1228    285.750000\n",
              "1229    291.950012\n",
              "1230    287.299988\n",
              "Name: Close, Length: 1231, dtype: float64"
            ]
          },
          "metadata": {},
          "execution_count": 11
        }
      ]
    },
    {
      "cell_type": "code",
      "metadata": {
        "colab": {
          "base_uri": "https://localhost:8080/",
          "height": 407
        },
        "id": "86bXNskKtJcq",
        "outputId": "7e2519c3-1891-4ef2-eb49-ac48546ac65c"
      },
      "source": [
        "import matplotlib.pyplot as plt\n",
        "plt.figure(figsize=(20,6))\n",
        "plt.title('Tata Motors Share Price of 2002 - 2021')\n",
        "plt.plot(df1)"
      ],
      "execution_count": 12,
      "outputs": [
        {
          "output_type": "execute_result",
          "data": {
            "text/plain": [
              "[<matplotlib.lines.Line2D at 0x7fc0c1f5e650>]"
            ]
          },
          "metadata": {},
          "execution_count": 12
        },
        {
          "output_type": "display_data",
          "data": {
            "image/png": "[encoded data removed]",
            "text/plain": [
              "<Figure size 1440x432 with 1 Axes>"
            ]
          },
          "metadata": {
            "needs_background": "light"
          }
        }
      ]
    },
    {
      "cell_type": "code",
      "metadata": {
        "colab": {
          "base_uri": "https://localhost:8080/"
        },
        "id": "B_aHL9Tv1AoX",
        "outputId": "985f240b-9834-4ceb-af46-dd04213329ef"
      },
      "source": [
        "pip install https://github.com/matplotlib/mpl_finance/archive/master.zip"
      ],
      "execution_count": 13,
      "outputs": [
        {
          "output_type": "stream",
          "name": "stdout",
          "text": [
            "Collecting https://github.com/matplotlib/mpl_finance/archive/master.zip\n",
            "  Downloading https://github.com/matplotlib/mpl_finance/archive/master.zip\n",
            "\u001b[K     - 306 kB 3.4 MB/s\n",
            "\u001b[?25hRequirement already satisfied: matplotlib in /usr/local/lib/python3.7/dist-packages (from mpl-finance==0.10.1) (3.2.2)\n",
            "Requirement already satisfied: cycler>=0.10 in /usr/local/lib/python3.7/dist-packages (from matplotlib->mpl-finance==0.10.1) (0.10.0)\n",
            "Requirement already satisfied: python-dateutil>=2.1 in /usr/local/lib/python3.7/dist-packages (from matplotlib->mpl-finance==0.10.1) (2.8.2)\n",
            "Requirement already satisfied: numpy>=1.11 in /usr/local/lib/python3.7/dist-packages (from matplotlib->mpl-finance==0.10.1) (1.19.5)\n",
            "Requirement already satisfied: kiwisolver>=1.0.1 in /usr/local/lib/python3.7/dist-packages (from matplotlib->mpl-finance==0.10.1) (1.3.1)\n",
            "Requirement already satisfied: pyparsing!=2.0.4,!=2.1.2,!=2.1.6,>=2.0.1 in /usr/local/lib/python3.7/dist-packages (from matplotlib->mpl-finance==0.10.1) (2.4.7)\n",
            "Requirement already satisfied: six in /usr/local/lib/python3.7/dist-packages (from cycler>=0.10->matplotlib->mpl-finance==0.10.1) (1.15.0)\n",
            "Building wheels for collected packages: mpl-finance\n",
            "  Building wheel for mpl-finance (setup.py) ... \u001b[?25l\u001b[?25hdone\n",
            "  Created wheel for mpl-finance: filename=mpl_finance-0.10.1-py3-none-any.whl size=8435 sha256=2e2f6b52bec5b96189fb2926fc5bc9cd7cf7fc103c1a105ba946400b71bbdbf9\n",
            "  Stored in directory: /tmp/pip-ephem-wheel-cache-5r4w7mg4/wheels/eb/17/99/0f3929e635912eb25fc346aaf43b4ee3da4a80dee8ce3d2e4f\n",
            "Successfully built mpl-finance\n",
            "Installing collected packages: mpl-finance\n",
            "Successfully installed mpl-finance-0.10.1\n"
          ]
        }
      ]
    },
    {
      "cell_type": "code",
      "metadata": {
        "colab": {
          "base_uri": "https://localhost:8080/"
        },
        "id": "XODWM8En1DDF",
        "outputId": "19d9af9a-6287-4204-e8cf-64d7e833cd93"
      },
      "source": [
        "pip install --upgrade mplfinance"
      ],
      "execution_count": 14,
      "outputs": [
        {
          "output_type": "stream",
          "name": "stdout",
          "text": [
            "Collecting mplfinance\n",
            "  Downloading mplfinance-0.12.7a17-py3-none-any.whl (62 kB)\n",
            "\u001b[?25l\r\u001b[K     |█████▎                          | 10 kB 26.3 MB/s eta 0:00:01\r\u001b[K     |██████████▌                     | 20 kB 30.4 MB/s eta 0:00:01\r\u001b[K     |███████████████▊                | 30 kB 31.2 MB/s eta 0:00:01\r\u001b[K     |█████████████████████           | 40 kB 32.7 MB/s eta 0:00:01\r\u001b[K     |██████████████████████████▎     | 51 kB 34.9 MB/s eta 0:00:01\r\u001b[K     |███████████████████████████████▌| 61 kB 37.5 MB/s eta 0:00:01\r\u001b[K     |████████████████████████████████| 62 kB 912 kB/s \n",
            "\u001b[?25hRequirement already satisfied: pandas in /usr/local/lib/python3.7/dist-packages (from mplfinance) (1.1.5)\n",
            "Requirement already satisfied: matplotlib in /usr/local/lib/python3.7/dist-packages (from mplfinance) (3.2.2)\n",
            "Requirement already satisfied: numpy>=1.11 in /usr/local/lib/python3.7/dist-packages (from matplotlib->mplfinance) (1.19.5)\n",
            "Requirement already satisfied: pyparsing!=2.0.4,!=2.1.2,!=2.1.6,>=2.0.1 in /usr/local/lib/python3.7/dist-packages (from matplotlib->mplfinance) (2.4.7)\n",
            "Requirement already satisfied: cycler>=0.10 in /usr/local/lib/python3.7/dist-packages (from matplotlib->mplfinance) (0.10.0)\n",
            "Requirement already satisfied: kiwisolver>=1.0.1 in /usr/local/lib/python3.7/dist-packages (from matplotlib->mplfinance) (1.3.1)\n",
            "Requirement already satisfied: python-dateutil>=2.1 in /usr/local/lib/python3.7/dist-packages (from matplotlib->mplfinance) (2.8.2)\n",
            "Requirement already satisfied: six in /usr/local/lib/python3.7/dist-packages (from cycler>=0.10->matplotlib->mplfinance) (1.15.0)\n",
            "Requirement already satisfied: pytz>=2017.2 in /usr/local/lib/python3.7/dist-packages (from pandas->mplfinance) (2018.9)\n",
            "Installing collected packages: mplfinance\n",
            "Successfully installed mplfinance-0.12.7a17\n"
          ]
        }
      ]
    },
    {
      "cell_type": "code",
      "metadata": {
        "colab": {
          "base_uri": "https://localhost:8080/",
          "height": 426
        },
        "id": "LdOR_Mwm0Wxt",
        "outputId": "b2dd095c-f2b5-423f-f94a-04db2c7783e2"
      },
      "source": [
        "import mplfinance as mpf\n",
        "mpf.plot(TataMotors['2020'], \n",
        "         type='candle', mav=(20), \n",
        "         volume=True, \n",
        "         title = 'TataMotors Share Price of 2020', \n",
        "         figratio=(20,6), tight_layout = True, \n",
        "         style = 'yahoo')"
      ],
      "execution_count": 44,
      "outputs": [
        {
          "output_type": "display_data",
          "data": {
            "image/png": "[encoded data removed]",
            "text/plain": [
              "<Figure size 1916.67x575 with 4 Axes>"
            ]
          },
          "metadata": {}
        }
      ]
    },
    {
      "cell_type": "code",
      "metadata": {
        "id": "KhmzK0wQtjLc"
      },
      "source": [
        "import numpy as np"
      ],
      "execution_count": 16,
      "outputs": []
    },
    {
      "cell_type": "code",
      "metadata": {
        "id": "11F8IoZWtpSq"
      },
      "source": [
        "from sklearn.preprocessing import MinMaxScaler\n",
        "scaler = MinMaxScaler(feature_range=(0,1))\n",
        "df1=scaler.fit_transform(np.array(df1).reshape(-1,1))"
      ],
      "execution_count": 17,
      "outputs": []
    },
    {
      "cell_type": "code",
      "metadata": {
        "colab": {
          "base_uri": "https://localhost:8080/"
        },
        "id": "yZaN017SuDfy",
        "outputId": "36182f45-d3fd-4211-d79d-c851f0fe653c"
      },
      "source": [
        "df1"
      ],
      "execution_count": 18,
      "outputs": [
        {
          "output_type": "execute_result",
          "data": {
            "text/plain": [
              "array([[0.91392819],\n",
              "       [0.92577372],\n",
              "       [1.        ],\n",
              "       ...,\n",
              "       [0.42118837],\n",
              "       [0.43303402],\n",
              "       [0.42414975]])"
            ]
          },
          "metadata": {},
          "execution_count": 18
        }
      ]
    },
    {
      "cell_type": "code",
      "metadata": {
        "id": "v8nlDnRtuIUJ"
      },
      "source": [
        "training_size=int(len(df1)*0.75)\n",
        "test_size=len(df1)-training_size\n",
        "train_data,test_data=df1[0:training_size,:],df1[training_size:len(df1),:1]"
      ],
      "execution_count": 19,
      "outputs": []
    },
    {
      "cell_type": "code",
      "metadata": {
        "colab": {
          "base_uri": "https://localhost:8080/"
        },
        "id": "7BE7WAuPuhZB",
        "outputId": "8a6f1bf8-ecb9-4e49-f06b-660080cd0ab2"
      },
      "source": [
        "training_size, test_size"
      ],
      "execution_count": 20,
      "outputs": [
        {
          "output_type": "execute_result",
          "data": {
            "text/plain": [
              "(923, 308)"
            ]
          },
          "metadata": {},
          "execution_count": 20
        }
      ]
    },
    {
      "cell_type": "code",
      "metadata": {
        "colab": {
          "base_uri": "https://localhost:8080/"
        },
        "id": "l22HaDOrvDlY",
        "outputId": "418de7bd-aee8-4162-87af-31ea74b0da32"
      },
      "source": [
        "len(train_data), len(test_data)"
      ],
      "execution_count": 21,
      "outputs": [
        {
          "output_type": "execute_result",
          "data": {
            "text/plain": [
              "(923, 308)"
            ]
          },
          "metadata": {},
          "execution_count": 21
        }
      ]
    },
    {
      "cell_type": "code",
      "metadata": {
        "id": "Wfb3iGg8vNYX"
      },
      "source": [
        "import numpy \n",
        "def create_dataset(dataset, time_step=1):\n",
        "  dataX, dataY = [], []\n",
        "  for i in range (len(dataset)-time_step-1):\n",
        "    a = dataset[i:(i+time_step), 0]\n",
        "    dataX.append(a)\n",
        "    dataY.append(dataset[i + time_step, 0])\n",
        "  return numpy.array(dataX), numpy.array(dataY)"
      ],
      "execution_count": 22,
      "outputs": []
    },
    {
      "cell_type": "code",
      "metadata": {
        "id": "HbGS_OF4wMHh"
      },
      "source": [
        "time_step = 100\n",
        "X_train, y_train = create_dataset(train_data, time_step)\n",
        "X_test, y_test = create_dataset(test_data, time_step)"
      ],
      "execution_count": 23,
      "outputs": []
    },
    {
      "cell_type": "code",
      "metadata": {
        "colab": {
          "base_uri": "https://localhost:8080/"
        },
        "id": "iKr4-5H0we3U",
        "outputId": "79ccfc39-0965-4b5d-e5cf-b8f3369d638d"
      },
      "source": [
        "print(X_train)"
      ],
      "execution_count": 24,
      "outputs": [
        {
          "output_type": "stream",
          "name": "stdout",
          "text": [
            "[[0.91392819 0.92577372 1.         ... 0.90991589 0.92395876 0.91068017]\n",
            " [0.92577372 1.         0.99751626 ... 0.92395876 0.91068017 0.89224298]\n",
            " [1.         0.99751626 0.99140237 ... 0.91068017 0.89224298 0.87552537]\n",
            " ...\n",
            " [0.24035155 0.22993884 0.22812379 ... 0.04145968 0.04633168 0.05961023]\n",
            " [0.22993884 0.22812379 0.22401605 ... 0.04633168 0.05961023 0.06390905]\n",
            " [0.22812379 0.22401605 0.24207106 ... 0.05961023 0.06390905 0.0634314 ]]\n"
          ]
        }
      ]
    },
    {
      "cell_type": "code",
      "metadata": {
        "colab": {
          "base_uri": "https://localhost:8080/"
        },
        "id": "BKBYRqekw6pj",
        "outputId": "5f9211d0-7057-467f-ea82-23a6c1bb2d51"
      },
      "source": [
        "print(X_train.shape), print(y_train.shape)"
      ],
      "execution_count": 25,
      "outputs": [
        {
          "output_type": "stream",
          "name": "stdout",
          "text": [
            "(822, 100)\n",
            "(822,)\n"
          ]
        },
        {
          "output_type": "execute_result",
          "data": {
            "text/plain": [
              "(None, None)"
            ]
          },
          "metadata": {},
          "execution_count": 25
        }
      ]
    },
    {
      "cell_type": "code",
      "metadata": {
        "colab": {
          "base_uri": "https://localhost:8080/"
        },
        "id": "_sIswsCTwiMV",
        "outputId": "f8115273-16c9-417f-a674-d186b80e7da0"
      },
      "source": [
        "print(X_test.shape), print(y_test.shape)"
      ],
      "execution_count": 26,
      "outputs": [
        {
          "output_type": "stream",
          "name": "stdout",
          "text": [
            "(207, 100)\n",
            "(207,)\n"
          ]
        },
        {
          "output_type": "execute_result",
          "data": {
            "text/plain": [
              "(None, None)"
            ]
          },
          "metadata": {},
          "execution_count": 26
        }
      ]
    },
    {
      "cell_type": "code",
      "metadata": {
        "id": "2QsJz9xPw92t"
      },
      "source": [
        "X_train =X_train.reshape(X_train.shape[0],X_train.shape[1] , 1)\n",
        "X_test = X_test.reshape(X_test.shape[0],X_test.shape[1] , 1)"
      ],
      "execution_count": 27,
      "outputs": []
    },
    {
      "cell_type": "code",
      "metadata": {
        "id": "YY-0K12vytcx"
      },
      "source": [
        "from tensorflow.keras.models import Sequential\n",
        "from tensorflow.keras.layers import Dense\n",
        "from tensorflow.keras.layers import LSTM"
      ],
      "execution_count": 28,
      "outputs": []
    },
    {
      "cell_type": "code",
      "metadata": {
        "id": "_V5wKTh7yzKN"
      },
      "source": [
        "model=Sequential()\n",
        "model.add(LSTM(50,return_sequences=True,input_shape=(100,1)))\n",
        "model.add(LSTM(60,return_sequences=True))\n",
        "model.add(LSTM(80))\n",
        "model.add(Dense(1))\n",
        "model.compile(loss='mean_squared_error', optimizer='adam')"
      ],
      "execution_count": 29,
      "outputs": []
    },
    {
      "cell_type": "code",
      "metadata": {
        "colab": {
          "base_uri": "https://localhost:8080/"
        },
        "id": "qBPJ3FOXy_H_",
        "outputId": "b69c8b05-b9e0-4f1e-c217-789cce903913"
      },
      "source": [
        "model.summary()"
      ],
      "execution_count": 30,
      "outputs": [
        {
          "output_type": "stream",
          "name": "stdout",
          "text": [
            "Model: \"sequential\"\n",
            "_________________________________________________________________\n",
            "Layer (type)                 Output Shape              Param #   \n",
            "=================================================================\n",
            "lstm (LSTM)                  (None, 100, 50)           10400     \n",
            "_________________________________________________________________\n",
            "lstm_1 (LSTM)                (None, 100, 60)           26640     \n",
            "_________________________________________________________________\n",
            "lstm_2 (LSTM)                (None, 80)                45120     \n",
            "_________________________________________________________________\n",
            "dense (Dense)                (None, 1)                 81        \n",
            "=================================================================\n",
            "Total params: 82,241\n",
            "Trainable params: 82,241\n",
            "Non-trainable params: 0\n",
            "_________________________________________________________________\n"
          ]
        }
      ]
    },
    {
      "cell_type": "code",
      "metadata": {
        "colab": {
          "base_uri": "https://localhost:8080/"
        },
        "id": "nVPrvBSvziFh",
        "outputId": "a4aaac06-0ad3-41e7-cd11-ea0d6812f29a"
      },
      "source": [
        "model.fit(X_train, y_train, validation_data=(X_test, y_test), epochs=100, batch_size=64, verbose=1)"
      ],
      "execution_count": 31,
      "outputs": [
        {
          "metadata": {
            "tags": null
          },
          "name": "stdout",
          "output_type": "stream",
          "text": [
            "Epoch 1/100\n",
            "13/13 [==============================] - 9s 301ms/step - loss: 0.0466 - val_loss: 0.0128\n",
            "Epoch 2/100\n",
            "13/13 [==============================] - 3s 220ms/step - loss: 0.0082 - val_loss: 0.0053\n",
            "Epoch 3/100\n",
            "13/13 [==============================] - 3s 213ms/step - loss: 0.0034 - val_loss: 0.0031\n",
            "Epoch 4/100\n",
            "13/13 [==============================] - 3s 210ms/step - loss: 0.0019 - val_loss: 0.0040\n",
            "Epoch 5/100\n",
            "13/13 [==============================] - 3s 211ms/step - loss: 0.0016 - val_loss: 0.0032\n",
            "Epoch 6/100\n",
            "13/13 [==============================] - 3s 209ms/step - loss: 0.0015 - val_loss: 0.0030\n",
            "Epoch 7/100\n",
            "13/13 [==============================] - 3s 217ms/step - loss: 0.0015 - val_loss: 0.0033\n",
            "Epoch 8/100\n",
            "13/13 [==============================] - 3s 210ms/step - loss: 0.0015 - val_loss: 0.0028\n",
            "Epoch 9/100\n",
            "13/13 [==============================] - 3s 208ms/step - loss: 0.0015 - val_loss: 0.0028\n",
            "Epoch 10/100\n",
            "13/13 [==============================] - 3s 210ms/step - loss: 0.0015 - val_loss: 0.0033\n",
            "Epoch 11/100\n",
            "13/13 [==============================] - 3s 211ms/step - loss: 0.0015 - val_loss: 0.0034\n",
            "Epoch 12/100\n",
            "13/13 [==============================] - 3s 212ms/step - loss: 0.0015 - val_loss: 0.0024\n",
            "Epoch 13/100\n",
            "13/13 [==============================] - 3s 212ms/step - loss: 0.0014 - val_loss: 0.0029\n",
            "Epoch 14/100\n",
            "13/13 [==============================] - 3s 214ms/step - loss: 0.0015 - val_loss: 0.0029\n",
            "Epoch 15/100\n",
            "13/13 [==============================] - 3s 213ms/step - loss: 0.0013 - val_loss: 0.0023\n",
            "Epoch 16/100\n",
            "13/13 [==============================] - 3s 220ms/step - loss: 0.0014 - val_loss: 0.0030\n",
            "Epoch 17/100\n",
            "13/13 [==============================] - 3s 211ms/step - loss: 0.0014 - val_loss: 0.0026\n",
            "Epoch 18/100\n",
            "13/13 [==============================] - 3s 212ms/step - loss: 0.0014 - val_loss: 0.0023\n",
            "Epoch 19/100\n",
            "13/13 [==============================] - 3s 210ms/step - loss: 0.0012 - val_loss: 0.0024\n",
            "Epoch 20/100\n",
            "13/13 [==============================] - 3s 212ms/step - loss: 0.0012 - val_loss: 0.0020\n",
            "Epoch 21/100\n",
            "13/13 [==============================] - 3s 211ms/step - loss: 0.0012 - val_loss: 0.0021\n",
            "Epoch 22/100\n",
            "13/13 [==============================] - 3s 212ms/step - loss: 0.0012 - val_loss: 0.0020\n",
            "Epoch 23/100\n",
            "13/13 [==============================] - 3s 213ms/step - loss: 0.0012 - val_loss: 0.0020\n",
            "Epoch 24/100\n",
            "13/13 [==============================] - 3s 210ms/step - loss: 0.0011 - val_loss: 0.0018\n",
            "Epoch 25/100\n",
            "13/13 [==============================] - 3s 215ms/step - loss: 0.0011 - val_loss: 0.0021\n",
            "Epoch 26/100\n",
            "13/13 [==============================] - 3s 212ms/step - loss: 0.0011 - val_loss: 0.0016\n",
            "Epoch 27/100\n",
            "13/13 [==============================] - 3s 212ms/step - loss: 0.0011 - val_loss: 0.0016\n",
            "Epoch 28/100\n",
            "13/13 [==============================] - 3s 213ms/step - loss: 0.0010 - val_loss: 0.0017\n",
            "Epoch 29/100\n",
            "13/13 [==============================] - 3s 212ms/step - loss: 9.9868e-04 - val_loss: 0.0015\n",
            "Epoch 30/100\n",
            "13/13 [==============================] - 3s 213ms/step - loss: 9.8072e-04 - val_loss: 0.0015\n",
            "Epoch 31/100\n",
            "13/13 [==============================] - 3s 212ms/step - loss: 9.2836e-04 - val_loss: 0.0016\n",
            "Epoch 32/100\n",
            "13/13 [==============================] - 3s 210ms/step - loss: 8.9777e-04 - val_loss: 0.0017\n",
            "Epoch 33/100\n",
            "13/13 [==============================] - 3s 212ms/step - loss: 9.1969e-04 - val_loss: 0.0014\n",
            "Epoch 34/100\n",
            "13/13 [==============================] - 3s 211ms/step - loss: 8.1976e-04 - val_loss: 0.0013\n",
            "Epoch 35/100\n",
            "13/13 [==============================] - 3s 209ms/step - loss: 7.9598e-04 - val_loss: 0.0011\n",
            "Epoch 36/100\n",
            "13/13 [==============================] - 3s 213ms/step - loss: 8.7323e-04 - val_loss: 0.0011\n",
            "Epoch 37/100\n",
            "13/13 [==============================] - 3s 212ms/step - loss: 8.2349e-04 - val_loss: 0.0011\n",
            "Epoch 38/100\n",
            "13/13 [==============================] - 3s 216ms/step - loss: 7.3062e-04 - val_loss: 0.0015\n",
            "Epoch 39/100\n",
            "13/13 [==============================] - 3s 213ms/step - loss: 7.7295e-04 - val_loss: 0.0018\n",
            "Epoch 40/100\n",
            "13/13 [==============================] - 3s 212ms/step - loss: 7.5842e-04 - val_loss: 0.0013\n",
            "Epoch 41/100\n",
            "13/13 [==============================] - 3s 213ms/step - loss: 6.8587e-04 - val_loss: 0.0012\n",
            "Epoch 42/100\n",
            "13/13 [==============================] - 3s 218ms/step - loss: 6.6112e-04 - val_loss: 0.0011\n",
            "Epoch 43/100\n",
            "13/13 [==============================] - 3s 218ms/step - loss: 6.5599e-04 - val_loss: 0.0011\n",
            "Epoch 44/100\n",
            "13/13 [==============================] - 3s 210ms/step - loss: 6.5949e-04 - val_loss: 0.0012\n",
            "Epoch 45/100\n",
            "13/13 [==============================] - 3s 213ms/step - loss: 6.5616e-04 - val_loss: 0.0012\n",
            "Epoch 46/100\n",
            "13/13 [==============================] - 3s 218ms/step - loss: 6.5121e-04 - val_loss: 0.0015\n",
            "Epoch 47/100\n",
            "13/13 [==============================] - 3s 215ms/step - loss: 7.7926e-04 - val_loss: 0.0013\n",
            "Epoch 48/100\n",
            "13/13 [==============================] - 3s 211ms/step - loss: 7.0451e-04 - val_loss: 0.0015\n",
            "Epoch 49/100\n",
            "13/13 [==============================] - 3s 213ms/step - loss: 6.4986e-04 - val_loss: 0.0011\n",
            "Epoch 50/100\n",
            "13/13 [==============================] - 3s 212ms/step - loss: 6.2310e-04 - val_loss: 0.0012\n",
            "Epoch 51/100\n",
            "13/13 [==============================] - 3s 211ms/step - loss: 5.9446e-04 - val_loss: 0.0011\n",
            "Epoch 52/100\n",
            "13/13 [==============================] - 3s 212ms/step - loss: 6.0267e-04 - val_loss: 0.0013\n",
            "Epoch 53/100\n",
            "13/13 [==============================] - 3s 210ms/step - loss: 6.2716e-04 - val_loss: 0.0015\n",
            "Epoch 54/100\n",
            "13/13 [==============================] - 3s 211ms/step - loss: 6.8996e-04 - val_loss: 0.0012\n",
            "Epoch 55/100\n",
            "13/13 [==============================] - 3s 211ms/step - loss: 5.9138e-04 - val_loss: 9.7798e-04\n",
            "Epoch 56/100\n",
            "13/13 [==============================] - 3s 215ms/step - loss: 5.7486e-04 - val_loss: 0.0012\n",
            "Epoch 57/100\n",
            "13/13 [==============================] - 3s 214ms/step - loss: 6.3240e-04 - val_loss: 0.0011\n",
            "Epoch 58/100\n",
            "13/13 [==============================] - 3s 211ms/step - loss: 6.3432e-04 - val_loss: 0.0013\n",
            "Epoch 59/100\n",
            "13/13 [==============================] - 3s 213ms/step - loss: 5.7989e-04 - val_loss: 9.3671e-04\n",
            "Epoch 60/100\n",
            "13/13 [==============================] - 3s 210ms/step - loss: 5.5834e-04 - val_loss: 0.0011\n",
            "Epoch 61/100\n",
            "13/13 [==============================] - 3s 219ms/step - loss: 6.6174e-04 - val_loss: 0.0012\n",
            "Epoch 62/100\n",
            "13/13 [==============================] - 3s 214ms/step - loss: 6.0572e-04 - val_loss: 0.0011\n",
            "Epoch 63/100\n",
            "13/13 [==============================] - 3s 212ms/step - loss: 5.4048e-04 - val_loss: 9.7697e-04\n",
            "Epoch 64/100\n",
            "13/13 [==============================] - 3s 213ms/step - loss: 5.1592e-04 - val_loss: 8.9081e-04\n",
            "Epoch 65/100\n",
            "13/13 [==============================] - 3s 213ms/step - loss: 5.0962e-04 - val_loss: 0.0013\n",
            "Epoch 66/100\n",
            "13/13 [==============================] - 3s 217ms/step - loss: 5.4826e-04 - val_loss: 9.6306e-04\n",
            "Epoch 67/100\n",
            "13/13 [==============================] - 3s 214ms/step - loss: 5.3057e-04 - val_loss: 9.4736e-04\n",
            "Epoch 68/100\n",
            "13/13 [==============================] - 3s 213ms/step - loss: 5.8203e-04 - val_loss: 8.9284e-04\n",
            "Epoch 69/100\n",
            "13/13 [==============================] - 3s 212ms/step - loss: 5.3476e-04 - val_loss: 8.5799e-04\n",
            "Epoch 70/100\n",
            "13/13 [==============================] - 3s 213ms/step - loss: 5.3080e-04 - val_loss: 9.8010e-04\n",
            "Epoch 71/100\n",
            "13/13 [==============================] - 3s 219ms/step - loss: 4.9133e-04 - val_loss: 8.5062e-04\n",
            "Epoch 72/100\n",
            "13/13 [==============================] - 3s 213ms/step - loss: 4.9586e-04 - val_loss: 7.7354e-04\n",
            "Epoch 73/100\n",
            "13/13 [==============================] - 3s 214ms/step - loss: 4.4846e-04 - val_loss: 9.7155e-04\n",
            "Epoch 74/100\n",
            "13/13 [==============================] - 3s 214ms/step - loss: 4.9365e-04 - val_loss: 9.7860e-04\n",
            "Epoch 75/100\n",
            "13/13 [==============================] - 3s 212ms/step - loss: 4.8404e-04 - val_loss: 6.8840e-04\n",
            "Epoch 76/100\n",
            "13/13 [==============================] - 3s 212ms/step - loss: 4.2808e-04 - val_loss: 8.4357e-04\n",
            "Epoch 77/100\n",
            "13/13 [==============================] - 3s 211ms/step - loss: 4.7954e-04 - val_loss: 8.6053e-04\n",
            "Epoch 78/100\n",
            "13/13 [==============================] - 3s 210ms/step - loss: 4.6067e-04 - val_loss: 8.8308e-04\n",
            "Epoch 79/100\n",
            "13/13 [==============================] - 3s 217ms/step - loss: 4.2634e-04 - val_loss: 7.3037e-04\n",
            "Epoch 80/100\n",
            "13/13 [==============================] - 3s 215ms/step - loss: 4.0482e-04 - val_loss: 6.8457e-04\n",
            "Epoch 81/100\n",
            "13/13 [==============================] - 3s 213ms/step - loss: 4.0449e-04 - val_loss: 6.6382e-04\n",
            "Epoch 82/100\n",
            "13/13 [==============================] - 3s 218ms/step - loss: 4.2925e-04 - val_loss: 7.6145e-04\n",
            "Epoch 83/100\n",
            "13/13 [==============================] - 3s 214ms/step - loss: 3.8880e-04 - val_loss: 8.1598e-04\n",
            "Epoch 84/100\n",
            "13/13 [==============================] - 3s 211ms/step - loss: 4.1085e-04 - val_loss: 6.7949e-04\n",
            "Epoch 85/100\n",
            "13/13 [==============================] - 3s 218ms/step - loss: 3.9714e-04 - val_loss: 8.3526e-04\n",
            "Epoch 86/100\n",
            "13/13 [==============================] - 3s 211ms/step - loss: 4.8513e-04 - val_loss: 8.9338e-04\n",
            "Epoch 87/100\n",
            "13/13 [==============================] - 3s 217ms/step - loss: 3.8064e-04 - val_loss: 6.9462e-04\n",
            "Epoch 88/100\n",
            "13/13 [==============================] - 3s 213ms/step - loss: 3.9547e-04 - val_loss: 6.0645e-04\n",
            "Epoch 89/100\n",
            "13/13 [==============================] - 3s 213ms/step - loss: 3.9120e-04 - val_loss: 6.8960e-04\n",
            "Epoch 90/100\n",
            "13/13 [==============================] - 3s 214ms/step - loss: 4.1661e-04 - val_loss: 6.9412e-04\n",
            "Epoch 91/100\n",
            "13/13 [==============================] - 3s 213ms/step - loss: 3.7022e-04 - val_loss: 5.9897e-04\n",
            "Epoch 92/100\n",
            "13/13 [==============================] - 3s 211ms/step - loss: 3.7980e-04 - val_loss: 5.9742e-04\n",
            "Epoch 93/100\n",
            "13/13 [==============================] - 3s 213ms/step - loss: 3.4581e-04 - val_loss: 5.9944e-04\n",
            "Epoch 94/100\n",
            "13/13 [==============================] - 3s 214ms/step - loss: 3.4021e-04 - val_loss: 6.0737e-04\n",
            "Epoch 95/100\n",
            "13/13 [==============================] - 3s 214ms/step - loss: 3.6381e-04 - val_loss: 6.1010e-04\n",
            "Epoch 96/100\n",
            "13/13 [==============================] - 3s 214ms/step - loss: 3.7852e-04 - val_loss: 6.3055e-04\n",
            "Epoch 97/100\n",
            "13/13 [==============================] - 3s 213ms/step - loss: 3.4502e-04 - val_loss: 5.4685e-04\n",
            "Epoch 98/100\n",
            "13/13 [==============================] - 3s 209ms/step - loss: 3.4095e-04 - val_loss: 5.8302e-04\n",
            "Epoch 99/100\n",
            "13/13 [==============================] - 3s 209ms/step - loss: 3.5988e-04 - val_loss: 6.2401e-04\n",
            "Epoch 100/100\n",
            "13/13 [==============================] - 3s 207ms/step - loss: 3.8232e-04 - val_loss: 5.2169e-04\n"
          ]
        },
        {
          "output_type": "execute_result",
          "data": {
            "text/plain": [
              "<keras.callbacks.History at 0x7fc071198f10>"
            ]
          },
          "metadata": {},
          "execution_count": 31
        }
      ]
    },
    {
      "cell_type": "code",
      "metadata": {
        "id": "u82EsQ4a0c-2"
      },
      "source": [
        "import tensorflow as tf"
      ],
      "execution_count": 32,
      "outputs": []
    },
    {
      "cell_type": "code",
      "metadata": {
        "colab": {
          "base_uri": "https://localhost:8080/",
          "height": 37
        },
        "id": "xZH6Ysln0llD",
        "outputId": "80d1f97a-e2a4-4608-b151-938b3e35341d"
      },
      "source": [
        "tf.__version__"
      ],
      "execution_count": 33,
      "outputs": [
        {
          "output_type": "execute_result",
          "data": {
            "application/vnd.google.colaboratory.intrinsic+json": {
              "type": "string"
            },
            "text/plain": [
              "'2.6.0'"
            ]
          },
          "metadata": {},
          "execution_count": 33
        }
      ]
    },
    {
      "cell_type": "code",
      "metadata": {
        "id": "fjDIwcMH0ngp"
      },
      "source": [
        "### Lets Do the prediction and check performance metrics\n",
        "train_predict=model.predict(X_train)\n",
        "test_predict=model.predict(X_test)"
      ],
      "execution_count": 34,
      "outputs": []
    },
    {
      "cell_type": "code",
      "metadata": {
        "id": "pnW1sUZW0pbC"
      },
      "source": [
        "##Transformback to original form\n",
        "train_predict=scaler.inverse_transform(train_predict)\n",
        "test_predict=scaler.inverse_transform(test_predict)"
      ],
      "execution_count": 35,
      "outputs": []
    },
    {
      "cell_type": "code",
      "metadata": {
        "colab": {
          "base_uri": "https://localhost:8080/"
        },
        "id": "oewqwI3j0rJj",
        "outputId": "7ab8029d-7444-4539-8f1f-16486dbd90c1"
      },
      "source": [
        "### Calculate RMSE performance metrics\n",
        "import math\n",
        "from sklearn.metrics import mean_squared_error\n",
        "math.sqrt(mean_squared_error(y_train,train_predict))"
      ],
      "execution_count": 36,
      "outputs": [
        {
          "output_type": "execute_result",
          "data": {
            "text/plain": [
              "304.5648687110839"
            ]
          },
          "metadata": {},
          "execution_count": 36
        }
      ]
    },
    {
      "cell_type": "code",
      "metadata": {
        "colab": {
          "base_uri": "https://localhost:8080/"
        },
        "id": "yV7wtOxU0thE",
        "outputId": "3b2d11f3-09de-47d1-99d4-13e0346f6c00"
      },
      "source": [
        "### Test Data RMSE\n",
        "math.sqrt(mean_squared_error(y_test,test_predict))"
      ],
      "execution_count": 37,
      "outputs": [
        {
          "output_type": "execute_result",
          "data": {
            "text/plain": [
              "282.42767313275147"
            ]
          },
          "metadata": {},
          "execution_count": 37
        }
      ]
    },
    {
      "cell_type": "code",
      "metadata": {
        "colab": {
          "base_uri": "https://localhost:8080/",
          "height": 452
        },
        "id": "b2O9FdYN03ec",
        "outputId": "3baa01bc-0854-4360-f96d-195bf60c9f9c"
      },
      "source": [
        "### Plotting \n",
        "# shift train predictions for plotting\n",
        "look_back=100\n",
        "trainPredictPlot = numpy.empty_like(df1)\n",
        "trainPredictPlot[:, :] = np.nan\n",
        "trainPredictPlot[look_back:len(train_predict)+look_back, :] = train_predict\n",
        "# shift test predictions for plotting\n",
        "testPredictPlot = numpy.empty_like(df1)\n",
        "testPredictPlot[:, :] = numpy.nan\n",
        "testPredictPlot[len(train_predict)+(look_back*2)+1:len(df1)-1, :] = test_predict\n",
        "# plot baseline and predictions\n",
        "plt.plot(scaler.inverse_transform(df1))\n",
        "plt.plot(trainPredictPlot)\n",
        "plt.plot(testPredictPlot)\n",
        "plt.title('Tata Motors Train Test Split')\n",
        "plt.show()"
      ],
      "execution_count": 38,
      "outputs": [
        {
          "output_type": "display_data",
          "data": {
            "image/png": "[encoded data removed]",
            "text/plain": [
              "<Figure size 640x480 with 1 Axes>"
            ]
          },
          "metadata": {}
        }
      ]
    },
    {
      "cell_type": "code",
      "metadata": {
        "colab": {
          "base_uri": "https://localhost:8080/"
        },
        "id": "XJDVfIMk05WN",
        "outputId": "fd679ec4-0eff-4d32-d9c6-17ef1379a927"
      },
      "source": [
        "len(test_data)"
      ],
      "execution_count": 39,
      "outputs": [
        {
          "output_type": "execute_result",
          "data": {
            "text/plain": [
              "308"
            ]
          },
          "metadata": {},
          "execution_count": 39
        }
      ]
    },
    {
      "cell_type": "code",
      "metadata": {
        "colab": {
          "base_uri": "https://localhost:8080/"
        },
        "id": "faLcUIDr08mi",
        "outputId": "6db22c1c-cc7a-4b11-c7f6-f07646c3b273"
      },
      "source": [
        "x_input=test_data[208:].reshape(1,-1)\n",
        "x_input.shape"
      ],
      "execution_count": 45,
      "outputs": [
        {
          "output_type": "execute_result",
          "data": {
            "text/plain": [
              "(1, 100)"
            ]
          },
          "metadata": {},
          "execution_count": 45
        }
      ]
    },
    {
      "cell_type": "code",
      "metadata": {
        "id": "7oKtWwxZ09IM"
      },
      "source": [
        "temp_input=list(x_input)\n",
        "temp_input=temp_input[0].tolist()"
      ],
      "execution_count": 46,
      "outputs": []
    },
    {
      "cell_type": "code",
      "metadata": {
        "colab": {
          "base_uri": "https://localhost:8080/"
        },
        "id": "Nm8nnIo809lO",
        "outputId": "9f6b7323-57cb-48ae-caaa-f50e6a9cfbaf"
      },
      "source": [
        "# demonstrate prediction for next 30 days\n",
        "from numpy import array\n",
        "\n",
        "lst_output=[]\n",
        "n_steps=100\n",
        "i=0\n",
        "while(i<30):\n",
        "    \n",
        "    if(len(temp_input)>100):\n",
        "        #print(temp_input)\n",
        "        x_input=np.array(temp_input[1:])\n",
        "        print(\"{} day input {}\".format(i,x_input))\n",
        "        x_input=x_input.reshape(1,-1)\n",
        "        x_input = x_input.reshape((1, n_steps, 1))\n",
        "        #print(x_input)\n",
        "        yhat = model.predict(x_input, verbose=0)\n",
        "        print(\"{} day output {}\".format(i,yhat))\n",
        "        temp_input.extend(yhat[0].tolist())\n",
        "        temp_input=temp_input[1:]\n",
        "        #print(temp_input)\n",
        "        lst_output.extend(yhat.tolist())\n",
        "        i=i+1\n",
        "    else:\n",
        "        x_input = x_input.reshape((1, n_steps,1))\n",
        "        yhat = model.predict(x_input, verbose=0)\n",
        "        print(yhat[0])\n",
        "        temp_input.extend(yhat[0].tolist())\n",
        "        print(len(temp_input))\n",
        "        lst_output.extend(yhat.tolist())\n",
        "        i=i+1\n",
        "    \n",
        "\n",
        "print(lst_output)"
      ],
      "execution_count": 47,
      "outputs": [
        {
          "output_type": "stream",
          "name": "stdout",
          "text": [
            "[0.4276741]\n",
            "101\n",
            "1 day input [0.47506688 0.48318686 0.42271682 0.45385938 0.45510125 0.46752005\n",
            " 0.45108901 0.44468854 0.43800149 0.43695069 0.4396255  0.45128008\n",
            " 0.45968664 0.4520443  0.43666412 0.43504011 0.42825756 0.43217423\n",
            " 0.45080243 0.45366831 0.47678639 0.47812377 0.4980894  0.47181886\n",
            " 0.48872755 0.51041269 0.47602217 0.46312573 0.47344287 0.47105464\n",
            " 0.47755062 0.47802826 0.48395109 0.48423766 0.48423766 0.48299579\n",
            " 0.49235765 0.49742068 0.51518916 0.5353458  0.54919754 0.53123806\n",
            " 0.53391286 0.54537637 0.55531143 0.54910203 0.54270156 0.53563238\n",
            " 0.51987005 0.51394723 0.52082535 0.51576231 0.51461595 0.52416887\n",
            " 0.5301872  0.52779897 0.52407336 0.53295757 0.53419944 0.53649216\n",
            " 0.48070307 0.48108521 0.46054643 0.46045086 0.46264808 0.46933513\n",
            " 0.46666026 0.46799769 0.46990828 0.46532289 0.45252195 0.45328617\n",
            " 0.43991208 0.43532669 0.43198316 0.41870463 0.43484904 0.43685519\n",
            " 0.44239587 0.45548339 0.44487961 0.44784105 0.44850971 0.4447841\n",
            " 0.43733283 0.43972106 0.45987771 0.46226594 0.45548339 0.44401988\n",
            " 0.43570883 0.41612533 0.40437525 0.40982037 0.41860907 0.418418\n",
            " 0.42118837 0.43303402 0.42414975 0.42767411]\n",
            "1 day output [[0.43214566]]\n",
            "2 day input [0.48318686 0.42271682 0.45385938 0.45510125 0.46752005 0.45108901\n",
            " 0.44468854 0.43800149 0.43695069 0.4396255  0.45128008 0.45968664\n",
            " 0.4520443  0.43666412 0.43504011 0.42825756 0.43217423 0.45080243\n",
            " 0.45366831 0.47678639 0.47812377 0.4980894  0.47181886 0.48872755\n",
            " 0.51041269 0.47602217 0.46312573 0.47344287 0.47105464 0.47755062\n",
            " 0.47802826 0.48395109 0.48423766 0.48423766 0.48299579 0.49235765\n",
            " 0.49742068 0.51518916 0.5353458  0.54919754 0.53123806 0.53391286\n",
            " 0.54537637 0.55531143 0.54910203 0.54270156 0.53563238 0.51987005\n",
            " 0.51394723 0.52082535 0.51576231 0.51461595 0.52416887 0.5301872\n",
            " 0.52779897 0.52407336 0.53295757 0.53419944 0.53649216 0.48070307\n",
            " 0.48108521 0.46054643 0.46045086 0.46264808 0.46933513 0.46666026\n",
            " 0.46799769 0.46990828 0.46532289 0.45252195 0.45328617 0.43991208\n",
            " 0.43532669 0.43198316 0.41870463 0.43484904 0.43685519 0.44239587\n",
            " 0.45548339 0.44487961 0.44784105 0.44850971 0.4447841  0.43733283\n",
            " 0.43972106 0.45987771 0.46226594 0.45548339 0.44401988 0.43570883\n",
            " 0.41612533 0.40437525 0.40982037 0.41860907 0.418418   0.42118837\n",
            " 0.43303402 0.42414975 0.42767411 0.43214566]\n",
            "2 day output [[0.4356767]]\n",
            "3 day input [0.42271682 0.45385938 0.45510125 0.46752005 0.45108901 0.44468854\n",
            " 0.43800149 0.43695069 0.4396255  0.45128008 0.45968664 0.4520443\n",
            " 0.43666412 0.43504011 0.42825756 0.43217423 0.45080243 0.45366831\n",
            " 0.47678639 0.47812377 0.4980894  0.47181886 0.48872755 0.51041269\n",
            " 0.47602217 0.46312573 0.47344287 0.47105464 0.47755062 0.47802826\n",
            " 0.48395109 0.48423766 0.48423766 0.48299579 0.49235765 0.49742068\n",
            " 0.51518916 0.5353458  0.54919754 0.53123806 0.53391286 0.54537637\n",
            " 0.55531143 0.54910203 0.54270156 0.53563238 0.51987005 0.51394723\n",
            " 0.52082535 0.51576231 0.51461595 0.52416887 0.5301872  0.52779897\n",
            " 0.52407336 0.53295757 0.53419944 0.53649216 0.48070307 0.48108521\n",
            " 0.46054643 0.46045086 0.46264808 0.46933513 0.46666026 0.46799769\n",
            " 0.46990828 0.46532289 0.45252195 0.45328617 0.43991208 0.43532669\n",
            " 0.43198316 0.41870463 0.43484904 0.43685519 0.44239587 0.45548339\n",
            " 0.44487961 0.44784105 0.44850971 0.4447841  0.43733283 0.43972106\n",
            " 0.45987771 0.46226594 0.45548339 0.44401988 0.43570883 0.41612533\n",
            " 0.40437525 0.40982037 0.41860907 0.418418   0.42118837 0.43303402\n",
            " 0.42414975 0.42767411 0.43214566 0.43567669]\n",
            "3 day output [[0.4387749]]\n",
            "4 day input [0.45385938 0.45510125 0.46752005 0.45108901 0.44468854 0.43800149\n",
            " 0.43695069 0.4396255  0.45128008 0.45968664 0.4520443  0.43666412\n",
            " 0.43504011 0.42825756 0.43217423 0.45080243 0.45366831 0.47678639\n",
            " 0.47812377 0.4980894  0.47181886 0.48872755 0.51041269 0.47602217\n",
            " 0.46312573 0.47344287 0.47105464 0.47755062 0.47802826 0.48395109\n",
            " 0.48423766 0.48423766 0.48299579 0.49235765 0.49742068 0.51518916\n",
            " 0.5353458  0.54919754 0.53123806 0.53391286 0.54537637 0.55531143\n",
            " 0.54910203 0.54270156 0.53563238 0.51987005 0.51394723 0.52082535\n",
            " 0.51576231 0.51461595 0.52416887 0.5301872  0.52779897 0.52407336\n",
            " 0.53295757 0.53419944 0.53649216 0.48070307 0.48108521 0.46054643\n",
            " 0.46045086 0.46264808 0.46933513 0.46666026 0.46799769 0.46990828\n",
            " 0.46532289 0.45252195 0.45328617 0.43991208 0.43532669 0.43198316\n",
            " 0.41870463 0.43484904 0.43685519 0.44239587 0.45548339 0.44487961\n",
            " 0.44784105 0.44850971 0.4447841  0.43733283 0.43972106 0.45987771\n",
            " 0.46226594 0.45548339 0.44401988 0.43570883 0.41612533 0.40437525\n",
            " 0.40982037 0.41860907 0.418418   0.42118837 0.43303402 0.42414975\n",
            " 0.42767411 0.43214566 0.43567669 0.43877491]\n",
            "4 day output [[0.44170147]]\n",
            "5 day input [0.45510125 0.46752005 0.45108901 0.44468854 0.43800149 0.43695069\n",
            " 0.4396255  0.45128008 0.45968664 0.4520443  0.43666412 0.43504011\n",
            " 0.42825756 0.43217423 0.45080243 0.45366831 0.47678639 0.47812377\n",
            " 0.4980894  0.47181886 0.48872755 0.51041269 0.47602217 0.46312573\n",
            " 0.47344287 0.47105464 0.47755062 0.47802826 0.48395109 0.48423766\n",
            " 0.48423766 0.48299579 0.49235765 0.49742068 0.51518916 0.5353458\n",
            " 0.54919754 0.53123806 0.53391286 0.54537637 0.55531143 0.54910203\n",
            " 0.54270156 0.53563238 0.51987005 0.51394723 0.52082535 0.51576231\n",
            " 0.51461595 0.52416887 0.5301872  0.52779897 0.52407336 0.53295757\n",
            " 0.53419944 0.53649216 0.48070307 0.48108521 0.46054643 0.46045086\n",
            " 0.46264808 0.46933513 0.46666026 0.46799769 0.46990828 0.46532289\n",
            " 0.45252195 0.45328617 0.43991208 0.43532669 0.43198316 0.41870463\n",
            " 0.43484904 0.43685519 0.44239587 0.45548339 0.44487961 0.44784105\n",
            " 0.44850971 0.4447841  0.43733283 0.43972106 0.45987771 0.46226594\n",
            " 0.45548339 0.44401988 0.43570883 0.41612533 0.40437525 0.40982037\n",
            " 0.41860907 0.418418   0.42118837 0.43303402 0.42414975 0.42767411\n",
            " 0.43214566 0.43567669 0.43877491 0.44170147]\n",
            "5 day output [[0.44453955]]\n",
            "6 day input [0.46752005 0.45108901 0.44468854 0.43800149 0.43695069 0.4396255\n",
            " 0.45128008 0.45968664 0.4520443  0.43666412 0.43504011 0.42825756\n",
            " 0.43217423 0.45080243 0.45366831 0.47678639 0.47812377 0.4980894\n",
            " 0.47181886 0.48872755 0.51041269 0.47602217 0.46312573 0.47344287\n",
            " 0.47105464 0.47755062 0.47802826 0.48395109 0.48423766 0.48423766\n",
            " 0.48299579 0.49235765 0.49742068 0.51518916 0.5353458  0.54919754\n",
            " 0.53123806 0.53391286 0.54537637 0.55531143 0.54910203 0.54270156\n",
            " 0.53563238 0.51987005 0.51394723 0.52082535 0.51576231 0.51461595\n",
            " 0.52416887 0.5301872  0.52779897 0.52407336 0.53295757 0.53419944\n",
            " 0.53649216 0.48070307 0.48108521 0.46054643 0.46045086 0.46264808\n",
            " 0.46933513 0.46666026 0.46799769 0.46990828 0.46532289 0.45252195\n",
            " 0.45328617 0.43991208 0.43532669 0.43198316 0.41870463 0.43484904\n",
            " 0.43685519 0.44239587 0.45548339 0.44487961 0.44784105 0.44850971\n",
            " 0.4447841  0.43733283 0.43972106 0.45987771 0.46226594 0.45548339\n",
            " 0.44401988 0.43570883 0.41612533 0.40437525 0.40982037 0.41860907\n",
            " 0.418418   0.42118837 0.43303402 0.42414975 0.42767411 0.43214566\n",
            " 0.43567669 0.43877491 0.44170147 0.44453955]\n",
            "6 day output [[0.447293]]\n",
            "7 day input [0.45108901 0.44468854 0.43800149 0.43695069 0.4396255  0.45128008\n",
            " 0.45968664 0.4520443  0.43666412 0.43504011 0.42825756 0.43217423\n",
            " 0.45080243 0.45366831 0.47678639 0.47812377 0.4980894  0.47181886\n",
            " 0.48872755 0.51041269 0.47602217 0.46312573 0.47344287 0.47105464\n",
            " 0.47755062 0.47802826 0.48395109 0.48423766 0.48423766 0.48299579\n",
            " 0.49235765 0.49742068 0.51518916 0.5353458  0.54919754 0.53123806\n",
            " 0.53391286 0.54537637 0.55531143 0.54910203 0.54270156 0.53563238\n",
            " 0.51987005 0.51394723 0.52082535 0.51576231 0.51461595 0.52416887\n",
            " 0.5301872  0.52779897 0.52407336 0.53295757 0.53419944 0.53649216\n",
            " 0.48070307 0.48108521 0.46054643 0.46045086 0.46264808 0.46933513\n",
            " 0.46666026 0.46799769 0.46990828 0.46532289 0.45252195 0.45328617\n",
            " 0.43991208 0.43532669 0.43198316 0.41870463 0.43484904 0.43685519\n",
            " 0.44239587 0.45548339 0.44487961 0.44784105 0.44850971 0.4447841\n",
            " 0.43733283 0.43972106 0.45987771 0.46226594 0.45548339 0.44401988\n",
            " 0.43570883 0.41612533 0.40437525 0.40982037 0.41860907 0.418418\n",
            " 0.42118837 0.43303402 0.42414975 0.42767411 0.43214566 0.43567669\n",
            " 0.43877491 0.44170147 0.44453955 0.44729301]\n",
            "7 day output [[0.4499467]]\n",
            "8 day input [0.44468854 0.43800149 0.43695069 0.4396255  0.45128008 0.45968664\n",
            " 0.4520443  0.43666412 0.43504011 0.42825756 0.43217423 0.45080243\n",
            " 0.45366831 0.47678639 0.47812377 0.4980894  0.47181886 0.48872755\n",
            " 0.51041269 0.47602217 0.46312573 0.47344287 0.47105464 0.47755062\n",
            " 0.47802826 0.48395109 0.48423766 0.48423766 0.48299579 0.49235765\n",
            " 0.49742068 0.51518916 0.5353458  0.54919754 0.53123806 0.53391286\n",
            " 0.54537637 0.55531143 0.54910203 0.54270156 0.53563238 0.51987005\n",
            " 0.51394723 0.52082535 0.51576231 0.51461595 0.52416887 0.5301872\n",
            " 0.52779897 0.52407336 0.53295757 0.53419944 0.53649216 0.48070307\n",
            " 0.48108521 0.46054643 0.46045086 0.46264808 0.46933513 0.46666026\n",
            " 0.46799769 0.46990828 0.46532289 0.45252195 0.45328617 0.43991208\n",
            " 0.43532669 0.43198316 0.41870463 0.43484904 0.43685519 0.44239587\n",
            " 0.45548339 0.44487961 0.44784105 0.44850971 0.4447841  0.43733283\n",
            " 0.43972106 0.45987771 0.46226594 0.45548339 0.44401988 0.43570883\n",
            " 0.41612533 0.40437525 0.40982037 0.41860907 0.418418   0.42118837\n",
            " 0.43303402 0.42414975 0.42767411 0.43214566 0.43567669 0.43877491\n",
            " 0.44170147 0.44453955 0.44729301 0.4499467 ]\n",
            "8 day output [[0.45248935]]\n",
            "9 day input [0.43800149 0.43695069 0.4396255  0.45128008 0.45968664 0.4520443\n",
            " 0.43666412 0.43504011 0.42825756 0.43217423 0.45080243 0.45366831\n",
            " 0.47678639 0.47812377 0.4980894  0.47181886 0.48872755 0.51041269\n",
            " 0.47602217 0.46312573 0.47344287 0.47105464 0.47755062 0.47802826\n",
            " 0.48395109 0.48423766 0.48423766 0.48299579 0.49235765 0.49742068\n",
            " 0.51518916 0.5353458  0.54919754 0.53123806 0.53391286 0.54537637\n",
            " 0.55531143 0.54910203 0.54270156 0.53563238 0.51987005 0.51394723\n",
            " 0.52082535 0.51576231 0.51461595 0.52416887 0.5301872  0.52779897\n",
            " 0.52407336 0.53295757 0.53419944 0.53649216 0.48070307 0.48108521\n",
            " 0.46054643 0.46045086 0.46264808 0.46933513 0.46666026 0.46799769\n",
            " 0.46990828 0.46532289 0.45252195 0.45328617 0.43991208 0.43532669\n",
            " 0.43198316 0.41870463 0.43484904 0.43685519 0.44239587 0.45548339\n",
            " 0.44487961 0.44784105 0.44850971 0.4447841  0.43733283 0.43972106\n",
            " 0.45987771 0.46226594 0.45548339 0.44401988 0.43570883 0.41612533\n",
            " 0.40437525 0.40982037 0.41860907 0.418418   0.42118837 0.43303402\n",
            " 0.42414975 0.42767411 0.43214566 0.43567669 0.43877491 0.44170147\n",
            " 0.44453955 0.44729301 0.4499467  0.45248935]\n",
            "9 day output [[0.45491752]]\n",
            "10 day input [0.43695069 0.4396255  0.45128008 0.45968664 0.4520443  0.43666412\n",
            " 0.43504011 0.42825756 0.43217423 0.45080243 0.45366831 0.47678639\n",
            " 0.47812377 0.4980894  0.47181886 0.48872755 0.51041269 0.47602217\n",
            " 0.46312573 0.47344287 0.47105464 0.47755062 0.47802826 0.48395109\n",
            " 0.48423766 0.48423766 0.48299579 0.49235765 0.49742068 0.51518916\n",
            " 0.5353458  0.54919754 0.53123806 0.53391286 0.54537637 0.55531143\n",
            " 0.54910203 0.54270156 0.53563238 0.51987005 0.51394723 0.52082535\n",
            " 0.51576231 0.51461595 0.52416887 0.5301872  0.52779897 0.52407336\n",
            " 0.53295757 0.53419944 0.53649216 0.48070307 0.48108521 0.46054643\n",
            " 0.46045086 0.46264808 0.46933513 0.46666026 0.46799769 0.46990828\n",
            " 0.46532289 0.45252195 0.45328617 0.43991208 0.43532669 0.43198316\n",
            " 0.41870463 0.43484904 0.43685519 0.44239587 0.45548339 0.44487961\n",
            " 0.44784105 0.44850971 0.4447841  0.43733283 0.43972106 0.45987771\n",
            " 0.46226594 0.45548339 0.44401988 0.43570883 0.41612533 0.40437525\n",
            " 0.40982037 0.41860907 0.418418   0.42118837 0.43303402 0.42414975\n",
            " 0.42767411 0.43214566 0.43567669 0.43877491 0.44170147 0.44453955\n",
            " 0.44729301 0.4499467  0.45248935 0.45491752]\n",
            "10 day output [[0.45723423]]\n",
            "11 day input [0.4396255  0.45128008 0.45968664 0.4520443  0.43666412 0.43504011\n",
            " 0.42825756 0.43217423 0.45080243 0.45366831 0.47678639 0.47812377\n",
            " 0.4980894  0.47181886 0.48872755 0.51041269 0.47602217 0.46312573\n",
            " 0.47344287 0.47105464 0.47755062 0.47802826 0.48395109 0.48423766\n",
            " 0.48423766 0.48299579 0.49235765 0.49742068 0.51518916 0.5353458\n",
            " 0.54919754 0.53123806 0.53391286 0.54537637 0.55531143 0.54910203\n",
            " 0.54270156 0.53563238 0.51987005 0.51394723 0.52082535 0.51576231\n",
            " 0.51461595 0.52416887 0.5301872  0.52779897 0.52407336 0.53295757\n",
            " 0.53419944 0.53649216 0.48070307 0.48108521 0.46054643 0.46045086\n",
            " 0.46264808 0.46933513 0.46666026 0.46799769 0.46990828 0.46532289\n",
            " 0.45252195 0.45328617 0.43991208 0.43532669 0.43198316 0.41870463\n",
            " 0.43484904 0.43685519 0.44239587 0.45548339 0.44487961 0.44784105\n",
            " 0.44850971 0.4447841  0.43733283 0.43972106 0.45987771 0.46226594\n",
            " 0.45548339 0.44401988 0.43570883 0.41612533 0.40437525 0.40982037\n",
            " 0.41860907 0.418418   0.42118837 0.43303402 0.42414975 0.42767411\n",
            " 0.43214566 0.43567669 0.43877491 0.44170147 0.44453955 0.44729301\n",
            " 0.4499467  0.45248935 0.45491752 0.45723423]\n",
            "11 day output [[0.45944494]]\n",
            "12 day input [0.45128008 0.45968664 0.4520443  0.43666412 0.43504011 0.42825756\n",
            " 0.43217423 0.45080243 0.45366831 0.47678639 0.47812377 0.4980894\n",
            " 0.47181886 0.48872755 0.51041269 0.47602217 0.46312573 0.47344287\n",
            " 0.47105464 0.47755062 0.47802826 0.48395109 0.48423766 0.48423766\n",
            " 0.48299579 0.49235765 0.49742068 0.51518916 0.5353458  0.54919754\n",
            " 0.53123806 0.53391286 0.54537637 0.55531143 0.54910203 0.54270156\n",
            " 0.53563238 0.51987005 0.51394723 0.52082535 0.51576231 0.51461595\n",
            " 0.52416887 0.5301872  0.52779897 0.52407336 0.53295757 0.53419944\n",
            " 0.53649216 0.48070307 0.48108521 0.46054643 0.46045086 0.46264808\n",
            " 0.46933513 0.46666026 0.46799769 0.46990828 0.46532289 0.45252195\n",
            " 0.45328617 0.43991208 0.43532669 0.43198316 0.41870463 0.43484904\n",
            " 0.43685519 0.44239587 0.45548339 0.44487961 0.44784105 0.44850971\n",
            " 0.4447841  0.43733283 0.43972106 0.45987771 0.46226594 0.45548339\n",
            " 0.44401988 0.43570883 0.41612533 0.40437525 0.40982037 0.41860907\n",
            " 0.418418   0.42118837 0.43303402 0.42414975 0.42767411 0.43214566\n",
            " 0.43567669 0.43877491 0.44170147 0.44453955 0.44729301 0.4499467\n",
            " 0.45248935 0.45491752 0.45723423 0.45944494]\n",
            "12 day output [[0.46155608]]\n",
            "13 day input [0.45968664 0.4520443  0.43666412 0.43504011 0.42825756 0.43217423\n",
            " 0.45080243 0.45366831 0.47678639 0.47812377 0.4980894  0.47181886\n",
            " 0.48872755 0.51041269 0.47602217 0.46312573 0.47344287 0.47105464\n",
            " 0.47755062 0.47802826 0.48395109 0.48423766 0.48423766 0.48299579\n",
            " 0.49235765 0.49742068 0.51518916 0.5353458  0.54919754 0.53123806\n",
            " 0.53391286 0.54537637 0.55531143 0.54910203 0.54270156 0.53563238\n",
            " 0.51987005 0.51394723 0.52082535 0.51576231 0.51461595 0.52416887\n",
            " 0.5301872  0.52779897 0.52407336 0.53295757 0.53419944 0.53649216\n",
            " 0.48070307 0.48108521 0.46054643 0.46045086 0.46264808 0.46933513\n",
            " 0.46666026 0.46799769 0.46990828 0.46532289 0.45252195 0.45328617\n",
            " 0.43991208 0.43532669 0.43198316 0.41870463 0.43484904 0.43685519\n",
            " 0.44239587 0.45548339 0.44487961 0.44784105 0.44850971 0.4447841\n",
            " 0.43733283 0.43972106 0.45987771 0.46226594 0.45548339 0.44401988\n",
            " 0.43570883 0.41612533 0.40437525 0.40982037 0.41860907 0.418418\n",
            " 0.42118837 0.43303402 0.42414975 0.42767411 0.43214566 0.43567669\n",
            " 0.43877491 0.44170147 0.44453955 0.44729301 0.4499467  0.45248935\n",
            " 0.45491752 0.45723423 0.45944494 0.46155608]\n",
            "13 day output [[0.46357307]]\n",
            "14 day input [0.4520443  0.43666412 0.43504011 0.42825756 0.43217423 0.45080243\n",
            " 0.45366831 0.47678639 0.47812377 0.4980894  0.47181886 0.48872755\n",
            " 0.51041269 0.47602217 0.46312573 0.47344287 0.47105464 0.47755062\n",
            " 0.47802826 0.48395109 0.48423766 0.48423766 0.48299579 0.49235765\n",
            " 0.49742068 0.51518916 0.5353458  0.54919754 0.53123806 0.53391286\n",
            " 0.54537637 0.55531143 0.54910203 0.54270156 0.53563238 0.51987005\n",
            " 0.51394723 0.52082535 0.51576231 0.51461595 0.52416887 0.5301872\n",
            " 0.52779897 0.52407336 0.53295757 0.53419944 0.53649216 0.48070307\n",
            " 0.48108521 0.46054643 0.46045086 0.46264808 0.46933513 0.46666026\n",
            " 0.46799769 0.46990828 0.46532289 0.45252195 0.45328617 0.43991208\n",
            " 0.43532669 0.43198316 0.41870463 0.43484904 0.43685519 0.44239587\n",
            " 0.45548339 0.44487961 0.44784105 0.44850971 0.4447841  0.43733283\n",
            " 0.43972106 0.45987771 0.46226594 0.45548339 0.44401988 0.43570883\n",
            " 0.41612533 0.40437525 0.40982037 0.41860907 0.418418   0.42118837\n",
            " 0.43303402 0.42414975 0.42767411 0.43214566 0.43567669 0.43877491\n",
            " 0.44170147 0.44453955 0.44729301 0.4499467  0.45248935 0.45491752\n",
            " 0.45723423 0.45944494 0.46155608 0.46357307]\n",
            "14 day output [[0.4655017]]\n",
            "15 day input [0.43666412 0.43504011 0.42825756 0.43217423 0.45080243 0.45366831\n",
            " 0.47678639 0.47812377 0.4980894  0.47181886 0.48872755 0.51041269\n",
            " 0.47602217 0.46312573 0.47344287 0.47105464 0.47755062 0.47802826\n",
            " 0.48395109 0.48423766 0.48423766 0.48299579 0.49235765 0.49742068\n",
            " 0.51518916 0.5353458  0.54919754 0.53123806 0.53391286 0.54537637\n",
            " 0.55531143 0.54910203 0.54270156 0.53563238 0.51987005 0.51394723\n",
            " 0.52082535 0.51576231 0.51461595 0.52416887 0.5301872  0.52779897\n",
            " 0.52407336 0.53295757 0.53419944 0.53649216 0.48070307 0.48108521\n",
            " 0.46054643 0.46045086 0.46264808 0.46933513 0.46666026 0.46799769\n",
            " 0.46990828 0.46532289 0.45252195 0.45328617 0.43991208 0.43532669\n",
            " 0.43198316 0.41870463 0.43484904 0.43685519 0.44239587 0.45548339\n",
            " 0.44487961 0.44784105 0.44850971 0.4447841  0.43733283 0.43972106\n",
            " 0.45987771 0.46226594 0.45548339 0.44401988 0.43570883 0.41612533\n",
            " 0.40437525 0.40982037 0.41860907 0.418418   0.42118837 0.43303402\n",
            " 0.42414975 0.42767411 0.43214566 0.43567669 0.43877491 0.44170147\n",
            " 0.44453955 0.44729301 0.4499467  0.45248935 0.45491752 0.45723423\n",
            " 0.45944494 0.46155608 0.46357307 0.4655017 ]\n",
            "15 day output [[0.46734625]]\n",
            "16 day input [0.43504011 0.42825756 0.43217423 0.45080243 0.45366831 0.47678639\n",
            " 0.47812377 0.4980894  0.47181886 0.48872755 0.51041269 0.47602217\n",
            " 0.46312573 0.47344287 0.47105464 0.47755062 0.47802826 0.48395109\n",
            " 0.48423766 0.48423766 0.48299579 0.49235765 0.49742068 0.51518916\n",
            " 0.5353458  0.54919754 0.53123806 0.53391286 0.54537637 0.55531143\n",
            " 0.54910203 0.54270156 0.53563238 0.51987005 0.51394723 0.52082535\n",
            " 0.51576231 0.51461595 0.52416887 0.5301872  0.52779897 0.52407336\n",
            " 0.53295757 0.53419944 0.53649216 0.48070307 0.48108521 0.46054643\n",
            " 0.46045086 0.46264808 0.46933513 0.46666026 0.46799769 0.46990828\n",
            " 0.46532289 0.45252195 0.45328617 0.43991208 0.43532669 0.43198316\n",
            " 0.41870463 0.43484904 0.43685519 0.44239587 0.45548339 0.44487961\n",
            " 0.44784105 0.44850971 0.4447841  0.43733283 0.43972106 0.45987771\n",
            " 0.46226594 0.45548339 0.44401988 0.43570883 0.41612533 0.40437525\n",
            " 0.40982037 0.41860907 0.418418   0.42118837 0.43303402 0.42414975\n",
            " 0.42767411 0.43214566 0.43567669 0.43877491 0.44170147 0.44453955\n",
            " 0.44729301 0.4499467  0.45248935 0.45491752 0.45723423 0.45944494\n",
            " 0.46155608 0.46357307 0.4655017  0.46734625]\n",
            "16 day output [[0.46911088]]\n",
            "17 day input [0.42825756 0.43217423 0.45080243 0.45366831 0.47678639 0.47812377\n",
            " 0.4980894  0.47181886 0.48872755 0.51041269 0.47602217 0.46312573\n",
            " 0.47344287 0.47105464 0.47755062 0.47802826 0.48395109 0.48423766\n",
            " 0.48423766 0.48299579 0.49235765 0.49742068 0.51518916 0.5353458\n",
            " 0.54919754 0.53123806 0.53391286 0.54537637 0.55531143 0.54910203\n",
            " 0.54270156 0.53563238 0.51987005 0.51394723 0.52082535 0.51576231\n",
            " 0.51461595 0.52416887 0.5301872  0.52779897 0.52407336 0.53295757\n",
            " 0.53419944 0.53649216 0.48070307 0.48108521 0.46054643 0.46045086\n",
            " 0.46264808 0.46933513 0.46666026 0.46799769 0.46990828 0.46532289\n",
            " 0.45252195 0.45328617 0.43991208 0.43532669 0.43198316 0.41870463\n",
            " 0.43484904 0.43685519 0.44239587 0.45548339 0.44487961 0.44784105\n",
            " 0.44850971 0.4447841  0.43733283 0.43972106 0.45987771 0.46226594\n",
            " 0.45548339 0.44401988 0.43570883 0.41612533 0.40437525 0.40982037\n",
            " 0.41860907 0.418418   0.42118837 0.43303402 0.42414975 0.42767411\n",
            " 0.43214566 0.43567669 0.43877491 0.44170147 0.44453955 0.44729301\n",
            " 0.4499467  0.45248935 0.45491752 0.45723423 0.45944494 0.46155608\n",
            " 0.46357307 0.4655017  0.46734625 0.46911088]\n",
            "17 day output [[0.4707994]]\n",
            "18 day input [0.43217423 0.45080243 0.45366831 0.47678639 0.47812377 0.4980894\n",
            " 0.47181886 0.48872755 0.51041269 0.47602217 0.46312573 0.47344287\n",
            " 0.47105464 0.47755062 0.47802826 0.48395109 0.48423766 0.48423766\n",
            " 0.48299579 0.49235765 0.49742068 0.51518916 0.5353458  0.54919754\n",
            " 0.53123806 0.53391286 0.54537637 0.55531143 0.54910203 0.54270156\n",
            " 0.53563238 0.51987005 0.51394723 0.52082535 0.51576231 0.51461595\n",
            " 0.52416887 0.5301872  0.52779897 0.52407336 0.53295757 0.53419944\n",
            " 0.53649216 0.48070307 0.48108521 0.46054643 0.46045086 0.46264808\n",
            " 0.46933513 0.46666026 0.46799769 0.46990828 0.46532289 0.45252195\n",
            " 0.45328617 0.43991208 0.43532669 0.43198316 0.41870463 0.43484904\n",
            " 0.43685519 0.44239587 0.45548339 0.44487961 0.44784105 0.44850971\n",
            " 0.4447841  0.43733283 0.43972106 0.45987771 0.46226594 0.45548339\n",
            " 0.44401988 0.43570883 0.41612533 0.40437525 0.40982037 0.41860907\n",
            " 0.418418   0.42118837 0.43303402 0.42414975 0.42767411 0.43214566\n",
            " 0.43567669 0.43877491 0.44170147 0.44453955 0.44729301 0.4499467\n",
            " 0.45248935 0.45491752 0.45723423 0.45944494 0.46155608 0.46357307\n",
            " 0.4655017  0.46734625 0.46911088 0.47079939]\n",
            "18 day output [[0.4724154]]\n",
            "19 day input [0.45080243 0.45366831 0.47678639 0.47812377 0.4980894  0.47181886\n",
            " 0.48872755 0.51041269 0.47602217 0.46312573 0.47344287 0.47105464\n",
            " 0.47755062 0.47802826 0.48395109 0.48423766 0.48423766 0.48299579\n",
            " 0.49235765 0.49742068 0.51518916 0.5353458  0.54919754 0.53123806\n",
            " 0.53391286 0.54537637 0.55531143 0.54910203 0.54270156 0.53563238\n",
            " 0.51987005 0.51394723 0.52082535 0.51576231 0.51461595 0.52416887\n",
            " 0.5301872  0.52779897 0.52407336 0.53295757 0.53419944 0.53649216\n",
            " 0.48070307 0.48108521 0.46054643 0.46045086 0.46264808 0.46933513\n",
            " 0.46666026 0.46799769 0.46990828 0.46532289 0.45252195 0.45328617\n",
            " 0.43991208 0.43532669 0.43198316 0.41870463 0.43484904 0.43685519\n",
            " 0.44239587 0.45548339 0.44487961 0.44784105 0.44850971 0.4447841\n",
            " 0.43733283 0.43972106 0.45987771 0.46226594 0.45548339 0.44401988\n",
            " 0.43570883 0.41612533 0.40437525 0.40982037 0.41860907 0.418418\n",
            " 0.42118837 0.43303402 0.42414975 0.42767411 0.43214566 0.43567669\n",
            " 0.43877491 0.44170147 0.44453955 0.44729301 0.4499467  0.45248935\n",
            " 0.45491752 0.45723423 0.45944494 0.46155608 0.46357307 0.4655017\n",
            " 0.46734625 0.46911088 0.47079939 0.47241539]\n",
            "19 day output [[0.47396275]]\n",
            "20 day input [0.45366831 0.47678639 0.47812377 0.4980894  0.47181886 0.48872755\n",
            " 0.51041269 0.47602217 0.46312573 0.47344287 0.47105464 0.47755062\n",
            " 0.47802826 0.48395109 0.48423766 0.48423766 0.48299579 0.49235765\n",
            " 0.49742068 0.51518916 0.5353458  0.54919754 0.53123806 0.53391286\n",
            " 0.54537637 0.55531143 0.54910203 0.54270156 0.53563238 0.51987005\n",
            " 0.51394723 0.52082535 0.51576231 0.51461595 0.52416887 0.5301872\n",
            " 0.52779897 0.52407336 0.53295757 0.53419944 0.53649216 0.48070307\n",
            " 0.48108521 0.46054643 0.46045086 0.46264808 0.46933513 0.46666026\n",
            " 0.46799769 0.46990828 0.46532289 0.45252195 0.45328617 0.43991208\n",
            " 0.43532669 0.43198316 0.41870463 0.43484904 0.43685519 0.44239587\n",
            " 0.45548339 0.44487961 0.44784105 0.44850971 0.4447841  0.43733283\n",
            " 0.43972106 0.45987771 0.46226594 0.45548339 0.44401988 0.43570883\n",
            " 0.41612533 0.40437525 0.40982037 0.41860907 0.418418   0.42118837\n",
            " 0.43303402 0.42414975 0.42767411 0.43214566 0.43567669 0.43877491\n",
            " 0.44170147 0.44453955 0.44729301 0.4499467  0.45248935 0.45491752\n",
            " 0.45723423 0.45944494 0.46155608 0.46357307 0.4655017  0.46734625\n",
            " 0.46911088 0.47079939 0.47241539 0.47396275]\n",
            "20 day output [[0.47544545]]\n",
            "21 day input [0.47678639 0.47812377 0.4980894  0.47181886 0.48872755 0.51041269\n",
            " 0.47602217 0.46312573 0.47344287 0.47105464 0.47755062 0.47802826\n",
            " 0.48395109 0.48423766 0.48423766 0.48299579 0.49235765 0.49742068\n",
            " 0.51518916 0.5353458  0.54919754 0.53123806 0.53391286 0.54537637\n",
            " 0.55531143 0.54910203 0.54270156 0.53563238 0.51987005 0.51394723\n",
            " 0.52082535 0.51576231 0.51461595 0.52416887 0.5301872  0.52779897\n",
            " 0.52407336 0.53295757 0.53419944 0.53649216 0.48070307 0.48108521\n",
            " 0.46054643 0.46045086 0.46264808 0.46933513 0.46666026 0.46799769\n",
            " 0.46990828 0.46532289 0.45252195 0.45328617 0.43991208 0.43532669\n",
            " 0.43198316 0.41870463 0.43484904 0.43685519 0.44239587 0.45548339\n",
            " 0.44487961 0.44784105 0.44850971 0.4447841  0.43733283 0.43972106\n",
            " 0.45987771 0.46226594 0.45548339 0.44401988 0.43570883 0.41612533\n",
            " 0.40437525 0.40982037 0.41860907 0.418418   0.42118837 0.43303402\n",
            " 0.42414975 0.42767411 0.43214566 0.43567669 0.43877491 0.44170147\n",
            " 0.44453955 0.44729301 0.4499467  0.45248935 0.45491752 0.45723423\n",
            " 0.45944494 0.46155608 0.46357307 0.4655017  0.46734625 0.46911088\n",
            " 0.47079939 0.47241539 0.47396275 0.47544545]\n",
            "21 day output [[0.4768683]]\n",
            "22 day input [0.47812377 0.4980894  0.47181886 0.48872755 0.51041269 0.47602217\n",
            " 0.46312573 0.47344287 0.47105464 0.47755062 0.47802826 0.48395109\n",
            " 0.48423766 0.48423766 0.48299579 0.49235765 0.49742068 0.51518916\n",
            " 0.5353458  0.54919754 0.53123806 0.53391286 0.54537637 0.55531143\n",
            " 0.54910203 0.54270156 0.53563238 0.51987005 0.51394723 0.52082535\n",
            " 0.51576231 0.51461595 0.52416887 0.5301872  0.52779897 0.52407336\n",
            " 0.53295757 0.53419944 0.53649216 0.48070307 0.48108521 0.46054643\n",
            " 0.46045086 0.46264808 0.46933513 0.46666026 0.46799769 0.46990828\n",
            " 0.46532289 0.45252195 0.45328617 0.43991208 0.43532669 0.43198316\n",
            " 0.41870463 0.43484904 0.43685519 0.44239587 0.45548339 0.44487961\n",
            " 0.44784105 0.44850971 0.4447841  0.43733283 0.43972106 0.45987771\n",
            " 0.46226594 0.45548339 0.44401988 0.43570883 0.41612533 0.40437525\n",
            " 0.40982037 0.41860907 0.418418   0.42118837 0.43303402 0.42414975\n",
            " 0.42767411 0.43214566 0.43567669 0.43877491 0.44170147 0.44453955\n",
            " 0.44729301 0.4499467  0.45248935 0.45491752 0.45723423 0.45944494\n",
            " 0.46155608 0.46357307 0.4655017  0.46734625 0.46911088 0.47079939\n",
            " 0.47241539 0.47396275 0.47544545 0.4768683 ]\n",
            "22 day output [[0.47823602]]\n",
            "23 day input [0.4980894  0.47181886 0.48872755 0.51041269 0.47602217 0.46312573\n",
            " 0.47344287 0.47105464 0.47755062 0.47802826 0.48395109 0.48423766\n",
            " 0.48423766 0.48299579 0.49235765 0.49742068 0.51518916 0.5353458\n",
            " 0.54919754 0.53123806 0.53391286 0.54537637 0.55531143 0.54910203\n",
            " 0.54270156 0.53563238 0.51987005 0.51394723 0.52082535 0.51576231\n",
            " 0.51461595 0.52416887 0.5301872  0.52779897 0.52407336 0.53295757\n",
            " 0.53419944 0.53649216 0.48070307 0.48108521 0.46054643 0.46045086\n",
            " 0.46264808 0.46933513 0.46666026 0.46799769 0.46990828 0.46532289\n",
            " 0.45252195 0.45328617 0.43991208 0.43532669 0.43198316 0.41870463\n",
            " 0.43484904 0.43685519 0.44239587 0.45548339 0.44487961 0.44784105\n",
            " 0.44850971 0.4447841  0.43733283 0.43972106 0.45987771 0.46226594\n",
            " 0.45548339 0.44401988 0.43570883 0.41612533 0.40437525 0.40982037\n",
            " 0.41860907 0.418418   0.42118837 0.43303402 0.42414975 0.42767411\n",
            " 0.43214566 0.43567669 0.43877491 0.44170147 0.44453955 0.44729301\n",
            " 0.4499467  0.45248935 0.45491752 0.45723423 0.45944494 0.46155608\n",
            " 0.46357307 0.4655017  0.46734625 0.46911088 0.47079939 0.47241539\n",
            " 0.47396275 0.47544545 0.4768683  0.47823602]\n",
            "23 day output [[0.47955436]]\n",
            "24 day input [0.47181886 0.48872755 0.51041269 0.47602217 0.46312573 0.47344287\n",
            " 0.47105464 0.47755062 0.47802826 0.48395109 0.48423766 0.48423766\n",
            " 0.48299579 0.49235765 0.49742068 0.51518916 0.5353458  0.54919754\n",
            " 0.53123806 0.53391286 0.54537637 0.55531143 0.54910203 0.54270156\n",
            " 0.53563238 0.51987005 0.51394723 0.52082535 0.51576231 0.51461595\n",
            " 0.52416887 0.5301872  0.52779897 0.52407336 0.53295757 0.53419944\n",
            " 0.53649216 0.48070307 0.48108521 0.46054643 0.46045086 0.46264808\n",
            " 0.46933513 0.46666026 0.46799769 0.46990828 0.46532289 0.45252195\n",
            " 0.45328617 0.43991208 0.43532669 0.43198316 0.41870463 0.43484904\n",
            " 0.43685519 0.44239587 0.45548339 0.44487961 0.44784105 0.44850971\n",
            " 0.4447841  0.43733283 0.43972106 0.45987771 0.46226594 0.45548339\n",
            " 0.44401988 0.43570883 0.41612533 0.40437525 0.40982037 0.41860907\n",
            " 0.418418   0.42118837 0.43303402 0.42414975 0.42767411 0.43214566\n",
            " 0.43567669 0.43877491 0.44170147 0.44453955 0.44729301 0.4499467\n",
            " 0.45248935 0.45491752 0.45723423 0.45944494 0.46155608 0.46357307\n",
            " 0.4655017  0.46734625 0.46911088 0.47079939 0.47241539 0.47396275\n",
            " 0.47544545 0.4768683  0.47823602 0.47955436]\n",
            "24 day output [[0.48082897]]\n",
            "25 day input [0.48872755 0.51041269 0.47602217 0.46312573 0.47344287 0.47105464\n",
            " 0.47755062 0.47802826 0.48395109 0.48423766 0.48423766 0.48299579\n",
            " 0.49235765 0.49742068 0.51518916 0.5353458  0.54919754 0.53123806\n",
            " 0.53391286 0.54537637 0.55531143 0.54910203 0.54270156 0.53563238\n",
            " 0.51987005 0.51394723 0.52082535 0.51576231 0.51461595 0.52416887\n",
            " 0.5301872  0.52779897 0.52407336 0.53295757 0.53419944 0.53649216\n",
            " 0.48070307 0.48108521 0.46054643 0.46045086 0.46264808 0.46933513\n",
            " 0.46666026 0.46799769 0.46990828 0.46532289 0.45252195 0.45328617\n",
            " 0.43991208 0.43532669 0.43198316 0.41870463 0.43484904 0.43685519\n",
            " 0.44239587 0.45548339 0.44487961 0.44784105 0.44850971 0.4447841\n",
            " 0.43733283 0.43972106 0.45987771 0.46226594 0.45548339 0.44401988\n",
            " 0.43570883 0.41612533 0.40437525 0.40982037 0.41860907 0.418418\n",
            " 0.42118837 0.43303402 0.42414975 0.42767411 0.43214566 0.43567669\n",
            " 0.43877491 0.44170147 0.44453955 0.44729301 0.4499467  0.45248935\n",
            " 0.45491752 0.45723423 0.45944494 0.46155608 0.46357307 0.4655017\n",
            " 0.46734625 0.46911088 0.47079939 0.47241539 0.47396275 0.47544545\n",
            " 0.4768683  0.47823602 0.47955436 0.48082897]\n",
            "25 day output [[0.48206624]]\n",
            "26 day input [0.51041269 0.47602217 0.46312573 0.47344287 0.47105464 0.47755062\n",
            " 0.47802826 0.48395109 0.48423766 0.48423766 0.48299579 0.49235765\n",
            " 0.49742068 0.51518916 0.5353458  0.54919754 0.53123806 0.53391286\n",
            " 0.54537637 0.55531143 0.54910203 0.54270156 0.53563238 0.51987005\n",
            " 0.51394723 0.52082535 0.51576231 0.51461595 0.52416887 0.5301872\n",
            " 0.52779897 0.52407336 0.53295757 0.53419944 0.53649216 0.48070307\n",
            " 0.48108521 0.46054643 0.46045086 0.46264808 0.46933513 0.46666026\n",
            " 0.46799769 0.46990828 0.46532289 0.45252195 0.45328617 0.43991208\n",
            " 0.43532669 0.43198316 0.41870463 0.43484904 0.43685519 0.44239587\n",
            " 0.45548339 0.44487961 0.44784105 0.44850971 0.4447841  0.43733283\n",
            " 0.43972106 0.45987771 0.46226594 0.45548339 0.44401988 0.43570883\n",
            " 0.41612533 0.40437525 0.40982037 0.41860907 0.418418   0.42118837\n",
            " 0.43303402 0.42414975 0.42767411 0.43214566 0.43567669 0.43877491\n",
            " 0.44170147 0.44453955 0.44729301 0.4499467  0.45248935 0.45491752\n",
            " 0.45723423 0.45944494 0.46155608 0.46357307 0.4655017  0.46734625\n",
            " 0.46911088 0.47079939 0.47241539 0.47396275 0.47544545 0.4768683\n",
            " 0.47823602 0.47955436 0.48082897 0.48206624]\n",
            "26 day output [[0.48327258]]\n",
            "27 day input [0.47602217 0.46312573 0.47344287 0.47105464 0.47755062 0.47802826\n",
            " 0.48395109 0.48423766 0.48423766 0.48299579 0.49235765 0.49742068\n",
            " 0.51518916 0.5353458  0.54919754 0.53123806 0.53391286 0.54537637\n",
            " 0.55531143 0.54910203 0.54270156 0.53563238 0.51987005 0.51394723\n",
            " 0.52082535 0.51576231 0.51461595 0.52416887 0.5301872  0.52779897\n",
            " 0.52407336 0.53295757 0.53419944 0.53649216 0.48070307 0.48108521\n",
            " 0.46054643 0.46045086 0.46264808 0.46933513 0.46666026 0.46799769\n",
            " 0.46990828 0.46532289 0.45252195 0.45328617 0.43991208 0.43532669\n",
            " 0.43198316 0.41870463 0.43484904 0.43685519 0.44239587 0.45548339\n",
            " 0.44487961 0.44784105 0.44850971 0.4447841  0.43733283 0.43972106\n",
            " 0.45987771 0.46226594 0.45548339 0.44401988 0.43570883 0.41612533\n",
            " 0.40437525 0.40982037 0.41860907 0.418418   0.42118837 0.43303402\n",
            " 0.42414975 0.42767411 0.43214566 0.43567669 0.43877491 0.44170147\n",
            " 0.44453955 0.44729301 0.4499467  0.45248935 0.45491752 0.45723423\n",
            " 0.45944494 0.46155608 0.46357307 0.4655017  0.46734625 0.46911088\n",
            " 0.47079939 0.47241539 0.47396275 0.47544545 0.4768683  0.47823602\n",
            " 0.47955436 0.48082897 0.48206624 0.48327258]\n",
            "27 day output [[0.48445475]]\n",
            "28 day input [0.46312573 0.47344287 0.47105464 0.47755062 0.47802826 0.48395109\n",
            " 0.48423766 0.48423766 0.48299579 0.49235765 0.49742068 0.51518916\n",
            " 0.5353458  0.54919754 0.53123806 0.53391286 0.54537637 0.55531143\n",
            " 0.54910203 0.54270156 0.53563238 0.51987005 0.51394723 0.52082535\n",
            " 0.51576231 0.51461595 0.52416887 0.5301872  0.52779897 0.52407336\n",
            " 0.53295757 0.53419944 0.53649216 0.48070307 0.48108521 0.46054643\n",
            " 0.46045086 0.46264808 0.46933513 0.46666026 0.46799769 0.46990828\n",
            " 0.46532289 0.45252195 0.45328617 0.43991208 0.43532669 0.43198316\n",
            " 0.41870463 0.43484904 0.43685519 0.44239587 0.45548339 0.44487961\n",
            " 0.44784105 0.44850971 0.4447841  0.43733283 0.43972106 0.45987771\n",
            " 0.46226594 0.45548339 0.44401988 0.43570883 0.41612533 0.40437525\n",
            " 0.40982037 0.41860907 0.418418   0.42118837 0.43303402 0.42414975\n",
            " 0.42767411 0.43214566 0.43567669 0.43877491 0.44170147 0.44453955\n",
            " 0.44729301 0.4499467  0.45248935 0.45491752 0.45723423 0.45944494\n",
            " 0.46155608 0.46357307 0.4655017  0.46734625 0.46911088 0.47079939\n",
            " 0.47241539 0.47396275 0.47544545 0.4768683  0.47823602 0.47955436\n",
            " 0.48082897 0.48206624 0.48327258 0.48445475]\n",
            "28 day output [[0.48561877]]\n",
            "29 day input [0.47344287 0.47105464 0.47755062 0.47802826 0.48395109 0.48423766\n",
            " 0.48423766 0.48299579 0.49235765 0.49742068 0.51518916 0.5353458\n",
            " 0.54919754 0.53123806 0.53391286 0.54537637 0.55531143 0.54910203\n",
            " 0.54270156 0.53563238 0.51987005 0.51394723 0.52082535 0.51576231\n",
            " 0.51461595 0.52416887 0.5301872  0.52779897 0.52407336 0.53295757\n",
            " 0.53419944 0.53649216 0.48070307 0.48108521 0.46054643 0.46045086\n",
            " 0.46264808 0.46933513 0.46666026 0.46799769 0.46990828 0.46532289\n",
            " 0.45252195 0.45328617 0.43991208 0.43532669 0.43198316 0.41870463\n",
            " 0.43484904 0.43685519 0.44239587 0.45548339 0.44487961 0.44784105\n",
            " 0.44850971 0.4447841  0.43733283 0.43972106 0.45987771 0.46226594\n",
            " 0.45548339 0.44401988 0.43570883 0.41612533 0.40437525 0.40982037\n",
            " 0.41860907 0.418418   0.42118837 0.43303402 0.42414975 0.42767411\n",
            " 0.43214566 0.43567669 0.43877491 0.44170147 0.44453955 0.44729301\n",
            " 0.4499467  0.45248935 0.45491752 0.45723423 0.45944494 0.46155608\n",
            " 0.46357307 0.4655017  0.46734625 0.46911088 0.47079939 0.47241539\n",
            " 0.47396275 0.47544545 0.4768683  0.47823602 0.47955436 0.48082897\n",
            " 0.48206624 0.48327258 0.48445475 0.48561877]\n",
            "29 day output [[0.4867714]]\n",
            "[[0.4276741147041321], [0.4321456551551819], [0.4356766939163208], [0.4387749135494232], [0.4417014718055725], [0.44453954696655273], [0.4472930133342743], [0.44994670152664185], [0.45248934626579285], [0.4549175202846527], [0.4572342336177826], [0.45944494009017944], [0.461556077003479], [0.46357306838035583], [0.46550169587135315], [0.4673462510108948], [0.4691108763217926], [0.47079938650131226], [0.47241538763046265], [0.4739627540111542], [0.4754454493522644], [0.47686830163002014], [0.47823601961135864], [0.47955435514450073], [0.4808289706707001], [0.48206624388694763], [0.48327258229255676], [0.4844547510147095], [0.4856187701225281], [0.4867714047431946]]\n"
          ]
        }
      ]
    },
    {
      "cell_type": "code",
      "metadata": {
        "id": "IlnftgYC09yG"
      },
      "source": [
        "day_new=np.arange(1,101)\n",
        "day_pred=np.arange(101,131)"
      ],
      "execution_count": 48,
      "outputs": []
    },
    {
      "cell_type": "code",
      "metadata": {
        "id": "bze8nU5i097V"
      },
      "source": [
        "import matplotlib.pyplot as plt"
      ],
      "execution_count": 49,
      "outputs": []
    },
    {
      "cell_type": "code",
      "metadata": {
        "colab": {
          "base_uri": "https://localhost:8080/"
        },
        "id": "VRcB21k71G4L",
        "outputId": "57cc8279-a03c-481a-e09b-4615c57fb5d7"
      },
      "source": [
        "len(df1)"
      ],
      "execution_count": 50,
      "outputs": [
        {
          "output_type": "execute_result",
          "data": {
            "text/plain": [
              "1231"
            ]
          },
          "metadata": {},
          "execution_count": 50
        }
      ]
    },
    {
      "cell_type": "code",
      "metadata": {
        "colab": {
          "base_uri": "https://localhost:8080/",
          "height": 469
        },
        "id": "TEVjz_Qy1Jec",
        "outputId": "deff39d7-4ab6-4e02-f47f-8358e448172a"
      },
      "source": [
        "plt.plot(day_new,scaler.inverse_transform(df1[1131:]))\n",
        "plt.plot(day_pred,scaler.inverse_transform(lst_output))\n",
        "plt.title('Tata Motors Prediction of Next 30 Days')"
      ],
      "execution_count": 51,
      "outputs": [
        {
          "output_type": "execute_result",
          "data": {
            "text/plain": [
              "Text(0.5, 1.0, 'Tata Motors Prediction of Next 30 Days')"
            ]
          },
          "metadata": {},
          "execution_count": 51
        },
        {
          "output_type": "display_data",
          "data": {
            "image/png": "[encoded data removed]",
            "text/plain": [
              "<Figure size 640x480 with 1 Axes>"
            ]
          },
          "metadata": {}
        }
      ]
    },
    {
      "cell_type": "code",
      "metadata": {
        "colab": {
          "base_uri": "https://localhost:8080/",
          "height": 447
        },
        "id": "ESp1lp3R1LfH",
        "outputId": "59ae97f0-15a9-4529-d445-c63b77fc45bb"
      },
      "source": [
        "df3=df1.tolist()\n",
        "df3.extend(lst_output)\n",
        "plt.plot(df3[1000:])"
      ],
      "execution_count": 52,
      "outputs": [
        {
          "output_type": "execute_result",
          "data": {
            "text/plain": [
              "[<matplotlib.lines.Line2D at 0x7fc068867e50>]"
            ]
          },
          "metadata": {},
          "execution_count": 52
        },
        {
          "output_type": "display_data",
          "data": {
            "image/png": "[encoded data removed]",
            "text/plain": [
              "<Figure size 640x480 with 1 Axes>"
            ]
          },
          "metadata": {}
        }
      ]
    }
  ]
}