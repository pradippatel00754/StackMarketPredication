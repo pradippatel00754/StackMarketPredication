{
  "nbformat": 4,
  "nbformat_minor": 0,
  "metadata": {
    "colab": {
      "name": "Bajaj:.ipynb",
      "provenance": [],
      "collapsed_sections": []
    },
    "kernelspec": {
      "name": "python3",
      "display_name": "Python 3"
    },
    "language_info": {
      "name": "python"
    }
  },
  "cells": [
    {
      "cell_type": "code",
      "metadata": {
        "colab": {
          "base_uri": "https://localhost:8080/"
        },
        "id": "nR34pB3lsVC8",
        "outputId": "6e60d13f-eadc-465b-8ea8-307e577285df"
      },
      "source": [
        "import os\n",
        "os.getcwd()\n",
        "from google.colab import drive\n",
        "drive.mount('/content/gdrive')\n",
        "os.chdir('/content/gdrive/My Drive')"
      ],
      "execution_count": null,
      "outputs": [
        {
          "output_type": "stream",
          "name": "stdout",
          "text": [
            "Mounted at /content/gdrive\n"
          ]
        }
      ]
    },
    {
      "cell_type": "code",
      "metadata": {
        "id": "j7NsICtPsY25"
      },
      "source": [
        "import pandas as pd\n",
        "import numpy as np\n",
        "import matplotlib.pyplot as plt\n",
        "import seaborn as sns\n",
        "import warnings\n",
        "warnings.filterwarnings(\"ignore\")\n",
        "\n",
        "FileName = 'BAJFINANCE.NS.csv'\n",
        "Bajaj=pd.read_csv(FileName)"
      ],
      "execution_count": null,
      "outputs": []
    },
    {
      "cell_type": "code",
      "metadata": {
        "colab": {
          "base_uri": "https://localhost:8080/",
          "height": 204
        },
        "id": "VHqN5qxmsdtL",
        "outputId": "e507b939-5e75-46ec-a15b-ce9605271044"
      },
      "source": [
        "Bajaj.head()"
      ],
      "execution_count": null,
      "outputs": [
        {
          "output_type": "execute_result",
          "data": {
            "text/html": [
              "<div>\n",
              "<style scoped>\n",
              "    .dataframe tbody tr th:only-of-type {\n",
              "        vertical-align: middle;\n",
              "    }\n",
              "\n",
              "    .dataframe tbody tr th {\n",
              "        vertical-align: top;\n",
              "    }\n",
              "\n",
              "    .dataframe thead th {\n",
              "        text-align: right;\n",
              "    }\n",
              "</style>\n",
              "<table border=\"1\" class=\"dataframe\">\n",
              "  <thead>\n",
              "    <tr style=\"text-align: right;\">\n",
              "      <th></th>\n",
              "      <th>Date</th>\n",
              "      <th>Open</th>\n",
              "      <th>High</th>\n",
              "      <th>Low</th>\n",
              "      <th>Close</th>\n",
              "      <th>Adj Close</th>\n",
              "      <th>Volume</th>\n",
              "    </tr>\n",
              "  </thead>\n",
              "  <tbody>\n",
              "    <tr>\n",
              "      <th>0</th>\n",
              "      <td>01/07/2002</td>\n",
              "      <td>5.239737</td>\n",
              "      <td>5.540927</td>\n",
              "      <td>5.239737</td>\n",
              "      <td>5.412679</td>\n",
              "      <td>4.001257</td>\n",
              "      <td>21923</td>\n",
              "    </tr>\n",
              "    <tr>\n",
              "      <th>1</th>\n",
              "      <td>02/07/2002</td>\n",
              "      <td>5.523439</td>\n",
              "      <td>5.537041</td>\n",
              "      <td>5.421423</td>\n",
              "      <td>5.443769</td>\n",
              "      <td>4.024240</td>\n",
              "      <td>61044</td>\n",
              "    </tr>\n",
              "    <tr>\n",
              "      <th>2</th>\n",
              "      <td>03/07/2002</td>\n",
              "      <td>5.505950</td>\n",
              "      <td>5.545785</td>\n",
              "      <td>5.328151</td>\n",
              "      <td>5.466116</td>\n",
              "      <td>4.040759</td>\n",
              "      <td>34160</td>\n",
              "    </tr>\n",
              "    <tr>\n",
              "      <th>3</th>\n",
              "      <td>04/07/2002</td>\n",
              "      <td>5.501093</td>\n",
              "      <td>5.572018</td>\n",
              "      <td>5.417537</td>\n",
              "      <td>5.528297</td>\n",
              "      <td>4.086726</td>\n",
              "      <td>27892</td>\n",
              "    </tr>\n",
              "    <tr>\n",
              "      <th>4</th>\n",
              "      <td>05/07/2002</td>\n",
              "      <td>5.563274</td>\n",
              "      <td>5.656546</td>\n",
              "      <td>5.474860</td>\n",
              "      <td>5.590478</td>\n",
              "      <td>4.132694</td>\n",
              "      <td>58976</td>\n",
              "    </tr>\n",
              "  </tbody>\n",
              "</table>\n",
              "</div>"
            ],
            "text/plain": [
              "         Date      Open      High       Low     Close  Adj Close  Volume\n",
              "0  01/07/2002  5.239737  5.540927  5.239737  5.412679   4.001257   21923\n",
              "1  02/07/2002  5.523439  5.537041  5.421423  5.443769   4.024240   61044\n",
              "2  03/07/2002  5.505950  5.545785  5.328151  5.466116   4.040759   34160\n",
              "3  04/07/2002  5.501093  5.572018  5.417537  5.528297   4.086726   27892\n",
              "4  05/07/2002  5.563274  5.656546  5.474860  5.590478   4.132694   58976"
            ]
          },
          "metadata": {},
          "execution_count": 3
        }
      ]
    },
    {
      "cell_type": "code",
      "metadata": {
        "colab": {
          "base_uri": "https://localhost:8080/",
          "height": 204
        },
        "id": "8RFQUgbQsliu",
        "outputId": "0c309198-c73f-4c35-9c90-d96c31709bd6"
      },
      "source": [
        "Bajaj.tail()"
      ],
      "execution_count": null,
      "outputs": [
        {
          "output_type": "execute_result",
          "data": {
            "text/html": [
              "<div>\n",
              "<style scoped>\n",
              "    .dataframe tbody tr th:only-of-type {\n",
              "        vertical-align: middle;\n",
              "    }\n",
              "\n",
              "    .dataframe tbody tr th {\n",
              "        vertical-align: top;\n",
              "    }\n",
              "\n",
              "    .dataframe thead th {\n",
              "        text-align: right;\n",
              "    }\n",
              "</style>\n",
              "<table border=\"1\" class=\"dataframe\">\n",
              "  <thead>\n",
              "    <tr style=\"text-align: right;\">\n",
              "      <th></th>\n",
              "      <th>Date</th>\n",
              "      <th>Open</th>\n",
              "      <th>High</th>\n",
              "      <th>Low</th>\n",
              "      <th>Close</th>\n",
              "      <th>Adj Close</th>\n",
              "      <th>Volume</th>\n",
              "    </tr>\n",
              "  </thead>\n",
              "  <tbody>\n",
              "    <tr>\n",
              "      <th>4749</th>\n",
              "      <td>23/08/2021</td>\n",
              "      <td>6740.0</td>\n",
              "      <td>6819.500000</td>\n",
              "      <td>6697.000000</td>\n",
              "      <td>6752.200195</td>\n",
              "      <td>6752.200195</td>\n",
              "      <td>1738340</td>\n",
              "    </tr>\n",
              "    <tr>\n",
              "      <th>4750</th>\n",
              "      <td>24/08/2021</td>\n",
              "      <td>6775.0</td>\n",
              "      <td>7049.000000</td>\n",
              "      <td>6727.950195</td>\n",
              "      <td>6980.100098</td>\n",
              "      <td>6980.100098</td>\n",
              "      <td>2622990</td>\n",
              "    </tr>\n",
              "    <tr>\n",
              "      <th>4751</th>\n",
              "      <td>25/08/2021</td>\n",
              "      <td>7005.0</td>\n",
              "      <td>7054.000000</td>\n",
              "      <td>6921.000000</td>\n",
              "      <td>6944.950195</td>\n",
              "      <td>6944.950195</td>\n",
              "      <td>1509667</td>\n",
              "    </tr>\n",
              "    <tr>\n",
              "      <th>4752</th>\n",
              "      <td>26/08/2021</td>\n",
              "      <td>6900.0</td>\n",
              "      <td>6993.250000</td>\n",
              "      <td>6855.000000</td>\n",
              "      <td>6931.950195</td>\n",
              "      <td>6931.950195</td>\n",
              "      <td>1234588</td>\n",
              "    </tr>\n",
              "    <tr>\n",
              "      <th>4753</th>\n",
              "      <td>27/08/2021</td>\n",
              "      <td>6950.0</td>\n",
              "      <td>7024.350098</td>\n",
              "      <td>6872.000000</td>\n",
              "      <td>6966.600098</td>\n",
              "      <td>6966.600098</td>\n",
              "      <td>935906</td>\n",
              "    </tr>\n",
              "  </tbody>\n",
              "</table>\n",
              "</div>"
            ],
            "text/plain": [
              "            Date    Open         High  ...        Close    Adj Close   Volume\n",
              "4749  23/08/2021  6740.0  6819.500000  ...  6752.200195  6752.200195  1738340\n",
              "4750  24/08/2021  6775.0  7049.000000  ...  6980.100098  6980.100098  2622990\n",
              "4751  25/08/2021  7005.0  7054.000000  ...  6944.950195  6944.950195  1509667\n",
              "4752  26/08/2021  6900.0  6993.250000  ...  6931.950195  6931.950195  1234588\n",
              "4753  27/08/2021  6950.0  7024.350098  ...  6966.600098  6966.600098   935906\n",
              "\n",
              "[5 rows x 7 columns]"
            ]
          },
          "metadata": {},
          "execution_count": 4
        }
      ]
    },
    {
      "cell_type": "code",
      "metadata": {
        "id": "rEZ7LUoQstCX"
      },
      "source": [
        "df1=Bajaj.reset_index()['Close']"
      ],
      "execution_count": null,
      "outputs": []
    },
    {
      "cell_type": "code",
      "metadata": {
        "colab": {
          "base_uri": "https://localhost:8080/"
        },
        "id": "6QiqnOOIs_9e",
        "outputId": "0ad288e3-4431-4f17-befc-f52a37d63fc8"
      },
      "source": [
        "df1.shape"
      ],
      "execution_count": null,
      "outputs": [
        {
          "output_type": "execute_result",
          "data": {
            "text/plain": [
              "(4754,)"
            ]
          },
          "metadata": {},
          "execution_count": 6
        }
      ]
    },
    {
      "cell_type": "code",
      "metadata": {
        "colab": {
          "base_uri": "https://localhost:8080/"
        },
        "id": "bGBroGQVtHM8",
        "outputId": "3755ee60-4b4c-4537-beca-753c2fddb793"
      },
      "source": [
        "df1"
      ],
      "execution_count": null,
      "outputs": [
        {
          "output_type": "execute_result",
          "data": {
            "text/plain": [
              "0          5.412679\n",
              "1          5.443769\n",
              "2          5.466116\n",
              "3          5.528297\n",
              "4          5.590478\n",
              "           ...     \n",
              "4749    6752.200195\n",
              "4750    6980.100098\n",
              "4751    6944.950195\n",
              "4752    6931.950195\n",
              "4753    6966.600098\n",
              "Name: Close, Length: 4754, dtype: float64"
            ]
          },
          "metadata": {},
          "execution_count": 7
        }
      ]
    },
    {
      "cell_type": "code",
      "metadata": {
        "colab": {
          "base_uri": "https://localhost:8080/",
          "height": 407
        },
        "id": "86bXNskKtJcq",
        "outputId": "b17df3ad-b008-4356-e149-67c00841a7b5"
      },
      "source": [
        "import matplotlib.pyplot as plt\n",
        "plt.figure(figsize=(20,6))\n",
        "plt.title('Bajaj Share Price of 2002 - 2021')\n",
        "plt.plot(df1)"
      ],
      "execution_count": null,
      "outputs": [
        {
          "output_type": "execute_result",
          "data": {
            "text/plain": [
              "[<matplotlib.lines.Line2D at 0x7f76fb5be610>]"
            ]
          },
          "metadata": {},
          "execution_count": 8
        },
        {
          "output_type": "display_data",
          "data": {
            "image/png": "[encoded data removed]",
            "text/plain": [
              "<Figure size 1440x432 with 1 Axes>"
            ]
          },
          "metadata": {
            "needs_background": "light"
          }
        }
      ]
    },
    {
      "cell_type": "code",
      "metadata": {
        "colab": {
          "base_uri": "https://localhost:8080/"
        },
        "id": "klZoAyKQZXNh",
        "outputId": "4f27657f-12e5-45d2-ae53-403610d42a80"
      },
      "source": [
        "Bajaj.Date = pd.to_datetime(Bajaj.Date)\n",
        "Bajaj.info()"
      ],
      "execution_count": null,
      "outputs": [
        {
          "output_type": "stream",
          "name": "stdout",
          "text": [
            "<class 'pandas.core.frame.DataFrame'>\n",
            "RangeIndex: 4754 entries, 0 to 4753\n",
            "Data columns (total 7 columns):\n",
            " #   Column     Non-Null Count  Dtype         \n",
            "---  ------     --------------  -----         \n",
            " 0   Date       4754 non-null   datetime64[ns]\n",
            " 1   Open       4754 non-null   float64       \n",
            " 2   High       4754 non-null   float64       \n",
            " 3   Low        4754 non-null   float64       \n",
            " 4   Close      4754 non-null   float64       \n",
            " 5   Adj Close  4754 non-null   float64       \n",
            " 6   Volume     4754 non-null   int64         \n",
            "dtypes: datetime64[ns](1), float64(5), int64(1)\n",
            "memory usage: 260.1 KB\n"
          ]
        }
      ]
    },
    {
      "cell_type": "code",
      "metadata": {
        "id": "bL3PCGzQZXgO"
      },
      "source": [
        "Bajaj = Bajaj.set_index('Date')"
      ],
      "execution_count": null,
      "outputs": []
    },
    {
      "cell_type": "code",
      "metadata": {
        "colab": {
          "base_uri": "https://localhost:8080/"
        },
        "id": "0386Bg7RZXqA",
        "outputId": "da014be7-4492-41c7-e5e2-f61b3ecc3636"
      },
      "source": [
        "pip install https://github.com/matplotlib/mpl_finance/archive/master.zip"
      ],
      "execution_count": null,
      "outputs": [
        {
          "output_type": "stream",
          "name": "stdout",
          "text": [
            "Collecting https://github.com/matplotlib/mpl_finance/archive/master.zip\n",
            "  Downloading https://github.com/matplotlib/mpl_finance/archive/master.zip (306 kB)\n",
            "\u001b[?25l\r\u001b[K     |█                               | 10 kB 25.6 MB/s eta 0:00:01\r\u001b[K     |██▏                             | 20 kB 31.0 MB/s eta 0:00:01\r\u001b[K     |███▏                            | 30 kB 35.4 MB/s eta 0:00:01\r\u001b[K     |████▎                           | 40 kB 35.8 MB/s eta 0:00:01\r\u001b[K     |█████▍                          | 51 kB 37.1 MB/s eta 0:00:01\r\u001b[K     |██████▍                         | 61 kB 39.5 MB/s eta 0:00:01\r\u001b[K     |███████▌                        | 71 kB 39.3 MB/s eta 0:00:01\r\u001b[K     |████████▋                       | 81 kB 37.5 MB/s eta 0:00:01\r\u001b[K     |█████████▋                      | 92 kB 37.3 MB/s eta 0:00:01\r\u001b[K     |██████████▊                     | 102 kB 37.5 MB/s eta 0:00:01\r\u001b[K     |███████████▉                    | 112 kB 37.5 MB/s eta 0:00:01\r\u001b[K     |████████████▉                   | 122 kB 37.5 MB/s eta 0:00:01\r\u001b[K     |██████████████                  | 133 kB 37.5 MB/s eta 0:00:01\r\u001b[K     |███████████████                 | 143 kB 37.5 MB/s eta 0:00:01\r\u001b[K     |████████████████                | 153 kB 37.5 MB/s eta 0:00:01\r\u001b[K     |█████████████████▏              | 163 kB 37.5 MB/s eta 0:00:01\r\u001b[K     |██████████████████▏             | 174 kB 37.5 MB/s eta 0:00:01\r\u001b[K     |███████████████████▎            | 184 kB 37.5 MB/s eta 0:00:01\r\u001b[K     |████████████████████▍           | 194 kB 37.5 MB/s eta 0:00:01\r\u001b[K     |█████████████████████▍          | 204 kB 37.5 MB/s eta 0:00:01\r\u001b[K     |██████████████████████▌         | 215 kB 37.5 MB/s eta 0:00:01\r\u001b[K     |███████████████████████▋        | 225 kB 37.5 MB/s eta 0:00:01\r\u001b[K     |████████████████████████▋       | 235 kB 37.5 MB/s eta 0:00:01\r\u001b[K     |█████████████████████████▊      | 245 kB 37.5 MB/s eta 0:00:01\r\u001b[K     |██████████████████████████▊     | 256 kB 37.5 MB/s eta 0:00:01\r\u001b[K     |███████████████████████████▉    | 266 kB 37.5 MB/s eta 0:00:01\r\u001b[K     |█████████████████████████████   | 276 kB 37.5 MB/s eta 0:00:01\r\u001b[K     |██████████████████████████████  | 286 kB 37.5 MB/s eta 0:00:01\r\u001b[K     |███████████████████████████████ | 296 kB 37.5 MB/s eta 0:00:01\r\u001b[K     |████████████████████████████████| 306 kB 37.5 MB/s \n",
            "\u001b[?25hRequirement already satisfied: matplotlib in /usr/local/lib/python3.7/dist-packages (from mpl-finance==0.10.1) (3.2.2)\n",
            "Requirement already satisfied: python-dateutil>=2.1 in /usr/local/lib/python3.7/dist-packages (from matplotlib->mpl-finance==0.10.1) (2.8.2)\n",
            "Requirement already satisfied: kiwisolver>=1.0.1 in /usr/local/lib/python3.7/dist-packages (from matplotlib->mpl-finance==0.10.1) (1.3.1)\n",
            "Requirement already satisfied: numpy>=1.11 in /usr/local/lib/python3.7/dist-packages (from matplotlib->mpl-finance==0.10.1) (1.19.5)\n",
            "Requirement already satisfied: pyparsing!=2.0.4,!=2.1.2,!=2.1.6,>=2.0.1 in /usr/local/lib/python3.7/dist-packages (from matplotlib->mpl-finance==0.10.1) (2.4.7)\n",
            "Requirement already satisfied: cycler>=0.10 in /usr/local/lib/python3.7/dist-packages (from matplotlib->mpl-finance==0.10.1) (0.10.0)\n",
            "Requirement already satisfied: six in /usr/local/lib/python3.7/dist-packages (from cycler>=0.10->matplotlib->mpl-finance==0.10.1) (1.15.0)\n",
            "Building wheels for collected packages: mpl-finance\n",
            "  Building wheel for mpl-finance (setup.py) ... \u001b[?25l\u001b[?25hdone\n",
            "  Created wheel for mpl-finance: filename=mpl_finance-0.10.1-py3-none-any.whl size=8435 sha256=5b9b31b8fe61cbe8297938bb766d5de0b78cc50a84db84303fe64b9feb333496\n",
            "  Stored in directory: /tmp/pip-ephem-wheel-cache-k540mwkt/wheels/eb/17/99/0f3929e635912eb25fc346aaf43b4ee3da4a80dee8ce3d2e4f\n",
            "Successfully built mpl-finance\n",
            "Installing collected packages: mpl-finance\n",
            "Successfully installed mpl-finance-0.10.1\n"
          ]
        }
      ]
    },
    {
      "cell_type": "code",
      "metadata": {
        "colab": {
          "base_uri": "https://localhost:8080/"
        },
        "id": "JdPoMkP8ZXyA",
        "outputId": "3a24d3a8-7f7e-435d-e1f9-15e21695e9d3"
      },
      "source": [
        "pip install --upgrade mplfinance"
      ],
      "execution_count": null,
      "outputs": [
        {
          "output_type": "stream",
          "name": "stdout",
          "text": [
            "Collecting mplfinance\n",
            "  Downloading mplfinance-0.12.7a17-py3-none-any.whl (62 kB)\n",
            "\u001b[?25l\r\u001b[K     |█████▎                          | 10 kB 21.0 MB/s eta 0:00:01\r\u001b[K     |██████████▌                     | 20 kB 26.2 MB/s eta 0:00:01\r\u001b[K     |███████████████▊                | 30 kB 31.2 MB/s eta 0:00:01\r\u001b[K     |█████████████████████           | 40 kB 35.0 MB/s eta 0:00:01\r\u001b[K     |██████████████████████████▎     | 51 kB 37.3 MB/s eta 0:00:01\r\u001b[K     |███████████████████████████████▌| 61 kB 39.5 MB/s eta 0:00:01\r\u001b[K     |████████████████████████████████| 62 kB 1.0 MB/s \n",
            "\u001b[?25hRequirement already satisfied: pandas in /usr/local/lib/python3.7/dist-packages (from mplfinance) (1.1.5)\n",
            "Requirement already satisfied: matplotlib in /usr/local/lib/python3.7/dist-packages (from mplfinance) (3.2.2)\n",
            "Requirement already satisfied: python-dateutil>=2.1 in /usr/local/lib/python3.7/dist-packages (from matplotlib->mplfinance) (2.8.2)\n",
            "Requirement already satisfied: numpy>=1.11 in /usr/local/lib/python3.7/dist-packages (from matplotlib->mplfinance) (1.19.5)\n",
            "Requirement already satisfied: cycler>=0.10 in /usr/local/lib/python3.7/dist-packages (from matplotlib->mplfinance) (0.10.0)\n",
            "Requirement already satisfied: kiwisolver>=1.0.1 in /usr/local/lib/python3.7/dist-packages (from matplotlib->mplfinance) (1.3.1)\n",
            "Requirement already satisfied: pyparsing!=2.0.4,!=2.1.2,!=2.1.6,>=2.0.1 in /usr/local/lib/python3.7/dist-packages (from matplotlib->mplfinance) (2.4.7)\n",
            "Requirement already satisfied: six in /usr/local/lib/python3.7/dist-packages (from cycler>=0.10->matplotlib->mplfinance) (1.15.0)\n",
            "Requirement already satisfied: pytz>=2017.2 in /usr/local/lib/python3.7/dist-packages (from pandas->mplfinance) (2018.9)\n",
            "Installing collected packages: mplfinance\n",
            "Successfully installed mplfinance-0.12.7a17\n"
          ]
        }
      ]
    },
    {
      "cell_type": "code",
      "metadata": {
        "colab": {
          "base_uri": "https://localhost:8080/",
          "height": 425
        },
        "id": "gNDY8NwvZX6C",
        "outputId": "304bde3e-144e-467e-c1f3-b0ee5fe3d8d1"
      },
      "source": [
        "import mplfinance as mpf\n",
        "mpf.plot(Bajaj['2020'], \n",
        "         type='candle', mav=(20), \n",
        "         volume=True, \n",
        "         title = 'Bajaj Share Price of 2020', \n",
        "         figratio=(20,6), tight_layout = True, \n",
        "         style = 'yahoo')"
      ],
      "execution_count": null,
      "outputs": [
        {
          "output_type": "display_data",
          "data": {
            "image/png": "[encoded data removed]",
            "text/plain": [
              "<Figure size 1916.67x575 with 4 Axes>"
            ]
          },
          "metadata": {}
        }
      ]
    },
    {
      "cell_type": "code",
      "metadata": {
        "id": "KhmzK0wQtjLc"
      },
      "source": [
        "import numpy as np"
      ],
      "execution_count": null,
      "outputs": []
    },
    {
      "cell_type": "code",
      "metadata": {
        "id": "11F8IoZWtpSq"
      },
      "source": [
        "from sklearn.preprocessing import MinMaxScaler\n",
        "scaler = MinMaxScaler(feature_range=(0,1))\n",
        "df1=scaler.fit_transform(np.array(df1).reshape(-1,1))"
      ],
      "execution_count": null,
      "outputs": []
    },
    {
      "cell_type": "code",
      "metadata": {
        "colab": {
          "base_uri": "https://localhost:8080/"
        },
        "id": "yZaN017SuDfy",
        "outputId": "d601be16-6e35-4960-b6c2-ca1d89eb9767"
      },
      "source": [
        "df1"
      ],
      "execution_count": null,
      "outputs": [
        {
          "output_type": "execute_result",
          "data": {
            "text/plain": [
              "array([[1.93312507e-04],\n",
              "       [1.97769192e-04],\n",
              "       [2.00972587e-04],\n",
              "       ...,\n",
              "       [9.94961336e-01],\n",
              "       [9.93097813e-01],\n",
              "       [9.98064804e-01]])"
            ]
          },
          "metadata": {},
          "execution_count": 16
        }
      ]
    },
    {
      "cell_type": "code",
      "metadata": {
        "id": "v8nlDnRtuIUJ"
      },
      "source": [
        "training_size=int(len(df1)*0.75)\n",
        "test_size=len(df1)-training_size\n",
        "train_data,test_data=df1[0:training_size,:],df1[training_size:len(df1),:1]"
      ],
      "execution_count": null,
      "outputs": []
    },
    {
      "cell_type": "code",
      "metadata": {
        "colab": {
          "base_uri": "https://localhost:8080/"
        },
        "id": "7BE7WAuPuhZB",
        "outputId": "cdba002a-ee8e-4d84-e636-47561ae9ef74"
      },
      "source": [
        "training_size, test_size"
      ],
      "execution_count": null,
      "outputs": [
        {
          "output_type": "execute_result",
          "data": {
            "text/plain": [
              "(3565, 1189)"
            ]
          },
          "metadata": {},
          "execution_count": 18
        }
      ]
    },
    {
      "cell_type": "code",
      "metadata": {
        "colab": {
          "base_uri": "https://localhost:8080/"
        },
        "id": "l22HaDOrvDlY",
        "outputId": "a5bf745e-ef5c-4655-8c20-a8b6ee5f4d37"
      },
      "source": [
        "len(train_data), len(test_data)"
      ],
      "execution_count": null,
      "outputs": [
        {
          "output_type": "execute_result",
          "data": {
            "text/plain": [
              "(3565, 1189)"
            ]
          },
          "metadata": {},
          "execution_count": 19
        }
      ]
    },
    {
      "cell_type": "code",
      "metadata": {
        "id": "Wfb3iGg8vNYX"
      },
      "source": [
        "import numpy \n",
        "def create_dataset(dataset, time_step=1):\n",
        "  dataX, dataY = [], []\n",
        "  for i in range (len(dataset)-time_step-1):\n",
        "    a = dataset[i:(i+time_step), 0]\n",
        "    dataX.append(a)\n",
        "    dataY.append(dataset[i + time_step, 0])\n",
        "  return numpy.array(dataX), numpy.array(dataY)"
      ],
      "execution_count": null,
      "outputs": []
    },
    {
      "cell_type": "code",
      "metadata": {
        "id": "HbGS_OF4wMHh"
      },
      "source": [
        "time_step = 100\n",
        "X_train, y_train = create_dataset(train_data, time_step)\n",
        "X_test, y_test = create_dataset(test_data, time_step)"
      ],
      "execution_count": null,
      "outputs": []
    },
    {
      "cell_type": "code",
      "metadata": {
        "colab": {
          "base_uri": "https://localhost:8080/"
        },
        "id": "iKr4-5H0we3U",
        "outputId": "7e63cd8b-e5ab-4ec1-ad23-8a0ebb420334"
      },
      "source": [
        "print(X_train)"
      ],
      "execution_count": null,
      "outputs": [
        {
          "output_type": "stream",
          "name": "stdout",
          "text": [
            "[[1.93312507e-04 1.97769192e-04 2.00972587e-04 ... 1.96376568e-05\n",
            "  1.90804635e-05 0.00000000e+00]\n",
            " [1.97769192e-04 2.00972587e-04 2.09886102e-04 ... 1.90804635e-05\n",
            "  0.00000000e+00 4.45668573e-06]\n",
            " [2.00972587e-04 2.09886102e-04 2.18799617e-04 ... 0.00000000e+00\n",
            "  4.45668573e-06 4.45668573e-06]\n",
            " ...\n",
            " [1.08969602e-01 1.13587558e-01 1.12655797e-01 ... 1.61250004e-01\n",
            "  1.63077689e-01 1.64038131e-01]\n",
            " [1.13587558e-01 1.12655797e-01 1.10857492e-01 ... 1.63077689e-01\n",
            "  1.64038131e-01 1.57788166e-01]\n",
            " [1.12655797e-01 1.10857492e-01 1.09612516e-01 ... 1.64038131e-01\n",
            "  1.57788166e-01 1.53165197e-01]]\n"
          ]
        }
      ]
    },
    {
      "cell_type": "code",
      "metadata": {
        "colab": {
          "base_uri": "https://localhost:8080/"
        },
        "id": "BKBYRqekw6pj",
        "outputId": "4d7f5a28-004a-4839-b4dc-21a350acf635"
      },
      "source": [
        "print(X_train.shape), print(y_train.shape)"
      ],
      "execution_count": null,
      "outputs": [
        {
          "output_type": "stream",
          "name": "stdout",
          "text": [
            "(3464, 100)\n",
            "(3464,)\n"
          ]
        },
        {
          "output_type": "execute_result",
          "data": {
            "text/plain": [
              "(None, None)"
            ]
          },
          "metadata": {},
          "execution_count": 23
        }
      ]
    },
    {
      "cell_type": "code",
      "metadata": {
        "colab": {
          "base_uri": "https://localhost:8080/"
        },
        "id": "_sIswsCTwiMV",
        "outputId": "d9ead13a-2de8-4813-eddc-e275eed49b81"
      },
      "source": [
        "print(X_test.shape), print(y_test.shape)"
      ],
      "execution_count": null,
      "outputs": [
        {
          "output_type": "stream",
          "name": "stdout",
          "text": [
            "(1088, 100)\n",
            "(1088,)\n"
          ]
        },
        {
          "output_type": "execute_result",
          "data": {
            "text/plain": [
              "(None, None)"
            ]
          },
          "metadata": {},
          "execution_count": 24
        }
      ]
    },
    {
      "cell_type": "code",
      "metadata": {
        "id": "2QsJz9xPw92t"
      },
      "source": [
        "X_train =X_train.reshape(X_train.shape[0],X_train.shape[1] , 1)\n",
        "X_test = X_test.reshape(X_test.shape[0],X_test.shape[1] , 1)"
      ],
      "execution_count": null,
      "outputs": []
    },
    {
      "cell_type": "code",
      "metadata": {
        "id": "YY-0K12vytcx"
      },
      "source": [
        "from tensorflow.keras.models import Sequential\n",
        "from tensorflow.keras.layers import Dense\n",
        "from tensorflow.keras.layers import LSTM"
      ],
      "execution_count": null,
      "outputs": []
    },
    {
      "cell_type": "code",
      "metadata": {
        "id": "_V5wKTh7yzKN"
      },
      "source": [
        "model=Sequential()\n",
        "model.add(LSTM(50,return_sequences=True,input_shape=(100,1)))\n",
        "model.add(LSTM(50,return_sequences=True))\n",
        "model.add(LSTM(50))\n",
        "model.add(Dense(1))\n",
        "model.compile(loss='mean_squared_error', optimizer='adam')"
      ],
      "execution_count": null,
      "outputs": []
    },
    {
      "cell_type": "code",
      "metadata": {
        "colab": {
          "base_uri": "https://localhost:8080/"
        },
        "id": "qBPJ3FOXy_H_",
        "outputId": "d7bfa475-7171-46d1-9cd1-80ca67474044"
      },
      "source": [
        "model.summary()"
      ],
      "execution_count": null,
      "outputs": [
        {
          "output_type": "stream",
          "name": "stdout",
          "text": [
            "Model: \"sequential\"\n",
            "_________________________________________________________________\n",
            "Layer (type)                 Output Shape              Param #   \n",
            "=================================================================\n",
            "lstm (LSTM)                  (None, 100, 50)           10400     \n",
            "_________________________________________________________________\n",
            "lstm_1 (LSTM)                (None, 100, 50)           20200     \n",
            "_________________________________________________________________\n",
            "lstm_2 (LSTM)                (None, 50)                20200     \n",
            "_________________________________________________________________\n",
            "dense (Dense)                (None, 1)                 51        \n",
            "=================================================================\n",
            "Total params: 50,851\n",
            "Trainable params: 50,851\n",
            "Non-trainable params: 0\n",
            "_________________________________________________________________\n"
          ]
        }
      ]
    },
    {
      "cell_type": "code",
      "metadata": {
        "colab": {
          "base_uri": "https://localhost:8080/"
        },
        "id": "nVPrvBSvziFh",
        "outputId": "3c7f451a-fb56-4511-efb7-53fdca8b78cf"
      },
      "source": [
        "model.fit(X_train, y_train, validation_data=(X_test, y_test), epochs=100, batch_size=64, verbose=1)"
      ],
      "execution_count": null,
      "outputs": [
        {
          "output_type": "stream",
          "name": "stdout",
          "text": [
            "Epoch 1/100\n",
            "55/55 [==============================] - 15s 190ms/step - loss: 1.4794e-04 - val_loss: 0.0021\n",
            "Epoch 2/100\n",
            "55/55 [==============================] - 9s 168ms/step - loss: 6.0415e-06 - val_loss: 0.0021\n",
            "Epoch 3/100\n",
            "55/55 [==============================] - 9s 171ms/step - loss: 5.1188e-06 - val_loss: 0.0021\n",
            "Epoch 4/100\n",
            "55/55 [==============================] - 9s 170ms/step - loss: 6.2389e-06 - val_loss: 0.0021\n",
            "Epoch 5/100\n",
            "55/55 [==============================] - 9s 171ms/step - loss: 7.6120e-06 - val_loss: 0.0022\n",
            "Epoch 6/100\n",
            "55/55 [==============================] - 9s 172ms/step - loss: 6.0218e-06 - val_loss: 0.0039\n",
            "Epoch 7/100\n",
            "55/55 [==============================] - 9s 170ms/step - loss: 5.7995e-06 - val_loss: 0.0023\n",
            "Epoch 8/100\n",
            "55/55 [==============================] - 9s 170ms/step - loss: 6.6201e-06 - val_loss: 0.0020\n",
            "Epoch 9/100\n",
            "55/55 [==============================] - 9s 168ms/step - loss: 6.1264e-06 - val_loss: 0.0029\n",
            "Epoch 10/100\n",
            "55/55 [==============================] - 9s 169ms/step - loss: 5.8387e-06 - val_loss: 0.0033\n",
            "Epoch 11/100\n",
            "55/55 [==============================] - 9s 171ms/step - loss: 5.6800e-06 - val_loss: 0.0018\n",
            "Epoch 12/100\n",
            "55/55 [==============================] - 10s 173ms/step - loss: 8.3284e-06 - val_loss: 0.0018\n",
            "Epoch 13/100\n",
            "55/55 [==============================] - 10s 177ms/step - loss: 9.3516e-06 - val_loss: 0.0020\n",
            "Epoch 14/100\n",
            "55/55 [==============================] - 9s 171ms/step - loss: 5.4882e-06 - val_loss: 0.0026\n",
            "Epoch 15/100\n",
            "55/55 [==============================] - 9s 170ms/step - loss: 5.7799e-06 - val_loss: 0.0018\n",
            "Epoch 16/100\n",
            "55/55 [==============================] - 9s 171ms/step - loss: 5.6611e-06 - val_loss: 0.0019\n",
            "Epoch 17/100\n",
            "55/55 [==============================] - 10s 176ms/step - loss: 5.6702e-06 - val_loss: 0.0036\n",
            "Epoch 18/100\n",
            "55/55 [==============================] - 9s 168ms/step - loss: 5.5695e-06 - val_loss: 0.0017\n",
            "Epoch 19/100\n",
            "55/55 [==============================] - 10s 180ms/step - loss: 5.1264e-06 - val_loss: 0.0030\n",
            "Epoch 20/100\n",
            "55/55 [==============================] - 10s 175ms/step - loss: 4.8699e-06 - val_loss: 0.0015\n",
            "Epoch 21/100\n",
            "55/55 [==============================] - 10s 177ms/step - loss: 5.8315e-06 - val_loss: 0.0017\n",
            "Epoch 22/100\n",
            "55/55 [==============================] - 9s 169ms/step - loss: 5.4693e-06 - val_loss: 0.0018\n",
            "Epoch 23/100\n",
            "55/55 [==============================] - 9s 170ms/step - loss: 4.7387e-06 - val_loss: 0.0016\n",
            "Epoch 24/100\n",
            "55/55 [==============================] - 10s 180ms/step - loss: 5.5184e-06 - val_loss: 0.0022\n",
            "Epoch 25/100\n",
            "55/55 [==============================] - 9s 170ms/step - loss: 4.3019e-06 - val_loss: 0.0017\n",
            "Epoch 26/100\n",
            "55/55 [==============================] - 10s 180ms/step - loss: 4.2060e-06 - val_loss: 0.0017\n",
            "Epoch 27/100\n",
            "55/55 [==============================] - 9s 172ms/step - loss: 5.6791e-06 - val_loss: 0.0019\n",
            "Epoch 28/100\n",
            "55/55 [==============================] - 10s 176ms/step - loss: 5.9044e-06 - val_loss: 0.0015\n",
            "Epoch 29/100\n",
            "55/55 [==============================] - 9s 168ms/step - loss: 4.4188e-06 - val_loss: 0.0016\n",
            "Epoch 30/100\n",
            "55/55 [==============================] - 10s 181ms/step - loss: 4.7303e-06 - val_loss: 0.0012\n",
            "Epoch 31/100\n",
            "55/55 [==============================] - 9s 169ms/step - loss: 4.6173e-06 - val_loss: 0.0013\n",
            "Epoch 32/100\n",
            "55/55 [==============================] - 9s 169ms/step - loss: 5.1314e-06 - val_loss: 0.0015\n",
            "Epoch 33/100\n",
            "55/55 [==============================] - 9s 170ms/step - loss: 4.9006e-06 - val_loss: 0.0011\n",
            "Epoch 34/100\n",
            "55/55 [==============================] - 9s 170ms/step - loss: 4.5699e-06 - val_loss: 0.0017\n",
            "Epoch 35/100\n",
            "55/55 [==============================] - 9s 173ms/step - loss: 4.4573e-06 - val_loss: 0.0013\n",
            "Epoch 36/100\n",
            "55/55 [==============================] - 9s 169ms/step - loss: 6.7535e-06 - val_loss: 0.0029\n",
            "Epoch 37/100\n",
            "55/55 [==============================] - 9s 169ms/step - loss: 5.0803e-06 - val_loss: 0.0017\n",
            "Epoch 38/100\n",
            "55/55 [==============================] - 10s 181ms/step - loss: 5.2277e-06 - val_loss: 0.0014\n",
            "Epoch 39/100\n",
            "55/55 [==============================] - 10s 176ms/step - loss: 4.7511e-06 - val_loss: 0.0013\n",
            "Epoch 40/100\n",
            "55/55 [==============================] - 9s 172ms/step - loss: 4.7869e-06 - val_loss: 0.0015\n",
            "Epoch 41/100\n",
            "55/55 [==============================] - 9s 168ms/step - loss: 3.9264e-06 - val_loss: 9.9126e-04\n",
            "Epoch 42/100\n",
            "55/55 [==============================] - 9s 169ms/step - loss: 4.0223e-06 - val_loss: 0.0011\n",
            "Epoch 43/100\n",
            "55/55 [==============================] - 10s 175ms/step - loss: 3.6522e-06 - val_loss: 0.0015\n",
            "Epoch 44/100\n",
            "55/55 [==============================] - 9s 173ms/step - loss: 4.9697e-06 - val_loss: 0.0020\n",
            "Epoch 45/100\n",
            "55/55 [==============================] - 10s 177ms/step - loss: 4.5603e-06 - val_loss: 0.0012\n",
            "Epoch 46/100\n",
            "55/55 [==============================] - 9s 169ms/step - loss: 4.0245e-06 - val_loss: 0.0011\n",
            "Epoch 47/100\n",
            "55/55 [==============================] - 10s 176ms/step - loss: 3.9404e-06 - val_loss: 8.2932e-04\n",
            "Epoch 48/100\n",
            "55/55 [==============================] - 9s 171ms/step - loss: 4.5067e-06 - val_loss: 9.0982e-04\n",
            "Epoch 49/100\n",
            "55/55 [==============================] - 9s 170ms/step - loss: 3.4987e-06 - val_loss: 8.7110e-04\n",
            "Epoch 50/100\n",
            "55/55 [==============================] - 9s 172ms/step - loss: 4.2442e-06 - val_loss: 9.8638e-04\n",
            "Epoch 51/100\n",
            "55/55 [==============================] - 9s 169ms/step - loss: 4.5886e-06 - val_loss: 0.0013\n",
            "Epoch 52/100\n",
            "55/55 [==============================] - 9s 169ms/step - loss: 3.5663e-06 - val_loss: 7.7729e-04\n",
            "Epoch 53/100\n",
            "55/55 [==============================] - 9s 172ms/step - loss: 4.8740e-06 - val_loss: 8.2139e-04\n",
            "Epoch 54/100\n",
            "55/55 [==============================] - 9s 172ms/step - loss: 4.3748e-06 - val_loss: 8.6889e-04\n",
            "Epoch 55/100\n",
            "55/55 [==============================] - 10s 173ms/step - loss: 3.5683e-06 - val_loss: 0.0010\n",
            "Epoch 56/100\n",
            "55/55 [==============================] - 9s 169ms/step - loss: 5.2429e-06 - val_loss: 8.0660e-04\n",
            "Epoch 57/100\n",
            "55/55 [==============================] - 10s 183ms/step - loss: 4.0038e-06 - val_loss: 7.4371e-04\n",
            "Epoch 58/100\n",
            "55/55 [==============================] - 10s 189ms/step - loss: 4.7657e-06 - val_loss: 0.0015\n",
            "Epoch 59/100\n",
            "55/55 [==============================] - 10s 179ms/step - loss: 4.2478e-06 - val_loss: 0.0011\n",
            "Epoch 60/100\n",
            "55/55 [==============================] - 9s 170ms/step - loss: 3.2931e-06 - val_loss: 7.6602e-04\n",
            "Epoch 61/100\n",
            "55/55 [==============================] - 9s 171ms/step - loss: 4.0361e-06 - val_loss: 7.9260e-04\n",
            "Epoch 62/100\n",
            "55/55 [==============================] - 10s 177ms/step - loss: 3.0486e-06 - val_loss: 7.9645e-04\n",
            "Epoch 63/100\n",
            "55/55 [==============================] - 10s 174ms/step - loss: 3.1684e-06 - val_loss: 6.4993e-04\n",
            "Epoch 64/100\n",
            "55/55 [==============================] - 10s 174ms/step - loss: 2.8923e-06 - val_loss: 0.0012\n",
            "Epoch 65/100\n",
            "55/55 [==============================] - 9s 171ms/step - loss: 4.0736e-06 - val_loss: 0.0018\n",
            "Epoch 66/100\n",
            "55/55 [==============================] - 10s 174ms/step - loss: 3.4185e-06 - val_loss: 9.9406e-04\n",
            "Epoch 67/100\n",
            "55/55 [==============================] - 9s 171ms/step - loss: 2.9427e-06 - val_loss: 7.4694e-04\n",
            "Epoch 68/100\n",
            "55/55 [==============================] - 9s 172ms/step - loss: 3.2740e-06 - val_loss: 9.2903e-04\n",
            "Epoch 69/100\n",
            "55/55 [==============================] - 10s 174ms/step - loss: 3.5462e-06 - val_loss: 0.0010\n",
            "Epoch 70/100\n",
            "55/55 [==============================] - 10s 174ms/step - loss: 3.3090e-06 - val_loss: 9.8880e-04\n",
            "Epoch 71/100\n",
            "55/55 [==============================] - 10s 175ms/step - loss: 5.5265e-06 - val_loss: 6.7176e-04\n",
            "Epoch 72/100\n",
            "55/55 [==============================] - 9s 171ms/step - loss: 2.9164e-06 - val_loss: 0.0012\n",
            "Epoch 73/100\n",
            "55/55 [==============================] - 10s 177ms/step - loss: 3.0247e-06 - val_loss: 0.0011\n",
            "Epoch 74/100\n",
            "55/55 [==============================] - 9s 172ms/step - loss: 2.9225e-06 - val_loss: 5.2886e-04\n",
            "Epoch 75/100\n",
            "55/55 [==============================] - 10s 176ms/step - loss: 2.6729e-06 - val_loss: 5.5121e-04\n",
            "Epoch 76/100\n",
            "55/55 [==============================] - 9s 170ms/step - loss: 2.9388e-06 - val_loss: 0.0011\n",
            "Epoch 77/100\n",
            "55/55 [==============================] - 9s 170ms/step - loss: 3.6997e-06 - val_loss: 0.0010\n",
            "Epoch 78/100\n",
            "55/55 [==============================] - 9s 172ms/step - loss: 3.3188e-06 - val_loss: 8.7476e-04\n",
            "Epoch 79/100\n",
            "55/55 [==============================] - 10s 178ms/step - loss: 3.2089e-06 - val_loss: 5.4051e-04\n",
            "Epoch 80/100\n",
            "55/55 [==============================] - 10s 173ms/step - loss: 2.9932e-06 - val_loss: 0.0011\n",
            "Epoch 81/100\n",
            "55/55 [==============================] - 9s 172ms/step - loss: 2.7350e-06 - val_loss: 0.0014\n",
            "Epoch 82/100\n",
            "55/55 [==============================] - 10s 179ms/step - loss: 2.6684e-06 - val_loss: 6.3955e-04\n",
            "Epoch 83/100\n",
            "55/55 [==============================] - 10s 173ms/step - loss: 2.5005e-06 - val_loss: 9.2930e-04\n",
            "Epoch 84/100\n",
            "55/55 [==============================] - 10s 176ms/step - loss: 2.6255e-06 - val_loss: 0.0013\n",
            "Epoch 85/100\n",
            "55/55 [==============================] - 9s 172ms/step - loss: 2.4656e-06 - val_loss: 5.0206e-04\n",
            "Epoch 86/100\n",
            "55/55 [==============================] - 9s 171ms/step - loss: 2.8534e-06 - val_loss: 0.0018\n",
            "Epoch 87/100\n",
            "55/55 [==============================] - 9s 172ms/step - loss: 2.6262e-06 - val_loss: 4.3348e-04\n",
            "Epoch 88/100\n",
            "55/55 [==============================] - 10s 175ms/step - loss: 2.6909e-06 - val_loss: 4.3330e-04\n",
            "Epoch 89/100\n",
            "55/55 [==============================] - 9s 172ms/step - loss: 2.7907e-06 - val_loss: 4.5096e-04\n",
            "Epoch 90/100\n",
            "55/55 [==============================] - 9s 170ms/step - loss: 3.4111e-06 - val_loss: 0.0012\n",
            "Epoch 91/100\n",
            "55/55 [==============================] - 9s 170ms/step - loss: 3.0643e-06 - val_loss: 4.3549e-04\n",
            "Epoch 92/100\n",
            "55/55 [==============================] - 9s 170ms/step - loss: 3.0935e-06 - val_loss: 8.3384e-04\n",
            "Epoch 93/100\n",
            "55/55 [==============================] - 10s 176ms/step - loss: 2.3234e-06 - val_loss: 3.9903e-04\n",
            "Epoch 94/100\n",
            "55/55 [==============================] - 10s 176ms/step - loss: 2.5702e-06 - val_loss: 3.9408e-04\n",
            "Epoch 95/100\n",
            "55/55 [==============================] - 9s 172ms/step - loss: 2.7376e-06 - val_loss: 4.2603e-04\n",
            "Epoch 96/100\n",
            "55/55 [==============================] - 9s 171ms/step - loss: 2.4796e-06 - val_loss: 4.2071e-04\n",
            "Epoch 97/100\n",
            "55/55 [==============================] - 10s 175ms/step - loss: 2.9493e-06 - val_loss: 4.9683e-04\n",
            "Epoch 98/100\n",
            "55/55 [==============================] - 9s 173ms/step - loss: 3.0513e-06 - val_loss: 0.0014\n",
            "Epoch 99/100\n",
            "55/55 [==============================] - 10s 175ms/step - loss: 2.7643e-06 - val_loss: 6.7671e-04\n",
            "Epoch 100/100\n",
            "55/55 [==============================] - 9s 170ms/step - loss: 2.6831e-06 - val_loss: 4.8720e-04\n"
          ]
        },
        {
          "output_type": "execute_result",
          "data": {
            "text/plain": [
              "<keras.callbacks.History at 0x7f76aa850d50>"
            ]
          },
          "metadata": {},
          "execution_count": 29
        }
      ]
    },
    {
      "cell_type": "code",
      "metadata": {
        "id": "u82EsQ4a0c-2"
      },
      "source": [
        "import tensorflow as tf"
      ],
      "execution_count": null,
      "outputs": []
    },
    {
      "cell_type": "code",
      "metadata": {
        "colab": {
          "base_uri": "https://localhost:8080/",
          "height": 37
        },
        "id": "xZH6Ysln0llD",
        "outputId": "63f33999-c694-4ea9-8f94-114eabe87771"
      },
      "source": [
        "tf.__version__"
      ],
      "execution_count": null,
      "outputs": [
        {
          "output_type": "execute_result",
          "data": {
            "application/vnd.google.colaboratory.intrinsic+json": {
              "type": "string"
            },
            "text/plain": [
              "'2.6.0'"
            ]
          },
          "metadata": {},
          "execution_count": 31
        }
      ]
    },
    {
      "cell_type": "code",
      "metadata": {
        "id": "fjDIwcMH0ngp"
      },
      "source": [
        "### Lets Do the prediction and check performance metrics\n",
        "train_predict=model.predict(X_train)\n",
        "test_predict=model.predict(X_test)"
      ],
      "execution_count": null,
      "outputs": []
    },
    {
      "cell_type": "code",
      "metadata": {
        "id": "pnW1sUZW0pbC"
      },
      "source": [
        "##Transformback to original form\n",
        "train_predict=scaler.inverse_transform(train_predict)\n",
        "test_predict=scaler.inverse_transform(test_predict)"
      ],
      "execution_count": null,
      "outputs": []
    },
    {
      "cell_type": "code",
      "metadata": {
        "colab": {
          "base_uri": "https://localhost:8080/"
        },
        "id": "oewqwI3j0rJj",
        "outputId": "d9ce1402-5d38-4d79-c278-c05d2088a176"
      },
      "source": [
        "### Calculate RMSE performance metrics\n",
        "import math\n",
        "from sklearn.metrics import mean_squared_error\n",
        "math.sqrt(mean_squared_error(y_train,train_predict))"
      ],
      "execution_count": null,
      "outputs": [
        {
          "output_type": "execute_result",
          "data": {
            "text/plain": [
              "255.8770990965278"
            ]
          },
          "metadata": {},
          "execution_count": 34
        }
      ]
    },
    {
      "cell_type": "code",
      "metadata": {
        "id": "yV7wtOxU0thE",
        "colab": {
          "base_uri": "https://localhost:8080/"
        },
        "outputId": "44bd77b1-97f3-49f3-b5d2-6c16e8ef9708"
      },
      "source": [
        "### Test Data RMSE\n",
        "math.sqrt(mean_squared_error(y_test,test_predict))"
      ],
      "execution_count": null,
      "outputs": [
        {
          "output_type": "execute_result",
          "data": {
            "text/plain": [
              "3364.2376584925946"
            ]
          },
          "metadata": {},
          "execution_count": 35
        }
      ]
    },
    {
      "cell_type": "code",
      "metadata": {
        "id": "b2O9FdYN03ec",
        "colab": {
          "base_uri": "https://localhost:8080/",
          "height": 452
        },
        "outputId": "558f642c-51b3-4fe7-c706-6b5ab2ba1961"
      },
      "source": [
        "### Plotting \n",
        "# shift train predictions for plotting\n",
        "look_back=100\n",
        "trainPredictPlot = numpy.empty_like(df1)\n",
        "trainPredictPlot[:, :] = np.nan\n",
        "trainPredictPlot[look_back:len(train_predict)+look_back, :] = train_predict\n",
        "# shift test predictions for plotting\n",
        "testPredictPlot = numpy.empty_like(df1)\n",
        "testPredictPlot[:, :] = numpy.nan\n",
        "testPredictPlot[len(train_predict)+(look_back*2)+1:len(df1)-1, :] = test_predict\n",
        "# plot baseline and predictions\n",
        "plt.plot(scaler.inverse_transform(df1))\n",
        "plt.plot(trainPredictPlot)\n",
        "plt.plot(testPredictPlot)\n",
        "plt.title('Bajaj Train Test Split')\n",
        "plt.show()"
      ],
      "execution_count": null,
      "outputs": [
        {
          "output_type": "display_data",
          "data": {
            "image/png": "[encoded data removed]",
            "text/plain": [
              "<Figure size 640x480 with 1 Axes>"
            ]
          },
          "metadata": {}
        }
      ]
    },
    {
      "cell_type": "code",
      "metadata": {
        "id": "XJDVfIMk05WN",
        "colab": {
          "base_uri": "https://localhost:8080/"
        },
        "outputId": "f7d5f726-1139-47bb-ef58-67ce50c7761e"
      },
      "source": [
        "len(test_data)"
      ],
      "execution_count": null,
      "outputs": [
        {
          "output_type": "execute_result",
          "data": {
            "text/plain": [
              "1189"
            ]
          },
          "metadata": {},
          "execution_count": 37
        }
      ]
    },
    {
      "cell_type": "code",
      "metadata": {
        "id": "faLcUIDr08mi",
        "colab": {
          "base_uri": "https://localhost:8080/"
        },
        "outputId": "1064e9e6-df01-4440-fcf1-959e83af2b7a"
      },
      "source": [
        "x_input=test_data[1089:].reshape(1,-1)\n",
        "x_input.shape"
      ],
      "execution_count": null,
      "outputs": [
        {
          "output_type": "execute_result",
          "data": {
            "text/plain": [
              "(1, 100)"
            ]
          },
          "metadata": {},
          "execution_count": 41
        }
      ]
    },
    {
      "cell_type": "code",
      "metadata": {
        "id": "7oKtWwxZ09IM"
      },
      "source": [
        "temp_input=list(x_input)\n",
        "temp_input=temp_input[0].tolist()"
      ],
      "execution_count": null,
      "outputs": []
    },
    {
      "cell_type": "code",
      "metadata": {
        "id": "Nm8nnIo809lO",
        "colab": {
          "base_uri": "https://localhost:8080/"
        },
        "outputId": "12005c37-04d8-41aa-a96f-2990ad464daa"
      },
      "source": [
        "# demonstrate prediction for next 30 days\n",
        "from numpy import array\n",
        "\n",
        "lst_output=[]\n",
        "n_steps=100\n",
        "i=0\n",
        "while(i<30):\n",
        "    \n",
        "    if(len(temp_input)>100):\n",
        "        #print(temp_input)\n",
        "        x_input=np.array(temp_input[1:])\n",
        "        print(\"{} day input {}\".format(i,x_input))\n",
        "        x_input=x_input.reshape(1,-1)\n",
        "        x_input = x_input.reshape((1, n_steps, 1))\n",
        "        #print(x_input)\n",
        "        yhat = model.predict(x_input, verbose=0)\n",
        "        print(\"{} day output {}\".format(i,yhat))\n",
        "        temp_input.extend(yhat[0].tolist())\n",
        "        temp_input=temp_input[1:]\n",
        "        #print(temp_input)\n",
        "        lst_output.extend(yhat.tolist())\n",
        "        i=i+1\n",
        "    else:\n",
        "        x_input = x_input.reshape((1, n_steps,1))\n",
        "        yhat = model.predict(x_input, verbose=0)\n",
        "        print(yhat[0])\n",
        "        temp_input.extend(yhat[0].tolist())\n",
        "        print(len(temp_input))\n",
        "        lst_output.extend(yhat.tolist())\n",
        "        i=i+1\n",
        "    \n",
        "\n",
        "print(lst_output)"
      ],
      "execution_count": null,
      "outputs": [
        {
          "output_type": "stream",
          "name": "stdout",
          "text": [
            "[0.9386558]\n",
            "101\n",
            "1 day input [0.71516775 0.72720898 0.7203856  0.69785129 0.64605972 0.67727373\n",
            " 0.66746154 0.66119727 0.64155861 0.66077437 0.67153267 0.66853664\n",
            " 0.67839181 0.69681201 0.75642325 0.78565908 0.78093573 0.79516301\n",
            " 0.8044233  0.79000249 0.79195917 0.786942   0.78747241 0.77703671\n",
            " 0.76753271 0.76351183 0.77781078 0.8148877  0.80663805 0.80055291\n",
            " 0.80671687 0.80258127 0.80483899 0.82669955 0.81394879 0.80370656\n",
            " 0.80617217 0.82865623 0.83207509 0.84538496 0.85856582 0.82076496\n",
            " 0.82444182 0.81284499 0.87188997 0.87670647 0.8873357  0.88260522\n",
            " 0.87120193 0.86670796 0.87198313 0.87613308 0.86191294 0.86174097\n",
            " 0.86575471 0.87037047 0.86481574 0.86701614 0.8617768  0.85479573\n",
            " 0.85918219 0.86992614 0.88851832 0.88797363 0.87639108 0.87902152\n",
            " 0.88094237 0.88162327 0.87869899 0.87809697 0.87748774 0.86171227\n",
            " 0.85116906 0.88753638 0.88543634 0.88279162 0.89268262 0.89706187\n",
            " 0.91685823 0.89220239 0.88824598 0.90708187 0.9109881  0.89509084\n",
            " 0.89165763 0.88719235 0.88388821 0.88355847 0.88810263 0.88194581\n",
            " 0.91356836 0.91829171 0.93750032 0.95427202 0.96733103 1.\n",
            " 0.99496134 0.99309781 0.9980648  0.93865579]\n",
            "1 day output [[0.9231662]]\n",
            "2 day input [0.72720898 0.7203856  0.69785129 0.64605972 0.67727373 0.66746154\n",
            " 0.66119727 0.64155861 0.66077437 0.67153267 0.66853664 0.67839181\n",
            " 0.69681201 0.75642325 0.78565908 0.78093573 0.79516301 0.8044233\n",
            " 0.79000249 0.79195917 0.786942   0.78747241 0.77703671 0.76753271\n",
            " 0.76351183 0.77781078 0.8148877  0.80663805 0.80055291 0.80671687\n",
            " 0.80258127 0.80483899 0.82669955 0.81394879 0.80370656 0.80617217\n",
            " 0.82865623 0.83207509 0.84538496 0.85856582 0.82076496 0.82444182\n",
            " 0.81284499 0.87188997 0.87670647 0.8873357  0.88260522 0.87120193\n",
            " 0.86670796 0.87198313 0.87613308 0.86191294 0.86174097 0.86575471\n",
            " 0.87037047 0.86481574 0.86701614 0.8617768  0.85479573 0.85918219\n",
            " 0.86992614 0.88851832 0.88797363 0.87639108 0.87902152 0.88094237\n",
            " 0.88162327 0.87869899 0.87809697 0.87748774 0.86171227 0.85116906\n",
            " 0.88753638 0.88543634 0.88279162 0.89268262 0.89706187 0.91685823\n",
            " 0.89220239 0.88824598 0.90708187 0.9109881  0.89509084 0.89165763\n",
            " 0.88719235 0.88388821 0.88355847 0.88810263 0.88194581 0.91356836\n",
            " 0.91829171 0.93750032 0.95427202 0.96733103 1.         0.99496134\n",
            " 0.99309781 0.9980648  0.93865579 0.92316622]\n",
            "2 day output [[0.9000256]]\n",
            "3 day input [0.7203856  0.69785129 0.64605972 0.67727373 0.66746154 0.66119727\n",
            " 0.64155861 0.66077437 0.67153267 0.66853664 0.67839181 0.69681201\n",
            " 0.75642325 0.78565908 0.78093573 0.79516301 0.8044233  0.79000249\n",
            " 0.79195917 0.786942   0.78747241 0.77703671 0.76753271 0.76351183\n",
            " 0.77781078 0.8148877  0.80663805 0.80055291 0.80671687 0.80258127\n",
            " 0.80483899 0.82669955 0.81394879 0.80370656 0.80617217 0.82865623\n",
            " 0.83207509 0.84538496 0.85856582 0.82076496 0.82444182 0.81284499\n",
            " 0.87188997 0.87670647 0.8873357  0.88260522 0.87120193 0.86670796\n",
            " 0.87198313 0.87613308 0.86191294 0.86174097 0.86575471 0.87037047\n",
            " 0.86481574 0.86701614 0.8617768  0.85479573 0.85918219 0.86992614\n",
            " 0.88851832 0.88797363 0.87639108 0.87902152 0.88094237 0.88162327\n",
            " 0.87869899 0.87809697 0.87748774 0.86171227 0.85116906 0.88753638\n",
            " 0.88543634 0.88279162 0.89268262 0.89706187 0.91685823 0.89220239\n",
            " 0.88824598 0.90708187 0.9109881  0.89509084 0.89165763 0.88719235\n",
            " 0.88388821 0.88355847 0.88810263 0.88194581 0.91356836 0.91829171\n",
            " 0.93750032 0.95427202 0.96733103 1.         0.99496134 0.99309781\n",
            " 0.9980648  0.93865579 0.92316622 0.90002561]\n",
            "3 day output [[0.8749205]]\n",
            "4 day input [0.69785129 0.64605972 0.67727373 0.66746154 0.66119727 0.64155861\n",
            " 0.66077437 0.67153267 0.66853664 0.67839181 0.69681201 0.75642325\n",
            " 0.78565908 0.78093573 0.79516301 0.8044233  0.79000249 0.79195917\n",
            " 0.786942   0.78747241 0.77703671 0.76753271 0.76351183 0.77781078\n",
            " 0.8148877  0.80663805 0.80055291 0.80671687 0.80258127 0.80483899\n",
            " 0.82669955 0.81394879 0.80370656 0.80617217 0.82865623 0.83207509\n",
            " 0.84538496 0.85856582 0.82076496 0.82444182 0.81284499 0.87188997\n",
            " 0.87670647 0.8873357  0.88260522 0.87120193 0.86670796 0.87198313\n",
            " 0.87613308 0.86191294 0.86174097 0.86575471 0.87037047 0.86481574\n",
            " 0.86701614 0.8617768  0.85479573 0.85918219 0.86992614 0.88851832\n",
            " 0.88797363 0.87639108 0.87902152 0.88094237 0.88162327 0.87869899\n",
            " 0.87809697 0.87748774 0.86171227 0.85116906 0.88753638 0.88543634\n",
            " 0.88279162 0.89268262 0.89706187 0.91685823 0.89220239 0.88824598\n",
            " 0.90708187 0.9109881  0.89509084 0.89165763 0.88719235 0.88388821\n",
            " 0.88355847 0.88810263 0.88194581 0.91356836 0.91829171 0.93750032\n",
            " 0.95427202 0.96733103 1.         0.99496134 0.99309781 0.9980648\n",
            " 0.93865579 0.92316622 0.90002561 0.87492049]\n",
            "4 day output [[0.85038453]]\n",
            "5 day input [0.64605972 0.67727373 0.66746154 0.66119727 0.64155861 0.66077437\n",
            " 0.67153267 0.66853664 0.67839181 0.69681201 0.75642325 0.78565908\n",
            " 0.78093573 0.79516301 0.8044233  0.79000249 0.79195917 0.786942\n",
            " 0.78747241 0.77703671 0.76753271 0.76351183 0.77781078 0.8148877\n",
            " 0.80663805 0.80055291 0.80671687 0.80258127 0.80483899 0.82669955\n",
            " 0.81394879 0.80370656 0.80617217 0.82865623 0.83207509 0.84538496\n",
            " 0.85856582 0.82076496 0.82444182 0.81284499 0.87188997 0.87670647\n",
            " 0.8873357  0.88260522 0.87120193 0.86670796 0.87198313 0.87613308\n",
            " 0.86191294 0.86174097 0.86575471 0.87037047 0.86481574 0.86701614\n",
            " 0.8617768  0.85479573 0.85918219 0.86992614 0.88851832 0.88797363\n",
            " 0.87639108 0.87902152 0.88094237 0.88162327 0.87869899 0.87809697\n",
            " 0.87748774 0.86171227 0.85116906 0.88753638 0.88543634 0.88279162\n",
            " 0.89268262 0.89706187 0.91685823 0.89220239 0.88824598 0.90708187\n",
            " 0.9109881  0.89509084 0.89165763 0.88719235 0.88388821 0.88355847\n",
            " 0.88810263 0.88194581 0.91356836 0.91829171 0.93750032 0.95427202\n",
            " 0.96733103 1.         0.99496134 0.99309781 0.9980648  0.93865579\n",
            " 0.92316622 0.90002561 0.87492049 0.85038453]\n",
            "5 day output [[0.8275327]]\n",
            "6 day input [0.67727373 0.66746154 0.66119727 0.64155861 0.66077437 0.67153267\n",
            " 0.66853664 0.67839181 0.69681201 0.75642325 0.78565908 0.78093573\n",
            " 0.79516301 0.8044233  0.79000249 0.79195917 0.786942   0.78747241\n",
            " 0.77703671 0.76753271 0.76351183 0.77781078 0.8148877  0.80663805\n",
            " 0.80055291 0.80671687 0.80258127 0.80483899 0.82669955 0.81394879\n",
            " 0.80370656 0.80617217 0.82865623 0.83207509 0.84538496 0.85856582\n",
            " 0.82076496 0.82444182 0.81284499 0.87188997 0.87670647 0.8873357\n",
            " 0.88260522 0.87120193 0.86670796 0.87198313 0.87613308 0.86191294\n",
            " 0.86174097 0.86575471 0.87037047 0.86481574 0.86701614 0.8617768\n",
            " 0.85479573 0.85918219 0.86992614 0.88851832 0.88797363 0.87639108\n",
            " 0.87902152 0.88094237 0.88162327 0.87869899 0.87809697 0.87748774\n",
            " 0.86171227 0.85116906 0.88753638 0.88543634 0.88279162 0.89268262\n",
            " 0.89706187 0.91685823 0.89220239 0.88824598 0.90708187 0.9109881\n",
            " 0.89509084 0.89165763 0.88719235 0.88388821 0.88355847 0.88810263\n",
            " 0.88194581 0.91356836 0.91829171 0.93750032 0.95427202 0.96733103\n",
            " 1.         0.99496134 0.99309781 0.9980648  0.93865579 0.92316622\n",
            " 0.90002561 0.87492049 0.85038453 0.82753271]\n",
            "6 day output [[0.8069212]]\n",
            "7 day input [0.66746154 0.66119727 0.64155861 0.66077437 0.67153267 0.66853664\n",
            " 0.67839181 0.69681201 0.75642325 0.78565908 0.78093573 0.79516301\n",
            " 0.8044233  0.79000249 0.79195917 0.786942   0.78747241 0.77703671\n",
            " 0.76753271 0.76351183 0.77781078 0.8148877  0.80663805 0.80055291\n",
            " 0.80671687 0.80258127 0.80483899 0.82669955 0.81394879 0.80370656\n",
            " 0.80617217 0.82865623 0.83207509 0.84538496 0.85856582 0.82076496\n",
            " 0.82444182 0.81284499 0.87188997 0.87670647 0.8873357  0.88260522\n",
            " 0.87120193 0.86670796 0.87198313 0.87613308 0.86191294 0.86174097\n",
            " 0.86575471 0.87037047 0.86481574 0.86701614 0.8617768  0.85479573\n",
            " 0.85918219 0.86992614 0.88851832 0.88797363 0.87639108 0.87902152\n",
            " 0.88094237 0.88162327 0.87869899 0.87809697 0.87748774 0.86171227\n",
            " 0.85116906 0.88753638 0.88543634 0.88279162 0.89268262 0.89706187\n",
            " 0.91685823 0.89220239 0.88824598 0.90708187 0.9109881  0.89509084\n",
            " 0.89165763 0.88719235 0.88388821 0.88355847 0.88810263 0.88194581\n",
            " 0.91356836 0.91829171 0.93750032 0.95427202 0.96733103 1.\n",
            " 0.99496134 0.99309781 0.9980648  0.93865579 0.92316622 0.90002561\n",
            " 0.87492049 0.85038453 0.82753271 0.80692118]\n",
            "7 day output [[0.78883]]\n",
            "8 day input [0.66119727 0.64155861 0.66077437 0.67153267 0.66853664 0.67839181\n",
            " 0.69681201 0.75642325 0.78565908 0.78093573 0.79516301 0.8044233\n",
            " 0.79000249 0.79195917 0.786942   0.78747241 0.77703671 0.76753271\n",
            " 0.76351183 0.77781078 0.8148877  0.80663805 0.80055291 0.80671687\n",
            " 0.80258127 0.80483899 0.82669955 0.81394879 0.80370656 0.80617217\n",
            " 0.82865623 0.83207509 0.84538496 0.85856582 0.82076496 0.82444182\n",
            " 0.81284499 0.87188997 0.87670647 0.8873357  0.88260522 0.87120193\n",
            " 0.86670796 0.87198313 0.87613308 0.86191294 0.86174097 0.86575471\n",
            " 0.87037047 0.86481574 0.86701614 0.8617768  0.85479573 0.85918219\n",
            " 0.86992614 0.88851832 0.88797363 0.87639108 0.87902152 0.88094237\n",
            " 0.88162327 0.87869899 0.87809697 0.87748774 0.86171227 0.85116906\n",
            " 0.88753638 0.88543634 0.88279162 0.89268262 0.89706187 0.91685823\n",
            " 0.89220239 0.88824598 0.90708187 0.9109881  0.89509084 0.89165763\n",
            " 0.88719235 0.88388821 0.88355847 0.88810263 0.88194581 0.91356836\n",
            " 0.91829171 0.93750032 0.95427202 0.96733103 1.         0.99496134\n",
            " 0.99309781 0.9980648  0.93865579 0.92316622 0.90002561 0.87492049\n",
            " 0.85038453 0.82753271 0.80692118 0.78882998]\n",
            "8 day output [[0.7733424]]\n",
            "9 day input [0.64155861 0.66077437 0.67153267 0.66853664 0.67839181 0.69681201\n",
            " 0.75642325 0.78565908 0.78093573 0.79516301 0.8044233  0.79000249\n",
            " 0.79195917 0.786942   0.78747241 0.77703671 0.76753271 0.76351183\n",
            " 0.77781078 0.8148877  0.80663805 0.80055291 0.80671687 0.80258127\n",
            " 0.80483899 0.82669955 0.81394879 0.80370656 0.80617217 0.82865623\n",
            " 0.83207509 0.84538496 0.85856582 0.82076496 0.82444182 0.81284499\n",
            " 0.87188997 0.87670647 0.8873357  0.88260522 0.87120193 0.86670796\n",
            " 0.87198313 0.87613308 0.86191294 0.86174097 0.86575471 0.87037047\n",
            " 0.86481574 0.86701614 0.8617768  0.85479573 0.85918219 0.86992614\n",
            " 0.88851832 0.88797363 0.87639108 0.87902152 0.88094237 0.88162327\n",
            " 0.87869899 0.87809697 0.87748774 0.86171227 0.85116906 0.88753638\n",
            " 0.88543634 0.88279162 0.89268262 0.89706187 0.91685823 0.89220239\n",
            " 0.88824598 0.90708187 0.9109881  0.89509084 0.89165763 0.88719235\n",
            " 0.88388821 0.88355847 0.88810263 0.88194581 0.91356836 0.91829171\n",
            " 0.93750032 0.95427202 0.96733103 1.         0.99496134 0.99309781\n",
            " 0.9980648  0.93865579 0.92316622 0.90002561 0.87492049 0.85038453\n",
            " 0.82753271 0.80692118 0.78882998 0.77334237]\n",
            "9 day output [[0.76037806]]\n",
            "10 day input [0.66077437 0.67153267 0.66853664 0.67839181 0.69681201 0.75642325\n",
            " 0.78565908 0.78093573 0.79516301 0.8044233  0.79000249 0.79195917\n",
            " 0.786942   0.78747241 0.77703671 0.76753271 0.76351183 0.77781078\n",
            " 0.8148877  0.80663805 0.80055291 0.80671687 0.80258127 0.80483899\n",
            " 0.82669955 0.81394879 0.80370656 0.80617217 0.82865623 0.83207509\n",
            " 0.84538496 0.85856582 0.82076496 0.82444182 0.81284499 0.87188997\n",
            " 0.87670647 0.8873357  0.88260522 0.87120193 0.86670796 0.87198313\n",
            " 0.87613308 0.86191294 0.86174097 0.86575471 0.87037047 0.86481574\n",
            " 0.86701614 0.8617768  0.85479573 0.85918219 0.86992614 0.88851832\n",
            " 0.88797363 0.87639108 0.87902152 0.88094237 0.88162327 0.87869899\n",
            " 0.87809697 0.87748774 0.86171227 0.85116906 0.88753638 0.88543634\n",
            " 0.88279162 0.89268262 0.89706187 0.91685823 0.89220239 0.88824598\n",
            " 0.90708187 0.9109881  0.89509084 0.89165763 0.88719235 0.88388821\n",
            " 0.88355847 0.88810263 0.88194581 0.91356836 0.91829171 0.93750032\n",
            " 0.95427202 0.96733103 1.         0.99496134 0.99309781 0.9980648\n",
            " 0.93865579 0.92316622 0.90002561 0.87492049 0.85038453 0.82753271\n",
            " 0.80692118 0.78882998 0.77334237 0.76037806]\n",
            "10 day output [[0.7497271]]\n",
            "11 day input [0.67153267 0.66853664 0.67839181 0.69681201 0.75642325 0.78565908\n",
            " 0.78093573 0.79516301 0.8044233  0.79000249 0.79195917 0.786942\n",
            " 0.78747241 0.77703671 0.76753271 0.76351183 0.77781078 0.8148877\n",
            " 0.80663805 0.80055291 0.80671687 0.80258127 0.80483899 0.82669955\n",
            " 0.81394879 0.80370656 0.80617217 0.82865623 0.83207509 0.84538496\n",
            " 0.85856582 0.82076496 0.82444182 0.81284499 0.87188997 0.87670647\n",
            " 0.8873357  0.88260522 0.87120193 0.86670796 0.87198313 0.87613308\n",
            " 0.86191294 0.86174097 0.86575471 0.87037047 0.86481574 0.86701614\n",
            " 0.8617768  0.85479573 0.85918219 0.86992614 0.88851832 0.88797363\n",
            " 0.87639108 0.87902152 0.88094237 0.88162327 0.87869899 0.87809697\n",
            " 0.87748774 0.86171227 0.85116906 0.88753638 0.88543634 0.88279162\n",
            " 0.89268262 0.89706187 0.91685823 0.89220239 0.88824598 0.90708187\n",
            " 0.9109881  0.89509084 0.89165763 0.88719235 0.88388821 0.88355847\n",
            " 0.88810263 0.88194581 0.91356836 0.91829171 0.93750032 0.95427202\n",
            " 0.96733103 1.         0.99496134 0.99309781 0.9980648  0.93865579\n",
            " 0.92316622 0.90002561 0.87492049 0.85038453 0.82753271 0.80692118\n",
            " 0.78882998 0.77334237 0.76037806 0.74972707]\n",
            "11 day output [[0.7410875]]\n",
            "12 day input [0.66853664 0.67839181 0.69681201 0.75642325 0.78565908 0.78093573\n",
            " 0.79516301 0.8044233  0.79000249 0.79195917 0.786942   0.78747241\n",
            " 0.77703671 0.76753271 0.76351183 0.77781078 0.8148877  0.80663805\n",
            " 0.80055291 0.80671687 0.80258127 0.80483899 0.82669955 0.81394879\n",
            " 0.80370656 0.80617217 0.82865623 0.83207509 0.84538496 0.85856582\n",
            " 0.82076496 0.82444182 0.81284499 0.87188997 0.87670647 0.8873357\n",
            " 0.88260522 0.87120193 0.86670796 0.87198313 0.87613308 0.86191294\n",
            " 0.86174097 0.86575471 0.87037047 0.86481574 0.86701614 0.8617768\n",
            " 0.85479573 0.85918219 0.86992614 0.88851832 0.88797363 0.87639108\n",
            " 0.87902152 0.88094237 0.88162327 0.87869899 0.87809697 0.87748774\n",
            " 0.86171227 0.85116906 0.88753638 0.88543634 0.88279162 0.89268262\n",
            " 0.89706187 0.91685823 0.89220239 0.88824598 0.90708187 0.9109881\n",
            " 0.89509084 0.89165763 0.88719235 0.88388821 0.88355847 0.88810263\n",
            " 0.88194581 0.91356836 0.91829171 0.93750032 0.95427202 0.96733103\n",
            " 1.         0.99496134 0.99309781 0.9980648  0.93865579 0.92316622\n",
            " 0.90002561 0.87492049 0.85038453 0.82753271 0.80692118 0.78882998\n",
            " 0.77334237 0.76037806 0.74972707 0.7410875 ]\n",
            "12 day output [[0.7341041]]\n",
            "13 day input [0.67839181 0.69681201 0.75642325 0.78565908 0.78093573 0.79516301\n",
            " 0.8044233  0.79000249 0.79195917 0.786942   0.78747241 0.77703671\n",
            " 0.76753271 0.76351183 0.77781078 0.8148877  0.80663805 0.80055291\n",
            " 0.80671687 0.80258127 0.80483899 0.82669955 0.81394879 0.80370656\n",
            " 0.80617217 0.82865623 0.83207509 0.84538496 0.85856582 0.82076496\n",
            " 0.82444182 0.81284499 0.87188997 0.87670647 0.8873357  0.88260522\n",
            " 0.87120193 0.86670796 0.87198313 0.87613308 0.86191294 0.86174097\n",
            " 0.86575471 0.87037047 0.86481574 0.86701614 0.8617768  0.85479573\n",
            " 0.85918219 0.86992614 0.88851832 0.88797363 0.87639108 0.87902152\n",
            " 0.88094237 0.88162327 0.87869899 0.87809697 0.87748774 0.86171227\n",
            " 0.85116906 0.88753638 0.88543634 0.88279162 0.89268262 0.89706187\n",
            " 0.91685823 0.89220239 0.88824598 0.90708187 0.9109881  0.89509084\n",
            " 0.89165763 0.88719235 0.88388821 0.88355847 0.88810263 0.88194581\n",
            " 0.91356836 0.91829171 0.93750032 0.95427202 0.96733103 1.\n",
            " 0.99496134 0.99309781 0.9980648  0.93865579 0.92316622 0.90002561\n",
            " 0.87492049 0.85038453 0.82753271 0.80692118 0.78882998 0.77334237\n",
            " 0.76037806 0.74972707 0.7410875  0.7341041 ]\n",
            "13 day output [[0.7284026]]\n",
            "14 day input [0.69681201 0.75642325 0.78565908 0.78093573 0.79516301 0.8044233\n",
            " 0.79000249 0.79195917 0.786942   0.78747241 0.77703671 0.76753271\n",
            " 0.76351183 0.77781078 0.8148877  0.80663805 0.80055291 0.80671687\n",
            " 0.80258127 0.80483899 0.82669955 0.81394879 0.80370656 0.80617217\n",
            " 0.82865623 0.83207509 0.84538496 0.85856582 0.82076496 0.82444182\n",
            " 0.81284499 0.87188997 0.87670647 0.8873357  0.88260522 0.87120193\n",
            " 0.86670796 0.87198313 0.87613308 0.86191294 0.86174097 0.86575471\n",
            " 0.87037047 0.86481574 0.86701614 0.8617768  0.85479573 0.85918219\n",
            " 0.86992614 0.88851832 0.88797363 0.87639108 0.87902152 0.88094237\n",
            " 0.88162327 0.87869899 0.87809697 0.87748774 0.86171227 0.85116906\n",
            " 0.88753638 0.88543634 0.88279162 0.89268262 0.89706187 0.91685823\n",
            " 0.89220239 0.88824598 0.90708187 0.9109881  0.89509084 0.89165763\n",
            " 0.88719235 0.88388821 0.88355847 0.88810263 0.88194581 0.91356836\n",
            " 0.91829171 0.93750032 0.95427202 0.96733103 1.         0.99496134\n",
            " 0.99309781 0.9980648  0.93865579 0.92316622 0.90002561 0.87492049\n",
            " 0.85038453 0.82753271 0.80692118 0.78882998 0.77334237 0.76037806\n",
            " 0.74972707 0.7410875  0.7341041  0.72840261]\n",
            "14 day output [[0.7236196]]\n",
            "15 day input [0.75642325 0.78565908 0.78093573 0.79516301 0.8044233  0.79000249\n",
            " 0.79195917 0.786942   0.78747241 0.77703671 0.76753271 0.76351183\n",
            " 0.77781078 0.8148877  0.80663805 0.80055291 0.80671687 0.80258127\n",
            " 0.80483899 0.82669955 0.81394879 0.80370656 0.80617217 0.82865623\n",
            " 0.83207509 0.84538496 0.85856582 0.82076496 0.82444182 0.81284499\n",
            " 0.87188997 0.87670647 0.8873357  0.88260522 0.87120193 0.86670796\n",
            " 0.87198313 0.87613308 0.86191294 0.86174097 0.86575471 0.87037047\n",
            " 0.86481574 0.86701614 0.8617768  0.85479573 0.85918219 0.86992614\n",
            " 0.88851832 0.88797363 0.87639108 0.87902152 0.88094237 0.88162327\n",
            " 0.87869899 0.87809697 0.87748774 0.86171227 0.85116906 0.88753638\n",
            " 0.88543634 0.88279162 0.89268262 0.89706187 0.91685823 0.89220239\n",
            " 0.88824598 0.90708187 0.9109881  0.89509084 0.89165763 0.88719235\n",
            " 0.88388821 0.88355847 0.88810263 0.88194581 0.91356836 0.91829171\n",
            " 0.93750032 0.95427202 0.96733103 1.         0.99496134 0.99309781\n",
            " 0.9980648  0.93865579 0.92316622 0.90002561 0.87492049 0.85038453\n",
            " 0.82753271 0.80692118 0.78882998 0.77334237 0.76037806 0.74972707\n",
            " 0.7410875  0.7341041  0.72840261 0.72361958]\n",
            "15 day output [[0.71942437]]\n",
            "16 day input [0.78565908 0.78093573 0.79516301 0.8044233  0.79000249 0.79195917\n",
            " 0.786942   0.78747241 0.77703671 0.76753271 0.76351183 0.77781078\n",
            " 0.8148877  0.80663805 0.80055291 0.80671687 0.80258127 0.80483899\n",
            " 0.82669955 0.81394879 0.80370656 0.80617217 0.82865623 0.83207509\n",
            " 0.84538496 0.85856582 0.82076496 0.82444182 0.81284499 0.87188997\n",
            " 0.87670647 0.8873357  0.88260522 0.87120193 0.86670796 0.87198313\n",
            " 0.87613308 0.86191294 0.86174097 0.86575471 0.87037047 0.86481574\n",
            " 0.86701614 0.8617768  0.85479573 0.85918219 0.86992614 0.88851832\n",
            " 0.88797363 0.87639108 0.87902152 0.88094237 0.88162327 0.87869899\n",
            " 0.87809697 0.87748774 0.86171227 0.85116906 0.88753638 0.88543634\n",
            " 0.88279162 0.89268262 0.89706187 0.91685823 0.89220239 0.88824598\n",
            " 0.90708187 0.9109881  0.89509084 0.89165763 0.88719235 0.88388821\n",
            " 0.88355847 0.88810263 0.88194581 0.91356836 0.91829171 0.93750032\n",
            " 0.95427202 0.96733103 1.         0.99496134 0.99309781 0.9980648\n",
            " 0.93865579 0.92316622 0.90002561 0.87492049 0.85038453 0.82753271\n",
            " 0.80692118 0.78882998 0.77334237 0.76037806 0.74972707 0.7410875\n",
            " 0.7341041  0.72840261 0.72361958 0.71942437]\n",
            "16 day output [[0.7155346]]\n",
            "17 day input [0.78093573 0.79516301 0.8044233  0.79000249 0.79195917 0.786942\n",
            " 0.78747241 0.77703671 0.76753271 0.76351183 0.77781078 0.8148877\n",
            " 0.80663805 0.80055291 0.80671687 0.80258127 0.80483899 0.82669955\n",
            " 0.81394879 0.80370656 0.80617217 0.82865623 0.83207509 0.84538496\n",
            " 0.85856582 0.82076496 0.82444182 0.81284499 0.87188997 0.87670647\n",
            " 0.8873357  0.88260522 0.87120193 0.86670796 0.87198313 0.87613308\n",
            " 0.86191294 0.86174097 0.86575471 0.87037047 0.86481574 0.86701614\n",
            " 0.8617768  0.85479573 0.85918219 0.86992614 0.88851832 0.88797363\n",
            " 0.87639108 0.87902152 0.88094237 0.88162327 0.87869899 0.87809697\n",
            " 0.87748774 0.86171227 0.85116906 0.88753638 0.88543634 0.88279162\n",
            " 0.89268262 0.89706187 0.91685823 0.89220239 0.88824598 0.90708187\n",
            " 0.9109881  0.89509084 0.89165763 0.88719235 0.88388821 0.88355847\n",
            " 0.88810263 0.88194581 0.91356836 0.91829171 0.93750032 0.95427202\n",
            " 0.96733103 1.         0.99496134 0.99309781 0.9980648  0.93865579\n",
            " 0.92316622 0.90002561 0.87492049 0.85038453 0.82753271 0.80692118\n",
            " 0.78882998 0.77334237 0.76037806 0.74972707 0.7410875  0.7341041\n",
            " 0.72840261 0.72361958 0.71942437 0.71553463]\n",
            "17 day output [[0.71172523]]\n",
            "18 day input [0.79516301 0.8044233  0.79000249 0.79195917 0.786942   0.78747241\n",
            " 0.77703671 0.76753271 0.76351183 0.77781078 0.8148877  0.80663805\n",
            " 0.80055291 0.80671687 0.80258127 0.80483899 0.82669955 0.81394879\n",
            " 0.80370656 0.80617217 0.82865623 0.83207509 0.84538496 0.85856582\n",
            " 0.82076496 0.82444182 0.81284499 0.87188997 0.87670647 0.8873357\n",
            " 0.88260522 0.87120193 0.86670796 0.87198313 0.87613308 0.86191294\n",
            " 0.86174097 0.86575471 0.87037047 0.86481574 0.86701614 0.8617768\n",
            " 0.85479573 0.85918219 0.86992614 0.88851832 0.88797363 0.87639108\n",
            " 0.87902152 0.88094237 0.88162327 0.87869899 0.87809697 0.87748774\n",
            " 0.86171227 0.85116906 0.88753638 0.88543634 0.88279162 0.89268262\n",
            " 0.89706187 0.91685823 0.89220239 0.88824598 0.90708187 0.9109881\n",
            " 0.89509084 0.89165763 0.88719235 0.88388821 0.88355847 0.88810263\n",
            " 0.88194581 0.91356836 0.91829171 0.93750032 0.95427202 0.96733103\n",
            " 1.         0.99496134 0.99309781 0.9980648  0.93865579 0.92316622\n",
            " 0.90002561 0.87492049 0.85038453 0.82753271 0.80692118 0.78882998\n",
            " 0.77334237 0.76037806 0.74972707 0.7410875  0.7341041  0.72840261\n",
            " 0.72361958 0.71942437 0.71553463 0.71172523]\n",
            "18 day output [[0.70782983]]\n",
            "19 day input [0.8044233  0.79000249 0.79195917 0.786942   0.78747241 0.77703671\n",
            " 0.76753271 0.76351183 0.77781078 0.8148877  0.80663805 0.80055291\n",
            " 0.80671687 0.80258127 0.80483899 0.82669955 0.81394879 0.80370656\n",
            " 0.80617217 0.82865623 0.83207509 0.84538496 0.85856582 0.82076496\n",
            " 0.82444182 0.81284499 0.87188997 0.87670647 0.8873357  0.88260522\n",
            " 0.87120193 0.86670796 0.87198313 0.87613308 0.86191294 0.86174097\n",
            " 0.86575471 0.87037047 0.86481574 0.86701614 0.8617768  0.85479573\n",
            " 0.85918219 0.86992614 0.88851832 0.88797363 0.87639108 0.87902152\n",
            " 0.88094237 0.88162327 0.87869899 0.87809697 0.87748774 0.86171227\n",
            " 0.85116906 0.88753638 0.88543634 0.88279162 0.89268262 0.89706187\n",
            " 0.91685823 0.89220239 0.88824598 0.90708187 0.9109881  0.89509084\n",
            " 0.89165763 0.88719235 0.88388821 0.88355847 0.88810263 0.88194581\n",
            " 0.91356836 0.91829171 0.93750032 0.95427202 0.96733103 1.\n",
            " 0.99496134 0.99309781 0.9980648  0.93865579 0.92316622 0.90002561\n",
            " 0.87492049 0.85038453 0.82753271 0.80692118 0.78882998 0.77334237\n",
            " 0.76037806 0.74972707 0.7410875  0.7341041  0.72840261 0.72361958\n",
            " 0.71942437 0.71553463 0.71172523 0.70782983]\n",
            "19 day output [[0.70374036]]\n",
            "20 day input [0.79000249 0.79195917 0.786942   0.78747241 0.77703671 0.76753271\n",
            " 0.76351183 0.77781078 0.8148877  0.80663805 0.80055291 0.80671687\n",
            " 0.80258127 0.80483899 0.82669955 0.81394879 0.80370656 0.80617217\n",
            " 0.82865623 0.83207509 0.84538496 0.85856582 0.82076496 0.82444182\n",
            " 0.81284499 0.87188997 0.87670647 0.8873357  0.88260522 0.87120193\n",
            " 0.86670796 0.87198313 0.87613308 0.86191294 0.86174097 0.86575471\n",
            " 0.87037047 0.86481574 0.86701614 0.8617768  0.85479573 0.85918219\n",
            " 0.86992614 0.88851832 0.88797363 0.87639108 0.87902152 0.88094237\n",
            " 0.88162327 0.87869899 0.87809697 0.87748774 0.86171227 0.85116906\n",
            " 0.88753638 0.88543634 0.88279162 0.89268262 0.89706187 0.91685823\n",
            " 0.89220239 0.88824598 0.90708187 0.9109881  0.89509084 0.89165763\n",
            " 0.88719235 0.88388821 0.88355847 0.88810263 0.88194581 0.91356836\n",
            " 0.91829171 0.93750032 0.95427202 0.96733103 1.         0.99496134\n",
            " 0.99309781 0.9980648  0.93865579 0.92316622 0.90002561 0.87492049\n",
            " 0.85038453 0.82753271 0.80692118 0.78882998 0.77334237 0.76037806\n",
            " 0.74972707 0.7410875  0.7341041  0.72840261 0.72361958 0.71942437\n",
            " 0.71553463 0.71172523 0.70782983 0.70374036]\n",
            "20 day output [[0.69939977]]\n",
            "21 day input [0.79195917 0.786942   0.78747241 0.77703671 0.76753271 0.76351183\n",
            " 0.77781078 0.8148877  0.80663805 0.80055291 0.80671687 0.80258127\n",
            " 0.80483899 0.82669955 0.81394879 0.80370656 0.80617217 0.82865623\n",
            " 0.83207509 0.84538496 0.85856582 0.82076496 0.82444182 0.81284499\n",
            " 0.87188997 0.87670647 0.8873357  0.88260522 0.87120193 0.86670796\n",
            " 0.87198313 0.87613308 0.86191294 0.86174097 0.86575471 0.87037047\n",
            " 0.86481574 0.86701614 0.8617768  0.85479573 0.85918219 0.86992614\n",
            " 0.88851832 0.88797363 0.87639108 0.87902152 0.88094237 0.88162327\n",
            " 0.87869899 0.87809697 0.87748774 0.86171227 0.85116906 0.88753638\n",
            " 0.88543634 0.88279162 0.89268262 0.89706187 0.91685823 0.89220239\n",
            " 0.88824598 0.90708187 0.9109881  0.89509084 0.89165763 0.88719235\n",
            " 0.88388821 0.88355847 0.88810263 0.88194581 0.91356836 0.91829171\n",
            " 0.93750032 0.95427202 0.96733103 1.         0.99496134 0.99309781\n",
            " 0.9980648  0.93865579 0.92316622 0.90002561 0.87492049 0.85038453\n",
            " 0.82753271 0.80692118 0.78882998 0.77334237 0.76037806 0.74972707\n",
            " 0.7410875  0.7341041  0.72840261 0.72361958 0.71942437 0.71553463\n",
            " 0.71172523 0.70782983 0.70374036 0.69939977]\n",
            "21 day output [[0.6947948]]\n",
            "22 day input [0.786942   0.78747241 0.77703671 0.76753271 0.76351183 0.77781078\n",
            " 0.8148877  0.80663805 0.80055291 0.80671687 0.80258127 0.80483899\n",
            " 0.82669955 0.81394879 0.80370656 0.80617217 0.82865623 0.83207509\n",
            " 0.84538496 0.85856582 0.82076496 0.82444182 0.81284499 0.87188997\n",
            " 0.87670647 0.8873357  0.88260522 0.87120193 0.86670796 0.87198313\n",
            " 0.87613308 0.86191294 0.86174097 0.86575471 0.87037047 0.86481574\n",
            " 0.86701614 0.8617768  0.85479573 0.85918219 0.86992614 0.88851832\n",
            " 0.88797363 0.87639108 0.87902152 0.88094237 0.88162327 0.87869899\n",
            " 0.87809697 0.87748774 0.86171227 0.85116906 0.88753638 0.88543634\n",
            " 0.88279162 0.89268262 0.89706187 0.91685823 0.89220239 0.88824598\n",
            " 0.90708187 0.9109881  0.89509084 0.89165763 0.88719235 0.88388821\n",
            " 0.88355847 0.88810263 0.88194581 0.91356836 0.91829171 0.93750032\n",
            " 0.95427202 0.96733103 1.         0.99496134 0.99309781 0.9980648\n",
            " 0.93865579 0.92316622 0.90002561 0.87492049 0.85038453 0.82753271\n",
            " 0.80692118 0.78882998 0.77334237 0.76037806 0.74972707 0.7410875\n",
            " 0.7341041  0.72840261 0.72361958 0.71942437 0.71553463 0.71172523\n",
            " 0.70782983 0.70374036 0.69939977 0.69479477]\n",
            "22 day output [[0.6899464]]\n",
            "23 day input [0.78747241 0.77703671 0.76753271 0.76351183 0.77781078 0.8148877\n",
            " 0.80663805 0.80055291 0.80671687 0.80258127 0.80483899 0.82669955\n",
            " 0.81394879 0.80370656 0.80617217 0.82865623 0.83207509 0.84538496\n",
            " 0.85856582 0.82076496 0.82444182 0.81284499 0.87188997 0.87670647\n",
            " 0.8873357  0.88260522 0.87120193 0.86670796 0.87198313 0.87613308\n",
            " 0.86191294 0.86174097 0.86575471 0.87037047 0.86481574 0.86701614\n",
            " 0.8617768  0.85479573 0.85918219 0.86992614 0.88851832 0.88797363\n",
            " 0.87639108 0.87902152 0.88094237 0.88162327 0.87869899 0.87809697\n",
            " 0.87748774 0.86171227 0.85116906 0.88753638 0.88543634 0.88279162\n",
            " 0.89268262 0.89706187 0.91685823 0.89220239 0.88824598 0.90708187\n",
            " 0.9109881  0.89509084 0.89165763 0.88719235 0.88388821 0.88355847\n",
            " 0.88810263 0.88194581 0.91356836 0.91829171 0.93750032 0.95427202\n",
            " 0.96733103 1.         0.99496134 0.99309781 0.9980648  0.93865579\n",
            " 0.92316622 0.90002561 0.87492049 0.85038453 0.82753271 0.80692118\n",
            " 0.78882998 0.77334237 0.76037806 0.74972707 0.7410875  0.7341041\n",
            " 0.72840261 0.72361958 0.71942437 0.71553463 0.71172523 0.70782983\n",
            " 0.70374036 0.69939977 0.69479477 0.68994641]\n",
            "23 day output [[0.684901]]\n",
            "24 day input [0.77703671 0.76753271 0.76351183 0.77781078 0.8148877  0.80663805\n",
            " 0.80055291 0.80671687 0.80258127 0.80483899 0.82669955 0.81394879\n",
            " 0.80370656 0.80617217 0.82865623 0.83207509 0.84538496 0.85856582\n",
            " 0.82076496 0.82444182 0.81284499 0.87188997 0.87670647 0.8873357\n",
            " 0.88260522 0.87120193 0.86670796 0.87198313 0.87613308 0.86191294\n",
            " 0.86174097 0.86575471 0.87037047 0.86481574 0.86701614 0.8617768\n",
            " 0.85479573 0.85918219 0.86992614 0.88851832 0.88797363 0.87639108\n",
            " 0.87902152 0.88094237 0.88162327 0.87869899 0.87809697 0.87748774\n",
            " 0.86171227 0.85116906 0.88753638 0.88543634 0.88279162 0.89268262\n",
            " 0.89706187 0.91685823 0.89220239 0.88824598 0.90708187 0.9109881\n",
            " 0.89509084 0.89165763 0.88719235 0.88388821 0.88355847 0.88810263\n",
            " 0.88194581 0.91356836 0.91829171 0.93750032 0.95427202 0.96733103\n",
            " 1.         0.99496134 0.99309781 0.9980648  0.93865579 0.92316622\n",
            " 0.90002561 0.87492049 0.85038453 0.82753271 0.80692118 0.78882998\n",
            " 0.77334237 0.76037806 0.74972707 0.7410875  0.7341041  0.72840261\n",
            " 0.72361958 0.71942437 0.71553463 0.71172523 0.70782983 0.70374036\n",
            " 0.69939977 0.69479477 0.68994641 0.684901  ]\n",
            "24 day output [[0.67971927]]\n",
            "25 day input [0.76753271 0.76351183 0.77781078 0.8148877  0.80663805 0.80055291\n",
            " 0.80671687 0.80258127 0.80483899 0.82669955 0.81394879 0.80370656\n",
            " 0.80617217 0.82865623 0.83207509 0.84538496 0.85856582 0.82076496\n",
            " 0.82444182 0.81284499 0.87188997 0.87670647 0.8873357  0.88260522\n",
            " 0.87120193 0.86670796 0.87198313 0.87613308 0.86191294 0.86174097\n",
            " 0.86575471 0.87037047 0.86481574 0.86701614 0.8617768  0.85479573\n",
            " 0.85918219 0.86992614 0.88851832 0.88797363 0.87639108 0.87902152\n",
            " 0.88094237 0.88162327 0.87869899 0.87809697 0.87748774 0.86171227\n",
            " 0.85116906 0.88753638 0.88543634 0.88279162 0.89268262 0.89706187\n",
            " 0.91685823 0.89220239 0.88824598 0.90708187 0.9109881  0.89509084\n",
            " 0.89165763 0.88719235 0.88388821 0.88355847 0.88810263 0.88194581\n",
            " 0.91356836 0.91829171 0.93750032 0.95427202 0.96733103 1.\n",
            " 0.99496134 0.99309781 0.9980648  0.93865579 0.92316622 0.90002561\n",
            " 0.87492049 0.85038453 0.82753271 0.80692118 0.78882998 0.77334237\n",
            " 0.76037806 0.74972707 0.7410875  0.7341041  0.72840261 0.72361958\n",
            " 0.71942437 0.71553463 0.71172523 0.70782983 0.70374036 0.69939977\n",
            " 0.69479477 0.68994641 0.684901   0.67971927]\n",
            "25 day output [[0.6744702]]\n",
            "26 day input [0.76351183 0.77781078 0.8148877  0.80663805 0.80055291 0.80671687\n",
            " 0.80258127 0.80483899 0.82669955 0.81394879 0.80370656 0.80617217\n",
            " 0.82865623 0.83207509 0.84538496 0.85856582 0.82076496 0.82444182\n",
            " 0.81284499 0.87188997 0.87670647 0.8873357  0.88260522 0.87120193\n",
            " 0.86670796 0.87198313 0.87613308 0.86191294 0.86174097 0.86575471\n",
            " 0.87037047 0.86481574 0.86701614 0.8617768  0.85479573 0.85918219\n",
            " 0.86992614 0.88851832 0.88797363 0.87639108 0.87902152 0.88094237\n",
            " 0.88162327 0.87869899 0.87809697 0.87748774 0.86171227 0.85116906\n",
            " 0.88753638 0.88543634 0.88279162 0.89268262 0.89706187 0.91685823\n",
            " 0.89220239 0.88824598 0.90708187 0.9109881  0.89509084 0.89165763\n",
            " 0.88719235 0.88388821 0.88355847 0.88810263 0.88194581 0.91356836\n",
            " 0.91829171 0.93750032 0.95427202 0.96733103 1.         0.99496134\n",
            " 0.99309781 0.9980648  0.93865579 0.92316622 0.90002561 0.87492049\n",
            " 0.85038453 0.82753271 0.80692118 0.78882998 0.77334237 0.76037806\n",
            " 0.74972707 0.7410875  0.7341041  0.72840261 0.72361958 0.71942437\n",
            " 0.71553463 0.71172523 0.70782983 0.70374036 0.69939977 0.69479477\n",
            " 0.68994641 0.684901   0.67971927 0.67447019]\n",
            "26 day output [[0.6692226]]\n",
            "27 day input [0.77781078 0.8148877  0.80663805 0.80055291 0.80671687 0.80258127\n",
            " 0.80483899 0.82669955 0.81394879 0.80370656 0.80617217 0.82865623\n",
            " 0.83207509 0.84538496 0.85856582 0.82076496 0.82444182 0.81284499\n",
            " 0.87188997 0.87670647 0.8873357  0.88260522 0.87120193 0.86670796\n",
            " 0.87198313 0.87613308 0.86191294 0.86174097 0.86575471 0.87037047\n",
            " 0.86481574 0.86701614 0.8617768  0.85479573 0.85918219 0.86992614\n",
            " 0.88851832 0.88797363 0.87639108 0.87902152 0.88094237 0.88162327\n",
            " 0.87869899 0.87809697 0.87748774 0.86171227 0.85116906 0.88753638\n",
            " 0.88543634 0.88279162 0.89268262 0.89706187 0.91685823 0.89220239\n",
            " 0.88824598 0.90708187 0.9109881  0.89509084 0.89165763 0.88719235\n",
            " 0.88388821 0.88355847 0.88810263 0.88194581 0.91356836 0.91829171\n",
            " 0.93750032 0.95427202 0.96733103 1.         0.99496134 0.99309781\n",
            " 0.9980648  0.93865579 0.92316622 0.90002561 0.87492049 0.85038453\n",
            " 0.82753271 0.80692118 0.78882998 0.77334237 0.76037806 0.74972707\n",
            " 0.7410875  0.7341041  0.72840261 0.72361958 0.71942437 0.71553463\n",
            " 0.71172523 0.70782983 0.70374036 0.69939977 0.69479477 0.68994641\n",
            " 0.684901   0.67971927 0.67447019 0.66922259]\n",
            "27 day output [[0.66404086]]\n",
            "28 day input [0.8148877  0.80663805 0.80055291 0.80671687 0.80258127 0.80483899\n",
            " 0.82669955 0.81394879 0.80370656 0.80617217 0.82865623 0.83207509\n",
            " 0.84538496 0.85856582 0.82076496 0.82444182 0.81284499 0.87188997\n",
            " 0.87670647 0.8873357  0.88260522 0.87120193 0.86670796 0.87198313\n",
            " 0.87613308 0.86191294 0.86174097 0.86575471 0.87037047 0.86481574\n",
            " 0.86701614 0.8617768  0.85479573 0.85918219 0.86992614 0.88851832\n",
            " 0.88797363 0.87639108 0.87902152 0.88094237 0.88162327 0.87869899\n",
            " 0.87809697 0.87748774 0.86171227 0.85116906 0.88753638 0.88543634\n",
            " 0.88279162 0.89268262 0.89706187 0.91685823 0.89220239 0.88824598\n",
            " 0.90708187 0.9109881  0.89509084 0.89165763 0.88719235 0.88388821\n",
            " 0.88355847 0.88810263 0.88194581 0.91356836 0.91829171 0.93750032\n",
            " 0.95427202 0.96733103 1.         0.99496134 0.99309781 0.9980648\n",
            " 0.93865579 0.92316622 0.90002561 0.87492049 0.85038453 0.82753271\n",
            " 0.80692118 0.78882998 0.77334237 0.76037806 0.74972707 0.7410875\n",
            " 0.7341041  0.72840261 0.72361958 0.71942437 0.71553463 0.71172523\n",
            " 0.70782983 0.70374036 0.69939977 0.69479477 0.68994641 0.684901\n",
            " 0.67971927 0.67447019 0.66922259 0.66404086]\n",
            "28 day output [[0.65898025]]\n",
            "29 day input [0.80663805 0.80055291 0.80671687 0.80258127 0.80483899 0.82669955\n",
            " 0.81394879 0.80370656 0.80617217 0.82865623 0.83207509 0.84538496\n",
            " 0.85856582 0.82076496 0.82444182 0.81284499 0.87188997 0.87670647\n",
            " 0.8873357  0.88260522 0.87120193 0.86670796 0.87198313 0.87613308\n",
            " 0.86191294 0.86174097 0.86575471 0.87037047 0.86481574 0.86701614\n",
            " 0.8617768  0.85479573 0.85918219 0.86992614 0.88851832 0.88797363\n",
            " 0.87639108 0.87902152 0.88094237 0.88162327 0.87869899 0.87809697\n",
            " 0.87748774 0.86171227 0.85116906 0.88753638 0.88543634 0.88279162\n",
            " 0.89268262 0.89706187 0.91685823 0.89220239 0.88824598 0.90708187\n",
            " 0.9109881  0.89509084 0.89165763 0.88719235 0.88388821 0.88355847\n",
            " 0.88810263 0.88194581 0.91356836 0.91829171 0.93750032 0.95427202\n",
            " 0.96733103 1.         0.99496134 0.99309781 0.9980648  0.93865579\n",
            " 0.92316622 0.90002561 0.87492049 0.85038453 0.82753271 0.80692118\n",
            " 0.78882998 0.77334237 0.76037806 0.74972707 0.7410875  0.7341041\n",
            " 0.72840261 0.72361958 0.71942437 0.71553463 0.71172523 0.70782983\n",
            " 0.70374036 0.69939977 0.69479477 0.68994641 0.684901   0.67971927\n",
            " 0.67447019 0.66922259 0.66404086 0.65898025]\n",
            "29 day output [[0.65408486]]\n",
            "[[0.9386557936668396], [0.9231662154197693], [0.9000256061553955], [0.8749204874038696], [0.850384533405304], [0.8275327086448669], [0.8069211840629578], [0.7888299822807312], [0.7733423709869385], [0.7603780627250671], [0.7497270703315735], [0.7410874962806702], [0.7341040968894958], [0.7284026145935059], [0.7236195802688599], [0.7194243669509888], [0.7155346274375916], [0.7117252349853516], [0.7078298330307007], [0.7037403583526611], [0.6993997693061829], [0.694794774055481], [0.6899464130401611], [0.6849009990692139], [0.6797192692756653], [0.6744701862335205], [0.6692225933074951], [0.6640408635139465], [0.6589802503585815], [0.6540848612785339]]\n"
          ]
        }
      ]
    },
    {
      "cell_type": "code",
      "metadata": {
        "id": "IlnftgYC09yG"
      },
      "source": [
        "day_new=np.arange(1,101)\n",
        "day_pred=np.arange(101,131)"
      ],
      "execution_count": null,
      "outputs": []
    },
    {
      "cell_type": "code",
      "metadata": {
        "id": "bze8nU5i097V"
      },
      "source": [
        "import matplotlib.pyplot as plt"
      ],
      "execution_count": null,
      "outputs": []
    },
    {
      "cell_type": "code",
      "metadata": {
        "id": "VRcB21k71G4L",
        "colab": {
          "base_uri": "https://localhost:8080/"
        },
        "outputId": "4c9a7214-6074-4c85-c88b-7bdf076a0893"
      },
      "source": [
        "len(df1)"
      ],
      "execution_count": null,
      "outputs": [
        {
          "output_type": "execute_result",
          "data": {
            "text/plain": [
              "4754"
            ]
          },
          "metadata": {},
          "execution_count": 46
        }
      ]
    },
    {
      "cell_type": "code",
      "metadata": {
        "id": "TEVjz_Qy1Jec",
        "colab": {
          "base_uri": "https://localhost:8080/",
          "height": 469
        },
        "outputId": "b5c5645e-8690-4951-a1fe-a1c16d0fd56a"
      },
      "source": [
        "plt.plot(day_new,scaler.inverse_transform(df1[4654:]))\n",
        "plt.plot(day_pred,scaler.inverse_transform(lst_output))\n",
        "plt.title('Bajaj Prediction of Next 30 Days')"
      ],
      "execution_count": null,
      "outputs": [
        {
          "output_type": "execute_result",
          "data": {
            "text/plain": [
              "Text(0.5, 1.0, 'Bajaj Prediction of Next 30 Days')"
            ]
          },
          "metadata": {},
          "execution_count": 47
        },
        {
          "output_type": "display_data",
          "data": {
            "image/png": "[encoded data removed]",
            "text/plain": [
              "<Figure size 640x480 with 1 Axes>"
            ]
          },
          "metadata": {}
        }
      ]
    },
    {
      "cell_type": "code",
      "metadata": {
        "id": "ESp1lp3R1LfH",
        "colab": {
          "base_uri": "https://localhost:8080/",
          "height": 447
        },
        "outputId": "03125b81-0c08-4abb-92b3-ab94658d55b2"
      },
      "source": [
        "df3=df1.tolist()\n",
        "df3.extend(lst_output)\n",
        "plt.plot(df3[4230:])"
      ],
      "execution_count": null,
      "outputs": [
        {
          "output_type": "execute_result",
          "data": {
            "text/plain": [
              "[<matplotlib.lines.Line2D at 0x7f76a5baee10>]"
            ]
          },
          "metadata": {},
          "execution_count": 48
        },
        {
          "output_type": "display_data",
          "data": {
            "image/png": "[encoded data removed]",
            "text/plain": [
              "<Figure size 640x480 with 1 Axes>"
            ]
          },
          "metadata": {}
        }
      ]
    },
    {
      "cell_type": "code",
      "metadata": {
        "id": "OQK_oXwD1Lxv"
      },
      "source": [
        "df3=scaler.inverse_transform(df3).tolist()"
      ],
      "execution_count": null,
      "outputs": []
    },
    {
      "cell_type": "code",
      "metadata": {
        "id": "X3DpOmIs1MCQ",
        "colab": {
          "base_uri": "https://localhost:8080/",
          "height": 447
        },
        "outputId": "1d299247-be6f-4cb5-b347-b9ece801a73c"
      },
      "source": [
        "plt.plot(df3)"
      ],
      "execution_count": null,
      "outputs": [
        {
          "output_type": "execute_result",
          "data": {
            "text/plain": [
              "[<matplotlib.lines.Line2D at 0x7f76aa94e990>]"
            ]
          },
          "metadata": {},
          "execution_count": 50
        },
        {
          "output_type": "display_data",
          "data": {
            "image/png": "[encoded data removed]",
            "text/plain": [
              "<Figure size 640x480 with 1 Axes>"
            ]
          },
          "metadata": {}
        }
      ]
    }
  ]
}