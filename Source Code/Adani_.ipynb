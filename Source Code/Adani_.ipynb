{
  "nbformat": 4,
  "nbformat_minor": 0,
  "metadata": {
    "colab": {
      "name": "Adani:.ipynb",
      "provenance": [],
      "collapsed_sections": []
    },
    "kernelspec": {
      "name": "python3",
      "display_name": "Python 3"
    },
    "language_info": {
      "name": "python"
    }
  },
  "cells": [
    {
      "cell_type": "code",
      "metadata": {
        "colab": {
          "base_uri": "https://localhost:8080/"
        },
        "id": "nR34pB3lsVC8",
        "outputId": "121ea8eb-baa7-4ea8-af2a-5fa52621f74e"
      },
      "source": [
        "import os\n",
        "os.getcwd()\n",
        "from google.colab import drive\n",
        "drive.mount('/content/gdrive')\n",
        "os.chdir('/content/gdrive/My Drive')"
      ],
      "execution_count": null,
      "outputs": [
        {
          "output_type": "stream",
          "name": "stdout",
          "text": [
            "Mounted at /content/gdrive\n"
          ]
        }
      ]
    },
    {
      "cell_type": "code",
      "metadata": {
        "id": "j7NsICtPsY25"
      },
      "source": [
        "import pandas as pd\n",
        "import numpy as np\n",
        "import matplotlib.pyplot as plt\n",
        "import seaborn as sns\n",
        "import warnings\n",
        "warnings.filterwarnings(\"ignore\")\n",
        "\n",
        "FileName = 'ADANIENT.NS.csv'\n",
        "Adani=pd.read_csv(FileName)"
      ],
      "execution_count": null,
      "outputs": []
    },
    {
      "cell_type": "code",
      "metadata": {
        "colab": {
          "base_uri": "https://localhost:8080/",
          "height": 204
        },
        "id": "VHqN5qxmsdtL",
        "outputId": "b8bfdbdb-a4dc-4dc8-c25e-e17c1c0ce583"
      },
      "source": [
        "Adani.head()"
      ],
      "execution_count": null,
      "outputs": [
        {
          "output_type": "execute_result",
          "data": {
            "text/html": [
              "<div>\n",
              "<style scoped>\n",
              "    .dataframe tbody tr th:only-of-type {\n",
              "        vertical-align: middle;\n",
              "    }\n",
              "\n",
              "    .dataframe tbody tr th {\n",
              "        vertical-align: top;\n",
              "    }\n",
              "\n",
              "    .dataframe thead th {\n",
              "        text-align: right;\n",
              "    }\n",
              "</style>\n",
              "<table border=\"1\" class=\"dataframe\">\n",
              "  <thead>\n",
              "    <tr style=\"text-align: right;\">\n",
              "      <th></th>\n",
              "      <th>Date</th>\n",
              "      <th>Open</th>\n",
              "      <th>High</th>\n",
              "      <th>Low</th>\n",
              "      <th>Close</th>\n",
              "      <th>Volume</th>\n",
              "    </tr>\n",
              "  </thead>\n",
              "  <tbody>\n",
              "    <tr>\n",
              "      <th>0</th>\n",
              "      <td>01/07/2002</td>\n",
              "      <td>1.364148</td>\n",
              "      <td>1.401700</td>\n",
              "      <td>1.334259</td>\n",
              "      <td>1.362615</td>\n",
              "      <td>1080397</td>\n",
              "    </tr>\n",
              "    <tr>\n",
              "      <th>1</th>\n",
              "      <td>02/07/2002</td>\n",
              "      <td>1.386372</td>\n",
              "      <td>1.390971</td>\n",
              "      <td>1.356484</td>\n",
              "      <td>1.373344</td>\n",
              "      <td>1016147</td>\n",
              "    </tr>\n",
              "    <tr>\n",
              "      <th>2</th>\n",
              "      <td>03/07/2002</td>\n",
              "      <td>1.371811</td>\n",
              "      <td>1.387139</td>\n",
              "      <td>1.364914</td>\n",
              "      <td>1.373344</td>\n",
              "      <td>980394</td>\n",
              "    </tr>\n",
              "    <tr>\n",
              "      <th>3</th>\n",
              "      <td>04/07/2002</td>\n",
              "      <td>1.379475</td>\n",
              "      <td>1.401700</td>\n",
              "      <td>1.379475</td>\n",
              "      <td>1.381008</td>\n",
              "      <td>972747</td>\n",
              "    </tr>\n",
              "    <tr>\n",
              "      <th>4</th>\n",
              "      <td>05/07/2002</td>\n",
              "      <td>1.388672</td>\n",
              "      <td>1.388672</td>\n",
              "      <td>1.372578</td>\n",
              "      <td>1.377942</td>\n",
              "      <td>974496</td>\n",
              "    </tr>\n",
              "  </tbody>\n",
              "</table>\n",
              "</div>"
            ],
            "text/plain": [
              "         Date      Open      High       Low     Close   Volume\n",
              "0  01/07/2002  1.364148  1.401700  1.334259  1.362615  1080397\n",
              "1  02/07/2002  1.386372  1.390971  1.356484  1.373344  1016147\n",
              "2  03/07/2002  1.371811  1.387139  1.364914  1.373344   980394\n",
              "3  04/07/2002  1.379475  1.401700  1.379475  1.381008   972747\n",
              "4  05/07/2002  1.388672  1.388672  1.372578  1.377942   974496"
            ]
          },
          "metadata": {},
          "execution_count": 3
        }
      ]
    },
    {
      "cell_type": "code",
      "metadata": {
        "colab": {
          "base_uri": "https://localhost:8080/",
          "height": 204
        },
        "id": "8RFQUgbQsliu",
        "outputId": "d5d57d21-39c0-4c6a-fe73-5e7dacff70a8"
      },
      "source": [
        "Adani.tail()"
      ],
      "execution_count": null,
      "outputs": [
        {
          "output_type": "execute_result",
          "data": {
            "text/html": [
              "<div>\n",
              "<style scoped>\n",
              "    .dataframe tbody tr th:only-of-type {\n",
              "        vertical-align: middle;\n",
              "    }\n",
              "\n",
              "    .dataframe tbody tr th {\n",
              "        vertical-align: top;\n",
              "    }\n",
              "\n",
              "    .dataframe thead th {\n",
              "        text-align: right;\n",
              "    }\n",
              "</style>\n",
              "<table border=\"1\" class=\"dataframe\">\n",
              "  <thead>\n",
              "    <tr style=\"text-align: right;\">\n",
              "      <th></th>\n",
              "      <th>Date</th>\n",
              "      <th>Open</th>\n",
              "      <th>High</th>\n",
              "      <th>Low</th>\n",
              "      <th>Close</th>\n",
              "      <th>Volume</th>\n",
              "    </tr>\n",
              "  </thead>\n",
              "  <tbody>\n",
              "    <tr>\n",
              "      <th>4751</th>\n",
              "      <td>23/08/2021</td>\n",
              "      <td>1415.050049</td>\n",
              "      <td>1427.750000</td>\n",
              "      <td>1361.550049</td>\n",
              "      <td>1396.699951</td>\n",
              "      <td>4866080</td>\n",
              "    </tr>\n",
              "    <tr>\n",
              "      <th>4752</th>\n",
              "      <td>24/08/2021</td>\n",
              "      <td>1407.000000</td>\n",
              "      <td>1448.400024</td>\n",
              "      <td>1390.000000</td>\n",
              "      <td>1437.800049</td>\n",
              "      <td>3362312</td>\n",
              "    </tr>\n",
              "    <tr>\n",
              "      <th>4753</th>\n",
              "      <td>25/08/2021</td>\n",
              "      <td>1444.250000</td>\n",
              "      <td>1481.800049</td>\n",
              "      <td>1425.000000</td>\n",
              "      <td>1475.349976</td>\n",
              "      <td>5361140</td>\n",
              "    </tr>\n",
              "    <tr>\n",
              "      <th>4754</th>\n",
              "      <td>26/08/2021</td>\n",
              "      <td>1482.000000</td>\n",
              "      <td>1494.650024</td>\n",
              "      <td>1460.400024</td>\n",
              "      <td>1475.699951</td>\n",
              "      <td>4678919</td>\n",
              "    </tr>\n",
              "    <tr>\n",
              "      <th>4755</th>\n",
              "      <td>27/08/2021</td>\n",
              "      <td>1475.000000</td>\n",
              "      <td>1515.000000</td>\n",
              "      <td>1474.099976</td>\n",
              "      <td>1506.050049</td>\n",
              "      <td>5164477</td>\n",
              "    </tr>\n",
              "  </tbody>\n",
              "</table>\n",
              "</div>"
            ],
            "text/plain": [
              "            Date         Open         High          Low        Close   Volume\n",
              "4751  23/08/2021  1415.050049  1427.750000  1361.550049  1396.699951  4866080\n",
              "4752  24/08/2021  1407.000000  1448.400024  1390.000000  1437.800049  3362312\n",
              "4753  25/08/2021  1444.250000  1481.800049  1425.000000  1475.349976  5361140\n",
              "4754  26/08/2021  1482.000000  1494.650024  1460.400024  1475.699951  4678919\n",
              "4755  27/08/2021  1475.000000  1515.000000  1474.099976  1506.050049  5164477"
            ]
          },
          "metadata": {},
          "execution_count": 4
        }
      ]
    },
    {
      "cell_type": "code",
      "metadata": {
        "id": "rEZ7LUoQstCX"
      },
      "source": [
        "df1=Adani.reset_index()['Close']"
      ],
      "execution_count": null,
      "outputs": []
    },
    {
      "cell_type": "code",
      "metadata": {
        "colab": {
          "base_uri": "https://localhost:8080/"
        },
        "id": "6QiqnOOIs_9e",
        "outputId": "e6ceede9-b1ac-4fe3-cca9-5d05be31e075"
      },
      "source": [
        "df1.shape"
      ],
      "execution_count": null,
      "outputs": [
        {
          "output_type": "execute_result",
          "data": {
            "text/plain": [
              "(4756,)"
            ]
          },
          "metadata": {},
          "execution_count": 6
        }
      ]
    },
    {
      "cell_type": "code",
      "metadata": {
        "colab": {
          "base_uri": "https://localhost:8080/"
        },
        "id": "bGBroGQVtHM8",
        "outputId": "ac1e62bf-f2b3-440d-c9d8-3d336182f4aa"
      },
      "source": [
        "df1"
      ],
      "execution_count": null,
      "outputs": [
        {
          "output_type": "execute_result",
          "data": {
            "text/plain": [
              "0          1.362615\n",
              "1          1.373344\n",
              "2          1.373344\n",
              "3          1.381008\n",
              "4          1.377942\n",
              "           ...     \n",
              "4751    1396.699951\n",
              "4752    1437.800049\n",
              "4753    1475.349976\n",
              "4754    1475.699951\n",
              "4755    1506.050049\n",
              "Name: Close, Length: 4756, dtype: float64"
            ]
          },
          "metadata": {},
          "execution_count": 7
        }
      ]
    },
    {
      "cell_type": "code",
      "metadata": {
        "colab": {
          "base_uri": "https://localhost:8080/",
          "height": 407
        },
        "id": "86bXNskKtJcq",
        "outputId": "f4e424a1-d811-414f-85e6-48ba42092a06"
      },
      "source": [
        "import matplotlib.pyplot as plt\n",
        "plt.figure(figsize=(20,6))\n",
        "plt.title('Adani Share Price of 2002 - 2021')\n",
        "plt.plot(df1)"
      ],
      "execution_count": null,
      "outputs": [
        {
          "output_type": "execute_result",
          "data": {
            "text/plain": [
              "[<matplotlib.lines.Line2D at 0x7f69d44606d0>]"
            ]
          },
          "metadata": {},
          "execution_count": 8
        },
        {
          "output_type": "display_data",
          "data": {
            "image/png": "[encoded data removed]",
            "text/plain": [
              "<Figure size 1440x432 with 1 Axes>"
            ]
          },
          "metadata": {
            "needs_background": "light"
          }
        }
      ]
    },
    {
      "cell_type": "code",
      "metadata": {
        "colab": {
          "base_uri": "https://localhost:8080/"
        },
        "id": "okYCKuTMRHJl",
        "outputId": "196ae579-50f8-4a70-c636-e62320dbe4cb"
      },
      "source": [
        "Adani.Date = pd.to_datetime(Adani.Date)\n",
        "Adani.info()"
      ],
      "execution_count": null,
      "outputs": [
        {
          "output_type": "stream",
          "name": "stdout",
          "text": [
            "<class 'pandas.core.frame.DataFrame'>\n",
            "RangeIndex: 4756 entries, 0 to 4755\n",
            "Data columns (total 6 columns):\n",
            " #   Column  Non-Null Count  Dtype         \n",
            "---  ------  --------------  -----         \n",
            " 0   Date    4756 non-null   datetime64[ns]\n",
            " 1   Open    4756 non-null   float64       \n",
            " 2   High    4756 non-null   float64       \n",
            " 3   Low     4756 non-null   float64       \n",
            " 4   Close   4756 non-null   float64       \n",
            " 5   Volume  4756 non-null   int64         \n",
            "dtypes: datetime64[ns](1), float64(4), int64(1)\n",
            "memory usage: 223.1 KB\n"
          ]
        }
      ]
    },
    {
      "cell_type": "code",
      "metadata": {
        "id": "TVSWgk0CRMmr"
      },
      "source": [
        "Adani = Adani.set_index('Date')"
      ],
      "execution_count": null,
      "outputs": []
    },
    {
      "cell_type": "code",
      "metadata": {
        "colab": {
          "base_uri": "https://localhost:8080/"
        },
        "id": "unJCMvGERRDR",
        "outputId": "d7ebae84-8bd6-4dd9-d730-2ee020714c22"
      },
      "source": [
        "pip install https://github.com/matplotlib/mpl_finance/archive/master.zip"
      ],
      "execution_count": null,
      "outputs": [
        {
          "output_type": "stream",
          "name": "stdout",
          "text": [
            "Collecting https://github.com/matplotlib/mpl_finance/archive/master.zip\n",
            "  Downloading https://github.com/matplotlib/mpl_finance/archive/master.zip\n",
            "\u001b[K     / 306 kB 653 kB/s\n",
            "\u001b[?25hRequirement already satisfied: matplotlib in /usr/local/lib/python3.7/dist-packages (from mpl-finance==0.10.1) (3.2.2)\n",
            "Requirement already satisfied: kiwisolver>=1.0.1 in /usr/local/lib/python3.7/dist-packages (from matplotlib->mpl-finance==0.10.1) (1.3.1)\n",
            "Requirement already satisfied: python-dateutil>=2.1 in /usr/local/lib/python3.7/dist-packages (from matplotlib->mpl-finance==0.10.1) (2.8.2)\n",
            "Requirement already satisfied: numpy>=1.11 in /usr/local/lib/python3.7/dist-packages (from matplotlib->mpl-finance==0.10.1) (1.19.5)\n",
            "Requirement already satisfied: cycler>=0.10 in /usr/local/lib/python3.7/dist-packages (from matplotlib->mpl-finance==0.10.1) (0.10.0)\n",
            "Requirement already satisfied: pyparsing!=2.0.4,!=2.1.2,!=2.1.6,>=2.0.1 in /usr/local/lib/python3.7/dist-packages (from matplotlib->mpl-finance==0.10.1) (2.4.7)\n",
            "Requirement already satisfied: six in /usr/local/lib/python3.7/dist-packages (from cycler>=0.10->matplotlib->mpl-finance==0.10.1) (1.15.0)\n",
            "Building wheels for collected packages: mpl-finance\n",
            "  Building wheel for mpl-finance (setup.py) ... \u001b[?25l\u001b[?25hdone\n",
            "  Created wheel for mpl-finance: filename=mpl_finance-0.10.1-py3-none-any.whl size=8435 sha256=e128a16846fff561d7e83cfe3146983329d5daefb63ea27086adc44c5f0f1845\n",
            "  Stored in directory: /tmp/pip-ephem-wheel-cache-869cmcg4/wheels/eb/17/99/0f3929e635912eb25fc346aaf43b4ee3da4a80dee8ce3d2e4f\n",
            "Successfully built mpl-finance\n",
            "Installing collected packages: mpl-finance\n",
            "Successfully installed mpl-finance-0.10.1\n"
          ]
        }
      ]
    },
    {
      "cell_type": "code",
      "metadata": {
        "colab": {
          "base_uri": "https://localhost:8080/"
        },
        "id": "O5XkZiVZRWnM",
        "outputId": "23f9dfed-db33-4403-f784-0ca0b04e71de"
      },
      "source": [
        "pip install --upgrade mplfinance"
      ],
      "execution_count": null,
      "outputs": [
        {
          "output_type": "stream",
          "name": "stdout",
          "text": [
            "Collecting mplfinance\n",
            "  Downloading mplfinance-0.12.7a17-py3-none-any.whl (62 kB)\n",
            "\u001b[?25l\r\u001b[K     |█████▎                          | 10 kB 24.3 MB/s eta 0:00:01\r\u001b[K     |██████████▌                     | 20 kB 9.8 MB/s eta 0:00:01\r\u001b[K     |███████████████▊                | 30 kB 8.2 MB/s eta 0:00:01\r\u001b[K     |█████████████████████           | 40 kB 7.4 MB/s eta 0:00:01\r\u001b[K     |██████████████████████████▎     | 51 kB 4.1 MB/s eta 0:00:01\r\u001b[K     |███████████████████████████████▌| 61 kB 4.4 MB/s eta 0:00:01\r\u001b[K     |████████████████████████████████| 62 kB 762 kB/s \n",
            "\u001b[?25hRequirement already satisfied: matplotlib in /usr/local/lib/python3.7/dist-packages (from mplfinance) (3.2.2)\n",
            "Requirement already satisfied: pandas in /usr/local/lib/python3.7/dist-packages (from mplfinance) (1.1.5)\n",
            "Requirement already satisfied: python-dateutil>=2.1 in /usr/local/lib/python3.7/dist-packages (from matplotlib->mplfinance) (2.8.2)\n",
            "Requirement already satisfied: numpy>=1.11 in /usr/local/lib/python3.7/dist-packages (from matplotlib->mplfinance) (1.19.5)\n",
            "Requirement already satisfied: kiwisolver>=1.0.1 in /usr/local/lib/python3.7/dist-packages (from matplotlib->mplfinance) (1.3.1)\n",
            "Requirement already satisfied: cycler>=0.10 in /usr/local/lib/python3.7/dist-packages (from matplotlib->mplfinance) (0.10.0)\n",
            "Requirement already satisfied: pyparsing!=2.0.4,!=2.1.2,!=2.1.6,>=2.0.1 in /usr/local/lib/python3.7/dist-packages (from matplotlib->mplfinance) (2.4.7)\n",
            "Requirement already satisfied: six in /usr/local/lib/python3.7/dist-packages (from cycler>=0.10->matplotlib->mplfinance) (1.15.0)\n",
            "Requirement already satisfied: pytz>=2017.2 in /usr/local/lib/python3.7/dist-packages (from pandas->mplfinance) (2018.9)\n",
            "Installing collected packages: mplfinance\n",
            "Successfully installed mplfinance-0.12.7a17\n"
          ]
        }
      ]
    },
    {
      "cell_type": "code",
      "metadata": {
        "colab": {
          "base_uri": "https://localhost:8080/",
          "height": 427
        },
        "id": "rRaVAshAQzsA",
        "outputId": "9931b2ee-7ca7-41a6-b2f9-06c1e087e4de"
      },
      "source": [
        "import mplfinance as mpf\n",
        "mpf.plot(Adani['2020'], \n",
        "         type='candle', mav=(20), \n",
        "         volume=True, \n",
        "         title = 'Adani Share Price of 2020', \n",
        "         figratio=(20,6), tight_layout = True, \n",
        "         style = 'yahoo')"
      ],
      "execution_count": null,
      "outputs": [
        {
          "output_type": "display_data",
          "data": {
            "image/png": "[encoded data removed]",
            "text/plain": [
              "<Figure size 1916.67x575 with 4 Axes>"
            ]
          },
          "metadata": {}
        }
      ]
    },
    {
      "cell_type": "code",
      "metadata": {
        "id": "KhmzK0wQtjLc"
      },
      "source": [
        "import numpy as np"
      ],
      "execution_count": null,
      "outputs": []
    },
    {
      "cell_type": "code",
      "metadata": {
        "id": "11F8IoZWtpSq"
      },
      "source": [
        "from sklearn.preprocessing import MinMaxScaler\n",
        "scaler = MinMaxScaler(feature_range=(0,1))\n",
        "df1=scaler.fit_transform(np.array(df1).reshape(-1,1))"
      ],
      "execution_count": null,
      "outputs": []
    },
    {
      "cell_type": "code",
      "metadata": {
        "colab": {
          "base_uri": "https://localhost:8080/"
        },
        "id": "yZaN017SuDfy",
        "outputId": "129d823c-00cf-43c0-e7fe-f3f4489e4b0d"
      },
      "source": [
        "df1"
      ],
      "execution_count": null,
      "outputs": [
        {
          "output_type": "execute_result",
          "data": {
            "text/plain": [
              "array([[2.60563003e-04],\n",
              "       [2.66874067e-04],\n",
              "       [2.66874067e-04],\n",
              "       ...,\n",
              "       [8.67296498e-01],\n",
              "       [8.67502362e-01],\n",
              "       [8.85355042e-01]])"
            ]
          },
          "metadata": {},
          "execution_count": 16
        }
      ]
    },
    {
      "cell_type": "code",
      "metadata": {
        "id": "v8nlDnRtuIUJ"
      },
      "source": [
        "training_size=int(len(df1)*0.75)\n",
        "test_size=len(df1)-training_size\n",
        "train_data,test_data=df1[0:training_size,:],df1[training_size:len(df1),:1]"
      ],
      "execution_count": null,
      "outputs": []
    },
    {
      "cell_type": "code",
      "metadata": {
        "colab": {
          "base_uri": "https://localhost:8080/"
        },
        "id": "7BE7WAuPuhZB",
        "outputId": "feaff8f8-0913-4036-cf1f-e63138d27555"
      },
      "source": [
        "training_size, test_size"
      ],
      "execution_count": null,
      "outputs": [
        {
          "output_type": "execute_result",
          "data": {
            "text/plain": [
              "(3567, 1189)"
            ]
          },
          "metadata": {},
          "execution_count": 18
        }
      ]
    },
    {
      "cell_type": "code",
      "metadata": {
        "colab": {
          "base_uri": "https://localhost:8080/"
        },
        "id": "l22HaDOrvDlY",
        "outputId": "49786fab-9aab-424f-ec57-d9bc1aa05da8"
      },
      "source": [
        "len(train_data), len(test_data)"
      ],
      "execution_count": null,
      "outputs": [
        {
          "output_type": "execute_result",
          "data": {
            "text/plain": [
              "(3567, 1189)"
            ]
          },
          "metadata": {},
          "execution_count": 19
        }
      ]
    },
    {
      "cell_type": "code",
      "metadata": {
        "id": "Wfb3iGg8vNYX"
      },
      "source": [
        "import numpy \n",
        "def create_dataset(dataset, time_step=1):\n",
        "  dataX, dataY = [], []\n",
        "  for i in range (len(dataset)-time_step-1):\n",
        "    a = dataset[i:(i+time_step), 0]\n",
        "    dataX.append(a)\n",
        "    dataY.append(dataset[i + time_step, 0])\n",
        "  return numpy.array(dataX), numpy.array(dataY)"
      ],
      "execution_count": null,
      "outputs": []
    },
    {
      "cell_type": "code",
      "metadata": {
        "id": "HbGS_OF4wMHh"
      },
      "source": [
        "time_step = 100\n",
        "X_train, y_train = create_dataset(train_data, time_step)\n",
        "X_test, y_test = create_dataset(test_data, time_step)"
      ],
      "execution_count": null,
      "outputs": []
    },
    {
      "cell_type": "code",
      "metadata": {
        "colab": {
          "base_uri": "https://localhost:8080/"
        },
        "id": "iKr4-5H0we3U",
        "outputId": "13ee49b6-e6a5-4121-e620-ba204b3b7140"
      },
      "source": [
        "print(X_train)"
      ],
      "execution_count": null,
      "outputs": [
        {
          "output_type": "stream",
          "name": "stdout",
          "text": [
            "[[0.00026056 0.00026687 0.00026687 ... 0.00013208 0.00015057 0.00016815]\n",
            " [0.00026687 0.00026687 0.00027138 ... 0.00015057 0.00016815 0.00016454]\n",
            " [0.00026687 0.00027138 0.00026958 ... 0.00016815 0.00016454 0.00016454]\n",
            " ...\n",
            " [0.02354645 0.02367466 0.02255282 ... 0.02234448 0.02109444 0.02103033]\n",
            " [0.02367466 0.02255282 0.02263295 ... 0.02109444 0.02103033 0.02091815]\n",
            " [0.02255282 0.02263295 0.02279322 ... 0.02103033 0.02091815 0.02090212]]\n"
          ]
        }
      ]
    },
    {
      "cell_type": "code",
      "metadata": {
        "colab": {
          "base_uri": "https://localhost:8080/"
        },
        "id": "BKBYRqekw6pj",
        "outputId": "f01d899b-2064-4d79-8d90-f25cc442ef32"
      },
      "source": [
        "print(X_train.shape), print(y_train.shape)"
      ],
      "execution_count": null,
      "outputs": [
        {
          "output_type": "stream",
          "name": "stdout",
          "text": [
            "(3466, 100)\n",
            "(3466,)\n"
          ]
        },
        {
          "output_type": "execute_result",
          "data": {
            "text/plain": [
              "(None, None)"
            ]
          },
          "metadata": {},
          "execution_count": 23
        }
      ]
    },
    {
      "cell_type": "code",
      "metadata": {
        "colab": {
          "base_uri": "https://localhost:8080/"
        },
        "id": "_sIswsCTwiMV",
        "outputId": "49ca9783-39d2-4ff5-b5d0-69e52ad3d923"
      },
      "source": [
        "print(X_test.shape), print(y_test.shape)"
      ],
      "execution_count": null,
      "outputs": [
        {
          "output_type": "stream",
          "name": "stdout",
          "text": [
            "(1088, 100)\n",
            "(1088,)\n"
          ]
        },
        {
          "output_type": "execute_result",
          "data": {
            "text/plain": [
              "(None, None)"
            ]
          },
          "metadata": {},
          "execution_count": 24
        }
      ]
    },
    {
      "cell_type": "code",
      "metadata": {
        "id": "2QsJz9xPw92t"
      },
      "source": [
        "X_train =X_train.reshape(X_train.shape[0],X_train.shape[1] , 1)\n",
        "X_test = X_test.reshape(X_test.shape[0],X_test.shape[1] , 1)"
      ],
      "execution_count": null,
      "outputs": []
    },
    {
      "cell_type": "code",
      "metadata": {
        "id": "YY-0K12vytcx"
      },
      "source": [
        "from tensorflow.keras.models import Sequential\n",
        "from tensorflow.keras.layers import Dense\n",
        "from tensorflow.keras.layers import LSTM"
      ],
      "execution_count": null,
      "outputs": []
    },
    {
      "cell_type": "code",
      "metadata": {
        "id": "_V5wKTh7yzKN"
      },
      "source": [
        "model=Sequential()\n",
        "model.add(LSTM(50,return_sequences=True,input_shape=(100,1)))\n",
        "model.add(LSTM(50,return_sequences=True))\n",
        "model.add(LSTM(50))\n",
        "model.add(Dense(1))\n",
        "model.compile(loss='mean_squared_error', optimizer='adam')"
      ],
      "execution_count": null,
      "outputs": []
    },
    {
      "cell_type": "code",
      "metadata": {
        "colab": {
          "base_uri": "https://localhost:8080/"
        },
        "id": "qBPJ3FOXy_H_",
        "outputId": "cfc7b7fe-af64-4c13-9d39-03c5e6cf4033"
      },
      "source": [
        "model.summary()"
      ],
      "execution_count": null,
      "outputs": [
        {
          "output_type": "stream",
          "name": "stdout",
          "text": [
            "Model: \"sequential\"\n",
            "_________________________________________________________________\n",
            "Layer (type)                 Output Shape              Param #   \n",
            "=================================================================\n",
            "lstm (LSTM)                  (None, 100, 50)           10400     \n",
            "_________________________________________________________________\n",
            "lstm_1 (LSTM)                (None, 100, 50)           20200     \n",
            "_________________________________________________________________\n",
            "lstm_2 (LSTM)                (None, 50)                20200     \n",
            "_________________________________________________________________\n",
            "dense (Dense)                (None, 1)                 51        \n",
            "=================================================================\n",
            "Total params: 50,851\n",
            "Trainable params: 50,851\n",
            "Non-trainable params: 0\n",
            "_________________________________________________________________\n"
          ]
        }
      ]
    },
    {
      "cell_type": "code",
      "metadata": {
        "colab": {
          "base_uri": "https://localhost:8080/"
        },
        "id": "nVPrvBSvziFh",
        "outputId": "4e5ceba5-574b-43e3-ddf2-fd889b11945e"
      },
      "source": [
        "model.fit(X_train, y_train, validation_data=(X_test, y_test), epochs=100, batch_size=64, verbose=1)"
      ],
      "execution_count": null,
      "outputs": [
        {
          "output_type": "stream",
          "name": "stdout",
          "text": [
            "Epoch 1/100\n",
            "55/55 [==============================] - 17s 212ms/step - loss: 1.0618e-04 - val_loss: 0.0042\n",
            "Epoch 2/100\n",
            "55/55 [==============================] - 10s 185ms/step - loss: 1.1108e-05 - val_loss: 0.0050\n",
            "Epoch 3/100\n",
            "55/55 [==============================] - 10s 184ms/step - loss: 1.3955e-05 - val_loss: 0.0017\n",
            "Epoch 4/100\n",
            "55/55 [==============================] - 10s 187ms/step - loss: 9.4050e-06 - val_loss: 0.0026\n",
            "Epoch 5/100\n",
            "55/55 [==============================] - 10s 186ms/step - loss: 8.9628e-06 - val_loss: 0.0025\n",
            "Epoch 6/100\n",
            "55/55 [==============================] - 10s 188ms/step - loss: 8.4309e-06 - val_loss: 0.0021\n",
            "Epoch 7/100\n",
            "55/55 [==============================] - 10s 187ms/step - loss: 8.4694e-06 - val_loss: 0.0023\n",
            "Epoch 8/100\n",
            "55/55 [==============================] - 10s 187ms/step - loss: 8.6819e-06 - val_loss: 0.0026\n",
            "Epoch 9/100\n",
            "55/55 [==============================] - 10s 188ms/step - loss: 6.9509e-06 - val_loss: 0.0022\n",
            "Epoch 10/100\n",
            "55/55 [==============================] - 10s 189ms/step - loss: 6.4473e-06 - val_loss: 0.0023\n",
            "Epoch 11/100\n",
            "55/55 [==============================] - 10s 188ms/step - loss: 6.6072e-06 - val_loss: 0.0019\n",
            "Epoch 12/100\n",
            "55/55 [==============================] - 10s 187ms/step - loss: 5.7101e-06 - val_loss: 0.0021\n",
            "Epoch 13/100\n",
            "55/55 [==============================] - 10s 188ms/step - loss: 5.6404e-06 - val_loss: 0.0027\n",
            "Epoch 14/100\n",
            "55/55 [==============================] - 10s 189ms/step - loss: 6.3037e-06 - val_loss: 0.0018\n",
            "Epoch 15/100\n",
            "55/55 [==============================] - 10s 191ms/step - loss: 5.1430e-06 - val_loss: 0.0027\n",
            "Epoch 16/100\n",
            "55/55 [==============================] - 10s 187ms/step - loss: 5.9268e-06 - val_loss: 0.0022\n",
            "Epoch 17/100\n",
            "55/55 [==============================] - 10s 187ms/step - loss: 5.6355e-06 - val_loss: 0.0018\n",
            "Epoch 18/100\n",
            "55/55 [==============================] - 10s 188ms/step - loss: 5.3358e-06 - val_loss: 0.0014\n",
            "Epoch 19/100\n",
            "55/55 [==============================] - 11s 193ms/step - loss: 4.8982e-06 - val_loss: 0.0030\n",
            "Epoch 20/100\n",
            "55/55 [==============================] - 10s 188ms/step - loss: 4.5186e-06 - val_loss: 0.0023\n",
            "Epoch 21/100\n",
            "55/55 [==============================] - 10s 187ms/step - loss: 3.9160e-06 - val_loss: 0.0024\n",
            "Epoch 22/100\n",
            "55/55 [==============================] - 10s 186ms/step - loss: 3.8543e-06 - val_loss: 0.0020\n",
            "Epoch 23/100\n",
            "55/55 [==============================] - 10s 188ms/step - loss: 3.9879e-06 - val_loss: 0.0027\n",
            "Epoch 24/100\n",
            "55/55 [==============================] - 10s 188ms/step - loss: 3.7860e-06 - val_loss: 0.0023\n",
            "Epoch 25/100\n",
            "55/55 [==============================] - 10s 188ms/step - loss: 3.4655e-06 - val_loss: 0.0033\n",
            "Epoch 26/100\n",
            "55/55 [==============================] - 10s 189ms/step - loss: 4.0122e-06 - val_loss: 0.0020\n",
            "Epoch 27/100\n",
            "55/55 [==============================] - 10s 190ms/step - loss: 3.1947e-06 - val_loss: 0.0029\n",
            "Epoch 28/100\n",
            "55/55 [==============================] - 10s 189ms/step - loss: 3.5203e-06 - val_loss: 0.0015\n",
            "Epoch 29/100\n",
            "55/55 [==============================] - 10s 189ms/step - loss: 3.1957e-06 - val_loss: 0.0019\n",
            "Epoch 30/100\n",
            "55/55 [==============================] - 10s 188ms/step - loss: 3.1017e-06 - val_loss: 0.0020\n",
            "Epoch 31/100\n",
            "55/55 [==============================] - 10s 189ms/step - loss: 3.0200e-06 - val_loss: 0.0018\n",
            "Epoch 32/100\n",
            "55/55 [==============================] - 10s 190ms/step - loss: 3.0099e-06 - val_loss: 0.0017\n",
            "Epoch 33/100\n",
            "55/55 [==============================] - 10s 187ms/step - loss: 2.9311e-06 - val_loss: 0.0024\n",
            "Epoch 34/100\n",
            "55/55 [==============================] - 10s 187ms/step - loss: 2.9465e-06 - val_loss: 0.0015\n",
            "Epoch 35/100\n",
            "55/55 [==============================] - 10s 189ms/step - loss: 2.8145e-06 - val_loss: 0.0014\n",
            "Epoch 36/100\n",
            "55/55 [==============================] - 10s 187ms/step - loss: 3.1576e-06 - val_loss: 0.0017\n",
            "Epoch 37/100\n",
            "55/55 [==============================] - 10s 187ms/step - loss: 2.8686e-06 - val_loss: 0.0019\n",
            "Epoch 38/100\n",
            "55/55 [==============================] - 11s 191ms/step - loss: 2.7481e-06 - val_loss: 0.0015\n",
            "Epoch 39/100\n",
            "55/55 [==============================] - 10s 187ms/step - loss: 2.4633e-06 - val_loss: 0.0013\n",
            "Epoch 40/100\n",
            "55/55 [==============================] - 10s 188ms/step - loss: 2.7354e-06 - val_loss: 0.0017\n",
            "Epoch 41/100\n",
            "55/55 [==============================] - 10s 187ms/step - loss: 3.1762e-06 - val_loss: 0.0015\n",
            "Epoch 42/100\n",
            "55/55 [==============================] - 10s 188ms/step - loss: 2.4111e-06 - val_loss: 0.0014\n",
            "Epoch 43/100\n",
            "55/55 [==============================] - 10s 190ms/step - loss: 2.7378e-06 - val_loss: 0.0019\n",
            "Epoch 44/100\n",
            "55/55 [==============================] - 10s 189ms/step - loss: 2.2708e-06 - val_loss: 0.0011\n",
            "Epoch 45/100\n",
            "55/55 [==============================] - 10s 187ms/step - loss: 2.2253e-06 - val_loss: 0.0018\n",
            "Epoch 46/100\n",
            "55/55 [==============================] - 10s 190ms/step - loss: 2.0487e-06 - val_loss: 0.0012\n",
            "Epoch 47/100\n",
            "55/55 [==============================] - 10s 189ms/step - loss: 2.4141e-06 - val_loss: 8.8036e-04\n",
            "Epoch 48/100\n",
            "55/55 [==============================] - 10s 190ms/step - loss: 2.4519e-06 - val_loss: 0.0015\n",
            "Epoch 49/100\n",
            "55/55 [==============================] - 10s 188ms/step - loss: 2.0361e-06 - val_loss: 0.0015\n",
            "Epoch 50/100\n",
            "55/55 [==============================] - 10s 189ms/step - loss: 2.0526e-06 - val_loss: 0.0011\n",
            "Epoch 51/100\n",
            "55/55 [==============================] - 10s 188ms/step - loss: 1.9508e-06 - val_loss: 0.0012\n",
            "Epoch 52/100\n",
            "55/55 [==============================] - 10s 188ms/step - loss: 2.0553e-06 - val_loss: 0.0018\n",
            "Epoch 53/100\n",
            "55/55 [==============================] - 10s 188ms/step - loss: 2.3062e-06 - val_loss: 0.0011\n",
            "Epoch 54/100\n",
            "55/55 [==============================] - 10s 189ms/step - loss: 1.9565e-06 - val_loss: 0.0013\n",
            "Epoch 55/100\n",
            "55/55 [==============================] - 11s 193ms/step - loss: 1.9772e-06 - val_loss: 6.5469e-04\n",
            "Epoch 56/100\n",
            "55/55 [==============================] - 10s 189ms/step - loss: 2.5166e-06 - val_loss: 0.0011\n",
            "Epoch 57/100\n",
            "55/55 [==============================] - 10s 188ms/step - loss: 1.7936e-06 - val_loss: 0.0015\n",
            "Epoch 58/100\n",
            "55/55 [==============================] - 10s 189ms/step - loss: 1.7572e-06 - val_loss: 0.0011\n",
            "Epoch 59/100\n",
            "55/55 [==============================] - 10s 189ms/step - loss: 1.7931e-06 - val_loss: 9.4875e-04\n",
            "Epoch 60/100\n",
            "55/55 [==============================] - 10s 190ms/step - loss: 1.5448e-06 - val_loss: 0.0011\n",
            "Epoch 61/100\n",
            "55/55 [==============================] - 10s 190ms/step - loss: 1.7317e-06 - val_loss: 0.0012\n",
            "Epoch 62/100\n",
            "55/55 [==============================] - 10s 190ms/step - loss: 1.6283e-06 - val_loss: 0.0011\n",
            "Epoch 63/100\n",
            "55/55 [==============================] - 10s 189ms/step - loss: 1.8887e-06 - val_loss: 8.5913e-04\n",
            "Epoch 64/100\n",
            "55/55 [==============================] - 10s 187ms/step - loss: 1.7083e-06 - val_loss: 0.0013\n",
            "Epoch 65/100\n",
            "55/55 [==============================] - 10s 189ms/step - loss: 1.7743e-06 - val_loss: 0.0013\n",
            "Epoch 66/100\n",
            "55/55 [==============================] - 10s 189ms/step - loss: 1.9070e-06 - val_loss: 9.5747e-04\n",
            "Epoch 67/100\n",
            "55/55 [==============================] - 10s 187ms/step - loss: 1.5585e-06 - val_loss: 8.2121e-04\n",
            "Epoch 68/100\n",
            "55/55 [==============================] - 10s 186ms/step - loss: 1.4655e-06 - val_loss: 0.0012\n",
            "Epoch 69/100\n",
            "55/55 [==============================] - 10s 190ms/step - loss: 1.5889e-06 - val_loss: 0.0011\n",
            "Epoch 70/100\n",
            "55/55 [==============================] - 10s 189ms/step - loss: 1.6419e-06 - val_loss: 0.0010\n",
            "Epoch 71/100\n",
            "55/55 [==============================] - 10s 189ms/step - loss: 1.8661e-06 - val_loss: 9.2059e-04\n",
            "Epoch 72/100\n",
            "55/55 [==============================] - 10s 189ms/step - loss: 1.4766e-06 - val_loss: 9.1764e-04\n",
            "Epoch 73/100\n",
            "55/55 [==============================] - 10s 188ms/step - loss: 1.3764e-06 - val_loss: 7.3795e-04\n",
            "Epoch 74/100\n",
            "55/55 [==============================] - 10s 190ms/step - loss: 1.5241e-06 - val_loss: 9.0980e-04\n",
            "Epoch 75/100\n",
            "55/55 [==============================] - 11s 192ms/step - loss: 1.7421e-06 - val_loss: 7.3710e-04\n",
            "Epoch 76/100\n",
            "55/55 [==============================] - 10s 189ms/step - loss: 1.3894e-06 - val_loss: 8.6853e-04\n",
            "Epoch 77/100\n",
            "55/55 [==============================] - 10s 191ms/step - loss: 1.7474e-06 - val_loss: 4.4646e-04\n",
            "Epoch 78/100\n",
            "55/55 [==============================] - 10s 190ms/step - loss: 1.6908e-06 - val_loss: 6.7937e-04\n",
            "Epoch 79/100\n",
            "55/55 [==============================] - 10s 189ms/step - loss: 1.3377e-06 - val_loss: 6.0706e-04\n",
            "Epoch 80/100\n",
            "55/55 [==============================] - 10s 189ms/step - loss: 1.2990e-06 - val_loss: 8.1838e-04\n",
            "Epoch 81/100\n",
            "55/55 [==============================] - 10s 190ms/step - loss: 1.3650e-06 - val_loss: 5.4243e-04\n",
            "Epoch 82/100\n",
            "55/55 [==============================] - 11s 191ms/step - loss: 1.4160e-06 - val_loss: 0.0011\n",
            "Epoch 83/100\n",
            "55/55 [==============================] - 10s 191ms/step - loss: 1.2606e-06 - val_loss: 6.3625e-04\n",
            "Epoch 84/100\n",
            "55/55 [==============================] - 10s 190ms/step - loss: 1.4246e-06 - val_loss: 6.7805e-04\n",
            "Epoch 85/100\n",
            "55/55 [==============================] - 10s 190ms/step - loss: 1.2484e-06 - val_loss: 0.0013\n",
            "Epoch 86/100\n",
            "55/55 [==============================] - 11s 192ms/step - loss: 2.1629e-06 - val_loss: 4.7574e-04\n",
            "Epoch 87/100\n",
            "55/55 [==============================] - 10s 189ms/step - loss: 1.5408e-06 - val_loss: 6.3023e-04\n",
            "Epoch 88/100\n",
            "55/55 [==============================] - 10s 190ms/step - loss: 1.2411e-06 - val_loss: 5.5973e-04\n",
            "Epoch 89/100\n",
            "55/55 [==============================] - 10s 190ms/step - loss: 1.2817e-06 - val_loss: 7.2316e-04\n",
            "Epoch 90/100\n",
            "55/55 [==============================] - 10s 189ms/step - loss: 1.3661e-06 - val_loss: 8.3116e-04\n",
            "Epoch 91/100\n",
            "55/55 [==============================] - 10s 190ms/step - loss: 1.3733e-06 - val_loss: 9.6656e-04\n",
            "Epoch 92/100\n",
            "55/55 [==============================] - 10s 188ms/step - loss: 1.3185e-06 - val_loss: 6.2364e-04\n",
            "Epoch 93/100\n",
            "55/55 [==============================] - 10s 188ms/step - loss: 1.1418e-06 - val_loss: 5.7553e-04\n",
            "Epoch 94/100\n",
            "55/55 [==============================] - 10s 190ms/step - loss: 1.4501e-06 - val_loss: 4.2516e-04\n",
            "Epoch 95/100\n",
            "55/55 [==============================] - 10s 190ms/step - loss: 1.1133e-06 - val_loss: 5.4696e-04\n",
            "Epoch 96/100\n",
            "55/55 [==============================] - 10s 189ms/step - loss: 1.2424e-06 - val_loss: 5.1183e-04\n",
            "Epoch 97/100\n",
            "55/55 [==============================] - 10s 188ms/step - loss: 1.2947e-06 - val_loss: 7.0516e-04\n",
            "Epoch 98/100\n",
            "55/55 [==============================] - 10s 188ms/step - loss: 1.6868e-06 - val_loss: 7.6736e-04\n",
            "Epoch 99/100\n",
            "55/55 [==============================] - 10s 188ms/step - loss: 1.1640e-06 - val_loss: 8.6326e-04\n",
            "Epoch 100/100\n",
            "55/55 [==============================] - 10s 191ms/step - loss: 1.4346e-06 - val_loss: 3.9166e-04\n"
          ]
        },
        {
          "output_type": "execute_result",
          "data": {
            "text/plain": [
              "<keras.callbacks.History at 0x7f69840d1110>"
            ]
          },
          "metadata": {},
          "execution_count": 29
        }
      ]
    },
    {
      "cell_type": "code",
      "metadata": {
        "id": "u82EsQ4a0c-2"
      },
      "source": [
        "import tensorflow as tf"
      ],
      "execution_count": null,
      "outputs": []
    },
    {
      "cell_type": "code",
      "metadata": {
        "colab": {
          "base_uri": "https://localhost:8080/",
          "height": 37
        },
        "id": "xZH6Ysln0llD",
        "outputId": "9bb27190-6351-4227-d334-6987e5fabc61"
      },
      "source": [
        "tf.__version__"
      ],
      "execution_count": null,
      "outputs": [
        {
          "output_type": "execute_result",
          "data": {
            "application/vnd.google.colaboratory.intrinsic+json": {
              "type": "string"
            },
            "text/plain": [
              "'2.6.0'"
            ]
          },
          "metadata": {},
          "execution_count": 31
        }
      ]
    },
    {
      "cell_type": "code",
      "metadata": {
        "id": "fjDIwcMH0ngp"
      },
      "source": [
        "### Lets Do the prediction and check performance metrics\n",
        "train_predict=model.predict(X_train)\n",
        "test_predict=model.predict(X_test)"
      ],
      "execution_count": null,
      "outputs": []
    },
    {
      "cell_type": "code",
      "metadata": {
        "id": "pnW1sUZW0pbC"
      },
      "source": [
        "##Transformback to original form\n",
        "train_predict=scaler.inverse_transform(train_predict)\n",
        "test_predict=scaler.inverse_transform(test_predict)"
      ],
      "execution_count": null,
      "outputs": []
    },
    {
      "cell_type": "code",
      "metadata": {
        "colab": {
          "base_uri": "https://localhost:8080/"
        },
        "id": "oewqwI3j0rJj",
        "outputId": "711fd83c-a857-4600-f2e3-556e4d45d88f"
      },
      "source": [
        "### Calculate RMSE performance metrics\n",
        "import math\n",
        "from sklearn.metrics import mean_squared_error\n",
        "math.sqrt(mean_squared_error(y_train,train_predict))"
      ],
      "execution_count": null,
      "outputs": [
        {
          "output_type": "execute_result",
          "data": {
            "text/plain": [
              "51.52810906756969"
            ]
          },
          "metadata": {},
          "execution_count": 34
        }
      ]
    },
    {
      "cell_type": "code",
      "metadata": {
        "id": "yV7wtOxU0thE",
        "colab": {
          "base_uri": "https://localhost:8080/"
        },
        "outputId": "1de9d399-1f2b-4bc9-c0aa-b0c04fbd864a"
      },
      "source": [
        "### Test Data RMSE\n",
        "math.sqrt(mean_squared_error(y_test,test_predict))"
      ],
      "execution_count": null,
      "outputs": [
        {
          "output_type": "execute_result",
          "data": {
            "text/plain": [
              "453.7545871442207"
            ]
          },
          "metadata": {},
          "execution_count": 35
        }
      ]
    },
    {
      "cell_type": "code",
      "metadata": {
        "id": "b2O9FdYN03ec",
        "colab": {
          "base_uri": "https://localhost:8080/",
          "height": 452
        },
        "outputId": "f9d213c9-a9fb-422e-ae2d-521467f1889a"
      },
      "source": [
        "### Plotting \n",
        "# shift train predictions for plotting\n",
        "look_back=100\n",
        "trainPredictPlot = numpy.empty_like(df1)\n",
        "trainPredictPlot[:, :] = np.nan\n",
        "trainPredictPlot[look_back:len(train_predict)+look_back, :] = train_predict\n",
        "# shift test predictions for plotting\n",
        "testPredictPlot = numpy.empty_like(df1)\n",
        "testPredictPlot[:, :] = numpy.nan\n",
        "testPredictPlot[len(train_predict)+(look_back*2)+1:len(df1)-1, :] = test_predict\n",
        "# plot baseline and predictions\n",
        "plt.plot(scaler.inverse_transform(df1))\n",
        "plt.plot(trainPredictPlot)\n",
        "plt.plot(testPredictPlot)\n",
        "plt.title('Adani Train Test Split')\n",
        "plt.show()"
      ],
      "execution_count": null,
      "outputs": [
        {
          "output_type": "display_data",
          "data": {
            "image/png": "[encoded data removed]",
            "text/plain": [
              "<Figure size 640x480 with 1 Axes>"
            ]
          },
          "metadata": {}
        }
      ]
    },
    {
      "cell_type": "code",
      "metadata": {
        "id": "XJDVfIMk05WN",
        "colab": {
          "base_uri": "https://localhost:8080/"
        },
        "outputId": "dd787919-92d7-43eb-a4db-5935bce7a41e"
      },
      "source": [
        "len(test_data)"
      ],
      "execution_count": null,
      "outputs": [
        {
          "output_type": "execute_result",
          "data": {
            "text/plain": [
              "1189"
            ]
          },
          "metadata": {},
          "execution_count": 37
        }
      ]
    },
    {
      "cell_type": "code",
      "metadata": {
        "id": "faLcUIDr08mi",
        "colab": {
          "base_uri": "https://localhost:8080/"
        },
        "outputId": "2fcff63c-6e3c-47ea-8e94-4849c667000b"
      },
      "source": [
        "x_input=test_data[1089:].reshape(1,-1)\n",
        "x_input.shape"
      ],
      "execution_count": null,
      "outputs": [
        {
          "output_type": "execute_result",
          "data": {
            "text/plain": [
              "(1, 100)"
            ]
          },
          "metadata": {},
          "execution_count": 41
        }
      ]
    },
    {
      "cell_type": "code",
      "metadata": {
        "id": "7oKtWwxZ09IM"
      },
      "source": [
        "temp_input=list(x_input)\n",
        "temp_input=temp_input[0].tolist()"
      ],
      "execution_count": null,
      "outputs": []
    },
    {
      "cell_type": "code",
      "metadata": {
        "id": "Nm8nnIo809lO",
        "colab": {
          "base_uri": "https://localhost:8080/"
        },
        "outputId": "d073d1fa-7e84-433f-cc45-a7008ccfedfd"
      },
      "source": [
        "# demonstrate prediction for next 30 days\n",
        "from numpy import array\n",
        "\n",
        "lst_output=[]\n",
        "n_steps=100\n",
        "i=0\n",
        "while(i<30):\n",
        "    \n",
        "    if(len(temp_input)>100):\n",
        "        #print(temp_input)\n",
        "        x_input=np.array(temp_input[1:])\n",
        "        print(\"{} day input {}\".format(i,x_input))\n",
        "        x_input=x_input.reshape(1,-1)\n",
        "        x_input = x_input.reshape((1, n_steps, 1))\n",
        "        #print(x_input)\n",
        "        yhat = model.predict(x_input, verbose=0)\n",
        "        print(\"{} day output {}\".format(i,yhat))\n",
        "        temp_input.extend(yhat[0].tolist())\n",
        "        temp_input=temp_input[1:]\n",
        "        #print(temp_input)\n",
        "        lst_output.extend(yhat.tolist())\n",
        "        i=i+1\n",
        "    else:\n",
        "        x_input = x_input.reshape((1, n_steps,1))\n",
        "        yhat = model.predict(x_input, verbose=0)\n",
        "        print(yhat[0])\n",
        "        temp_input.extend(yhat[0].tolist())\n",
        "        print(len(temp_input))\n",
        "        lst_output.extend(yhat.tolist())\n",
        "        i=i+1\n",
        "    \n",
        "\n",
        "print(lst_output)"
      ],
      "execution_count": null,
      "outputs": [
        {
          "output_type": "stream",
          "name": "stdout",
          "text": [
            "[0.82008016]\n",
            "101\n",
            "1 day input [0.72026973 0.68506449 0.68327038 0.70615234 0.63144779 0.65024154\n",
            " 0.66412363 0.68121159 0.66788829 0.67165294 0.68050575 0.68038806\n",
            " 0.68965261 0.70012304 0.69662305 0.69491726 0.6810351  0.73800473\n",
            " 0.74209286 0.74503399 0.75635731 0.76350426 0.766563   0.76621008\n",
            " 0.75579853 0.71729917 0.75773963 0.77985687 0.76103367 0.76532774\n",
            " 0.77303347 0.76815125 0.75400441 0.77756285 0.77932752 0.76568066\n",
            " 0.77373938 0.83253243 0.90929576 0.93067772 1.         0.95491263\n",
            " 0.9620595  0.93747175 0.94767743 0.94155988 0.88264915 0.90464877\n",
            " 0.85138506 0.80397408 0.87444344 0.90532525 0.90626639 0.88459032\n",
            " 0.88679616 0.8932372  0.89694304 0.89564898 0.88623738 0.87606106\n",
            " 0.83594416 0.81965029 0.83167953 0.83806175 0.83820881 0.84141461\n",
            " 0.83515    0.83338532 0.82417966 0.82765013 0.82032676 0.8115622\n",
            " 0.80279763 0.83282654 0.82394436 0.82526786 0.82106204 0.82291496\n",
            " 0.82312083 0.83488532 0.84544393 0.84814982 0.84035584 0.84200283\n",
            " 0.90335471 0.87791398 0.85032623 0.84476753 0.84820863 0.84473809\n",
            " 0.84067933 0.84747335 0.85826726 0.84067933 0.8210326  0.8452087\n",
            " 0.8672965  0.86750236 0.88535504 0.82008016]\n",
            "1 day output [[0.7798019]]\n",
            "2 day input [0.68506449 0.68327038 0.70615234 0.63144779 0.65024154 0.66412363\n",
            " 0.68121159 0.66788829 0.67165294 0.68050575 0.68038806 0.68965261\n",
            " 0.70012304 0.69662305 0.69491726 0.6810351  0.73800473 0.74209286\n",
            " 0.74503399 0.75635731 0.76350426 0.766563   0.76621008 0.75579853\n",
            " 0.71729917 0.75773963 0.77985687 0.76103367 0.76532774 0.77303347\n",
            " 0.76815125 0.75400441 0.77756285 0.77932752 0.76568066 0.77373938\n",
            " 0.83253243 0.90929576 0.93067772 1.         0.95491263 0.9620595\n",
            " 0.93747175 0.94767743 0.94155988 0.88264915 0.90464877 0.85138506\n",
            " 0.80397408 0.87444344 0.90532525 0.90626639 0.88459032 0.88679616\n",
            " 0.8932372  0.89694304 0.89564898 0.88623738 0.87606106 0.83594416\n",
            " 0.81965029 0.83167953 0.83806175 0.83820881 0.84141461 0.83515\n",
            " 0.83338532 0.82417966 0.82765013 0.82032676 0.8115622  0.80279763\n",
            " 0.83282654 0.82394436 0.82526786 0.82106204 0.82291496 0.82312083\n",
            " 0.83488532 0.84544393 0.84814982 0.84035584 0.84200283 0.90335471\n",
            " 0.87791398 0.85032623 0.84476753 0.84820863 0.84473809 0.84067933\n",
            " 0.84747335 0.85826726 0.84067933 0.8210326  0.8452087  0.8672965\n",
            " 0.86750236 0.88535504 0.82008016 0.77980191]\n",
            "2 day output [[0.7294738]]\n",
            "3 day input [0.68327038 0.70615234 0.63144779 0.65024154 0.66412363 0.68121159\n",
            " 0.66788829 0.67165294 0.68050575 0.68038806 0.68965261 0.70012304\n",
            " 0.69662305 0.69491726 0.6810351  0.73800473 0.74209286 0.74503399\n",
            " 0.75635731 0.76350426 0.766563   0.76621008 0.75579853 0.71729917\n",
            " 0.75773963 0.77985687 0.76103367 0.76532774 0.77303347 0.76815125\n",
            " 0.75400441 0.77756285 0.77932752 0.76568066 0.77373938 0.83253243\n",
            " 0.90929576 0.93067772 1.         0.95491263 0.9620595  0.93747175\n",
            " 0.94767743 0.94155988 0.88264915 0.90464877 0.85138506 0.80397408\n",
            " 0.87444344 0.90532525 0.90626639 0.88459032 0.88679616 0.8932372\n",
            " 0.89694304 0.89564898 0.88623738 0.87606106 0.83594416 0.81965029\n",
            " 0.83167953 0.83806175 0.83820881 0.84141461 0.83515    0.83338532\n",
            " 0.82417966 0.82765013 0.82032676 0.8115622  0.80279763 0.83282654\n",
            " 0.82394436 0.82526786 0.82106204 0.82291496 0.82312083 0.83488532\n",
            " 0.84544393 0.84814982 0.84035584 0.84200283 0.90335471 0.87791398\n",
            " 0.85032623 0.84476753 0.84820863 0.84473809 0.84067933 0.84747335\n",
            " 0.85826726 0.84067933 0.8210326  0.8452087  0.8672965  0.86750236\n",
            " 0.88535504 0.82008016 0.77980191 0.72947383]\n",
            "3 day output [[0.679274]]\n",
            "4 day input [0.70615234 0.63144779 0.65024154 0.66412363 0.68121159 0.66788829\n",
            " 0.67165294 0.68050575 0.68038806 0.68965261 0.70012304 0.69662305\n",
            " 0.69491726 0.6810351  0.73800473 0.74209286 0.74503399 0.75635731\n",
            " 0.76350426 0.766563   0.76621008 0.75579853 0.71729917 0.75773963\n",
            " 0.77985687 0.76103367 0.76532774 0.77303347 0.76815125 0.75400441\n",
            " 0.77756285 0.77932752 0.76568066 0.77373938 0.83253243 0.90929576\n",
            " 0.93067772 1.         0.95491263 0.9620595  0.93747175 0.94767743\n",
            " 0.94155988 0.88264915 0.90464877 0.85138506 0.80397408 0.87444344\n",
            " 0.90532525 0.90626639 0.88459032 0.88679616 0.8932372  0.89694304\n",
            " 0.89564898 0.88623738 0.87606106 0.83594416 0.81965029 0.83167953\n",
            " 0.83806175 0.83820881 0.84141461 0.83515    0.83338532 0.82417966\n",
            " 0.82765013 0.82032676 0.8115622  0.80279763 0.83282654 0.82394436\n",
            " 0.82526786 0.82106204 0.82291496 0.82312083 0.83488532 0.84544393\n",
            " 0.84814982 0.84035584 0.84200283 0.90335471 0.87791398 0.85032623\n",
            " 0.84476753 0.84820863 0.84473809 0.84067933 0.84747335 0.85826726\n",
            " 0.84067933 0.8210326  0.8452087  0.8672965  0.86750236 0.88535504\n",
            " 0.82008016 0.77980191 0.72947383 0.67927402]\n",
            "4 day output [[0.6326129]]\n",
            "5 day input [0.63144779 0.65024154 0.66412363 0.68121159 0.66788829 0.67165294\n",
            " 0.68050575 0.68038806 0.68965261 0.70012304 0.69662305 0.69491726\n",
            " 0.6810351  0.73800473 0.74209286 0.74503399 0.75635731 0.76350426\n",
            " 0.766563   0.76621008 0.75579853 0.71729917 0.75773963 0.77985687\n",
            " 0.76103367 0.76532774 0.77303347 0.76815125 0.75400441 0.77756285\n",
            " 0.77932752 0.76568066 0.77373938 0.83253243 0.90929576 0.93067772\n",
            " 1.         0.95491263 0.9620595  0.93747175 0.94767743 0.94155988\n",
            " 0.88264915 0.90464877 0.85138506 0.80397408 0.87444344 0.90532525\n",
            " 0.90626639 0.88459032 0.88679616 0.8932372  0.89694304 0.89564898\n",
            " 0.88623738 0.87606106 0.83594416 0.81965029 0.83167953 0.83806175\n",
            " 0.83820881 0.84141461 0.83515    0.83338532 0.82417966 0.82765013\n",
            " 0.82032676 0.8115622  0.80279763 0.83282654 0.82394436 0.82526786\n",
            " 0.82106204 0.82291496 0.82312083 0.83488532 0.84544393 0.84814982\n",
            " 0.84035584 0.84200283 0.90335471 0.87791398 0.85032623 0.84476753\n",
            " 0.84820863 0.84473809 0.84067933 0.84747335 0.85826726 0.84067933\n",
            " 0.8210326  0.8452087  0.8672965  0.86750236 0.88535504 0.82008016\n",
            " 0.77980191 0.72947383 0.67927402 0.63261288]\n",
            "5 day output [[0.5911693]]\n",
            "6 day input [0.65024154 0.66412363 0.68121159 0.66788829 0.67165294 0.68050575\n",
            " 0.68038806 0.68965261 0.70012304 0.69662305 0.69491726 0.6810351\n",
            " 0.73800473 0.74209286 0.74503399 0.75635731 0.76350426 0.766563\n",
            " 0.76621008 0.75579853 0.71729917 0.75773963 0.77985687 0.76103367\n",
            " 0.76532774 0.77303347 0.76815125 0.75400441 0.77756285 0.77932752\n",
            " 0.76568066 0.77373938 0.83253243 0.90929576 0.93067772 1.\n",
            " 0.95491263 0.9620595  0.93747175 0.94767743 0.94155988 0.88264915\n",
            " 0.90464877 0.85138506 0.80397408 0.87444344 0.90532525 0.90626639\n",
            " 0.88459032 0.88679616 0.8932372  0.89694304 0.89564898 0.88623738\n",
            " 0.87606106 0.83594416 0.81965029 0.83167953 0.83806175 0.83820881\n",
            " 0.84141461 0.83515    0.83338532 0.82417966 0.82765013 0.82032676\n",
            " 0.8115622  0.80279763 0.83282654 0.82394436 0.82526786 0.82106204\n",
            " 0.82291496 0.82312083 0.83488532 0.84544393 0.84814982 0.84035584\n",
            " 0.84200283 0.90335471 0.87791398 0.85032623 0.84476753 0.84820863\n",
            " 0.84473809 0.84067933 0.84747335 0.85826726 0.84067933 0.8210326\n",
            " 0.8452087  0.8672965  0.86750236 0.88535504 0.82008016 0.77980191\n",
            " 0.72947383 0.67927402 0.63261288 0.5911693 ]\n",
            "6 day output [[0.5554487]]\n",
            "7 day input [0.66412363 0.68121159 0.66788829 0.67165294 0.68050575 0.68038806\n",
            " 0.68965261 0.70012304 0.69662305 0.69491726 0.6810351  0.73800473\n",
            " 0.74209286 0.74503399 0.75635731 0.76350426 0.766563   0.76621008\n",
            " 0.75579853 0.71729917 0.75773963 0.77985687 0.76103367 0.76532774\n",
            " 0.77303347 0.76815125 0.75400441 0.77756285 0.77932752 0.76568066\n",
            " 0.77373938 0.83253243 0.90929576 0.93067772 1.         0.95491263\n",
            " 0.9620595  0.93747175 0.94767743 0.94155988 0.88264915 0.90464877\n",
            " 0.85138506 0.80397408 0.87444344 0.90532525 0.90626639 0.88459032\n",
            " 0.88679616 0.8932372  0.89694304 0.89564898 0.88623738 0.87606106\n",
            " 0.83594416 0.81965029 0.83167953 0.83806175 0.83820881 0.84141461\n",
            " 0.83515    0.83338532 0.82417966 0.82765013 0.82032676 0.8115622\n",
            " 0.80279763 0.83282654 0.82394436 0.82526786 0.82106204 0.82291496\n",
            " 0.82312083 0.83488532 0.84544393 0.84814982 0.84035584 0.84200283\n",
            " 0.90335471 0.87791398 0.85032623 0.84476753 0.84820863 0.84473809\n",
            " 0.84067933 0.84747335 0.85826726 0.84067933 0.8210326  0.8452087\n",
            " 0.8672965  0.86750236 0.88535504 0.82008016 0.77980191 0.72947383\n",
            " 0.67927402 0.63261288 0.5911693  0.55544871]\n",
            "7 day output [[0.5251113]]\n",
            "8 day input [0.68121159 0.66788829 0.67165294 0.68050575 0.68038806 0.68965261\n",
            " 0.70012304 0.69662305 0.69491726 0.6810351  0.73800473 0.74209286\n",
            " 0.74503399 0.75635731 0.76350426 0.766563   0.76621008 0.75579853\n",
            " 0.71729917 0.75773963 0.77985687 0.76103367 0.76532774 0.77303347\n",
            " 0.76815125 0.75400441 0.77756285 0.77932752 0.76568066 0.77373938\n",
            " 0.83253243 0.90929576 0.93067772 1.         0.95491263 0.9620595\n",
            " 0.93747175 0.94767743 0.94155988 0.88264915 0.90464877 0.85138506\n",
            " 0.80397408 0.87444344 0.90532525 0.90626639 0.88459032 0.88679616\n",
            " 0.8932372  0.89694304 0.89564898 0.88623738 0.87606106 0.83594416\n",
            " 0.81965029 0.83167953 0.83806175 0.83820881 0.84141461 0.83515\n",
            " 0.83338532 0.82417966 0.82765013 0.82032676 0.8115622  0.80279763\n",
            " 0.83282654 0.82394436 0.82526786 0.82106204 0.82291496 0.82312083\n",
            " 0.83488532 0.84544393 0.84814982 0.84035584 0.84200283 0.90335471\n",
            " 0.87791398 0.85032623 0.84476753 0.84820863 0.84473809 0.84067933\n",
            " 0.84747335 0.85826726 0.84067933 0.8210326  0.8452087  0.8672965\n",
            " 0.86750236 0.88535504 0.82008016 0.77980191 0.72947383 0.67927402\n",
            " 0.63261288 0.5911693  0.55544871 0.52511132]\n",
            "8 day output [[0.49934617]]\n",
            "9 day input [0.66788829 0.67165294 0.68050575 0.68038806 0.68965261 0.70012304\n",
            " 0.69662305 0.69491726 0.6810351  0.73800473 0.74209286 0.74503399\n",
            " 0.75635731 0.76350426 0.766563   0.76621008 0.75579853 0.71729917\n",
            " 0.75773963 0.77985687 0.76103367 0.76532774 0.77303347 0.76815125\n",
            " 0.75400441 0.77756285 0.77932752 0.76568066 0.77373938 0.83253243\n",
            " 0.90929576 0.93067772 1.         0.95491263 0.9620595  0.93747175\n",
            " 0.94767743 0.94155988 0.88264915 0.90464877 0.85138506 0.80397408\n",
            " 0.87444344 0.90532525 0.90626639 0.88459032 0.88679616 0.8932372\n",
            " 0.89694304 0.89564898 0.88623738 0.87606106 0.83594416 0.81965029\n",
            " 0.83167953 0.83806175 0.83820881 0.84141461 0.83515    0.83338532\n",
            " 0.82417966 0.82765013 0.82032676 0.8115622  0.80279763 0.83282654\n",
            " 0.82394436 0.82526786 0.82106204 0.82291496 0.82312083 0.83488532\n",
            " 0.84544393 0.84814982 0.84035584 0.84200283 0.90335471 0.87791398\n",
            " 0.85032623 0.84476753 0.84820863 0.84473809 0.84067933 0.84747335\n",
            " 0.85826726 0.84067933 0.8210326  0.8452087  0.8672965  0.86750236\n",
            " 0.88535504 0.82008016 0.77980191 0.72947383 0.67927402 0.63261288\n",
            " 0.5911693  0.55544871 0.52511132 0.49934617]\n",
            "9 day output [[0.47718915]]\n",
            "10 day input [0.67165294 0.68050575 0.68038806 0.68965261 0.70012304 0.69662305\n",
            " 0.69491726 0.6810351  0.73800473 0.74209286 0.74503399 0.75635731\n",
            " 0.76350426 0.766563   0.76621008 0.75579853 0.71729917 0.75773963\n",
            " 0.77985687 0.76103367 0.76532774 0.77303347 0.76815125 0.75400441\n",
            " 0.77756285 0.77932752 0.76568066 0.77373938 0.83253243 0.90929576\n",
            " 0.93067772 1.         0.95491263 0.9620595  0.93747175 0.94767743\n",
            " 0.94155988 0.88264915 0.90464877 0.85138506 0.80397408 0.87444344\n",
            " 0.90532525 0.90626639 0.88459032 0.88679616 0.8932372  0.89694304\n",
            " 0.89564898 0.88623738 0.87606106 0.83594416 0.81965029 0.83167953\n",
            " 0.83806175 0.83820881 0.84141461 0.83515    0.83338532 0.82417966\n",
            " 0.82765013 0.82032676 0.8115622  0.80279763 0.83282654 0.82394436\n",
            " 0.82526786 0.82106204 0.82291496 0.82312083 0.83488532 0.84544393\n",
            " 0.84814982 0.84035584 0.84200283 0.90335471 0.87791398 0.85032623\n",
            " 0.84476753 0.84820863 0.84473809 0.84067933 0.84747335 0.85826726\n",
            " 0.84067933 0.8210326  0.8452087  0.8672965  0.86750236 0.88535504\n",
            " 0.82008016 0.77980191 0.72947383 0.67927402 0.63261288 0.5911693\n",
            " 0.55544871 0.52511132 0.49934617 0.47718915]\n",
            "10 day output [[0.45774087]]\n",
            "11 day input [0.68050575 0.68038806 0.68965261 0.70012304 0.69662305 0.69491726\n",
            " 0.6810351  0.73800473 0.74209286 0.74503399 0.75635731 0.76350426\n",
            " 0.766563   0.76621008 0.75579853 0.71729917 0.75773963 0.77985687\n",
            " 0.76103367 0.76532774 0.77303347 0.76815125 0.75400441 0.77756285\n",
            " 0.77932752 0.76568066 0.77373938 0.83253243 0.90929576 0.93067772\n",
            " 1.         0.95491263 0.9620595  0.93747175 0.94767743 0.94155988\n",
            " 0.88264915 0.90464877 0.85138506 0.80397408 0.87444344 0.90532525\n",
            " 0.90626639 0.88459032 0.88679616 0.8932372  0.89694304 0.89564898\n",
            " 0.88623738 0.87606106 0.83594416 0.81965029 0.83167953 0.83806175\n",
            " 0.83820881 0.84141461 0.83515    0.83338532 0.82417966 0.82765013\n",
            " 0.82032676 0.8115622  0.80279763 0.83282654 0.82394436 0.82526786\n",
            " 0.82106204 0.82291496 0.82312083 0.83488532 0.84544393 0.84814982\n",
            " 0.84035584 0.84200283 0.90335471 0.87791398 0.85032623 0.84476753\n",
            " 0.84820863 0.84473809 0.84067933 0.84747335 0.85826726 0.84067933\n",
            " 0.8210326  0.8452087  0.8672965  0.86750236 0.88535504 0.82008016\n",
            " 0.77980191 0.72947383 0.67927402 0.63261288 0.5911693  0.55544871\n",
            " 0.52511132 0.49934617 0.47718915 0.45774087]\n",
            "11 day output [[0.44028312]]\n",
            "12 day input [0.68038806 0.68965261 0.70012304 0.69662305 0.69491726 0.6810351\n",
            " 0.73800473 0.74209286 0.74503399 0.75635731 0.76350426 0.766563\n",
            " 0.76621008 0.75579853 0.71729917 0.75773963 0.77985687 0.76103367\n",
            " 0.76532774 0.77303347 0.76815125 0.75400441 0.77756285 0.77932752\n",
            " 0.76568066 0.77373938 0.83253243 0.90929576 0.93067772 1.\n",
            " 0.95491263 0.9620595  0.93747175 0.94767743 0.94155988 0.88264915\n",
            " 0.90464877 0.85138506 0.80397408 0.87444344 0.90532525 0.90626639\n",
            " 0.88459032 0.88679616 0.8932372  0.89694304 0.89564898 0.88623738\n",
            " 0.87606106 0.83594416 0.81965029 0.83167953 0.83806175 0.83820881\n",
            " 0.84141461 0.83515    0.83338532 0.82417966 0.82765013 0.82032676\n",
            " 0.8115622  0.80279763 0.83282654 0.82394436 0.82526786 0.82106204\n",
            " 0.82291496 0.82312083 0.83488532 0.84544393 0.84814982 0.84035584\n",
            " 0.84200283 0.90335471 0.87791398 0.85032623 0.84476753 0.84820863\n",
            " 0.84473809 0.84067933 0.84747335 0.85826726 0.84067933 0.8210326\n",
            " 0.8452087  0.8672965  0.86750236 0.88535504 0.82008016 0.77980191\n",
            " 0.72947383 0.67927402 0.63261288 0.5911693  0.55544871 0.52511132\n",
            " 0.49934617 0.47718915 0.45774087 0.44028312]\n",
            "12 day output [[0.42431533]]\n",
            "13 day input [0.68965261 0.70012304 0.69662305 0.69491726 0.6810351  0.73800473\n",
            " 0.74209286 0.74503399 0.75635731 0.76350426 0.766563   0.76621008\n",
            " 0.75579853 0.71729917 0.75773963 0.77985687 0.76103367 0.76532774\n",
            " 0.77303347 0.76815125 0.75400441 0.77756285 0.77932752 0.76568066\n",
            " 0.77373938 0.83253243 0.90929576 0.93067772 1.         0.95491263\n",
            " 0.9620595  0.93747175 0.94767743 0.94155988 0.88264915 0.90464877\n",
            " 0.85138506 0.80397408 0.87444344 0.90532525 0.90626639 0.88459032\n",
            " 0.88679616 0.8932372  0.89694304 0.89564898 0.88623738 0.87606106\n",
            " 0.83594416 0.81965029 0.83167953 0.83806175 0.83820881 0.84141461\n",
            " 0.83515    0.83338532 0.82417966 0.82765013 0.82032676 0.8115622\n",
            " 0.80279763 0.83282654 0.82394436 0.82526786 0.82106204 0.82291496\n",
            " 0.82312083 0.83488532 0.84544393 0.84814982 0.84035584 0.84200283\n",
            " 0.90335471 0.87791398 0.85032623 0.84476753 0.84820863 0.84473809\n",
            " 0.84067933 0.84747335 0.85826726 0.84067933 0.8210326  0.8452087\n",
            " 0.8672965  0.86750236 0.88535504 0.82008016 0.77980191 0.72947383\n",
            " 0.67927402 0.63261288 0.5911693  0.55544871 0.52511132 0.49934617\n",
            " 0.47718915 0.45774087 0.44028312 0.42431533]\n",
            "13 day output [[0.40953732]]\n",
            "14 day input [0.70012304 0.69662305 0.69491726 0.6810351  0.73800473 0.74209286\n",
            " 0.74503399 0.75635731 0.76350426 0.766563   0.76621008 0.75579853\n",
            " 0.71729917 0.75773963 0.77985687 0.76103367 0.76532774 0.77303347\n",
            " 0.76815125 0.75400441 0.77756285 0.77932752 0.76568066 0.77373938\n",
            " 0.83253243 0.90929576 0.93067772 1.         0.95491263 0.9620595\n",
            " 0.93747175 0.94767743 0.94155988 0.88264915 0.90464877 0.85138506\n",
            " 0.80397408 0.87444344 0.90532525 0.90626639 0.88459032 0.88679616\n",
            " 0.8932372  0.89694304 0.89564898 0.88623738 0.87606106 0.83594416\n",
            " 0.81965029 0.83167953 0.83806175 0.83820881 0.84141461 0.83515\n",
            " 0.83338532 0.82417966 0.82765013 0.82032676 0.8115622  0.80279763\n",
            " 0.83282654 0.82394436 0.82526786 0.82106204 0.82291496 0.82312083\n",
            " 0.83488532 0.84544393 0.84814982 0.84035584 0.84200283 0.90335471\n",
            " 0.87791398 0.85032623 0.84476753 0.84820863 0.84473809 0.84067933\n",
            " 0.84747335 0.85826726 0.84067933 0.8210326  0.8452087  0.8672965\n",
            " 0.86750236 0.88535504 0.82008016 0.77980191 0.72947383 0.67927402\n",
            " 0.63261288 0.5911693  0.55544871 0.52511132 0.49934617 0.47718915\n",
            " 0.45774087 0.44028312 0.42431533 0.40953732]\n",
            "14 day output [[0.3958029]]\n",
            "15 day input [0.69662305 0.69491726 0.6810351  0.73800473 0.74209286 0.74503399\n",
            " 0.75635731 0.76350426 0.766563   0.76621008 0.75579853 0.71729917\n",
            " 0.75773963 0.77985687 0.76103367 0.76532774 0.77303347 0.76815125\n",
            " 0.75400441 0.77756285 0.77932752 0.76568066 0.77373938 0.83253243\n",
            " 0.90929576 0.93067772 1.         0.95491263 0.9620595  0.93747175\n",
            " 0.94767743 0.94155988 0.88264915 0.90464877 0.85138506 0.80397408\n",
            " 0.87444344 0.90532525 0.90626639 0.88459032 0.88679616 0.8932372\n",
            " 0.89694304 0.89564898 0.88623738 0.87606106 0.83594416 0.81965029\n",
            " 0.83167953 0.83806175 0.83820881 0.84141461 0.83515    0.83338532\n",
            " 0.82417966 0.82765013 0.82032676 0.8115622  0.80279763 0.83282654\n",
            " 0.82394436 0.82526786 0.82106204 0.82291496 0.82312083 0.83488532\n",
            " 0.84544393 0.84814982 0.84035584 0.84200283 0.90335471 0.87791398\n",
            " 0.85032623 0.84476753 0.84820863 0.84473809 0.84067933 0.84747335\n",
            " 0.85826726 0.84067933 0.8210326  0.8452087  0.8672965  0.86750236\n",
            " 0.88535504 0.82008016 0.77980191 0.72947383 0.67927402 0.63261288\n",
            " 0.5911693  0.55544871 0.52511132 0.49934617 0.47718915 0.45774087\n",
            " 0.44028312 0.42431533 0.40953732 0.39580289]\n",
            "15 day output [[0.3830656]]\n",
            "16 day input [0.69491726 0.6810351  0.73800473 0.74209286 0.74503399 0.75635731\n",
            " 0.76350426 0.766563   0.76621008 0.75579853 0.71729917 0.75773963\n",
            " 0.77985687 0.76103367 0.76532774 0.77303347 0.76815125 0.75400441\n",
            " 0.77756285 0.77932752 0.76568066 0.77373938 0.83253243 0.90929576\n",
            " 0.93067772 1.         0.95491263 0.9620595  0.93747175 0.94767743\n",
            " 0.94155988 0.88264915 0.90464877 0.85138506 0.80397408 0.87444344\n",
            " 0.90532525 0.90626639 0.88459032 0.88679616 0.8932372  0.89694304\n",
            " 0.89564898 0.88623738 0.87606106 0.83594416 0.81965029 0.83167953\n",
            " 0.83806175 0.83820881 0.84141461 0.83515    0.83338532 0.82417966\n",
            " 0.82765013 0.82032676 0.8115622  0.80279763 0.83282654 0.82394436\n",
            " 0.82526786 0.82106204 0.82291496 0.82312083 0.83488532 0.84544393\n",
            " 0.84814982 0.84035584 0.84200283 0.90335471 0.87791398 0.85032623\n",
            " 0.84476753 0.84820863 0.84473809 0.84067933 0.84747335 0.85826726\n",
            " 0.84067933 0.8210326  0.8452087  0.8672965  0.86750236 0.88535504\n",
            " 0.82008016 0.77980191 0.72947383 0.67927402 0.63261288 0.5911693\n",
            " 0.55544871 0.52511132 0.49934617 0.47718915 0.45774087 0.44028312\n",
            " 0.42431533 0.40953732 0.39580289 0.38306561]\n",
            "16 day output [[0.3713281]]\n",
            "17 day input [0.6810351  0.73800473 0.74209286 0.74503399 0.75635731 0.76350426\n",
            " 0.766563   0.76621008 0.75579853 0.71729917 0.75773963 0.77985687\n",
            " 0.76103367 0.76532774 0.77303347 0.76815125 0.75400441 0.77756285\n",
            " 0.77932752 0.76568066 0.77373938 0.83253243 0.90929576 0.93067772\n",
            " 1.         0.95491263 0.9620595  0.93747175 0.94767743 0.94155988\n",
            " 0.88264915 0.90464877 0.85138506 0.80397408 0.87444344 0.90532525\n",
            " 0.90626639 0.88459032 0.88679616 0.8932372  0.89694304 0.89564898\n",
            " 0.88623738 0.87606106 0.83594416 0.81965029 0.83167953 0.83806175\n",
            " 0.83820881 0.84141461 0.83515    0.83338532 0.82417966 0.82765013\n",
            " 0.82032676 0.8115622  0.80279763 0.83282654 0.82394436 0.82526786\n",
            " 0.82106204 0.82291496 0.82312083 0.83488532 0.84544393 0.84814982\n",
            " 0.84035584 0.84200283 0.90335471 0.87791398 0.85032623 0.84476753\n",
            " 0.84820863 0.84473809 0.84067933 0.84747335 0.85826726 0.84067933\n",
            " 0.8210326  0.8452087  0.8672965  0.86750236 0.88535504 0.82008016\n",
            " 0.77980191 0.72947383 0.67927402 0.63261288 0.5911693  0.55544871\n",
            " 0.52511132 0.49934617 0.47718915 0.45774087 0.44028312 0.42431533\n",
            " 0.40953732 0.39580289 0.38306561 0.37132809]\n",
            "17 day output [[0.36060405]]\n",
            "18 day input [0.73800473 0.74209286 0.74503399 0.75635731 0.76350426 0.766563\n",
            " 0.76621008 0.75579853 0.71729917 0.75773963 0.77985687 0.76103367\n",
            " 0.76532774 0.77303347 0.76815125 0.75400441 0.77756285 0.77932752\n",
            " 0.76568066 0.77373938 0.83253243 0.90929576 0.93067772 1.\n",
            " 0.95491263 0.9620595  0.93747175 0.94767743 0.94155988 0.88264915\n",
            " 0.90464877 0.85138506 0.80397408 0.87444344 0.90532525 0.90626639\n",
            " 0.88459032 0.88679616 0.8932372  0.89694304 0.89564898 0.88623738\n",
            " 0.87606106 0.83594416 0.81965029 0.83167953 0.83806175 0.83820881\n",
            " 0.84141461 0.83515    0.83338532 0.82417966 0.82765013 0.82032676\n",
            " 0.8115622  0.80279763 0.83282654 0.82394436 0.82526786 0.82106204\n",
            " 0.82291496 0.82312083 0.83488532 0.84544393 0.84814982 0.84035584\n",
            " 0.84200283 0.90335471 0.87791398 0.85032623 0.84476753 0.84820863\n",
            " 0.84473809 0.84067933 0.84747335 0.85826726 0.84067933 0.8210326\n",
            " 0.8452087  0.8672965  0.86750236 0.88535504 0.82008016 0.77980191\n",
            " 0.72947383 0.67927402 0.63261288 0.5911693  0.55544871 0.52511132\n",
            " 0.49934617 0.47718915 0.45774087 0.44028312 0.42431533 0.40953732\n",
            " 0.39580289 0.38306561 0.37132809 0.36060405]\n",
            "18 day output [[0.35089317]]\n",
            "19 day input [0.74209286 0.74503399 0.75635731 0.76350426 0.766563   0.76621008\n",
            " 0.75579853 0.71729917 0.75773963 0.77985687 0.76103367 0.76532774\n",
            " 0.77303347 0.76815125 0.75400441 0.77756285 0.77932752 0.76568066\n",
            " 0.77373938 0.83253243 0.90929576 0.93067772 1.         0.95491263\n",
            " 0.9620595  0.93747175 0.94767743 0.94155988 0.88264915 0.90464877\n",
            " 0.85138506 0.80397408 0.87444344 0.90532525 0.90626639 0.88459032\n",
            " 0.88679616 0.8932372  0.89694304 0.89564898 0.88623738 0.87606106\n",
            " 0.83594416 0.81965029 0.83167953 0.83806175 0.83820881 0.84141461\n",
            " 0.83515    0.83338532 0.82417966 0.82765013 0.82032676 0.8115622\n",
            " 0.80279763 0.83282654 0.82394436 0.82526786 0.82106204 0.82291496\n",
            " 0.82312083 0.83488532 0.84544393 0.84814982 0.84035584 0.84200283\n",
            " 0.90335471 0.87791398 0.85032623 0.84476753 0.84820863 0.84473809\n",
            " 0.84067933 0.84747335 0.85826726 0.84067933 0.8210326  0.8452087\n",
            " 0.8672965  0.86750236 0.88535504 0.82008016 0.77980191 0.72947383\n",
            " 0.67927402 0.63261288 0.5911693  0.55544871 0.52511132 0.49934617\n",
            " 0.47718915 0.45774087 0.44028312 0.42431533 0.40953732 0.39580289\n",
            " 0.38306561 0.37132809 0.36060405 0.35089317]\n",
            "19 day output [[0.3421705]]\n",
            "20 day input [0.74503399 0.75635731 0.76350426 0.766563   0.76621008 0.75579853\n",
            " 0.71729917 0.75773963 0.77985687 0.76103367 0.76532774 0.77303347\n",
            " 0.76815125 0.75400441 0.77756285 0.77932752 0.76568066 0.77373938\n",
            " 0.83253243 0.90929576 0.93067772 1.         0.95491263 0.9620595\n",
            " 0.93747175 0.94767743 0.94155988 0.88264915 0.90464877 0.85138506\n",
            " 0.80397408 0.87444344 0.90532525 0.90626639 0.88459032 0.88679616\n",
            " 0.8932372  0.89694304 0.89564898 0.88623738 0.87606106 0.83594416\n",
            " 0.81965029 0.83167953 0.83806175 0.83820881 0.84141461 0.83515\n",
            " 0.83338532 0.82417966 0.82765013 0.82032676 0.8115622  0.80279763\n",
            " 0.83282654 0.82394436 0.82526786 0.82106204 0.82291496 0.82312083\n",
            " 0.83488532 0.84544393 0.84814982 0.84035584 0.84200283 0.90335471\n",
            " 0.87791398 0.85032623 0.84476753 0.84820863 0.84473809 0.84067933\n",
            " 0.84747335 0.85826726 0.84067933 0.8210326  0.8452087  0.8672965\n",
            " 0.86750236 0.88535504 0.82008016 0.77980191 0.72947383 0.67927402\n",
            " 0.63261288 0.5911693  0.55544871 0.52511132 0.49934617 0.47718915\n",
            " 0.45774087 0.44028312 0.42431533 0.40953732 0.39580289 0.38306561\n",
            " 0.37132809 0.36060405 0.35089317 0.34217051]\n",
            "20 day output [[0.33438465]]\n",
            "21 day input [0.75635731 0.76350426 0.766563   0.76621008 0.75579853 0.71729917\n",
            " 0.75773963 0.77985687 0.76103367 0.76532774 0.77303347 0.76815125\n",
            " 0.75400441 0.77756285 0.77932752 0.76568066 0.77373938 0.83253243\n",
            " 0.90929576 0.93067772 1.         0.95491263 0.9620595  0.93747175\n",
            " 0.94767743 0.94155988 0.88264915 0.90464877 0.85138506 0.80397408\n",
            " 0.87444344 0.90532525 0.90626639 0.88459032 0.88679616 0.8932372\n",
            " 0.89694304 0.89564898 0.88623738 0.87606106 0.83594416 0.81965029\n",
            " 0.83167953 0.83806175 0.83820881 0.84141461 0.83515    0.83338532\n",
            " 0.82417966 0.82765013 0.82032676 0.8115622  0.80279763 0.83282654\n",
            " 0.82394436 0.82526786 0.82106204 0.82291496 0.82312083 0.83488532\n",
            " 0.84544393 0.84814982 0.84035584 0.84200283 0.90335471 0.87791398\n",
            " 0.85032623 0.84476753 0.84820863 0.84473809 0.84067933 0.84747335\n",
            " 0.85826726 0.84067933 0.8210326  0.8452087  0.8672965  0.86750236\n",
            " 0.88535504 0.82008016 0.77980191 0.72947383 0.67927402 0.63261288\n",
            " 0.5911693  0.55544871 0.52511132 0.49934617 0.47718915 0.45774087\n",
            " 0.44028312 0.42431533 0.40953732 0.39580289 0.38306561 0.37132809\n",
            " 0.36060405 0.35089317 0.34217051 0.33438465]\n",
            "21 day output [[0.32746285]]\n",
            "22 day input [0.76350426 0.766563   0.76621008 0.75579853 0.71729917 0.75773963\n",
            " 0.77985687 0.76103367 0.76532774 0.77303347 0.76815125 0.75400441\n",
            " 0.77756285 0.77932752 0.76568066 0.77373938 0.83253243 0.90929576\n",
            " 0.93067772 1.         0.95491263 0.9620595  0.93747175 0.94767743\n",
            " 0.94155988 0.88264915 0.90464877 0.85138506 0.80397408 0.87444344\n",
            " 0.90532525 0.90626639 0.88459032 0.88679616 0.8932372  0.89694304\n",
            " 0.89564898 0.88623738 0.87606106 0.83594416 0.81965029 0.83167953\n",
            " 0.83806175 0.83820881 0.84141461 0.83515    0.83338532 0.82417966\n",
            " 0.82765013 0.82032676 0.8115622  0.80279763 0.83282654 0.82394436\n",
            " 0.82526786 0.82106204 0.82291496 0.82312083 0.83488532 0.84544393\n",
            " 0.84814982 0.84035584 0.84200283 0.90335471 0.87791398 0.85032623\n",
            " 0.84476753 0.84820863 0.84473809 0.84067933 0.84747335 0.85826726\n",
            " 0.84067933 0.8210326  0.8452087  0.8672965  0.86750236 0.88535504\n",
            " 0.82008016 0.77980191 0.72947383 0.67927402 0.63261288 0.5911693\n",
            " 0.55544871 0.52511132 0.49934617 0.47718915 0.45774087 0.44028312\n",
            " 0.42431533 0.40953732 0.39580289 0.38306561 0.37132809 0.36060405\n",
            " 0.35089317 0.34217051 0.33438465 0.32746285]\n",
            "22 day output [[0.32131958]]\n",
            "23 day input [0.766563   0.76621008 0.75579853 0.71729917 0.75773963 0.77985687\n",
            " 0.76103367 0.76532774 0.77303347 0.76815125 0.75400441 0.77756285\n",
            " 0.77932752 0.76568066 0.77373938 0.83253243 0.90929576 0.93067772\n",
            " 1.         0.95491263 0.9620595  0.93747175 0.94767743 0.94155988\n",
            " 0.88264915 0.90464877 0.85138506 0.80397408 0.87444344 0.90532525\n",
            " 0.90626639 0.88459032 0.88679616 0.8932372  0.89694304 0.89564898\n",
            " 0.88623738 0.87606106 0.83594416 0.81965029 0.83167953 0.83806175\n",
            " 0.83820881 0.84141461 0.83515    0.83338532 0.82417966 0.82765013\n",
            " 0.82032676 0.8115622  0.80279763 0.83282654 0.82394436 0.82526786\n",
            " 0.82106204 0.82291496 0.82312083 0.83488532 0.84544393 0.84814982\n",
            " 0.84035584 0.84200283 0.90335471 0.87791398 0.85032623 0.84476753\n",
            " 0.84820863 0.84473809 0.84067933 0.84747335 0.85826726 0.84067933\n",
            " 0.8210326  0.8452087  0.8672965  0.86750236 0.88535504 0.82008016\n",
            " 0.77980191 0.72947383 0.67927402 0.63261288 0.5911693  0.55544871\n",
            " 0.52511132 0.49934617 0.47718915 0.45774087 0.44028312 0.42431533\n",
            " 0.40953732 0.39580289 0.38306561 0.37132809 0.36060405 0.35089317\n",
            " 0.34217051 0.33438465 0.32746285 0.32131958]\n",
            "23 day output [[0.31586435]]\n",
            "24 day input [0.76621008 0.75579853 0.71729917 0.75773963 0.77985687 0.76103367\n",
            " 0.76532774 0.77303347 0.76815125 0.75400441 0.77756285 0.77932752\n",
            " 0.76568066 0.77373938 0.83253243 0.90929576 0.93067772 1.\n",
            " 0.95491263 0.9620595  0.93747175 0.94767743 0.94155988 0.88264915\n",
            " 0.90464877 0.85138506 0.80397408 0.87444344 0.90532525 0.90626639\n",
            " 0.88459032 0.88679616 0.8932372  0.89694304 0.89564898 0.88623738\n",
            " 0.87606106 0.83594416 0.81965029 0.83167953 0.83806175 0.83820881\n",
            " 0.84141461 0.83515    0.83338532 0.82417966 0.82765013 0.82032676\n",
            " 0.8115622  0.80279763 0.83282654 0.82394436 0.82526786 0.82106204\n",
            " 0.82291496 0.82312083 0.83488532 0.84544393 0.84814982 0.84035584\n",
            " 0.84200283 0.90335471 0.87791398 0.85032623 0.84476753 0.84820863\n",
            " 0.84473809 0.84067933 0.84747335 0.85826726 0.84067933 0.8210326\n",
            " 0.8452087  0.8672965  0.86750236 0.88535504 0.82008016 0.77980191\n",
            " 0.72947383 0.67927402 0.63261288 0.5911693  0.55544871 0.52511132\n",
            " 0.49934617 0.47718915 0.45774087 0.44028312 0.42431533 0.40953732\n",
            " 0.39580289 0.38306561 0.37132809 0.36060405 0.35089317 0.34217051\n",
            " 0.33438465 0.32746285 0.32131958 0.31586435]\n",
            "24 day output [[0.31100878]]\n",
            "25 day input [0.75579853 0.71729917 0.75773963 0.77985687 0.76103367 0.76532774\n",
            " 0.77303347 0.76815125 0.75400441 0.77756285 0.77932752 0.76568066\n",
            " 0.77373938 0.83253243 0.90929576 0.93067772 1.         0.95491263\n",
            " 0.9620595  0.93747175 0.94767743 0.94155988 0.88264915 0.90464877\n",
            " 0.85138506 0.80397408 0.87444344 0.90532525 0.90626639 0.88459032\n",
            " 0.88679616 0.8932372  0.89694304 0.89564898 0.88623738 0.87606106\n",
            " 0.83594416 0.81965029 0.83167953 0.83806175 0.83820881 0.84141461\n",
            " 0.83515    0.83338532 0.82417966 0.82765013 0.82032676 0.8115622\n",
            " 0.80279763 0.83282654 0.82394436 0.82526786 0.82106204 0.82291496\n",
            " 0.82312083 0.83488532 0.84544393 0.84814982 0.84035584 0.84200283\n",
            " 0.90335471 0.87791398 0.85032623 0.84476753 0.84820863 0.84473809\n",
            " 0.84067933 0.84747335 0.85826726 0.84067933 0.8210326  0.8452087\n",
            " 0.8672965  0.86750236 0.88535504 0.82008016 0.77980191 0.72947383\n",
            " 0.67927402 0.63261288 0.5911693  0.55544871 0.52511132 0.49934617\n",
            " 0.47718915 0.45774087 0.44028312 0.42431533 0.40953732 0.39580289\n",
            " 0.38306561 0.37132809 0.36060405 0.35089317 0.34217051 0.33438465\n",
            " 0.32746285 0.32131958 0.31586435 0.31100878]\n",
            "25 day output [[0.30667168]]\n",
            "26 day input [0.71729917 0.75773963 0.77985687 0.76103367 0.76532774 0.77303347\n",
            " 0.76815125 0.75400441 0.77756285 0.77932752 0.76568066 0.77373938\n",
            " 0.83253243 0.90929576 0.93067772 1.         0.95491263 0.9620595\n",
            " 0.93747175 0.94767743 0.94155988 0.88264915 0.90464877 0.85138506\n",
            " 0.80397408 0.87444344 0.90532525 0.90626639 0.88459032 0.88679616\n",
            " 0.8932372  0.89694304 0.89564898 0.88623738 0.87606106 0.83594416\n",
            " 0.81965029 0.83167953 0.83806175 0.83820881 0.84141461 0.83515\n",
            " 0.83338532 0.82417966 0.82765013 0.82032676 0.8115622  0.80279763\n",
            " 0.83282654 0.82394436 0.82526786 0.82106204 0.82291496 0.82312083\n",
            " 0.83488532 0.84544393 0.84814982 0.84035584 0.84200283 0.90335471\n",
            " 0.87791398 0.85032623 0.84476753 0.84820863 0.84473809 0.84067933\n",
            " 0.84747335 0.85826726 0.84067933 0.8210326  0.8452087  0.8672965\n",
            " 0.86750236 0.88535504 0.82008016 0.77980191 0.72947383 0.67927402\n",
            " 0.63261288 0.5911693  0.55544871 0.52511132 0.49934617 0.47718915\n",
            " 0.45774087 0.44028312 0.42431533 0.40953732 0.39580289 0.38306561\n",
            " 0.37132809 0.36060405 0.35089317 0.34217051 0.33438465 0.32746285\n",
            " 0.32131958 0.31586435 0.31100878 0.30667168]\n",
            "26 day output [[0.30278134]]\n",
            "27 day input [0.75773963 0.77985687 0.76103367 0.76532774 0.77303347 0.76815125\n",
            " 0.75400441 0.77756285 0.77932752 0.76568066 0.77373938 0.83253243\n",
            " 0.90929576 0.93067772 1.         0.95491263 0.9620595  0.93747175\n",
            " 0.94767743 0.94155988 0.88264915 0.90464877 0.85138506 0.80397408\n",
            " 0.87444344 0.90532525 0.90626639 0.88459032 0.88679616 0.8932372\n",
            " 0.89694304 0.89564898 0.88623738 0.87606106 0.83594416 0.81965029\n",
            " 0.83167953 0.83806175 0.83820881 0.84141461 0.83515    0.83338532\n",
            " 0.82417966 0.82765013 0.82032676 0.8115622  0.80279763 0.83282654\n",
            " 0.82394436 0.82526786 0.82106204 0.82291496 0.82312083 0.83488532\n",
            " 0.84544393 0.84814982 0.84035584 0.84200283 0.90335471 0.87791398\n",
            " 0.85032623 0.84476753 0.84820863 0.84473809 0.84067933 0.84747335\n",
            " 0.85826726 0.84067933 0.8210326  0.8452087  0.8672965  0.86750236\n",
            " 0.88535504 0.82008016 0.77980191 0.72947383 0.67927402 0.63261288\n",
            " 0.5911693  0.55544871 0.52511132 0.49934617 0.47718915 0.45774087\n",
            " 0.44028312 0.42431533 0.40953732 0.39580289 0.38306561 0.37132809\n",
            " 0.36060405 0.35089317 0.34217051 0.33438465 0.32746285 0.32131958\n",
            " 0.31586435 0.31100878 0.30667168 0.30278134]\n",
            "27 day output [[0.29927674]]\n",
            "28 day input [0.77985687 0.76103367 0.76532774 0.77303347 0.76815125 0.75400441\n",
            " 0.77756285 0.77932752 0.76568066 0.77373938 0.83253243 0.90929576\n",
            " 0.93067772 1.         0.95491263 0.9620595  0.93747175 0.94767743\n",
            " 0.94155988 0.88264915 0.90464877 0.85138506 0.80397408 0.87444344\n",
            " 0.90532525 0.90626639 0.88459032 0.88679616 0.8932372  0.89694304\n",
            " 0.89564898 0.88623738 0.87606106 0.83594416 0.81965029 0.83167953\n",
            " 0.83806175 0.83820881 0.84141461 0.83515    0.83338532 0.82417966\n",
            " 0.82765013 0.82032676 0.8115622  0.80279763 0.83282654 0.82394436\n",
            " 0.82526786 0.82106204 0.82291496 0.82312083 0.83488532 0.84544393\n",
            " 0.84814982 0.84035584 0.84200283 0.90335471 0.87791398 0.85032623\n",
            " 0.84476753 0.84820863 0.84473809 0.84067933 0.84747335 0.85826726\n",
            " 0.84067933 0.8210326  0.8452087  0.8672965  0.86750236 0.88535504\n",
            " 0.82008016 0.77980191 0.72947383 0.67927402 0.63261288 0.5911693\n",
            " 0.55544871 0.52511132 0.49934617 0.47718915 0.45774087 0.44028312\n",
            " 0.42431533 0.40953732 0.39580289 0.38306561 0.37132809 0.36060405\n",
            " 0.35089317 0.34217051 0.33438465 0.32746285 0.32131958 0.31586435\n",
            " 0.31100878 0.30667168 0.30278134 0.29927674]\n",
            "28 day output [[0.29610625]]\n",
            "29 day input [0.76103367 0.76532774 0.77303347 0.76815125 0.75400441 0.77756285\n",
            " 0.77932752 0.76568066 0.77373938 0.83253243 0.90929576 0.93067772\n",
            " 1.         0.95491263 0.9620595  0.93747175 0.94767743 0.94155988\n",
            " 0.88264915 0.90464877 0.85138506 0.80397408 0.87444344 0.90532525\n",
            " 0.90626639 0.88459032 0.88679616 0.8932372  0.89694304 0.89564898\n",
            " 0.88623738 0.87606106 0.83594416 0.81965029 0.83167953 0.83806175\n",
            " 0.83820881 0.84141461 0.83515    0.83338532 0.82417966 0.82765013\n",
            " 0.82032676 0.8115622  0.80279763 0.83282654 0.82394436 0.82526786\n",
            " 0.82106204 0.82291496 0.82312083 0.83488532 0.84544393 0.84814982\n",
            " 0.84035584 0.84200283 0.90335471 0.87791398 0.85032623 0.84476753\n",
            " 0.84820863 0.84473809 0.84067933 0.84747335 0.85826726 0.84067933\n",
            " 0.8210326  0.8452087  0.8672965  0.86750236 0.88535504 0.82008016\n",
            " 0.77980191 0.72947383 0.67927402 0.63261288 0.5911693  0.55544871\n",
            " 0.52511132 0.49934617 0.47718915 0.45774087 0.44028312 0.42431533\n",
            " 0.40953732 0.39580289 0.38306561 0.37132809 0.36060405 0.35089317\n",
            " 0.34217051 0.33438465 0.32746285 0.32131958 0.31586435 0.31100878\n",
            " 0.30667168 0.30278134 0.29927674 0.29610625]\n",
            "29 day output [[0.29322687]]\n",
            "[[0.8200801610946655], [0.7798019051551819], [0.7294738292694092], [0.6792740225791931], [0.6326128840446472], [0.5911692976951599], [0.5554487109184265], [0.5251113176345825], [0.49934616684913635], [0.47718915343284607], [0.4577408730983734], [0.4402831196784973], [0.42431533336639404], [0.40953731536865234], [0.39580288529396057], [0.3830656111240387], [0.37132808566093445], [0.36060404777526855], [0.35089316964149475], [0.34217050671577454], [0.33438464999198914], [0.3274628520011902], [0.321319580078125], [0.31586435437202454], [0.3110087811946869], [0.306671679019928], [0.302781343460083], [0.299276739358902], [0.2961062490940094], [0.29322686791419983]]\n"
          ]
        }
      ]
    },
    {
      "cell_type": "code",
      "metadata": {
        "id": "IlnftgYC09yG"
      },
      "source": [
        "day_new=np.arange(1,101)\n",
        "day_pred=np.arange(101,131)"
      ],
      "execution_count": null,
      "outputs": []
    },
    {
      "cell_type": "code",
      "metadata": {
        "id": "bze8nU5i097V"
      },
      "source": [
        "import matplotlib.pyplot as plt"
      ],
      "execution_count": null,
      "outputs": []
    },
    {
      "cell_type": "code",
      "metadata": {
        "id": "VRcB21k71G4L",
        "colab": {
          "base_uri": "https://localhost:8080/"
        },
        "outputId": "4d5cb0c0-19a5-4b25-f7f7-306cc4941b9d"
      },
      "source": [
        "len(df1)"
      ],
      "execution_count": null,
      "outputs": [
        {
          "output_type": "execute_result",
          "data": {
            "text/plain": [
              "4756"
            ]
          },
          "metadata": {},
          "execution_count": 46
        }
      ]
    },
    {
      "cell_type": "code",
      "metadata": {
        "id": "TEVjz_Qy1Jec",
        "colab": {
          "base_uri": "https://localhost:8080/",
          "height": 469
        },
        "outputId": "bb46560a-c87b-4d10-8a5b-227e8ed28222"
      },
      "source": [
        "plt.plot(day_new,scaler.inverse_transform(df1[4656:]))\n",
        "plt.plot(day_pred,scaler.inverse_transform(lst_output))\n",
        "plt.title('Adani Prediction of Next 30 Days')"
      ],
      "execution_count": null,
      "outputs": [
        {
          "output_type": "execute_result",
          "data": {
            "text/plain": [
              "Text(0.5, 1.0, 'Adani Prediction of Next 30 Days')"
            ]
          },
          "metadata": {},
          "execution_count": 47
        },
        {
          "output_type": "display_data",
          "data": {
            "image/png": "[encoded data removed]",
            "text/plain": [
              "<Figure size 640x480 with 1 Axes>"
            ]
          },
          "metadata": {}
        }
      ]
    },
    {
      "cell_type": "code",
      "metadata": {
        "id": "ESp1lp3R1LfH",
        "colab": {
          "base_uri": "https://localhost:8080/",
          "height": 447
        },
        "outputId": "ff407e74-2460-402d-8545-5e652cbbdc55"
      },
      "source": [
        "df3=df1.tolist()\n",
        "df3.extend(lst_output)\n",
        "plt.plot(df3[4230:])"
      ],
      "execution_count": null,
      "outputs": [
        {
          "output_type": "execute_result",
          "data": {
            "text/plain": [
              "[<matplotlib.lines.Line2D at 0x7f697f2129d0>]"
            ]
          },
          "metadata": {},
          "execution_count": 48
        },
        {
          "output_type": "display_data",
          "data": {
            "image/png": "[encoded data removed]",
            "text/plain": [
              "<Figure size 640x480 with 1 Axes>"
            ]
          },
          "metadata": {}
        }
      ]
    },
    {
      "cell_type": "code",
      "metadata": {
        "id": "OQK_oXwD1Lxv"
      },
      "source": [
        "df3=scaler.inverse_transform(df3).tolist()"
      ],
      "execution_count": null,
      "outputs": []
    },
    {
      "cell_type": "code",
      "metadata": {
        "id": "X3DpOmIs1MCQ",
        "colab": {
          "base_uri": "https://localhost:8080/",
          "height": 447
        },
        "outputId": "188ba7fa-486b-43e3-cc04-5f42674891c0"
      },
      "source": [
        "plt.plot(df3)"
      ],
      "execution_count": null,
      "outputs": [
        {
          "output_type": "execute_result",
          "data": {
            "text/plain": [
              "[<matplotlib.lines.Line2D at 0x7f697ec05190>]"
            ]
          },
          "metadata": {},
          "execution_count": 50
        },
        {
          "output_type": "display_data",
          "data": {
            "image/png": "[encoded data removed]",
            "text/plain": [
              "<Figure size 640x480 with 1 Axes>"
            ]
          },
          "metadata": {}
        }
      ]
    }
  ]
}